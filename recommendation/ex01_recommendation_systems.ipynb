{
 "cells": [
  {
   "cell_type": "markdown",
   "id": "60472855",
   "metadata": {
    "id": "60472855"
   },
   "source": [
    "# __Recommendation Systems__"
   ]
  },
  {
   "cell_type": "markdown",
   "id": "5931d107",
   "metadata": {
    "id": "5931d107"
   },
   "source": [
    "## __Agenda__"
   ]
  },
  {
   "cell_type": "markdown",
   "id": "h1HObxVdo0UJ",
   "metadata": {
    "id": "h1HObxVdo0UJ"
   },
   "source": [
    "* **Overview of Recommendation Systems**\n",
    "  * **What are Recommendation Systems?**\n",
    "  * **Importance and Applications**\n",
    "\n",
    "* **Examples of Recommendation Systems**\n",
    "  * **Enhanced Book Discovery Recommendations**\n",
    "  * **Hyper-Personalized Media Recommendations**\n",
    "  * **Viewed Items Recommendations**\n",
    "  * **Enhanced Product Discovery Recommendations**\n",
    "\n",
    "* **Types of Recommendation Systems**\n",
    "  * **Collaborative Filtering**\n",
    "    - **Memory-Based Collaborative Filtering**\n",
    "      - User-Based Collaborative Filtering\n",
    "      - Item-Based Collaborative Filtering\n",
    "    - **Model-Based Collaborative Filtering**\n",
    "      - Matrix Factorization (MF)\n",
    "      - Singular Value Decomposition (SVD)\n",
    "  * **Content-Based Filtering**\n",
    "  * **Hybrid Filtering**\n",
    "\n",
    "* **Advanced Techniques in Recommendation Systems**\n",
    "  * **The GetTopN Function**\n",
    "  * **Hit Rate**\n",
    "\n",
    "* **Addressing Challenges in Recommendation Systems**\n",
    "  * **Cold Start Problem**\n",
    "  * **Implicit and Explicit Feedback**\n"
   ]
  },
  {
   "cell_type": "markdown",
   "id": "LpHpiEinrh_G",
   "metadata": {
    "id": "LpHpiEinrh_G"
   },
   "source": [
    "# **1.1 Overview of Recommendation Systems**"
   ]
  },
  {
   "cell_type": "markdown",
   "id": "8199dfcd",
   "metadata": {
    "id": "8199dfcd"
   },
   "source": [
    "## **1.1.1 What are Recommendation Systems?**\n",
    "\n",
    "Recommendation Systems are software tools and algorithms that provide suggestions for products, services, or information to users. The suggestions are tailored to the user’s preferences, based on data about their previous behavior and preferences.\n",
    "\n",
    "\n",
    "The underlying function of a recommendation system can be represented as:\n",
    "$$ f: \\text{User} \\times \\text{Item} \\rightarrow \\text{Rating} $$\n",
    "\n",
    "\n",
    "\n",
    "- **f**: represents the predictive function that estimates the utility (or rating) of an item for a particular user.\n",
    "\n",
    "- **User**: represents the set of all users in the system. Each user is a potential recipient of recommendations.\n",
    "\n",
    "- **Item**: represents the set of all items available for recommendation. These can include products, services, media content, or any other entities that the system recommends.\n",
    "\n",
    "- **Rating**: represents predicted rating or preference score that a user would give to an item, which can be used to generate personalized recommendations.\n",
    "\n"
   ]
  },
  {
   "cell_type": "markdown",
   "id": "44f470b8",
   "metadata": {
    "id": "44f470b8"
   },
   "source": [
    "![link text](http://labcontent.simplicdn.net/data-content/content-assets/Data_and_AI/ML/Lesson_07/recommendation_system_edited.png)"
   ]
  },
  {
   "cell_type": "markdown",
   "id": "0c81ed07",
   "metadata": {
    "id": "0c81ed07"
   },
   "source": [
    "# __1.2 Examples of Recommendation System__"
   ]
  },
  {
   "cell_type": "markdown",
   "id": "LrAvwW1AINLM",
   "metadata": {
    "id": "LrAvwW1AINLM"
   },
   "source": [
    "Let's explore how recommendation systems enhance user experiences across various platforms by providing personalized suggestions, from books and media to products tailored to individual preferences. We'll delve into specific examples, showcasing the profound impact of these systems in different industries.\n"
   ]
  },
  {
   "cell_type": "markdown",
   "id": "50d7bde2",
   "metadata": {
    "id": "50d7bde2"
   },
   "source": [
    "### __1.2.1 Enhanced Book Discovery Recommendations__\n",
    "\n",
    "Goodreads' __READERS ALSO ENJOYED__ and __See similar books__ features suggest books based on user preferences and past reads, enhancing discovery and facilitating exploration of similar titles."
   ]
  },
  {
   "cell_type": "markdown",
   "id": "NVLAAhXJJj6u",
   "metadata": {
    "id": "NVLAAhXJJj6u"
   },
   "source": [
    "### Mathematical Concept:\n",
    "To calculate the similarity between two users or items, Pearson correlation may be used:\n",
    "\n",
    "$$\n",
    "r = \\frac{\\sum (x - \\overline{x})(y - \\overline{y})}{\\sqrt{\\sum (x - \\overline{x})^2} \\sqrt{\\sum (y - \\overline{y})^2}}\n",
    "$$\n",
    "\n",
    "Where:\n",
    "\n",
    "$$\n",
    "\\text{• } \\textbf{x} \\text{ and } \\textbf{y} \\text{ are the ratings given by two different users to the same items.}\n",
    "$$\n",
    "\n",
    "$$\n",
    "\\text{• } \\overline{x} \\text{ and } \\overline{y} \\text{ represent the average ratings given for those items by the two users.}\n",
    "$$\n",
    "\n",
    "\n",
    "\n",
    "\n",
    "\n",
    "\n",
    "\n",
    "\n",
    "This formula measures how closely the ratings by two users (or two items) align, indicating the degree of similarity between their preferences.\n"
   ]
  },
  {
   "cell_type": "markdown",
   "id": "ce4c5193",
   "metadata": {
    "id": "ce4c5193"
   },
   "source": [
    "![link text](https://labcontent.simplicdn.net/data-content/content-assets/Data_and_AI/ML/Lesson_08/Enhanced_Recommendations.png)"
   ]
  },
  {
   "cell_type": "markdown",
   "id": "8c7cff51",
   "metadata": {
    "id": "8c7cff51"
   },
   "source": [
    "### __1.2.2 Hyper-Personalized Media Recommendations__\n",
    "\n",
    "Netflix and Spotify deliver tailored media suggestions by leveraging complex algorithms to analyze users' viewing and listening habits, optimizing content personalization to enhance engagement and satisfaction."
   ]
  },
  {
   "cell_type": "markdown",
   "id": "7e40e36b",
   "metadata": {
    "id": "7e40e36b"
   },
   "source": [
    "![link text](https://labcontent.simplicdn.net/data-content/content-assets/Data_and_AI/ML/Lesson_08/Hyper_Personalized_Media_Recommendations.png)"
   ]
  },
  {
   "cell_type": "markdown",
   "id": "1289c7d0",
   "metadata": {
    "id": "1289c7d0"
   },
   "source": [
    "### __1.2.3 Viewed Items Recommendations__\n",
    "\n",
    "E-commerce platforms like Amazon enhance shopping experiences by recommending products related to items users have viewed, increasing product visibility and potential sales through smart, context-aware suggestions."
   ]
  },
  {
   "cell_type": "markdown",
   "id": "7ad19afa",
   "metadata": {
    "id": "7ad19afa"
   },
   "source": [
    "![link text](https://labcontent.simplicdn.net/data-content/content-assets/Data_and_AI/ML/Lesson_08/Viewed_Items_Recommendation.png)"
   ]
  },
  {
   "cell_type": "markdown",
   "id": "646d6a9f",
   "metadata": {
    "id": "646d6a9f"
   },
   "source": [
    "### __1.2.4 Enhanced Product Discovery Recommendations__\n",
    "\n",
    "Retailers like AlvaQ and Fisoew use recommendation systems to suggest more products based on user search behavior. This enhances product discovery and encourages additional purchases."
   ]
  },
  {
   "cell_type": "markdown",
   "id": "8d14f2e5",
   "metadata": {
    "id": "8d14f2e5"
   },
   "source": [
    "![link text](https://labcontent.simplicdn.net/data-content/content-assets/Data_and_AI/ML/Lesson_08/Enhanced_Product_Discovery_Recommendation.png)"
   ]
  },
  {
   "cell_type": "markdown",
   "id": "bcbeb519",
   "metadata": {
    "id": "bcbeb519"
   },
   "source": [
    "# __1.3 Types of Recommendation Systems__\n",
    "\n",
    "\n",
    "There are three types of recommendation systems, each utilizing different techniques to generate personalized recommendations:\n",
    "\n",
    "- Collaborative filtering\n",
    "- Content filtering\n",
    "- Hybrid filtering"
   ]
  },
  {
   "cell_type": "markdown",
   "id": "3bf9e053",
   "metadata": {
    "id": "3bf9e053"
   },
   "source": [
    "### __1.3.1 Collaborative Filtering__\n",
    "\n",
    "Collaborative filtering algorithms recommend items by analyzing user preferences collected from numerous users. They predict future behavior by identifying patterns in historical data, such as which movies users have enjoyed, allowing the system to suggest items with a high likelihood of user agreement.\n",
    "\n",
    "For example, if two users have similar tastes in movies, the system might recommend a new movie to one user that the other has favorably rated.\n",
    "\n",
    "## Mathematical Concept:\n",
    "\n",
    "To quantify the similarity between user preferences, collaborative filtering uses cosine similarity, where user ratings are vectors in a multidimensional space:\n",
    "$$\n",
    "\\text{similarity} = \\cos(\\theta) = \\frac{\\mathbf{A} \\cdot \\mathbf{B}}{\\|\\mathbf{A}\\|\\|\\mathbf{B}\\|}\n",
    "$$\n",
    "Where:\n",
    "- $\\mathbf{A}$ and $\\mathbf{B}$ are vectors representing user ratings.\n",
    "- $\\theta$ is the angle between these vectors, which indicates the degree of similarity in user preferences.\n",
    "\n",
    "\n",
    "A smaller angle (or higher cosine similarity) indicates more closely aligned preferences, suggesting that users will likely enjoy similar items. This approach enables more precise recommendations based on shared user interests.\n"
   ]
  },
  {
   "cell_type": "markdown",
   "id": "qTLHK7Wfzcg5",
   "metadata": {
    "id": "qTLHK7Wfzcg5"
   },
   "source": [
    "![link text](https://labcontent.simplicdn.net/data-content/content-assets/Data_and_AI/ML/updated/Lesson_08/Collaborative_Filtering.png)"
   ]
  },
  {
   "cell_type": "markdown",
   "id": "97fa5279",
   "metadata": {
    "id": "97fa5279"
   },
   "source": [
    "There are mainly two types of collaborative filtering techniques:\n",
    "\n",
    "- Memory-based collaborative filtering\n",
    "- Model-based collaborative filtering"
   ]
  },
  {
   "cell_type": "markdown",
   "id": "c8a40986",
   "metadata": {
    "id": "c8a40986"
   },
   "source": [
    "### __.3.1.1 Memory-Based Collaborative Filtering__\n",
    "\n",
    "Memory-based collaborative filtering is a fundamental approach within recommendation systems that generates predictions based on the entire database of user-item interactions. This method leverages historical data from user ratings to recommend new items or predict user ratings. It operates on the assumption that those who agreed in the past will agree again in the future.\n",
    "\n",
    "There are two primary strategies within memory-based collaborative filtering:\n",
    "\n",
    "- User-based collaborative filtering\n",
    "- Item-based collaborative filtering"
   ]
  },
  {
   "cell_type": "markdown",
   "id": "ec4d1f68",
   "metadata": {
    "id": "ec4d1f68"
   },
   "source": [
    "### __User-Based Collaborative Filtering__\n",
    "\n",
    "User-based collaborative filtering is a recommendation technique that suggests items or content to a target user based on the preferences and behaviors of similar users. It operates under the assumption that users who have interacted with similar items in the past will continue to have similar preferences in the future."
   ]
  },
  {
   "cell_type": "markdown",
   "id": "sFUujxbxDwsw",
   "metadata": {
    "id": "sFUujxbxDwsw"
   },
   "source": [
    "#### To measure similarity between two users \\(u\\) and \\(v\\), cosine similarity can be used:\n",
    "\n",
    "The similarity between two users, \\( u \\) and \\( v \\), can be quantified using cosine similarity, which is particularly useful in user-based collaborative filtering. The formula for cosine similarity is as follows:\n",
    "\n",
    "$$\n",
    "\\text{similarity}(u, v) = \\cos(\\theta) = \\frac{\\sum_{i \\in I} r_{ui} \\cdot r_{vi}}{\\sqrt{\\sum_{i \\in I} r_{ui}^2} \\cdot \\sqrt{\\sum_{i \\in I} r_{vi}^2}}\n",
    "$$\n",
    "\n",
    "#### Variables:\n",
    "- $r_ui$ and r_vi: Ratings given by users u and v to item i.\n",
    "- I: The set of items that both users have rated.\n",
    "- theta: The angle between the rating vectors of u and v, where a smaller angle indicates a higher similarity.\n",
    "\n",
    "\n",
    "This approach calculates the cosine of the angle between the two users' rating vectors, effectively measuring their similarity based on the items they have both rated.\n"
   ]
  },
  {
   "cell_type": "markdown",
   "id": "82289fdf",
   "metadata": {
    "id": "82289fdf"
   },
   "source": [
    "#### __Example:__\n",
    "\n",
    "Let's explore an example of user-based collaborative filtering using the `anime.csv` and `rating.csv` datasets. In the `rating.csv` file, each row represents a user's rating for a specific anime. By merging this dataset with `anime.csv` based on anime IDs, you can construct a user-item interaction matrix. In this matrix, rows correspond to users, columns represent anime titles, and the values are the ratings. This matrix is crucial for performing similarity calculations.\n",
    "\n",
    "To measure the similarity between users' anime preferences, you'll use the `cosine_similarity` function. Here, each user's preferences are depicted as vectors in a high-dimensional space, where each dimension corresponds to an anime title. Cosine similarity quantifies the similarity of these vectors by calculating the cosine of the angle between them. Higher scores suggest a greater similarity among users' preferences."
   ]
  },
  {
   "cell_type": "code",
   "execution_count": null,
   "id": "ceaac891",
   "metadata": {
    "id": "ceaac891"
   },
   "outputs": [],
   "source": [
    "import pandas as pd\n",
    "import numpy as np\n",
    "import scipy.stats\n",
    "import seaborn as sns\n",
    "from sklearn.metrics.pairwise import cosine_similarity\n",
    "import matplotlib.pyplot as plt\n",
    "import statistics\n",
    "import operator"
   ]
  },
  {
   "cell_type": "markdown",
   "id": "248d48d6",
   "metadata": {
    "id": "248d48d6"
   },
   "source": [
    "The anime.csv dataset contains information about the following columns:\n",
    "\n",
    "- anime_id: An identifier for the anime\n",
    "- name: The name of the anime\n",
    "- genre: The genre(s) of the anime\n",
    "- type: The type of anime (e.g., TV, Movie)\n",
    "- episodes: The number of episodes (Note: This is an object type, suggesting some non-numeric values may be present.)\n",
    "- rating: The rating of the anime\n",
    "- members: The number of members who have added this anime to their list"
   ]
  },
  {
   "cell_type": "code",
   "execution_count": null,
   "id": "db4d0f1a",
   "metadata": {
    "executionInfo": {
     "elapsed": 166,
     "status": "ok",
     "timestamp": 1728847411370,
     "user": {
      "displayName": "Fabien Marpeau",
      "userId": "15210978490258687001"
     },
     "user_tz": 300
    },
    "id": "db4d0f1a"
   },
   "outputs": [],
   "source": [
    "# load the data from 'anime.csv' into a DataFrame named 'animes'.\n",
    "animes = pd.read_csv('./data/anime.csv')\n",
    "# Display the first five rows of the DataFrame using the 'head()' method to provide a quick overview of the dataset structure and content.\n",
    "animes.head()"
   ]
  },
  {
   "cell_type": "code",
   "execution_count": null,
   "id": "vGruI2m1VwjN",
   "metadata": {
    "id": "vGruI2m1VwjN"
   },
   "outputs": [],
   "source": [
    "# Read the rating.csv file and store its contents in the 'ratings' dataframe\n",
    "ratings = pd.read_csv('./data/rating.csv')\n",
    "ratings.head()"
   ]
  },
  {
   "cell_type": "markdown",
   "id": "bf459772",
   "metadata": {
    "id": "bf459772"
   },
   "source": [
    "__Observations:__\n",
    "\n",
    "- The __genre__ column has 62 missing values, while the __type__ column has 25 missing values.\n",
    "- The __rating__ column has 230 missing values, indicating a significant portion of the data is absent.\n",
    "- Other columns, such as __anime_id__, __name__, __episodes__, and __members__, have no missing values."
   ]
  },
  {
   "cell_type": "code",
   "execution_count": null,
   "id": "NOslt2ieMUB_",
   "metadata": {
    "executionInfo": {
     "elapsed": 149,
     "status": "ok",
     "timestamp": 1728847417448,
     "user": {
      "displayName": "Fabien Marpeau",
      "userId": "15210978490258687001"
     },
     "user_tz": 300
    },
    "id": "NOslt2ieMUB_"
   },
   "outputs": [],
   "source": [
    "# Use the 'info()' method to output a concise summary of the DataFrame, including the number of non-null entries in each column, the data type of each column, and memory usage.\n",
    "animes.info()\n",
    "# Calculates the total number of missing (null) values in each column using the 'isnull().sum()' method, helping to identify columns that might require cleaning or further investigation due to missing data.\n",
    "animes.isnull().sum()"
   ]
  },
  {
   "cell_type": "code",
   "execution_count": null,
   "id": "0deb844a",
   "metadata": {
    "executionInfo": {
     "elapsed": 147,
     "status": "ok",
     "timestamp": 1728847425709,
     "user": {
      "displayName": "Fabien Marpeau",
      "userId": "15210978490258687001"
     },
     "user_tz": 300
    },
    "id": "0deb844a"
   },
   "outputs": [],
   "source": [
    "import matplotlib.pyplot as plt\n",
    "import seaborn as sns\n",
    "\n",
    "# Handle missing values\n",
    "animes['genre'].fillna('Unknown', inplace=True)\n",
    "animes['type'].fillna('Unknown', inplace=True)\n",
    "\n",
    "# Convert the 'episodes' column in the 'animes' dataframe to numeric data type using\n",
    "# the pd.to_numeric() function, with any non-convertible values replaced by 0\n",
    "animes['episodes'] = pd.to_numeric(animes['episodes'], errors='coerce').fillna(0)\n",
    "\n",
    "# Fill missing ratings with mean rating\n",
    "animes['rating'].fillna(animes['rating'].mean(), inplace=True)"
   ]
  },
  {
   "cell_type": "code",
   "execution_count": null,
   "id": "f012f771",
   "metadata": {
    "executionInfo": {
     "elapsed": 146,
     "status": "ok",
     "timestamp": 1728847431616,
     "user": {
      "displayName": "Fabien Marpeau",
      "userId": "15210978490258687001"
     },
     "user_tz": 300
    },
    "id": "f012f771"
   },
   "outputs": [],
   "source": [
    "# Generate descriptive statistics for the numerical columns of the 'animes' DataFrame\n",
    "animes.describe()"
   ]
  },
  {
   "cell_type": "code",
   "execution_count": null,
   "id": "05daee48",
   "metadata": {
    "executionInfo": {
     "elapsed": 157,
     "status": "ok",
     "timestamp": 1728847436556,
     "user": {
      "displayName": "Fabien Marpeau",
      "userId": "15210978490258687001"
     },
     "user_tz": 300
    },
    "id": "05daee48"
   },
   "outputs": [],
   "source": [
    "# Analyzing categorical variables\n",
    "type_counts = animes['type'].value_counts()\n",
    "genre_counts = animes['genre'].str.split(', ').explode().value_counts().head(10)\n",
    "\n",
    "# Plotting the distributions\n",
    "fig, ax = plt.subplots(1, 2, figsize=(14, 6))\n",
    "\n",
    "type_counts.plot(kind='bar', ax=ax[0], color='skyblue')\n",
    "ax[0].set_title('Distribution of Anime Types')\n",
    "ax[0].set_ylabel('Frequency')\n",
    "ax[0].set_xlabel('Type')\n",
    "\n",
    "genre_counts.plot(kind='bar', ax=ax[1], color='lightgreen')\n",
    "ax[1].set_title('Top 10 Most Common Genres')\n",
    "ax[1].set_ylabel('Frequency')\n",
    "ax[1].set_xlabel('Genre')\n",
    "\n",
    "plt.tight_layout()\n",
    "plt.show()"
   ]
  },
  {
   "cell_type": "markdown",
   "id": "1fb5b1a2",
   "metadata": {
    "id": "1fb5b1a2"
   },
   "source": [
    "__Observations:__\n",
    "\n",
    "__Distribution of anime types__\n",
    "- TV and OVA formats dominate the dataset, with movies also being notably common.\n",
    "- Specials, ONAs, and music types are less prevalent, indicating niche categories.\n",
    "\n",
    "__Top 10 most common genres__\n",
    "- Comedy, action, and adventure are the top genres, signifying popular themes in anime.\n",
    "- Fantasy and sci-fi also feature prominently, reflecting a taste for imaginative storytelling."
   ]
  },
  {
   "cell_type": "markdown",
   "id": "97e8052b",
   "metadata": {
    "id": "97e8052b"
   },
   "source": [
    "- Exploratory Data Analysis (EDA) on __rating__ dataset"
   ]
  },
  {
   "cell_type": "code",
   "execution_count": null,
   "id": "08bad819",
   "metadata": {
    "id": "08bad819"
   },
   "outputs": [],
   "source": [
    "# Read the rating.csv file and store its contents in the 'ratings' dataframe\n",
    "ratings = pd.read_csv('/content/rating.csv')"
   ]
  },
  {
   "cell_type": "code",
   "execution_count": null,
   "id": "2dcd36ac",
   "metadata": {
    "executionInfo": {
     "elapsed": 136,
     "status": "ok",
     "timestamp": 1728847444870,
     "user": {
      "displayName": "Fabien Marpeau",
      "userId": "15210978490258687001"
     },
     "user_tz": 300
    },
    "id": "2dcd36ac"
   },
   "outputs": [],
   "source": [
    "# Exclude rows where the rating is -1 (implying missing or few ratings from individuals)\n",
    "ratings = ratings[ratings.rating != -1]\n",
    "\n",
    "# Display the first few rows of the filtered ratings dataset\n",
    "ratings.head()"
   ]
  },
  {
   "cell_type": "code",
   "execution_count": null,
   "id": "33f6bc09",
   "metadata": {
    "executionInfo": {
     "elapsed": 163,
     "status": "ok",
     "timestamp": 1728847496457,
     "user": {
      "displayName": "Fabien Marpeau",
      "userId": "15210978490258687001"
     },
     "user_tz": 300
    },
    "id": "33f6bc09"
   },
   "outputs": [],
   "source": [
    "# Display concise summary information about the 'ratings' DataFrame\n",
    "ratings.info()"
   ]
  },
  {
   "cell_type": "code",
   "execution_count": null,
   "id": "2822983b",
   "metadata": {
    "executionInfo": {
     "elapsed": 145,
     "status": "ok",
     "timestamp": 1728847501081,
     "user": {
      "displayName": "Fabien Marpeau",
      "userId": "15210978490258687001"
     },
     "user_tz": 300
    },
    "id": "2822983b"
   },
   "outputs": [],
   "source": [
    "# Count the number of missing values in each column of the 'ratings' DataFrame\n",
    "ratings.isnull().sum()"
   ]
  },
  {
   "cell_type": "markdown",
   "id": "59bc78c7",
   "metadata": {
    "id": "59bc78c7"
   },
   "source": [
    "__Observation:__\n",
    "    \n",
    "- There are no missing values in the user_id, anime_id, and we will drop the row of missing valuse from rating columns of the ratings dataset."
   ]
  },
  {
   "cell_type": "code",
   "execution_count": null,
   "id": "4WTD-Hhc2Y3x",
   "metadata": {
    "id": "4WTD-Hhc2Y3x"
   },
   "outputs": [],
   "source": [
    "# Handling missing values\n",
    "# Drop rows with any missing values\n",
    "ratings_dropped = ratings.dropna()"
   ]
  },
  {
   "cell_type": "code",
   "execution_count": null,
   "id": "aee927f3",
   "metadata": {
    "executionInfo": {
     "elapsed": 201,
     "status": "ok",
     "timestamp": 1728847506581,
     "user": {
      "displayName": "Fabien Marpeau",
      "userId": "15210978490258687001"
     },
     "user_tz": 300
    },
    "id": "aee927f3"
   },
   "outputs": [],
   "source": [
    "# Generate descriptive statistics for the numerical columns of the 'ratings' DataFrame\n",
    "ratings.describe()"
   ]
  },
  {
   "cell_type": "code",
   "execution_count": null,
   "id": "b6c341a0",
   "metadata": {
    "executionInfo": {
     "elapsed": 106,
     "status": "ok",
     "timestamp": 1728847512693,
     "user": {
      "displayName": "Fabien Marpeau",
      "userId": "15210978490258687001"
     },
     "user_tz": 300
    },
    "id": "b6c341a0"
   },
   "outputs": [],
   "source": [
    "# Calculate the length of the filtered ratings dataset\n",
    "len(ratings)"
   ]
  },
  {
   "cell_type": "code",
   "execution_count": null,
   "id": "2d7e5c1e",
   "metadata": {
    "executionInfo": {
     "elapsed": 144,
     "status": "ok",
     "timestamp": 1728847516629,
     "user": {
      "displayName": "Fabien Marpeau",
      "userId": "15210978490258687001"
     },
     "user_tz": 300
    },
    "id": "2d7e5c1e"
   },
   "outputs": [],
   "source": [
    "# Calculate the number of unique user IDs in the filtered ratings dataset\n",
    "len(ratings['user_id'].unique())"
   ]
  },
  {
   "cell_type": "code",
   "execution_count": null,
   "id": "92491117",
   "metadata": {
    "executionInfo": {
     "elapsed": 120,
     "status": "ok",
     "timestamp": 1728847521224,
     "user": {
      "displayName": "Fabien Marpeau",
      "userId": "15210978490258687001"
     },
     "user_tz": 300
    },
    "id": "92491117"
   },
   "outputs": [],
   "source": [
    "# Calculate the number of unique anime IDs in the 'animes' dataset\n",
    "len(animes['anime_id'].unique())"
   ]
  },
  {
   "cell_type": "code",
   "execution_count": null,
   "id": "e21beca7",
   "metadata": {
    "executionInfo": {
     "elapsed": 140,
     "status": "ok",
     "timestamp": 1728847525845,
     "user": {
      "displayName": "Fabien Marpeau",
      "userId": "15210978490258687001"
     },
     "user_tz": 300
    },
    "id": "e21beca7"
   },
   "outputs": [],
   "source": [
    "import statistics\n",
    "\n",
    "# Calculate the number of ratings per user\n",
    "ratings_per_user = ratings.groupby('user_id')['rating'].count()\n",
    "\n",
    "# Calculate the mean number of ratings per user\n",
    "mean_ratings_per_user = statistics.mean(ratings_per_user.tolist())\n",
    "mean_ratings_per_user"
   ]
  },
  {
   "cell_type": "markdown",
   "id": "geUbzyGccppU",
   "metadata": {
    "id": "geUbzyGccppU"
   },
   "source": [
    "__Observations:__\n",
    "- The average user has rated about 91 items, indicating a moderately active engagement in rating items within the dataset.\n",
    "- With an average of 91 ratings per user, the dataset shows a balance of user activity that is not skewed by extremely active users."
   ]
  },
  {
   "cell_type": "code",
   "execution_count": null,
   "id": "9365e4ae",
   "metadata": {
    "executionInfo": {
     "elapsed": 123,
     "status": "ok",
     "timestamp": 1728847534243,
     "user": {
      "displayName": "Fabien Marpeau",
      "userId": "15210978490258687001"
     },
     "user_tz": 300
    },
    "id": "9365e4ae"
   },
   "outputs": [],
   "source": [
    "import matplotlib.pyplot as plt\n",
    "\n",
    "# Plot a histogram of the number of ratings per user\n",
    "ratings_per_user.hist(bins=20, range=(0,500))\n",
    "plt.xlabel('Number of Ratings per User')\n",
    "plt.ylabel('Frequency')\n",
    "plt.title('Distribution of Ratings per User')\n",
    "plt.show()"
   ]
  },
  {
   "cell_type": "markdown",
   "id": "ld6KXmrmYSvA",
   "metadata": {
    "id": "ld6KXmrmYSvA"
   },
   "source": [
    "__Observations:__\n",
    "- The histogram displays a right-skewed distribution, indicating that most users have rated fewer than 100 items.\n",
    "- A very small number of users have rated between 100 and 500 items, with the frequency decreasing as the number of ratings increases.\n",
    "- As shown by the bars approaching zero frequency, users providing a high number of ratings are exceedingly rare."
   ]
  },
  {
   "cell_type": "code",
   "execution_count": null,
   "id": "TgZWdo92OWkP",
   "metadata": {
    "executionInfo": {
     "elapsed": 141,
     "status": "ok",
     "timestamp": 1728847541087,
     "user": {
      "displayName": "Fabien Marpeau",
      "userId": "15210978490258687001"
     },
     "user_tz": 300
    },
    "id": "TgZWdo92OWkP"
   },
   "outputs": [],
   "source": [
    "ratings.head(10)"
   ]
  },
  {
   "cell_type": "code",
   "execution_count": null,
   "id": "9eb1988d",
   "metadata": {
    "id": "9eb1988d"
   },
   "outputs": [],
   "source": [
    "# Calculate the number of ratings per anime\n",
    "ratings_per_anime = ratings.groupby('anime_id')['rating'].count()"
   ]
  },
  {
   "cell_type": "code",
   "execution_count": null,
   "id": "oC1s9UbQOf69",
   "metadata": {
    "executionInfo": {
     "elapsed": 149,
     "status": "ok",
     "timestamp": 1728847545799,
     "user": {
      "displayName": "Fabien Marpeau",
      "userId": "15210978490258687001"
     },
     "user_tz": 300
    },
    "id": "oC1s9UbQOf69"
   },
   "outputs": [],
   "source": [
    "ratings_per_anime.head()"
   ]
  },
  {
   "cell_type": "code",
   "execution_count": null,
   "id": "pjRcXUtZOcj6",
   "metadata": {
    "executionInfo": {
     "elapsed": 116,
     "status": "ok",
     "timestamp": 1728847551139,
     "user": {
      "displayName": "Fabien Marpeau",
      "userId": "15210978490258687001"
     },
     "user_tz": 300
    },
    "id": "pjRcXUtZOcj6"
   },
   "outputs": [],
   "source": [
    "# Calculate the mean number of ratings per anime\n",
    "mean_ratings_per_anime = ratings_per_anime.mean()\n",
    "mean_ratings_per_anime"
   ]
  },
  {
   "cell_type": "markdown",
   "id": "T5DG7E0ucXUn",
   "metadata": {
    "id": "T5DG7E0ucXUn"
   },
   "source": [
    "__Observations:__\n",
    "\n",
    "-On average, each anime title receives approximately 332 ratings, which implies a diverse range of viewer engagement levels.\n",
    "\n",
    "-The mean of 332 ratings per anime suggests that while some receive more attention, many others have far fewer ratings."
   ]
  },
  {
   "cell_type": "code",
   "execution_count": null,
   "id": "b0a869ad",
   "metadata": {
    "executionInfo": {
     "elapsed": 115,
     "status": "ok",
     "timestamp": 1728847556193,
     "user": {
      "displayName": "Fabien Marpeau",
      "userId": "15210978490258687001"
     },
     "user_tz": 300
    },
    "id": "b0a869ad"
   },
   "outputs": [],
   "source": [
    "import matplotlib.pyplot as plt\n",
    "\n",
    "# Plot a histogram of the number of ratings per anime\n",
    "ratings_per_anime.hist(bins=20, range=(0,2500))\n",
    "plt.xlabel('Number of Ratings per Anime')\n",
    "plt.ylabel('Frequency')\n",
    "plt.title('Distribution of Ratings per Anime')\n",
    "plt.show()"
   ]
  },
  {
   "cell_type": "markdown",
   "id": "mFE8LU0FbrIK",
   "metadata": {
    "id": "mFE8LU0FbrIK"
   },
   "source": [
    "__Observations:__\n",
    "- The highest frequency of anime titles has between 0 and 250 ratings, as depicted by the first bar in the histogram.\n",
    "- Very few anime titles receive more than 1500 ratings, highlighting a significant drop-off in frequency as the number of ratings increases."
   ]
  },
  {
   "cell_type": "markdown",
   "id": "e7944a59",
   "metadata": {
    "id": "e7944a59"
   },
   "source": [
    "Create ratings per anime dataframe.\n",
    "Filter ratings greater than 1000 to find a popular anime and extract the anime IDs of popular anime."
   ]
  },
  {
   "cell_type": "code",
   "execution_count": null,
   "id": "45152c28",
   "metadata": {
    "id": "45152c28"
   },
   "outputs": [],
   "source": [
    "import pandas as pd\n",
    "\n",
    "# Create a DataFrame from the ratings per anime data\n",
    "ratings_per_anime_df = pd.DataFrame(ratings_per_anime)\n",
    "\n",
    "# Filter the DataFrame to include only anime with 1000 or more ratings\n",
    "filtered_ratings_per_anime_df = ratings_per_anime_df[ratings_per_anime_df.rating >= 1000]\n",
    "\n",
    "# Extract the indices (anime IDs) of popular anime\n",
    "popular_anime = filtered_ratings_per_anime_df.index.tolist()"
   ]
  },
  {
   "cell_type": "markdown",
   "id": "20767fee",
   "metadata": {
    "id": "20767fee"
   },
   "source": [
    "- Create ratings per user dataframe.\n",
    "- Filter ratings greater than 500 and create an index to list prolific users."
   ]
  },
  {
   "cell_type": "code",
   "execution_count": null,
   "id": "1e43d119",
   "metadata": {
    "id": "1e43d119"
   },
   "outputs": [],
   "source": [
    "# Create a DataFrame from the ratings per user data\n",
    "ratings_per_user_df = pd.DataFrame(ratings_per_user)\n",
    "\n",
    "# Filter the DataFrame to include only users with 500 or more ratings\n",
    "filtered_ratings_per_user_df = ratings_per_user_df[ratings_per_user_df.rating >= 500]\n",
    "\n",
    "# Extract the indices (user IDs) of prolific users\n",
    "prolific_users = filtered_ratings_per_user_df.index.tolist()"
   ]
  },
  {
   "cell_type": "code",
   "execution_count": null,
   "id": "f3c78847",
   "metadata": {
    "executionInfo": {
     "elapsed": 138,
     "status": "ok",
     "timestamp": 1728847567797,
     "user": {
      "displayName": "Fabien Marpeau",
      "userId": "15210978490258687001"
     },
     "user_tz": 300
    },
    "id": "f3c78847"
   },
   "outputs": [],
   "source": [
    "# Filter the ratings dataset to include only ratings for popular anime\n",
    "filtered_ratings = ratings[ratings.anime_id.isin(popular_anime)]\n",
    "\n",
    "# Further filter the ratings dataset to include only ratings from prolific users\n",
    "filtered_ratings = ratings[ratings.user_id.isin(prolific_users)]\n",
    "\n",
    "# Calculate the length of the filtered ratings dataset\n",
    "len(filtered_ratings)"
   ]
  },
  {
   "cell_type": "markdown",
   "id": "rSerf4B4POOE",
   "metadata": {
    "id": "rSerf4B4POOE"
   },
   "source": [
    "## The main exercise starts here"
   ]
  },
  {
   "cell_type": "markdown",
   "id": "XLSMtE0WPnOk",
   "metadata": {
    "id": "XLSMtE0WPnOk"
   },
   "source": [
    "__We have the following list of animes.__"
   ]
  },
  {
   "cell_type": "code",
   "execution_count": null,
   "id": "v3lqwMHTPrNs",
   "metadata": {
    "executionInfo": {
     "elapsed": 126,
     "status": "ok",
     "timestamp": 1728847575509,
     "user": {
      "displayName": "Fabien Marpeau",
      "userId": "15210978490258687001"
     },
     "user_tz": 300
    },
    "id": "v3lqwMHTPrNs"
   },
   "outputs": [],
   "source": [
    "animes.head()"
   ]
  },
  {
   "cell_type": "markdown",
   "id": "l9eXabuUPTMS",
   "metadata": {
    "id": "l9eXabuUPTMS"
   },
   "source": [
    "__We will use the following set of ratings.__"
   ]
  },
  {
   "cell_type": "code",
   "execution_count": null,
   "id": "hMKKG_o3PJ0k",
   "metadata": {
    "executionInfo": {
     "elapsed": 121,
     "status": "ok",
     "timestamp": 1728847579843,
     "user": {
      "displayName": "Fabien Marpeau",
      "userId": "15210978490258687001"
     },
     "user_tz": 300
    },
    "id": "hMKKG_o3PJ0k"
   },
   "outputs": [],
   "source": [
    "filtered_ratings.head()"
   ]
  },
  {
   "cell_type": "code",
   "execution_count": null,
   "id": "cb72441f",
   "metadata": {
    "executionInfo": {
     "elapsed": 126,
     "status": "ok",
     "timestamp": 1728847584854,
     "user": {
      "displayName": "Fabien Marpeau",
      "userId": "15210978490258687001"
     },
     "user_tz": 300
    },
    "id": "cb72441f"
   },
   "outputs": [],
   "source": [
    "# Create a pivot table to construct the user-item rating matrix\n",
    "rating_matrix = filtered_ratings.pivot_table(index='user_id', columns='anime_id', values='rating')\n",
    "rating_matrix.head()"
   ]
  },
  {
   "cell_type": "code",
   "execution_count": null,
   "id": "Bt1SK1hTPwxL",
   "metadata": {
    "executionInfo": {
     "elapsed": 125,
     "status": "ok",
     "timestamp": 1728847589322,
     "user": {
      "displayName": "Fabien Marpeau",
      "userId": "15210978490258687001"
     },
     "user_tz": 300
    },
    "id": "Bt1SK1hTPwxL"
   },
   "outputs": [],
   "source": [
    "# Fill missing values (NaN) with 0\n",
    "rating_matrix = rating_matrix.fillna(0)\n",
    "\n",
    "# Display the first few rows of the user-item rating matrix\n",
    "rating_matrix.head()"
   ]
  },
  {
   "cell_type": "markdown",
   "id": "7fbd6bde",
   "metadata": {
    "id": "7fbd6bde"
   },
   "source": [
    "The __user-item rating matrix__ indicates the interactions between users and items in the form of ratings. Each row represents a user, each column represents an anime title, and the values in the matrix represent the ratings given by users to the corresponding anime titles. This matrix provides a structured representation of user preferences and behaviors, serving as the foundation for collaborative filtering techniques to generate personalized recommendations."
   ]
  },
  {
   "cell_type": "markdown",
   "id": "Mt8aEqrtRmyp",
   "metadata": {
    "id": "Mt8aEqrtRmyp"
   },
   "source": [
    "### As an example, let's compute the similarity between user 226 and user 392"
   ]
  },
  {
   "cell_type": "code",
   "execution_count": null,
   "id": "AKq4uu62RMcw",
   "metadata": {
    "executionInfo": {
     "elapsed": 123,
     "status": "ok",
     "timestamp": 1728847594712,
     "user": {
      "displayName": "Fabien Marpeau",
      "userId": "15210978490258687001"
     },
     "user_tz": 300
    },
    "id": "AKq4uu62RMcw"
   },
   "outputs": [],
   "source": [
    "rating_matrix[rating_matrix.index==226]"
   ]
  },
  {
   "cell_type": "code",
   "execution_count": null,
   "id": "Ixc1bqgzRwZW",
   "metadata": {
    "executionInfo": {
     "elapsed": 162,
     "status": "ok",
     "timestamp": 1728847599317,
     "user": {
      "displayName": "Fabien Marpeau",
      "userId": "15210978490258687001"
     },
     "user_tz": 300
    },
    "id": "Ixc1bqgzRwZW"
   },
   "outputs": [],
   "source": [
    "rating_matrix[rating_matrix.index==392]"
   ]
  },
  {
   "cell_type": "code",
   "execution_count": null,
   "id": "tI5F_tgoQ8dy",
   "metadata": {
    "executionInfo": {
     "elapsed": 117,
     "status": "ok",
     "timestamp": 1728847603668,
     "user": {
      "displayName": "Fabien Marpeau",
      "userId": "15210978490258687001"
     },
     "user_tz": 300
    },
    "id": "tI5F_tgoQ8dy"
   },
   "outputs": [],
   "source": [
    "# Similarity between user 226 and user 392\n",
    "cosine_similarity(rating_matrix[rating_matrix.index==226],rating_matrix[rating_matrix.index==392])"
   ]
  },
  {
   "cell_type": "markdown",
   "id": "MXmun8xZSDLZ",
   "metadata": {
    "id": "MXmun8xZSDLZ"
   },
   "source": [
    "### Now, let's compute the similarity between user 226 and all other users"
   ]
  },
  {
   "cell_type": "code",
   "execution_count": null,
   "id": "fmkGQOlyQ8g5",
   "metadata": {
    "executionInfo": {
     "elapsed": 112,
     "status": "ok",
     "timestamp": 1728847609298,
     "user": {
      "displayName": "Fabien Marpeau",
      "userId": "15210978490258687001"
     },
     "user_tz": 300
    },
    "id": "fmkGQOlyQ8g5"
   },
   "outputs": [],
   "source": [
    "similarity_vector = cosine_similarity(rating_matrix[rating_matrix.index==226],rating_matrix[rating_matrix.index!=226])[0].T.tolist()\n",
    "similarity_vector[:10]"
   ]
  },
  {
   "cell_type": "code",
   "execution_count": null,
   "id": "QFnqMWZtSY0h",
   "metadata": {
    "executionInfo": {
     "elapsed": 123,
     "status": "ok",
     "timestamp": 1728847613621,
     "user": {
      "displayName": "Fabien Marpeau",
      "userId": "15210978490258687001"
     },
     "user_tz": 300
    },
    "id": "QFnqMWZtSY0h"
   },
   "outputs": [],
   "source": [
    "# Indices of other users:\n",
    "other_user_indices = rating_matrix[rating_matrix.index!=226].index.to_list()\n",
    "other_user_indices[:10]"
   ]
  },
  {
   "cell_type": "code",
   "execution_count": null,
   "id": "c3SWvpESUa3-",
   "metadata": {
    "executionInfo": {
     "elapsed": 134,
     "status": "ok",
     "timestamp": 1728847618173,
     "user": {
      "displayName": "Fabien Marpeau",
      "userId": "15210978490258687001"
     },
     "user_tz": 300
    },
    "id": "c3SWvpESUa3-"
   },
   "outputs": [],
   "source": [
    "similarity_df = pd.DataFrame(similarity_vector,index=other_user_indices,columns=['Similarity'])\n",
    "similarity_df.head()"
   ]
  },
  {
   "cell_type": "code",
   "execution_count": null,
   "id": "DGR-i0w5Wu6B",
   "metadata": {
    "executionInfo": {
     "elapsed": 106,
     "status": "ok",
     "timestamp": 1728847622725,
     "user": {
      "displayName": "Fabien Marpeau",
      "userId": "15210978490258687001"
     },
     "user_tz": 300
    },
    "id": "DGR-i0w5Wu6B"
   },
   "outputs": [],
   "source": [
    "similarity_df.sort_values(by = 'Similarity',ascending=False,inplace=True)\n",
    "similarity_df.head(10)"
   ]
  },
  {
   "cell_type": "markdown",
   "id": "PZY3mwcQXIsY",
   "metadata": {
    "id": "PZY3mwcQXIsY"
   },
   "source": [
    "__Remark: we can infer that the 3 most similar users  to user 226 are users 30773, 39021 and 45603.__ <br>\n",
    "\n",
    "__In the following, we define a function that does the same thing, with the matrix and subject user in arguments.__"
   ]
  },
  {
   "cell_type": "markdown",
   "id": "def2d096",
   "metadata": {
    "id": "def2d096"
   },
   "source": [
    "- Define a function to find similar_users based on the cosine similarity of their rating vectors."
   ]
  },
  {
   "cell_type": "code",
   "execution_count": null,
   "id": "73606d93",
   "metadata": {
    "id": "73606d93"
   },
   "outputs": [],
   "source": [
    "from sklearn.metrics.pairwise import cosine_similarity\n",
    "import operator\n",
    "\n",
    "def similar_users(user_id, matrix, k=3):\n",
    "    # Get ratings from the user_id, for all movies\n",
    "    user = matrix[matrix.index == user_id]\n",
    "\n",
    "    # Get ratings from all other users, for all movies\n",
    "    other_users = matrix[matrix.index != user_id]\n",
    "\n",
    "    # Compute similarities between user_id and all other users\n",
    "    similarities = cosine_similarity(user, other_users)[0].tolist()\n",
    "\n",
    "    # Get the indices (user IDs) of other users\n",
    "    indices = other_users.index.tolist()\n",
    "\n",
    "    # Store users and similarities in a dictionary\n",
    "    index_similarity = dict(zip(indices, similarities))\n",
    "\n",
    "    # Sort users and similarities by decreasing similarity\n",
    "    index_similarity_sorted = sorted(index_similarity.items(), key=operator.itemgetter(1))\n",
    "    index_similarity_sorted.reverse()\n",
    "\n",
    "    # Get the top k similar users\n",
    "    top_users_similarities = index_similarity_sorted[:k]\n",
    "    users = [u[0] for u in top_users_similarities]\n",
    "\n",
    "    return users"
   ]
  },
  {
   "cell_type": "markdown",
   "id": "059694a1",
   "metadata": {
    "id": "059694a1"
   },
   "source": [
    "- Test the similar_users function with a sample user ID."
   ]
  },
  {
   "cell_type": "code",
   "execution_count": null,
   "id": "ffb79b8d",
   "metadata": {
    "executionInfo": {
     "elapsed": 112,
     "status": "ok",
     "timestamp": 1728847631241,
     "user": {
      "displayName": "Fabien Marpeau",
      "userId": "15210978490258687001"
     },
     "user_tz": 300
    },
    "id": "ffb79b8d"
   },
   "outputs": [],
   "source": [
    "# Define the current user's ID\n",
    "current_user = 226\n",
    "\n",
    "# Find indices of similar users to the current user\n",
    "similar_user_indices = similar_users(current_user, rating_matrix)\n",
    "\n",
    "# Print the indices of similar users\n",
    "print(similar_user_indices)"
   ]
  },
  {
   "cell_type": "markdown",
   "id": "eYTjWc1SZvdE",
   "metadata": {
    "id": "eYTjWc1SZvdE"
   },
   "source": [
    "### Now, compute the mean rating for each movie seen by the users that are similar to user 226"
   ]
  },
  {
   "cell_type": "code",
   "execution_count": null,
   "id": "jp5IKeEkaGay",
   "metadata": {
    "executionInfo": {
     "elapsed": 114,
     "status": "ok",
     "timestamp": 1728847635896,
     "user": {
      "displayName": "Fabien Marpeau",
      "userId": "15210978490258687001"
     },
     "user_tz": 300
    },
    "id": "jp5IKeEkaGay"
   },
   "outputs": [],
   "source": [
    "rating_matrix.index.isin(similar_user_indices)"
   ]
  },
  {
   "cell_type": "code",
   "execution_count": null,
   "id": "ibqWjhrwaOP8",
   "metadata": {
    "executionInfo": {
     "elapsed": 125,
     "status": "ok",
     "timestamp": 1728847643227,
     "user": {
      "displayName": "Fabien Marpeau",
      "userId": "15210978490258687001"
     },
     "user_tz": 300
    },
    "id": "ibqWjhrwaOP8"
   },
   "outputs": [],
   "source": [
    "similar_user_ratings = rating_matrix[rating_matrix.index.isin(similar_user_indices)]\n",
    "similar_user_ratings"
   ]
  },
  {
   "cell_type": "code",
   "execution_count": null,
   "id": "a8dgvsQAaOSb",
   "metadata": {
    "executionInfo": {
     "elapsed": 125,
     "status": "ok",
     "timestamp": 1728847647744,
     "user": {
      "displayName": "Fabien Marpeau",
      "userId": "15210978490258687001"
     },
     "user_tz": 300
    },
    "id": "a8dgvsQAaOSb"
   },
   "outputs": [],
   "source": [
    "# Mean for each anime (ie: one mean for each column)\n",
    "similar_user_ratings.mean()"
   ]
  },
  {
   "cell_type": "code",
   "execution_count": null,
   "id": "hgQFrgWraz1f",
   "metadata": {
    "executionInfo": {
     "elapsed": 126,
     "status": "ok",
     "timestamp": 1728847657572,
     "user": {
      "displayName": "Fabien Marpeau",
      "userId": "15210978490258687001"
     },
     "user_tz": 300
    },
    "id": "hgQFrgWraz1f"
   },
   "outputs": [],
   "source": [
    "similar_user_ratings_mean_df = pd.DataFrame(similar_user_ratings.mean(), columns=['mean'])\n",
    "similar_user_ratings_mean_df.head(10)"
   ]
  },
  {
   "cell_type": "markdown",
   "id": "eiYmzk-4mJLo",
   "metadata": {
    "id": "eiYmzk-4mJLo"
   },
   "source": [
    "__Remark: we could also weight the mean with the similarities from each user.__"
   ]
  },
  {
   "cell_type": "markdown",
   "id": "uWdhtG3JbRSC",
   "metadata": {
    "id": "uWdhtG3JbRSC"
   },
   "source": [
    "### Now, let us extract the movies that user 226 has not seen."
   ]
  },
  {
   "cell_type": "code",
   "execution_count": null,
   "id": "7d-ucZoTbPUO",
   "metadata": {
    "executionInfo": {
     "elapsed": 121,
     "status": "ok",
     "timestamp": 1728847662308,
     "user": {
      "displayName": "Fabien Marpeau",
      "userId": "15210978490258687001"
     },
     "user_tz": 300
    },
    "id": "7d-ucZoTbPUO"
   },
   "outputs": [],
   "source": [
    "rating_226_df = rating_matrix[rating_matrix.index==226].transpose()\n",
    "rating_226_df.columns = ['rating']\n",
    "rating_226_df.head()"
   ]
  },
  {
   "cell_type": "code",
   "execution_count": null,
   "id": "syCxdYe6c34q",
   "metadata": {
    "executionInfo": {
     "elapsed": 118,
     "status": "ok",
     "timestamp": 1728847666647,
     "user": {
      "displayName": "Fabien Marpeau",
      "userId": "15210978490258687001"
     },
     "user_tz": 300
    },
    "id": "syCxdYe6c34q"
   },
   "outputs": [],
   "source": [
    "# CODE HERE"
   ]
  },
  {
   "cell_type": "code",
   "execution_count": null,
   "id": "O6khoCjTcO4Y",
   "metadata": {
    "executionInfo": {
     "elapsed": 111,
     "status": "ok",
     "timestamp": 1728847672347,
     "user": {
      "displayName": "Fabien Marpeau",
      "userId": "15210978490258687001"
     },
     "user_tz": 300
    },
    "id": "O6khoCjTcO4Y"
   },
   "outputs": [],
   "source": [
    "unseen_df = # CODE HERE\n",
    "unseen_df.head()"
   ]
  },
  {
   "cell_type": "code",
   "execution_count": null,
   "id": "qrpJU8pUdYfR",
   "metadata": {
    "executionInfo": {
     "elapsed": 2,
     "status": "ok",
     "timestamp": 1728847676786,
     "user": {
      "displayName": "Fabien Marpeau",
      "userId": "15210978490258687001"
     },
     "user_tz": 300
    },
    "id": "qrpJU8pUdYfR"
   },
   "outputs": [],
   "source": [
    "unseen_indices = unseen_df.index.to_list()\n",
    "unseen_indices[:10]"
   ]
  },
  {
   "cell_type": "markdown",
   "id": "LDwYylcEd1Ec",
   "metadata": {
    "id": "LDwYylcEd1Ec"
   },
   "source": [
    "### Now, get the mean ratings from the other users, for the movies unseen user 226, sorted in decreasing order."
   ]
  },
  {
   "cell_type": "code",
   "execution_count": null,
   "id": "2u3y0euDd8rB",
   "metadata": {
    "executionInfo": {
     "elapsed": 100,
     "status": "ok",
     "timestamp": 1728847681518,
     "user": {
      "displayName": "Fabien Marpeau",
      "userId": "15210978490258687001"
     },
     "user_tz": 300
    },
    "id": "2u3y0euDd8rB"
   },
   "outputs": [],
   "source": [
    "similar_user_ratings_for_unseen = similar_user_ratings_mean_df[similar_user_ratings_mean_df.index.isin(unseen_indices)]\n",
    "similar_user_ratings_for_unseen.head()"
   ]
  },
  {
   "cell_type": "code",
   "execution_count": null,
   "id": "dHbgisnCe4Ft",
   "metadata": {
    "executionInfo": {
     "elapsed": 198,
     "status": "ok",
     "timestamp": 1728847685616,
     "user": {
      "displayName": "Fabien Marpeau",
      "userId": "15210978490258687001"
     },
     "user_tz": 300
    },
    "id": "dHbgisnCe4Ft"
   },
   "outputs": [],
   "source": [
    "similar_user_ratings_for_unseen.sort_values(by='mean',ascending = False).head(10)"
   ]
  },
  {
   "cell_type": "markdown",
   "id": "_jGvDWyPfK5z",
   "metadata": {
    "id": "_jGvDWyPfK5z"
   },
   "source": [
    "__Remark: We can now recommend unseen movies to user 226, based on otehr users' ratings.__ <br>\n",
    "\n",
    "__In the following, we define a function that does the same thing, with the matrix, subject user and simlar users in arguments.__"
   ]
  },
  {
   "cell_type": "markdown",
   "id": "dc89be59",
   "metadata": {
    "id": "dc89be59"
   },
   "source": [
    "- Define a function to recommend items (animes) for a user based on the average ratings of similar users.\n",
    "- Test the recommend_item function with a sample user ID and similar user indices."
   ]
  },
  {
   "cell_type": "code",
   "execution_count": null,
   "id": "a6959dc9",
   "metadata": {
    "executionInfo": {
     "elapsed": 105,
     "status": "ok",
     "timestamp": 1728847713650,
     "user": {
      "displayName": "Fabien Marpeau",
      "userId": "15210978490258687001"
     },
     "user_tz": 300
    },
    "id": "a6959dc9"
   },
   "outputs": [],
   "source": [
    "def recommend_item(user_index, similar_user_indices, matrix, items=5):\n",
    "\n",
    "    # In this function: Given a user of interest, we obtain average ratings from\n",
    "    # similar users, for all movies that the user of interest hasn't seen.\n",
    "    # Then, we select the k most highly rated movies and recommend to the\n",
    "    # user of interest.\n",
    "\n",
    "    # Get ratings from similar users, for all movies\n",
    "    similar_users = matrix[matrix.index.isin(similar_user_indices)]\n",
    "\n",
    "    # Compute the mean rating for each movie, across all similar users\n",
    "    similar_users = similar_users.mean(axis=0)\n",
    "\n",
    "    # Convert the result to a DataFrame\n",
    "    similar_users_df = pd.DataFrame(similar_users, columns=['mean'])\n",
    "\n",
    "    # Get ratings from the user of interest, for all movies\n",
    "    user_df = matrix[matrix.index == user_index]\n",
    "\n",
    "    # Transpose the DataFrame for easier manipulation\n",
    "    user_df_transposed = user_df.transpose()\n",
    "\n",
    "    # Rename the column for clarity\n",
    "    user_df_transposed.columns = ['rating']\n",
    "\n",
    "    # Get unseen movies for user of interest\n",
    "    user_df_transposed = user_df_transposed[user_df_transposed['rating']==0]\n",
    "\n",
    "    # Extract the indices (anime IDs) of unseen items\n",
    "    animes_unseen = user_df_transposed.index.tolist()\n",
    "\n",
    "    # Get the mean ratings for the movies unseen by user of interest, sorted in decreasing order\n",
    "    similar_users_df_filtered = similar_users_df[similar_users_df.index.isin(animes_unseen)]\n",
    "    similar_users_df_ordered = similar_users_df.sort_values(by=['mean'], ascending=False)\n",
    "\n",
    "    # # Get the animes that are most highly rated from the similar users\n",
    "    top_n_anime = similar_users_df_ordered.head(items)\n",
    "    top_n_anime_indices = top_n_anime.index.tolist()\n",
    "\n",
    "    # Retrieve information about the recommended anime from the 'animes' dataset\n",
    "    anime_information = animes[animes['anime_id'].isin(top_n_anime_indices)]\n",
    "\n",
    "    return anime_information"
   ]
  },
  {
   "cell_type": "code",
   "execution_count": null,
   "id": "IVhI7yKeWmrn",
   "metadata": {
    "id": "IVhI7yKeWmrn"
   },
   "outputs": [],
   "source": [
    "recommend_item(226, similar_user_indices, rating_matrix)"
   ]
  },
  {
   "cell_type": "markdown",
   "id": "7fc8170e",
   "metadata": {
    "id": "7fc8170e"
   },
   "source": [
    "__Observation:__\n",
    "\n",
    "- The function successfully generates personalized anime recommendations for a user ID 226 by averaging the ratings of similar users and suggesting titles that the target user has not yet rated."
   ]
  },
  {
   "cell_type": "markdown",
   "id": "a9c4c73d",
   "metadata": {
    "id": "a9c4c73d"
   },
   "source": [
    "### __Item-Based Collaborative Filtering__\n",
    "\n",
    "Item-based collaborative filtering is a recommendation technique that suggests items to users based on the similarity between items rather than the similarity between users. It operates on the assumption that if a user has interacted positively with certain items in the past, they will likely interact positively with similar items in the future.\n",
    "\n"
   ]
  },
  {
   "cell_type": "markdown",
   "id": "Ayd_FeJOB0BS",
   "metadata": {
    "id": "Ayd_FeJOB0BS"
   },
   "source": [
    "To measure similarity between two items \\(i\\) and \\(j\\), cosine similarity can be used:\n",
    "\n",
    "The similarity between two items, \\(i\\) and \\(j\\), can be quantified using cosine similarity, which is particularly useful in item-based collaborative filtering. The formula for cosine similarity is as follows:\n",
    "\n",
    "$$\n",
    "\\text{similarity}(i, j) = \\cos(\\theta) = \\frac{\\sum_{u \\in U} r_{u,i} \\cdot r_{u,j}}{\\sqrt{\\sum_{u \\in U} r_{u,i}^2} \\cdot \\sqrt{\\sum_{u \\in U} r_{u,j}^2}}\n",
    "$$\n",
    "\n",
    "Where:\n",
    "\n",
    "$$\n",
    "\\begin{align*}\n",
    "&\\bullet \\, r_{u,i} \\text{ and } r_{u,j} \\text{ are ratings given by user } u \\text{ to items } i \\text{ and } j. \\\\\n",
    "&\\bullet \\, U \\text{ is the set of users who have rated both items.} \\\\\n",
    "&\\bullet \\, \\theta \\text{ is the angle between the rating vectors of items } i \\text{ and } j, \\text{ where a smaller angle indicates a higher similarity.}\n",
    "\\end{align*}\n",
    "$$\n",
    "\n",
    "This approach calculates the cosine of the angle between the two items' rating vectors, effectively measuring their similarity based on the ratings they have received from users.\n",
    "\n",
    "### Predicting User Ratings for Item-Based Collaborative Filtering\n",
    "\n",
    "\n"
   ]
  },
  {
   "cell_type": "markdown",
   "id": "UFJdlLzmB6Qj",
   "metadata": {
    "id": "UFJdlLzmB6Qj"
   },
   "source": [
    "To predict the rating that a user \\(u\\) would give to an item \\(i\\) using item-based collaborative filtering, we use the weighted sum of the user's ratings for similar items:\n",
    "\n",
    "$$\n",
    "\\hat{r}_{u,i} = \\frac{\\sum_{j \\in S} \\text{sim}(i, j) \\cdot r_{u,j}}{\\sum_{j \\in S} |\\text{sim}(i, j)|}\n",
    "$$\n",
    "\n",
    "Where:\n",
    "\n",
    "$$\n",
    "\\begin{align*}\n",
    "&\\bullet \\, \\hat{r}_{u,i} \\text{ is the predicted rating for user } u \\text{ on item } i. \\\\\n",
    "&\\bullet \\, S \\text{ is the set of items rated by user } u \\text{ that are similar to item } i. \\\\\n",
    "&\\bullet \\, \\text{sim}(i, j) \\text{ is the similarity between item } i \\text{ and item } j. \\\\\n",
    "&\\bullet \\, r_{u,j} \\text{ is the rating of user } u \\text{ for item } j.\n",
    "\\end{align*}\n",
    "$$"
   ]
  },
  {
   "cell_type": "markdown",
   "id": "a7a8d99d",
   "metadata": {
    "id": "a7a8d99d"
   },
   "source": [
    "__Example:__"
   ]
  },
  {
   "cell_type": "code",
   "execution_count": null,
   "id": "16827988",
   "metadata": {
    "id": "16827988"
   },
   "outputs": [],
   "source": [
    "# Import the pandas library for data manipulation\n",
    "import pandas as pd\n",
    "\n",
    "# Import the cosine_similarity function from the sklearn.metrics.pairwise module\n",
    "from sklearn.metrics.pairwise import cosine_similarity"
   ]
  },
  {
   "cell_type": "markdown",
   "id": "d977f1f5",
   "metadata": {
    "id": "d977f1f5"
   },
   "source": [
    "- Create a dictionary with users and their ratings for different web series."
   ]
  },
  {
   "cell_type": "code",
   "execution_count": null,
   "id": "b23ac669",
   "metadata": {
    "id": "b23ac669"
   },
   "outputs": [],
   "source": [
    "# Define the dataset representing ratings given by users to various TV shows\n",
    "dataset = {\n",
    "    'user1': {'Mindhunter': 5, 'You': 3, 'Dexter': 3, 'Mr. Robot': 3, 'True Detective': 2, 'Twin Peaks': 3},\n",
    "    'user2': {'Mindhunter': 5, 'You': 3, 'Mr. Robot': 5, 'Dexter': 5, 'Twin Peaks': 3, 'True Detective': 3},\n",
    "    'user3': {'Mindhunter': 2, 'Dexter': 5, 'Mr. Robot': 3, 'Twin Peaks': 4},\n",
    "    'user4': {'Dexter': 5, 'Twin Peaks': 4, 'Mr. Robot': 4},\n",
    "    'user5': {'Mindhunter': 4, 'You': 4, 'Dexter': 4, 'Twin Peaks': 3, 'True Detective': 2},\n",
    "    'user6': {'Mindhunter': 3, 'Dexter': 4, 'Twin Peaks': 3, 'Mr. Robot': 5, 'True Detective': 3},\n",
    "    'user7': {'Dexter': 4, 'True Detective': 1, 'Mr. Robot': 4}\n",
    "}"
   ]
  },
  {
   "cell_type": "markdown",
   "id": "93192798",
   "metadata": {
    "id": "93192798"
   },
   "source": [
    "__Observation:__\n",
    "- The dataset is based on the number of users, the web series they watched, and the rating given by them."
   ]
  },
  {
   "cell_type": "code",
   "execution_count": null,
   "id": "1b73c31d",
   "metadata": {
    "executionInfo": {
     "elapsed": 122,
     "status": "ok",
     "timestamp": 1728847725106,
     "user": {
      "displayName": "Fabien Marpeau",
      "userId": "15210978490258687001"
     },
     "user_tz": 300
    },
    "id": "1b73c31d"
   },
   "outputs": [],
   "source": [
    "# Convert the dataset dictionary to a DataFrame\n",
    "dataset_df = pd.DataFrame(dataset)\n",
    "\n",
    "# Fill missing values (NaN) with \"Not Seen Yet\"\n",
    "dataset_df.fillna(\"Not Seen Yet\", inplace=True)\n",
    "\n",
    "# Display the DataFrame\n",
    "dataset_df"
   ]
  },
  {
   "cell_type": "markdown",
   "id": "09a535e6",
   "metadata": {
    "id": "09a535e6"
   },
   "source": [
    "- Create a custom function to get the unique web series in the dataset."
   ]
  },
  {
   "cell_type": "code",
   "execution_count": null,
   "id": "f4b920b3",
   "metadata": {
    "id": "f4b920b3"
   },
   "outputs": [],
   "source": [
    "def unique_items():\n",
    "    # Initialize an empty list to store unique items\n",
    "    unique_items_list = []\n",
    "\n",
    "    # Iterate through each person in the dataset\n",
    "    for person in dataset.keys():\n",
    "        # Iterate through the items rated by each person\n",
    "        for items in dataset[person]:\n",
    "            # Append each item to the unique_items_list\n",
    "            unique_items_list.append(items)\n",
    "\n",
    "    # Convert the list to a set to remove duplicates\n",
    "    s = set(unique_items_list)\n",
    "\n",
    "    # Convert the set back to a list to maintain the order of items\n",
    "    unique_items_list = list(s)\n",
    "\n",
    "    # Return the list of unique items\n",
    "    return unique_items_list"
   ]
  },
  {
   "cell_type": "code",
   "execution_count": null,
   "id": "b2e95c97",
   "metadata": {
    "executionInfo": {
     "elapsed": 132,
     "status": "ok",
     "timestamp": 1728847730906,
     "user": {
      "displayName": "Fabien Marpeau",
      "userId": "15210978490258687001"
     },
     "user_tz": 300
    },
    "id": "b2e95c97"
   },
   "outputs": [],
   "source": [
    "# Call the unique_items() function to obtain a list of unique items present in the dataset\n",
    "unique_items()"
   ]
  },
  {
   "cell_type": "markdown",
   "id": "4638acaa",
   "metadata": {
    "id": "4638acaa"
   },
   "source": [
    "- Define a function that determines the similarity between two items based on their ratings. This function iterates through the dataset to identify individuals' common ratings for both items. It then calculates the cosine similarity between the ratings of item 1 and item 2."
   ]
  },
  {
   "cell_type": "code",
   "execution_count": null,
   "id": "8d4a2c8a",
   "metadata": {
    "id": "8d4a2c8a"
   },
   "outputs": [],
   "source": [
    "def item_similarity(item1, item2):\n",
    "    # Initialize a dictionary to store ratings of both items by common users\n",
    "    both_rated = {}\n",
    "\n",
    "    # Find users who both rated item 1 and item2; store the ratings\n",
    "    # Iterate through each person in the dataset\n",
    "    for person in dataset.keys():\n",
    "        # Check if both items are rated by the current person\n",
    "        if item1 in dataset[person] and item2 in dataset[person]:\n",
    "            # Store the ratings of both items by the current person\n",
    "            both_rated[person] = [dataset[person][item1], dataset[person][item2]]\n",
    "\n",
    "    print(both_rated)\n",
    "\n",
    "    # Calculate the number of ratings both items share\n",
    "    number_of_ratings = len(both_rated)\n",
    "\n",
    "    # If there are no common ratings, return 0 (indicating no similarity)\n",
    "    if number_of_ratings == 0:\n",
    "        return 0\n",
    "\n",
    "    # Extract ratings of item1 and item2 by common users\n",
    "    item1_ratings = [[dataset[k][item1] for k, v in both_rated.items() if item1 in dataset[k] and item2 in dataset[k]]]\n",
    "    item2_ratings = [[dataset[k][item2] for k, v in both_rated.items() if item1 in dataset[k] and item2 in dataset[k]]]\n",
    "\n",
    "    # Calculate cosine similarity between item1 and item2 ratings\n",
    "    cs = cosine_similarity(item1_ratings, item2_ratings)\n",
    "\n",
    "    # Return the cosine similarity score\n",
    "    return cs[0][0]"
   ]
  },
  {
   "cell_type": "code",
   "execution_count": null,
   "id": "63d93a9f",
   "metadata": {
    "executionInfo": {
     "elapsed": 118,
     "status": "ok",
     "timestamp": 1728847738310,
     "user": {
      "displayName": "Fabien Marpeau",
      "userId": "15210978490258687001"
     },
     "user_tz": 300
    },
    "id": "63d93a9f"
   },
   "outputs": [],
   "source": [
    "# Print the cosine similarity between 'Dexter' and 'Mr. Robot' based on their ratings\n",
    "print(\"Cosine Similarity:\", item_similarity('Dexter', 'Mr. Robot'))"
   ]
  },
  {
   "cell_type": "markdown",
   "id": "0e08195e",
   "metadata": {
    "id": "0e08195e"
   },
   "source": [
    "- Define a function to determine similar items to a specified target item. This function calculates the similarity scores between the target item and all other items in the dataset. Then, it sorts these similarity scores in descending order and returns the sorted list."
   ]
  },
  {
   "cell_type": "code",
   "execution_count": null,
   "id": "ae4024c3",
   "metadata": {
    "executionInfo": {
     "elapsed": 144,
     "status": "ok",
     "timestamp": 1728847743894,
     "user": {
      "displayName": "Fabien Marpeau",
      "userId": "15210978490258687001"
     },
     "user_tz": 300
    },
    "id": "ae4024c3"
   },
   "outputs": [],
   "source": [
    "def most_similar_items(target_item):\n",
    "    # Obtain a list of all unique items\n",
    "    un_lst = unique_items()\n",
    "\n",
    "    # Calculate similarity scores between the target item and all other items\n",
    "    scores = [(item_similarity(target_item, other_item), target_item + \" --> \" + other_item) for other_item in un_lst if other_item != target_item]\n",
    "\n",
    "    # Sort the similarity scores in descending order\n",
    "    scores.sort(reverse=True)\n",
    "\n",
    "    # Return the sorted similarity scores\n",
    "    return scores"
   ]
  },
  {
   "cell_type": "code",
   "execution_count": null,
   "id": "2745fac0",
   "metadata": {
    "executionInfo": {
     "elapsed": 157,
     "status": "ok",
     "timestamp": 1728847749020,
     "user": {
      "displayName": "Fabien Marpeau",
      "userId": "15210978490258687001"
     },
     "user_tz": 300
    },
    "id": "2745fac0"
   },
   "outputs": [],
   "source": [
    "# Print the most similar items to 'Dexter' based on their similarity scores\n",
    "print(most_similar_items('Dexter'))"
   ]
  },
  {
   "cell_type": "markdown",
   "id": "d7b8a64a",
   "metadata": {
    "id": "d7b8a64a"
   },
   "source": [
    "- Define a function to recommend movies to a target user by identifying the movies they have not rated. The function collects the movies rated by the target user and calculates the set difference between all movies and the ones rated by the target user. It returns the list of recommended movies along with the list of movies rated by the target user."
   ]
  },
  {
   "cell_type": "code",
   "execution_count": null,
   "id": "52097b6f",
   "metadata": {
    "id": "52097b6f"
   },
   "outputs": [],
   "source": [
    "def target_shows_to_users(target_person):\n",
    "    # Initialize a list to store tv shows rated by the target person\n",
    "    target_person_show_lst = []\n",
    "\n",
    "    # Obtain a list of all unique items (movies)\n",
    "    unique_list = unique_items()\n",
    "\n",
    "    # Collect tv sows rated by the target person\n",
    "    for shows in dataset[target_person]:\n",
    "        target_person_show_lst.append(shows)\n",
    "\n",
    "    # Convert the unique item list to a set to perform set difference operation\n",
    "    s = set(unique_list)\n",
    "\n",
    "    # Get the list of recommended tv shows by finding the set difference between all tv shows and those rated by the target person\n",
    "    recommended_shows = list(s.difference(target_person_show_lst))\n",
    "\n",
    "    # Calculate the number of recommended tv shows\n",
    "    a = len(recommended_shows)\n",
    "\n",
    "    # If there are no recommended tv shows, return 0\n",
    "    if a == 0:\n",
    "        return 0\n",
    "\n",
    "    # Otherwise, return the list of recommended tv shows and the list of tv shows rated by the target person\n",
    "    return recommended_shows, target_person_show_lst"
   ]
  },
  {
   "cell_type": "markdown",
   "id": "ba7db86b",
   "metadata": {
    "id": "ba7db86b"
   },
   "source": [
    "- The `target_shows_to_users` function is utilized to retrieve the lists of unseen and seen movies for user `user7`. Subsequently, a dictionary is generated to store these unseen and seen movies and then converted into a DataFrame for enhanced visualization."
   ]
  },
  {
   "cell_type": "code",
   "execution_count": null,
   "id": "4cdbc484",
   "metadata": {
    "executionInfo": {
     "elapsed": 126,
     "status": "ok",
     "timestamp": 1728847755392,
     "user": {
      "displayName": "Fabien Marpeau",
      "userId": "15210978490258687001"
     },
     "user_tz": 300
    },
    "id": "4cdbc484"
   },
   "outputs": [],
   "source": [
    "# Obtain lists of unseen and seen tv shows for user 'user7' using the target_shows_to_users function\n",
    "unseen_shows, seen_shows = target_shows_to_users('user7')\n",
    "\n",
    "# Create a dictionary to store unseen and seen movies\n",
    "dct = {\"Seen Shows\": seen_shows, \"Unseen Shows\": unseen_shows}\n",
    "\n",
    "# Convert the dictionary to a DataFrame for better visualization\n",
    "pd.DataFrame(dct)"
   ]
  },
  {
   "cell_type": "markdown",
   "id": "68ddb7fc",
   "metadata": {
    "id": "68ddb7fc"
   },
   "source": [
    "__Observation:__\n",
    "- The provided output displays TV shows that `user7` has already watched alongside those they have not, suggesting potential new interests."
   ]
  },
  {
   "cell_type": "markdown",
   "id": "47b069d9",
   "metadata": {
    "id": "47b069d9"
   },
   "source": [
    "This code functions as an item-based recommendation system, leveraging user\n",
    "ratings to compute how similar various TV shows are and then recommending new but similar shows to an individual user through collaborative filtering techniques."
   ]
  },
  {
   "cell_type": "markdown",
   "id": "1ea67c7c",
   "metadata": {
    "id": "1ea67c7c"
   },
   "source": [
    "## __1.3.1.2 Model-Based Collaborative Filtering__\n",
    "\n",
    "Model-based collaborative filtering is an advanced approach within the realm of recommendation systems. It leverages mathematical and statistical models to predict a user's preferences for items (e.g., movies, products, and articles) based on past interactions.\n",
    "\n",
    "Unlike memory-based collaborative filtering, which directly uses the entire user-item interaction database to find similarities and make recommendations, model-based collaborative filtering involves constructing predictive models. These models are trained on existing data to uncover underlying patterns and relationships, enabling the prediction of how a user might rate or interact with items they haven't encountered yet."
   ]
  },
  {
   "cell_type": "markdown",
   "id": "3f066c7d",
   "metadata": {
    "id": "3f066c7d"
   },
   "source": [
    "### __Matrix factorization :__\n",
    "\n",
    "It is a popular technique in model-based collaborative filtering. Matrix factorization models work by decomposing the __user-item interaction matrix__ into lower-dimensional matrices, often representing __latent factors__ associated with users and items.\n",
    "\n",
    "__Example:__ In a movie recommendation system, latent factors might correspond to genres or themes like action, comedy, or drama."
   ]
  },
  {
   "cell_type": "markdown",
   "id": "HIe_K8Eb7i5i",
   "metadata": {
    "id": "HIe_K8Eb7i5i"
   },
   "source": [
    "### __Singular Value Decomposition (SVD)__"
   ]
  },
  {
   "cell_type": "markdown",
   "id": "KVwgtm-F7qs6",
   "metadata": {
    "id": "KVwgtm-F7qs6"
   },
   "source": [
    "Singular Value Decomposition (SVD) is a matrix factorization technique useful in collaborative filtering for recommendation systems."
   ]
  },
  {
   "cell_type": "markdown",
   "id": "KHQZ44QP7tIP",
   "metadata": {
    "id": "KHQZ44QP7tIP"
   },
   "source": [
    "1. **Matrix Representation**: Collaborative filtering uses a user-item interaction matrix where rows are users, columns are items, and entries are ratings. This matrix is often sparse."
   ]
  },
  {
   "cell_type": "markdown",
   "id": "6TRPr2pp7v7K",
   "metadata": {
    "id": "6TRPr2pp7v7K"
   },
   "source": [
    "2. **Factorization**: SVD decomposes the matrix into three matrices:\n",
    "   - **U**: Represents users' relationships with latent factors (rows: users, columns: latent factors).\n",
    "   - **S**: A diagonal matrix with singular values indicating the importance of each latent factor.\n",
    "   - **V^T**: Represents items' relationships with latent factors (columns: items, rows: latent factors).\n"
   ]
  },
  {
   "cell_type": "markdown",
   "id": "5ym4jm8D74V9",
   "metadata": {
    "id": "5ym4jm8D74V9"
   },
   "source": [
    "3. **Reducing Dimensionality**: By truncating the number of singular values, SVD approximates the original matrix with a lower-dimensional"
   ]
  },
  {
   "cell_type": "markdown",
   "id": "YskZyecM761u",
   "metadata": {
    "id": "YskZyecM761u"
   },
   "source": [
    "4. **Reconstruction**: The original matrix is approximately reconstructed by multiplying \\( U \\), \\( S \\), and \\( V^T \\), resulting in predicted ratings."
   ]
  },
  {
   "cell_type": "markdown",
   "id": "K-ximJhi79Nq",
   "metadata": {
    "id": "K-ximJhi79Nq"
   },
   "source": [
    "5. **Recommendations**: Recommendations are made by suggesting items with the highest predicted ratings for users, focusing on items they haven't interacted with yet."
   ]
  },
  {
   "cell_type": "markdown",
   "id": "CmqlGxf08A6p",
   "metadata": {
    "id": "CmqlGxf08A6p"
   },
   "source": [
    "SVD identifies latent factors that explain user-item interactions, enabling recommendation systems to provide personalized suggestions based on past interactions."
   ]
  },
  {
   "cell_type": "markdown",
   "id": "4XF4KZLN8DaB",
   "metadata": {
    "id": "4XF4KZLN8DaB"
   },
   "source": [
    "## Example"
   ]
  },
  {
   "cell_type": "code",
   "execution_count": null,
   "id": "7c8bd8f3",
   "metadata": {
    "id": "7c8bd8f3"
   },
   "outputs": [],
   "source": [
    "# Import the numpy library as 'np'\n",
    "import numpy as np"
   ]
  },
  {
   "cell_type": "markdown",
   "id": "AVFNHB2z8MGM",
   "metadata": {
    "id": "AVFNHB2z8MGM"
   },
   "source": [
    "Factor the following matrix:"
   ]
  },
  {
   "cell_type": "code",
   "execution_count": null,
   "id": "vUq2yy4x8Oht",
   "metadata": {
    "id": "vUq2yy4x8Oht"
   },
   "outputs": [],
   "source": [
    "R = [\n",
    "     [5, 3, 0, 1],\n",
    "     [4, 0, 0, 1],\n",
    "     [1, 1, 0, 5],\n",
    "     [1, 0, 0, 4],\n",
    "     [0, 1, 5, 4],\n",
    "    ]"
   ]
  },
  {
   "cell_type": "code",
   "execution_count": null,
   "id": "LS8o4Q2n8XWR",
   "metadata": {
    "id": "LS8o4Q2n8XWR"
   },
   "outputs": [],
   "source": [
    "U, sigma, VT = # CODE HERE"
   ]
  },
  {
   "cell_type": "code",
   "execution_count": null,
   "id": "Xq98Vsgk8XZI",
   "metadata": {
    "executionInfo": {
     "elapsed": 123,
     "status": "ok",
     "timestamp": 1728847766294,
     "user": {
      "displayName": "Fabien Marpeau",
      "userId": "15210978490258687001"
     },
     "user_tz": 300
    },
    "id": "Xq98Vsgk8XZI"
   },
   "outputs": [],
   "source": [
    "# Singular values\n",
    "sigma"
   ]
  },
  {
   "cell_type": "code",
   "execution_count": null,
   "id": "eXbf2BFF8Xb_",
   "metadata": {
    "executionInfo": {
     "elapsed": 120,
     "status": "ok",
     "timestamp": 1728847772211,
     "user": {
      "displayName": "Fabien Marpeau",
      "userId": "15210978490258687001"
     },
     "user_tz": 300
    },
    "id": "eXbf2BFF8Xb_"
   },
   "outputs": [],
   "source": [
    "U"
   ]
  },
  {
   "cell_type": "code",
   "execution_count": null,
   "id": "bnODk-ph8Xeo",
   "metadata": {
    "executionInfo": {
     "elapsed": 132,
     "status": "ok",
     "timestamp": 1728847777345,
     "user": {
      "displayName": "Fabien Marpeau",
      "userId": "15210978490258687001"
     },
     "user_tz": 300
    },
    "id": "bnODk-ph8Xeo"
   },
   "outputs": [],
   "source": [
    "VT.transpose()"
   ]
  },
  {
   "cell_type": "code",
   "execution_count": null,
   "id": "lK6DeX4s-nYv",
   "metadata": {
    "executionInfo": {
     "elapsed": 120,
     "status": "ok",
     "timestamp": 1728847781230,
     "user": {
      "displayName": "Fabien Marpeau",
      "userId": "15210978490258687001"
     },
     "user_tz": 300
    },
    "id": "lK6DeX4s-nYv"
   },
   "outputs": [],
   "source": [
    "sigma_matrix = np.append(np.diag(sigma), [[0, 0, 0, 0]], axis=0)\n",
    "sigma_matrix"
   ]
  },
  {
   "cell_type": "code",
   "execution_count": null,
   "id": "eU0qhesA8Xhd",
   "metadata": {
    "executionInfo": {
     "elapsed": 98,
     "status": "ok",
     "timestamp": 1728847786119,
     "user": {
      "displayName": "Fabien Marpeau",
      "userId": "15210978490258687001"
     },
     "user_tz": 300
    },
    "id": "eU0qhesA8Xhd"
   },
   "outputs": [],
   "source": [
    "# Matrix product\n",
    "print(np.dot(np.dot(U,sigma_matrix),VT))"
   ]
  },
  {
   "cell_type": "code",
   "execution_count": null,
   "id": "FgV07uBW8XkK",
   "metadata": {
    "colab": {
     "base_uri": "https://localhost:8080/"
    },
    "executionInfo": {
     "elapsed": 136,
     "status": "ok",
     "timestamp": 1728841910863,
     "user": {
      "displayName": "Fabien Marpeau",
      "userId": "15210978490258687001"
     },
     "user_tz": 300
    },
    "id": "FgV07uBW8XkK",
    "outputId": "b7967347-80ba-4c2f-a576-a0ac3d9f164d"
   },
   "outputs": [
    {
     "name": "stdout",
     "output_type": "stream",
     "text": [
      "[[5 3 0 1]\n",
      " [4 0 0 1]\n",
      " [1 1 0 5]\n",
      " [1 0 0 4]\n",
      " [0 1 5 4]]\n"
     ]
    }
   ],
   "source": [
    "# Original matrix\n",
    "print(np.array(R))"
   ]
  },
  {
   "cell_type": "code",
   "execution_count": null,
   "id": "Lc0Un6GJCejh",
   "metadata": {
    "executionInfo": {
     "elapsed": 127,
     "status": "ok",
     "timestamp": 1728847791027,
     "user": {
      "displayName": "Fabien Marpeau",
      "userId": "15210978490258687001"
     },
     "user_tz": 300
    },
    "id": "Lc0Un6GJCejh"
   },
   "outputs": [],
   "source": [
    "# Remark:\n",
    "print(np.dot(np.dot(U[:,:4],sigma_matrix[:4,:4]),VT[:4,:]))"
   ]
  },
  {
   "cell_type": "markdown",
   "id": "hejfMpmaAw65",
   "metadata": {
    "id": "hejfMpmaAw65"
   },
   "source": [
    "## SVD decomposition is expensive and requires storing the singular values $\\sigma $ and the 2 matrices U and V. <br>"
   ]
  },
  {
   "cell_type": "markdown",
   "id": "QfzlkmbVBbA0",
   "metadata": {
    "id": "QfzlkmbVBbA0"
   },
   "source": [
    "## We can decide to store only a portion of the singular values $\\sigma $ and the 2 matrices U and V. In this case, we can only recover an approximation of $R$. <br>\n",
    "\n",
    "Example: Let us store only 2 singular values, the first 2 rows of U and the first two columns of V:"
   ]
  },
  {
   "cell_type": "code",
   "execution_count": null,
   "id": "yV0wmQ1LB1hP",
   "metadata": {
    "executionInfo": {
     "elapsed": 129,
     "status": "ok",
     "timestamp": 1728847798264,
     "user": {
      "displayName": "Fabien Marpeau",
      "userId": "15210978490258687001"
     },
     "user_tz": 300
    },
    "id": "yV0wmQ1LB1hP"
   },
   "outputs": [],
   "source": [
    "R_approx = # CODE HERE\n",
    "print(R_approx)"
   ]
  },
  {
   "cell_type": "code",
   "execution_count": null,
   "id": "ICCFNGIHCzks",
   "metadata": {
    "executionInfo": {
     "elapsed": 119,
     "status": "ok",
     "timestamp": 1728847807871,
     "user": {
      "displayName": "Fabien Marpeau",
      "userId": "15210978490258687001"
     },
     "user_tz": 300
    },
    "id": "ICCFNGIHCzks"
   },
   "outputs": [],
   "source": [
    "%matplotlib inline\n",
    "import matplotlib.pyplot as plt\n",
    "plt.figure(figsize=(10,5))\n",
    "plt.subplot(1, 2, 1)\n",
    "plt.imshow(R, interpolation='none')\n",
    "\n",
    "plt.yticks(range(len(R)))\n",
    "#plt.ylim([len(R) - 1.5, -.5])\n",
    "ax = plt.gca()\n",
    "ax.set_yticklabels(range(1, len(R) + 1))\n",
    "plt.title(\"Original\")\n",
    "plt.colorbar();\n",
    "plt.subplot(1, 2, 2)\n",
    "plt.imshow(R_approx, interpolation='none')\n",
    "\n",
    "plt.yticks(range(len(R)))\n",
    "#plt.ylim([len(R) - 1.5, -.5])\n",
    "ax = plt.gca()\n",
    "ax.set_yticklabels(range(1, len(R) + 1))\n",
    "plt.title(\"Approximate\")\n",
    "plt.colorbar();"
   ]
  },
  {
   "cell_type": "markdown",
   "id": "e0kydnndFYeG",
   "metadata": {
    "id": "e0kydnndFYeG"
   },
   "source": [
    "## Since SVD is very expensive, we would like to compute the approximation directly, without having to compute the full SVD first.\n",
    "##We call the number of singular value that we want to keep: $K$."
   ]
  },
  {
   "cell_type": "markdown",
   "id": "7BZeTgb2F2m6",
   "metadata": {
    "id": "7BZeTgb2F2m6"
   },
   "source": [
    "## Also, we replace the notation $U$ with P, and the product $\\sigma  V^{T}$ with $Q^{T}$. So, instead of writing $R = U\\sigma V^{T}$, we write, equivalently, that $R = PQ^{T}$."
   ]
  },
  {
   "cell_type": "markdown",
   "id": "e0c8d8c2",
   "metadata": {
    "id": "e0c8d8c2"
   },
   "source": [
    "- Define the matrix factorization function.\n",
    "\n",
    "- Start with matrices R, P, Q, and parameters K, steps = 5000, alpha, and beta.\n",
    "\n"
   ]
  },
  {
   "cell_type": "markdown",
   "id": "eInSuqGrBRck",
   "metadata": {
    "id": "eInSuqGrBRck"
   },
   "source": [
    "__R:__ This is the original rating matrix that contains the user-item interactions, or ratings. It's a 2D matrix where rows represent users and columns represent items. Each entry in this matrix represents the rating given by a user to an item. In collaborative filtering, this matrix is often sparse, as most users only rate a subset of items.\n",
    "\n"
   ]
  },
  {
   "cell_type": "markdown",
   "id": "-5p3vHHFBVmu",
   "metadata": {
    "id": "-5p3vHHFBVmu"
   },
   "source": [
    "__P:__ This matrix represents the latent factors associated with users. It's a 2D matrix where rows correspond to users and columns correspond to latent factors. Each entry in this matrix represents the strength of the association between a user and a latent factor.\n",
    "\n"
   ]
  },
  {
   "cell_type": "markdown",
   "id": "4JEJHs5eBYgk",
   "metadata": {
    "id": "4JEJHs5eBYgk"
   },
   "source": [
    "__Q:__ This matrix represents the latent factors associated with items. It's also a 2D matrix where rows correspond to latent factors and columns correspond to items. Each entry in this matrix represents the strength of the association between a latent factor and an item.\n",
    "\n"
   ]
  },
  {
   "cell_type": "markdown",
   "id": "uoqsVtrhBbDo",
   "metadata": {
    "id": "uoqsVtrhBbDo"
   },
   "source": [
    "__K:__ This parameter represents the number of latent factors to consider during matrix factorization. It determines the dimensionality of the latent factor space. A higher value of K allows for a more complex representation of the interactions between users and items but may also lead to overfitting. Typically, K is chosen based on cross-validation or other model selection techniques.\n",
    "\n"
   ]
  },
  {
   "cell_type": "markdown",
   "id": "tEQM7aQsBeak",
   "metadata": {
    "id": "tEQM7aQsBeak"
   },
   "source": [
    "__Alpha (α):__ This serves as the learning rate in gradient descent, determining the magnitude of parameter updates. A higher α can lead to quicker convergence but may also cause overshooting of the optimal solution.\n",
    "\n"
   ]
  },
  {
   "cell_type": "markdown",
   "id": "edW1xMc9BhAn",
   "metadata": {
    "id": "edW1xMc9BhAn"
   },
   "source": [
    "__Beta (β):__ This acts as the regularization strength, mitigating overfitting by penalizing large parameter values. Increasing β enhances the penalty for large parameters, aiding in preventing overfitting of the model.\n",
    "\n"
   ]
  },
  {
   "cell_type": "markdown",
   "id": "FeKa2zBqBi2P",
   "metadata": {
    "id": "FeKa2zBqBi2P"
   },
   "source": [
    "The goal of matrix factorization is to find the optimal values of P and Q. Their product should approximate R, capturing the underlying patterns in user-item interactions."
   ]
  },
  {
   "cell_type": "code",
   "execution_count": null,
   "id": "97b4d262",
   "metadata": {
    "id": "97b4d262"
   },
   "outputs": [],
   "source": [
    "def matrix_factorization(R, P, Q, K, steps=5000, alpha=0.0002, beta=0.02):\n",
    "    # Transpose Q matrix to match dimensions for matrix multiplication\n",
    "    Q = Q.T\n",
    "\n",
    "    # Iterate through the specified number of steps\n",
    "    for step in range(steps):\n",
    "        # Iterate through each element of the rating matrix R\n",
    "        for i in range(len(R)):\n",
    "            for j in range(len(R[i])):\n",
    "                # Check if the rating is non-zero\n",
    "                if R[i][j] > 0:\n",
    "                    # Calculate error between actual and predicted rating\n",
    "                    eij = R[i][j] - np.dot(P[i, :], Q[:, j])\n",
    "\n",
    "                    # Update P and Q matrices using gradient descent\n",
    "                    for k in range(K):\n",
    "                        P[i][k] += alpha * (2 * eij * Q[k][j] - beta * P[i][k])\n",
    "                        Q[k][j] += alpha * (2 * eij * P[i][k] - beta * Q[k][j])\n",
    "\n",
    "        # Compute the total error\n",
    "        e = 0\n",
    "        for i in range(len(R)):\n",
    "            for j in range(len(R[i])):\n",
    "                if R[i][j] > 0:\n",
    "                    e += pow(R[i][j] - np.dot(P[i, :], Q[:, j]), 2)\n",
    "                    for k in range(K):\n",
    "                        e += (beta / 2) * (pow(P[i][k], 2) + pow(Q[k][j], 2))\n",
    "\n",
    "        # Check if error is below the specified threshold\n",
    "        if e < 0.001:\n",
    "            break\n",
    "\n",
    "    # Return the updated P and Q matrices\n",
    "    return P, Q.T"
   ]
  },
  {
   "cell_type": "markdown",
   "id": "0114a598",
   "metadata": {
    "id": "0114a598"
   },
   "source": [
    "__Observation:__\n",
    "- This matrix factorization function predicts missing user-item interactions by decomposing the rating matrix \\(R\\) into two matrices, \\(P\\) (user features) and \\(Q\\) (item features). It uses gradient descent to minimize the error between actual and predicted ratings, with regularization to prevent overfitting. The function iterates until the total error is below a threshold or the maximum number of steps is reached, returning the optimized \\(P\\) and \\(Q\\) matrices."
   ]
  },
  {
   "cell_type": "markdown",
   "id": "067d77d1",
   "metadata": {
    "id": "067d77d1"
   },
   "source": [
    "Define the input matrix and parameters."
   ]
  },
  {
   "cell_type": "code",
   "execution_count": null,
   "id": "ff05d7d2",
   "metadata": {
    "executionInfo": {
     "elapsed": 153,
     "status": "ok",
     "timestamp": 1728847821695,
     "user": {
      "displayName": "Fabien Marpeau",
      "userId": "15210978490258687001"
     },
     "user_tz": 300
    },
    "id": "ff05d7d2"
   },
   "outputs": [],
   "source": [
    "import numpy as np\n",
    "\n",
    "# Define the original rating matrix R\n",
    "R = [\n",
    "     [5, 3, 0, 1],\n",
    "     [4, 0, 0, 1],\n",
    "     [1, 1, 0, 5],\n",
    "     [1, 0, 0, 4],\n",
    "     [0, 1, 5, 4],\n",
    "    ]"
   ]
  },
  {
   "cell_type": "code",
   "execution_count": null,
   "id": "yFvONr_UYwMi",
   "metadata": {
    "id": "yFvONr_UYwMi"
   },
   "outputs": [],
   "source": [
    "# Convert R into a NumPy array\n",
    "R = np.array(R)\n",
    "\n",
    "# Determine the number of users (N) and items (M)\n",
    "N = len(R)\n",
    "M = len(R[0])\n",
    "\n",
    "N,M"
   ]
  },
  {
   "cell_type": "code",
   "execution_count": null,
   "id": "UJuzBJWkY7BM",
   "metadata": {
    "id": "UJuzBJWkY7BM"
   },
   "outputs": [],
   "source": [
    "# Specify the number of latent factors (K) for matrix factorization\n",
    "K = # CODE HERE"
   ]
  },
  {
   "cell_type": "code",
   "execution_count": null,
   "id": "9ItG-8DeY3LM",
   "metadata": {
    "id": "9ItG-8DeY3LM"
   },
   "outputs": [],
   "source": [
    "# Initialize matrices P and Q with random values\n",
    "P = np.random.rand(N, K)  # Matrix representing user latent factors\n",
    "Q = np.random.rand(M, K)  # Matrix representing item latent factors\n",
    "\n",
    "# Print initialized matrices for verification\n",
    "print(\"R (Rating matrix):\")\n",
    "print(R)\n",
    "print(\"\\nP (User latent factor matrix):\")\n",
    "print(P)\n",
    "print(\"\\nQ (Item latent factor matrix):\")\n",
    "print(Q)"
   ]
  },
  {
   "cell_type": "markdown",
   "id": "0aa01b21",
   "metadata": {
    "id": "0aa01b21"
   },
   "source": [
    "- Perform matrix factorization and calculate the approximated matrix."
   ]
  },
  {
   "cell_type": "code",
   "execution_count": null,
   "id": "6fc1ea73",
   "metadata": {
    "executionInfo": {
     "elapsed": 138,
     "status": "ok",
     "timestamp": 1728847831594,
     "user": {
      "displayName": "Fabien Marpeau",
      "userId": "15210978490258687001"
     },
     "user_tz": 300
    },
    "id": "6fc1ea73"
   },
   "outputs": [],
   "source": [
    "# Perform matrix factorization to optimize matrices P and Q\n",
    "nP, nQ = matrix_factorization(R, P, Q, K)"
   ]
  },
  {
   "cell_type": "code",
   "execution_count": null,
   "id": "VKJV8vlWZBnj",
   "metadata": {
    "id": "VKJV8vlWZBnj"
   },
   "outputs": [],
   "source": [
    "# Reconstruct the rating matrix using optimized matrices P and Q\n",
    "nR = np.dot(nP, nQ.T)\n",
    "\n",
    "# Print the reconstructed rating matrix\n",
    "print(\"Reconstructed Rating Matrix (nR):\")\n",
    "print(nR)"
   ]
  },
  {
   "cell_type": "code",
   "execution_count": null,
   "id": "0dbvnUvJGqUQ",
   "metadata": {
    "executionInfo": {
     "elapsed": 133,
     "status": "ok",
     "timestamp": 1728847836523,
     "user": {
      "displayName": "Fabien Marpeau",
      "userId": "15210978490258687001"
     },
     "user_tz": 300
    },
    "id": "0dbvnUvJGqUQ"
   },
   "outputs": [],
   "source": [
    "print(np.array(R))"
   ]
  },
  {
   "cell_type": "code",
   "execution_count": null,
   "id": "e59faa99",
   "metadata": {
    "executionInfo": {
     "elapsed": 156,
     "status": "ok",
     "timestamp": 1728847840425,
     "user": {
      "displayName": "Fabien Marpeau",
      "userId": "15210978490258687001"
     },
     "user_tz": 300
    },
    "id": "e59faa99"
   },
   "outputs": [],
   "source": [
    "# Plotting the original and approximated matrices\n",
    "fig, axs = plt.subplots(1, 2, figsize=(14, 7))\n",
    "\n",
    "sns.heatmap(R, annot=True, fmt=\"g\", cmap='viridis', ax=axs[0], cbar=False)\n",
    "axs[0].set_title('Original Matrix R')\n",
    "axs[0].set_xlabel('Items')\n",
    "axs[0].set_ylabel('Users')\n",
    "\n",
    "sns.heatmap(nR, annot=True, fmt=\".2f\", cmap='viridis', ax=axs[1], cbar=False)\n",
    "axs[1].set_title('Approximated Matrix nR')\n",
    "axs[1].set_xlabel('Items')\n",
    "axs[1].set_ylabel('Users')\n",
    "\n",
    "plt.tight_layout()\n",
    "plt.show()"
   ]
  },
  {
   "cell_type": "markdown",
   "id": "498a09de",
   "metadata": {
    "id": "498a09de"
   },
   "source": [
    "__Observations:__\n",
    "    \n",
    "The heatmap visualization compares the original rating matrix \\( R \\) (left) and the reconstructed rating matrix \\( nR \\) (right) after matrix factorization. The x-axis represents items, and the y-axis represents users. Both heatmaps display the ratings, with color intensity indicating the rating values. This visual comparison helps in understanding how well the matrix factorization has approximated the original user-item interactions."
   ]
  },
  {
   "cell_type": "markdown",
   "id": "dBKeG259wtau",
   "metadata": {
    "id": "dBKeG259wtau"
   },
   "source": [
    "\n",
    "Matrix factorization helps in recommendation systems by decomposing the user-item interaction matrix into latent factors, reducing dimensionality, capturing hidden patterns, and predicting missing ratings to enhance recommendation accuracy. It is further applicable in personalized content recommendations, e-commerce product suggestions, and social network connections."
   ]
  },
  {
   "cell_type": "markdown",
   "id": "5_UlPVhyUVc8",
   "metadata": {
    "id": "5_UlPVhyUVc8"
   },
   "source": [
    "### Implementing SVD in Collaborative Filtering\n",
    "\n",
    "After understanding the theory behind Singular Value Decomposition (SVD) in collaborative filtering, let's implement this technique to build a recommendation system. We will use the MovieLens100K dataset, which contains 100,000 user ratings for various movies.\n",
    "\n",
    "#### Steps:\n",
    "\n",
    "1. **Import Libraries**: We start by importing the necessary libraries.\n",
    "2. **Load and Preprocess Data**: Load the dataset into a DataFrame, preprocess it by splitting into training and testing sets, and create user-item interaction matrices.\n",
    "3. **Matrix Factorization**: Perform SVD on the training data to decompose it into latent factors.\n",
    "4. **Reconstruction**: Reconstruct the original matrix using the decomposed matrices.\n",
    "5. **Evaluation**: Evaluate the performance of the recommendation system using RMSE.\n"
   ]
  },
  {
   "cell_type": "code",
   "execution_count": null,
   "id": "41297d6c",
   "metadata": {
    "id": "41297d6c"
   },
   "outputs": [],
   "source": [
    "# Importing the pandas library as 'pd'\n",
    "import pandas as pd\n",
    "import numpy as np"
   ]
  },
  {
   "cell_type": "code",
   "execution_count": null,
   "id": "82f82465",
   "metadata": {
    "executionInfo": {
     "elapsed": 147,
     "status": "ok",
     "timestamp": 1728847850848,
     "user": {
      "displayName": "Fabien Marpeau",
      "userId": "15210978490258687001"
     },
     "user_tz": 300
    },
    "id": "82f82465"
   },
   "outputs": [],
   "source": [
    "# Define the column names for the DataFrame\n",
    "header = ['user_id', 'item_id', 'rating', 'timestamp']\n",
    "\n",
    "# Read the data from the file 'u.data' into a DataFrame using pandas\n",
    "# The data is tab-separated ('\\t'), and column names are provided by 'header'\n",
    "df = pd.read_csv('/content/u.data', sep='\\t', names=header)\n",
    "\n",
    "# Display the first few rows of the DataFrame to check the data\n",
    "df.head()\n"
   ]
  },
  {
   "cell_type": "code",
   "execution_count": null,
   "id": "55a3c83e",
   "metadata": {
    "id": "55a3c83e"
   },
   "outputs": [],
   "source": [
    "# Calculate the number of unique user IDs in the DataFrame\n",
    "# shape[0] returns the number of elements in the first dimension of the resulting array\n",
    "# unique() returns unique values of the 'user_id' column\n",
    "n_users = df['user_id'].unique().shape[0]\n",
    "\n",
    "# Calculate the number of unique item IDs in the DataFrame\n",
    "# shape[0] returns the number of elements in the first dimension of the resulting array\n",
    "# unique() returns unique values of the 'item_id' column\n",
    "n_items = df['item_id'].unique().shape[0]"
   ]
  },
  {
   "cell_type": "code",
   "execution_count": null,
   "id": "eKumpyHEH6nL",
   "metadata": {
    "executionInfo": {
     "elapsed": 122,
     "status": "ok",
     "timestamp": 1728847857020,
     "user": {
      "displayName": "Fabien Marpeau",
      "userId": "15210978490258687001"
     },
     "user_tz": 300
    },
    "id": "eKumpyHEH6nL"
   },
   "outputs": [],
   "source": [
    "n_users,n_items"
   ]
  },
  {
   "cell_type": "code",
   "execution_count": null,
   "id": "57b56d7c",
   "metadata": {
    "id": "57b56d7c"
   },
   "outputs": [],
   "source": [
    "# Import the train_test_split function from the sklearn.model_selection module\n",
    "from sklearn.model_selection import train_test_split\n",
    "\n",
    "# Split the DataFrame 'df' into training and testing datasets\n",
    "# The 'test_size' parameter specifies the proportion of the dataset to include in the test split\n",
    "train_data, test_data = train_test_split(df, test_size=0.25)"
   ]
  },
  {
   "cell_type": "code",
   "execution_count": null,
   "id": "df04a661",
   "metadata": {
    "id": "df04a661"
   },
   "outputs": [],
   "source": [
    "# Initialize a matrix with zeros of shape (n_users, n_items) for training data\n",
    "train_data_mat = np.zeros((n_users, n_items))\n",
    "\n",
    "# Iterate through each row of the training data DataFrame using itertuples()\n",
    "for line in train_data.itertuples():\n",
    "    # Assign the rating value (line[3]) to the corresponding position in the matrix\n",
    "    # Subtract 1 from user_id and item_id to account for zero-based indexing\n",
    "    train_data_mat[line[1]-1, line[2]-1] = line[3]\n",
    "\n",
    "# Initialize a matrix with zeros of shape (n_users, n_items) for testing data\n",
    "test_data_mat = np.zeros((n_users, n_items))\n",
    "\n",
    "# Iterate through each row of the testing data DataFrame using itertuples()\n",
    "for line in test_data.itertuples():\n",
    "    # Assign the rating value (line[3]) to the corresponding position in the matrix\n",
    "    # Subtract 1 from user_id and item_id to account for zero-based indexing\n",
    "    test_data_mat[line[1]-1, line[2]-1] = line[3]"
   ]
  },
  {
   "cell_type": "code",
   "execution_count": null,
   "id": "OZgM-NR-IUA-",
   "metadata": {
    "executionInfo": {
     "elapsed": 119,
     "status": "ok",
     "timestamp": 1728847861802,
     "user": {
      "displayName": "Fabien Marpeau",
      "userId": "15210978490258687001"
     },
     "user_tz": 300
    },
    "id": "OZgM-NR-IUA-"
   },
   "outputs": [],
   "source": [
    "train_data_mat[:10]"
   ]
  },
  {
   "cell_type": "code",
   "execution_count": null,
   "id": "FMs26I3hKQcU",
   "metadata": {
    "executionInfo": {
     "elapsed": 134,
     "status": "ok",
     "timestamp": 1728847865093,
     "user": {
      "displayName": "Fabien Marpeau",
      "userId": "15210978490258687001"
     },
     "user_tz": 300
    },
    "id": "FMs26I3hKQcU"
   },
   "outputs": [],
   "source": [
    "test_data_mat[:10]"
   ]
  },
  {
   "cell_type": "markdown",
   "id": "5NWcjvhcI5L4",
   "metadata": {
    "id": "5NWcjvhcI5L4"
   },
   "source": [
    "### Define the RMSE Function\n",
    "\n",
    "- Import mean_squared_error\n",
    "- Define the rmse function to calculate the root mean squared erro"
   ]
  },
  {
   "cell_type": "code",
   "execution_count": null,
   "id": "33680034",
   "metadata": {
    "id": "33680034"
   },
   "outputs": [],
   "source": [
    "# Import the mean_squared_error function from the sklearn.metrics module\n",
    "from sklearn.metrics import mean_squared_error\n",
    "\n",
    "# Import the square root function from the math module\n",
    "from math import sqrt\n",
    "\n",
    "# Define a function named 'rmse' to calculate the Root Mean Squared Error (RMSE)\n",
    "# The function takes two parameters: 'prediction' and 'ground_truth'\n",
    "def rmse(prediction, ground_truth):\n",
    "    # Extract non-zero elements from 'prediction' and 'ground_truth'\n",
    "    prediction = prediction[ground_truth.nonzero()].flatten()\n",
    "    ground_truth = ground_truth[ground_truth.nonzero()].flatten()\n",
    "\n",
    "    # Calculate the Root Mean Squared Error (RMSE) between 'prediction' and 'ground_truth'\n",
    "    return sqrt(mean_squared_error(prediction, ground_truth))"
   ]
  },
  {
   "cell_type": "markdown",
   "id": "w6GiGRpuI-rk",
   "metadata": {
    "id": "w6GiGRpuI-rk"
   },
   "source": [
    "### Calculate the sparsity of the dataset"
   ]
  },
  {
   "cell_type": "code",
   "execution_count": null,
   "id": "d3c5e5f3",
   "metadata": {
    "executionInfo": {
     "elapsed": 111,
     "status": "ok",
     "timestamp": 1728847870906,
     "user": {
      "displayName": "Fabien Marpeau",
      "userId": "15210978490258687001"
     },
     "user_tz": 300
    },
    "id": "d3c5e5f3"
   },
   "outputs": [],
   "source": [
    "# Calculate the sparsity of the MovieLens100K dataset\n",
    "# Sparsity is defined as 1 minus the density of the dataset\n",
    "# Density is calculated as the number of ratings provided divided by the total possible ratings\n",
    "sparsity = round(1.0 - len(df) / float(n_users * n_items), 3)\n",
    "\n",
    "# Print the sparsity level as a percentage\n",
    "print(f'The sparsity level of MovieLens100K is {sparsity * 100:.2f}%')"
   ]
  },
  {
   "cell_type": "code",
   "execution_count": null,
   "id": "f1b453eb",
   "metadata": {
    "executionInfo": {
     "elapsed": 118,
     "status": "ok",
     "timestamp": 1728847880101,
     "user": {
      "displayName": "Fabien Marpeau",
      "userId": "15210978490258687001"
     },
     "user_tz": 300
    },
    "id": "f1b453eb"
   },
   "outputs": [],
   "source": [
    "# Import the required modules from scipy.sparse and scipy.sparse.linalg\n",
    "import scipy.sparse as sp\n",
    "from scipy.sparse.linalg import svds\n",
    "\n",
    "# Perform Singular Value Decomposition (SVD) on the training data matrix\n",
    "# 'k' specifies the number of singular values and vectors to compute\n",
    "u, s, vt = svds(train_data_mat, k=20)\n",
    "\n",
    "# Convert the singular values 's' into a diagonal matrix\n",
    "s_diag_matrix = np.diag(s)\n",
    "\n",
    "# Reconstruct the original matrix using the computed U, S, and V matrices\n",
    "X_pred = np.dot(np.dot(u, s_diag_matrix), vt)\n",
    "\n",
    "# Print the Root Mean Squared Error (RMSE) of the user-based collaborative filtering predictions\n",
    "print('User-based collaborative filtering RMSE: ' + str(rmse(X_pred, test_data_mat)))"
   ]
  },
  {
   "cell_type": "code",
   "execution_count": null,
   "id": "rtxhsSyXKnZW",
   "metadata": {
    "executionInfo": {
     "elapsed": 142,
     "status": "ok",
     "timestamp": 1728847884901,
     "user": {
      "displayName": "Fabien Marpeau",
      "userId": "15210978490258687001"
     },
     "user_tz": 300
    },
    "id": "rtxhsSyXKnZW"
   },
   "outputs": [],
   "source": [
    "X_pred[:5]"
   ]
  },
  {
   "cell_type": "code",
   "execution_count": null,
   "id": "kl2xZi7LKncR",
   "metadata": {
    "executionInfo": {
     "elapsed": 128,
     "status": "ok",
     "timestamp": 1728847889116,
     "user": {
      "displayName": "Fabien Marpeau",
      "userId": "15210978490258687001"
     },
     "user_tz": 300
    },
    "id": "kl2xZi7LKncR"
   },
   "outputs": [],
   "source": [
    "test_data_mat[:5]"
   ]
  },
  {
   "cell_type": "markdown",
   "id": "0d82bd07",
   "metadata": {
    "id": "0d82bd07"
   },
   "source": [
    "__Observations:__\n",
    "\n",
    "- Applying SVD for user-based collaborative filtering results in a root mean squared error (RMSE) of approximately 2.7.\n",
    "- This RMSE quantifies the average deviation between the predicted ratings and the actual ratings in the test dataset, demonstrating the effectiveness of SVD in predicting user preferences within this dataset.\n"
   ]
  },
  {
   "cell_type": "markdown",
   "id": "vmXRoY1FxKN8",
   "metadata": {
    "id": "vmXRoY1FxKN8"
   },
   "source": [
    "Singular value decomposition (SVD) helps in recommendation systems by decomposing the user-item interaction matrix into three matrices, capturing latent factors, and enabling the prediction of missing ratings for better recommendations. SVD reduces dimensionality and identifies hidden patterns, improving accuracy. It is also applicable in personalized content recommendations, e-commerce product suggestions, and social network connections."
   ]
  },
  {
   "cell_type": "markdown",
   "id": "ymPtxVddK5Ue",
   "metadata": {
    "id": "ymPtxVddK5Ue"
   },
   "source": [
    "## Use sickit-learn's Surprise library"
   ]
  },
  {
   "cell_type": "code",
   "execution_count": null,
   "id": "Mzzx1f4QK-0i",
   "metadata": {
    "executionInfo": {
     "elapsed": 159,
     "status": "ok",
     "timestamp": 1728847893424,
     "user": {
      "displayName": "Fabien Marpeau",
      "userId": "15210978490258687001"
     },
     "user_tz": 300
    },
    "id": "Mzzx1f4QK-0i"
   },
   "outputs": [],
   "source": [
    "!pip install scikit-surprise"
   ]
  },
  {
   "cell_type": "code",
   "execution_count": null,
   "id": "Zwm491FHLIHi",
   "metadata": {
    "id": "Zwm491FHLIHi"
   },
   "outputs": [],
   "source": [
    "from surprise import SVD\n",
    "from surprise import Reader\n",
    "from surprise import Dataset\n",
    "from surprise.model_selection import train_test_split"
   ]
  },
  {
   "cell_type": "code",
   "execution_count": null,
   "id": "LR-87K11LIKq",
   "metadata": {
    "id": "LR-87K11LIKq"
   },
   "outputs": [],
   "source": [
    "reader = # CODE HERE\n",
    "data = # CODE HERE\n",
    "trainset, testset = train_test_split(data, test_size=0.25, random_state=0)"
   ]
  },
  {
   "cell_type": "code",
   "execution_count": null,
   "id": "LNlWu7n0LINq",
   "metadata": {
    "id": "LNlWu7n0LINq"
   },
   "outputs": [],
   "source": [
    "# Declare\n",
    "# default n_factors=100\n",
    "algo = # CODE HERE"
   ]
  },
  {
   "cell_type": "code",
   "execution_count": null,
   "id": "W-u-ufqKLN2x",
   "metadata": {
    "executionInfo": {
     "elapsed": 135,
     "status": "ok",
     "timestamp": 1728847899253,
     "user": {
      "displayName": "Fabien Marpeau",
      "userId": "15210978490258687001"
     },
     "user_tz": 300
    },
    "id": "W-u-ufqKLN2x"
   },
   "outputs": [],
   "source": [
    "# Fit\n",
    "# CODE HERE"
   ]
  },
  {
   "cell_type": "code",
   "execution_count": null,
   "id": "Y5ALpZOnLN5s",
   "metadata": {
    "executionInfo": {
     "elapsed": 111,
     "status": "ok",
     "timestamp": 1728847903973,
     "user": {
      "displayName": "Fabien Marpeau",
      "userId": "15210978490258687001"
     },
     "user_tz": 300
    },
    "id": "Y5ALpZOnLN5s"
   },
   "outputs": [],
   "source": [
    "# Predict rating from user 0 for item 1\n",
    "# CODE HERE"
   ]
  },
  {
   "cell_type": "code",
   "execution_count": null,
   "id": "bN1dtXBALN9P",
   "metadata": {
    "executionInfo": {
     "elapsed": 114,
     "status": "ok",
     "timestamp": 1728847908911,
     "user": {
      "displayName": "Fabien Marpeau",
      "userId": "15210978490258687001"
     },
     "user_tz": 300
    },
    "id": "bN1dtXBALN9P"
   },
   "outputs": [],
   "source": [
    "# Predict for test data and compare with residuals\n",
    "predictions = # CODE HERE"
   ]
  },
  {
   "cell_type": "code",
   "execution_count": null,
   "id": "Q8mZtr5JLbOH",
   "metadata": {
    "executionInfo": {
     "elapsed": 159,
     "status": "ok",
     "timestamp": 1728847912733,
     "user": {
      "displayName": "Fabien Marpeau",
      "userId": "15210978490258687001"
     },
     "user_tz": 300
    },
    "id": "Q8mZtr5JLbOH"
   },
   "outputs": [],
   "source": [
    "predictions[:10]"
   ]
  },
  {
   "cell_type": "code",
   "execution_count": null,
   "id": "--B371bXLlj8",
   "metadata": {
    "executionInfo": {
     "elapsed": 161,
     "status": "ok",
     "timestamp": 1728847917640,
     "user": {
      "displayName": "Fabien Marpeau",
      "userId": "15210978490258687001"
     },
     "user_tz": 300
    },
    "id": "--B371bXLlj8"
   },
   "outputs": [],
   "source": [
    "# Accuracy\n",
    "from surprise import accuracy\n",
    "accuracy.mae(predictions, verbose=False)"
   ]
  },
  {
   "cell_type": "code",
   "execution_count": null,
   "id": "uWPrLyTTLmBW",
   "metadata": {
    "executionInfo": {
     "elapsed": 154,
     "status": "ok",
     "timestamp": 1728847921308,
     "user": {
      "displayName": "Fabien Marpeau",
      "userId": "15210978490258687001"
     },
     "user_tz": 300
    },
    "id": "uWPrLyTTLmBW"
   },
   "outputs": [],
   "source": [
    "accuracy.rmse(predictions, verbose=False)"
   ]
  },
  {
   "cell_type": "markdown",
   "id": "61fd3d35",
   "metadata": {
    "id": "61fd3d35"
   },
   "source": [
    "## __1.3.2 Content Filtering__\n",
    "\n",
    "Content filtering relies on the attributes or characteristics of an item to suggest other items that match the user's preferences. This method is based on the resemblance between item and user features, utilizing information about a user and the items they have engaged with to predict the likelihood of a new interaction.\n",
    "\n",
    "For instance, if a content filtering recommender system observes that you enjoyed movies like __You've Got Mail__ and __Sleepless in Seattle__, it might recommend another movie with similar genres and/or cast, such as __Joe Versus the Volcano__.\n"
   ]
  },
  {
   "cell_type": "markdown",
   "id": "ca19da18",
   "metadata": {
    "id": "ca19da18"
   },
   "source": [
    "![link text](https://labcontent.simplicdn.net/data-content/content-assets/Data_and_AI/ML/updated/Lesson_08/Content_Filtering.jpg)"
   ]
  },
  {
   "cell_type": "code",
   "execution_count": null,
   "id": "RtlOCDwve5zd",
   "metadata": {
    "id": "RtlOCDwve5zd"
   },
   "outputs": [],
   "source": [
    "import numpy as np\n",
    "from sklearn.metrics.pairwise import cosine_similarity\n",
    "\n",
    "# Define item profiles (attributes: [genre, length, director])\n",
    "item_profiles = {\n",
    "    'Item1': np.array([1, 0, 1, 1]),  # Example: Genre1, Length2, Director1, Actor1\n",
    "    'Item2': np.array([0, 1, 1, 0]),\n",
    "    'Item3': np.array([1, 1, 0, 1]),\n",
    "}\n",
    "\n",
    "# User ratings for items (rating scale: 1-5)\n",
    "user_ratings = {\n",
    "    'Item1': 5,\n",
    "    'Item2': 3,\n",
    "    'Item3': 4,\n",
    "}"
   ]
  },
  {
   "cell_type": "code",
   "execution_count": null,
   "id": "PQh1woZ_MERE",
   "metadata": {
    "executionInfo": {
     "elapsed": 115,
     "status": "ok",
     "timestamp": 1728847927918,
     "user": {
      "displayName": "Fabien Marpeau",
      "userId": "15210978490258687001"
     },
     "user_tz": 300
    },
    "id": "PQh1woZ_MERE"
   },
   "outputs": [],
   "source": [
    "# Print item dictionary\n",
    "item_profiles"
   ]
  },
  {
   "cell_type": "code",
   "execution_count": null,
   "id": "ukfel6s-MHW1",
   "metadata": {
    "executionInfo": {
     "elapsed": 154,
     "status": "ok",
     "timestamp": 1728847932736,
     "user": {
      "displayName": "Fabien Marpeau",
      "userId": "15210978490258687001"
     },
     "user_tz": 300
    },
    "id": "ukfel6s-MHW1"
   },
   "outputs": [],
   "source": [
    "# Print user dictionary\n",
    "user_ratings"
   ]
  },
  {
   "cell_type": "markdown",
   "id": "MrjFy09rOjU_",
   "metadata": {
    "id": "MrjFy09rOjU_"
   },
   "source": [
    "__Remark: the user gave a score of 5 to Item1 and Item1 is represented by the attributes [1,0,1,1]. Thus, based on item 1 only, it seems like the user gives a score of 5 to genre1, 0 to lenght2, 5 to director1 and 5 to actor 1.__\n",
    "<br>\n",
    "\n",
    "__Let us compute the average scores for genre1, to lenght2, director1 and actor based on all items.__"
   ]
  },
  {
   "cell_type": "code",
   "execution_count": null,
   "id": "ajPp3J1NMBZc",
   "metadata": {
    "executionInfo": {
     "elapsed": 126,
     "status": "ok",
     "timestamp": 1728847940063,
     "user": {
      "displayName": "Fabien Marpeau",
      "userId": "15210978490258687001"
     },
     "user_tz": 300
    },
    "id": "ajPp3J1NMBZc"
   },
   "outputs": [],
   "source": [
    "# Construct user profile by averaging the attribute vectors of rated items\n",
    "content_size = len(item_profiles['Item1'])\n",
    "user_profile = np.zeros(content_size)\n",
    "rated_items = 0\n",
    "\n",
    "for item, rating in user_ratings.items():\n",
    "    user_profile += item_profiles[item] * rating\n",
    "    rated_items += 1\n",
    "\n",
    "user_profile /= rated_items\n",
    "\n",
    "print(\"User profile vector:\", user_profile)"
   ]
  },
  {
   "cell_type": "markdown",
   "id": "CPoS7z37ODpO",
   "metadata": {
    "id": "CPoS7z37ODpO"
   },
   "source": [
    "__Remarks: it looks like the user gives a score of 3 to genre1, 2.33 to lenght2, 2.66 to director1 and 3 to actor 1.__"
   ]
  },
  {
   "cell_type": "code",
   "execution_count": null,
   "id": "ptQqNwbZNAX1",
   "metadata": {
    "executionInfo": {
     "elapsed": 118,
     "status": "ok",
     "timestamp": 1728847944900,
     "user": {
      "displayName": "Fabien Marpeau",
      "userId": "15210978490258687001"
     },
     "user_tz": 300
    },
    "id": "ptQqNwbZNAX1"
   },
   "outputs": [],
   "source": [
    "# New item to recommend (attributes)\n",
    "new_item_profile = np.array([1, 1, 0, 0])  # Example: Genre1, Length2, Director1, Actor1\n",
    "new_item_profile"
   ]
  },
  {
   "cell_type": "code",
   "execution_count": null,
   "id": "mdNX4C1_PZyf",
   "metadata": {
    "executionInfo": {
     "elapsed": 3,
     "status": "ok",
     "timestamp": 1728847949928,
     "user": {
      "displayName": "Fabien Marpeau",
      "userId": "15210978490258687001"
     },
     "user_tz": 300
    },
    "id": "mdNX4C1_PZyf"
   },
   "outputs": [],
   "source": [
    "# Compute cosine similarity between user profile and new item profile\n",
    "similarity = cosine_similarity([user_profile], [new_item_profile])\n",
    "\n",
    "print(\"Cosine similarity between user profile and new item:\", similarity[0][0])"
   ]
  },
  {
   "cell_type": "markdown",
   "id": "iXxkwRqzyaQS",
   "metadata": {
    "id": "iXxkwRqzyaQS"
   },
   "source": [
    "**Observation:**\n",
    "\n",
    "The user profile vector [3.0, 2.33, 2.67, 3] reflects the user's aggregated preferences across the given attributes. The cosine similarity between the user profile and the new item's profile [1, 1, 0, 0] is 0.68, indicating a strong match. Thus, the new item is recommended to the user, as it closely aligns with their preferences."
   ]
  },
  {
   "cell_type": "markdown",
   "id": "2936e21a",
   "metadata": {
    "id": "2936e21a"
   },
   "source": [
    "### __1.3.3 Hybrid Filtering__\n",
    "\n",
    "Hybrid recommendation systems combine techniques like collaborative filtering and content-based filtering to provide personalized recommendations.\n",
    "\n",
    "For instance, a movie recommendation system might analyze both user preferences (collaborative filtering) and movie attributes (content-based filtering) to suggest films, achieving more accurate and diverse recommendations.\n",
    "\n",
    "### Mathematical Concept for Hybrid Filtering\n",
    "\n",
    "Hybrid filtering can be implemented by combining the results from collaborative filtering and content-based filtering. Here is a simple approach:\n",
    "\n",
    "1. **Collaborative Filtering Score**:  \n",
    "   Compute the predicted rating for a user \\(u\\) and item \\(i\\) using collaborative filtering:\n",
    "   $$\n",
    "   \\text{score}_{\\text{CF}}(u, i)\n",
    "   $$\n",
    "\n",
    "2. **Content-Based Filtering Score**:  \n",
    "   Compute the predicted rating for a user \\(u\\) and item \\(i\\) using content-based filtering:\n",
    "   $$\n",
    "   \\text{score}_{\\text{CB}}(u, i)\n",
    "   $$\n",
    "\n",
    "3. **Hybrid Score**:  \n",
    "   Combine the scores from collaborative filtering and content-based filtering. A common method is to take a weighted average:\n",
    "   $$\n",
    "   \\text{score}_{\\text{Hybrid}}(u, i) = \\alpha \\cdot \\text{score}_{\\text{CF}}(u, i) + (1 - \\alpha) \\cdot \\text{score}_{\\text{CB}}(u, i)\n",
    "   $$\n",
    "   where \\(\\alpha\\) is a parameter that balances the contributions of the two methods.\n",
    "\n",
    "This approach leverages the strengths of both collaborative and content-based filtering to provide more accurate and personalized recommendations.\n",
    "\n",
    "### Example\n",
    "\n",
    "Let's illustrate hybrid filtering with a simple coding example.\n",
    "\n"
   ]
  },
  {
   "cell_type": "code",
   "execution_count": null,
   "id": "c6I15gh1jfzH",
   "metadata": {
    "id": "c6I15gh1jfzH"
   },
   "outputs": [],
   "source": [
    "import numpy as np\n",
    "\n",
    "# Example collaborative filtering scores\n",
    "cf_scores = np.array([\n",
    "    [4.0, 3.5, 3.0],\n",
    "    [2.5, 4.0, 4.5],\n",
    "    [3.5, 4.5, 5.0]\n",
    "])\n",
    "\n",
    "# Example content-based filtering scores\n",
    "cb_scores = np.array([\n",
    "    [3.5, 3.0, 4.0],\n",
    "    [3.0, 4.0, 4.0],\n",
    "    [4.0, 4.5, 3.5]\n",
    "])"
   ]
  },
  {
   "cell_type": "code",
   "execution_count": null,
   "id": "ASLbrnoLP5iv",
   "metadata": {
    "executionInfo": {
     "elapsed": 129,
     "status": "ok",
     "timestamp": 1728847958026,
     "user": {
      "displayName": "Fabien Marpeau",
      "userId": "15210978490258687001"
     },
     "user_tz": 300
    },
    "id": "ASLbrnoLP5iv"
   },
   "outputs": [],
   "source": [
    "# Combine the scores with a weighted average\n",
    "alpha = 0.5\n",
    "hybrid_scores = alpha * cf_scores + (1 - alpha) * cb_scores\n",
    "\n",
    "print(\"Collaborative Filtering Scores:\\n\", cf_scores)\n",
    "print(\"Content-Based Filtering Scores:\\n\", cb_scores)\n",
    "print(\"Hybrid Scores:\\n\", hybrid_scores)"
   ]
  },
  {
   "cell_type": "markdown",
   "id": "B-bkn-0wzXxH",
   "metadata": {
    "id": "B-bkn-0wzXxH"
   },
   "source": [
    "**Observation:**\n",
    "\n",
    "The hybrid scores, which blend the collaborative filtering and content-based filtering scores, show balanced ratings for items, indicating a comprehensive recommendation approach that considers both user interactions and item attributes."
   ]
  },
  {
   "cell_type": "markdown",
   "id": "AIWnyyOoz8nx",
   "metadata": {
    "id": "AIWnyyOoz8nx"
   },
   "source": [
    "**Further Use and Example:**\n",
    "\n",
    "Hybrid recommendation systems can be used in various applications to enhance recommendation accuracy by combining multiple recommendation techniques.\n",
    "\n",
    "**Example:**\n",
    "\n",
    "**E-commerce Platforms:**\n",
    "\n",
    "- **Scenario:** An online retail store wants to recommend products to users.\n",
    "\n",
    "- **Application:** The system uses collaborative filtering to leverage user purchase history and content-based filtering to analyze product descriptions. Combining these scores, the hybrid system can recommend products that similar users have bought and that match the user's browsing preferences."
   ]
  },
  {
   "cell_type": "markdown",
   "id": "792646f9",
   "metadata": {
    "id": "792646f9"
   },
   "source": [
    "### __1.4 Advanced Techniques in Recommendation Systems__\n",
    "\n",
    "\n",
    "\n"
   ]
  },
  {
   "cell_type": "markdown",
   "id": "75378a7b",
   "metadata": {
    "id": "75378a7b"
   },
   "source": [
    "### __1.4.1 GetTopN Function__\n",
    "\n",
    "The `GetTopN` function is commonly used in recommendation systems to retrieve the top N recommended items for each user. This is particularly useful for generating personalized recommendation lists.\n",
    "\n",
    "#### Usage\n",
    "\n",
    "The `GetTopN` function typically works by taking a matrix of predicted ratings and returning the top N items with the highest predicted ratings for each user. This helps in creating a ranked list of recommendations tailored to the user's preferences.\n"
   ]
  },
  {
   "cell_type": "code",
   "execution_count": null,
   "id": "29b7dfd8",
   "metadata": {
    "id": "29b7dfd8"
   },
   "outputs": [],
   "source": [
    "import numpy as np\n",
    "\n",
    "def GetTopN(predictions, n=10):\n",
    "\n",
    "    # Create a dictionary that contains ratings for the n highest ranked items,\n",
    "    # for each user\n",
    "    # \"predictions\" is a matrix of ratings, each row represents a user,\n",
    "    # each column represents an item;\n",
    "    # predictions[i,j] = rating for the item j from the user i\n",
    "    top_n = {}\n",
    "    for user_id in range(predictions.shape[0]):\n",
    "        # Get the row of all ratings for user \"user_id\"\n",
    "        user_ratings = predictions[user_id]\n",
    "\n",
    "        # Get n highest rated items for user \"user_id\"\n",
    "        top_n[user_id] = np.argsort(user_ratings)[::-1][:n]\n",
    "    return top_n"
   ]
  },
  {
   "cell_type": "markdown",
   "id": "Z8Ww8z7jSngu",
   "metadata": {
    "id": "Z8Ww8z7jSngu"
   },
   "source": [
    "### Example with a rating matrix of 3 users and 5 items."
   ]
  },
  {
   "cell_type": "code",
   "execution_count": null,
   "id": "4vz4DhhNQNMz",
   "metadata": {
    "executionInfo": {
     "elapsed": 96,
     "status": "ok",
     "timestamp": 1728847966970,
     "user": {
      "displayName": "Fabien Marpeau",
      "userId": "15210978490258687001"
     },
     "user_tz": 300
    },
    "id": "4vz4DhhNQNMz"
   },
   "outputs": [],
   "source": [
    "# Example predicted ratings matrix (users x items)\n",
    "predicted_ratings = np.array([\n",
    "    [3.5, 2.0, 4.5, 1.0, 5.0],\n",
    "    [1.0, 4.0, 3.0, 4.5, 2.0],\n",
    "    [4.0, 2.5, 3.5, 4.0, 5.0],\n",
    "])\n",
    "\n",
    "print(predicted_ratings)"
   ]
  },
  {
   "cell_type": "code",
   "execution_count": null,
   "id": "nD_BQ015QPGc",
   "metadata": {
    "executionInfo": {
     "elapsed": 104,
     "status": "ok",
     "timestamp": 1728847971859,
     "user": {
      "displayName": "Fabien Marpeau",
      "userId": "15210978490258687001"
     },
     "user_tz": 300
    },
    "id": "nD_BQ015QPGc"
   },
   "outputs": [],
   "source": [
    "# Get top 3 recommendations for each user\n",
    "top_n_recommendations = GetTopN(predicted_ratings, n=3)\n",
    "print(\"Top N Recommendations:\")\n",
    "\n",
    "for user, recommendations in top_n_recommendations.items():\n",
    "    print(f\"User {user}: Items {recommendations}\")"
   ]
  },
  {
   "cell_type": "markdown",
   "id": "MhaCE5uAT8DL",
   "metadata": {
    "id": "MhaCE5uAT8DL"
   },
   "source": [
    "__Remarks:__<br>\n",
    "__the first 3 favorites items for User 0 are items 4, 2 and 0.__<br>\n",
    "__the first 3 favorites items for User 1 are items 3, 1 and 2.__<br>\n",
    "__the first 3 favorites items for User 2 are items 4, 3 and 0.__<br>"
   ]
  },
  {
   "cell_type": "markdown",
   "id": "zeVstVATL2fz",
   "metadata": {
    "id": "zeVstVATL2fz"
   },
   "source": [
    "### Observation\n",
    "\n",
    "In this example, the `GetTopN` function generates personalized recommendation lists by extracting the top N highest-rated items for each user from predicted ratings. The function sorts these ratings in descending order and selects the top N items, creating a dictionary of recommendations. This demonstrates how to efficiently transform a matrix of predicted ratings into actionable recommendation lists using sorting and indexing techniques."
   ]
  },
  {
   "cell_type": "markdown",
   "id": "rFghpxm8I_7y",
   "metadata": {
    "id": "rFghpxm8I_7y"
   },
   "source": [
    "### __1.4.2 Hit Rate__\n",
    "\n",
    "The Hit Rate is a metric used to evaluate the effectiveness of a recommendation system. It measures the proportion of users for whom the recommended list contains at least one relevant item.\n",
    "\n",
    "#### Usage\n",
    "\n",
    "The Hit Rate is calculated by dividing the number of users who received at least one relevant recommendation by the total number of users. It gives an indication of how well the recommendation system is performing in terms of hitting the target for each user.\n"
   ]
  },
  {
   "cell_type": "code",
   "execution_count": null,
   "id": "nz4oaZ1bJENs",
   "metadata": {
    "id": "nz4oaZ1bJENs"
   },
   "outputs": [],
   "source": [
    "def HitRate(top_n_recommendations, true_ratings, threshold=3.5):\n",
    "    hits = 0\n",
    "    total_users = len(top_n_recommendations)\n",
    "\n",
    "    for user, recommendations in top_n_recommendations.items():\n",
    "        # Check if any of the recommended items are rated above the threshold by the user\n",
    "        if any(true_ratings[user, item] >= threshold for item in recommendations):\n",
    "            hits += 1\n",
    "\n",
    "    hit_rate = hits / total_users\n",
    "    return hit_rate"
   ]
  },
  {
   "cell_type": "code",
   "execution_count": null,
   "id": "Fz1MhAFMUl2a",
   "metadata": {
    "executionInfo": {
     "elapsed": 132,
     "status": "ok",
     "timestamp": 1728847979249,
     "user": {
      "displayName": "Fabien Marpeau",
      "userId": "15210978490258687001"
     },
     "user_tz": 300
    },
    "id": "Fz1MhAFMUl2a"
   },
   "outputs": [],
   "source": [
    "# Example true ratings matrix (users x items)\n",
    "true_ratings = np.array([\n",
    "    [3.5, 2.0, 4.5, 1.0, 5.0],\n",
    "    [1.0, 4.0, 3.0, 4.5, 2.0],\n",
    "    [4.0, 2.5, 3.5, 4.0, 5.0],\n",
    "])\n",
    "\n",
    "print(true_ratings)"
   ]
  },
  {
   "cell_type": "code",
   "execution_count": null,
   "id": "4uBJtLQLU6PM",
   "metadata": {
    "executionInfo": {
     "elapsed": 138,
     "status": "ok",
     "timestamp": 1728847984248,
     "user": {
      "displayName": "Fabien Marpeau",
      "userId": "15210978490258687001"
     },
     "user_tz": 300
    },
    "id": "4uBJtLQLU6PM"
   },
   "outputs": [],
   "source": [
    "print(top_n_recommendations)"
   ]
  },
  {
   "cell_type": "code",
   "execution_count": null,
   "id": "8c3N8GtJUqwe",
   "metadata": {
    "executionInfo": {
     "elapsed": 3,
     "status": "ok",
     "timestamp": 1728847989296,
     "user": {
      "displayName": "Fabien Marpeau",
      "userId": "15210978490258687001"
     },
     "user_tz": 300
    },
    "id": "8c3N8GtJUqwe"
   },
   "outputs": [],
   "source": [
    "# Calculate Hit Rate\n",
    "hit_rate = HitRate(top_n_recommendations, true_ratings, threshold=3.5)\n",
    "print(f\"Hit Rate: {hit_rate:.2f}\")"
   ]
  },
  {
   "cell_type": "markdown",
   "id": "2151As3eMCin",
   "metadata": {
    "id": "2151As3eMCin"
   },
   "source": [
    "### Observation\n",
    "\n",
    "In this example, the `HitRate` function calculates the effectiveness of recommendations by determining the proportion of users who have at least one recommended item rated above a specified threshold. It iterates through the top N recommendations for each user and checks if any recommended item meets the threshold. The function then computes the hit rate as the ratio of users with at least one relevant recommendation to the total number of users. This example shows how to evaluate the relevance of recommendations using a simple and intuitive metric."
   ]
  },
  {
   "cell_type": "markdown",
   "id": "DuiepwmUKiR9",
   "metadata": {
    "id": "DuiepwmUKiR9"
   },
   "source": [
    "## __1.5. Addressing Challenges in Recommendation Systems__"
   ]
  },
  {
   "cell_type": "markdown",
   "id": "99Lb0yXx5_vF",
   "metadata": {
    "id": "99Lb0yXx5_vF"
   },
   "source": [
    "### __1.5.1 Cold start problem__"
   ]
  },
  {
   "cell_type": "markdown",
   "id": "pAnrkKZ6J0z9",
   "metadata": {
    "id": "pAnrkKZ6J0z9"
   },
   "source": [
    "\n",
    "\n",
    "The cold start problem refers to a challenge encountered by recommender systems when they are unable to effectively make recommendations for new users or items with limited or no historical data. In other words, when there isn't enough information about a user's preferences or about newly added items, it becomes difficult for the recommender system to accurately predict what the user might like. This can result in less personalized or inaccurate recommendations until sufficient data is collected to better understand the user or item.\n"
   ]
  },
  {
   "cell_type": "markdown",
   "id": "F7js4i88J05A",
   "metadata": {
    "id": "F7js4i88J05A"
   },
   "source": [
    "#### Types of Cold Start Problems\n",
    "\n",
    "- **User Cold Start Problem**: This arises when there is almost no information available about the user, making it difficult to generate personalized recommendations.\n",
    "- **Item Cold Start Problem**: This occurs when there is almost no information available about a product, making it difficult to recommend it to users effectively.\n"
   ]
  },
  {
   "cell_type": "markdown",
   "id": "LgfTtQVVM4lU",
   "metadata": {
    "id": "LgfTtQVVM4lU"
   },
   "source": [
    "#### Reasons for Cold Start Problems\n",
    "\n",
    "- **Systematic Bootstrapping**: Starting the system with limited data makes it difficult to give accurate recommendations to new users or items.\n",
    "- **Low Interaction**: Minimal user engagement results in sparse data, making it difficult for the recommender system to understand preferences.\n",
    "- **New User**: Lack of historical data for new users hampers personalized recommendations until enough interaction data is collected.\n"
   ]
  },
  {
   "cell_type": "markdown",
   "id": "Sa9GQGKOM4nc",
   "metadata": {
    "id": "Sa9GQGKOM4nc"
   },
   "source": [
    "#### Mitigation Techniques\n",
    "\n",
    "Mitigation techniques refer to employing strategies to tackle challenges or lessen the effects of issues encountered within a system or process with the goal of improving performance or effectiveness. The following are the primary techniques employed for mitigation:\n",
    "\n",
    "- **Representative Approach**: Using samples or subsets of data that accurately reflect the characteristics of a larger dataset ensures reliable analysis and decision-making.\n",
    "- **Feature Mapping**: Transforming input variables into a different representation improves the performance or interpretability of machine learning models.\n",
    "- **Hybrid Approach**: Combining various methods or models aims to achieve superior performance or address diverse requirements effectively.\n"
   ]
  },
  {
   "cell_type": "markdown",
   "id": "A0R58b_fM40x",
   "metadata": {
    "id": "A0R58b_fM40x"
   },
   "source": [
    "### __1.5.2 Implicit and Explicit Feedback__\n",
    "\n",
    "In recommendation systems, implicit and explicit feedback are two types of signals used to understand user preferences.\n"
   ]
  },
  {
   "cell_type": "markdown",
   "id": "rqpLWZcfM43N",
   "metadata": {
    "id": "rqpLWZcfM43N"
   },
   "source": [
    "- **Explicit Feedback**: This refers to direct and clear indications of user preferences provided explicitly by the user. For example, ratings, reviews, likes, or dislikes expressed by users explicitly convey their opinions or preferences for certain items.\n",
    "- **Implicit Feedback**: This type of feedback is inferred from user behavior or interactions with the system without any explicit input from the user. It includes actions such as clicks, purchases, browsing history, time spent on items, or mouse movements. Implicit feedback relies on interpreting user actions to understand their preferences and interests.\n"
   ]
  },
  {
   "cell_type": "markdown",
   "id": "2c186107",
   "metadata": {
    "id": "2c186107"
   },
   "source": [
    "## __Conclusion__\n",
    "\n",
    "This lesson provided a comprehensive overview of recommendation systems, exploring various types, stages, and applications crucial for enhancing user experiences across multiple platforms. We delved into collaborative, content, and hybrid filtering methods, discussing their specific roles and implementations, including user-based and item-based approaches. The lesson also addressed challenges like the cold start problem and the use of accuracy metrics such as RMSE, MAE, and HitRate to evaluate system performance.\n",
    "\n",
    "By mastering the complexities of data processing and design considerations, you are well-prepared to create advanced, tailored recommendation systems that effectively meet varied user needs and preferences."
   ]
  }
 ],
 "metadata": {
  "colab": {
   "provenance": []
  },
  "kernelspec": {
   "display_name": "Python 3 [3.10]",
   "language": "python",
   "name": "python3"
  },
  "language_info": {
   "codemirror_mode": {
    "name": "ipython",
    "version": 3
   },
   "file_extension": ".py",
   "mimetype": "text/x-python",
   "name": "python",
   "nbconvert_exporter": "python",
   "pygments_lexer": "ipython3",
   "version": "3.10.2"
  }
 },
 "nbformat": 4,
 "nbformat_minor": 5
}
