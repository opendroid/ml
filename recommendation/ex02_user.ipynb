{
 "cells": [
  {
   "cell_type": "markdown",
   "metadata": {},
   "source": [
    "# User based recommendation\n",
    "\n"
   ]
  },
  {
   "cell_type": "code",
   "execution_count": 2,
   "metadata": {},
   "outputs": [],
   "source": [
    "from user_collaborative_filter_model import UserCollaborativeFilterModel\n",
    "import numpy as np\n",
    "import pandas as pd"
   ]
  },
  {
   "cell_type": "code",
   "execution_count": 56,
   "metadata": {},
   "outputs": [],
   "source": [
    "ratings = pd.read_csv(\"./data/rating.csv\")\n",
    "ratings = ratings[ratings.rating != -1]"
   ]
  },
  {
   "cell_type": "code",
   "execution_count": 76,
   "metadata": {},
   "outputs": [],
   "source": [
    "# Convert to user-id and ratings table (for each movie ID)\n",
    "user_item_matrix = ratings.pivot_table(\n",
    "    index='user_id', columns='anime_id', values='rating')\n",
    "user_item_matrix = user_item_matrix.fillna(0)"
   ]
  },
  {
   "cell_type": "code",
   "execution_count": 124,
   "metadata": {},
   "outputs": [],
   "source": [
    "user_model = UserCollaborativeFilterModel(n_neighbors=200).fit(user_item_matrix)"
   ]
  },
  {
   "cell_type": "code",
   "execution_count": 125,
   "metadata": {},
   "outputs": [],
   "source": [
    "# Print index of userID 7\n",
    "user_7_idx = user_item_matrix.index.get_loc(7)\n",
    "item_6_idx = user_item_matrix.columns.get_loc(6)"
   ]
  },
  {
   "cell_type": "code",
   "execution_count": 126,
   "metadata": {},
   "outputs": [
    {
     "data": {
      "text/plain": [
       "anime_id\n",
       "22        7.0\n",
       "30       10.0\n",
       "31        9.0\n",
       "32        9.0\n",
       "59        7.0\n",
       "         ... \n",
       "32360     7.0\n",
       "32380     4.0\n",
       "32553     5.0\n",
       "33091     8.0\n",
       "33341     7.0\n",
       "Name: 7, Length: 343, dtype: float64"
      ]
     },
     "execution_count": 126,
     "metadata": {},
     "output_type": "execute_result"
    }
   ],
   "source": [
    "# Print non-zero ratings of user_7\n",
    "user_7 = user_item_matrix.iloc[user_7_idx]\n",
    "user_7[user_7 != 0]"
   ]
  },
  {
   "cell_type": "code",
   "execution_count": 127,
   "metadata": {},
   "outputs": [
    {
     "data": {
      "text/plain": [
       "user_id\n",
       "5         8.0\n",
       "17        7.0\n",
       "32       10.0\n",
       "41        9.0\n",
       "51        9.0\n",
       "         ... \n",
       "73499     9.0\n",
       "73503     9.0\n",
       "73504     9.0\n",
       "73507     9.0\n",
       "73515    10.0\n",
       "Name: 6, Length: 9385, dtype: float64"
      ]
     },
     "execution_count": 127,
     "metadata": {},
     "output_type": "execute_result"
    }
   ],
   "source": [
    "# Print ratings by all users of\n",
    "item_6 = user_item_matrix.iloc[:, item_6_idx]\n",
    "item_6[item_6 != 0]"
   ]
  },
  {
   "cell_type": "code",
   "execution_count": 128,
   "metadata": {},
   "outputs": [
    {
     "data": {
      "text/plain": [
       "anime_id\n",
       "1    0.0\n",
       "5    0.0\n",
       "6    0.0\n",
       "7    0.0\n",
       "8    0.0\n",
       "Name: 7, dtype: float64"
      ]
     },
     "execution_count": 128,
     "metadata": {},
     "output_type": "execute_result"
    }
   ],
   "source": [
    "# So fives items not-rated by user-7\n",
    "user_7[user_7 == 0][:5]"
   ]
  },
  {
   "cell_type": "code",
   "execution_count": 135,
   "metadata": {},
   "outputs": [],
   "source": [
    "item_6_rating_by_user_idx_7 = user_model.predict(user_7_idx, item_6_idx)"
   ]
  },
  {
   "cell_type": "code",
   "execution_count": 136,
   "metadata": {},
   "outputs": [
    {
     "data": {
      "text/plain": [
       "8.28416080312791"
      ]
     },
     "execution_count": 136,
     "metadata": {},
     "output_type": "execute_result"
    }
   ],
   "source": [
    "item_6_rating_by_user_idx_7"
   ]
  },
  {
   "cell_type": "code",
   "execution_count": null,
   "metadata": {},
   "outputs": [],
   "source": []
  }
 ],
 "metadata": {
  "kernelspec": {
   "display_name": ".venv",
   "language": "python",
   "name": "python3"
  },
  "language_info": {
   "codemirror_mode": {
    "name": "ipython",
    "version": 3
   },
   "file_extension": ".py",
   "mimetype": "text/x-python",
   "name": "python",
   "nbconvert_exporter": "python",
   "pygments_lexer": "ipython3",
   "version": "3.12.10"
  }
 },
 "nbformat": 4,
 "nbformat_minor": 2
}
