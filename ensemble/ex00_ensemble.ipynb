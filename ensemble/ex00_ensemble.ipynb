{
 "cells": [
  {
   "cell_type": "markdown",
   "metadata": {
    "id": "NHIG1d9_l34n"
   },
   "source": [
    "# __Ensemble Learning__"
   ]
  },
  {
   "cell_type": "markdown",
   "metadata": {
    "id": "Frqpzxjtl34r"
   },
   "source": [
    "## __Agenda__"
   ]
  },
  {
   "cell_type": "markdown",
   "metadata": {
    "id": "wuAtQRq_jrIR"
   },
   "source": [
    "- Introduction to ensemble learning\n",
    "    * Goals of ensemble learning\n",
    "    * Importance of ensemble learning\n",
    "    * Weak and Strong learners in Ensemble learning\n",
    "- Categories in ensemble learning\n",
    "    * Sequential ensemble technique\n",
    "    * Parallel ensemble technique\n",
    "- Simple techniques used in ensemble learning\n",
    "    * Voting\n",
    "        * Hard Voting\n",
    "        * Soft Voting\n",
    "    * Averaging\n",
    "    * Weighted Averaging\n",
    "- Advanced techniques used in ensemble learning\n",
    "    * Bagging (bootstrap aggregating)\n",
    "        * Bagging Techniques\n",
    "        * Advantages of bagging\n",
    "        * Disadvantages of bagging\n",
    "        * Out-of-bag (OOB) concept\n",
    "    * Boosting\n",
    "        * Boosting Techniques\n",
    "        * Advantages of boosting\n",
    "        * Disadvantages of boosting\n",
    "    * Stacking\n",
    "        * Advantages of stacking\n",
    "        * Disadvantages of stacking\n",
    "\n"
   ]
  },
  {
   "cell_type": "markdown",
   "metadata": {
    "id": "ATRhnmJrl34t"
   },
   "source": [
    "## __1. Introduction to Ensemble Learning__\n",
    "\n",
    "Ensemble learning combines multiple models to enhance the overall performance of machine learning algorithms. The fundamental principle of ensemble learning is combining predictions from multiple individual models to produce a more accurate and robust prediction than any single model."
   ]
  },
  {
   "cell_type": "markdown",
   "metadata": {
    "id": "Y4O1F-Znl34u"
   },
   "source": [
    "### __1.1 Goals of Ensemble Learning__\n",
    "\n",
    "- Enhance predictive accuracy by combining multiple models.\n",
    "- Improve model robustness and generalization performance."
   ]
  },
  {
   "cell_type": "markdown",
   "metadata": {
    "id": "Wd6HSXdsl34u"
   },
   "source": [
    "\n",
    "![link text](https://labcontent.simplicdn.net/data-content/content-assets/Data_and_AI/ML/Lesson_07/ensemble_learning.png)"
   ]
  },
  {
   "cell_type": "markdown",
   "metadata": {
    "id": "IHxacRO_l34v"
   },
   "source": [
    "__Example:__ Imagine you are deciding whether to go outside based on weather predictions. Instead of relying on just one weather forecast, you check multiple sources, like the weather app, a meteorologist's report, and a weather website. You then combine these predictions to make your decision.\n",
    "\n",
    "This process mirrors ensemble learning, where combining multiple models (or weather forecasts) results in a more accurate prediction (or decision) than any single model could offer."
   ]
  },
  {
   "cell_type": "markdown",
   "metadata": {
    "id": "vHrOIMF5l34v"
   },
   "source": [
    " ### __1.2 Importance of Ensemble Learning__\n",
    "\n",
    "- Improves prediction accuracy by combining diverse models\n",
    "- Enhances model resilience and robustness against uncertainties\n",
    "- Mitigates biases and errors present in individual models\n",
    "- Captures a wide range of perspectives to achieve better performance\n",
    "- Provides reliable and robust forecasts across various domains, ensuring more dependable outcomes"
   ]
  },
  {
   "cell_type": "markdown",
   "metadata": {
    "id": "lCHMABXNUmhm"
   },
   "source": [
    " ### __1.3 Weak and Strong learners in Ensemble Learning__\n",
    "- A **Weak learner** (WL) or **Base learner** is a learning algorithm\n",
    "capable of producing classifiers with probability of error strictly (but only slightly) less than that of random guessing (0.5, in the case of binary)\n",
    "\n",
    "- On the other hand, **Strong learner** (SL) is able (given enough training data) to yield classifiers with arbitrarily small error probability. It performs much better than random guessing.\n",
    "  \n",
    "An ensemble (or committee) of classifiers is a classifier build upon some\n",
    "combination of Weak learner. The strategy of boosting, and ensembles of classifiers, is to learn many weak classifiers and combine them, instead of trying to learn a single Strong learner"
   ]
  },
  {
   "cell_type": "markdown",
   "metadata": {
    "id": "GB1krYkml34w"
   },
   "source": [
    "## __2. Categories in Ensemble Learning__"
   ]
  },
  {
   "cell_type": "markdown",
   "metadata": {
    "id": "o09_VTdHl34w"
   },
   "source": [
    "Ensemble learning can be broadly classified into two categories:\n",
    "- Sequential ensemble technique\n",
    "- Parallel ensemble technique"
   ]
  },
  {
   "cell_type": "markdown",
   "metadata": {
    "id": "NfV7RXRxl34x"
   },
   "source": [
    "### __2.1 Sequential Ensemble Technique__"
   ]
  },
  {
   "cell_type": "markdown",
   "metadata": {
    "id": "bCg-QnGCl34x"
   },
   "source": [
    "These techniques train models sequentially, with each model attempting to correct its predecessor's errors. This technique focuses on improving the overall performance of the ensemble by iteratively refining predictions. An example of this approach is boosting.\n",
    "\n",
    "__Note:__ It typically employs weak learners as base estimators because these learners initially have higher error rates."
   ]
  },
  {
   "cell_type": "markdown",
   "metadata": {
    "id": "gNqTZ94Il34x"
   },
   "source": [
    "The steps involved in the sequential ensemble technique depend on the data structure and the requirements of the application. They are:\n",
    "1. __Base Model Selection__: Choose the initial model.\n",
    "2. __Sequential Training__: Train models one after the other.\n",
    "3. __Error Correction__: Each model learns from previous mistakes.\n",
    "4. __Prediction Refinement__: Iteratively refine predictions.\n",
    "5. __Combining Predictions__: Combine predictions from all models.\n",
    "6. __Evaluation__: Assess ensemble performance using metrics."
   ]
  },
  {
   "cell_type": "markdown",
   "metadata": {
    "id": "nJBhi5bil34x"
   },
   "source": [
    "\n",
    "![link text](https://labcontent.simplicdn.net/data-content/content-assets/Data_and_AI/ML/Lesson_07/Sequential_Ensemble_Technique.png)\n",
    "\n",
    "__Note:__ If all four base models are of the same type, it is considered to be a homogeneous ensemble. If they are different, it is considered heterogeneous."
   ]
  },
  {
   "cell_type": "markdown",
   "metadata": {
    "id": "XoJpKDGbl34y"
   },
   "source": [
    "The diagram above shows the training data divided into four samples, with each sample trained on a distinct base model. Insights gained from model M1 are passed to model M2 alongside sample S2. M2 then adjusts its weights and biases based on the outcomes of M1. This process repeats for models 2, 3, and 4. Finally, all the learners are combined using a weighted averaging strategy.\n",
    "\n",
    "The summation sign ($ ∑ $) indicates the function that adjusts the model to improve its overall performance."
   ]
  },
  {
   "cell_type": "markdown",
   "metadata": {
    "id": "r8EehvwSl34y"
   },
   "source": [
    "__The sequential ensemble technique is employed when dealing with:__\n",
    "- Complex relationships between input features and the target variable\n",
    "- Diverse data types, including numerical, categorical, and textual data\n",
    "- Imbalanced datasets, where skewed class distributions pose classification challenges.\n",
    "- Incremental updates are needed to adapt models gradually to evolving data over time"
   ]
  },
  {
   "cell_type": "markdown",
   "metadata": {
    "id": "tea0RTkEl34y"
   },
   "source": [
    "### __2.2 Parallel Ensemble Technique__"
   ]
  },
  {
   "cell_type": "markdown",
   "metadata": {
    "id": "bphih-2El34z"
   },
   "source": [
    "The parallel ensemble technique concurrently trains models. They combine the predictions from multiple models to improve the final output. Bagging and Random Forest algorithms are examples of parallel ensemble techniques.\n",
    "\n",
    "__Note:__  It employs stronger learners as base estimators."
   ]
  },
  {
   "cell_type": "markdown",
   "metadata": {
    "id": "qhDXNIQ4l34z"
   },
   "source": [
    "The steps involved in the parallel ensemble technique are:\n",
    "\n",
    "1. __Data Partitioning__: Divide the dataset into subsets\n",
    "2. __Model Training__: Train models concurrently on subsets\n",
    "3. __Prediction__: Models make independent predictions\n",
    "4. __Combining Predictions__: Aggregate predictions using techniques like voting or averaging\n",
    "5. __Evaluation__: Assess ensemble performance using metrics"
   ]
  },
  {
   "cell_type": "markdown",
   "metadata": {
    "id": "DdT_g1-5l34z"
   },
   "source": [
    "\n",
    "![link text](https://labcontent.simplicdn.net/data-content/content-assets/Data_and_AI/ML/Lesson_07/Parallel_Ensemble_Technique.png)"
   ]
  },
  {
   "cell_type": "markdown",
   "metadata": {
    "id": "Y9AikuvHl34z"
   },
   "source": [
    "In the above diagram, the training data is divided into four samples, labeled S1 to S4, each trained on a distinct base model (M1 to M4). Unlike the sequential ensemble technique, the data in the base learners is independent. This independence of base learners significantly reduces the error due to the application of averages.\n",
    "\n",
    "The summation sign ($ ∑ $) indicates the aggregated model with improved performance, which has been learned from all independent base models, M1 to M4."
   ]
  },
  {
   "cell_type": "markdown",
   "metadata": {
    "id": "CiCFb0nJl34z"
   },
   "source": [
    "The parallel ensemble technique is used to:\n",
    "\n",
    "- Enhance scalability, allowing for the efficient processing of large volumes of data by distributing the workload\n",
    "-  Expedite training and prediction processes through parallel computation on multi-core systems.\n",
    "- Reduce susceptibility to noise and overfitting by averaging out individual model errors.\n",
    "- Capture diverse data patterns effectively by utilizing different models trained on varied data subsets"
   ]
  },
  {
   "cell_type": "markdown",
   "metadata": {
    "id": "oOekR2Bjl340"
   },
   "source": [
    "## __3. Simple Techniques used in Ensemble Learning__\n",
    "\n",
    "* Voting\n",
    "* Averaging\n",
    "* Weighted Averaging\n",
    "\n",
    "\n"
   ]
  },
  {
   "cell_type": "markdown",
   "metadata": {
    "id": "ozZMP5gkuTmE"
   },
   "source": [
    "## __3.1 Voting__\n",
    "\n",
    "Voting is one of the fundamental methods of ensemble learning. It involves aggregating the predictions from multiple models to arrive at a final prediction.\n",
    "Two common types of voting in ensemble learning are:\n",
    "* Majority voting/Hard voting\n",
    "* Weighted voting/Soft voting.\n",
    "\n"
   ]
  },
  {
   "cell_type": "markdown",
   "metadata": {
    "id": "KrCsQihDl340"
   },
   "source": [
    "### __3.1.1 Majority Voting/Hard Voting__\n",
    "\n",
    "Majority Voting or Hard Voting is an ensemble learning classification technique. It involves multiple models, making predictions for each data point. Each model's prediction is considered a __vote__. The final prediction is determined by the majority vote among the models.\n",
    "\n",
    "__Example:__\n",
    "    \n",
    "- Majority Voting ensemble works on breast cancer classification by combining predictions from multiple individual classifiers, such as Logistic Regression, Decision Tree, and Support Vector Machine.\n",
    "- Each classifier provides its prediction for whether a given sample belongs to a certain class. The voting ensemble then aggregates these predictions using a voting mechanism.\n",
    "- The final prediction is determined based on the most commonly predicted class among all classifiers.\n",
    "- This approach leverages the collective wisdom of diverse models to improve overall prediction accuracy and robustness in breast cancer classification tasks.    "
   ]
  },
  {
   "cell_type": "markdown",
   "metadata": {
    "id": "F_fZz1N0c4_P"
   },
   "source": [
    "Let's look at an implementation of majority voting using a breast cancer classification dataset."
   ]
  },
  {
   "cell_type": "code",
   "execution_count": 1,
   "metadata": {
    "executionInfo": {
     "elapsed": 16718,
     "status": "ok",
     "timestamp": 1745897523146,
     "user": {
      "displayName": "Fabien Marpeau",
      "userId": "15210978490258687001"
     },
     "user_tz": 300
    },
    "id": "KJeXngLpl340"
   },
   "outputs": [],
   "source": [
    "# Import necessary libraries\n",
    "import pandas as pd\n",
    "import numpy as np\n",
    "import matplotlib.pyplot as plt\n",
    "from sklearn.metrics import classification_report\n",
    "from sklearn.metrics import confusion_matrix, ConfusionMatrixDisplay\n",
    "from sklearn.impute import SimpleImputer\n",
    "from sklearn.preprocessing import MinMaxScaler\n",
    "from sklearn.metrics import r2_score\n",
    "from sklearn.linear_model import LogisticRegression\n",
    "from sklearn.tree import DecisionTreeClassifier\n",
    "from sklearn.svm import SVC\n",
    "from sklearn.ensemble import VotingClassifier\n",
    "from sklearn.naive_bayes import GaussianNB\n",
    "from sklearn import model_selection\n",
    "from sklearn.model_selection import train_test_split, KFold\n",
    "from sklearn.model_selection import cross_val_score\n",
    "from sklearn.pipeline import Pipeline\n",
    "from sklearn.pipeline import make_pipeline\n",
    "from sklearn.preprocessing import StandardScaler\n",
    "from sklearn.metrics import accuracy_score"
   ]
  },
  {
   "cell_type": "code",
   "execution_count": 2,
   "metadata": {
    "executionInfo": {
     "elapsed": 569,
     "status": "ok",
     "timestamp": 1745897540749,
     "user": {
      "displayName": "Fabien Marpeau",
      "userId": "15210978490258687001"
     },
     "user_tz": 300
    },
    "id": "zxSDrklgl342"
   },
   "outputs": [],
   "source": [
    "# Load the dataset from the specified URL and assign column names to the DataFrame\n",
    "data = pd.read_csv('https://archive.ics.uci.edu/ml/machine-learning-databases/breast-cancer-wisconsin/breast-cancer-wisconsin.data', header=None)\n",
    "data.columns = ['Sample code', 'Clump Thickness', 'Uniformity of Cell Size', 'Uniformity of Cell Shape',\n",
    "                'Marginal Adhesion', 'Single Epithelial Cell Size', 'Bare Nuclei', 'Bland Chromatin',\n",
    "                'Normal Nucleoli', 'Mitoses', 'Class']"
   ]
  },
  {
   "cell_type": "code",
   "execution_count": 3,
   "metadata": {
    "colab": {
     "base_uri": "https://localhost:8080/",
     "height": 241
    },
    "executionInfo": {
     "elapsed": 380,
     "status": "ok",
     "timestamp": 1745897568271,
     "user": {
      "displayName": "Fabien Marpeau",
      "userId": "15210978490258687001"
     },
     "user_tz": 300
    },
    "id": "ShPsyENOmpsn",
    "outputId": "0eb074cb-c942-4e09-bd2a-e87ed284ec65"
   },
   "outputs": [
    {
     "data": {
      "text/html": [
       "<div>\n",
       "<style scoped>\n",
       "    .dataframe tbody tr th:only-of-type {\n",
       "        vertical-align: middle;\n",
       "    }\n",
       "\n",
       "    .dataframe tbody tr th {\n",
       "        vertical-align: top;\n",
       "    }\n",
       "\n",
       "    .dataframe thead th {\n",
       "        text-align: right;\n",
       "    }\n",
       "</style>\n",
       "<table border=\"1\" class=\"dataframe\">\n",
       "  <thead>\n",
       "    <tr style=\"text-align: right;\">\n",
       "      <th></th>\n",
       "      <th>Sample code</th>\n",
       "      <th>Clump Thickness</th>\n",
       "      <th>Uniformity of Cell Size</th>\n",
       "      <th>Uniformity of Cell Shape</th>\n",
       "      <th>Marginal Adhesion</th>\n",
       "      <th>Single Epithelial Cell Size</th>\n",
       "      <th>Bare Nuclei</th>\n",
       "      <th>Bland Chromatin</th>\n",
       "      <th>Normal Nucleoli</th>\n",
       "      <th>Mitoses</th>\n",
       "      <th>Class</th>\n",
       "    </tr>\n",
       "  </thead>\n",
       "  <tbody>\n",
       "    <tr>\n",
       "      <th>0</th>\n",
       "      <td>1000025</td>\n",
       "      <td>5</td>\n",
       "      <td>1</td>\n",
       "      <td>1</td>\n",
       "      <td>1</td>\n",
       "      <td>2</td>\n",
       "      <td>1</td>\n",
       "      <td>3</td>\n",
       "      <td>1</td>\n",
       "      <td>1</td>\n",
       "      <td>2</td>\n",
       "    </tr>\n",
       "    <tr>\n",
       "      <th>1</th>\n",
       "      <td>1002945</td>\n",
       "      <td>5</td>\n",
       "      <td>4</td>\n",
       "      <td>4</td>\n",
       "      <td>5</td>\n",
       "      <td>7</td>\n",
       "      <td>10</td>\n",
       "      <td>3</td>\n",
       "      <td>2</td>\n",
       "      <td>1</td>\n",
       "      <td>2</td>\n",
       "    </tr>\n",
       "    <tr>\n",
       "      <th>2</th>\n",
       "      <td>1015425</td>\n",
       "      <td>3</td>\n",
       "      <td>1</td>\n",
       "      <td>1</td>\n",
       "      <td>1</td>\n",
       "      <td>2</td>\n",
       "      <td>2</td>\n",
       "      <td>3</td>\n",
       "      <td>1</td>\n",
       "      <td>1</td>\n",
       "      <td>2</td>\n",
       "    </tr>\n",
       "    <tr>\n",
       "      <th>3</th>\n",
       "      <td>1016277</td>\n",
       "      <td>6</td>\n",
       "      <td>8</td>\n",
       "      <td>8</td>\n",
       "      <td>1</td>\n",
       "      <td>3</td>\n",
       "      <td>4</td>\n",
       "      <td>3</td>\n",
       "      <td>7</td>\n",
       "      <td>1</td>\n",
       "      <td>2</td>\n",
       "    </tr>\n",
       "    <tr>\n",
       "      <th>4</th>\n",
       "      <td>1017023</td>\n",
       "      <td>4</td>\n",
       "      <td>1</td>\n",
       "      <td>1</td>\n",
       "      <td>3</td>\n",
       "      <td>2</td>\n",
       "      <td>1</td>\n",
       "      <td>3</td>\n",
       "      <td>1</td>\n",
       "      <td>1</td>\n",
       "      <td>2</td>\n",
       "    </tr>\n",
       "  </tbody>\n",
       "</table>\n",
       "</div>"
      ],
      "text/plain": [
       "   Sample code  Clump Thickness  Uniformity of Cell Size  \\\n",
       "0      1000025                5                        1   \n",
       "1      1002945                5                        4   \n",
       "2      1015425                3                        1   \n",
       "3      1016277                6                        8   \n",
       "4      1017023                4                        1   \n",
       "\n",
       "   Uniformity of Cell Shape  Marginal Adhesion  Single Epithelial Cell Size  \\\n",
       "0                         1                  1                            2   \n",
       "1                         4                  5                            7   \n",
       "2                         1                  1                            2   \n",
       "3                         8                  1                            3   \n",
       "4                         1                  3                            2   \n",
       "\n",
       "  Bare Nuclei  Bland Chromatin  Normal Nucleoli  Mitoses  Class  \n",
       "0           1                3                1        1      2  \n",
       "1          10                3                2        1      2  \n",
       "2           2                3                1        1      2  \n",
       "3           4                3                7        1      2  \n",
       "4           1                3                1        1      2  "
      ]
     },
     "execution_count": 3,
     "metadata": {},
     "output_type": "execute_result"
    }
   ],
   "source": [
    "data.head()"
   ]
  },
  {
   "cell_type": "code",
   "execution_count": 4,
   "metadata": {
    "executionInfo": {
     "elapsed": 29,
     "status": "ok",
     "timestamp": 1745897619175,
     "user": {
      "displayName": "Fabien Marpeau",
      "userId": "15210978490258687001"
     },
     "user_tz": 300
    },
    "id": "mU2veRIVl343"
   },
   "outputs": [],
   "source": [
    "# Drop the 'Sample code' column as it's not required for prediction\n",
    "data.drop(['Sample code'], axis=1, inplace=True)\n",
    "\n",
    "# Replace '?' with nan to handle missing data, ensuring numerical analysis accuracy and preventing calculation errors.\n",
    "data = data.replace('?', np.nan)"
   ]
  },
  {
   "cell_type": "code",
   "execution_count": 5,
   "metadata": {
    "colab": {
     "base_uri": "https://localhost:8080/",
     "height": 397
    },
    "executionInfo": {
     "elapsed": 94,
     "status": "ok",
     "timestamp": 1745897636103,
     "user": {
      "displayName": "Fabien Marpeau",
      "userId": "15210978490258687001"
     },
     "user_tz": 300
    },
    "id": "SJc-Dnj_m6bE",
    "outputId": "3f632e37-5a0d-4da2-b027-0401f791a31a"
   },
   "outputs": [
    {
     "data": {
      "text/plain": [
       "Clump Thickness                 0\n",
       "Uniformity of Cell Size         0\n",
       "Uniformity of Cell Shape        0\n",
       "Marginal Adhesion               0\n",
       "Single Epithelial Cell Size     0\n",
       "Bare Nuclei                    16\n",
       "Bland Chromatin                 0\n",
       "Normal Nucleoli                 0\n",
       "Mitoses                         0\n",
       "Class                           0\n",
       "dtype: int64"
      ]
     },
     "execution_count": 5,
     "metadata": {},
     "output_type": "execute_result"
    }
   ],
   "source": [
    "data.isnull().sum()"
   ]
  },
  {
   "cell_type": "code",
   "execution_count": 6,
   "metadata": {
    "executionInfo": {
     "elapsed": 26,
     "status": "ok",
     "timestamp": 1745897666107,
     "user": {
      "displayName": "Fabien Marpeau",
      "userId": "15210978490258687001"
     },
     "user_tz": 300
    },
    "id": "lzDD5TVz6nJ2"
   },
   "outputs": [],
   "source": [
    "# Convert the 'Bare Nuclei' column to an integer type to ensure a uniform data type across the column,\n",
    "# which is essential for consistent data manipulation and analysis.\n",
    "data['Bare Nuclei'] = pd.to_numeric(data['Bare Nuclei']).fillna(0).astype('int64')"
   ]
  },
  {
   "cell_type": "code",
   "execution_count": 7,
   "metadata": {
    "executionInfo": {
     "elapsed": 7,
     "status": "ok",
     "timestamp": 1745897682518,
     "user": {
      "displayName": "Fabien Marpeau",
      "userId": "15210978490258687001"
     },
     "user_tz": 300
    },
    "id": "DFcyMDi0v8wz"
   },
   "outputs": [],
   "source": [
    "# Replace class values to be binary (2 for benign, 4 for malignant)\n",
    "data['Class'] = data['Class'].replace({2: 0, 4: 1})"
   ]
  },
  {
   "cell_type": "code",
   "execution_count": 8,
   "metadata": {
    "colab": {
     "base_uri": "https://localhost:8080/",
     "height": 241
    },
    "executionInfo": {
     "elapsed": 120,
     "status": "ok",
     "timestamp": 1745897682951,
     "user": {
      "displayName": "Fabien Marpeau",
      "userId": "15210978490258687001"
     },
     "user_tz": 300
    },
    "id": "uA5ULfR568qT",
    "outputId": "c0d9253b-91fe-4f79-ce81-d04ad1ea10ca"
   },
   "outputs": [
    {
     "data": {
      "text/html": [
       "<div>\n",
       "<style scoped>\n",
       "    .dataframe tbody tr th:only-of-type {\n",
       "        vertical-align: middle;\n",
       "    }\n",
       "\n",
       "    .dataframe tbody tr th {\n",
       "        vertical-align: top;\n",
       "    }\n",
       "\n",
       "    .dataframe thead th {\n",
       "        text-align: right;\n",
       "    }\n",
       "</style>\n",
       "<table border=\"1\" class=\"dataframe\">\n",
       "  <thead>\n",
       "    <tr style=\"text-align: right;\">\n",
       "      <th></th>\n",
       "      <th>Clump Thickness</th>\n",
       "      <th>Uniformity of Cell Size</th>\n",
       "      <th>Uniformity of Cell Shape</th>\n",
       "      <th>Marginal Adhesion</th>\n",
       "      <th>Single Epithelial Cell Size</th>\n",
       "      <th>Bare Nuclei</th>\n",
       "      <th>Bland Chromatin</th>\n",
       "      <th>Normal Nucleoli</th>\n",
       "      <th>Mitoses</th>\n",
       "      <th>Class</th>\n",
       "    </tr>\n",
       "  </thead>\n",
       "  <tbody>\n",
       "    <tr>\n",
       "      <th>0</th>\n",
       "      <td>5</td>\n",
       "      <td>1</td>\n",
       "      <td>1</td>\n",
       "      <td>1</td>\n",
       "      <td>2</td>\n",
       "      <td>1</td>\n",
       "      <td>3</td>\n",
       "      <td>1</td>\n",
       "      <td>1</td>\n",
       "      <td>0</td>\n",
       "    </tr>\n",
       "    <tr>\n",
       "      <th>1</th>\n",
       "      <td>5</td>\n",
       "      <td>4</td>\n",
       "      <td>4</td>\n",
       "      <td>5</td>\n",
       "      <td>7</td>\n",
       "      <td>10</td>\n",
       "      <td>3</td>\n",
       "      <td>2</td>\n",
       "      <td>1</td>\n",
       "      <td>0</td>\n",
       "    </tr>\n",
       "    <tr>\n",
       "      <th>2</th>\n",
       "      <td>3</td>\n",
       "      <td>1</td>\n",
       "      <td>1</td>\n",
       "      <td>1</td>\n",
       "      <td>2</td>\n",
       "      <td>2</td>\n",
       "      <td>3</td>\n",
       "      <td>1</td>\n",
       "      <td>1</td>\n",
       "      <td>0</td>\n",
       "    </tr>\n",
       "    <tr>\n",
       "      <th>3</th>\n",
       "      <td>6</td>\n",
       "      <td>8</td>\n",
       "      <td>8</td>\n",
       "      <td>1</td>\n",
       "      <td>3</td>\n",
       "      <td>4</td>\n",
       "      <td>3</td>\n",
       "      <td>7</td>\n",
       "      <td>1</td>\n",
       "      <td>0</td>\n",
       "    </tr>\n",
       "    <tr>\n",
       "      <th>4</th>\n",
       "      <td>4</td>\n",
       "      <td>1</td>\n",
       "      <td>1</td>\n",
       "      <td>3</td>\n",
       "      <td>2</td>\n",
       "      <td>1</td>\n",
       "      <td>3</td>\n",
       "      <td>1</td>\n",
       "      <td>1</td>\n",
       "      <td>0</td>\n",
       "    </tr>\n",
       "  </tbody>\n",
       "</table>\n",
       "</div>"
      ],
      "text/plain": [
       "   Clump Thickness  Uniformity of Cell Size  Uniformity of Cell Shape  \\\n",
       "0                5                        1                         1   \n",
       "1                5                        4                         4   \n",
       "2                3                        1                         1   \n",
       "3                6                        8                         8   \n",
       "4                4                        1                         1   \n",
       "\n",
       "   Marginal Adhesion  Single Epithelial Cell Size  Bare Nuclei  \\\n",
       "0                  1                            2            1   \n",
       "1                  5                            7           10   \n",
       "2                  1                            2            2   \n",
       "3                  1                            3            4   \n",
       "4                  3                            2            1   \n",
       "\n",
       "   Bland Chromatin  Normal Nucleoli  Mitoses  Class  \n",
       "0                3                1        1      0  \n",
       "1                3                2        1      0  \n",
       "2                3                1        1      0  \n",
       "3                3                7        1      0  \n",
       "4                3                1        1      0  "
      ]
     },
     "execution_count": 8,
     "metadata": {},
     "output_type": "execute_result"
    }
   ],
   "source": [
    "data.head()"
   ]
  },
  {
   "cell_type": "code",
   "execution_count": 9,
   "metadata": {
    "colab": {
     "base_uri": "https://localhost:8080/"
    },
    "executionInfo": {
     "elapsed": 40,
     "status": "ok",
     "timestamp": 1745897688784,
     "user": {
      "displayName": "Fabien Marpeau",
      "userId": "15210978490258687001"
     },
     "user_tz": 300
    },
    "id": "ME5EbaNwfDnr",
    "outputId": "93d0d9b3-e059-4299-e7ca-bae0aeabb699"
   },
   "outputs": [
    {
     "data": {
      "text/plain": [
       "array([0, 1])"
      ]
     },
     "execution_count": 9,
     "metadata": {},
     "output_type": "execute_result"
    }
   ],
   "source": [
    "data['Class'].unique()"
   ]
  },
  {
   "cell_type": "code",
   "execution_count": 10,
   "metadata": {
    "colab": {
     "base_uri": "https://localhost:8080/"
    },
    "executionInfo": {
     "elapsed": 11,
     "status": "ok",
     "timestamp": 1745897691511,
     "user": {
      "displayName": "Fabien Marpeau",
      "userId": "15210978490258687001"
     },
     "user_tz": 300
    },
    "id": "MWmtE5lAl343",
    "outputId": "a58af8d9-5c6c-4cef-bf41-d2fd055e6d37"
   },
   "outputs": [
    {
     "name": "stdout",
     "output_type": "stream",
     "text": [
      "<class 'pandas.core.frame.DataFrame'>\n",
      "RangeIndex: 699 entries, 0 to 698\n",
      "Data columns (total 10 columns):\n",
      " #   Column                       Non-Null Count  Dtype\n",
      "---  ------                       --------------  -----\n",
      " 0   Clump Thickness              699 non-null    int64\n",
      " 1   Uniformity of Cell Size      699 non-null    int64\n",
      " 2   Uniformity of Cell Shape     699 non-null    int64\n",
      " 3   Marginal Adhesion            699 non-null    int64\n",
      " 4   Single Epithelial Cell Size  699 non-null    int64\n",
      " 5   Bare Nuclei                  699 non-null    int64\n",
      " 6   Bland Chromatin              699 non-null    int64\n",
      " 7   Normal Nucleoli              699 non-null    int64\n",
      " 8   Mitoses                      699 non-null    int64\n",
      " 9   Class                        699 non-null    int64\n",
      "dtypes: int64(10)\n",
      "memory usage: 54.7 KB\n"
     ]
    }
   ],
   "source": [
    "# Display information about the dataset\n",
    "data.info()"
   ]
  },
  {
   "cell_type": "code",
   "execution_count": 11,
   "metadata": {
    "colab": {
     "base_uri": "https://localhost:8080/",
     "height": 397
    },
    "executionInfo": {
     "elapsed": 17,
     "status": "ok",
     "timestamp": 1745897696251,
     "user": {
      "displayName": "Fabien Marpeau",
      "userId": "15210978490258687001"
     },
     "user_tz": 300
    },
    "id": "FIIhTNdKwScc",
    "outputId": "385990a9-ee66-433d-8945-3e88ac73e342"
   },
   "outputs": [
    {
     "data": {
      "text/plain": [
       "Clump Thickness                0\n",
       "Uniformity of Cell Size        0\n",
       "Uniformity of Cell Shape       0\n",
       "Marginal Adhesion              0\n",
       "Single Epithelial Cell Size    0\n",
       "Bare Nuclei                    0\n",
       "Bland Chromatin                0\n",
       "Normal Nucleoli                0\n",
       "Mitoses                        0\n",
       "Class                          0\n",
       "dtype: int64"
      ]
     },
     "execution_count": 11,
     "metadata": {},
     "output_type": "execute_result"
    }
   ],
   "source": [
    "data.isnull().sum()"
   ]
  },
  {
   "cell_type": "code",
   "execution_count": 12,
   "metadata": {
    "executionInfo": {
     "elapsed": 6,
     "status": "ok",
     "timestamp": 1745897717582,
     "user": {
      "displayName": "Fabien Marpeau",
      "userId": "15210978490258687001"
     },
     "user_tz": 300
    },
    "id": "AA6-poUv9bvs"
   },
   "outputs": [],
   "source": [
    "# Extract features (X) and target variable (y)\n",
    "X = data.iloc[:, :-1]  # All columns except the last one\n",
    "y = data.iloc[:, -1]   # Last column as the target variable"
   ]
  },
  {
   "cell_type": "code",
   "execution_count": 13,
   "metadata": {
    "colab": {
     "base_uri": "https://localhost:8080/",
     "height": 223
    },
    "executionInfo": {
     "elapsed": 57,
     "status": "ok",
     "timestamp": 1745897742075,
     "user": {
      "displayName": "Fabien Marpeau",
      "userId": "15210978490258687001"
     },
     "user_tz": 300
    },
    "id": "fdwxv8CsnSpo",
    "outputId": "39581e87-cd47-4438-b068-fb03082e839c"
   },
   "outputs": [
    {
     "data": {
      "text/html": [
       "<div>\n",
       "<style scoped>\n",
       "    .dataframe tbody tr th:only-of-type {\n",
       "        vertical-align: middle;\n",
       "    }\n",
       "\n",
       "    .dataframe tbody tr th {\n",
       "        vertical-align: top;\n",
       "    }\n",
       "\n",
       "    .dataframe thead th {\n",
       "        text-align: right;\n",
       "    }\n",
       "</style>\n",
       "<table border=\"1\" class=\"dataframe\">\n",
       "  <thead>\n",
       "    <tr style=\"text-align: right;\">\n",
       "      <th></th>\n",
       "      <th>Clump Thickness</th>\n",
       "      <th>Uniformity of Cell Size</th>\n",
       "      <th>Uniformity of Cell Shape</th>\n",
       "      <th>Marginal Adhesion</th>\n",
       "      <th>Single Epithelial Cell Size</th>\n",
       "      <th>Bare Nuclei</th>\n",
       "      <th>Bland Chromatin</th>\n",
       "      <th>Normal Nucleoli</th>\n",
       "      <th>Mitoses</th>\n",
       "    </tr>\n",
       "  </thead>\n",
       "  <tbody>\n",
       "    <tr>\n",
       "      <th>0</th>\n",
       "      <td>5</td>\n",
       "      <td>1</td>\n",
       "      <td>1</td>\n",
       "      <td>1</td>\n",
       "      <td>2</td>\n",
       "      <td>1</td>\n",
       "      <td>3</td>\n",
       "      <td>1</td>\n",
       "      <td>1</td>\n",
       "    </tr>\n",
       "    <tr>\n",
       "      <th>1</th>\n",
       "      <td>5</td>\n",
       "      <td>4</td>\n",
       "      <td>4</td>\n",
       "      <td>5</td>\n",
       "      <td>7</td>\n",
       "      <td>10</td>\n",
       "      <td>3</td>\n",
       "      <td>2</td>\n",
       "      <td>1</td>\n",
       "    </tr>\n",
       "    <tr>\n",
       "      <th>2</th>\n",
       "      <td>3</td>\n",
       "      <td>1</td>\n",
       "      <td>1</td>\n",
       "      <td>1</td>\n",
       "      <td>2</td>\n",
       "      <td>2</td>\n",
       "      <td>3</td>\n",
       "      <td>1</td>\n",
       "      <td>1</td>\n",
       "    </tr>\n",
       "    <tr>\n",
       "      <th>3</th>\n",
       "      <td>6</td>\n",
       "      <td>8</td>\n",
       "      <td>8</td>\n",
       "      <td>1</td>\n",
       "      <td>3</td>\n",
       "      <td>4</td>\n",
       "      <td>3</td>\n",
       "      <td>7</td>\n",
       "      <td>1</td>\n",
       "    </tr>\n",
       "    <tr>\n",
       "      <th>4</th>\n",
       "      <td>4</td>\n",
       "      <td>1</td>\n",
       "      <td>1</td>\n",
       "      <td>3</td>\n",
       "      <td>2</td>\n",
       "      <td>1</td>\n",
       "      <td>3</td>\n",
       "      <td>1</td>\n",
       "      <td>1</td>\n",
       "    </tr>\n",
       "  </tbody>\n",
       "</table>\n",
       "</div>"
      ],
      "text/plain": [
       "   Clump Thickness  Uniformity of Cell Size  Uniformity of Cell Shape  \\\n",
       "0                5                        1                         1   \n",
       "1                5                        4                         4   \n",
       "2                3                        1                         1   \n",
       "3                6                        8                         8   \n",
       "4                4                        1                         1   \n",
       "\n",
       "   Marginal Adhesion  Single Epithelial Cell Size  Bare Nuclei  \\\n",
       "0                  1                            2            1   \n",
       "1                  5                            7           10   \n",
       "2                  1                            2            2   \n",
       "3                  1                            3            4   \n",
       "4                  3                            2            1   \n",
       "\n",
       "   Bland Chromatin  Normal Nucleoli  Mitoses  \n",
       "0                3                1        1  \n",
       "1                3                2        1  \n",
       "2                3                1        1  \n",
       "3                3                7        1  \n",
       "4                3                1        1  "
      ]
     },
     "execution_count": 13,
     "metadata": {},
     "output_type": "execute_result"
    }
   ],
   "source": [
    "X[:5]"
   ]
  },
  {
   "cell_type": "code",
   "execution_count": 14,
   "metadata": {
    "colab": {
     "base_uri": "https://localhost:8080/",
     "height": 241
    },
    "executionInfo": {
     "elapsed": 29,
     "status": "ok",
     "timestamp": 1745897748072,
     "user": {
      "displayName": "Fabien Marpeau",
      "userId": "15210978490258687001"
     },
     "user_tz": 300
    },
    "id": "HGSTBeU0nS5K",
    "outputId": "d0693ba0-f369-43c9-f08f-aa1b4732192f"
   },
   "outputs": [
    {
     "data": {
      "text/plain": [
       "0    0\n",
       "1    0\n",
       "2    0\n",
       "3    0\n",
       "4    0\n",
       "Name: Class, dtype: int64"
      ]
     },
     "execution_count": 14,
     "metadata": {},
     "output_type": "execute_result"
    }
   ],
   "source": [
    "y[:5]"
   ]
  },
  {
   "cell_type": "code",
   "execution_count": 15,
   "metadata": {
    "executionInfo": {
     "elapsed": 7,
     "status": "ok",
     "timestamp": 1745897755350,
     "user": {
      "displayName": "Fabien Marpeau",
      "userId": "15210978490258687001"
     },
     "user_tz": 300
    },
    "id": "bbOtJgWnSeR-"
   },
   "outputs": [],
   "source": [
    "# Perform a train test split\n",
    "X_train, X_test, y_train, y_test = train_test_split(X, y, test_size=0.2, random_state=7)"
   ]
  },
  {
   "cell_type": "code",
   "execution_count": 16,
   "metadata": {
    "executionInfo": {
     "elapsed": 20,
     "status": "ok",
     "timestamp": 1745897791832,
     "user": {
      "displayName": "Fabien Marpeau",
      "userId": "15210978490258687001"
     },
     "user_tz": 300
    },
    "id": "wTbCHRumS-P9"
   },
   "outputs": [],
   "source": [
    "# Create an instance of SimpleImputer to fill in missing values with the median\n",
    "imputer = SimpleImputer(strategy='median')\n",
    "X_train_imputed = imputer.fit_transform(X_train)\n",
    "X_test_imputed = imputer.transform(X_test)"
   ]
  },
  {
   "cell_type": "code",
   "execution_count": 17,
   "metadata": {
    "executionInfo": {
     "elapsed": 4,
     "status": "ok",
     "timestamp": 1745897804181,
     "user": {
      "displayName": "Fabien Marpeau",
      "userId": "15210978490258687001"
     },
     "user_tz": 300
    },
    "id": "3UKVcSVlTG4w"
   },
   "outputs": [],
   "source": [
    "# Create an instance of MinMaxScaler to scale features to a range of (0, 1)\n",
    "scaler = MinMaxScaler(feature_range=(0, 1))\n",
    "X_train_scaled = scaler.fit_transform(X_train_imputed)\n",
    "X_test_scaled = scaler.transform(X_test_imputed)"
   ]
  },
  {
   "cell_type": "code",
   "execution_count": 18,
   "metadata": {
    "colab": {
     "base_uri": "https://localhost:8080/"
    },
    "executionInfo": {
     "elapsed": 26,
     "status": "ok",
     "timestamp": 1745897808688,
     "user": {
      "displayName": "Fabien Marpeau",
      "userId": "15210978490258687001"
     },
     "user_tz": 300
    },
    "id": "22W3D0tAwL4c",
    "outputId": "8e632598-6b82-45a2-ad29-0d823c2046e3"
   },
   "outputs": [
    {
     "data": {
      "text/plain": [
       "array([[0.77777778, 0.33333333, 1.        , 0.44444444, 0.33333333,\n",
       "        0.4       , 0.66666667, 1.        , 0.        ],\n",
       "       [0.        , 0.11111111, 0.22222222, 0.        , 0.11111111,\n",
       "        0.1       , 0.11111111, 0.        , 0.        ]])"
      ]
     },
     "execution_count": 18,
     "metadata": {},
     "output_type": "execute_result"
    }
   ],
   "source": [
    "X_test_scaled[:2]"
   ]
  },
  {
   "cell_type": "code",
   "execution_count": 19,
   "metadata": {
    "id": "H9_cQix5wKK4"
   },
   "outputs": [],
   "source": [
    "# Initialize list for base models\n",
    "estimators = [\n",
    "    ('logistic', LogisticRegression(solver='liblinear')),\n",
    "    ('cart', DecisionTreeClassifier(max_depth=7)),\n",
    "    ('svm', SVC(probability=True, kernel='rbf')),\n",
    "]"
   ]
  },
  {
   "cell_type": "code",
   "execution_count": 20,
   "metadata": {
    "id": "QtqBWv8tTJp2"
   },
   "outputs": [],
   "source": [
    "# Create Voting Classifier ensemble with estimators\n",
    "ensemble = VotingClassifier(estimators, voting='hard')"
   ]
  },
  {
   "cell_type": "code",
   "execution_count": 21,
   "metadata": {
    "id": "D0pGbFOVxilA"
   },
   "outputs": [
    {
     "data": {
      "text/html": [
       "<style>#sk-container-id-1 {\n",
       "  /* Definition of color scheme common for light and dark mode */\n",
       "  --sklearn-color-text: #000;\n",
       "  --sklearn-color-text-muted: #666;\n",
       "  --sklearn-color-line: gray;\n",
       "  /* Definition of color scheme for unfitted estimators */\n",
       "  --sklearn-color-unfitted-level-0: #fff5e6;\n",
       "  --sklearn-color-unfitted-level-1: #f6e4d2;\n",
       "  --sklearn-color-unfitted-level-2: #ffe0b3;\n",
       "  --sklearn-color-unfitted-level-3: chocolate;\n",
       "  /* Definition of color scheme for fitted estimators */\n",
       "  --sklearn-color-fitted-level-0: #f0f8ff;\n",
       "  --sklearn-color-fitted-level-1: #d4ebff;\n",
       "  --sklearn-color-fitted-level-2: #b3dbfd;\n",
       "  --sklearn-color-fitted-level-3: cornflowerblue;\n",
       "\n",
       "  /* Specific color for light theme */\n",
       "  --sklearn-color-text-on-default-background: var(--sg-text-color, var(--theme-code-foreground, var(--jp-content-font-color1, black)));\n",
       "  --sklearn-color-background: var(--sg-background-color, var(--theme-background, var(--jp-layout-color0, white)));\n",
       "  --sklearn-color-border-box: var(--sg-text-color, var(--theme-code-foreground, var(--jp-content-font-color1, black)));\n",
       "  --sklearn-color-icon: #696969;\n",
       "\n",
       "  @media (prefers-color-scheme: dark) {\n",
       "    /* Redefinition of color scheme for dark theme */\n",
       "    --sklearn-color-text-on-default-background: var(--sg-text-color, var(--theme-code-foreground, var(--jp-content-font-color1, white)));\n",
       "    --sklearn-color-background: var(--sg-background-color, var(--theme-background, var(--jp-layout-color0, #111)));\n",
       "    --sklearn-color-border-box: var(--sg-text-color, var(--theme-code-foreground, var(--jp-content-font-color1, white)));\n",
       "    --sklearn-color-icon: #878787;\n",
       "  }\n",
       "}\n",
       "\n",
       "#sk-container-id-1 {\n",
       "  color: var(--sklearn-color-text);\n",
       "}\n",
       "\n",
       "#sk-container-id-1 pre {\n",
       "  padding: 0;\n",
       "}\n",
       "\n",
       "#sk-container-id-1 input.sk-hidden--visually {\n",
       "  border: 0;\n",
       "  clip: rect(1px 1px 1px 1px);\n",
       "  clip: rect(1px, 1px, 1px, 1px);\n",
       "  height: 1px;\n",
       "  margin: -1px;\n",
       "  overflow: hidden;\n",
       "  padding: 0;\n",
       "  position: absolute;\n",
       "  width: 1px;\n",
       "}\n",
       "\n",
       "#sk-container-id-1 div.sk-dashed-wrapped {\n",
       "  border: 1px dashed var(--sklearn-color-line);\n",
       "  margin: 0 0.4em 0.5em 0.4em;\n",
       "  box-sizing: border-box;\n",
       "  padding-bottom: 0.4em;\n",
       "  background-color: var(--sklearn-color-background);\n",
       "}\n",
       "\n",
       "#sk-container-id-1 div.sk-container {\n",
       "  /* jupyter's `normalize.less` sets `[hidden] { display: none; }`\n",
       "     but bootstrap.min.css set `[hidden] { display: none !important; }`\n",
       "     so we also need the `!important` here to be able to override the\n",
       "     default hidden behavior on the sphinx rendered scikit-learn.org.\n",
       "     See: https://github.com/scikit-learn/scikit-learn/issues/21755 */\n",
       "  display: inline-block !important;\n",
       "  position: relative;\n",
       "}\n",
       "\n",
       "#sk-container-id-1 div.sk-text-repr-fallback {\n",
       "  display: none;\n",
       "}\n",
       "\n",
       "div.sk-parallel-item,\n",
       "div.sk-serial,\n",
       "div.sk-item {\n",
       "  /* draw centered vertical line to link estimators */\n",
       "  background-image: linear-gradient(var(--sklearn-color-text-on-default-background), var(--sklearn-color-text-on-default-background));\n",
       "  background-size: 2px 100%;\n",
       "  background-repeat: no-repeat;\n",
       "  background-position: center center;\n",
       "}\n",
       "\n",
       "/* Parallel-specific style estimator block */\n",
       "\n",
       "#sk-container-id-1 div.sk-parallel-item::after {\n",
       "  content: \"\";\n",
       "  width: 100%;\n",
       "  border-bottom: 2px solid var(--sklearn-color-text-on-default-background);\n",
       "  flex-grow: 1;\n",
       "}\n",
       "\n",
       "#sk-container-id-1 div.sk-parallel {\n",
       "  display: flex;\n",
       "  align-items: stretch;\n",
       "  justify-content: center;\n",
       "  background-color: var(--sklearn-color-background);\n",
       "  position: relative;\n",
       "}\n",
       "\n",
       "#sk-container-id-1 div.sk-parallel-item {\n",
       "  display: flex;\n",
       "  flex-direction: column;\n",
       "}\n",
       "\n",
       "#sk-container-id-1 div.sk-parallel-item:first-child::after {\n",
       "  align-self: flex-end;\n",
       "  width: 50%;\n",
       "}\n",
       "\n",
       "#sk-container-id-1 div.sk-parallel-item:last-child::after {\n",
       "  align-self: flex-start;\n",
       "  width: 50%;\n",
       "}\n",
       "\n",
       "#sk-container-id-1 div.sk-parallel-item:only-child::after {\n",
       "  width: 0;\n",
       "}\n",
       "\n",
       "/* Serial-specific style estimator block */\n",
       "\n",
       "#sk-container-id-1 div.sk-serial {\n",
       "  display: flex;\n",
       "  flex-direction: column;\n",
       "  align-items: center;\n",
       "  background-color: var(--sklearn-color-background);\n",
       "  padding-right: 1em;\n",
       "  padding-left: 1em;\n",
       "}\n",
       "\n",
       "\n",
       "/* Toggleable style: style used for estimator/Pipeline/ColumnTransformer box that is\n",
       "clickable and can be expanded/collapsed.\n",
       "- Pipeline and ColumnTransformer use this feature and define the default style\n",
       "- Estimators will overwrite some part of the style using the `sk-estimator` class\n",
       "*/\n",
       "\n",
       "/* Pipeline and ColumnTransformer style (default) */\n",
       "\n",
       "#sk-container-id-1 div.sk-toggleable {\n",
       "  /* Default theme specific background. It is overwritten whether we have a\n",
       "  specific estimator or a Pipeline/ColumnTransformer */\n",
       "  background-color: var(--sklearn-color-background);\n",
       "}\n",
       "\n",
       "/* Toggleable label */\n",
       "#sk-container-id-1 label.sk-toggleable__label {\n",
       "  cursor: pointer;\n",
       "  display: flex;\n",
       "  width: 100%;\n",
       "  margin-bottom: 0;\n",
       "  padding: 0.5em;\n",
       "  box-sizing: border-box;\n",
       "  text-align: center;\n",
       "  align-items: start;\n",
       "  justify-content: space-between;\n",
       "  gap: 0.5em;\n",
       "}\n",
       "\n",
       "#sk-container-id-1 label.sk-toggleable__label .caption {\n",
       "  font-size: 0.6rem;\n",
       "  font-weight: lighter;\n",
       "  color: var(--sklearn-color-text-muted);\n",
       "}\n",
       "\n",
       "#sk-container-id-1 label.sk-toggleable__label-arrow:before {\n",
       "  /* Arrow on the left of the label */\n",
       "  content: \"▸\";\n",
       "  float: left;\n",
       "  margin-right: 0.25em;\n",
       "  color: var(--sklearn-color-icon);\n",
       "}\n",
       "\n",
       "#sk-container-id-1 label.sk-toggleable__label-arrow:hover:before {\n",
       "  color: var(--sklearn-color-text);\n",
       "}\n",
       "\n",
       "/* Toggleable content - dropdown */\n",
       "\n",
       "#sk-container-id-1 div.sk-toggleable__content {\n",
       "  max-height: 0;\n",
       "  max-width: 0;\n",
       "  overflow: hidden;\n",
       "  text-align: left;\n",
       "  /* unfitted */\n",
       "  background-color: var(--sklearn-color-unfitted-level-0);\n",
       "}\n",
       "\n",
       "#sk-container-id-1 div.sk-toggleable__content.fitted {\n",
       "  /* fitted */\n",
       "  background-color: var(--sklearn-color-fitted-level-0);\n",
       "}\n",
       "\n",
       "#sk-container-id-1 div.sk-toggleable__content pre {\n",
       "  margin: 0.2em;\n",
       "  border-radius: 0.25em;\n",
       "  color: var(--sklearn-color-text);\n",
       "  /* unfitted */\n",
       "  background-color: var(--sklearn-color-unfitted-level-0);\n",
       "}\n",
       "\n",
       "#sk-container-id-1 div.sk-toggleable__content.fitted pre {\n",
       "  /* unfitted */\n",
       "  background-color: var(--sklearn-color-fitted-level-0);\n",
       "}\n",
       "\n",
       "#sk-container-id-1 input.sk-toggleable__control:checked~div.sk-toggleable__content {\n",
       "  /* Expand drop-down */\n",
       "  max-height: 200px;\n",
       "  max-width: 100%;\n",
       "  overflow: auto;\n",
       "}\n",
       "\n",
       "#sk-container-id-1 input.sk-toggleable__control:checked~label.sk-toggleable__label-arrow:before {\n",
       "  content: \"▾\";\n",
       "}\n",
       "\n",
       "/* Pipeline/ColumnTransformer-specific style */\n",
       "\n",
       "#sk-container-id-1 div.sk-label input.sk-toggleable__control:checked~label.sk-toggleable__label {\n",
       "  color: var(--sklearn-color-text);\n",
       "  background-color: var(--sklearn-color-unfitted-level-2);\n",
       "}\n",
       "\n",
       "#sk-container-id-1 div.sk-label.fitted input.sk-toggleable__control:checked~label.sk-toggleable__label {\n",
       "  background-color: var(--sklearn-color-fitted-level-2);\n",
       "}\n",
       "\n",
       "/* Estimator-specific style */\n",
       "\n",
       "/* Colorize estimator box */\n",
       "#sk-container-id-1 div.sk-estimator input.sk-toggleable__control:checked~label.sk-toggleable__label {\n",
       "  /* unfitted */\n",
       "  background-color: var(--sklearn-color-unfitted-level-2);\n",
       "}\n",
       "\n",
       "#sk-container-id-1 div.sk-estimator.fitted input.sk-toggleable__control:checked~label.sk-toggleable__label {\n",
       "  /* fitted */\n",
       "  background-color: var(--sklearn-color-fitted-level-2);\n",
       "}\n",
       "\n",
       "#sk-container-id-1 div.sk-label label.sk-toggleable__label,\n",
       "#sk-container-id-1 div.sk-label label {\n",
       "  /* The background is the default theme color */\n",
       "  color: var(--sklearn-color-text-on-default-background);\n",
       "}\n",
       "\n",
       "/* On hover, darken the color of the background */\n",
       "#sk-container-id-1 div.sk-label:hover label.sk-toggleable__label {\n",
       "  color: var(--sklearn-color-text);\n",
       "  background-color: var(--sklearn-color-unfitted-level-2);\n",
       "}\n",
       "\n",
       "/* Label box, darken color on hover, fitted */\n",
       "#sk-container-id-1 div.sk-label.fitted:hover label.sk-toggleable__label.fitted {\n",
       "  color: var(--sklearn-color-text);\n",
       "  background-color: var(--sklearn-color-fitted-level-2);\n",
       "}\n",
       "\n",
       "/* Estimator label */\n",
       "\n",
       "#sk-container-id-1 div.sk-label label {\n",
       "  font-family: monospace;\n",
       "  font-weight: bold;\n",
       "  display: inline-block;\n",
       "  line-height: 1.2em;\n",
       "}\n",
       "\n",
       "#sk-container-id-1 div.sk-label-container {\n",
       "  text-align: center;\n",
       "}\n",
       "\n",
       "/* Estimator-specific */\n",
       "#sk-container-id-1 div.sk-estimator {\n",
       "  font-family: monospace;\n",
       "  border: 1px dotted var(--sklearn-color-border-box);\n",
       "  border-radius: 0.25em;\n",
       "  box-sizing: border-box;\n",
       "  margin-bottom: 0.5em;\n",
       "  /* unfitted */\n",
       "  background-color: var(--sklearn-color-unfitted-level-0);\n",
       "}\n",
       "\n",
       "#sk-container-id-1 div.sk-estimator.fitted {\n",
       "  /* fitted */\n",
       "  background-color: var(--sklearn-color-fitted-level-0);\n",
       "}\n",
       "\n",
       "/* on hover */\n",
       "#sk-container-id-1 div.sk-estimator:hover {\n",
       "  /* unfitted */\n",
       "  background-color: var(--sklearn-color-unfitted-level-2);\n",
       "}\n",
       "\n",
       "#sk-container-id-1 div.sk-estimator.fitted:hover {\n",
       "  /* fitted */\n",
       "  background-color: var(--sklearn-color-fitted-level-2);\n",
       "}\n",
       "\n",
       "/* Specification for estimator info (e.g. \"i\" and \"?\") */\n",
       "\n",
       "/* Common style for \"i\" and \"?\" */\n",
       "\n",
       ".sk-estimator-doc-link,\n",
       "a:link.sk-estimator-doc-link,\n",
       "a:visited.sk-estimator-doc-link {\n",
       "  float: right;\n",
       "  font-size: smaller;\n",
       "  line-height: 1em;\n",
       "  font-family: monospace;\n",
       "  background-color: var(--sklearn-color-background);\n",
       "  border-radius: 1em;\n",
       "  height: 1em;\n",
       "  width: 1em;\n",
       "  text-decoration: none !important;\n",
       "  margin-left: 0.5em;\n",
       "  text-align: center;\n",
       "  /* unfitted */\n",
       "  border: var(--sklearn-color-unfitted-level-1) 1pt solid;\n",
       "  color: var(--sklearn-color-unfitted-level-1);\n",
       "}\n",
       "\n",
       ".sk-estimator-doc-link.fitted,\n",
       "a:link.sk-estimator-doc-link.fitted,\n",
       "a:visited.sk-estimator-doc-link.fitted {\n",
       "  /* fitted */\n",
       "  border: var(--sklearn-color-fitted-level-1) 1pt solid;\n",
       "  color: var(--sklearn-color-fitted-level-1);\n",
       "}\n",
       "\n",
       "/* On hover */\n",
       "div.sk-estimator:hover .sk-estimator-doc-link:hover,\n",
       ".sk-estimator-doc-link:hover,\n",
       "div.sk-label-container:hover .sk-estimator-doc-link:hover,\n",
       ".sk-estimator-doc-link:hover {\n",
       "  /* unfitted */\n",
       "  background-color: var(--sklearn-color-unfitted-level-3);\n",
       "  color: var(--sklearn-color-background);\n",
       "  text-decoration: none;\n",
       "}\n",
       "\n",
       "div.sk-estimator.fitted:hover .sk-estimator-doc-link.fitted:hover,\n",
       ".sk-estimator-doc-link.fitted:hover,\n",
       "div.sk-label-container:hover .sk-estimator-doc-link.fitted:hover,\n",
       ".sk-estimator-doc-link.fitted:hover {\n",
       "  /* fitted */\n",
       "  background-color: var(--sklearn-color-fitted-level-3);\n",
       "  color: var(--sklearn-color-background);\n",
       "  text-decoration: none;\n",
       "}\n",
       "\n",
       "/* Span, style for the box shown on hovering the info icon */\n",
       ".sk-estimator-doc-link span {\n",
       "  display: none;\n",
       "  z-index: 9999;\n",
       "  position: relative;\n",
       "  font-weight: normal;\n",
       "  right: .2ex;\n",
       "  padding: .5ex;\n",
       "  margin: .5ex;\n",
       "  width: min-content;\n",
       "  min-width: 20ex;\n",
       "  max-width: 50ex;\n",
       "  color: var(--sklearn-color-text);\n",
       "  box-shadow: 2pt 2pt 4pt #999;\n",
       "  /* unfitted */\n",
       "  background: var(--sklearn-color-unfitted-level-0);\n",
       "  border: .5pt solid var(--sklearn-color-unfitted-level-3);\n",
       "}\n",
       "\n",
       ".sk-estimator-doc-link.fitted span {\n",
       "  /* fitted */\n",
       "  background: var(--sklearn-color-fitted-level-0);\n",
       "  border: var(--sklearn-color-fitted-level-3);\n",
       "}\n",
       "\n",
       ".sk-estimator-doc-link:hover span {\n",
       "  display: block;\n",
       "}\n",
       "\n",
       "/* \"?\"-specific style due to the `<a>` HTML tag */\n",
       "\n",
       "#sk-container-id-1 a.estimator_doc_link {\n",
       "  float: right;\n",
       "  font-size: 1rem;\n",
       "  line-height: 1em;\n",
       "  font-family: monospace;\n",
       "  background-color: var(--sklearn-color-background);\n",
       "  border-radius: 1rem;\n",
       "  height: 1rem;\n",
       "  width: 1rem;\n",
       "  text-decoration: none;\n",
       "  /* unfitted */\n",
       "  color: var(--sklearn-color-unfitted-level-1);\n",
       "  border: var(--sklearn-color-unfitted-level-1) 1pt solid;\n",
       "}\n",
       "\n",
       "#sk-container-id-1 a.estimator_doc_link.fitted {\n",
       "  /* fitted */\n",
       "  border: var(--sklearn-color-fitted-level-1) 1pt solid;\n",
       "  color: var(--sklearn-color-fitted-level-1);\n",
       "}\n",
       "\n",
       "/* On hover */\n",
       "#sk-container-id-1 a.estimator_doc_link:hover {\n",
       "  /* unfitted */\n",
       "  background-color: var(--sklearn-color-unfitted-level-3);\n",
       "  color: var(--sklearn-color-background);\n",
       "  text-decoration: none;\n",
       "}\n",
       "\n",
       "#sk-container-id-1 a.estimator_doc_link.fitted:hover {\n",
       "  /* fitted */\n",
       "  background-color: var(--sklearn-color-fitted-level-3);\n",
       "}\n",
       "</style><div id=\"sk-container-id-1\" class=\"sk-top-container\"><div class=\"sk-text-repr-fallback\"><pre>VotingClassifier(estimators=[(&#x27;logistic&#x27;,\n",
       "                              LogisticRegression(solver=&#x27;liblinear&#x27;)),\n",
       "                             (&#x27;cart&#x27;, DecisionTreeClassifier(max_depth=7)),\n",
       "                             (&#x27;svm&#x27;, SVC(probability=True))])</pre><b>In a Jupyter environment, please rerun this cell to show the HTML representation or trust the notebook. <br />On GitHub, the HTML representation is unable to render, please try loading this page with nbviewer.org.</b></div><div class=\"sk-container\" hidden><div class=\"sk-item sk-dashed-wrapped\"><div class=\"sk-label-container\"><div class=\"sk-label fitted sk-toggleable\"><input class=\"sk-toggleable__control sk-hidden--visually\" id=\"sk-estimator-id-1\" type=\"checkbox\" ><label for=\"sk-estimator-id-1\" class=\"sk-toggleable__label fitted sk-toggleable__label-arrow\"><div><div>VotingClassifier</div></div><div><a class=\"sk-estimator-doc-link fitted\" rel=\"noreferrer\" target=\"_blank\" href=\"https://scikit-learn.org/1.6/modules/generated/sklearn.ensemble.VotingClassifier.html\">?<span>Documentation for VotingClassifier</span></a><span class=\"sk-estimator-doc-link fitted\">i<span>Fitted</span></span></div></label><div class=\"sk-toggleable__content fitted\"><pre>VotingClassifier(estimators=[(&#x27;logistic&#x27;,\n",
       "                              LogisticRegression(solver=&#x27;liblinear&#x27;)),\n",
       "                             (&#x27;cart&#x27;, DecisionTreeClassifier(max_depth=7)),\n",
       "                             (&#x27;svm&#x27;, SVC(probability=True))])</pre></div> </div></div><div class=\"sk-parallel\"><div class=\"sk-parallel-item\"><div class=\"sk-item\"><div class=\"sk-label-container\"><div class=\"sk-label fitted sk-toggleable\"><label>logistic</label></div></div><div class=\"sk-serial\"><div class=\"sk-item\"><div class=\"sk-estimator fitted sk-toggleable\"><input class=\"sk-toggleable__control sk-hidden--visually\" id=\"sk-estimator-id-2\" type=\"checkbox\" ><label for=\"sk-estimator-id-2\" class=\"sk-toggleable__label fitted sk-toggleable__label-arrow\"><div><div>LogisticRegression</div></div><div><a class=\"sk-estimator-doc-link fitted\" rel=\"noreferrer\" target=\"_blank\" href=\"https://scikit-learn.org/1.6/modules/generated/sklearn.linear_model.LogisticRegression.html\">?<span>Documentation for LogisticRegression</span></a></div></label><div class=\"sk-toggleable__content fitted\"><pre>LogisticRegression(solver=&#x27;liblinear&#x27;)</pre></div> </div></div></div></div></div><div class=\"sk-parallel-item\"><div class=\"sk-item\"><div class=\"sk-label-container\"><div class=\"sk-label fitted sk-toggleable\"><label>cart</label></div></div><div class=\"sk-serial\"><div class=\"sk-item\"><div class=\"sk-estimator fitted sk-toggleable\"><input class=\"sk-toggleable__control sk-hidden--visually\" id=\"sk-estimator-id-3\" type=\"checkbox\" ><label for=\"sk-estimator-id-3\" class=\"sk-toggleable__label fitted sk-toggleable__label-arrow\"><div><div>DecisionTreeClassifier</div></div><div><a class=\"sk-estimator-doc-link fitted\" rel=\"noreferrer\" target=\"_blank\" href=\"https://scikit-learn.org/1.6/modules/generated/sklearn.tree.DecisionTreeClassifier.html\">?<span>Documentation for DecisionTreeClassifier</span></a></div></label><div class=\"sk-toggleable__content fitted\"><pre>DecisionTreeClassifier(max_depth=7)</pre></div> </div></div></div></div></div><div class=\"sk-parallel-item\"><div class=\"sk-item\"><div class=\"sk-label-container\"><div class=\"sk-label fitted sk-toggleable\"><label>svm</label></div></div><div class=\"sk-serial\"><div class=\"sk-item\"><div class=\"sk-estimator fitted sk-toggleable\"><input class=\"sk-toggleable__control sk-hidden--visually\" id=\"sk-estimator-id-4\" type=\"checkbox\" ><label for=\"sk-estimator-id-4\" class=\"sk-toggleable__label fitted sk-toggleable__label-arrow\"><div><div>SVC</div></div><div><a class=\"sk-estimator-doc-link fitted\" rel=\"noreferrer\" target=\"_blank\" href=\"https://scikit-learn.org/1.6/modules/generated/sklearn.svm.SVC.html\">?<span>Documentation for SVC</span></a></div></label><div class=\"sk-toggleable__content fitted\"><pre>SVC(probability=True)</pre></div> </div></div></div></div></div></div></div></div></div>"
      ],
      "text/plain": [
       "VotingClassifier(estimators=[('logistic',\n",
       "                              LogisticRegression(solver='liblinear')),\n",
       "                             ('cart', DecisionTreeClassifier(max_depth=7)),\n",
       "                             ('svm', SVC(probability=True))])"
      ]
     },
     "execution_count": 21,
     "metadata": {},
     "output_type": "execute_result"
    }
   ],
   "source": [
    "# Fit the ensemble on the scaled training set and evaluate on the scaled test set\n",
    "ensemble.fit(X_train_scaled, y_train)"
   ]
  },
  {
   "cell_type": "code",
   "execution_count": 22,
   "metadata": {
    "id": "5ZgTctnwxsG3"
   },
   "outputs": [
    {
     "name": "stdout",
     "output_type": "stream",
     "text": [
      "Test accuracy of the ensemble model: 0.96\n"
     ]
    }
   ],
   "source": [
    "# Predict\n",
    "test_accuracy = ensemble.score(X_test_scaled, y_test)\n",
    "\n",
    "# Print test accuracy\n",
    "print(f\"Test accuracy of the ensemble model: {test_accuracy:.2f}\")"
   ]
  },
  {
   "cell_type": "markdown",
   "metadata": {
    "id": "JJ06Ormxl345"
   },
   "source": [
    "**Observation:**\n",
    "\n",
    "The majority voting ensemble's 96% accuracy rate demonstrates its remarkable effectiveness in predicting breast cancer classifications. By combining predictions from multiple individual classifiers, this ensemble leverages the collective insights of diverse models to achieve highly accurate results.\n",
    "\n",
    "Let us explore other performance evaluation metrics as well:"
   ]
  },
  {
   "cell_type": "code",
   "execution_count": 23,
   "metadata": {
    "id": "X-zHWomY9FlA"
   },
   "outputs": [
    {
     "name": "stdout",
     "output_type": "stream",
     "text": [
      "-------Classification report--------\n",
      "              precision    recall  f1-score   support\n",
      "\n",
      "           0       0.98      0.97      0.97        91\n",
      "           1       0.94      0.96      0.95        49\n",
      "\n",
      "    accuracy                           0.96       140\n",
      "   macro avg       0.96      0.96      0.96       140\n",
      "weighted avg       0.96      0.96      0.96       140\n",
      "\n",
      "-------Confusion matrix-------------\n"
     ]
    },
    {
     "data": {
      "image/png": "[encoded data removed]",
      "text/plain": [
       "<Figure size 640x480 with 2 Axes>"
      ]
     },
     "metadata": {},
     "output_type": "display_data"
    }
   ],
   "source": [
    "## Evaluating model on test dataset\n",
    "y_pred = ensemble.predict(X_test_scaled)\n",
    "print('-------Classification report--------')\n",
    "print(classification_report(y_test,y_pred))\n",
    "print('-------Confusion matrix-------------')\n",
    "\n",
    "cm = confusion_matrix(y_test,y_pred)\n",
    "disp = ConfusionMatrixDisplay(confusion_matrix=cm, display_labels=['Benign','Malignant'])\n",
    "disp.plot(cmap=\"summer\")\n",
    "plt.show()"
   ]
  },
  {
   "cell_type": "markdown",
   "metadata": {
    "id": "9LuQmY93Lt6k"
   },
   "source": [
    "#### __Observation:__\n",
    "\n",
    "True Positives (TP): The model correctly predicted 47 instances as \"malignant\" when they were indeed malignant. This indicates that there were 41 true positive predictions.\n",
    "\n",
    "True Negatives (TN): The model correctly predicted 88 instances as \"benign\" when they were indeed benign. This shows 70 true negative predictions.\n",
    "\n",
    "False Positives (FP): The model incorrectly predicted 3 instance as \"malignant\" when it was actually benign. This is a false positive, also known as a Type I error.\n",
    "\n",
    "False Negatives (FN): The model incorrectly predicted 2 instances as \"benign\" when they were actually malignant. This is a false negative, also known as a Type II error.\n",
    "\n",
    "**Classification Report:**\n",
    "\n",
    "*Class 0 (Negative Class)*\n",
    "\n",
    "Precision: 0.98\n",
    "\n",
    "98% of the instances predicted as class 0 are actually class 0.\n",
    "\n",
    "Recall: 0.97\n",
    "\n",
    "97% of the actual class 0 instances are correctly predicted as class 0.\n",
    "\n",
    "F1-Score: 0.97\n",
    "\n",
    "The F1-score is the harmonic mean of precision and recall, providing a balance between the two metrics. Here, the F1-score is 0.97, indicating excellent performance.\n",
    "\n",
    "Support: 91\n",
    "\n",
    "There are 91 actual instances of class 0 in the test set.\n",
    "\n",
    "*Class 1 (Positive Class)*\n",
    "\n",
    "Precision: 0.94\n",
    "\n",
    "94% of the instances predicted as class 1 are actually class 1.\n",
    "\n",
    "Recall: 0.96\n",
    "\n",
    "96% of the actual class 1 instances are correctly predicted as class 1.\n",
    "\n",
    "F1-Score: 0.95\n",
    "\n",
    "The F1-score for class 1 is 0.95, indicating very good performance.\n",
    "\n",
    "Support: 49\n",
    "\n",
    "There are 49 actual instances of class 1 in the test set.\n",
    "\n",
    "*Overall Metrics*\n",
    "\n",
    "Accuracy: 0.96\n",
    "\n",
    "The overall accuracy of the model, indicating that 97% of the total instances are correctly classified.\n",
    "\n",
    "Macro Average\n",
    "\n",
    "Macro average calculates the metric independently for each class and then takes the average, treating all classes equally. It is useful when you have imbalanced classes.\n",
    "\n",
    "Precision: 0.96\n",
    "Recall: 0.96\n",
    "F1-Score: 0.96\n",
    "\n",
    "Weighted Average\n",
    "\n",
    "Weighted average takes into account the support (the number of true instances for each class) to calculate the average. It is more representative of the performance on imbalanced datasets.\n",
    "\n",
    "Precision: 0.96\n",
    "Recall: 0.96\n",
    "F1-Score: 0.96"
   ]
  },
  {
   "cell_type": "code",
   "execution_count": 24,
   "metadata": {
    "id": "T8YB6qDSzeeu"
   },
   "outputs": [
    {
     "name": "stdout",
     "output_type": "stream",
     "text": [
      "Mean cross-validation accuracy of the ensemble model: 0.96\n"
     ]
    }
   ],
   "source": [
    "# Set up KFold cross-validation\n",
    "kfold = KFold(n_splits=10, shuffle=True, random_state=7)\n",
    "\n",
    "# Evaluate ensemble model using cross-validation\n",
    "results = cross_val_score(ensemble, X_train_scaled, y_train, cv=kfold)\n",
    "\n",
    "# Print mean accuracy score of the ensemble model\n",
    "print(f\"Mean cross-validation accuracy of the ensemble model: {results.mean():.2f}\")"
   ]
  },
  {
   "cell_type": "markdown",
   "metadata": {
    "id": "XYJ3QNVAyyPk"
   },
   "source": [
    "### __3.1.2 Soft Voting__"
   ]
  },
  {
   "cell_type": "markdown",
   "metadata": {
    "id": "GaMITmY6yywn"
   },
   "source": [
    "Soft voting takes into account the probability estimates for each class provided by the models, assuming the models are capable of estimating these probabilities (i.e., they have a predict_proba method). The final prediction is determined by averaging these probabilities across all models, and the class"
   ]
  },
  {
   "cell_type": "code",
   "execution_count": 25,
   "metadata": {
    "id": "hQzkS9Njy7QS"
   },
   "outputs": [],
   "source": [
    "# Initialize list for base models\n",
    "estimators = [\n",
    "    ('logistic', LogisticRegression(solver='liblinear')),\n",
    "    ('cart', DecisionTreeClassifier(max_depth=7)),\n",
    "    ('svm', SVC(probability=True, kernel='rbf')),\n",
    "    ('nb', GaussianNB())\n",
    "]\n",
    "\n",
    "# Create Voting Classifier ensemble with estimators\n",
    "soft_ensemble = VotingClassifier(\n",
    "    estimators=estimators,\n",
    "    voting='soft'\n",
    ")"
   ]
  },
  {
   "cell_type": "code",
   "execution_count": 26,
   "metadata": {
    "id": "W0eB_t6Ky7Tn"
   },
   "outputs": [
    {
     "data": {
      "text/html": [
       "<style>#sk-container-id-2 {\n",
       "  /* Definition of color scheme common for light and dark mode */\n",
       "  --sklearn-color-text: #000;\n",
       "  --sklearn-color-text-muted: #666;\n",
       "  --sklearn-color-line: gray;\n",
       "  /* Definition of color scheme for unfitted estimators */\n",
       "  --sklearn-color-unfitted-level-0: #fff5e6;\n",
       "  --sklearn-color-unfitted-level-1: #f6e4d2;\n",
       "  --sklearn-color-unfitted-level-2: #ffe0b3;\n",
       "  --sklearn-color-unfitted-level-3: chocolate;\n",
       "  /* Definition of color scheme for fitted estimators */\n",
       "  --sklearn-color-fitted-level-0: #f0f8ff;\n",
       "  --sklearn-color-fitted-level-1: #d4ebff;\n",
       "  --sklearn-color-fitted-level-2: #b3dbfd;\n",
       "  --sklearn-color-fitted-level-3: cornflowerblue;\n",
       "\n",
       "  /* Specific color for light theme */\n",
       "  --sklearn-color-text-on-default-background: var(--sg-text-color, var(--theme-code-foreground, var(--jp-content-font-color1, black)));\n",
       "  --sklearn-color-background: var(--sg-background-color, var(--theme-background, var(--jp-layout-color0, white)));\n",
       "  --sklearn-color-border-box: var(--sg-text-color, var(--theme-code-foreground, var(--jp-content-font-color1, black)));\n",
       "  --sklearn-color-icon: #696969;\n",
       "\n",
       "  @media (prefers-color-scheme: dark) {\n",
       "    /* Redefinition of color scheme for dark theme */\n",
       "    --sklearn-color-text-on-default-background: var(--sg-text-color, var(--theme-code-foreground, var(--jp-content-font-color1, white)));\n",
       "    --sklearn-color-background: var(--sg-background-color, var(--theme-background, var(--jp-layout-color0, #111)));\n",
       "    --sklearn-color-border-box: var(--sg-text-color, var(--theme-code-foreground, var(--jp-content-font-color1, white)));\n",
       "    --sklearn-color-icon: #878787;\n",
       "  }\n",
       "}\n",
       "\n",
       "#sk-container-id-2 {\n",
       "  color: var(--sklearn-color-text);\n",
       "}\n",
       "\n",
       "#sk-container-id-2 pre {\n",
       "  padding: 0;\n",
       "}\n",
       "\n",
       "#sk-container-id-2 input.sk-hidden--visually {\n",
       "  border: 0;\n",
       "  clip: rect(1px 1px 1px 1px);\n",
       "  clip: rect(1px, 1px, 1px, 1px);\n",
       "  height: 1px;\n",
       "  margin: -1px;\n",
       "  overflow: hidden;\n",
       "  padding: 0;\n",
       "  position: absolute;\n",
       "  width: 1px;\n",
       "}\n",
       "\n",
       "#sk-container-id-2 div.sk-dashed-wrapped {\n",
       "  border: 1px dashed var(--sklearn-color-line);\n",
       "  margin: 0 0.4em 0.5em 0.4em;\n",
       "  box-sizing: border-box;\n",
       "  padding-bottom: 0.4em;\n",
       "  background-color: var(--sklearn-color-background);\n",
       "}\n",
       "\n",
       "#sk-container-id-2 div.sk-container {\n",
       "  /* jupyter's `normalize.less` sets `[hidden] { display: none; }`\n",
       "     but bootstrap.min.css set `[hidden] { display: none !important; }`\n",
       "     so we also need the `!important` here to be able to override the\n",
       "     default hidden behavior on the sphinx rendered scikit-learn.org.\n",
       "     See: https://github.com/scikit-learn/scikit-learn/issues/21755 */\n",
       "  display: inline-block !important;\n",
       "  position: relative;\n",
       "}\n",
       "\n",
       "#sk-container-id-2 div.sk-text-repr-fallback {\n",
       "  display: none;\n",
       "}\n",
       "\n",
       "div.sk-parallel-item,\n",
       "div.sk-serial,\n",
       "div.sk-item {\n",
       "  /* draw centered vertical line to link estimators */\n",
       "  background-image: linear-gradient(var(--sklearn-color-text-on-default-background), var(--sklearn-color-text-on-default-background));\n",
       "  background-size: 2px 100%;\n",
       "  background-repeat: no-repeat;\n",
       "  background-position: center center;\n",
       "}\n",
       "\n",
       "/* Parallel-specific style estimator block */\n",
       "\n",
       "#sk-container-id-2 div.sk-parallel-item::after {\n",
       "  content: \"\";\n",
       "  width: 100%;\n",
       "  border-bottom: 2px solid var(--sklearn-color-text-on-default-background);\n",
       "  flex-grow: 1;\n",
       "}\n",
       "\n",
       "#sk-container-id-2 div.sk-parallel {\n",
       "  display: flex;\n",
       "  align-items: stretch;\n",
       "  justify-content: center;\n",
       "  background-color: var(--sklearn-color-background);\n",
       "  position: relative;\n",
       "}\n",
       "\n",
       "#sk-container-id-2 div.sk-parallel-item {\n",
       "  display: flex;\n",
       "  flex-direction: column;\n",
       "}\n",
       "\n",
       "#sk-container-id-2 div.sk-parallel-item:first-child::after {\n",
       "  align-self: flex-end;\n",
       "  width: 50%;\n",
       "}\n",
       "\n",
       "#sk-container-id-2 div.sk-parallel-item:last-child::after {\n",
       "  align-self: flex-start;\n",
       "  width: 50%;\n",
       "}\n",
       "\n",
       "#sk-container-id-2 div.sk-parallel-item:only-child::after {\n",
       "  width: 0;\n",
       "}\n",
       "\n",
       "/* Serial-specific style estimator block */\n",
       "\n",
       "#sk-container-id-2 div.sk-serial {\n",
       "  display: flex;\n",
       "  flex-direction: column;\n",
       "  align-items: center;\n",
       "  background-color: var(--sklearn-color-background);\n",
       "  padding-right: 1em;\n",
       "  padding-left: 1em;\n",
       "}\n",
       "\n",
       "\n",
       "/* Toggleable style: style used for estimator/Pipeline/ColumnTransformer box that is\n",
       "clickable and can be expanded/collapsed.\n",
       "- Pipeline and ColumnTransformer use this feature and define the default style\n",
       "- Estimators will overwrite some part of the style using the `sk-estimator` class\n",
       "*/\n",
       "\n",
       "/* Pipeline and ColumnTransformer style (default) */\n",
       "\n",
       "#sk-container-id-2 div.sk-toggleable {\n",
       "  /* Default theme specific background. It is overwritten whether we have a\n",
       "  specific estimator or a Pipeline/ColumnTransformer */\n",
       "  background-color: var(--sklearn-color-background);\n",
       "}\n",
       "\n",
       "/* Toggleable label */\n",
       "#sk-container-id-2 label.sk-toggleable__label {\n",
       "  cursor: pointer;\n",
       "  display: flex;\n",
       "  width: 100%;\n",
       "  margin-bottom: 0;\n",
       "  padding: 0.5em;\n",
       "  box-sizing: border-box;\n",
       "  text-align: center;\n",
       "  align-items: start;\n",
       "  justify-content: space-between;\n",
       "  gap: 0.5em;\n",
       "}\n",
       "\n",
       "#sk-container-id-2 label.sk-toggleable__label .caption {\n",
       "  font-size: 0.6rem;\n",
       "  font-weight: lighter;\n",
       "  color: var(--sklearn-color-text-muted);\n",
       "}\n",
       "\n",
       "#sk-container-id-2 label.sk-toggleable__label-arrow:before {\n",
       "  /* Arrow on the left of the label */\n",
       "  content: \"▸\";\n",
       "  float: left;\n",
       "  margin-right: 0.25em;\n",
       "  color: var(--sklearn-color-icon);\n",
       "}\n",
       "\n",
       "#sk-container-id-2 label.sk-toggleable__label-arrow:hover:before {\n",
       "  color: var(--sklearn-color-text);\n",
       "}\n",
       "\n",
       "/* Toggleable content - dropdown */\n",
       "\n",
       "#sk-container-id-2 div.sk-toggleable__content {\n",
       "  max-height: 0;\n",
       "  max-width: 0;\n",
       "  overflow: hidden;\n",
       "  text-align: left;\n",
       "  /* unfitted */\n",
       "  background-color: var(--sklearn-color-unfitted-level-0);\n",
       "}\n",
       "\n",
       "#sk-container-id-2 div.sk-toggleable__content.fitted {\n",
       "  /* fitted */\n",
       "  background-color: var(--sklearn-color-fitted-level-0);\n",
       "}\n",
       "\n",
       "#sk-container-id-2 div.sk-toggleable__content pre {\n",
       "  margin: 0.2em;\n",
       "  border-radius: 0.25em;\n",
       "  color: var(--sklearn-color-text);\n",
       "  /* unfitted */\n",
       "  background-color: var(--sklearn-color-unfitted-level-0);\n",
       "}\n",
       "\n",
       "#sk-container-id-2 div.sk-toggleable__content.fitted pre {\n",
       "  /* unfitted */\n",
       "  background-color: var(--sklearn-color-fitted-level-0);\n",
       "}\n",
       "\n",
       "#sk-container-id-2 input.sk-toggleable__control:checked~div.sk-toggleable__content {\n",
       "  /* Expand drop-down */\n",
       "  max-height: 200px;\n",
       "  max-width: 100%;\n",
       "  overflow: auto;\n",
       "}\n",
       "\n",
       "#sk-container-id-2 input.sk-toggleable__control:checked~label.sk-toggleable__label-arrow:before {\n",
       "  content: \"▾\";\n",
       "}\n",
       "\n",
       "/* Pipeline/ColumnTransformer-specific style */\n",
       "\n",
       "#sk-container-id-2 div.sk-label input.sk-toggleable__control:checked~label.sk-toggleable__label {\n",
       "  color: var(--sklearn-color-text);\n",
       "  background-color: var(--sklearn-color-unfitted-level-2);\n",
       "}\n",
       "\n",
       "#sk-container-id-2 div.sk-label.fitted input.sk-toggleable__control:checked~label.sk-toggleable__label {\n",
       "  background-color: var(--sklearn-color-fitted-level-2);\n",
       "}\n",
       "\n",
       "/* Estimator-specific style */\n",
       "\n",
       "/* Colorize estimator box */\n",
       "#sk-container-id-2 div.sk-estimator input.sk-toggleable__control:checked~label.sk-toggleable__label {\n",
       "  /* unfitted */\n",
       "  background-color: var(--sklearn-color-unfitted-level-2);\n",
       "}\n",
       "\n",
       "#sk-container-id-2 div.sk-estimator.fitted input.sk-toggleable__control:checked~label.sk-toggleable__label {\n",
       "  /* fitted */\n",
       "  background-color: var(--sklearn-color-fitted-level-2);\n",
       "}\n",
       "\n",
       "#sk-container-id-2 div.sk-label label.sk-toggleable__label,\n",
       "#sk-container-id-2 div.sk-label label {\n",
       "  /* The background is the default theme color */\n",
       "  color: var(--sklearn-color-text-on-default-background);\n",
       "}\n",
       "\n",
       "/* On hover, darken the color of the background */\n",
       "#sk-container-id-2 div.sk-label:hover label.sk-toggleable__label {\n",
       "  color: var(--sklearn-color-text);\n",
       "  background-color: var(--sklearn-color-unfitted-level-2);\n",
       "}\n",
       "\n",
       "/* Label box, darken color on hover, fitted */\n",
       "#sk-container-id-2 div.sk-label.fitted:hover label.sk-toggleable__label.fitted {\n",
       "  color: var(--sklearn-color-text);\n",
       "  background-color: var(--sklearn-color-fitted-level-2);\n",
       "}\n",
       "\n",
       "/* Estimator label */\n",
       "\n",
       "#sk-container-id-2 div.sk-label label {\n",
       "  font-family: monospace;\n",
       "  font-weight: bold;\n",
       "  display: inline-block;\n",
       "  line-height: 1.2em;\n",
       "}\n",
       "\n",
       "#sk-container-id-2 div.sk-label-container {\n",
       "  text-align: center;\n",
       "}\n",
       "\n",
       "/* Estimator-specific */\n",
       "#sk-container-id-2 div.sk-estimator {\n",
       "  font-family: monospace;\n",
       "  border: 1px dotted var(--sklearn-color-border-box);\n",
       "  border-radius: 0.25em;\n",
       "  box-sizing: border-box;\n",
       "  margin-bottom: 0.5em;\n",
       "  /* unfitted */\n",
       "  background-color: var(--sklearn-color-unfitted-level-0);\n",
       "}\n",
       "\n",
       "#sk-container-id-2 div.sk-estimator.fitted {\n",
       "  /* fitted */\n",
       "  background-color: var(--sklearn-color-fitted-level-0);\n",
       "}\n",
       "\n",
       "/* on hover */\n",
       "#sk-container-id-2 div.sk-estimator:hover {\n",
       "  /* unfitted */\n",
       "  background-color: var(--sklearn-color-unfitted-level-2);\n",
       "}\n",
       "\n",
       "#sk-container-id-2 div.sk-estimator.fitted:hover {\n",
       "  /* fitted */\n",
       "  background-color: var(--sklearn-color-fitted-level-2);\n",
       "}\n",
       "\n",
       "/* Specification for estimator info (e.g. \"i\" and \"?\") */\n",
       "\n",
       "/* Common style for \"i\" and \"?\" */\n",
       "\n",
       ".sk-estimator-doc-link,\n",
       "a:link.sk-estimator-doc-link,\n",
       "a:visited.sk-estimator-doc-link {\n",
       "  float: right;\n",
       "  font-size: smaller;\n",
       "  line-height: 1em;\n",
       "  font-family: monospace;\n",
       "  background-color: var(--sklearn-color-background);\n",
       "  border-radius: 1em;\n",
       "  height: 1em;\n",
       "  width: 1em;\n",
       "  text-decoration: none !important;\n",
       "  margin-left: 0.5em;\n",
       "  text-align: center;\n",
       "  /* unfitted */\n",
       "  border: var(--sklearn-color-unfitted-level-1) 1pt solid;\n",
       "  color: var(--sklearn-color-unfitted-level-1);\n",
       "}\n",
       "\n",
       ".sk-estimator-doc-link.fitted,\n",
       "a:link.sk-estimator-doc-link.fitted,\n",
       "a:visited.sk-estimator-doc-link.fitted {\n",
       "  /* fitted */\n",
       "  border: var(--sklearn-color-fitted-level-1) 1pt solid;\n",
       "  color: var(--sklearn-color-fitted-level-1);\n",
       "}\n",
       "\n",
       "/* On hover */\n",
       "div.sk-estimator:hover .sk-estimator-doc-link:hover,\n",
       ".sk-estimator-doc-link:hover,\n",
       "div.sk-label-container:hover .sk-estimator-doc-link:hover,\n",
       ".sk-estimator-doc-link:hover {\n",
       "  /* unfitted */\n",
       "  background-color: var(--sklearn-color-unfitted-level-3);\n",
       "  color: var(--sklearn-color-background);\n",
       "  text-decoration: none;\n",
       "}\n",
       "\n",
       "div.sk-estimator.fitted:hover .sk-estimator-doc-link.fitted:hover,\n",
       ".sk-estimator-doc-link.fitted:hover,\n",
       "div.sk-label-container:hover .sk-estimator-doc-link.fitted:hover,\n",
       ".sk-estimator-doc-link.fitted:hover {\n",
       "  /* fitted */\n",
       "  background-color: var(--sklearn-color-fitted-level-3);\n",
       "  color: var(--sklearn-color-background);\n",
       "  text-decoration: none;\n",
       "}\n",
       "\n",
       "/* Span, style for the box shown on hovering the info icon */\n",
       ".sk-estimator-doc-link span {\n",
       "  display: none;\n",
       "  z-index: 9999;\n",
       "  position: relative;\n",
       "  font-weight: normal;\n",
       "  right: .2ex;\n",
       "  padding: .5ex;\n",
       "  margin: .5ex;\n",
       "  width: min-content;\n",
       "  min-width: 20ex;\n",
       "  max-width: 50ex;\n",
       "  color: var(--sklearn-color-text);\n",
       "  box-shadow: 2pt 2pt 4pt #999;\n",
       "  /* unfitted */\n",
       "  background: var(--sklearn-color-unfitted-level-0);\n",
       "  border: .5pt solid var(--sklearn-color-unfitted-level-3);\n",
       "}\n",
       "\n",
       ".sk-estimator-doc-link.fitted span {\n",
       "  /* fitted */\n",
       "  background: var(--sklearn-color-fitted-level-0);\n",
       "  border: var(--sklearn-color-fitted-level-3);\n",
       "}\n",
       "\n",
       ".sk-estimator-doc-link:hover span {\n",
       "  display: block;\n",
       "}\n",
       "\n",
       "/* \"?\"-specific style due to the `<a>` HTML tag */\n",
       "\n",
       "#sk-container-id-2 a.estimator_doc_link {\n",
       "  float: right;\n",
       "  font-size: 1rem;\n",
       "  line-height: 1em;\n",
       "  font-family: monospace;\n",
       "  background-color: var(--sklearn-color-background);\n",
       "  border-radius: 1rem;\n",
       "  height: 1rem;\n",
       "  width: 1rem;\n",
       "  text-decoration: none;\n",
       "  /* unfitted */\n",
       "  color: var(--sklearn-color-unfitted-level-1);\n",
       "  border: var(--sklearn-color-unfitted-level-1) 1pt solid;\n",
       "}\n",
       "\n",
       "#sk-container-id-2 a.estimator_doc_link.fitted {\n",
       "  /* fitted */\n",
       "  border: var(--sklearn-color-fitted-level-1) 1pt solid;\n",
       "  color: var(--sklearn-color-fitted-level-1);\n",
       "}\n",
       "\n",
       "/* On hover */\n",
       "#sk-container-id-2 a.estimator_doc_link:hover {\n",
       "  /* unfitted */\n",
       "  background-color: var(--sklearn-color-unfitted-level-3);\n",
       "  color: var(--sklearn-color-background);\n",
       "  text-decoration: none;\n",
       "}\n",
       "\n",
       "#sk-container-id-2 a.estimator_doc_link.fitted:hover {\n",
       "  /* fitted */\n",
       "  background-color: var(--sklearn-color-fitted-level-3);\n",
       "}\n",
       "</style><div id=\"sk-container-id-2\" class=\"sk-top-container\"><div class=\"sk-text-repr-fallback\"><pre>VotingClassifier(estimators=[(&#x27;logistic&#x27;,\n",
       "                              LogisticRegression(solver=&#x27;liblinear&#x27;)),\n",
       "                             (&#x27;cart&#x27;, DecisionTreeClassifier(max_depth=7)),\n",
       "                             (&#x27;svm&#x27;, SVC(probability=True)),\n",
       "                             (&#x27;nb&#x27;, GaussianNB())],\n",
       "                 voting=&#x27;soft&#x27;)</pre><b>In a Jupyter environment, please rerun this cell to show the HTML representation or trust the notebook. <br />On GitHub, the HTML representation is unable to render, please try loading this page with nbviewer.org.</b></div><div class=\"sk-container\" hidden><div class=\"sk-item sk-dashed-wrapped\"><div class=\"sk-label-container\"><div class=\"sk-label fitted sk-toggleable\"><input class=\"sk-toggleable__control sk-hidden--visually\" id=\"sk-estimator-id-5\" type=\"checkbox\" ><label for=\"sk-estimator-id-5\" class=\"sk-toggleable__label fitted sk-toggleable__label-arrow\"><div><div>VotingClassifier</div></div><div><a class=\"sk-estimator-doc-link fitted\" rel=\"noreferrer\" target=\"_blank\" href=\"https://scikit-learn.org/1.6/modules/generated/sklearn.ensemble.VotingClassifier.html\">?<span>Documentation for VotingClassifier</span></a><span class=\"sk-estimator-doc-link fitted\">i<span>Fitted</span></span></div></label><div class=\"sk-toggleable__content fitted\"><pre>VotingClassifier(estimators=[(&#x27;logistic&#x27;,\n",
       "                              LogisticRegression(solver=&#x27;liblinear&#x27;)),\n",
       "                             (&#x27;cart&#x27;, DecisionTreeClassifier(max_depth=7)),\n",
       "                             (&#x27;svm&#x27;, SVC(probability=True)),\n",
       "                             (&#x27;nb&#x27;, GaussianNB())],\n",
       "                 voting=&#x27;soft&#x27;)</pre></div> </div></div><div class=\"sk-parallel\"><div class=\"sk-parallel-item\"><div class=\"sk-item\"><div class=\"sk-label-container\"><div class=\"sk-label fitted sk-toggleable\"><label>logistic</label></div></div><div class=\"sk-serial\"><div class=\"sk-item\"><div class=\"sk-estimator fitted sk-toggleable\"><input class=\"sk-toggleable__control sk-hidden--visually\" id=\"sk-estimator-id-6\" type=\"checkbox\" ><label for=\"sk-estimator-id-6\" class=\"sk-toggleable__label fitted sk-toggleable__label-arrow\"><div><div>LogisticRegression</div></div><div><a class=\"sk-estimator-doc-link fitted\" rel=\"noreferrer\" target=\"_blank\" href=\"https://scikit-learn.org/1.6/modules/generated/sklearn.linear_model.LogisticRegression.html\">?<span>Documentation for LogisticRegression</span></a></div></label><div class=\"sk-toggleable__content fitted\"><pre>LogisticRegression(solver=&#x27;liblinear&#x27;)</pre></div> </div></div></div></div></div><div class=\"sk-parallel-item\"><div class=\"sk-item\"><div class=\"sk-label-container\"><div class=\"sk-label fitted sk-toggleable\"><label>cart</label></div></div><div class=\"sk-serial\"><div class=\"sk-item\"><div class=\"sk-estimator fitted sk-toggleable\"><input class=\"sk-toggleable__control sk-hidden--visually\" id=\"sk-estimator-id-7\" type=\"checkbox\" ><label for=\"sk-estimator-id-7\" class=\"sk-toggleable__label fitted sk-toggleable__label-arrow\"><div><div>DecisionTreeClassifier</div></div><div><a class=\"sk-estimator-doc-link fitted\" rel=\"noreferrer\" target=\"_blank\" href=\"https://scikit-learn.org/1.6/modules/generated/sklearn.tree.DecisionTreeClassifier.html\">?<span>Documentation for DecisionTreeClassifier</span></a></div></label><div class=\"sk-toggleable__content fitted\"><pre>DecisionTreeClassifier(max_depth=7)</pre></div> </div></div></div></div></div><div class=\"sk-parallel-item\"><div class=\"sk-item\"><div class=\"sk-label-container\"><div class=\"sk-label fitted sk-toggleable\"><label>svm</label></div></div><div class=\"sk-serial\"><div class=\"sk-item\"><div class=\"sk-estimator fitted sk-toggleable\"><input class=\"sk-toggleable__control sk-hidden--visually\" id=\"sk-estimator-id-8\" type=\"checkbox\" ><label for=\"sk-estimator-id-8\" class=\"sk-toggleable__label fitted sk-toggleable__label-arrow\"><div><div>SVC</div></div><div><a class=\"sk-estimator-doc-link fitted\" rel=\"noreferrer\" target=\"_blank\" href=\"https://scikit-learn.org/1.6/modules/generated/sklearn.svm.SVC.html\">?<span>Documentation for SVC</span></a></div></label><div class=\"sk-toggleable__content fitted\"><pre>SVC(probability=True)</pre></div> </div></div></div></div></div><div class=\"sk-parallel-item\"><div class=\"sk-item\"><div class=\"sk-label-container\"><div class=\"sk-label fitted sk-toggleable\"><label>nb</label></div></div><div class=\"sk-serial\"><div class=\"sk-item\"><div class=\"sk-estimator fitted sk-toggleable\"><input class=\"sk-toggleable__control sk-hidden--visually\" id=\"sk-estimator-id-9\" type=\"checkbox\" ><label for=\"sk-estimator-id-9\" class=\"sk-toggleable__label fitted sk-toggleable__label-arrow\"><div><div>GaussianNB</div></div><div><a class=\"sk-estimator-doc-link fitted\" rel=\"noreferrer\" target=\"_blank\" href=\"https://scikit-learn.org/1.6/modules/generated/sklearn.naive_bayes.GaussianNB.html\">?<span>Documentation for GaussianNB</span></a></div></label><div class=\"sk-toggleable__content fitted\"><pre>GaussianNB()</pre></div> </div></div></div></div></div></div></div></div></div>"
      ],
      "text/plain": [
       "VotingClassifier(estimators=[('logistic',\n",
       "                              LogisticRegression(solver='liblinear')),\n",
       "                             ('cart', DecisionTreeClassifier(max_depth=7)),\n",
       "                             ('svm', SVC(probability=True)),\n",
       "                             ('nb', GaussianNB())],\n",
       "                 voting='soft')"
      ]
     },
     "execution_count": 26,
     "metadata": {},
     "output_type": "execute_result"
    }
   ],
   "source": [
    "# Fit the ensemble on the scaled training set and evaluate on the scaled test set\n",
    "soft_ensemble.fit(X_train_scaled, y_train)"
   ]
  },
  {
   "cell_type": "code",
   "execution_count": 27,
   "metadata": {
    "id": "xquFARY3y7WU"
   },
   "outputs": [
    {
     "name": "stdout",
     "output_type": "stream",
     "text": [
      "Test accuracy of the ensemble model: 0.96\n"
     ]
    }
   ],
   "source": [
    "# Predict\n",
    "test_accuracy = soft_ensemble.score(X_test_scaled, y_test)\n",
    "\n",
    "# Print test accuracy\n",
    "print(f\"Test accuracy of the ensemble model: {test_accuracy:.2f}\")"
   ]
  },
  {
   "cell_type": "code",
   "execution_count": 28,
   "metadata": {
    "id": "aQkQuBOY0I_J"
   },
   "outputs": [
    {
     "name": "stdout",
     "output_type": "stream",
     "text": [
      "-------Classification report--------\n",
      "              precision    recall  f1-score   support\n",
      "\n",
      "           0       0.98      0.97      0.97        91\n",
      "           1       0.94      0.96      0.95        49\n",
      "\n",
      "    accuracy                           0.96       140\n",
      "   macro avg       0.96      0.96      0.96       140\n",
      "weighted avg       0.96      0.96      0.96       140\n",
      "\n",
      "-------Confusion matrix-------------\n"
     ]
    },
    {
     "data": {
      "image/png": "[encoded data removed]",
      "text/plain": [
       "<Figure size 640x480 with 2 Axes>"
      ]
     },
     "metadata": {},
     "output_type": "display_data"
    }
   ],
   "source": [
    "## evaluating model on test dataset\n",
    "y_pred = soft_ensemble.predict(X_test_scaled)\n",
    "print('-------Classification report--------')\n",
    "print(classification_report(y_test,y_pred))\n",
    "print('-------Confusion matrix-------------')\n",
    "\n",
    "cm = confusion_matrix(y_test,y_pred)\n",
    "disp = ConfusionMatrixDisplay(confusion_matrix=cm, display_labels=['Benign','Malignant'])\n",
    "disp.plot(cmap=\"summer\")\n",
    "plt.show()"
   ]
  },
  {
   "cell_type": "markdown",
   "metadata": {
    "id": "m6NqpUwG2LRi"
   },
   "source": [
    "### __3.1.3 Weighted Voting/Soft Voting__\n",
    "\n",
    "Soft voting takes into account the probability estimates for each class provided by the models, assuming the models are capable of estimating these probabilities (i.e., they have a predict_proba method). The final prediction is determined by averaging these probabilities across all models, and the class with the highest average probability is selected."
   ]
  },
  {
   "cell_type": "markdown",
   "metadata": {
    "id": "Ga3C9D1Q7vXK"
   },
   "source": [
    "### **Implementation of Hard and Soft Voting for comparison**\n",
    "\n"
   ]
  },
  {
   "cell_type": "markdown",
   "metadata": {
    "id": "9gZxUbeiBDTL"
   },
   "source": [
    "- `make_pipeline`: Construct a Pipeline from the given estimators.\n"
   ]
  },
  {
   "cell_type": "code",
   "execution_count": 29,
   "metadata": {
    "id": "oYlHkovCAg4J"
   },
   "outputs": [],
   "source": [
    "# Imputation to handle missing values\n",
    "imputer = SimpleImputer(strategy='median')\n",
    "\n",
    "# Define the base models with standard scaling and imputation\n",
    "model1 = make_pipeline(imputer, StandardScaler(), LogisticRegression(random_state=1, max_iter=10000))\n",
    "model2 = make_pipeline(imputer, StandardScaler(), DecisionTreeClassifier(random_state=1))\n",
    "model3 = make_pipeline(imputer, StandardScaler(), SVC(probability=True, random_state=1))\n",
    "\n",
    "# Define k-fold cross-validation procedure\n",
    "kf = KFold(n_splits=10, shuffle=True, random_state=1)"
   ]
  },
  {
   "cell_type": "code",
   "execution_count": 30,
   "metadata": {
    "id": "wq2Lid6YboPy"
   },
   "outputs": [
    {
     "name": "stdout",
     "output_type": "stream",
     "text": [
      "Hard Voting - Test Accuracy: 0.9643\n"
     ]
    }
   ],
   "source": [
    "# Create an ensemble of models for hard voting\n",
    "hard_voting_classifier = VotingClassifier(\n",
    "    estimators=[('lr', model1), ('dt', model2), ('svc', model3)],\n",
    "    voting='hard'\n",
    ")\n",
    "\n",
    "# Fit and evaluate on the test data\n",
    "hard_voting_classifier.fit(X_train, y_train)\n",
    "\n",
    "y_pred_hard = hard_voting_classifier.predict(X_test)\n",
    "hard_test_accuracy = hard_voting_classifier.score(X_test, y_test)\n",
    "print(f\"Hard Voting - Test Accuracy: {hard_test_accuracy:.4f}\")"
   ]
  },
  {
   "cell_type": "code",
   "execution_count": 31,
   "metadata": {
    "id": "8Kl9BxHxkhG3"
   },
   "outputs": [
    {
     "name": "stdout",
     "output_type": "stream",
     "text": [
      "Hard Voting - Mean CV Accuracy: 0.9659\n"
     ]
    }
   ],
   "source": [
    "# Cross-validation on the training data\n",
    "hard_cv_scores = cross_val_score(hard_voting_classifier, X_train, y_train, cv=kf, scoring='accuracy')\n",
    "print(f\"Hard Voting - Mean CV Accuracy: {hard_cv_scores.mean():.4f}\")"
   ]
  },
  {
   "cell_type": "code",
   "execution_count": 32,
   "metadata": {
    "id": "uUV2iF7hcj_m"
   },
   "outputs": [
    {
     "name": "stdout",
     "output_type": "stream",
     "text": [
      "Hard Voting - Classification Report\n",
      "              precision    recall  f1-score   support\n",
      "\n",
      "           0       0.98      0.97      0.97        91\n",
      "           1       0.94      0.96      0.95        49\n",
      "\n",
      "    accuracy                           0.96       140\n",
      "   macro avg       0.96      0.96      0.96       140\n",
      "weighted avg       0.96      0.96      0.96       140\n",
      "\n",
      "Hard Voting - Confusion Matrix:-\n",
      "[[88  3]\n",
      " [ 2 47]]\n",
      "----------------------------------------------\n"
     ]
    }
   ],
   "source": [
    "# Additional evaluation metrics for hard voting classifier\n",
    "print(\"Hard Voting - Classification Report\")\n",
    "print(classification_report(y_test, y_pred_hard))\n",
    "print(\"Hard Voting - Confusion Matrix:-\")\n",
    "print(confusion_matrix(y_test, y_pred_hard))\n",
    "print(\"----------------------------------------------\")"
   ]
  },
  {
   "cell_type": "code",
   "execution_count": 33,
   "metadata": {
    "id": "2jm6Bwm4cewf"
   },
   "outputs": [
    {
     "name": "stdout",
     "output_type": "stream",
     "text": [
      "Soft Voting - Test Accuracy: 0.9643\n"
     ]
    }
   ],
   "source": [
    "# Create and evaluate a soft voting classifier\n",
    "soft_voting_classifier = VotingClassifier(\n",
    "    estimators=[('lr', model1), ('dt', model2), ('svc', model3)],\n",
    "    voting='soft'\n",
    ")\n",
    "\n",
    "# Fit and evaluate on the test data\n",
    "soft_voting_classifier.fit(X_train, y_train)\n",
    "\n",
    "y_pred_soft = soft_voting_classifier.predict(X_test)\n",
    "soft_test_accuracy = soft_voting_classifier.score(X_test, y_test)\n",
    "print(f\"Soft Voting - Test Accuracy: {soft_test_accuracy:.4f}\")"
   ]
  },
  {
   "cell_type": "code",
   "execution_count": 34,
   "metadata": {
    "id": "dpjePs4Ecz9J"
   },
   "outputs": [
    {
     "name": "stdout",
     "output_type": "stream",
     "text": [
      "Soft Voting - Mean CV Accuracy: 0.9624\n"
     ]
    }
   ],
   "source": [
    "# Cross-validation on the training data\n",
    "soft_cv_scores = cross_val_score(soft_voting_classifier, X_train, y_train, cv=kf, scoring='accuracy')\n",
    "print(f\"Soft Voting - Mean CV Accuracy: {soft_cv_scores.mean():.4f}\")"
   ]
  },
  {
   "cell_type": "code",
   "execution_count": 35,
   "metadata": {
    "id": "49wAPmA7c1Ys"
   },
   "outputs": [
    {
     "name": "stdout",
     "output_type": "stream",
     "text": [
      "Soft Voting - Classification Report:-\n",
      "              precision    recall  f1-score   support\n",
      "\n",
      "           0       0.98      0.97      0.97        91\n",
      "           1       0.94      0.96      0.95        49\n",
      "\n",
      "    accuracy                           0.96       140\n",
      "   macro avg       0.96      0.96      0.96       140\n",
      "weighted avg       0.96      0.96      0.96       140\n",
      "\n",
      "Soft Voting - Confusion Matrix\n",
      "[[88  3]\n",
      " [ 2 47]]\n"
     ]
    }
   ],
   "source": [
    "# Additional evaluation metrics for soft voting classifier\n",
    "print(\"Soft Voting - Classification Report:-\")\n",
    "print(classification_report(y_test, y_pred_soft))\n",
    "print(\"Soft Voting - Confusion Matrix\")\n",
    "print(confusion_matrix(y_test, y_pred_soft))"
   ]
  },
  {
   "cell_type": "markdown",
   "metadata": {
    "id": "PnF4ynEjl345"
   },
   "source": [
    "### __3.2 Averaging__"
   ]
  },
  {
   "cell_type": "markdown",
   "metadata": {
    "id": "BaY84EN0l345"
   },
   "source": [
    "The averaging technique is used mainly for regression problems. In this method, the predictions of multiple models are averaged to obtain the final prediction. This technique helps reduce variance and produces a more stable prediction."
   ]
  },
  {
   "cell_type": "markdown",
   "metadata": {
    "id": "YZAy-5jsl346"
   },
   "source": [
    "__Example:__\n",
    "\n",
    "- Averaging ensemble works by combining the predictions from multiple classifiers trained on the dataset.\n",
    "- These classifiers, such as Logistic Regression, Decision Tree, and Support Vector Machine, provide individual predictions for each data point.\n",
    "- Then it takes the average of these predictions to form a final prediction.\n",
    "- This approach helps to mitigate biases and uncertainties inherent in individual models, leading to a more accurate prediction of breast cancer classifications."
   ]
  },
  {
   "cell_type": "markdown",
   "metadata": {
    "id": "DW7uxYMyFLDK"
   },
   "source": [
    "**Note:** X and y from the previous dataset is  used for the implementation"
   ]
  },
  {
   "cell_type": "code",
   "execution_count": 36,
   "metadata": {
    "id": "e9HE_shWFXLA"
   },
   "outputs": [],
   "source": [
    "from sklearn.model_selection import train_test_split\n",
    "\n",
    "# Split the data into training and testing sets\n",
    "X_train, X_test, y_train, y_test = train_test_split(X, y, test_size=0.2, random_state=42)"
   ]
  },
  {
   "cell_type": "code",
   "execution_count": 37,
   "metadata": {
    "id": "k56AH81zlUK0"
   },
   "outputs": [],
   "source": [
    "# Create an instance of SimpleImputer to fill in missing values with the median\n",
    "imputer = SimpleImputer(strategy='median')\n",
    "X_train_imputed = imputer.fit_transform(X_train)\n",
    "X_test_imputed = imputer.transform(X_test)\n",
    "\n",
    "# Create an instance of MinMaxScaler to scale features to a range of (0, 1)\n",
    "scaler = MinMaxScaler(feature_range=(0, 1))\n",
    "X_train_scaled = scaler.fit_transform(X_train_imputed)\n",
    "X_test_scaled = scaler.transform(X_test_imputed)"
   ]
  },
  {
   "cell_type": "code",
   "execution_count": 38,
   "metadata": {
    "id": "RtUQeQFCFc3z"
   },
   "outputs": [],
   "source": [
    "# Initialize classifiers\n",
    "LogReg_clf = LogisticRegression()\n",
    "Dtree_clf = DecisionTreeClassifier()\n",
    "svc_clf = SVC(probability=True)"
   ]
  },
  {
   "cell_type": "code",
   "execution_count": 39,
   "metadata": {
    "id": "560sVDcrFhTd"
   },
   "outputs": [
    {
     "data": {
      "text/html": [
       "<style>#sk-container-id-3 {\n",
       "  /* Definition of color scheme common for light and dark mode */\n",
       "  --sklearn-color-text: #000;\n",
       "  --sklearn-color-text-muted: #666;\n",
       "  --sklearn-color-line: gray;\n",
       "  /* Definition of color scheme for unfitted estimators */\n",
       "  --sklearn-color-unfitted-level-0: #fff5e6;\n",
       "  --sklearn-color-unfitted-level-1: #f6e4d2;\n",
       "  --sklearn-color-unfitted-level-2: #ffe0b3;\n",
       "  --sklearn-color-unfitted-level-3: chocolate;\n",
       "  /* Definition of color scheme for fitted estimators */\n",
       "  --sklearn-color-fitted-level-0: #f0f8ff;\n",
       "  --sklearn-color-fitted-level-1: #d4ebff;\n",
       "  --sklearn-color-fitted-level-2: #b3dbfd;\n",
       "  --sklearn-color-fitted-level-3: cornflowerblue;\n",
       "\n",
       "  /* Specific color for light theme */\n",
       "  --sklearn-color-text-on-default-background: var(--sg-text-color, var(--theme-code-foreground, var(--jp-content-font-color1, black)));\n",
       "  --sklearn-color-background: var(--sg-background-color, var(--theme-background, var(--jp-layout-color0, white)));\n",
       "  --sklearn-color-border-box: var(--sg-text-color, var(--theme-code-foreground, var(--jp-content-font-color1, black)));\n",
       "  --sklearn-color-icon: #696969;\n",
       "\n",
       "  @media (prefers-color-scheme: dark) {\n",
       "    /* Redefinition of color scheme for dark theme */\n",
       "    --sklearn-color-text-on-default-background: var(--sg-text-color, var(--theme-code-foreground, var(--jp-content-font-color1, white)));\n",
       "    --sklearn-color-background: var(--sg-background-color, var(--theme-background, var(--jp-layout-color0, #111)));\n",
       "    --sklearn-color-border-box: var(--sg-text-color, var(--theme-code-foreground, var(--jp-content-font-color1, white)));\n",
       "    --sklearn-color-icon: #878787;\n",
       "  }\n",
       "}\n",
       "\n",
       "#sk-container-id-3 {\n",
       "  color: var(--sklearn-color-text);\n",
       "}\n",
       "\n",
       "#sk-container-id-3 pre {\n",
       "  padding: 0;\n",
       "}\n",
       "\n",
       "#sk-container-id-3 input.sk-hidden--visually {\n",
       "  border: 0;\n",
       "  clip: rect(1px 1px 1px 1px);\n",
       "  clip: rect(1px, 1px, 1px, 1px);\n",
       "  height: 1px;\n",
       "  margin: -1px;\n",
       "  overflow: hidden;\n",
       "  padding: 0;\n",
       "  position: absolute;\n",
       "  width: 1px;\n",
       "}\n",
       "\n",
       "#sk-container-id-3 div.sk-dashed-wrapped {\n",
       "  border: 1px dashed var(--sklearn-color-line);\n",
       "  margin: 0 0.4em 0.5em 0.4em;\n",
       "  box-sizing: border-box;\n",
       "  padding-bottom: 0.4em;\n",
       "  background-color: var(--sklearn-color-background);\n",
       "}\n",
       "\n",
       "#sk-container-id-3 div.sk-container {\n",
       "  /* jupyter's `normalize.less` sets `[hidden] { display: none; }`\n",
       "     but bootstrap.min.css set `[hidden] { display: none !important; }`\n",
       "     so we also need the `!important` here to be able to override the\n",
       "     default hidden behavior on the sphinx rendered scikit-learn.org.\n",
       "     See: https://github.com/scikit-learn/scikit-learn/issues/21755 */\n",
       "  display: inline-block !important;\n",
       "  position: relative;\n",
       "}\n",
       "\n",
       "#sk-container-id-3 div.sk-text-repr-fallback {\n",
       "  display: none;\n",
       "}\n",
       "\n",
       "div.sk-parallel-item,\n",
       "div.sk-serial,\n",
       "div.sk-item {\n",
       "  /* draw centered vertical line to link estimators */\n",
       "  background-image: linear-gradient(var(--sklearn-color-text-on-default-background), var(--sklearn-color-text-on-default-background));\n",
       "  background-size: 2px 100%;\n",
       "  background-repeat: no-repeat;\n",
       "  background-position: center center;\n",
       "}\n",
       "\n",
       "/* Parallel-specific style estimator block */\n",
       "\n",
       "#sk-container-id-3 div.sk-parallel-item::after {\n",
       "  content: \"\";\n",
       "  width: 100%;\n",
       "  border-bottom: 2px solid var(--sklearn-color-text-on-default-background);\n",
       "  flex-grow: 1;\n",
       "}\n",
       "\n",
       "#sk-container-id-3 div.sk-parallel {\n",
       "  display: flex;\n",
       "  align-items: stretch;\n",
       "  justify-content: center;\n",
       "  background-color: var(--sklearn-color-background);\n",
       "  position: relative;\n",
       "}\n",
       "\n",
       "#sk-container-id-3 div.sk-parallel-item {\n",
       "  display: flex;\n",
       "  flex-direction: column;\n",
       "}\n",
       "\n",
       "#sk-container-id-3 div.sk-parallel-item:first-child::after {\n",
       "  align-self: flex-end;\n",
       "  width: 50%;\n",
       "}\n",
       "\n",
       "#sk-container-id-3 div.sk-parallel-item:last-child::after {\n",
       "  align-self: flex-start;\n",
       "  width: 50%;\n",
       "}\n",
       "\n",
       "#sk-container-id-3 div.sk-parallel-item:only-child::after {\n",
       "  width: 0;\n",
       "}\n",
       "\n",
       "/* Serial-specific style estimator block */\n",
       "\n",
       "#sk-container-id-3 div.sk-serial {\n",
       "  display: flex;\n",
       "  flex-direction: column;\n",
       "  align-items: center;\n",
       "  background-color: var(--sklearn-color-background);\n",
       "  padding-right: 1em;\n",
       "  padding-left: 1em;\n",
       "}\n",
       "\n",
       "\n",
       "/* Toggleable style: style used for estimator/Pipeline/ColumnTransformer box that is\n",
       "clickable and can be expanded/collapsed.\n",
       "- Pipeline and ColumnTransformer use this feature and define the default style\n",
       "- Estimators will overwrite some part of the style using the `sk-estimator` class\n",
       "*/\n",
       "\n",
       "/* Pipeline and ColumnTransformer style (default) */\n",
       "\n",
       "#sk-container-id-3 div.sk-toggleable {\n",
       "  /* Default theme specific background. It is overwritten whether we have a\n",
       "  specific estimator or a Pipeline/ColumnTransformer */\n",
       "  background-color: var(--sklearn-color-background);\n",
       "}\n",
       "\n",
       "/* Toggleable label */\n",
       "#sk-container-id-3 label.sk-toggleable__label {\n",
       "  cursor: pointer;\n",
       "  display: flex;\n",
       "  width: 100%;\n",
       "  margin-bottom: 0;\n",
       "  padding: 0.5em;\n",
       "  box-sizing: border-box;\n",
       "  text-align: center;\n",
       "  align-items: start;\n",
       "  justify-content: space-between;\n",
       "  gap: 0.5em;\n",
       "}\n",
       "\n",
       "#sk-container-id-3 label.sk-toggleable__label .caption {\n",
       "  font-size: 0.6rem;\n",
       "  font-weight: lighter;\n",
       "  color: var(--sklearn-color-text-muted);\n",
       "}\n",
       "\n",
       "#sk-container-id-3 label.sk-toggleable__label-arrow:before {\n",
       "  /* Arrow on the left of the label */\n",
       "  content: \"▸\";\n",
       "  float: left;\n",
       "  margin-right: 0.25em;\n",
       "  color: var(--sklearn-color-icon);\n",
       "}\n",
       "\n",
       "#sk-container-id-3 label.sk-toggleable__label-arrow:hover:before {\n",
       "  color: var(--sklearn-color-text);\n",
       "}\n",
       "\n",
       "/* Toggleable content - dropdown */\n",
       "\n",
       "#sk-container-id-3 div.sk-toggleable__content {\n",
       "  max-height: 0;\n",
       "  max-width: 0;\n",
       "  overflow: hidden;\n",
       "  text-align: left;\n",
       "  /* unfitted */\n",
       "  background-color: var(--sklearn-color-unfitted-level-0);\n",
       "}\n",
       "\n",
       "#sk-container-id-3 div.sk-toggleable__content.fitted {\n",
       "  /* fitted */\n",
       "  background-color: var(--sklearn-color-fitted-level-0);\n",
       "}\n",
       "\n",
       "#sk-container-id-3 div.sk-toggleable__content pre {\n",
       "  margin: 0.2em;\n",
       "  border-radius: 0.25em;\n",
       "  color: var(--sklearn-color-text);\n",
       "  /* unfitted */\n",
       "  background-color: var(--sklearn-color-unfitted-level-0);\n",
       "}\n",
       "\n",
       "#sk-container-id-3 div.sk-toggleable__content.fitted pre {\n",
       "  /* unfitted */\n",
       "  background-color: var(--sklearn-color-fitted-level-0);\n",
       "}\n",
       "\n",
       "#sk-container-id-3 input.sk-toggleable__control:checked~div.sk-toggleable__content {\n",
       "  /* Expand drop-down */\n",
       "  max-height: 200px;\n",
       "  max-width: 100%;\n",
       "  overflow: auto;\n",
       "}\n",
       "\n",
       "#sk-container-id-3 input.sk-toggleable__control:checked~label.sk-toggleable__label-arrow:before {\n",
       "  content: \"▾\";\n",
       "}\n",
       "\n",
       "/* Pipeline/ColumnTransformer-specific style */\n",
       "\n",
       "#sk-container-id-3 div.sk-label input.sk-toggleable__control:checked~label.sk-toggleable__label {\n",
       "  color: var(--sklearn-color-text);\n",
       "  background-color: var(--sklearn-color-unfitted-level-2);\n",
       "}\n",
       "\n",
       "#sk-container-id-3 div.sk-label.fitted input.sk-toggleable__control:checked~label.sk-toggleable__label {\n",
       "  background-color: var(--sklearn-color-fitted-level-2);\n",
       "}\n",
       "\n",
       "/* Estimator-specific style */\n",
       "\n",
       "/* Colorize estimator box */\n",
       "#sk-container-id-3 div.sk-estimator input.sk-toggleable__control:checked~label.sk-toggleable__label {\n",
       "  /* unfitted */\n",
       "  background-color: var(--sklearn-color-unfitted-level-2);\n",
       "}\n",
       "\n",
       "#sk-container-id-3 div.sk-estimator.fitted input.sk-toggleable__control:checked~label.sk-toggleable__label {\n",
       "  /* fitted */\n",
       "  background-color: var(--sklearn-color-fitted-level-2);\n",
       "}\n",
       "\n",
       "#sk-container-id-3 div.sk-label label.sk-toggleable__label,\n",
       "#sk-container-id-3 div.sk-label label {\n",
       "  /* The background is the default theme color */\n",
       "  color: var(--sklearn-color-text-on-default-background);\n",
       "}\n",
       "\n",
       "/* On hover, darken the color of the background */\n",
       "#sk-container-id-3 div.sk-label:hover label.sk-toggleable__label {\n",
       "  color: var(--sklearn-color-text);\n",
       "  background-color: var(--sklearn-color-unfitted-level-2);\n",
       "}\n",
       "\n",
       "/* Label box, darken color on hover, fitted */\n",
       "#sk-container-id-3 div.sk-label.fitted:hover label.sk-toggleable__label.fitted {\n",
       "  color: var(--sklearn-color-text);\n",
       "  background-color: var(--sklearn-color-fitted-level-2);\n",
       "}\n",
       "\n",
       "/* Estimator label */\n",
       "\n",
       "#sk-container-id-3 div.sk-label label {\n",
       "  font-family: monospace;\n",
       "  font-weight: bold;\n",
       "  display: inline-block;\n",
       "  line-height: 1.2em;\n",
       "}\n",
       "\n",
       "#sk-container-id-3 div.sk-label-container {\n",
       "  text-align: center;\n",
       "}\n",
       "\n",
       "/* Estimator-specific */\n",
       "#sk-container-id-3 div.sk-estimator {\n",
       "  font-family: monospace;\n",
       "  border: 1px dotted var(--sklearn-color-border-box);\n",
       "  border-radius: 0.25em;\n",
       "  box-sizing: border-box;\n",
       "  margin-bottom: 0.5em;\n",
       "  /* unfitted */\n",
       "  background-color: var(--sklearn-color-unfitted-level-0);\n",
       "}\n",
       "\n",
       "#sk-container-id-3 div.sk-estimator.fitted {\n",
       "  /* fitted */\n",
       "  background-color: var(--sklearn-color-fitted-level-0);\n",
       "}\n",
       "\n",
       "/* on hover */\n",
       "#sk-container-id-3 div.sk-estimator:hover {\n",
       "  /* unfitted */\n",
       "  background-color: var(--sklearn-color-unfitted-level-2);\n",
       "}\n",
       "\n",
       "#sk-container-id-3 div.sk-estimator.fitted:hover {\n",
       "  /* fitted */\n",
       "  background-color: var(--sklearn-color-fitted-level-2);\n",
       "}\n",
       "\n",
       "/* Specification for estimator info (e.g. \"i\" and \"?\") */\n",
       "\n",
       "/* Common style for \"i\" and \"?\" */\n",
       "\n",
       ".sk-estimator-doc-link,\n",
       "a:link.sk-estimator-doc-link,\n",
       "a:visited.sk-estimator-doc-link {\n",
       "  float: right;\n",
       "  font-size: smaller;\n",
       "  line-height: 1em;\n",
       "  font-family: monospace;\n",
       "  background-color: var(--sklearn-color-background);\n",
       "  border-radius: 1em;\n",
       "  height: 1em;\n",
       "  width: 1em;\n",
       "  text-decoration: none !important;\n",
       "  margin-left: 0.5em;\n",
       "  text-align: center;\n",
       "  /* unfitted */\n",
       "  border: var(--sklearn-color-unfitted-level-1) 1pt solid;\n",
       "  color: var(--sklearn-color-unfitted-level-1);\n",
       "}\n",
       "\n",
       ".sk-estimator-doc-link.fitted,\n",
       "a:link.sk-estimator-doc-link.fitted,\n",
       "a:visited.sk-estimator-doc-link.fitted {\n",
       "  /* fitted */\n",
       "  border: var(--sklearn-color-fitted-level-1) 1pt solid;\n",
       "  color: var(--sklearn-color-fitted-level-1);\n",
       "}\n",
       "\n",
       "/* On hover */\n",
       "div.sk-estimator:hover .sk-estimator-doc-link:hover,\n",
       ".sk-estimator-doc-link:hover,\n",
       "div.sk-label-container:hover .sk-estimator-doc-link:hover,\n",
       ".sk-estimator-doc-link:hover {\n",
       "  /* unfitted */\n",
       "  background-color: var(--sklearn-color-unfitted-level-3);\n",
       "  color: var(--sklearn-color-background);\n",
       "  text-decoration: none;\n",
       "}\n",
       "\n",
       "div.sk-estimator.fitted:hover .sk-estimator-doc-link.fitted:hover,\n",
       ".sk-estimator-doc-link.fitted:hover,\n",
       "div.sk-label-container:hover .sk-estimator-doc-link.fitted:hover,\n",
       ".sk-estimator-doc-link.fitted:hover {\n",
       "  /* fitted */\n",
       "  background-color: var(--sklearn-color-fitted-level-3);\n",
       "  color: var(--sklearn-color-background);\n",
       "  text-decoration: none;\n",
       "}\n",
       "\n",
       "/* Span, style for the box shown on hovering the info icon */\n",
       ".sk-estimator-doc-link span {\n",
       "  display: none;\n",
       "  z-index: 9999;\n",
       "  position: relative;\n",
       "  font-weight: normal;\n",
       "  right: .2ex;\n",
       "  padding: .5ex;\n",
       "  margin: .5ex;\n",
       "  width: min-content;\n",
       "  min-width: 20ex;\n",
       "  max-width: 50ex;\n",
       "  color: var(--sklearn-color-text);\n",
       "  box-shadow: 2pt 2pt 4pt #999;\n",
       "  /* unfitted */\n",
       "  background: var(--sklearn-color-unfitted-level-0);\n",
       "  border: .5pt solid var(--sklearn-color-unfitted-level-3);\n",
       "}\n",
       "\n",
       ".sk-estimator-doc-link.fitted span {\n",
       "  /* fitted */\n",
       "  background: var(--sklearn-color-fitted-level-0);\n",
       "  border: var(--sklearn-color-fitted-level-3);\n",
       "}\n",
       "\n",
       ".sk-estimator-doc-link:hover span {\n",
       "  display: block;\n",
       "}\n",
       "\n",
       "/* \"?\"-specific style due to the `<a>` HTML tag */\n",
       "\n",
       "#sk-container-id-3 a.estimator_doc_link {\n",
       "  float: right;\n",
       "  font-size: 1rem;\n",
       "  line-height: 1em;\n",
       "  font-family: monospace;\n",
       "  background-color: var(--sklearn-color-background);\n",
       "  border-radius: 1rem;\n",
       "  height: 1rem;\n",
       "  width: 1rem;\n",
       "  text-decoration: none;\n",
       "  /* unfitted */\n",
       "  color: var(--sklearn-color-unfitted-level-1);\n",
       "  border: var(--sklearn-color-unfitted-level-1) 1pt solid;\n",
       "}\n",
       "\n",
       "#sk-container-id-3 a.estimator_doc_link.fitted {\n",
       "  /* fitted */\n",
       "  border: var(--sklearn-color-fitted-level-1) 1pt solid;\n",
       "  color: var(--sklearn-color-fitted-level-1);\n",
       "}\n",
       "\n",
       "/* On hover */\n",
       "#sk-container-id-3 a.estimator_doc_link:hover {\n",
       "  /* unfitted */\n",
       "  background-color: var(--sklearn-color-unfitted-level-3);\n",
       "  color: var(--sklearn-color-background);\n",
       "  text-decoration: none;\n",
       "}\n",
       "\n",
       "#sk-container-id-3 a.estimator_doc_link.fitted:hover {\n",
       "  /* fitted */\n",
       "  background-color: var(--sklearn-color-fitted-level-3);\n",
       "}\n",
       "</style><div id=\"sk-container-id-3\" class=\"sk-top-container\"><div class=\"sk-text-repr-fallback\"><pre>SVC(probability=True)</pre><b>In a Jupyter environment, please rerun this cell to show the HTML representation or trust the notebook. <br />On GitHub, the HTML representation is unable to render, please try loading this page with nbviewer.org.</b></div><div class=\"sk-container\" hidden><div class=\"sk-item\"><div class=\"sk-estimator fitted sk-toggleable\"><input class=\"sk-toggleable__control sk-hidden--visually\" id=\"sk-estimator-id-10\" type=\"checkbox\" checked><label for=\"sk-estimator-id-10\" class=\"sk-toggleable__label fitted sk-toggleable__label-arrow\"><div><div>SVC</div></div><div><a class=\"sk-estimator-doc-link fitted\" rel=\"noreferrer\" target=\"_blank\" href=\"https://scikit-learn.org/1.6/modules/generated/sklearn.svm.SVC.html\">?<span>Documentation for SVC</span></a><span class=\"sk-estimator-doc-link fitted\">i<span>Fitted</span></span></div></label><div class=\"sk-toggleable__content fitted\"><pre>SVC(probability=True)</pre></div> </div></div></div></div>"
      ],
      "text/plain": [
       "SVC(probability=True)"
      ]
     },
     "execution_count": 39,
     "metadata": {},
     "output_type": "execute_result"
    }
   ],
   "source": [
    "# Train classifiers on the training dataset\n",
    "# FIT LOGISTIC REGRESSION\n",
    "# FIT DECISION TREE\n",
    "# FIT SUPPORT VECTOR MACHINE\n",
    "LogReg_clf.fit(X_train_scaled, y_train)\n",
    "Dtree_clf.fit(X_train_scaled, y_train)\n",
    "svc_clf.fit(X_train_scaled, y_train)"
   ]
  },
  {
   "cell_type": "code",
   "execution_count": 40,
   "metadata": {
    "id": "wKbU9TYxeOKv"
   },
   "outputs": [],
   "source": [
    "# Generate probability predictions for the positive class from each classifier on the test set\n",
    "LogReg_prob = LogReg_clf.predict_proba(X_test_scaled)[:, 1]\n",
    "Dtree_prob = Dtree_clf.predict_proba(X_test_scaled)[:, 1]\n",
    "svc_prob = svc_clf.predict_proba(X_test_scaled)[:, 1]"
   ]
  },
  {
   "cell_type": "code",
   "execution_count": 41,
   "metadata": {
    "id": "7pijbAAsfM-a"
   },
   "outputs": [
    {
     "data": {
      "text/plain": [
       "array([0.00778877, 0.02235634, 0.02042097, 0.85681797, 0.01511342,\n",
       "       0.01136255, 0.06237378, 0.98433025, 0.96999564, 0.20198665])"
      ]
     },
     "execution_count": 41,
     "metadata": {},
     "output_type": "execute_result"
    }
   ],
   "source": [
    "LogReg_prob[:10]"
   ]
  },
  {
   "cell_type": "code",
   "execution_count": 42,
   "metadata": {
    "id": "5-wgPfgTfQjB"
   },
   "outputs": [
    {
     "data": {
      "text/plain": [
       "array([0., 0., 0., 1., 0., 0., 0., 1., 1., 0.])"
      ]
     },
     "execution_count": 42,
     "metadata": {},
     "output_type": "execute_result"
    }
   ],
   "source": [
    "Dtree_prob[:10]"
   ]
  },
  {
   "cell_type": "code",
   "execution_count": 43,
   "metadata": {
    "id": "lsJmQxk8fQmx"
   },
   "outputs": [
    {
     "data": {
      "text/plain": [
       "array([0.0030347 , 0.00391711, 0.00357036, 0.92033455, 0.00304162,\n",
       "       0.0036136 , 0.01970762, 0.95257058, 0.95792961, 0.13463838])"
      ]
     },
     "execution_count": 43,
     "metadata": {},
     "output_type": "execute_result"
    }
   ],
   "source": [
    "svc_prob[:10]"
   ]
  },
  {
   "cell_type": "code",
   "execution_count": 44,
   "metadata": {
    "id": "RAvpwd1YF1Td"
   },
   "outputs": [],
   "source": [
    "# Average the probability predictions\n",
    "avg_probs = (LogReg_prob + Dtree_prob + svc_prob) / 3"
   ]
  },
  {
   "cell_type": "code",
   "execution_count": 45,
   "metadata": {
    "id": "Iok5pA9SfZC5"
   },
   "outputs": [
    {
     "data": {
      "text/plain": [
       "array([0.00360783, 0.00875782, 0.00799711, 0.92571751, 0.00605168,\n",
       "       0.00499205, 0.02736047, 0.97896694, 0.97597508, 0.11220834])"
      ]
     },
     "execution_count": 45,
     "metadata": {},
     "output_type": "execute_result"
    }
   ],
   "source": [
    "avg_probs[:10]"
   ]
  },
  {
   "cell_type": "code",
   "execution_count": 46,
   "metadata": {
    "id": "NoBKKJYrfZk_"
   },
   "outputs": [
    {
     "name": "stdout",
     "output_type": "stream",
     "text": [
      "[0 0 0 1 0 0 0 1 1 1 0 1 0 0 0 1 0 1 1 1] Exact\n",
      "[False False False  True False False False  True  True False False  True\n",
      " False False False  True False  True  True  True] Predicted\n"
     ]
    }
   ],
   "source": [
    "# Convert averaged probabilities to class predictions based on a threshold of 0.5\n",
    "avg_preds = avg_probs > 0.5\n",
    "\n",
    "# Print a few results\n",
    "print(np.array(y_test)[:20],\"Exact\")\n",
    "print(avg_preds[:20],\"Predicted\")"
   ]
  },
  {
   "cell_type": "code",
   "execution_count": 47,
   "metadata": {
    "id": "JDWVOBv6ff5q"
   },
   "outputs": [
    {
     "name": "stdout",
     "output_type": "stream",
     "text": [
      "Accuracy of averaged model predictions on test data: 0.9571428571428572\n"
     ]
    }
   ],
   "source": [
    "# Evaluate the accuracy of the averaged predictions on the test set\n",
    "accuracy = accuracy_score(y_test, avg_preds)\n",
    "\n",
    "# Print the accuracy\n",
    "print(\"Accuracy of averaged model predictions on test data:\", accuracy)"
   ]
  },
  {
   "cell_type": "markdown",
   "metadata": {
    "id": "51-rIxwPl346"
   },
   "source": [
    "The averaging ensemble achieves an accuracy of 95%, slightly lower than the max voting ensemble. However, this accuracy rate still underscores the effectiveness of the averaging ensemble in breast cancer classification."
   ]
  },
  {
   "cell_type": "markdown",
   "metadata": {
    "id": "mW-AvUiAl35A"
   },
   "source": [
    "### __3.3 Weighted Averaging__"
   ]
  },
  {
   "cell_type": "markdown",
   "metadata": {
    "id": "Bybjyts-l35A"
   },
   "source": [
    "Weighted averaging assigns different weights to each model’s prediction, reflecting its importance or reliability. The final prediction is a weighted average, which can be more effective than simple averaging because it considers each model's performance."
   ]
  },
  {
   "cell_type": "markdown",
   "metadata": {
    "id": "E3ErNIT4l35A"
   },
   "source": [
    "__Example:__\n",
    "\n",
    "- In medical diagnosis, weighted ensemble learning combines results from various diagnostic tests with different reliabilities.\n",
    "- Each test's result is weighted based on its importance. For instance, blood tests, imaging scans, and physical examinations' results are combined to determine a patient's diagnosis accurately and reliably."
   ]
  },
  {
   "cell_type": "markdown",
   "metadata": {
    "id": "1BWjyfVXl35B"
   },
   "source": [
    "By weighting and averaging results from multiple diagnostic tests, you can determine the final diagnosis, thereby enhancing diagnostic accuracy and reliability. This highlights the significance of weighted averaging for improving decision-making."
   ]
  },
  {
   "cell_type": "markdown",
   "metadata": {
    "id": "gxrLwlAGl35B"
   },
   "source": [
    "## __4. Advanced Techniques for Ensemble Learning__"
   ]
  },
  {
   "cell_type": "markdown",
   "metadata": {
    "id": "9_ckakMIl35B"
   },
   "source": [
    "These techniques use complex methods to merge predictions from many individual models. It aims for better predictive accuracy. They are employed for complex problems where high predictive accuracy is crucial, such as in financial forecasting, medical diagnosis, and natural language processing applications."
   ]
  },
  {
   "cell_type": "markdown",
   "metadata": {
    "id": "JBvNkoeOl35B"
   },
   "source": [
    "### __4.1 Bagging__"
   ]
  },
  {
   "cell_type": "markdown",
   "metadata": {
    "id": "1r3X3meZl35B"
   },
   "source": [
    "Bagging or Bootstrap Aggregating enhances the stability and accuracy of machine learning algorithms. This method creates multiple subsets from the original dataset, known as bootstrap samples, by selecting data points with replacement. Each subset trains a separate model.\n",
    "\n",
    "For final predictions, Bagging combines the individual models' outputs by using voting (for classification tasks) or averaging (for regression tasks). This approach effectively reduces variance and helps prevent overfitting.\n",
    "\n",
    "__Note:__ Tree bagging is a popular algorithm that utilizes bagging by training multiple decision trees on different bootstrap samples and combining their predictions."
   ]
  },
  {
   "cell_type": "markdown",
   "metadata": {
    "id": "XxwKnzPJl35B"
   },
   "source": [
    "\n",
    "![link text](https://labcontent.simplicdn.net/data-content/content-assets/Data_and_AI/ML/updated/Lesson_05/Ensembled_Learning_Bagging.png)"
   ]
  },
  {
   "cell_type": "markdown",
   "metadata": {
    "id": "JKjwuWTYl35C"
   },
   "source": [
    "__Note:__ The numbering shown in the above image outlines the specific workflow for bagging."
   ]
  },
  {
   "cell_type": "code",
   "execution_count": 48,
   "metadata": {
    "id": "5V1ZRLyil35C"
   },
   "outputs": [],
   "source": [
    "# Import required libraries\n",
    "import pandas as pd\n",
    "import numpy as np\n",
    "from sklearn import model_selection\n",
    "from sklearn.model_selection import KFold\n",
    "from sklearn.ensemble import GradientBoostingClassifier\n",
    "from sklearn.ensemble import BaggingClassifier\n",
    "from sklearn.tree import DecisionTreeClassifier\n",
    "from sklearn.model_selection import train_test_split\n",
    "from sklearn.metrics import classification_report\n",
    "from sklearn.metrics import accuracy_score\n",
    "from sklearn.preprocessing import StandardScaler"
   ]
  },
  {
   "cell_type": "code",
   "execution_count": 49,
   "metadata": {
    "id": "KJZNHKUJ5Dfz"
   },
   "outputs": [
    {
     "data": {
      "text/html": [
       "<div>\n",
       "<style scoped>\n",
       "    .dataframe tbody tr th:only-of-type {\n",
       "        vertical-align: middle;\n",
       "    }\n",
       "\n",
       "    .dataframe tbody tr th {\n",
       "        vertical-align: top;\n",
       "    }\n",
       "\n",
       "    .dataframe thead th {\n",
       "        text-align: right;\n",
       "    }\n",
       "</style>\n",
       "<table border=\"1\" class=\"dataframe\">\n",
       "  <thead>\n",
       "    <tr style=\"text-align: right;\">\n",
       "      <th></th>\n",
       "      <th>preg</th>\n",
       "      <th>plas</th>\n",
       "      <th>pres</th>\n",
       "      <th>skin</th>\n",
       "      <th>test</th>\n",
       "      <th>mass</th>\n",
       "      <th>pedi</th>\n",
       "      <th>age</th>\n",
       "      <th>class</th>\n",
       "    </tr>\n",
       "  </thead>\n",
       "  <tbody>\n",
       "    <tr>\n",
       "      <th>0</th>\n",
       "      <td>6</td>\n",
       "      <td>148</td>\n",
       "      <td>72</td>\n",
       "      <td>35</td>\n",
       "      <td>0</td>\n",
       "      <td>33.6</td>\n",
       "      <td>0.627</td>\n",
       "      <td>50</td>\n",
       "      <td>1</td>\n",
       "    </tr>\n",
       "    <tr>\n",
       "      <th>1</th>\n",
       "      <td>1</td>\n",
       "      <td>85</td>\n",
       "      <td>66</td>\n",
       "      <td>29</td>\n",
       "      <td>0</td>\n",
       "      <td>26.6</td>\n",
       "      <td>0.351</td>\n",
       "      <td>31</td>\n",
       "      <td>0</td>\n",
       "    </tr>\n",
       "    <tr>\n",
       "      <th>2</th>\n",
       "      <td>8</td>\n",
       "      <td>183</td>\n",
       "      <td>64</td>\n",
       "      <td>0</td>\n",
       "      <td>0</td>\n",
       "      <td>23.3</td>\n",
       "      <td>0.672</td>\n",
       "      <td>32</td>\n",
       "      <td>1</td>\n",
       "    </tr>\n",
       "    <tr>\n",
       "      <th>3</th>\n",
       "      <td>1</td>\n",
       "      <td>89</td>\n",
       "      <td>66</td>\n",
       "      <td>23</td>\n",
       "      <td>94</td>\n",
       "      <td>28.1</td>\n",
       "      <td>0.167</td>\n",
       "      <td>21</td>\n",
       "      <td>0</td>\n",
       "    </tr>\n",
       "    <tr>\n",
       "      <th>4</th>\n",
       "      <td>0</td>\n",
       "      <td>137</td>\n",
       "      <td>40</td>\n",
       "      <td>35</td>\n",
       "      <td>168</td>\n",
       "      <td>43.1</td>\n",
       "      <td>2.288</td>\n",
       "      <td>33</td>\n",
       "      <td>1</td>\n",
       "    </tr>\n",
       "  </tbody>\n",
       "</table>\n",
       "</div>"
      ],
      "text/plain": [
       "   preg  plas  pres  skin  test  mass   pedi  age  class\n",
       "0     6   148    72    35     0  33.6  0.627   50      1\n",
       "1     1    85    66    29     0  26.6  0.351   31      0\n",
       "2     8   183    64     0     0  23.3  0.672   32      1\n",
       "3     1    89    66    23    94  28.1  0.167   21      0\n",
       "4     0   137    40    35   168  43.1  2.288   33      1"
      ]
     },
     "execution_count": 49,
     "metadata": {},
     "output_type": "execute_result"
    }
   ],
   "source": [
    "# Load the Pima Indians Diabetes dataset using the given URL and assign the names\n",
    "\n",
    "url=\"https://raw.githubusercontent.com/jbrownlee/Datasets/master/pima-indians-diabetes.data.csv\"\n",
    "names = ['preg', 'plas', 'pres', 'skin', 'test', 'mass', 'pedi', 'age', 'class']\n",
    "data = pd.read_csv(url, names=names)\n",
    "\n",
    "# Check the head of the data using the head() method\n",
    "data.head()"
   ]
  },
  {
   "cell_type": "code",
   "execution_count": 50,
   "metadata": {
    "id": "cenGLZ8_gXmA"
   },
   "outputs": [
    {
     "data": {
      "text/plain": [
       "array([1, 0])"
      ]
     },
     "execution_count": 50,
     "metadata": {},
     "output_type": "execute_result"
    }
   ],
   "source": [
    "data['class'].unique()"
   ]
  },
  {
   "cell_type": "markdown",
   "metadata": {
    "id": "u_9gL8x8FqMg"
   },
   "source": [
    "Create a feature matrix X and a target vector y\n"
   ]
  },
  {
   "cell_type": "code",
   "execution_count": 51,
   "metadata": {
    "id": "CRSA67UoknYF"
   },
   "outputs": [],
   "source": [
    "# Assign all the rows up to the 8th column of the data to X\n",
    "X = data.iloc[:,0:8].values\n",
    "\n",
    "# Assign the 9th column of the same data to Y\n",
    "y = data[\"class\"].values"
   ]
  },
  {
   "cell_type": "code",
   "execution_count": 52,
   "metadata": {
    "id": "QE3bVPDbm9Rg"
   },
   "outputs": [],
   "source": [
    "# Split the data into training and testing sets\n",
    "X_train, X_test, y_train, y_test = train_test_split(X, y, test_size=0.2, random_state=42)"
   ]
  },
  {
   "cell_type": "code",
   "execution_count": 53,
   "metadata": {
    "id": "9Y8_YHhzm4V1"
   },
   "outputs": [],
   "source": [
    "# Create an instance of SimpleImputer to fill in missing values with the median\n",
    "imputer = SimpleImputer(strategy='median')\n",
    "X_train_imputed = imputer.fit_transform(X_train)\n",
    "X_test_imputed = imputer.transform(X_test)\n",
    "\n",
    "# Create an instance of MinMaxScaler to scale features to a range of (0, 1)\n",
    "scaler = MinMaxScaler(feature_range=(0, 1))\n",
    "X_train_scaled = scaler.fit_transform(X_train_imputed)\n",
    "X_test_scaled = scaler.transform(X_test_imputed)"
   ]
  },
  {
   "cell_type": "code",
   "execution_count": 54,
   "metadata": {
    "id": "5uEtSPGI5Dfz"
   },
   "outputs": [],
   "source": [
    "# Create a decision tree classifier named cart\n",
    "cart = DecisionTreeClassifier()\n",
    "\n",
    "# The estimator will be set to 100, which is equal to the number of trees\n",
    "num_trees = 100"
   ]
  },
  {
   "cell_type": "markdown",
   "metadata": {
    "id": "WpotA1lQG9cx"
   },
   "source": [
    "#### __Apply the bagging technique__\n",
    "\n",
    "* `oob_score`: This is a method of measuring the prediction error of random forests, bagging, and other ensemble methods that involve bootstrap aggregating\n",
    "\n",
    "We'll talk about it in detail below"
   ]
  },
  {
   "cell_type": "code",
   "execution_count": 55,
   "metadata": {
    "id": "xY9AXU9k5Df0"
   },
   "outputs": [],
   "source": [
    "# Create a bagging classifier with the decision tree classifier (cart) as the base estimator\n",
    "# Ensure oob_score is enabled\n",
    "bagging_model = BaggingClassifier(\n",
    "    estimator=cart,\n",
    "    n_estimators=num_trees,\n",
    "    oob_score=True,\n",
    "    max_samples=0.66,\n",
    "    random_state=42\n",
    ")"
   ]
  },
  {
   "cell_type": "code",
   "execution_count": 56,
   "metadata": {
    "id": "Kbg9G7XiInCU"
   },
   "outputs": [
    {
     "name": "stdout",
     "output_type": "stream",
     "text": [
      "[0 0 0 0 0 0 0 0 0 0 1 0 1 0 0 1 0 0 1 1] Exact\n",
      "[0 0 0 0 0 0 0 0 0 0 0 0 0 0 0 0 0 0 0 0] Predicted\n"
     ]
    }
   ],
   "source": [
    "# fitting  and evaluating Bagging classifier model in training and test dataset\n",
    "bagging_model.fit(X_train, y_train)\n",
    "# evaluating model on test dataset\n",
    "y_pred = bagging_model.predict(X_test_scaled)\n",
    "\n",
    "# Print a few results\n",
    "print(np.array(y_test)[:20],\"Exact\")\n",
    "print(y_pred[:20],\"Predicted\")"
   ]
  },
  {
   "cell_type": "code",
   "execution_count": 57,
   "metadata": {
    "id": "SNIwCJ4n21ju"
   },
   "outputs": [
    {
     "name": "stdout",
     "output_type": "stream",
     "text": [
      "___________________________Bagging Classifier_______________________\n",
      "\n",
      "# Classification report\n",
      "              precision    recall  f1-score   support\n",
      "\n",
      "           0       0.64      1.00      0.78        99\n",
      "           1       0.00      0.00      0.00        55\n",
      "\n",
      "    accuracy                           0.64       154\n",
      "   macro avg       0.32      0.50      0.39       154\n",
      "weighted avg       0.41      0.64      0.50       154\n",
      "\n",
      "# Confusion matrix\n"
     ]
    },
    {
     "name": "stderr",
     "output_type": "stream",
     "text": [
      "/Users/xyz-ai/Developer/python3-code/ml/.venv/lib/python3.12/site-packages/sklearn/metrics/_classification.py:1565: UndefinedMetricWarning: Precision is ill-defined and being set to 0.0 in labels with no predicted samples. Use `zero_division` parameter to control this behavior.\n",
      "  _warn_prf(average, modifier, f\"{metric.capitalize()} is\", len(result))\n",
      "/Users/xyz-ai/Developer/python3-code/ml/.venv/lib/python3.12/site-packages/sklearn/metrics/_classification.py:1565: UndefinedMetricWarning: Precision is ill-defined and being set to 0.0 in labels with no predicted samples. Use `zero_division` parameter to control this behavior.\n",
      "  _warn_prf(average, modifier, f\"{metric.capitalize()} is\", len(result))\n",
      "/Users/xyz-ai/Developer/python3-code/ml/.venv/lib/python3.12/site-packages/sklearn/metrics/_classification.py:1565: UndefinedMetricWarning: Precision is ill-defined and being set to 0.0 in labels with no predicted samples. Use `zero_division` parameter to control this behavior.\n",
      "  _warn_prf(average, modifier, f\"{metric.capitalize()} is\", len(result))\n"
     ]
    },
    {
     "data": {
      "image/png": "[encoded data removed]",
      "text/plain": [
       "<Figure size 640x480 with 2 Axes>"
      ]
     },
     "metadata": {},
     "output_type": "display_data"
    }
   ],
   "source": [
    "print('___________________________Bagging Classifier_______________________')\n",
    "print()\n",
    "print('# Classification report')\n",
    "print(classification_report(y_test,y_pred))\n",
    "print('# Confusion matrix')\n",
    "cmap = 'summer'\n",
    "display_labels=['Non diabetic','Diabetic']\n",
    "cm = confusion_matrix(y_test,y_pred)\n",
    "disp = ConfusionMatrixDisplay(confusion_matrix=cm, display_labels=display_labels)\n",
    "disp.plot(cmap=cmap)\n",
    "plt.show()"
   ]
  },
  {
   "cell_type": "code",
   "execution_count": 58,
   "metadata": {
    "id": "HAKnaLQ82ReL"
   },
   "outputs": [
    {
     "name": "stdout",
     "output_type": "stream",
     "text": [
      "[0.77419355 0.77419355 0.75806452 0.75806452 0.83606557 0.80327869\n",
      " 0.63934426 0.83606557 0.73770492 0.7704918 ]\n",
      "Mean= 0.7687466948704389\n"
     ]
    }
   ],
   "source": [
    "# Set up the k-fold cross-validation with n_splits to 10\n",
    "kfold = model_selection.KFold(n_splits=10, shuffle=True, random_state=1)\n",
    "\n",
    "# Perform cross-validation using the model, feature matrix (X), target vector (y), and specified number of folds (cv)\n",
    "results = model_selection.cross_val_score(bagging_model, X_train_scaled, y_train, cv=kfold)\n",
    "\n",
    "# Print the cross-validation results\n",
    "print(results)\n",
    "print('Mean=',results.mean())"
   ]
  },
  {
   "cell_type": "markdown",
   "metadata": {
    "id": "bWZ2J1UV2f1o"
   },
   "source": [
    "__Observations:__\n",
    "- The results array contains the cross-validation scores for each fold of the data.\n",
    "- The cross-validation scores indicate the performance of the BaggingClassifier model on different subsets of the data.\n",
    "- These scores can assess the generalization ability and performance stability of the BaggingClassifier model across multiple iterations of the training data."
   ]
  },
  {
   "cell_type": "code",
   "execution_count": 59,
   "metadata": {
    "id": "CER9iNTv2RkU"
   },
   "outputs": [
    {
     "name": "stdout",
     "output_type": "stream",
     "text": [
      "Mean Cross-Validation Score: 0.7687466948704389\n"
     ]
    }
   ],
   "source": [
    "# Calculate the Mean Cross-Validation Score using .mean() function\n",
    "mean_score = np.mean(results)\n",
    "\n",
    "print(\"Mean Cross-Validation Score:\", mean_score)"
   ]
  },
  {
   "cell_type": "markdown",
   "metadata": {
    "id": "fmsvqnyA2ssN"
   },
   "source": [
    "- The provided code illustrates a bagging implementation with a DecisionTreeClassifier base estimator. It employs KFold cross-validation with 10 folds and applies BaggingClassifier with 100 decision tree estimators to each fold.\n",
    "- The resultant mean cross-validation score of 0.75 demonstrates the ensemble's effectiveness in enhancing predictive performance compared to a single decision tree classifier."
   ]
  },
  {
   "cell_type": "markdown",
   "metadata": {
    "id": "ex5DqCXcl35E"
   },
   "source": [
    "### __4.1.1 Advantages of Bagging__\n",
    "\n",
    "- It reduces the risk of overfitting by training on various subsets of the data.\n",
    "- It improves the model's accuracy and stability.\n",
    "- It works well with complex models that tend to overfit."
   ]
  },
  {
   "cell_type": "markdown",
   "metadata": {
    "id": "0hirnSNpl35E"
   },
   "source": [
    "### __4.1.2 Disadvantages of Bagging__\n",
    "\n",
    "- It increases computational complexity because it requires training multiple models.\n",
    "- It may not significantly improve performance if the base models are already biased."
   ]
  },
  {
   "cell_type": "markdown",
   "metadata": {
    "id": "krGmB1u6l35E"
   },
   "source": [
    "### __4.1.3  Out-Of-Bag (OOB) Concept__"
   ]
  },
  {
   "cell_type": "markdown",
   "metadata": {
    "id": "GgcmjoxDl35E"
   },
   "source": [
    "In bagging, __out-of-bag (OOB)__ data refers to instances not included in the bootstrap sample for training a specific base model. Since the process trains each model on a random subset of the original data, it naturally leaves out some instances.\n",
    "\n",
    "These OOB instances serve as a built-in validation set for each model, allowing for an assessment of the model's performance on unseen data points. You can compute the OOB error, which offers an efficient way to evaluate the model's generalization ability.\n",
    "\n",
    "This method may reduce the need for additional validation data or cross-validation procedures."
   ]
  },
  {
   "cell_type": "markdown",
   "metadata": {
    "id": "2eL60FStl35F"
   },
   "source": [
    "\n",
    "![link text](https://labcontent.simplicdn.net/data-content/content-assets/Data_and_AI/ML/Lesson_07/Out_Of_Bag_Concept.png)"
   ]
  },
  {
   "cell_type": "markdown",
   "metadata": {
    "id": "_px6EWnll35F"
   },
   "source": [
    "In the above image, Sample 1 lacks Rat and Cow, whereas Sample 3 includes all animals from the primary training set. Data points were randomly chosen with replacement during sample creation, and those omitted from a particular sample are identified as out-of-bag (OOB) points."
   ]
  },
  {
   "cell_type": "markdown",
   "metadata": {
    "id": "LhwNg0aRqwEp"
   },
   "source": [
    " - The OOB score is an estimate of performance that mimics cross-validation. It uses out-of-bag samples to estimate the model's accuracy.\n",
    "\n",
    " - This means that for each tree in a bagging ensemble, only the data not seen by the tree (out-of-bag data) are used to assess that tree’s performance."
   ]
  },
  {
   "cell_type": "code",
   "execution_count": 60,
   "metadata": {
    "id": "a7fm_bi5l35F"
   },
   "outputs": [
    {
     "name": "stdout",
     "output_type": "stream",
     "text": [
      "Out-of-Bag Error: 0.23289902280130292\n",
      "Out of Bag Score: 0.7671009771986971  also called as OOB Accuracy\n",
      "Bagging error + accuracy: 1.0  also called as OOB Accuracy\n"
     ]
    }
   ],
   "source": [
    "# Compute OOB error\n",
    "oob_error = 1 - bagging_model.oob_score_\n",
    "\n",
    "print(\"Out-of-Bag Error:\", oob_error)\n",
    "print(\"Out of Bag Score:\", bagging_model.oob_score_, \" also called as OOB Accuracy\")\n",
    "print(\"Bagging error + accuracy:\", bagging_model.oob_score_ +\n",
    "      oob_error, \" also called as OOB Accuracy\")"
   ]
  },
  {
   "cell_type": "markdown",
   "metadata": {
    "id": "TCW9NEg2l35F"
   },
   "source": [
    "__Observations:__\n",
    "- The code computes the out-of-bag (OOB) error for a BaggingClassifier model using cross-validation.\n",
    "- It calculates the OOB error by subtracting the OOB score from 1.\n",
    "- The **OOB score** represents the model's accuracy on out-of-bag samples.\n",
    "- The OOB error provides insight into the model's performance on unseen data points, indicating the misclassification rate of the model."
   ]
  },
  {
   "cell_type": "markdown",
   "metadata": {
    "id": "W7-5z7M3l35F"
   },
   "source": [
    "### __4.2 Boosting__"
   ]
  },
  {
   "cell_type": "markdown",
   "metadata": {
    "id": "ayiM-qmal35F"
   },
   "source": [
    "Boosting is a sequential ensemble technique where each model corrects its predecessor's mistakes. The main idea is to train models sequentially, each trying to correct the errors of the previous model.\n",
    "\n",
    "The final prediction is a weighted sum of all the models' predictions. Boosting significantly reduces bias and variance, leading to more accurate models.\n",
    "\n",
    "__Note:__ Popular boosting algorithms include AdaBoost, Gradient Boosting Machines (GBM), and XGBoost."
   ]
  },
  {
   "cell_type": "markdown",
   "metadata": {
    "id": "Bs9TzCm5l35F"
   },
   "source": [
    "\n",
    "![link text](https://labcontent.simplicdn.net/data-content/content-assets/Data_and_AI/ML/updated/Lesson_05/Ensembled_Learning_Boosting.png)"
   ]
  },
  {
   "cell_type": "markdown",
   "metadata": {
    "id": "YnKPkH_Ll35G"
   },
   "source": [
    "__Note:__ The numbering shown in the above image specifically outlines the workflow for boosting."
   ]
  },
  {
   "cell_type": "markdown",
   "metadata": {
    "id": "uQ7Bf8CMCi0m"
   },
   "source": [
    "#### __4.2.1 Boosting Techniques__\n",
    "\n",
    "There are various meta-algorithms in boosting that differentiate how the base models are aggregated, such as:\n",
    "* Adaboost\n",
    "* Gradient Boost\n",
    "* XGBoost\n",
    "* CatBoost\n",
    "\n",
    "**Meta-algorithm** (or meta-learning) involves learning algorithms that are designed to learn how to combine the predictions of multiple machine learning models, often referred to as base models or learners, to improve overall performance"
   ]
  },
  {
   "cell_type": "markdown",
   "metadata": {
    "id": "gYztPf_-C2_2"
   },
   "source": [
    "#### __4.2.2. AdaBoost Algorithm__\n",
    "\n",
    "AdaBoost, an abbreviation for adaptive boosting, stands as one of the leading boosting algorithms with widespread adoption. It focuses on classification problems, aiming to transform a collection of weak classifiers into a single strong classifier. It increases the weights of misclassified instances, directing subsequent classifiers to pay more attention to challenging cases.\n",
    "\n",
    "**The AdaBoost algorithm follows these steps:**\n",
    "1. Initially, the algorithm assigns equal weights to all observations in the dataset.\n",
    "2. A model is constructed using a subset of the data.\n",
    "3. Predictions are made on the entire dataset using this model.\n",
    "4. The algorithm computes errors by comparing these predictions to the actual values.\n",
    "5. In the subsequent model creation, the algorithm assigns higher weights to incorrectly predicted data points.\n",
    "6. Weights are determined based on error values, where higher errors result in heavier observation weights.\n",
    "7. This iterative process continues until the error function stabilizes or the algorithm reaches the maximum limit of estimators.\n",
    "\n"
   ]
  },
  {
   "cell_type": "markdown",
   "metadata": {
    "id": "G1R4WJ0TEV-h"
   },
   "source": [
    "### **Implementation of Adaboost Classifier and Bagging classifier to compare the performance:**"
   ]
  },
  {
   "cell_type": "code",
   "execution_count": 61,
   "metadata": {
    "id": "JcA6Oy36Dzs_"
   },
   "outputs": [],
   "source": [
    "# Import necessary libraries\n",
    "import pandas as pd\n",
    "import numpy as np\n",
    "from sklearn.impute import SimpleImputer\n",
    "from sklearn.preprocessing import MinMaxScaler\n",
    "from sklearn.model_selection import train_test_split\n",
    "from sklearn.pipeline import Pipeline\n",
    "from sklearn.model_selection import KFold, cross_val_score\n",
    "from sklearn.ensemble import AdaBoostClassifier\n",
    "from sklearn.ensemble import BaggingClassifier\n",
    "from sklearn.tree import DecisionTreeClassifier\n",
    "\n",
    "# Load the dataset from the given URL and assign column names\n",
    "data = pd.read_csv('https://archive.ics.uci.edu/ml/machine-learning-databases/breast-cancer-wisconsin/breast-cancer-wisconsin.data', header=None)\n",
    "data.columns = ['Sample code', 'Clump Thickness', 'Uniformity of Cell Size', 'Uniformity of Cell Shape',\n",
    "                'Marginal Adhesion', 'Single Epithelial Cell Size', 'Bare Nuclei', 'Bland Chromatin',\n",
    "                'Normal Nucleoli', 'Mitoses','Class']"
   ]
  },
  {
   "cell_type": "code",
   "execution_count": 62,
   "metadata": {
    "id": "wjkV4LR3qlAD"
   },
   "outputs": [
    {
     "data": {
      "text/html": [
       "<div>\n",
       "<style scoped>\n",
       "    .dataframe tbody tr th:only-of-type {\n",
       "        vertical-align: middle;\n",
       "    }\n",
       "\n",
       "    .dataframe tbody tr th {\n",
       "        vertical-align: top;\n",
       "    }\n",
       "\n",
       "    .dataframe thead th {\n",
       "        text-align: right;\n",
       "    }\n",
       "</style>\n",
       "<table border=\"1\" class=\"dataframe\">\n",
       "  <thead>\n",
       "    <tr style=\"text-align: right;\">\n",
       "      <th></th>\n",
       "      <th>Sample code</th>\n",
       "      <th>Clump Thickness</th>\n",
       "      <th>Uniformity of Cell Size</th>\n",
       "      <th>Uniformity of Cell Shape</th>\n",
       "      <th>Marginal Adhesion</th>\n",
       "      <th>Single Epithelial Cell Size</th>\n",
       "      <th>Bare Nuclei</th>\n",
       "      <th>Bland Chromatin</th>\n",
       "      <th>Normal Nucleoli</th>\n",
       "      <th>Mitoses</th>\n",
       "      <th>Class</th>\n",
       "    </tr>\n",
       "  </thead>\n",
       "  <tbody>\n",
       "    <tr>\n",
       "      <th>0</th>\n",
       "      <td>1000025</td>\n",
       "      <td>5</td>\n",
       "      <td>1</td>\n",
       "      <td>1</td>\n",
       "      <td>1</td>\n",
       "      <td>2</td>\n",
       "      <td>1</td>\n",
       "      <td>3</td>\n",
       "      <td>1</td>\n",
       "      <td>1</td>\n",
       "      <td>2</td>\n",
       "    </tr>\n",
       "    <tr>\n",
       "      <th>1</th>\n",
       "      <td>1002945</td>\n",
       "      <td>5</td>\n",
       "      <td>4</td>\n",
       "      <td>4</td>\n",
       "      <td>5</td>\n",
       "      <td>7</td>\n",
       "      <td>10</td>\n",
       "      <td>3</td>\n",
       "      <td>2</td>\n",
       "      <td>1</td>\n",
       "      <td>2</td>\n",
       "    </tr>\n",
       "    <tr>\n",
       "      <th>2</th>\n",
       "      <td>1015425</td>\n",
       "      <td>3</td>\n",
       "      <td>1</td>\n",
       "      <td>1</td>\n",
       "      <td>1</td>\n",
       "      <td>2</td>\n",
       "      <td>2</td>\n",
       "      <td>3</td>\n",
       "      <td>1</td>\n",
       "      <td>1</td>\n",
       "      <td>2</td>\n",
       "    </tr>\n",
       "    <tr>\n",
       "      <th>3</th>\n",
       "      <td>1016277</td>\n",
       "      <td>6</td>\n",
       "      <td>8</td>\n",
       "      <td>8</td>\n",
       "      <td>1</td>\n",
       "      <td>3</td>\n",
       "      <td>4</td>\n",
       "      <td>3</td>\n",
       "      <td>7</td>\n",
       "      <td>1</td>\n",
       "      <td>2</td>\n",
       "    </tr>\n",
       "    <tr>\n",
       "      <th>4</th>\n",
       "      <td>1017023</td>\n",
       "      <td>4</td>\n",
       "      <td>1</td>\n",
       "      <td>1</td>\n",
       "      <td>3</td>\n",
       "      <td>2</td>\n",
       "      <td>1</td>\n",
       "      <td>3</td>\n",
       "      <td>1</td>\n",
       "      <td>1</td>\n",
       "      <td>2</td>\n",
       "    </tr>\n",
       "  </tbody>\n",
       "</table>\n",
       "</div>"
      ],
      "text/plain": [
       "   Sample code  Clump Thickness  Uniformity of Cell Size  \\\n",
       "0      1000025                5                        1   \n",
       "1      1002945                5                        4   \n",
       "2      1015425                3                        1   \n",
       "3      1016277                6                        8   \n",
       "4      1017023                4                        1   \n",
       "\n",
       "   Uniformity of Cell Shape  Marginal Adhesion  Single Epithelial Cell Size  \\\n",
       "0                         1                  1                            2   \n",
       "1                         4                  5                            7   \n",
       "2                         1                  1                            2   \n",
       "3                         8                  1                            3   \n",
       "4                         1                  3                            2   \n",
       "\n",
       "  Bare Nuclei  Bland Chromatin  Normal Nucleoli  Mitoses  Class  \n",
       "0           1                3                1        1      2  \n",
       "1          10                3                2        1      2  \n",
       "2           2                3                1        1      2  \n",
       "3           4                3                7        1      2  \n",
       "4           1                3                1        1      2  "
      ]
     },
     "execution_count": 62,
     "metadata": {},
     "output_type": "execute_result"
    }
   ],
   "source": [
    "data.head()"
   ]
  },
  {
   "cell_type": "code",
   "execution_count": 63,
   "metadata": {
    "id": "Qj1z1pofLuPp"
   },
   "outputs": [],
   "source": [
    "# Drop the 'Sample code' column as it's not required for prediction\n",
    "data.drop(['Sample code'], axis=1, inplace=True)\n",
    "\n",
    "# Replace '?' with nan to handle missing data, ensuring numerical analysis accuracy and preventing calculation errors.\n",
    "data = data.replace('?', np.nan)"
   ]
  },
  {
   "cell_type": "code",
   "execution_count": 64,
   "metadata": {
    "id": "j7yde7n-P_vZ"
   },
   "outputs": [],
   "source": [
    "# Replace class values to be binary (2 for benign, 4 for malignant)\n",
    "data['Class'] = data['Class'].replace({2: 0, 4: 1})"
   ]
  },
  {
   "cell_type": "code",
   "execution_count": 65,
   "metadata": {
    "id": "sa-dH2XyLuPq"
   },
   "outputs": [],
   "source": [
    "# Convert the 'Bare Nuclei' column to an integer type to ensure a uniform data type across the column,\n",
    "# which is essential for consistent data manipulation and analysis.\n",
    "data['Bare Nuclei'] = pd.to_numeric(data['Bare Nuclei']).fillna(0).astype('int64')"
   ]
  },
  {
   "cell_type": "markdown",
   "metadata": {
    "id": "AqCqVRN1E8K2"
   },
   "source": [
    "- A SimpleImputer handles missing values in a dataset by imputing (i.e., filling in) the missing values with a specified statistic, such as the mean, median, or most frequent value of the respective feature.\n",
    "- This is important because missing values can disrupt the analysis and modeling process, leading to biased results or errors in predictive models.\n",
    "- Imputation helps maintain the integrity and completeness of the dataset, ensuring that the analysis or modeling algorithms can effectively utilize the available data for accurate insights or predictions."
   ]
  },
  {
   "cell_type": "code",
   "execution_count": 66,
   "metadata": {
    "id": "KC8hoEV_E0dg"
   },
   "outputs": [],
   "source": [
    "# Split data into features (X) and target variable (y)\n",
    "X = data.drop('Class', axis=1)\n",
    "y = data['Class']"
   ]
  },
  {
   "cell_type": "code",
   "execution_count": 67,
   "metadata": {
    "id": "mhkCiWGuL_bq"
   },
   "outputs": [],
   "source": [
    "# Split the data into training and testing sets\n",
    "X_train, X_test, y_train, y_test = train_test_split(X, y, test_size=0.2, random_state=7)"
   ]
  },
  {
   "cell_type": "code",
   "execution_count": 68,
   "metadata": {
    "id": "TWxK2UUSq0BT"
   },
   "outputs": [
    {
     "data": {
      "text/html": [
       "<div>\n",
       "<style scoped>\n",
       "    .dataframe tbody tr th:only-of-type {\n",
       "        vertical-align: middle;\n",
       "    }\n",
       "\n",
       "    .dataframe tbody tr th {\n",
       "        vertical-align: top;\n",
       "    }\n",
       "\n",
       "    .dataframe thead th {\n",
       "        text-align: right;\n",
       "    }\n",
       "</style>\n",
       "<table border=\"1\" class=\"dataframe\">\n",
       "  <thead>\n",
       "    <tr style=\"text-align: right;\">\n",
       "      <th></th>\n",
       "      <th>Clump Thickness</th>\n",
       "      <th>Uniformity of Cell Size</th>\n",
       "      <th>Uniformity of Cell Shape</th>\n",
       "      <th>Marginal Adhesion</th>\n",
       "      <th>Single Epithelial Cell Size</th>\n",
       "      <th>Bare Nuclei</th>\n",
       "      <th>Bland Chromatin</th>\n",
       "      <th>Normal Nucleoli</th>\n",
       "      <th>Mitoses</th>\n",
       "    </tr>\n",
       "  </thead>\n",
       "  <tbody>\n",
       "    <tr>\n",
       "      <th>0</th>\n",
       "      <td>5</td>\n",
       "      <td>1</td>\n",
       "      <td>1</td>\n",
       "      <td>1</td>\n",
       "      <td>2</td>\n",
       "      <td>1</td>\n",
       "      <td>3</td>\n",
       "      <td>1</td>\n",
       "      <td>1</td>\n",
       "    </tr>\n",
       "    <tr>\n",
       "      <th>1</th>\n",
       "      <td>5</td>\n",
       "      <td>4</td>\n",
       "      <td>4</td>\n",
       "      <td>5</td>\n",
       "      <td>7</td>\n",
       "      <td>10</td>\n",
       "      <td>3</td>\n",
       "      <td>2</td>\n",
       "      <td>1</td>\n",
       "    </tr>\n",
       "    <tr>\n",
       "      <th>2</th>\n",
       "      <td>3</td>\n",
       "      <td>1</td>\n",
       "      <td>1</td>\n",
       "      <td>1</td>\n",
       "      <td>2</td>\n",
       "      <td>2</td>\n",
       "      <td>3</td>\n",
       "      <td>1</td>\n",
       "      <td>1</td>\n",
       "    </tr>\n",
       "    <tr>\n",
       "      <th>3</th>\n",
       "      <td>6</td>\n",
       "      <td>8</td>\n",
       "      <td>8</td>\n",
       "      <td>1</td>\n",
       "      <td>3</td>\n",
       "      <td>4</td>\n",
       "      <td>3</td>\n",
       "      <td>7</td>\n",
       "      <td>1</td>\n",
       "    </tr>\n",
       "    <tr>\n",
       "      <th>4</th>\n",
       "      <td>4</td>\n",
       "      <td>1</td>\n",
       "      <td>1</td>\n",
       "      <td>3</td>\n",
       "      <td>2</td>\n",
       "      <td>1</td>\n",
       "      <td>3</td>\n",
       "      <td>1</td>\n",
       "      <td>1</td>\n",
       "    </tr>\n",
       "  </tbody>\n",
       "</table>\n",
       "</div>"
      ],
      "text/plain": [
       "   Clump Thickness  Uniformity of Cell Size  Uniformity of Cell Shape  \\\n",
       "0                5                        1                         1   \n",
       "1                5                        4                         4   \n",
       "2                3                        1                         1   \n",
       "3                6                        8                         8   \n",
       "4                4                        1                         1   \n",
       "\n",
       "   Marginal Adhesion  Single Epithelial Cell Size  Bare Nuclei  \\\n",
       "0                  1                            2            1   \n",
       "1                  5                            7           10   \n",
       "2                  1                            2            2   \n",
       "3                  1                            3            4   \n",
       "4                  3                            2            1   \n",
       "\n",
       "   Bland Chromatin  Normal Nucleoli  Mitoses  \n",
       "0                3                1        1  \n",
       "1                3                2        1  \n",
       "2                3                1        1  \n",
       "3                3                7        1  \n",
       "4                3                1        1  "
      ]
     },
     "execution_count": 68,
     "metadata": {},
     "output_type": "execute_result"
    }
   ],
   "source": [
    "X.head()"
   ]
  },
  {
   "cell_type": "code",
   "execution_count": 69,
   "metadata": {
    "id": "O-ZSeeBGMDFn"
   },
   "outputs": [],
   "source": [
    "# Define K-fold cross-validation\n",
    "kfold = KFold(n_splits=10, random_state=7, shuffle=True)\n",
    "\n",
    "# Create a pipeline for AdaBoost classifier with Decision Tree base estimator\n",
    "adaboost_pipeline = Pipeline([\n",
    "    ('imputer', SimpleImputer(strategy='mean')),\n",
    "    ('scaler', MinMaxScaler(feature_range=(0, 1))),\n",
    "    ('classifier', AdaBoostClassifier(n_estimators=70, random_state=7))\n",
    "])"
   ]
  },
  {
   "cell_type": "code",
   "execution_count": 70,
   "metadata": {
    "id": "L0m6R_Xrrgo-"
   },
   "outputs": [
    {
     "name": "stdout",
     "output_type": "stream",
     "text": [
      "[1 0 0 0 1 0 0 1 0 1 0 0 0 0 1 0 0 0 1 0] Exact\n",
      "[1 0 0 0 1 0 1 1 0 1 0 0 0 0 1 0 0 0 1 0] Predicted\n"
     ]
    }
   ],
   "source": [
    "# Fit the Adaboost Classifier pipeline on the training set and evaluate on the test set\n",
    "adaboost_pipeline.fit(X_train, y_train)\n",
    "\n",
    "# Print a few results\n",
    "print(np.array(y_test)[:20],\"Exact\")\n",
    "print(adaboost_pipeline.predict(X_test)[:20],\"Predicted\")"
   ]
  },
  {
   "cell_type": "code",
   "execution_count": 71,
   "metadata": {
    "id": "JOdsOd4sr2yK"
   },
   "outputs": [
    {
     "name": "stdout",
     "output_type": "stream",
     "text": [
      "Adaboost Classifier test accuracy:  0.9571428571428572\n"
     ]
    }
   ],
   "source": [
    "adaboost_test_score = adaboost_pipeline.score(X_test, y_test)\n",
    "print(\"Adaboost Classifier test accuracy: \", adaboost_test_score)"
   ]
  },
  {
   "cell_type": "code",
   "execution_count": 72,
   "metadata": {
    "id": "iWv6_NBvrT32"
   },
   "outputs": [
    {
     "name": "stdout",
     "output_type": "stream",
     "text": [
      "AdaBoost Classifier mean accuracy:  0.9534740259740259\n"
     ]
    }
   ],
   "source": [
    "# Evaluate the Adaboost Classifier pipeline using cross-validation on the training set\n",
    "adaboost_results = cross_val_score(adaboost_pipeline, X_train, y_train, cv=kfold)\n",
    "print(\"AdaBoost Classifier mean accuracy: \", adaboost_results.mean())"
   ]
  },
  {
   "cell_type": "code",
   "execution_count": 73,
   "metadata": {},
   "outputs": [
    {
     "name": "stdout",
     "output_type": "stream",
     "text": [
      "Feature used: ['Uniformity of Cell Size', 'Mitoses', 'Mitoses']\n",
      "Stump 1: Feature: ['Uniformity of Cell Size', 'Mitoses', 'Mitoses'] Threshold: [ 0.16666667 -2.         -2.        ]\n",
      "Stump 2: Feature: ['Bare Nuclei', 'Mitoses', 'Mitoses'] Threshold: [ 0.35000001 -2.         -2.        ]\n",
      "Stump 3: Feature: ['Clump Thickness', 'Mitoses', 'Mitoses'] Threshold: [ 0.61111113 -2.         -2.        ]\n",
      "Stump 4: Feature: ['Normal Nucleoli', 'Mitoses', 'Mitoses'] Threshold: [ 0.83333334 -2.         -2.        ]\n",
      "Stump 5: Feature: ['Marginal Adhesion', 'Mitoses', 'Mitoses'] Threshold: [ 0.50000001 -2.         -2.        ]\n",
      "Stump 6: Feature: ['Uniformity of Cell Shape', 'Mitoses', 'Mitoses'] Threshold: [ 0.05555556 -2.         -2.        ]\n",
      "Stump 7: Feature: ['Mitoses', 'Mitoses', 'Mitoses'] Threshold: [ 0.16666667 -2.         -2.        ]\n",
      "Stump 8: Feature: ['Bare Nuclei', 'Mitoses', 'Mitoses'] Threshold: [ 0.75 -2.   -2.  ]\n",
      "Stump 9: Feature: ['Uniformity of Cell Size', 'Mitoses', 'Mitoses'] Threshold: [ 0.16666667 -2.         -2.        ]\n",
      "Stump 10: Feature: ['Uniformity of Cell Size', 'Mitoses', 'Mitoses'] Threshold: [ 0.16666667 -2.         -2.        ]\n",
      "Stump 11: Feature: ['Marginal Adhesion', 'Mitoses', 'Mitoses'] Threshold: [ 0.61111113 -2.         -2.        ]\n",
      "Stump 12: Feature: ['Marginal Adhesion', 'Mitoses', 'Mitoses'] Threshold: [ 0.61111113 -2.         -2.        ]\n",
      "Stump 13: Feature: ['Uniformity of Cell Shape', 'Mitoses', 'Mitoses'] Threshold: [ 0.16666667 -2.         -2.        ]\n",
      "Stump 14: Feature: ['Clump Thickness', 'Mitoses', 'Mitoses'] Threshold: [ 0.83333334 -2.         -2.        ]\n",
      "Stump 15: Feature: ['Mitoses', 'Mitoses', 'Mitoses'] Threshold: [ 0.16666667 -2.         -2.        ]\n",
      "Stump 16: Feature: ['Mitoses', 'Mitoses', 'Mitoses'] Threshold: [ 0.16666667 -2.         -2.        ]\n",
      "Stump 17: Feature: ['Normal Nucleoli', 'Mitoses', 'Mitoses'] Threshold: [ 0.94444445 -2.         -2.        ]\n",
      "Stump 18: Feature: ['Normal Nucleoli', 'Mitoses', 'Mitoses'] Threshold: [ 0.94444445 -2.         -2.        ]\n",
      "Stump 19: Feature: ['Bland Chromatin', 'Mitoses', 'Mitoses'] Threshold: [ 0.16666667 -2.         -2.        ]\n",
      "Stump 20: Feature: ['Uniformity of Cell Shape', 'Mitoses', 'Mitoses'] Threshold: [ 0.27777778 -2.         -2.        ]\n",
      "Stump 21: Feature: ['Uniformity of Cell Size', 'Mitoses', 'Mitoses'] Threshold: [ 0.3888889 -2.        -2.       ]\n",
      "Stump 22: Feature: ['Clump Thickness', 'Mitoses', 'Mitoses'] Threshold: [ 0.83333334 -2.         -2.        ]\n",
      "Stump 23: Feature: ['Clump Thickness', 'Mitoses', 'Mitoses'] Threshold: [ 0.83333334 -2.         -2.        ]\n",
      "Stump 24: Feature: ['Normal Nucleoli', 'Mitoses', 'Mitoses'] Threshold: [ 0.94444445 -2.         -2.        ]\n",
      "Stump 25: Feature: ['Normal Nucleoli', 'Mitoses', 'Mitoses'] Threshold: [ 0.94444445 -2.         -2.        ]\n",
      "Stump 26: Feature: ['Normal Nucleoli', 'Mitoses', 'Mitoses'] Threshold: [ 0.61111113 -2.         -2.        ]\n",
      "Stump 27: Feature: ['Normal Nucleoli', 'Mitoses', 'Mitoses'] Threshold: [ 0.16666667 -2.         -2.        ]\n",
      "Stump 28: Feature: ['Bare Nuclei', 'Mitoses', 'Mitoses'] Threshold: [ 0.84999999 -2.         -2.        ]\n",
      "Stump 29: Feature: ['Uniformity of Cell Size', 'Mitoses', 'Mitoses'] Threshold: [ 0.27777778 -2.         -2.        ]\n",
      "Stump 30: Feature: ['Single Epithelial Cell Size', 'Mitoses', 'Mitoses'] Threshold: [ 0.3888889 -2.        -2.       ]\n",
      "Stump 31: Feature: ['Normal Nucleoli', 'Mitoses', 'Mitoses'] Threshold: [ 0.94444445 -2.         -2.        ]\n",
      "Stump 32: Feature: ['Normal Nucleoli', 'Mitoses', 'Mitoses'] Threshold: [ 0.94444445 -2.         -2.        ]\n",
      "Stump 33: Feature: ['Clump Thickness', 'Mitoses', 'Mitoses'] Threshold: [ 0.83333334 -2.         -2.        ]\n",
      "Stump 34: Feature: ['Clump Thickness', 'Mitoses', 'Mitoses'] Threshold: [ 0.83333334 -2.         -2.        ]\n",
      "Stump 35: Feature: ['Uniformity of Cell Shape', 'Mitoses', 'Mitoses'] Threshold: [ 0.16666667 -2.         -2.        ]\n",
      "Stump 36: Feature: ['Mitoses', 'Mitoses', 'Mitoses'] Threshold: [ 0.16666667 -2.         -2.        ]\n",
      "Stump 37: Feature: ['Single Epithelial Cell Size', 'Mitoses', 'Mitoses'] Threshold: [ 0.83333334 -2.         -2.        ]\n",
      "Stump 38: Feature: ['Single Epithelial Cell Size', 'Mitoses', 'Mitoses'] Threshold: [ 0.83333334 -2.         -2.        ]\n",
      "Stump 39: Feature: ['Normal Nucleoli', 'Mitoses', 'Mitoses'] Threshold: [ 0.94444445 -2.         -2.        ]\n",
      "Stump 40: Feature: ['Normal Nucleoli', 'Mitoses', 'Mitoses'] Threshold: [ 0.94444445 -2.         -2.        ]\n",
      "Stump 41: Feature: ['Clump Thickness', 'Mitoses', 'Mitoses'] Threshold: [ 0.83333334 -2.         -2.        ]\n",
      "Stump 42: Feature: ['Clump Thickness', 'Mitoses', 'Mitoses'] Threshold: [ 0.83333334 -2.         -2.        ]\n",
      "Stump 43: Feature: ['Marginal Adhesion', 'Mitoses', 'Mitoses'] Threshold: [ 0.61111113 -2.         -2.        ]\n",
      "Stump 44: Feature: ['Marginal Adhesion', 'Mitoses', 'Mitoses'] Threshold: [ 0.61111113 -2.         -2.        ]\n",
      "Stump 45: Feature: ['Uniformity of Cell Size', 'Mitoses', 'Mitoses'] Threshold: [ 0.16666667 -2.         -2.        ]\n",
      "Stump 46: Feature: ['Marginal Adhesion', 'Mitoses', 'Mitoses'] Threshold: [ 0.3888889 -2.        -2.       ]\n",
      "Stump 47: Feature: ['Marginal Adhesion', 'Mitoses', 'Mitoses'] Threshold: [ 0.50000001 -2.         -2.        ]\n",
      "Stump 48: Feature: ['Uniformity of Cell Shape', 'Mitoses', 'Mitoses'] Threshold: [ 0.16666667 -2.         -2.        ]\n",
      "Stump 49: Feature: ['Single Epithelial Cell Size', 'Mitoses', 'Mitoses'] Threshold: [ 0.83333334 -2.         -2.        ]\n",
      "Stump 50: Feature: ['Clump Thickness', 'Mitoses', 'Mitoses'] Threshold: [ 0.83333334 -2.         -2.        ]\n",
      "Stump 51: Feature: ['Clump Thickness', 'Mitoses', 'Mitoses'] Threshold: [ 0.83333334 -2.         -2.        ]\n",
      "Stump 52: Feature: ['Uniformity of Cell Size', 'Mitoses', 'Mitoses'] Threshold: [ 0.94444445 -2.         -2.        ]\n",
      "Stump 53: Feature: ['Uniformity of Cell Size', 'Mitoses', 'Mitoses'] Threshold: [ 0.94444445 -2.         -2.        ]\n",
      "Stump 54: Feature: ['Marginal Adhesion', 'Mitoses', 'Mitoses'] Threshold: [ 0.94444445 -2.         -2.        ]\n",
      "Stump 55: Feature: ['Marginal Adhesion', 'Mitoses', 'Mitoses'] Threshold: [ 0.94444445 -2.         -2.        ]\n",
      "Stump 56: Feature: ['Bland Chromatin', 'Mitoses', 'Mitoses'] Threshold: [ 0.72222224 -2.         -2.        ]\n",
      "Stump 57: Feature: ['Bland Chromatin', 'Mitoses', 'Mitoses'] Threshold: [ 0.72222224 -2.         -2.        ]\n",
      "Stump 58: Feature: ['Single Epithelial Cell Size', 'Mitoses', 'Mitoses'] Threshold: [ 0.83333334 -2.         -2.        ]\n",
      "Stump 59: Feature: ['Single Epithelial Cell Size', 'Mitoses', 'Mitoses'] Threshold: [ 0.83333334 -2.         -2.        ]\n",
      "Stump 60: Feature: ['Clump Thickness', 'Mitoses', 'Mitoses'] Threshold: [ 0.83333334 -2.         -2.        ]\n",
      "Stump 61: Feature: ['Clump Thickness', 'Mitoses', 'Mitoses'] Threshold: [ 0.83333334 -2.         -2.        ]\n",
      "Stump 62: Feature: ['Uniformity of Cell Size', 'Mitoses', 'Mitoses'] Threshold: [ 0.16666667 -2.         -2.        ]\n",
      "Stump 63: Feature: ['Uniformity of Cell Shape', 'Mitoses', 'Mitoses'] Threshold: [ 0.83333334 -2.         -2.        ]\n",
      "Stump 64: Feature: ['Uniformity of Cell Shape', 'Mitoses', 'Mitoses'] Threshold: [ 0.83333334 -2.         -2.        ]\n",
      "Stump 65: Feature: ['Mitoses', 'Mitoses', 'Mitoses'] Threshold: [ 0.16666667 -2.         -2.        ]\n",
      "Stump 66: Feature: ['Mitoses', 'Mitoses', 'Mitoses'] Threshold: [ 0.16666667 -2.         -2.        ]\n",
      "Stump 67: Feature: ['Bland Chromatin', 'Mitoses', 'Mitoses'] Threshold: [ 0.72222224 -2.         -2.        ]\n",
      "Stump 68: Feature: ['Bland Chromatin', 'Mitoses', 'Mitoses'] Threshold: [ 0.72222224 -2.         -2.        ]\n",
      "Stump 69: Feature: ['Marginal Adhesion', 'Mitoses', 'Mitoses'] Threshold: [ 0.94444445 -2.         -2.        ]\n",
      "Stump 70: Feature: ['Single Epithelial Cell Size', 'Mitoses', 'Mitoses'] Threshold: [ 0.83333334 -2.         -2.        ]\n"
     ]
    }
   ],
   "source": [
    "# Get AdaBoost Classifier model\n",
    "adaboost_model = adaboost_pipeline.named_steps['classifier']\n",
    "# Get the base estimator\n",
    "base_estimator = adaboost_model.estimators_\n",
    "print(f\"Feature used: {data.columns[base_estimator[0].tree_.feature].tolist()}\")\n",
    "for i, stump in enumerate(base_estimator):\n",
    "    print(f\"Stump {i+1}:\", end = \" \")\n",
    "    print(f\"Feature: {data.columns[stump.tree_.feature].tolist()}\", end = \" \")\n",
    "    print(f\"Threshold: {stump.tree_.threshold}\")"
   ]
  },
  {
   "cell_type": "code",
   "execution_count": 74,
   "metadata": {
    "id": "kj75Zhg8PIwJ"
   },
   "outputs": [
    {
     "name": "stdout",
     "output_type": "stream",
     "text": [
      "___________________________Adaboost Classifier_______________________\n",
      "\n",
      "# Classification report\n",
      "              precision    recall  f1-score   support\n",
      "\n",
      "           0       0.96      0.98      0.97        91\n",
      "           1       0.96      0.92      0.94        49\n",
      "\n",
      "    accuracy                           0.96       140\n",
      "   macro avg       0.96      0.95      0.95       140\n",
      "weighted avg       0.96      0.96      0.96       140\n",
      "\n",
      "# Confusion matrix\n"
     ]
    },
    {
     "data": {
      "image/png": "[encoded data removed]",
      "text/plain": [
       "<Figure size 640x480 with 2 Axes>"
      ]
     },
     "metadata": {},
     "output_type": "display_data"
    }
   ],
   "source": [
    "# Classification report, confusion matrix\n",
    "\n",
    "print('___________________________Adaboost Classifier_______________________')\n",
    "print()\n",
    "# evaluating model on test dataset\n",
    "y_pred = adaboost_pipeline.predict(X_test)\n",
    "print('# Classification report')\n",
    "print(classification_report(y_test,y_pred))\n",
    "print('# Confusion matrix')\n",
    "cmap = 'summer'\n",
    "display_labels=['Benign','Malignant']\n",
    "cm = confusion_matrix(y_test,y_pred)\n",
    "disp = ConfusionMatrixDisplay(confusion_matrix=cm, display_labels=display_labels)\n",
    "disp.plot(cmap=cmap)\n",
    "plt.show()"
   ]
  },
  {
   "cell_type": "markdown",
   "metadata": {
    "id": "q2dDrw4eFZnt"
   },
   "source": [
    "__Observations:__\n",
    "\n",
    "- This demonstrates the importance and effectiveness of AdaBoost in enhancing the predictive capability of weak learners, like decision trees."
   ]
  },
  {
   "cell_type": "markdown",
   "metadata": {
    "id": "RrtF9-XNFelO"
   },
   "source": [
    "#### __4.2.3. Gradient Boosting Machine__\n",
    "\n",
    "\n",
    "\n",
    "\n"
   ]
  },
  {
   "cell_type": "markdown",
   "metadata": {
    "id": "XKNYtSHlF6w_"
   },
   "source": [
    "Gradient boosting refers to a class of ensemble machine learning algorithms that can be used for classification or regression predictive modeling problems.\n",
    "\n",
    "Gradient boosting is also known as gradient tree boosting, stochastic gradient boosting (an extension), and gradient boosting machines, or GBM for short.\n",
    "\n",
    "Ensembles are constructed from decision tree models. Trees are added one at a time to the ensemble and fit to correct the prediction errors made by prior models\n",
    "\n",
    "**Gradient Boosting involves three main components:**\n",
    "\n",
    "* Loss Function: The choice of loss function depends on the type of problem being solved (e.g., regression, classification). The goal is to find a model that minimizes the loss function.\n",
    "\n",
    "* Weak Learners: Gradient Boosting uses decision trees as the default weak learner. These trees are usually of a fixed size and depth and are created one at a time.\n",
    "\n",
    "* Additive Model: Instead of adjusting the weights of data points like AdaBoost, Gradient Boosting fits new models to the residual errors made by previous models. Essentially, each new model is built on the errors of the whole ensemble so far."
   ]
  },
  {
   "cell_type": "markdown",
   "metadata": {
    "id": "V6-zlpRIGURL"
   },
   "source": [
    "#### __4.2.4. XGBoost__\n",
    "\n",
    "XGBoost, or eXtreme Gradient Boosting, stands out as a premier machine learning framework, widely adopted for its proficiency in supervised learning tasks including classification, regression, and ranking. This advanced algorithm builds upon the principles of gradient boosting and is celebrated for its exceptional accuracy and scalability in handling complex predictive modeling challenges.\n",
    "\n",
    " **XGBoost offers many essential features that make it ideal for classification tasks. Some of the reasons include:**\n",
    "\n",
    "* High performance: As mentioned above, XGBoost is optimized for speed and efficiency, making it appropriate for large datasets and real-time applications.\n",
    "\n",
    "* Regularization methods: L1 (Lasso) and L2 (Ridge) regularisation terms are included in XGBoost to avoid overfitting and increase generalization.\n",
    "\n",
    "* Handle missing data: Moreover, XGBoost can handle missing data automatically, minimizing the need for preprocessing and imputation.\n",
    "\n",
    "\n"
   ]
  },
  {
   "cell_type": "markdown",
   "metadata": {
    "id": "ZH5Jli4RE5Kq"
   },
   "source": [
    "#### __4.2.5. CatBoost__\n",
    "\n",
    "Catboost is a variant of gradient boosting that can handle both categorical and numerical features. It does not require any feature encodings techniques like One-Hot Encoder or Label Encoder to convert categorical features into numerical features."
   ]
  },
  {
   "cell_type": "markdown",
   "metadata": {
    "id": "owZskOIvHJ5R"
   },
   "source": [
    "### **Implementation of XGBoost, Gradient Boost and CatBoost Algorithm:**"
   ]
  },
  {
   "cell_type": "code",
   "execution_count": 75,
   "metadata": {
    "colab": {
     "base_uri": "https://localhost:8080/"
    },
    "executionInfo": {
     "elapsed": 13157,
     "status": "ok",
     "timestamp": 1728182295382,
     "user": {
      "displayName": "Fabien Marpeau",
      "userId": "15210978490258687001"
     },
     "user_tz": 300
    },
    "id": "GckeLdfKH19w",
    "outputId": "2e7cacd3-195c-4e0d-f767-6c85f5989bf0"
   },
   "outputs": [
    {
     "name": "stdout",
     "output_type": "stream",
     "text": [
      "Requirement already satisfied: catboost in /Users/xyz-ai/Developer/python3-code/ml/.venv/lib/python3.12/site-packages (1.2.8)\n",
      "Requirement already satisfied: graphviz in /Users/xyz-ai/Developer/python3-code/ml/.venv/lib/python3.12/site-packages (from catboost) (0.20.3)\n",
      "Requirement already satisfied: matplotlib in /Users/xyz-ai/Developer/python3-code/ml/.venv/lib/python3.12/site-packages (from catboost) (3.10.1)\n",
      "Requirement already satisfied: numpy<3.0,>=1.16.0 in /Users/xyz-ai/Developer/python3-code/ml/.venv/lib/python3.12/site-packages (from catboost) (2.1.3)\n",
      "Requirement already satisfied: pandas>=0.24 in /Users/xyz-ai/Developer/python3-code/ml/.venv/lib/python3.12/site-packages (from catboost) (2.2.3)\n",
      "Requirement already satisfied: scipy in /Users/xyz-ai/Developer/python3-code/ml/.venv/lib/python3.12/site-packages (from catboost) (1.15.2)\n",
      "Requirement already satisfied: plotly in /Users/xyz-ai/Developer/python3-code/ml/.venv/lib/python3.12/site-packages (from catboost) (6.0.1)\n",
      "Requirement already satisfied: six in /Users/xyz-ai/Developer/python3-code/ml/.venv/lib/python3.12/site-packages (from catboost) (1.17.0)\n",
      "Requirement already satisfied: python-dateutil>=2.8.2 in /Users/xyz-ai/Developer/python3-code/ml/.venv/lib/python3.12/site-packages (from pandas>=0.24->catboost) (2.9.0.post0)\n",
      "Requirement already satisfied: pytz>=2020.1 in /Users/xyz-ai/Developer/python3-code/ml/.venv/lib/python3.12/site-packages (from pandas>=0.24->catboost) (2025.2)\n",
      "Requirement already satisfied: tzdata>=2022.7 in /Users/xyz-ai/Developer/python3-code/ml/.venv/lib/python3.12/site-packages (from pandas>=0.24->catboost) (2025.2)\n",
      "Requirement already satisfied: contourpy>=1.0.1 in /Users/xyz-ai/Developer/python3-code/ml/.venv/lib/python3.12/site-packages (from matplotlib->catboost) (1.3.1)\n",
      "Requirement already satisfied: cycler>=0.10 in /Users/xyz-ai/Developer/python3-code/ml/.venv/lib/python3.12/site-packages (from matplotlib->catboost) (0.12.1)\n",
      "Requirement already satisfied: fonttools>=4.22.0 in /Users/xyz-ai/Developer/python3-code/ml/.venv/lib/python3.12/site-packages (from matplotlib->catboost) (4.57.0)\n",
      "Requirement already satisfied: kiwisolver>=1.3.1 in /Users/xyz-ai/Developer/python3-code/ml/.venv/lib/python3.12/site-packages (from matplotlib->catboost) (1.4.8)\n",
      "Requirement already satisfied: packaging>=20.0 in /Users/xyz-ai/Developer/python3-code/ml/.venv/lib/python3.12/site-packages (from matplotlib->catboost) (24.2)\n",
      "Requirement already satisfied: pillow>=8 in /Users/xyz-ai/Developer/python3-code/ml/.venv/lib/python3.12/site-packages (from matplotlib->catboost) (11.2.1)\n",
      "Requirement already satisfied: pyparsing>=2.3.1 in /Users/xyz-ai/Developer/python3-code/ml/.venv/lib/python3.12/site-packages (from matplotlib->catboost) (3.2.3)\n",
      "Requirement already satisfied: narwhals>=1.15.1 in /Users/xyz-ai/Developer/python3-code/ml/.venv/lib/python3.12/site-packages (from plotly->catboost) (1.38.0)\n",
      "\n",
      "\u001b[1m[\u001b[0m\u001b[34;49mnotice\u001b[0m\u001b[1;39;49m]\u001b[0m\u001b[39;49m A new release of pip is available: \u001b[0m\u001b[31;49m25.0.1\u001b[0m\u001b[39;49m -> \u001b[0m\u001b[32;49m25.1\u001b[0m\n",
      "\u001b[1m[\u001b[0m\u001b[34;49mnotice\u001b[0m\u001b[1;39;49m]\u001b[0m\u001b[39;49m To update, run: \u001b[0m\u001b[32;49mpip install --upgrade pip\u001b[0m\n"
     ]
    }
   ],
   "source": [
    "!pip install catboost"
   ]
  },
  {
   "cell_type": "code",
   "execution_count": 76,
   "metadata": {
    "id": "QItOj6EvN_oM"
   },
   "outputs": [
    {
     "data": {
      "text/html": [
       "<div>\n",
       "<style scoped>\n",
       "    .dataframe tbody tr th:only-of-type {\n",
       "        vertical-align: middle;\n",
       "    }\n",
       "\n",
       "    .dataframe tbody tr th {\n",
       "        vertical-align: top;\n",
       "    }\n",
       "\n",
       "    .dataframe thead th {\n",
       "        text-align: right;\n",
       "    }\n",
       "</style>\n",
       "<table border=\"1\" class=\"dataframe\">\n",
       "  <thead>\n",
       "    <tr style=\"text-align: right;\">\n",
       "      <th></th>\n",
       "      <th>Sample code</th>\n",
       "      <th>Clump Thickness</th>\n",
       "      <th>Uniformity of Cell Size</th>\n",
       "      <th>Uniformity of Cell Shape</th>\n",
       "      <th>Marginal Adhesion</th>\n",
       "      <th>Single Epithelial Cell Size</th>\n",
       "      <th>Bare Nuclei</th>\n",
       "      <th>Bland Chromatin</th>\n",
       "      <th>Normal Nucleoli</th>\n",
       "      <th>Mitoses</th>\n",
       "      <th>Class</th>\n",
       "    </tr>\n",
       "  </thead>\n",
       "  <tbody>\n",
       "    <tr>\n",
       "      <th>0</th>\n",
       "      <td>1000025</td>\n",
       "      <td>5</td>\n",
       "      <td>1</td>\n",
       "      <td>1</td>\n",
       "      <td>1</td>\n",
       "      <td>2</td>\n",
       "      <td>1</td>\n",
       "      <td>3</td>\n",
       "      <td>1</td>\n",
       "      <td>1</td>\n",
       "      <td>2</td>\n",
       "    </tr>\n",
       "    <tr>\n",
       "      <th>1</th>\n",
       "      <td>1002945</td>\n",
       "      <td>5</td>\n",
       "      <td>4</td>\n",
       "      <td>4</td>\n",
       "      <td>5</td>\n",
       "      <td>7</td>\n",
       "      <td>10</td>\n",
       "      <td>3</td>\n",
       "      <td>2</td>\n",
       "      <td>1</td>\n",
       "      <td>2</td>\n",
       "    </tr>\n",
       "    <tr>\n",
       "      <th>2</th>\n",
       "      <td>1015425</td>\n",
       "      <td>3</td>\n",
       "      <td>1</td>\n",
       "      <td>1</td>\n",
       "      <td>1</td>\n",
       "      <td>2</td>\n",
       "      <td>2</td>\n",
       "      <td>3</td>\n",
       "      <td>1</td>\n",
       "      <td>1</td>\n",
       "      <td>2</td>\n",
       "    </tr>\n",
       "    <tr>\n",
       "      <th>3</th>\n",
       "      <td>1016277</td>\n",
       "      <td>6</td>\n",
       "      <td>8</td>\n",
       "      <td>8</td>\n",
       "      <td>1</td>\n",
       "      <td>3</td>\n",
       "      <td>4</td>\n",
       "      <td>3</td>\n",
       "      <td>7</td>\n",
       "      <td>1</td>\n",
       "      <td>2</td>\n",
       "    </tr>\n",
       "    <tr>\n",
       "      <th>4</th>\n",
       "      <td>1017023</td>\n",
       "      <td>4</td>\n",
       "      <td>1</td>\n",
       "      <td>1</td>\n",
       "      <td>3</td>\n",
       "      <td>2</td>\n",
       "      <td>1</td>\n",
       "      <td>3</td>\n",
       "      <td>1</td>\n",
       "      <td>1</td>\n",
       "      <td>2</td>\n",
       "    </tr>\n",
       "  </tbody>\n",
       "</table>\n",
       "</div>"
      ],
      "text/plain": [
       "   Sample code  Clump Thickness  Uniformity of Cell Size  \\\n",
       "0      1000025                5                        1   \n",
       "1      1002945                5                        4   \n",
       "2      1015425                3                        1   \n",
       "3      1016277                6                        8   \n",
       "4      1017023                4                        1   \n",
       "\n",
       "   Uniformity of Cell Shape  Marginal Adhesion  Single Epithelial Cell Size  \\\n",
       "0                         1                  1                            2   \n",
       "1                         4                  5                            7   \n",
       "2                         1                  1                            2   \n",
       "3                         8                  1                            3   \n",
       "4                         1                  3                            2   \n",
       "\n",
       "  Bare Nuclei  Bland Chromatin  Normal Nucleoli  Mitoses  Class  \n",
       "0           1                3                1        1      2  \n",
       "1          10                3                2        1      2  \n",
       "2           2                3                1        1      2  \n",
       "3           4                3                7        1      2  \n",
       "4           1                3                1        1      2  "
      ]
     },
     "execution_count": 76,
     "metadata": {},
     "output_type": "execute_result"
    }
   ],
   "source": [
    "# Import necessary libraries\n",
    "# Import necessary libraries\n",
    "import pandas as pd\n",
    "import numpy as np\n",
    "from sklearn.impute import SimpleImputer\n",
    "from sklearn.preprocessing import MinMaxScaler\n",
    "from sklearn.pipeline import Pipeline\n",
    "from sklearn.model_selection import KFold, cross_val_score, train_test_split\n",
    "from sklearn.ensemble import GradientBoostingClassifier\n",
    "from xgboost import XGBClassifier\n",
    "from catboost import CatBoostClassifier\n",
    "\n",
    "# Load the dataset from the given URL and assign column names\n",
    "data = pd.read_csv('https://archive.ics.uci.edu/ml/machine-learning-databases/breast-cancer-wisconsin/breast-cancer-wisconsin.data', header=None)\n",
    "data.columns = ['Sample code', 'Clump Thickness', 'Uniformity of Cell Size', 'Uniformity of Cell Shape',\n",
    "                'Marginal Adhesion', 'Single Epithelial Cell Size', 'Bare Nuclei', 'Bland Chromatin',\n",
    "                'Normal Nucleoli', 'Mitoses','Class']\n",
    "data.head()"
   ]
  },
  {
   "cell_type": "code",
   "execution_count": 77,
   "metadata": {
    "id": "RWqHZrLxN_oN"
   },
   "outputs": [],
   "source": [
    "# Drop the 'Sample code' column as it's not required for prediction\n",
    "data.drop(['Sample code'], axis=1, inplace=True)\n",
    "\n",
    "# Replace '?' with nan to handle missing data, ensuring numerical analysis accuracy and preventing calculation errors.\n",
    "data = data.replace('?', np.nan)"
   ]
  },
  {
   "cell_type": "code",
   "execution_count": 78,
   "metadata": {
    "id": "IZKoN_FIQbL0"
   },
   "outputs": [],
   "source": [
    "# Replace class values to be binary (2 for benign, 4 for malignant)\n",
    "data['Class'] = data['Class'].replace({2: 0, 4: 1})"
   ]
  },
  {
   "cell_type": "code",
   "execution_count": 79,
   "metadata": {
    "id": "vkRxuK9lN_oN"
   },
   "outputs": [],
   "source": [
    "# Convert the 'Bare Nuclei' column to an integer type to ensure a uniform data type across the column,\n",
    "# which is essential for consistent data manipulation and analysis.\n",
    "data['Bare Nuclei'] = pd.to_numeric(data['Bare Nuclei']).fillna(0).astype('int64')"
   ]
  },
  {
   "cell_type": "code",
   "execution_count": 80,
   "metadata": {
    "id": "qUS5ArjFG9W2"
   },
   "outputs": [],
   "source": [
    "# Split data into features (X) and target variable (y)\n",
    "X = data.drop('Class', axis=1)\n",
    "y = data['Class']\n",
    "\n",
    "# Split the data into training and testing sets\n",
    "X_train, X_test, y_train, y_test = train_test_split(X, y, test_size=0.2, random_state=7)\n",
    "\n",
    "# Define K-fold cross-validation\n",
    "kfold = KFold(n_splits=10, random_state=7, shuffle=True)\n"
   ]
  },
  {
   "cell_type": "code",
   "execution_count": 81,
   "metadata": {
    "id": "V_vo60Z2OpIe"
   },
   "outputs": [],
   "source": [
    "# Gradient Boosting Classifier\n",
    "gb_pipeline = Pipeline([\n",
    "    ('imputer', SimpleImputer(strategy='mean')),\n",
    "    ('scaler', MinMaxScaler(feature_range=(0, 1))),\n",
    "    ('classifier', GradientBoostingClassifier(n_estimators=100, random_state=7))\n",
    "])"
   ]
  },
  {
   "cell_type": "code",
   "execution_count": 82,
   "metadata": {
    "id": "ctGIP3YfOrTA"
   },
   "outputs": [
    {
     "name": "stdout",
     "output_type": "stream",
     "text": [
      "[1 0 0 0 1 0 0 1 0 1 0 0 0 0 1 0 0 0 1 0] Exact\n",
      "[1 0 0 0 1 0 1 1 0 1 0 0 0 0 1 0 0 0 1 0] Predicted\n"
     ]
    }
   ],
   "source": [
    "# Fit the Gradient boosting Classifier pipeline on the training set and evaluate on the test set\n",
    "gb_pipeline.fit(X_train, y_train)\n",
    "\n",
    "# Print a few results\n",
    "print(np.array(y_test)[:20],\"Exact\")\n",
    "print(gb_pipeline.predict(X_test)[:20],\"Predicted\")"
   ]
  },
  {
   "cell_type": "code",
   "execution_count": 83,
   "metadata": {
    "id": "kZFJVFmguB9B"
   },
   "outputs": [
    {
     "name": "stdout",
     "output_type": "stream",
     "text": [
      "Gradient Boosting Classifier test accuracy:  0.9571428571428572\n"
     ]
    }
   ],
   "source": [
    "gb_boost_test_score = gb_pipeline.score(X_test, y_test)\n",
    "print(\"Gradient Boosting Classifier test accuracy: \", gb_boost_test_score)"
   ]
  },
  {
   "cell_type": "code",
   "execution_count": 84,
   "metadata": {
    "id": "MZIPlafVt1Pb"
   },
   "outputs": [
    {
     "name": "stdout",
     "output_type": "stream",
     "text": [
      "Gradient Boosting Classifier mean accuracy after cross validation:  0.9588961038961038\n"
     ]
    }
   ],
   "source": [
    "# Evaluate the Gradient Boosting Classifier pipeline using cross-validation on the training set\n",
    "gb_results = cross_val_score(gb_pipeline, X_train, y_train, cv=kfold)\n",
    "print(\"Gradient Boosting Classifier mean accuracy after cross validation: \", gb_results.mean())"
   ]
  },
  {
   "cell_type": "code",
   "execution_count": 85,
   "metadata": {
    "id": "eNHcB9z3RGoQ"
   },
   "outputs": [
    {
     "name": "stdout",
     "output_type": "stream",
     "text": [
      "___________________________Gradient Boosting Classifier_______________________\n",
      "\n",
      "# Classification report\n",
      "              precision    recall  f1-score   support\n",
      "\n",
      "           0       0.97      0.97      0.97        91\n",
      "           1       0.94      0.94      0.94        49\n",
      "\n",
      "    accuracy                           0.96       140\n",
      "   macro avg       0.95      0.95      0.95       140\n",
      "weighted avg       0.96      0.96      0.96       140\n",
      "\n",
      "# Confusion matrix\n"
     ]
    },
    {
     "data": {
      "image/png": "[encoded data removed]",
      "text/plain": [
       "<Figure size 640x480 with 2 Axes>"
      ]
     },
     "metadata": {},
     "output_type": "display_data"
    }
   ],
   "source": [
    "# Classification report, confusion matrix\n",
    "\n",
    "print('___________________________Gradient Boosting Classifier_______________________')\n",
    "print()\n",
    "# evaluating model on test dataset\n",
    "y_pred = gb_pipeline.predict(X_test)\n",
    "print('# Classification report')\n",
    "print(classification_report(y_test,y_pred))\n",
    "print('# Confusion matrix')\n",
    "cmap = 'summer'\n",
    "display_labels=['Benign','Malignant']\n",
    "cm = confusion_matrix(y_test,y_pred)\n",
    "disp = ConfusionMatrixDisplay(confusion_matrix=cm, display_labels=display_labels)\n",
    "disp.plot(cmap=cmap)\n",
    "plt.show()"
   ]
  },
  {
   "cell_type": "markdown",
   "metadata": {
    "id": "7NJBObmGH8AI"
   },
   "source": [
    "- In XGBoost, one-hot encoding is used for multi-class classification problems to transform the categorical target variables into a binary matrix format.\n",
    "\n",
    "- This conversion is crucial for applying gradient boosting techniques effectively, allowing each model iteration to focus on optimizing classification accuracy across potentially many different classes.\n",
    "\n",
    "- XGBoost, along with other gradient boosting methods, enhances model accuracy by optimizing specific loss functions. Logarithmic Loss (**LogLoss**), also known as Cross-Entropy Loss is  used as an evaluation metric for this classification problems.\n"
   ]
  },
  {
   "cell_type": "code",
   "execution_count": 86,
   "metadata": {
    "id": "qGi8HrMaHkxo"
   },
   "outputs": [],
   "source": [
    "from sklearn.preprocessing import LabelEncoder\n",
    "le = LabelEncoder()\n",
    "y = le.fit_transform(y)\n",
    "\n",
    "# Split the data into training and testing sets\n",
    "X_train, X_test, y_train, y_test = train_test_split(X, y, test_size=0.2, random_state=7)"
   ]
  },
  {
   "cell_type": "code",
   "execution_count": 87,
   "metadata": {
    "id": "BQpO9B1puwYL"
   },
   "outputs": [],
   "source": [
    "# XGBoost Classifier\n",
    "xgb_pipeline = Pipeline([\n",
    "    ('imputer', SimpleImputer(strategy='mean')),\n",
    "    ('scaler', MinMaxScaler(feature_range=(0, 1))),\n",
    "    ('classifier', XGBClassifier(n_estimators=100, random_state=7))\n",
    "])"
   ]
  },
  {
   "cell_type": "code",
   "execution_count": 88,
   "metadata": {
    "id": "7xn9D1HF4Gum"
   },
   "outputs": [
    {
     "name": "stdout",
     "output_type": "stream",
     "text": [
      "[1 0 0 0 1 0 0 1 0 1 0 0 0 0 1 0 0 0 1 0] Exact\n",
      "[1 0 0 0 1 0 1 1 0 1 0 0 0 0 1 0 0 0 1 0] Predicted\n"
     ]
    }
   ],
   "source": [
    "# Fit the Gradient boosting Classifier pipeline on the training set and evaluate on the test set\n",
    "xgb_pipeline.fit(X_train, y_train)\n",
    "\n",
    "# Print a few results\n",
    "print(np.array(y_test)[:20],\"Exact\")\n",
    "print(xgb_pipeline.predict(X_test)[:20],\"Predicted\")"
   ]
  },
  {
   "cell_type": "code",
   "execution_count": 89,
   "metadata": {
    "id": "th2W8xO2u1oG"
   },
   "outputs": [
    {
     "name": "stdout",
     "output_type": "stream",
     "text": [
      "XGBoost Classifier test accuracy:  0.9428571428571428\n",
      "\n"
     ]
    }
   ],
   "source": [
    "xgb_test_score = xgb_pipeline.score(X_test, y_test)\n",
    "print(\"XGBoost Classifier test accuracy: \", xgb_test_score)\n",
    "print()"
   ]
  },
  {
   "cell_type": "code",
   "execution_count": 90,
   "metadata": {
    "id": "PegcHP9iuzrr"
   },
   "outputs": [
    {
     "name": "stdout",
     "output_type": "stream",
     "text": [
      "XGBoost Classifier mean accuracy:  0.957012987012987\n"
     ]
    }
   ],
   "source": [
    "# Evaluate the XGBoost Classifier pipeline using cross-validation on the training set\n",
    "xgb_results = cross_val_score(xgb_pipeline, X_train, y_train, cv=kfold, error_score=\"raise\")\n",
    "print(\"XGBoost Classifier mean accuracy: \", xgb_results.mean())"
   ]
  },
  {
   "cell_type": "code",
   "execution_count": 91,
   "metadata": {
    "id": "K_o70u4NRVNS"
   },
   "outputs": [
    {
     "name": "stdout",
     "output_type": "stream",
     "text": [
      "___________________________XGBoost Classifier_______________________\n",
      "\n",
      "# Classification report\n",
      "              precision    recall  f1-score   support\n",
      "\n",
      "           0       0.95      0.97      0.96        91\n",
      "           1       0.94      0.90      0.92        49\n",
      "\n",
      "    accuracy                           0.94       140\n",
      "   macro avg       0.94      0.93      0.94       140\n",
      "weighted avg       0.94      0.94      0.94       140\n",
      "\n",
      "# Confusion matrix\n"
     ]
    },
    {
     "data": {
      "image/png": "[encoded data removed]",
      "text/plain": [
       "<Figure size 640x480 with 2 Axes>"
      ]
     },
     "metadata": {},
     "output_type": "display_data"
    }
   ],
   "source": [
    "# Classification report, confusion matrix\n",
    "\n",
    "print('___________________________XGBoost Classifier_______________________')\n",
    "print()\n",
    "# evaluating model on test dataset\n",
    "y_pred = xgb_pipeline.predict(X_test)\n",
    "print('# Classification report')\n",
    "print(classification_report(y_test,y_pred))\n",
    "print('# Confusion matrix')\n",
    "cmap = 'summer'\n",
    "display_labels=['Benign','Malignant']\n",
    "cm = confusion_matrix(y_test,y_pred)\n",
    "disp = ConfusionMatrixDisplay(confusion_matrix=cm, display_labels=display_labels)\n",
    "disp.plot(cmap=cmap)\n",
    "plt.show()"
   ]
  },
  {
   "cell_type": "code",
   "execution_count": 92,
   "metadata": {
    "id": "2eCW95rmur8A"
   },
   "outputs": [],
   "source": [
    "# CatBoost Classifier\n",
    "cat_pipeline = Pipeline([\n",
    "    ('imputer', SimpleImputer(strategy='mean')),\n",
    "    ('scaler', MinMaxScaler(feature_range=(0, 1))),\n",
    "    ('classifier', CatBoostClassifier(n_estimators=100, random_state=7))\n",
    "])"
   ]
  },
  {
   "cell_type": "code",
   "execution_count": 93,
   "metadata": {
    "id": "rHC-_b6U4UOB"
   },
   "outputs": [
    {
     "name": "stdout",
     "output_type": "stream",
     "text": [
      "Learning rate set to 0.066386\n",
      "0:\tlearn: 0.6498153\ttotal: 55.8ms\tremaining: 5.53s\n",
      "1:\tlearn: 0.6082749\ttotal: 56ms\tremaining: 2.74s\n",
      "2:\tlearn: 0.5701400\ttotal: 56.2ms\tremaining: 1.81s\n",
      "3:\tlearn: 0.5352927\ttotal: 56.3ms\tremaining: 1.35s\n",
      "4:\tlearn: 0.5059370\ttotal: 56.5ms\tremaining: 1.07s\n",
      "5:\tlearn: 0.4781711\ttotal: 56.6ms\tremaining: 887ms\n",
      "6:\tlearn: 0.4515309\ttotal: 56.8ms\tremaining: 755ms\n",
      "7:\tlearn: 0.4269864\ttotal: 57ms\tremaining: 655ms\n",
      "8:\tlearn: 0.4042665\ttotal: 57.1ms\tremaining: 578ms\n",
      "9:\tlearn: 0.3849729\ttotal: 57.3ms\tremaining: 516ms\n",
      "10:\tlearn: 0.3654936\ttotal: 57.5ms\tremaining: 465ms\n",
      "11:\tlearn: 0.3478777\ttotal: 57.6ms\tremaining: 423ms\n",
      "12:\tlearn: 0.3315815\ttotal: 57.8ms\tremaining: 387ms\n",
      "13:\tlearn: 0.3162866\ttotal: 58ms\tremaining: 356ms\n",
      "14:\tlearn: 0.3019002\ttotal: 58.1ms\tremaining: 329ms\n",
      "15:\tlearn: 0.2887591\ttotal: 58.3ms\tremaining: 306ms\n",
      "16:\tlearn: 0.2769501\ttotal: 58.4ms\tremaining: 285ms\n",
      "17:\tlearn: 0.2658184\ttotal: 58.6ms\tremaining: 267ms\n",
      "18:\tlearn: 0.2558447\ttotal: 58.8ms\tremaining: 251ms\n",
      "19:\tlearn: 0.2455769\ttotal: 59ms\tremaining: 236ms\n",
      "20:\tlearn: 0.2361636\ttotal: 59.1ms\tremaining: 222ms\n",
      "21:\tlearn: 0.2274324\ttotal: 59.3ms\tremaining: 210ms\n",
      "22:\tlearn: 0.2193724\ttotal: 59.4ms\tremaining: 199ms\n",
      "23:\tlearn: 0.2111561\ttotal: 59.6ms\tremaining: 189ms\n",
      "24:\tlearn: 0.2040313\ttotal: 59.8ms\tremaining: 179ms\n",
      "25:\tlearn: 0.1972485\ttotal: 59.9ms\tremaining: 171ms\n",
      "26:\tlearn: 0.1907320\ttotal: 60.1ms\tremaining: 162ms\n",
      "27:\tlearn: 0.1848477\ttotal: 60.2ms\tremaining: 155ms\n",
      "28:\tlearn: 0.1791106\ttotal: 60.4ms\tremaining: 148ms\n",
      "29:\tlearn: 0.1741621\ttotal: 60.6ms\tremaining: 141ms\n",
      "30:\tlearn: 0.1691608\ttotal: 60.7ms\tremaining: 135ms\n",
      "31:\tlearn: 0.1650953\ttotal: 60.9ms\tremaining: 129ms\n",
      "32:\tlearn: 0.1607093\ttotal: 61.1ms\tremaining: 124ms\n",
      "33:\tlearn: 0.1559953\ttotal: 61.3ms\tremaining: 119ms\n",
      "34:\tlearn: 0.1517997\ttotal: 61.4ms\tremaining: 114ms\n",
      "35:\tlearn: 0.1479785\ttotal: 61.6ms\tremaining: 109ms\n",
      "36:\tlearn: 0.1446397\ttotal: 61.7ms\tremaining: 105ms\n",
      "37:\tlearn: 0.1412455\ttotal: 61.9ms\tremaining: 101ms\n",
      "38:\tlearn: 0.1378450\ttotal: 62ms\tremaining: 97ms\n",
      "39:\tlearn: 0.1342178\ttotal: 62.2ms\tremaining: 93.3ms\n",
      "40:\tlearn: 0.1313635\ttotal: 62.3ms\tremaining: 89.7ms\n",
      "41:\tlearn: 0.1286053\ttotal: 62.5ms\tremaining: 86.3ms\n",
      "42:\tlearn: 0.1258662\ttotal: 62.6ms\tremaining: 83ms\n",
      "43:\tlearn: 0.1233357\ttotal: 62.8ms\tremaining: 79.9ms\n",
      "44:\tlearn: 0.1208761\ttotal: 62.9ms\tremaining: 76.9ms\n",
      "45:\tlearn: 0.1188110\ttotal: 63.1ms\tremaining: 74.1ms\n",
      "46:\tlearn: 0.1163381\ttotal: 63.3ms\tremaining: 71.3ms\n",
      "47:\tlearn: 0.1143360\ttotal: 63.4ms\tremaining: 68.7ms\n",
      "48:\tlearn: 0.1123094\ttotal: 63.5ms\tremaining: 66.1ms\n",
      "49:\tlearn: 0.1104221\ttotal: 63.7ms\tremaining: 63.7ms\n",
      "50:\tlearn: 0.1085150\ttotal: 63.8ms\tremaining: 61.3ms\n",
      "51:\tlearn: 0.1062601\ttotal: 64ms\tremaining: 59ms\n",
      "52:\tlearn: 0.1048203\ttotal: 64.1ms\tremaining: 56.9ms\n",
      "53:\tlearn: 0.1029242\ttotal: 64.3ms\tremaining: 54.8ms\n",
      "54:\tlearn: 0.1012044\ttotal: 64.4ms\tremaining: 52.7ms\n",
      "55:\tlearn: 0.0996125\ttotal: 64.6ms\tremaining: 50.7ms\n",
      "56:\tlearn: 0.0979053\ttotal: 64.7ms\tremaining: 48.8ms\n",
      "57:\tlearn: 0.0965668\ttotal: 64.9ms\tremaining: 47ms\n",
      "58:\tlearn: 0.0950332\ttotal: 65ms\tremaining: 45.2ms\n",
      "59:\tlearn: 0.0937926\ttotal: 65.2ms\tremaining: 43.5ms\n",
      "60:\tlearn: 0.0925373\ttotal: 65.4ms\tremaining: 41.8ms\n",
      "61:\tlearn: 0.0910176\ttotal: 65.5ms\tremaining: 40.2ms\n",
      "62:\tlearn: 0.0897557\ttotal: 65.7ms\tremaining: 38.6ms\n",
      "63:\tlearn: 0.0884246\ttotal: 65.8ms\tremaining: 37ms\n",
      "64:\tlearn: 0.0872507\ttotal: 66ms\tremaining: 35.5ms\n",
      "65:\tlearn: 0.0861614\ttotal: 66.1ms\tremaining: 34.1ms\n",
      "66:\tlearn: 0.0852350\ttotal: 66.3ms\tremaining: 32.6ms\n",
      "67:\tlearn: 0.0844451\ttotal: 66.4ms\tremaining: 31.3ms\n",
      "68:\tlearn: 0.0833348\ttotal: 66.6ms\tremaining: 29.9ms\n",
      "69:\tlearn: 0.0824995\ttotal: 66.7ms\tremaining: 28.6ms\n",
      "70:\tlearn: 0.0815173\ttotal: 66.9ms\tremaining: 27.3ms\n",
      "71:\tlearn: 0.0805320\ttotal: 67.1ms\tremaining: 26.1ms\n",
      "72:\tlearn: 0.0795828\ttotal: 67.2ms\tremaining: 24.9ms\n",
      "73:\tlearn: 0.0784057\ttotal: 67.4ms\tremaining: 23.7ms\n",
      "74:\tlearn: 0.0775096\ttotal: 67.5ms\tremaining: 22.5ms\n",
      "75:\tlearn: 0.0766717\ttotal: 67.8ms\tremaining: 21.4ms\n",
      "76:\tlearn: 0.0758266\ttotal: 67.9ms\tremaining: 20.3ms\n",
      "77:\tlearn: 0.0749447\ttotal: 68.1ms\tremaining: 19.2ms\n",
      "78:\tlearn: 0.0742839\ttotal: 68.4ms\tremaining: 18.2ms\n",
      "79:\tlearn: 0.0732282\ttotal: 68.5ms\tremaining: 17.1ms\n",
      "80:\tlearn: 0.0727388\ttotal: 68.7ms\tremaining: 16.1ms\n",
      "81:\tlearn: 0.0719778\ttotal: 68.8ms\tremaining: 15.1ms\n",
      "82:\tlearn: 0.0711759\ttotal: 69ms\tremaining: 14.1ms\n",
      "83:\tlearn: 0.0704925\ttotal: 69.1ms\tremaining: 13.2ms\n",
      "84:\tlearn: 0.0698389\ttotal: 69.3ms\tremaining: 12.2ms\n",
      "85:\tlearn: 0.0692699\ttotal: 69.4ms\tremaining: 11.3ms\n",
      "86:\tlearn: 0.0687463\ttotal: 69.5ms\tremaining: 10.4ms\n",
      "87:\tlearn: 0.0681588\ttotal: 69.7ms\tremaining: 9.5ms\n",
      "88:\tlearn: 0.0677033\ttotal: 69.8ms\tremaining: 8.63ms\n",
      "89:\tlearn: 0.0671804\ttotal: 70ms\tremaining: 7.78ms\n",
      "90:\tlearn: 0.0666613\ttotal: 70.1ms\tremaining: 6.94ms\n",
      "91:\tlearn: 0.0660001\ttotal: 70.3ms\tremaining: 6.11ms\n",
      "92:\tlearn: 0.0654543\ttotal: 70.4ms\tremaining: 5.3ms\n",
      "93:\tlearn: 0.0648672\ttotal: 70.6ms\tremaining: 4.5ms\n",
      "94:\tlearn: 0.0642763\ttotal: 70.7ms\tremaining: 3.72ms\n",
      "95:\tlearn: 0.0637028\ttotal: 70.9ms\tremaining: 2.95ms\n",
      "96:\tlearn: 0.0631589\ttotal: 71ms\tremaining: 2.2ms\n",
      "97:\tlearn: 0.0626244\ttotal: 71.9ms\tremaining: 1.47ms\n",
      "98:\tlearn: 0.0620703\ttotal: 72.1ms\tremaining: 728us\n",
      "99:\tlearn: 0.0615739\ttotal: 72.2ms\tremaining: 0us\n",
      "[1 0 0 0 1 0 0 1 0 1 0 0 0 0 1 0 0 0 1 0] Exact\n",
      "[1 0 0 0 1 0 1 1 0 1 0 0 0 0 1 0 0 0 1 0] Predicted\n"
     ]
    }
   ],
   "source": [
    "# Fit the CatBoost Classifier pipeline on the training set and evaluate on the test set\n",
    "cat_pipeline.fit(X_train, y_train)\n",
    "\n",
    "# Print a few results\n",
    "print(np.array(y_test)[:20],\"Exact\")\n",
    "print(cat_pipeline.predict(X_test)[:20],\"Predicted\")"
   ]
  },
  {
   "cell_type": "code",
   "execution_count": 94,
   "metadata": {
    "id": "60tXiOQkvEqf"
   },
   "outputs": [
    {
     "name": "stdout",
     "output_type": "stream",
     "text": [
      "CatBoost Classifier test accuracy:  0.9571428571428572\n"
     ]
    }
   ],
   "source": [
    "cat_test_score = cat_pipeline.score(X_test, y_test)\n",
    "print(\"CatBoost Classifier test accuracy: \", cat_test_score)"
   ]
  },
  {
   "cell_type": "code",
   "execution_count": 95,
   "metadata": {
    "id": "K40-53DzvCok"
   },
   "outputs": [
    {
     "name": "stdout",
     "output_type": "stream",
     "text": [
      "Learning rate set to 0.063461\n",
      "0:\tlearn: 0.6507199\ttotal: 238us\tremaining: 23.6ms\n",
      "1:\tlearn: 0.6115894\ttotal: 386us\tremaining: 18.9ms\n",
      "2:\tlearn: 0.5753692\ttotal: 523us\tremaining: 16.9ms\n",
      "3:\tlearn: 0.5420673\ttotal: 662us\tremaining: 15.9ms\n",
      "4:\tlearn: 0.5140598\ttotal: 794us\tremaining: 15.1ms\n",
      "5:\tlearn: 0.4879655\ttotal: 939us\tremaining: 14.7ms\n",
      "6:\tlearn: 0.4626604\ttotal: 1.07ms\tremaining: 14.2ms\n",
      "7:\tlearn: 0.4390682\ttotal: 1.23ms\tremaining: 14.2ms\n",
      "8:\tlearn: 0.4176429\ttotal: 1.37ms\tremaining: 13.9ms\n",
      "9:\tlearn: 0.3986945\ttotal: 1.52ms\tremaining: 13.7ms\n",
      "10:\tlearn: 0.3792685\ttotal: 1.64ms\tremaining: 13.3ms\n",
      "11:\tlearn: 0.3618851\ttotal: 1.76ms\tremaining: 12.9ms\n",
      "12:\tlearn: 0.3456041\ttotal: 1.91ms\tremaining: 12.8ms\n",
      "13:\tlearn: 0.3282179\ttotal: 2.04ms\tremaining: 12.5ms\n",
      "14:\tlearn: 0.3138785\ttotal: 2.19ms\tremaining: 12.4ms\n",
      "15:\tlearn: 0.3005735\ttotal: 2.33ms\tremaining: 12.2ms\n",
      "16:\tlearn: 0.2890496\ttotal: 2.47ms\tremaining: 12.1ms\n",
      "17:\tlearn: 0.2769646\ttotal: 2.63ms\tremaining: 12ms\n",
      "18:\tlearn: 0.2659762\ttotal: 2.78ms\tremaining: 11.9ms\n",
      "19:\tlearn: 0.2560344\ttotal: 2.92ms\tremaining: 11.7ms\n",
      "20:\tlearn: 0.2468460\ttotal: 3.05ms\tremaining: 11.5ms\n",
      "21:\tlearn: 0.2377488\ttotal: 3.19ms\tremaining: 11.3ms\n",
      "22:\tlearn: 0.2296722\ttotal: 3.29ms\tremaining: 11ms\n",
      "23:\tlearn: 0.2215466\ttotal: 3.42ms\tremaining: 10.8ms\n",
      "24:\tlearn: 0.2132623\ttotal: 3.56ms\tremaining: 10.7ms\n",
      "25:\tlearn: 0.2062308\ttotal: 3.69ms\tremaining: 10.5ms\n",
      "26:\tlearn: 0.1995656\ttotal: 3.86ms\tremaining: 10.4ms\n",
      "27:\tlearn: 0.1933706\ttotal: 4ms\tremaining: 10.3ms\n",
      "28:\tlearn: 0.1878128\ttotal: 4.14ms\tremaining: 10.1ms\n",
      "29:\tlearn: 0.1816462\ttotal: 4.27ms\tremaining: 9.97ms\n",
      "30:\tlearn: 0.1767245\ttotal: 4.4ms\tremaining: 9.79ms\n",
      "31:\tlearn: 0.1714311\ttotal: 4.54ms\tremaining: 9.65ms\n",
      "32:\tlearn: 0.1668503\ttotal: 4.69ms\tremaining: 9.52ms\n",
      "33:\tlearn: 0.1614026\ttotal: 4.77ms\tremaining: 9.27ms\n",
      "34:\tlearn: 0.1573570\ttotal: 4.9ms\tremaining: 9.11ms\n",
      "35:\tlearn: 0.1532688\ttotal: 5.05ms\tremaining: 8.97ms\n",
      "36:\tlearn: 0.1494103\ttotal: 5.18ms\tremaining: 8.83ms\n",
      "37:\tlearn: 0.1452494\ttotal: 5.32ms\tremaining: 8.68ms\n",
      "38:\tlearn: 0.1415700\ttotal: 5.45ms\tremaining: 8.53ms\n",
      "39:\tlearn: 0.1381717\ttotal: 5.59ms\tremaining: 8.39ms\n",
      "40:\tlearn: 0.1353444\ttotal: 5.71ms\tremaining: 8.22ms\n",
      "41:\tlearn: 0.1323619\ttotal: 5.85ms\tremaining: 8.08ms\n",
      "42:\tlearn: 0.1294507\ttotal: 5.98ms\tremaining: 7.93ms\n",
      "43:\tlearn: 0.1270913\ttotal: 6.13ms\tremaining: 7.79ms\n",
      "44:\tlearn: 0.1245410\ttotal: 6.27ms\tremaining: 7.66ms\n",
      "45:\tlearn: 0.1221700\ttotal: 6.41ms\tremaining: 7.53ms\n",
      "46:\tlearn: 0.1196151\ttotal: 6.54ms\tremaining: 7.38ms\n",
      "47:\tlearn: 0.1173925\ttotal: 6.68ms\tremaining: 7.23ms\n",
      "48:\tlearn: 0.1151418\ttotal: 6.8ms\tremaining: 7.08ms\n",
      "49:\tlearn: 0.1131771\ttotal: 6.94ms\tremaining: 6.94ms\n",
      "50:\tlearn: 0.1112301\ttotal: 7.07ms\tremaining: 6.79ms\n",
      "51:\tlearn: 0.1095328\ttotal: 7.2ms\tremaining: 6.65ms\n",
      "52:\tlearn: 0.1074480\ttotal: 7.93ms\tremaining: 7.03ms\n",
      "53:\tlearn: 0.1057452\ttotal: 8.07ms\tremaining: 6.87ms\n",
      "54:\tlearn: 0.1039727\ttotal: 8.21ms\tremaining: 6.72ms\n",
      "55:\tlearn: 0.1025021\ttotal: 8.34ms\tremaining: 6.55ms\n",
      "56:\tlearn: 0.1009229\ttotal: 8.48ms\tremaining: 6.4ms\n",
      "57:\tlearn: 0.0992985\ttotal: 8.62ms\tremaining: 6.24ms\n",
      "58:\tlearn: 0.0980444\ttotal: 8.77ms\tremaining: 6.09ms\n",
      "59:\tlearn: 0.0968011\ttotal: 8.92ms\tremaining: 5.94ms\n",
      "60:\tlearn: 0.0953845\ttotal: 9.05ms\tremaining: 5.79ms\n",
      "61:\tlearn: 0.0937844\ttotal: 9.18ms\tremaining: 5.63ms\n",
      "62:\tlearn: 0.0924807\ttotal: 9.31ms\tremaining: 5.47ms\n",
      "63:\tlearn: 0.0913278\ttotal: 9.45ms\tremaining: 5.31ms\n",
      "64:\tlearn: 0.0903853\ttotal: 9.59ms\tremaining: 5.16ms\n",
      "65:\tlearn: 0.0889958\ttotal: 9.72ms\tremaining: 5.01ms\n",
      "66:\tlearn: 0.0873871\ttotal: 9.86ms\tremaining: 4.86ms\n",
      "67:\tlearn: 0.0859708\ttotal: 10ms\tremaining: 4.72ms\n",
      "68:\tlearn: 0.0844787\ttotal: 10.2ms\tremaining: 4.57ms\n",
      "69:\tlearn: 0.0836111\ttotal: 10.3ms\tremaining: 4.42ms\n",
      "70:\tlearn: 0.0825942\ttotal: 10.4ms\tremaining: 4.26ms\n",
      "71:\tlearn: 0.0813081\ttotal: 10.6ms\tremaining: 4.11ms\n",
      "72:\tlearn: 0.0804563\ttotal: 10.7ms\tremaining: 3.96ms\n",
      "73:\tlearn: 0.0793033\ttotal: 10.9ms\tremaining: 3.81ms\n",
      "74:\tlearn: 0.0782875\ttotal: 11ms\tremaining: 3.66ms\n",
      "75:\tlearn: 0.0774671\ttotal: 11.1ms\tremaining: 3.51ms\n",
      "76:\tlearn: 0.0766811\ttotal: 11.3ms\tremaining: 3.36ms\n",
      "77:\tlearn: 0.0761232\ttotal: 11.4ms\tremaining: 3.21ms\n",
      "78:\tlearn: 0.0750394\ttotal: 11.5ms\tremaining: 3.07ms\n",
      "79:\tlearn: 0.0743262\ttotal: 11.7ms\tremaining: 2.92ms\n",
      "80:\tlearn: 0.0735192\ttotal: 11.8ms\tremaining: 2.77ms\n",
      "81:\tlearn: 0.0728219\ttotal: 12ms\tremaining: 2.63ms\n",
      "82:\tlearn: 0.0721147\ttotal: 12.1ms\tremaining: 2.48ms\n",
      "83:\tlearn: 0.0714295\ttotal: 12.3ms\tremaining: 2.34ms\n",
      "84:\tlearn: 0.0707398\ttotal: 12.4ms\tremaining: 2.19ms\n",
      "85:\tlearn: 0.0698748\ttotal: 12.6ms\tremaining: 2.05ms\n",
      "86:\tlearn: 0.0692261\ttotal: 12.7ms\tremaining: 1.9ms\n",
      "87:\tlearn: 0.0688017\ttotal: 12.9ms\tremaining: 1.75ms\n",
      "88:\tlearn: 0.0681307\ttotal: 13ms\tremaining: 1.6ms\n",
      "89:\tlearn: 0.0673379\ttotal: 13.1ms\tremaining: 1.46ms\n",
      "90:\tlearn: 0.0667830\ttotal: 13.3ms\tremaining: 1.31ms\n",
      "91:\tlearn: 0.0660836\ttotal: 13.4ms\tremaining: 1.16ms\n",
      "92:\tlearn: 0.0654412\ttotal: 13.5ms\tremaining: 1.02ms\n",
      "93:\tlearn: 0.0647838\ttotal: 13.7ms\tremaining: 872us\n",
      "94:\tlearn: 0.0641819\ttotal: 13.8ms\tremaining: 725us\n",
      "95:\tlearn: 0.0635701\ttotal: 13.9ms\tremaining: 580us\n",
      "96:\tlearn: 0.0629447\ttotal: 14.1ms\tremaining: 435us\n",
      "97:\tlearn: 0.0621564\ttotal: 14.2ms\tremaining: 289us\n",
      "98:\tlearn: 0.0617081\ttotal: 14.4ms\tremaining: 145us\n",
      "99:\tlearn: 0.0608413\ttotal: 14.5ms\tremaining: 0us\n",
      "Learning rate set to 0.063461\n",
      "0:\tlearn: 0.6517599\ttotal: 146us\tremaining: 14.5ms\n",
      "1:\tlearn: 0.6117174\ttotal: 245us\tremaining: 12ms\n",
      "2:\tlearn: 0.5764839\ttotal: 382us\tremaining: 12.4ms\n",
      "3:\tlearn: 0.5433596\ttotal: 507us\tremaining: 12.2ms\n",
      "4:\tlearn: 0.5132317\ttotal: 634us\tremaining: 12.1ms\n",
      "5:\tlearn: 0.4859731\ttotal: 780us\tremaining: 12.2ms\n",
      "6:\tlearn: 0.4619550\ttotal: 912us\tremaining: 12.1ms\n",
      "7:\tlearn: 0.4398050\ttotal: 1.06ms\tremaining: 12.2ms\n",
      "8:\tlearn: 0.4186871\ttotal: 1.2ms\tremaining: 12.1ms\n",
      "9:\tlearn: 0.3975194\ttotal: 1.31ms\tremaining: 11.8ms\n",
      "10:\tlearn: 0.3790412\ttotal: 1.46ms\tremaining: 11.8ms\n",
      "11:\tlearn: 0.3624164\ttotal: 1.6ms\tremaining: 11.8ms\n",
      "12:\tlearn: 0.3454971\ttotal: 1.75ms\tremaining: 11.7ms\n",
      "13:\tlearn: 0.3300390\ttotal: 1.89ms\tremaining: 11.6ms\n",
      "14:\tlearn: 0.3152748\ttotal: 2.02ms\tremaining: 11.4ms\n",
      "15:\tlearn: 0.3025684\ttotal: 2.18ms\tremaining: 11.4ms\n",
      "16:\tlearn: 0.2898253\ttotal: 2.32ms\tremaining: 11.3ms\n",
      "17:\tlearn: 0.2793112\ttotal: 2.46ms\tremaining: 11.2ms\n",
      "18:\tlearn: 0.2685331\ttotal: 2.59ms\tremaining: 11.1ms\n",
      "19:\tlearn: 0.2578666\ttotal: 2.73ms\tremaining: 10.9ms\n",
      "20:\tlearn: 0.2479348\ttotal: 2.86ms\tremaining: 10.8ms\n",
      "21:\tlearn: 0.2396469\ttotal: 2.99ms\tremaining: 10.6ms\n",
      "22:\tlearn: 0.2313579\ttotal: 3.13ms\tremaining: 10.5ms\n",
      "23:\tlearn: 0.2239494\ttotal: 3.27ms\tremaining: 10.4ms\n",
      "24:\tlearn: 0.2165175\ttotal: 3.4ms\tremaining: 10.2ms\n",
      "25:\tlearn: 0.2102655\ttotal: 3.55ms\tremaining: 10.1ms\n",
      "26:\tlearn: 0.2032095\ttotal: 3.66ms\tremaining: 9.89ms\n",
      "27:\tlearn: 0.1969931\ttotal: 3.77ms\tremaining: 9.71ms\n",
      "28:\tlearn: 0.1914052\ttotal: 3.9ms\tremaining: 9.55ms\n",
      "29:\tlearn: 0.1856671\ttotal: 4.05ms\tremaining: 9.46ms\n",
      "30:\tlearn: 0.1807855\ttotal: 4.21ms\tremaining: 9.36ms\n",
      "31:\tlearn: 0.1759311\ttotal: 4.36ms\tremaining: 9.27ms\n",
      "32:\tlearn: 0.1712071\ttotal: 4.5ms\tremaining: 9.13ms\n",
      "33:\tlearn: 0.1661055\ttotal: 4.64ms\tremaining: 9.01ms\n",
      "34:\tlearn: 0.1617130\ttotal: 4.78ms\tremaining: 8.87ms\n",
      "35:\tlearn: 0.1580416\ttotal: 4.91ms\tremaining: 8.73ms\n",
      "36:\tlearn: 0.1541002\ttotal: 5.04ms\tremaining: 8.59ms\n",
      "37:\tlearn: 0.1509407\ttotal: 5.18ms\tremaining: 8.45ms\n",
      "38:\tlearn: 0.1473619\ttotal: 5.3ms\tremaining: 8.29ms\n",
      "39:\tlearn: 0.1440213\ttotal: 5.44ms\tremaining: 8.17ms\n",
      "40:\tlearn: 0.1410744\ttotal: 5.58ms\tremaining: 8.03ms\n",
      "41:\tlearn: 0.1379647\ttotal: 5.7ms\tremaining: 7.88ms\n",
      "42:\tlearn: 0.1351551\ttotal: 5.84ms\tremaining: 7.74ms\n",
      "43:\tlearn: 0.1321685\ttotal: 5.98ms\tremaining: 7.61ms\n",
      "44:\tlearn: 0.1295079\ttotal: 6.13ms\tremaining: 7.49ms\n",
      "45:\tlearn: 0.1267932\ttotal: 6.25ms\tremaining: 7.34ms\n",
      "46:\tlearn: 0.1242515\ttotal: 6.39ms\tremaining: 7.21ms\n",
      "47:\tlearn: 0.1214274\ttotal: 6.56ms\tremaining: 7.11ms\n",
      "48:\tlearn: 0.1192507\ttotal: 6.7ms\tremaining: 6.97ms\n",
      "49:\tlearn: 0.1173353\ttotal: 6.83ms\tremaining: 6.83ms\n",
      "50:\tlearn: 0.1150591\ttotal: 6.97ms\tremaining: 6.7ms\n",
      "51:\tlearn: 0.1130924\ttotal: 7.1ms\tremaining: 6.55ms\n",
      "52:\tlearn: 0.1110960\ttotal: 7.24ms\tremaining: 6.42ms\n",
      "53:\tlearn: 0.1093368\ttotal: 7.38ms\tremaining: 6.29ms\n",
      "54:\tlearn: 0.1075216\ttotal: 7.52ms\tremaining: 6.15ms\n",
      "55:\tlearn: 0.1061029\ttotal: 7.67ms\tremaining: 6.03ms\n",
      "56:\tlearn: 0.1043415\ttotal: 7.81ms\tremaining: 5.89ms\n",
      "57:\tlearn: 0.1027244\ttotal: 7.94ms\tremaining: 5.75ms\n",
      "58:\tlearn: 0.1010726\ttotal: 8.07ms\tremaining: 5.61ms\n",
      "59:\tlearn: 0.0994557\ttotal: 8.22ms\tremaining: 5.48ms\n",
      "60:\tlearn: 0.0976615\ttotal: 8.36ms\tremaining: 5.34ms\n",
      "61:\tlearn: 0.0966462\ttotal: 8.49ms\tremaining: 5.2ms\n",
      "62:\tlearn: 0.0952968\ttotal: 8.63ms\tremaining: 5.07ms\n",
      "63:\tlearn: 0.0938245\ttotal: 8.77ms\tremaining: 4.93ms\n",
      "64:\tlearn: 0.0926070\ttotal: 8.92ms\tremaining: 4.8ms\n",
      "65:\tlearn: 0.0909401\ttotal: 9.04ms\tremaining: 4.66ms\n",
      "66:\tlearn: 0.0899079\ttotal: 9.2ms\tremaining: 4.53ms\n",
      "67:\tlearn: 0.0888134\ttotal: 9.35ms\tremaining: 4.4ms\n",
      "68:\tlearn: 0.0874574\ttotal: 9.49ms\tremaining: 4.26ms\n",
      "69:\tlearn: 0.0860436\ttotal: 9.74ms\tremaining: 4.17ms\n",
      "70:\tlearn: 0.0850759\ttotal: 10.6ms\tremaining: 4.32ms\n",
      "71:\tlearn: 0.0841883\ttotal: 10.7ms\tremaining: 4.17ms\n",
      "72:\tlearn: 0.0831461\ttotal: 10.9ms\tremaining: 4.02ms\n",
      "73:\tlearn: 0.0823241\ttotal: 11ms\tremaining: 3.87ms\n",
      "74:\tlearn: 0.0813206\ttotal: 11.1ms\tremaining: 3.71ms\n",
      "75:\tlearn: 0.0803057\ttotal: 11.3ms\tremaining: 3.57ms\n",
      "76:\tlearn: 0.0795612\ttotal: 11.5ms\tremaining: 3.42ms\n",
      "77:\tlearn: 0.0789933\ttotal: 11.6ms\tremaining: 3.27ms\n",
      "78:\tlearn: 0.0780304\ttotal: 11.7ms\tremaining: 3.12ms\n",
      "79:\tlearn: 0.0771900\ttotal: 11.9ms\tremaining: 2.96ms\n",
      "80:\tlearn: 0.0764634\ttotal: 12ms\tremaining: 2.81ms\n",
      "81:\tlearn: 0.0758105\ttotal: 12.1ms\tremaining: 2.67ms\n",
      "82:\tlearn: 0.0752316\ttotal: 12.3ms\tremaining: 2.52ms\n",
      "83:\tlearn: 0.0744485\ttotal: 12.5ms\tremaining: 2.37ms\n",
      "84:\tlearn: 0.0737993\ttotal: 12.6ms\tremaining: 2.22ms\n",
      "85:\tlearn: 0.0729038\ttotal: 12.7ms\tremaining: 2.07ms\n",
      "86:\tlearn: 0.0720440\ttotal: 12.9ms\tremaining: 1.92ms\n",
      "87:\tlearn: 0.0714257\ttotal: 13ms\tremaining: 1.77ms\n",
      "88:\tlearn: 0.0709205\ttotal: 13.1ms\tremaining: 1.62ms\n",
      "89:\tlearn: 0.0704070\ttotal: 13.3ms\tremaining: 1.48ms\n",
      "90:\tlearn: 0.0698579\ttotal: 13.4ms\tremaining: 1.33ms\n",
      "91:\tlearn: 0.0689916\ttotal: 13.6ms\tremaining: 1.18ms\n",
      "92:\tlearn: 0.0681723\ttotal: 13.7ms\tremaining: 1.03ms\n",
      "93:\tlearn: 0.0676962\ttotal: 13.9ms\tremaining: 885us\n",
      "94:\tlearn: 0.0673212\ttotal: 14ms\tremaining: 737us\n",
      "95:\tlearn: 0.0669054\ttotal: 14.1ms\tremaining: 589us\n",
      "96:\tlearn: 0.0663237\ttotal: 14.3ms\tremaining: 442us\n",
      "97:\tlearn: 0.0657048\ttotal: 14.4ms\tremaining: 294us\n",
      "98:\tlearn: 0.0651874\ttotal: 14.6ms\tremaining: 147us\n",
      "99:\tlearn: 0.0647418\ttotal: 14.7ms\tremaining: 0us\n",
      "Learning rate set to 0.063461\n",
      "0:\tlearn: 0.6491793\ttotal: 151us\tremaining: 15ms\n",
      "1:\tlearn: 0.6095736\ttotal: 292us\tremaining: 14.3ms\n",
      "2:\tlearn: 0.5726794\ttotal: 433us\tremaining: 14ms\n",
      "3:\tlearn: 0.5401532\ttotal: 559us\tremaining: 13.4ms\n",
      "4:\tlearn: 0.5127375\ttotal: 687us\tremaining: 13.1ms\n",
      "5:\tlearn: 0.4866264\ttotal: 818us\tremaining: 12.8ms\n",
      "6:\tlearn: 0.4612508\ttotal: 950us\tremaining: 12.6ms\n",
      "7:\tlearn: 0.4371839\ttotal: 1.09ms\tremaining: 12.6ms\n",
      "8:\tlearn: 0.4147256\ttotal: 1.23ms\tremaining: 12.4ms\n",
      "9:\tlearn: 0.3952343\ttotal: 1.36ms\tremaining: 12.3ms\n",
      "10:\tlearn: 0.3753190\ttotal: 1.49ms\tremaining: 12.1ms\n",
      "11:\tlearn: 0.3575630\ttotal: 1.64ms\tremaining: 12ms\n",
      "12:\tlearn: 0.3394161\ttotal: 1.73ms\tremaining: 11.6ms\n",
      "13:\tlearn: 0.3231885\ttotal: 1.88ms\tremaining: 11.6ms\n",
      "14:\tlearn: 0.3082251\ttotal: 2.02ms\tremaining: 11.4ms\n",
      "15:\tlearn: 0.2952294\ttotal: 2.16ms\tremaining: 11.3ms\n",
      "16:\tlearn: 0.2820474\ttotal: 2.29ms\tremaining: 11.2ms\n",
      "17:\tlearn: 0.2713517\ttotal: 2.42ms\tremaining: 11ms\n",
      "18:\tlearn: 0.2602609\ttotal: 2.55ms\tremaining: 10.9ms\n",
      "19:\tlearn: 0.2495957\ttotal: 2.7ms\tremaining: 10.8ms\n",
      "20:\tlearn: 0.2393400\ttotal: 2.83ms\tremaining: 10.7ms\n",
      "21:\tlearn: 0.2311259\ttotal: 2.97ms\tremaining: 10.5ms\n",
      "22:\tlearn: 0.2225404\ttotal: 3.14ms\tremaining: 10.5ms\n",
      "23:\tlearn: 0.2150716\ttotal: 3.26ms\tremaining: 10.3ms\n",
      "24:\tlearn: 0.2076227\ttotal: 3.41ms\tremaining: 10.2ms\n",
      "25:\tlearn: 0.2006179\ttotal: 3.54ms\tremaining: 10.1ms\n",
      "26:\tlearn: 0.1935795\ttotal: 3.69ms\tremaining: 9.96ms\n",
      "27:\tlearn: 0.1875583\ttotal: 3.82ms\tremaining: 9.83ms\n",
      "28:\tlearn: 0.1815517\ttotal: 4.01ms\tremaining: 9.81ms\n",
      "29:\tlearn: 0.1757018\ttotal: 4.26ms\tremaining: 9.93ms\n",
      "30:\tlearn: 0.1704764\ttotal: 4.4ms\tremaining: 9.79ms\n",
      "31:\tlearn: 0.1651419\ttotal: 4.55ms\tremaining: 9.67ms\n",
      "32:\tlearn: 0.1600840\ttotal: 4.68ms\tremaining: 9.51ms\n",
      "33:\tlearn: 0.1549813\ttotal: 4.78ms\tremaining: 9.29ms\n",
      "34:\tlearn: 0.1508393\ttotal: 4.92ms\tremaining: 9.14ms\n",
      "35:\tlearn: 0.1465010\ttotal: 5.08ms\tremaining: 9.02ms\n",
      "36:\tlearn: 0.1427923\ttotal: 5.21ms\tremaining: 8.87ms\n",
      "37:\tlearn: 0.1385279\ttotal: 5.36ms\tremaining: 8.74ms\n",
      "38:\tlearn: 0.1350976\ttotal: 5.5ms\tremaining: 8.61ms\n",
      "39:\tlearn: 0.1313098\ttotal: 5.65ms\tremaining: 8.47ms\n",
      "40:\tlearn: 0.1281679\ttotal: 5.78ms\tremaining: 8.32ms\n",
      "41:\tlearn: 0.1254691\ttotal: 5.94ms\tremaining: 8.2ms\n",
      "42:\tlearn: 0.1226285\ttotal: 6.07ms\tremaining: 8.04ms\n",
      "43:\tlearn: 0.1196699\ttotal: 6.2ms\tremaining: 7.9ms\n",
      "44:\tlearn: 0.1173396\ttotal: 6.35ms\tremaining: 7.76ms\n",
      "45:\tlearn: 0.1145791\ttotal: 6.49ms\tremaining: 7.62ms\n",
      "46:\tlearn: 0.1120816\ttotal: 6.62ms\tremaining: 7.47ms\n",
      "47:\tlearn: 0.1098353\ttotal: 6.77ms\tremaining: 7.33ms\n",
      "48:\tlearn: 0.1076726\ttotal: 6.93ms\tremaining: 7.22ms\n",
      "49:\tlearn: 0.1056353\ttotal: 7.1ms\tremaining: 7.1ms\n",
      "50:\tlearn: 0.1035666\ttotal: 7.24ms\tremaining: 6.96ms\n",
      "51:\tlearn: 0.1015687\ttotal: 7.38ms\tremaining: 6.81ms\n",
      "52:\tlearn: 0.0993096\ttotal: 7.5ms\tremaining: 6.65ms\n",
      "53:\tlearn: 0.0974823\ttotal: 7.62ms\tremaining: 6.49ms\n",
      "54:\tlearn: 0.0957311\ttotal: 7.77ms\tremaining: 6.36ms\n",
      "55:\tlearn: 0.0942511\ttotal: 7.89ms\tremaining: 6.2ms\n",
      "56:\tlearn: 0.0925333\ttotal: 8.04ms\tremaining: 6.06ms\n",
      "57:\tlearn: 0.0909464\ttotal: 8.18ms\tremaining: 5.92ms\n",
      "58:\tlearn: 0.0896542\ttotal: 8.3ms\tremaining: 5.77ms\n",
      "59:\tlearn: 0.0882592\ttotal: 8.44ms\tremaining: 5.62ms\n",
      "60:\tlearn: 0.0868300\ttotal: 8.56ms\tremaining: 5.47ms\n",
      "61:\tlearn: 0.0853626\ttotal: 8.71ms\tremaining: 5.34ms\n",
      "62:\tlearn: 0.0841942\ttotal: 8.83ms\tremaining: 5.19ms\n",
      "63:\tlearn: 0.0831558\ttotal: 9ms\tremaining: 5.06ms\n",
      "64:\tlearn: 0.0822210\ttotal: 9.16ms\tremaining: 4.93ms\n",
      "65:\tlearn: 0.0809045\ttotal: 9.32ms\tremaining: 4.8ms\n",
      "66:\tlearn: 0.0796961\ttotal: 9.45ms\tremaining: 4.65ms\n",
      "67:\tlearn: 0.0784537\ttotal: 9.58ms\tremaining: 4.51ms\n",
      "68:\tlearn: 0.0773506\ttotal: 9.7ms\tremaining: 4.36ms\n",
      "69:\tlearn: 0.0763386\ttotal: 9.84ms\tremaining: 4.21ms\n",
      "70:\tlearn: 0.0754937\ttotal: 9.97ms\tremaining: 4.07ms\n",
      "71:\tlearn: 0.0745298\ttotal: 10.1ms\tremaining: 3.93ms\n",
      "72:\tlearn: 0.0735231\ttotal: 10.2ms\tremaining: 3.78ms\n",
      "73:\tlearn: 0.0725642\ttotal: 10.4ms\tremaining: 3.65ms\n",
      "74:\tlearn: 0.0718150\ttotal: 10.5ms\tremaining: 3.5ms\n",
      "75:\tlearn: 0.0709898\ttotal: 10.6ms\tremaining: 3.36ms\n",
      "76:\tlearn: 0.0700916\ttotal: 10.8ms\tremaining: 3.23ms\n",
      "77:\tlearn: 0.0691677\ttotal: 10.9ms\tremaining: 3.08ms\n",
      "78:\tlearn: 0.0681913\ttotal: 11.1ms\tremaining: 2.94ms\n",
      "79:\tlearn: 0.0673996\ttotal: 11.2ms\tremaining: 2.79ms\n",
      "80:\tlearn: 0.0664533\ttotal: 11.3ms\tremaining: 2.65ms\n",
      "81:\tlearn: 0.0658516\ttotal: 11.5ms\tremaining: 2.52ms\n",
      "82:\tlearn: 0.0650694\ttotal: 11.6ms\tremaining: 2.38ms\n",
      "83:\tlearn: 0.0641297\ttotal: 11.7ms\tremaining: 2.23ms\n",
      "84:\tlearn: 0.0634011\ttotal: 11.9ms\tremaining: 2.09ms\n",
      "85:\tlearn: 0.0626271\ttotal: 12ms\tremaining: 1.95ms\n",
      "86:\tlearn: 0.0620304\ttotal: 12.1ms\tremaining: 1.81ms\n",
      "87:\tlearn: 0.0612864\ttotal: 12.3ms\tremaining: 1.67ms\n",
      "88:\tlearn: 0.0605785\ttotal: 12.4ms\tremaining: 1.53ms\n",
      "89:\tlearn: 0.0600157\ttotal: 12.6ms\tremaining: 1.4ms\n",
      "90:\tlearn: 0.0593730\ttotal: 12.7ms\tremaining: 1.26ms\n",
      "91:\tlearn: 0.0586604\ttotal: 12.8ms\tremaining: 1.12ms\n",
      "92:\tlearn: 0.0580450\ttotal: 13ms\tremaining: 975us\n",
      "93:\tlearn: 0.0572541\ttotal: 13.1ms\tremaining: 834us\n",
      "94:\tlearn: 0.0566865\ttotal: 13.2ms\tremaining: 695us\n",
      "95:\tlearn: 0.0561588\ttotal: 13.3ms\tremaining: 556us\n",
      "96:\tlearn: 0.0553920\ttotal: 13.5ms\tremaining: 417us\n",
      "97:\tlearn: 0.0547648\ttotal: 13.6ms\tremaining: 277us\n",
      "98:\tlearn: 0.0542214\ttotal: 13.7ms\tremaining: 138us\n",
      "99:\tlearn: 0.0537692\ttotal: 13.9ms\tremaining: 0us\n",
      "Learning rate set to 0.063461\n",
      "0:\tlearn: 0.6523276\ttotal: 134us\tremaining: 13.3ms\n",
      "1:\tlearn: 0.6115822\ttotal: 224us\tremaining: 11ms\n",
      "2:\tlearn: 0.5751066\ttotal: 387us\tremaining: 12.5ms\n",
      "3:\tlearn: 0.5420605\ttotal: 526us\tremaining: 12.6ms\n",
      "4:\tlearn: 0.5121638\ttotal: 701us\tremaining: 13.3ms\n",
      "5:\tlearn: 0.4852737\ttotal: 837us\tremaining: 13.1ms\n",
      "6:\tlearn: 0.4608687\ttotal: 961us\tremaining: 12.8ms\n",
      "7:\tlearn: 0.4389824\ttotal: 1.1ms\tremaining: 12.7ms\n",
      "8:\tlearn: 0.4179835\ttotal: 1.24ms\tremaining: 12.5ms\n",
      "9:\tlearn: 0.3969305\ttotal: 1.33ms\tremaining: 12ms\n",
      "10:\tlearn: 0.3786831\ttotal: 1.46ms\tremaining: 11.8ms\n",
      "11:\tlearn: 0.3620160\ttotal: 1.59ms\tremaining: 11.7ms\n",
      "12:\tlearn: 0.3459772\ttotal: 1.9ms\tremaining: 12.7ms\n",
      "13:\tlearn: 0.3306242\ttotal: 2.08ms\tremaining: 12.8ms\n",
      "14:\tlearn: 0.3161895\ttotal: 2.22ms\tremaining: 12.6ms\n",
      "15:\tlearn: 0.3035540\ttotal: 2.35ms\tremaining: 12.3ms\n",
      "16:\tlearn: 0.2908115\ttotal: 2.48ms\tremaining: 12.1ms\n",
      "17:\tlearn: 0.2804410\ttotal: 2.62ms\tremaining: 11.9ms\n",
      "18:\tlearn: 0.2685024\ttotal: 2.74ms\tremaining: 11.7ms\n",
      "19:\tlearn: 0.2579999\ttotal: 2.89ms\tremaining: 11.6ms\n",
      "20:\tlearn: 0.2491066\ttotal: 3.04ms\tremaining: 11.4ms\n",
      "21:\tlearn: 0.2402814\ttotal: 3.18ms\tremaining: 11.3ms\n",
      "22:\tlearn: 0.2317865\ttotal: 3.33ms\tremaining: 11.1ms\n",
      "23:\tlearn: 0.2246066\ttotal: 3.46ms\tremaining: 11ms\n",
      "24:\tlearn: 0.2177803\ttotal: 3.6ms\tremaining: 10.8ms\n",
      "25:\tlearn: 0.2107903\ttotal: 3.75ms\tremaining: 10.7ms\n",
      "26:\tlearn: 0.2038763\ttotal: 3.89ms\tremaining: 10.5ms\n",
      "27:\tlearn: 0.1980802\ttotal: 4.01ms\tremaining: 10.3ms\n",
      "28:\tlearn: 0.1925310\ttotal: 4.17ms\tremaining: 10.2ms\n",
      "29:\tlearn: 0.1869215\ttotal: 4.31ms\tremaining: 10.1ms\n",
      "30:\tlearn: 0.1815702\ttotal: 4.44ms\tremaining: 9.89ms\n",
      "31:\tlearn: 0.1767701\ttotal: 4.59ms\tremaining: 9.75ms\n",
      "32:\tlearn: 0.1722626\ttotal: 4.71ms\tremaining: 9.57ms\n",
      "33:\tlearn: 0.1679754\ttotal: 4.84ms\tremaining: 9.4ms\n",
      "34:\tlearn: 0.1638422\ttotal: 4.98ms\tremaining: 9.26ms\n",
      "35:\tlearn: 0.1599147\ttotal: 5.12ms\tremaining: 9.1ms\n",
      "36:\tlearn: 0.1560629\ttotal: 5.25ms\tremaining: 8.95ms\n",
      "37:\tlearn: 0.1530850\ttotal: 5.39ms\tremaining: 8.79ms\n",
      "38:\tlearn: 0.1495831\ttotal: 5.52ms\tremaining: 8.63ms\n",
      "39:\tlearn: 0.1461744\ttotal: 5.65ms\tremaining: 8.47ms\n",
      "40:\tlearn: 0.1432491\ttotal: 5.79ms\tremaining: 8.34ms\n",
      "41:\tlearn: 0.1400211\ttotal: 5.93ms\tremaining: 8.2ms\n",
      "42:\tlearn: 0.1371529\ttotal: 6.08ms\tremaining: 8.06ms\n",
      "43:\tlearn: 0.1343634\ttotal: 6.22ms\tremaining: 7.92ms\n",
      "44:\tlearn: 0.1318988\ttotal: 6.37ms\tremaining: 7.78ms\n",
      "45:\tlearn: 0.1293516\ttotal: 6.51ms\tremaining: 7.64ms\n",
      "46:\tlearn: 0.1268012\ttotal: 6.66ms\tremaining: 7.51ms\n",
      "47:\tlearn: 0.1240989\ttotal: 6.79ms\tremaining: 7.36ms\n",
      "48:\tlearn: 0.1219219\ttotal: 6.93ms\tremaining: 7.21ms\n",
      "49:\tlearn: 0.1199416\ttotal: 7.03ms\tremaining: 7.03ms\n",
      "50:\tlearn: 0.1176304\ttotal: 7.17ms\tremaining: 6.89ms\n",
      "51:\tlearn: 0.1154111\ttotal: 7.33ms\tremaining: 6.76ms\n",
      "52:\tlearn: 0.1135889\ttotal: 7.38ms\tremaining: 6.54ms\n",
      "53:\tlearn: 0.1119545\ttotal: 7.51ms\tremaining: 6.4ms\n",
      "54:\tlearn: 0.1099803\ttotal: 7.66ms\tremaining: 6.26ms\n",
      "55:\tlearn: 0.1084475\ttotal: 7.8ms\tremaining: 6.13ms\n",
      "56:\tlearn: 0.1066489\ttotal: 7.93ms\tremaining: 5.99ms\n",
      "57:\tlearn: 0.1050729\ttotal: 8.06ms\tremaining: 5.84ms\n",
      "58:\tlearn: 0.1038203\ttotal: 8.21ms\tremaining: 5.7ms\n",
      "59:\tlearn: 0.1023570\ttotal: 8.35ms\tremaining: 5.57ms\n",
      "60:\tlearn: 0.1007126\ttotal: 8.48ms\tremaining: 5.42ms\n",
      "61:\tlearn: 0.0994628\ttotal: 8.64ms\tremaining: 5.29ms\n",
      "62:\tlearn: 0.0980485\ttotal: 9.44ms\tremaining: 5.55ms\n",
      "63:\tlearn: 0.0968555\ttotal: 9.57ms\tremaining: 5.38ms\n",
      "64:\tlearn: 0.0955385\ttotal: 9.72ms\tremaining: 5.23ms\n",
      "65:\tlearn: 0.0943265\ttotal: 9.91ms\tremaining: 5.11ms\n",
      "66:\tlearn: 0.0932979\ttotal: 10.1ms\tremaining: 4.95ms\n",
      "67:\tlearn: 0.0920567\ttotal: 10.2ms\tremaining: 4.79ms\n",
      "68:\tlearn: 0.0911325\ttotal: 10.3ms\tremaining: 4.64ms\n",
      "69:\tlearn: 0.0900931\ttotal: 10.5ms\tremaining: 4.48ms\n",
      "70:\tlearn: 0.0890644\ttotal: 10.6ms\tremaining: 4.33ms\n",
      "71:\tlearn: 0.0880197\ttotal: 10.7ms\tremaining: 4.18ms\n",
      "72:\tlearn: 0.0871196\ttotal: 10.9ms\tremaining: 4.02ms\n",
      "73:\tlearn: 0.0861404\ttotal: 11ms\tremaining: 3.87ms\n",
      "74:\tlearn: 0.0854948\ttotal: 11.1ms\tremaining: 3.71ms\n",
      "75:\tlearn: 0.0845880\ttotal: 11.3ms\tremaining: 3.56ms\n",
      "76:\tlearn: 0.0837800\ttotal: 11.4ms\tremaining: 3.41ms\n",
      "77:\tlearn: 0.0827972\ttotal: 11.5ms\tremaining: 3.25ms\n",
      "78:\tlearn: 0.0817392\ttotal: 11.7ms\tremaining: 3.1ms\n",
      "79:\tlearn: 0.0808884\ttotal: 11.8ms\tremaining: 2.95ms\n",
      "80:\tlearn: 0.0800784\ttotal: 12ms\tremaining: 2.81ms\n",
      "81:\tlearn: 0.0790476\ttotal: 12.1ms\tremaining: 2.65ms\n",
      "82:\tlearn: 0.0784467\ttotal: 12.2ms\tremaining: 2.5ms\n",
      "83:\tlearn: 0.0779106\ttotal: 12.4ms\tremaining: 2.35ms\n",
      "84:\tlearn: 0.0772773\ttotal: 12.5ms\tremaining: 2.21ms\n",
      "85:\tlearn: 0.0764399\ttotal: 12.7ms\tremaining: 2.06ms\n",
      "86:\tlearn: 0.0757854\ttotal: 12.8ms\tremaining: 1.92ms\n",
      "87:\tlearn: 0.0752958\ttotal: 13ms\tremaining: 1.77ms\n",
      "88:\tlearn: 0.0745282\ttotal: 13.1ms\tremaining: 1.62ms\n",
      "89:\tlearn: 0.0738374\ttotal: 13.2ms\tremaining: 1.47ms\n",
      "90:\tlearn: 0.0732688\ttotal: 13.4ms\tremaining: 1.32ms\n",
      "91:\tlearn: 0.0727075\ttotal: 13.6ms\tremaining: 1.18ms\n",
      "92:\tlearn: 0.0722157\ttotal: 13.7ms\tremaining: 1.03ms\n",
      "93:\tlearn: 0.0718496\ttotal: 13.8ms\tremaining: 882us\n",
      "94:\tlearn: 0.0712479\ttotal: 14ms\tremaining: 734us\n",
      "95:\tlearn: 0.0704940\ttotal: 14.1ms\tremaining: 587us\n",
      "96:\tlearn: 0.0698714\ttotal: 14.2ms\tremaining: 440us\n",
      "97:\tlearn: 0.0693052\ttotal: 14.4ms\tremaining: 293us\n",
      "98:\tlearn: 0.0686775\ttotal: 14.5ms\tremaining: 146us\n",
      "99:\tlearn: 0.0682098\ttotal: 14.6ms\tremaining: 0us\n",
      "Learning rate set to 0.063461\n",
      "0:\tlearn: 0.6525978\ttotal: 159us\tremaining: 15.7ms\n",
      "1:\tlearn: 0.6132876\ttotal: 285us\tremaining: 14ms\n",
      "2:\tlearn: 0.5775076\ttotal: 431us\tremaining: 14ms\n",
      "3:\tlearn: 0.5450479\ttotal: 551us\tremaining: 13.2ms\n",
      "4:\tlearn: 0.5164277\ttotal: 701us\tremaining: 13.3ms\n",
      "5:\tlearn: 0.4883290\ttotal: 847us\tremaining: 13.3ms\n",
      "6:\tlearn: 0.4628749\ttotal: 984us\tremaining: 13.1ms\n",
      "7:\tlearn: 0.4395864\ttotal: 1.13ms\tremaining: 13ms\n",
      "8:\tlearn: 0.4171096\ttotal: 1.26ms\tremaining: 12.7ms\n",
      "9:\tlearn: 0.3979652\ttotal: 1.38ms\tremaining: 12.5ms\n",
      "10:\tlearn: 0.3785749\ttotal: 1.51ms\tremaining: 12.2ms\n",
      "11:\tlearn: 0.3606616\ttotal: 1.65ms\tremaining: 12.1ms\n",
      "12:\tlearn: 0.3442103\ttotal: 1.78ms\tremaining: 11.9ms\n",
      "13:\tlearn: 0.3289069\ttotal: 1.92ms\tremaining: 11.8ms\n",
      "14:\tlearn: 0.3150931\ttotal: 2.05ms\tremaining: 11.6ms\n",
      "15:\tlearn: 0.3018713\ttotal: 2.19ms\tremaining: 11.5ms\n",
      "16:\tlearn: 0.2900144\ttotal: 2.35ms\tremaining: 11.5ms\n",
      "17:\tlearn: 0.2785603\ttotal: 2.49ms\tremaining: 11.3ms\n",
      "18:\tlearn: 0.2681127\ttotal: 2.61ms\tremaining: 11.1ms\n",
      "19:\tlearn: 0.2576574\ttotal: 2.75ms\tremaining: 11ms\n",
      "20:\tlearn: 0.2480390\ttotal: 2.91ms\tremaining: 10.9ms\n",
      "21:\tlearn: 0.2390909\ttotal: 3.05ms\tremaining: 10.8ms\n",
      "22:\tlearn: 0.2309208\ttotal: 3.19ms\tremaining: 10.7ms\n",
      "23:\tlearn: 0.2225732\ttotal: 3.33ms\tremaining: 10.5ms\n",
      "24:\tlearn: 0.2158604\ttotal: 3.46ms\tremaining: 10.4ms\n",
      "25:\tlearn: 0.2089529\ttotal: 3.59ms\tremaining: 10.2ms\n",
      "26:\tlearn: 0.2020521\ttotal: 3.72ms\tremaining: 10.1ms\n",
      "27:\tlearn: 0.1964562\ttotal: 3.86ms\tremaining: 9.93ms\n",
      "28:\tlearn: 0.1901476\ttotal: 4.01ms\tremaining: 9.83ms\n",
      "29:\tlearn: 0.1851133\ttotal: 4.16ms\tremaining: 9.71ms\n",
      "30:\tlearn: 0.1797459\ttotal: 4.31ms\tremaining: 9.6ms\n",
      "31:\tlearn: 0.1754814\ttotal: 4.46ms\tremaining: 9.47ms\n",
      "32:\tlearn: 0.1708528\ttotal: 4.6ms\tremaining: 9.34ms\n",
      "33:\tlearn: 0.1651450\ttotal: 4.68ms\tremaining: 9.09ms\n",
      "34:\tlearn: 0.1608716\ttotal: 4.83ms\tremaining: 8.97ms\n",
      "35:\tlearn: 0.1571226\ttotal: 4.96ms\tremaining: 8.82ms\n",
      "36:\tlearn: 0.1532202\ttotal: 5.1ms\tremaining: 8.68ms\n",
      "37:\tlearn: 0.1500369\ttotal: 5.23ms\tremaining: 8.53ms\n",
      "38:\tlearn: 0.1464989\ttotal: 5.38ms\tremaining: 8.41ms\n",
      "39:\tlearn: 0.1430924\ttotal: 5.52ms\tremaining: 8.28ms\n",
      "40:\tlearn: 0.1402280\ttotal: 5.67ms\tremaining: 8.17ms\n",
      "41:\tlearn: 0.1370484\ttotal: 5.82ms\tremaining: 8.03ms\n",
      "42:\tlearn: 0.1338915\ttotal: 5.95ms\tremaining: 7.88ms\n",
      "43:\tlearn: 0.1310408\ttotal: 6.08ms\tremaining: 7.74ms\n",
      "44:\tlearn: 0.1285560\ttotal: 6.21ms\tremaining: 7.6ms\n",
      "45:\tlearn: 0.1260512\ttotal: 6.34ms\tremaining: 7.45ms\n",
      "46:\tlearn: 0.1235907\ttotal: 6.49ms\tremaining: 7.32ms\n",
      "47:\tlearn: 0.1210014\ttotal: 6.62ms\tremaining: 7.17ms\n",
      "48:\tlearn: 0.1188657\ttotal: 6.75ms\tremaining: 7.03ms\n",
      "49:\tlearn: 0.1171946\ttotal: 6.88ms\tremaining: 6.88ms\n",
      "50:\tlearn: 0.1148512\ttotal: 7.01ms\tremaining: 6.74ms\n",
      "51:\tlearn: 0.1125779\ttotal: 7.16ms\tremaining: 6.61ms\n",
      "52:\tlearn: 0.1104272\ttotal: 7.29ms\tremaining: 6.46ms\n",
      "53:\tlearn: 0.1085353\ttotal: 7.43ms\tremaining: 6.33ms\n",
      "54:\tlearn: 0.1064099\ttotal: 7.55ms\tremaining: 6.18ms\n",
      "55:\tlearn: 0.1049169\ttotal: 7.66ms\tremaining: 6.02ms\n",
      "56:\tlearn: 0.1035500\ttotal: 7.79ms\tremaining: 5.88ms\n",
      "57:\tlearn: 0.1018756\ttotal: 7.93ms\tremaining: 5.74ms\n",
      "58:\tlearn: 0.1002855\ttotal: 8.07ms\tremaining: 5.61ms\n",
      "59:\tlearn: 0.0988948\ttotal: 8.21ms\tremaining: 5.47ms\n",
      "60:\tlearn: 0.0974008\ttotal: 8.34ms\tremaining: 5.33ms\n",
      "61:\tlearn: 0.0960488\ttotal: 8.49ms\tremaining: 5.2ms\n",
      "62:\tlearn: 0.0947435\ttotal: 8.62ms\tremaining: 5.06ms\n",
      "63:\tlearn: 0.0931339\ttotal: 8.76ms\tremaining: 4.93ms\n",
      "64:\tlearn: 0.0920798\ttotal: 8.91ms\tremaining: 4.8ms\n",
      "65:\tlearn: 0.0907145\ttotal: 9.04ms\tremaining: 4.66ms\n",
      "66:\tlearn: 0.0894136\ttotal: 9.18ms\tremaining: 4.52ms\n",
      "67:\tlearn: 0.0881856\ttotal: 9.31ms\tremaining: 4.38ms\n",
      "68:\tlearn: 0.0868820\ttotal: 9.46ms\tremaining: 4.25ms\n",
      "69:\tlearn: 0.0855695\ttotal: 9.61ms\tremaining: 4.12ms\n",
      "70:\tlearn: 0.0845347\ttotal: 9.76ms\tremaining: 3.99ms\n",
      "71:\tlearn: 0.0834192\ttotal: 9.89ms\tremaining: 3.85ms\n",
      "72:\tlearn: 0.0826445\ttotal: 10.8ms\tremaining: 3.99ms\n",
      "73:\tlearn: 0.0816014\ttotal: 10.9ms\tremaining: 3.84ms\n",
      "74:\tlearn: 0.0808508\ttotal: 11.1ms\tremaining: 3.69ms\n",
      "75:\tlearn: 0.0800314\ttotal: 11.2ms\tremaining: 3.54ms\n",
      "76:\tlearn: 0.0791539\ttotal: 11.4ms\tremaining: 3.39ms\n",
      "77:\tlearn: 0.0784193\ttotal: 11.5ms\tremaining: 3.24ms\n",
      "78:\tlearn: 0.0775672\ttotal: 11.6ms\tremaining: 3.1ms\n",
      "79:\tlearn: 0.0769583\ttotal: 11.8ms\tremaining: 2.95ms\n",
      "80:\tlearn: 0.0760716\ttotal: 11.9ms\tremaining: 2.8ms\n",
      "81:\tlearn: 0.0753064\ttotal: 12.1ms\tremaining: 2.65ms\n",
      "82:\tlearn: 0.0747096\ttotal: 12.2ms\tremaining: 2.5ms\n",
      "83:\tlearn: 0.0738788\ttotal: 12.3ms\tremaining: 2.35ms\n",
      "84:\tlearn: 0.0733084\ttotal: 12.5ms\tremaining: 2.21ms\n",
      "85:\tlearn: 0.0727321\ttotal: 12.7ms\tremaining: 2.06ms\n",
      "86:\tlearn: 0.0721594\ttotal: 12.8ms\tremaining: 1.91ms\n",
      "87:\tlearn: 0.0716667\ttotal: 12.9ms\tremaining: 1.76ms\n",
      "88:\tlearn: 0.0709556\ttotal: 13.1ms\tremaining: 1.61ms\n",
      "89:\tlearn: 0.0701191\ttotal: 13.2ms\tremaining: 1.47ms\n",
      "90:\tlearn: 0.0695284\ttotal: 13.4ms\tremaining: 1.32ms\n",
      "91:\tlearn: 0.0685912\ttotal: 13.5ms\tremaining: 1.17ms\n",
      "92:\tlearn: 0.0679229\ttotal: 13.6ms\tremaining: 1.02ms\n",
      "93:\tlearn: 0.0672536\ttotal: 13.8ms\tremaining: 878us\n",
      "94:\tlearn: 0.0668982\ttotal: 13.9ms\tremaining: 731us\n",
      "95:\tlearn: 0.0661745\ttotal: 14ms\tremaining: 585us\n",
      "96:\tlearn: 0.0655314\ttotal: 14.2ms\tremaining: 437us\n",
      "97:\tlearn: 0.0647408\ttotal: 14.3ms\tremaining: 290us\n",
      "98:\tlearn: 0.0641767\ttotal: 14.4ms\tremaining: 145us\n",
      "99:\tlearn: 0.0634270\ttotal: 14.5ms\tremaining: 0us\n",
      "Learning rate set to 0.063461\n",
      "0:\tlearn: 0.6506902\ttotal: 136us\tremaining: 13.5ms\n",
      "1:\tlearn: 0.6113246\ttotal: 262us\tremaining: 12.9ms\n",
      "2:\tlearn: 0.5752507\ttotal: 385us\tremaining: 12.5ms\n",
      "3:\tlearn: 0.5421404\ttotal: 511us\tremaining: 12.3ms\n",
      "4:\tlearn: 0.5138803\ttotal: 648us\tremaining: 12.3ms\n",
      "5:\tlearn: 0.4873885\ttotal: 793us\tremaining: 12.4ms\n",
      "6:\tlearn: 0.4627588\ttotal: 917us\tremaining: 12.2ms\n",
      "7:\tlearn: 0.4386932\ttotal: 1.05ms\tremaining: 12.1ms\n",
      "8:\tlearn: 0.4161213\ttotal: 1.18ms\tremaining: 12ms\n",
      "9:\tlearn: 0.3972621\ttotal: 1.33ms\tremaining: 11.9ms\n",
      "10:\tlearn: 0.3780915\ttotal: 1.46ms\tremaining: 11.8ms\n",
      "11:\tlearn: 0.3605807\ttotal: 1.62ms\tremaining: 11.9ms\n",
      "12:\tlearn: 0.3427279\ttotal: 1.73ms\tremaining: 11.6ms\n",
      "13:\tlearn: 0.3264844\ttotal: 1.86ms\tremaining: 11.5ms\n",
      "14:\tlearn: 0.3119337\ttotal: 2.01ms\tremaining: 11.4ms\n",
      "15:\tlearn: 0.2993942\ttotal: 2.16ms\tremaining: 11.3ms\n",
      "16:\tlearn: 0.2866043\ttotal: 2.3ms\tremaining: 11.2ms\n",
      "17:\tlearn: 0.2762523\ttotal: 2.44ms\tremaining: 11.1ms\n",
      "18:\tlearn: 0.2654998\ttotal: 2.57ms\tremaining: 11ms\n",
      "19:\tlearn: 0.2555754\ttotal: 2.71ms\tremaining: 10.8ms\n",
      "20:\tlearn: 0.2458195\ttotal: 2.86ms\tremaining: 10.8ms\n",
      "21:\tlearn: 0.2374044\ttotal: 3ms\tremaining: 10.6ms\n",
      "22:\tlearn: 0.2289723\ttotal: 3.15ms\tremaining: 10.5ms\n",
      "23:\tlearn: 0.2211506\ttotal: 3.28ms\tremaining: 10.4ms\n",
      "24:\tlearn: 0.2133701\ttotal: 3.41ms\tremaining: 10.2ms\n",
      "25:\tlearn: 0.2070008\ttotal: 3.55ms\tremaining: 10.1ms\n",
      "26:\tlearn: 0.2002447\ttotal: 3.69ms\tremaining: 9.97ms\n",
      "27:\tlearn: 0.1939071\ttotal: 3.82ms\tremaining: 9.82ms\n",
      "28:\tlearn: 0.1875918\ttotal: 3.95ms\tremaining: 9.67ms\n",
      "29:\tlearn: 0.1814525\ttotal: 4.08ms\tremaining: 9.51ms\n",
      "30:\tlearn: 0.1765585\ttotal: 4.2ms\tremaining: 9.36ms\n",
      "31:\tlearn: 0.1714870\ttotal: 4.35ms\tremaining: 9.24ms\n",
      "32:\tlearn: 0.1668333\ttotal: 4.49ms\tremaining: 9.12ms\n",
      "33:\tlearn: 0.1619683\ttotal: 4.6ms\tremaining: 8.92ms\n",
      "34:\tlearn: 0.1578950\ttotal: 4.76ms\tremaining: 8.83ms\n",
      "35:\tlearn: 0.1537462\ttotal: 4.89ms\tremaining: 8.7ms\n",
      "36:\tlearn: 0.1501430\ttotal: 5.03ms\tremaining: 8.57ms\n",
      "37:\tlearn: 0.1462987\ttotal: 5.18ms\tremaining: 8.46ms\n",
      "38:\tlearn: 0.1426459\ttotal: 5.32ms\tremaining: 8.31ms\n",
      "39:\tlearn: 0.1389053\ttotal: 5.46ms\tremaining: 8.19ms\n",
      "40:\tlearn: 0.1355641\ttotal: 5.61ms\tremaining: 8.07ms\n",
      "41:\tlearn: 0.1325001\ttotal: 5.75ms\tremaining: 7.95ms\n",
      "42:\tlearn: 0.1295544\ttotal: 5.88ms\tremaining: 7.8ms\n",
      "43:\tlearn: 0.1270106\ttotal: 6.03ms\tremaining: 7.67ms\n",
      "44:\tlearn: 0.1248207\ttotal: 6.15ms\tremaining: 7.51ms\n",
      "45:\tlearn: 0.1224054\ttotal: 6.28ms\tremaining: 7.38ms\n",
      "46:\tlearn: 0.1200771\ttotal: 6.41ms\tremaining: 7.23ms\n",
      "47:\tlearn: 0.1174325\ttotal: 6.55ms\tremaining: 7.1ms\n",
      "48:\tlearn: 0.1151890\ttotal: 6.73ms\tremaining: 7.01ms\n",
      "49:\tlearn: 0.1134227\ttotal: 6.87ms\tremaining: 6.87ms\n",
      "50:\tlearn: 0.1114998\ttotal: 7.02ms\tremaining: 6.75ms\n",
      "51:\tlearn: 0.1092739\ttotal: 7.15ms\tremaining: 6.6ms\n",
      "52:\tlearn: 0.1069574\ttotal: 7.28ms\tremaining: 6.46ms\n",
      "53:\tlearn: 0.1050357\ttotal: 7.42ms\tremaining: 6.32ms\n",
      "54:\tlearn: 0.1031753\ttotal: 7.56ms\tremaining: 6.18ms\n",
      "55:\tlearn: 0.1017351\ttotal: 7.67ms\tremaining: 6.03ms\n",
      "56:\tlearn: 0.1000420\ttotal: 7.81ms\tremaining: 5.89ms\n",
      "57:\tlearn: 0.0984439\ttotal: 7.96ms\tremaining: 5.76ms\n",
      "58:\tlearn: 0.0971028\ttotal: 8.11ms\tremaining: 5.63ms\n",
      "59:\tlearn: 0.0957166\ttotal: 8.54ms\tremaining: 5.69ms\n",
      "60:\tlearn: 0.0943008\ttotal: 8.77ms\tremaining: 5.61ms\n",
      "61:\tlearn: 0.0928665\ttotal: 8.91ms\tremaining: 5.46ms\n",
      "62:\tlearn: 0.0914858\ttotal: 9.06ms\tremaining: 5.32ms\n",
      "63:\tlearn: 0.0904024\ttotal: 9.2ms\tremaining: 5.18ms\n",
      "64:\tlearn: 0.0893936\ttotal: 9.35ms\tremaining: 5.04ms\n",
      "65:\tlearn: 0.0882578\ttotal: 9.5ms\tremaining: 4.89ms\n",
      "66:\tlearn: 0.0870034\ttotal: 9.63ms\tremaining: 4.74ms\n",
      "67:\tlearn: 0.0856549\ttotal: 9.77ms\tremaining: 4.6ms\n",
      "68:\tlearn: 0.0844564\ttotal: 9.91ms\tremaining: 4.45ms\n",
      "69:\tlearn: 0.0835515\ttotal: 10ms\tremaining: 4.3ms\n",
      "70:\tlearn: 0.0827244\ttotal: 10.2ms\tremaining: 4.15ms\n",
      "71:\tlearn: 0.0816442\ttotal: 10.3ms\tremaining: 4.01ms\n",
      "72:\tlearn: 0.0807530\ttotal: 10.4ms\tremaining: 3.86ms\n",
      "73:\tlearn: 0.0797224\ttotal: 10.6ms\tremaining: 3.71ms\n",
      "74:\tlearn: 0.0790270\ttotal: 10.7ms\tremaining: 3.57ms\n",
      "75:\tlearn: 0.0781809\ttotal: 10.8ms\tremaining: 3.42ms\n",
      "76:\tlearn: 0.0773745\ttotal: 11ms\tremaining: 3.28ms\n",
      "77:\tlearn: 0.0764309\ttotal: 11.1ms\tremaining: 3.14ms\n",
      "78:\tlearn: 0.0755419\ttotal: 11.3ms\tremaining: 3ms\n",
      "79:\tlearn: 0.0747265\ttotal: 11.4ms\tremaining: 2.85ms\n",
      "80:\tlearn: 0.0739527\ttotal: 11.6ms\tremaining: 2.71ms\n",
      "81:\tlearn: 0.0730623\ttotal: 11.7ms\tremaining: 2.57ms\n",
      "82:\tlearn: 0.0724727\ttotal: 11.8ms\tremaining: 2.42ms\n",
      "83:\tlearn: 0.0718042\ttotal: 12ms\tremaining: 2.29ms\n",
      "84:\tlearn: 0.0711675\ttotal: 12.1ms\tremaining: 2.14ms\n",
      "85:\tlearn: 0.0704918\ttotal: 12.3ms\tremaining: 2ms\n",
      "86:\tlearn: 0.0697242\ttotal: 12.4ms\tremaining: 1.86ms\n",
      "87:\tlearn: 0.0689963\ttotal: 12.6ms\tremaining: 1.71ms\n",
      "88:\tlearn: 0.0683895\ttotal: 12.7ms\tremaining: 1.57ms\n",
      "89:\tlearn: 0.0678678\ttotal: 12.9ms\tremaining: 1.43ms\n",
      "90:\tlearn: 0.0671564\ttotal: 13ms\tremaining: 1.29ms\n",
      "91:\tlearn: 0.0665047\ttotal: 13.1ms\tremaining: 1.14ms\n",
      "92:\tlearn: 0.0659946\ttotal: 13.3ms\tremaining: 1ms\n",
      "93:\tlearn: 0.0653943\ttotal: 13.4ms\tremaining: 857us\n",
      "94:\tlearn: 0.0648760\ttotal: 13.6ms\tremaining: 714us\n",
      "95:\tlearn: 0.0641395\ttotal: 13.7ms\tremaining: 571us\n",
      "96:\tlearn: 0.0634894\ttotal: 13.9ms\tremaining: 428us\n",
      "97:\tlearn: 0.0629658\ttotal: 14ms\tremaining: 285us\n",
      "98:\tlearn: 0.0625689\ttotal: 14.1ms\tremaining: 142us\n",
      "99:\tlearn: 0.0619833\ttotal: 14.3ms\tremaining: 0us\n",
      "Learning rate set to 0.063461\n",
      "0:\tlearn: 0.6507219\ttotal: 163us\tremaining: 16.2ms\n",
      "1:\tlearn: 0.6123339\ttotal: 292us\tremaining: 14.3ms\n",
      "2:\tlearn: 0.5766247\ttotal: 423us\tremaining: 13.7ms\n",
      "3:\tlearn: 0.5443356\ttotal: 560us\tremaining: 13.4ms\n",
      "4:\tlearn: 0.5166088\ttotal: 702us\tremaining: 13.4ms\n",
      "5:\tlearn: 0.4892668\ttotal: 845us\tremaining: 13.2ms\n",
      "6:\tlearn: 0.4644293\ttotal: 986us\tremaining: 13.1ms\n",
      "7:\tlearn: 0.4414301\ttotal: 1.14ms\tremaining: 13.1ms\n",
      "8:\tlearn: 0.4193382\ttotal: 1.26ms\tremaining: 12.8ms\n",
      "9:\tlearn: 0.4011726\ttotal: 1.4ms\tremaining: 12.6ms\n",
      "10:\tlearn: 0.3821332\ttotal: 1.54ms\tremaining: 12.4ms\n",
      "11:\tlearn: 0.3650925\ttotal: 1.67ms\tremaining: 12.3ms\n",
      "12:\tlearn: 0.3490691\ttotal: 1.85ms\tremaining: 12.4ms\n",
      "13:\tlearn: 0.3340802\ttotal: 1.99ms\tremaining: 12.2ms\n",
      "14:\tlearn: 0.3205341\ttotal: 2.13ms\tremaining: 12.1ms\n",
      "15:\tlearn: 0.3074651\ttotal: 2.29ms\tremaining: 12ms\n",
      "16:\tlearn: 0.2957464\ttotal: 2.43ms\tremaining: 11.9ms\n",
      "17:\tlearn: 0.2846784\ttotal: 2.57ms\tremaining: 11.7ms\n",
      "18:\tlearn: 0.2747006\ttotal: 2.71ms\tremaining: 11.6ms\n",
      "19:\tlearn: 0.2643276\ttotal: 2.85ms\tremaining: 11.4ms\n",
      "20:\tlearn: 0.2547531\ttotal: 2.99ms\tremaining: 11.2ms\n",
      "21:\tlearn: 0.2459704\ttotal: 3.13ms\tremaining: 11.1ms\n",
      "22:\tlearn: 0.2377154\ttotal: 3.27ms\tremaining: 10.9ms\n",
      "23:\tlearn: 0.2292770\ttotal: 3.39ms\tremaining: 10.7ms\n",
      "24:\tlearn: 0.2208876\ttotal: 3.52ms\tremaining: 10.6ms\n",
      "25:\tlearn: 0.2138541\ttotal: 3.65ms\tremaining: 10.4ms\n",
      "26:\tlearn: 0.2071656\ttotal: 3.78ms\tremaining: 10.2ms\n",
      "27:\tlearn: 0.2007919\ttotal: 3.92ms\tremaining: 10.1ms\n",
      "28:\tlearn: 0.1952421\ttotal: 4.05ms\tremaining: 9.91ms\n",
      "29:\tlearn: 0.1891913\ttotal: 4.19ms\tremaining: 9.79ms\n",
      "30:\tlearn: 0.1842875\ttotal: 4.33ms\tremaining: 9.65ms\n",
      "31:\tlearn: 0.1792906\ttotal: 4.49ms\tremaining: 9.53ms\n",
      "32:\tlearn: 0.1743130\ttotal: 4.63ms\tremaining: 9.41ms\n",
      "33:\tlearn: 0.1691062\ttotal: 4.74ms\tremaining: 9.19ms\n",
      "34:\tlearn: 0.1649918\ttotal: 4.88ms\tremaining: 9.06ms\n",
      "35:\tlearn: 0.1608262\ttotal: 5.04ms\tremaining: 8.95ms\n",
      "36:\tlearn: 0.1573221\ttotal: 5.17ms\tremaining: 8.8ms\n",
      "37:\tlearn: 0.1533305\ttotal: 5.31ms\tremaining: 8.67ms\n",
      "38:\tlearn: 0.1498774\ttotal: 5.45ms\tremaining: 8.52ms\n",
      "39:\tlearn: 0.1463135\ttotal: 5.58ms\tremaining: 8.38ms\n",
      "40:\tlearn: 0.1435203\ttotal: 5.76ms\tremaining: 8.3ms\n",
      "41:\tlearn: 0.1408069\ttotal: 6ms\tremaining: 8.29ms\n",
      "42:\tlearn: 0.1378510\ttotal: 6.21ms\tremaining: 8.23ms\n",
      "43:\tlearn: 0.1352216\ttotal: 6.35ms\tremaining: 8.09ms\n",
      "44:\tlearn: 0.1329815\ttotal: 6.49ms\tremaining: 7.94ms\n",
      "45:\tlearn: 0.1307416\ttotal: 6.63ms\tremaining: 7.79ms\n",
      "46:\tlearn: 0.1283715\ttotal: 6.78ms\tremaining: 7.64ms\n",
      "47:\tlearn: 0.1257668\ttotal: 6.9ms\tremaining: 7.48ms\n",
      "48:\tlearn: 0.1235749\ttotal: 7.03ms\tremaining: 7.32ms\n",
      "49:\tlearn: 0.1218790\ttotal: 7.18ms\tremaining: 7.18ms\n",
      "50:\tlearn: 0.1195761\ttotal: 7.32ms\tremaining: 7.03ms\n",
      "51:\tlearn: 0.1177115\ttotal: 7.46ms\tremaining: 6.88ms\n",
      "52:\tlearn: 0.1156836\ttotal: 7.61ms\tremaining: 6.74ms\n",
      "53:\tlearn: 0.1136720\ttotal: 7.74ms\tremaining: 6.59ms\n",
      "54:\tlearn: 0.1118334\ttotal: 7.88ms\tremaining: 6.45ms\n",
      "55:\tlearn: 0.1103602\ttotal: 7.99ms\tremaining: 6.28ms\n",
      "56:\tlearn: 0.1086363\ttotal: 8.13ms\tremaining: 6.13ms\n",
      "57:\tlearn: 0.1069797\ttotal: 8.29ms\tremaining: 6ms\n",
      "58:\tlearn: 0.1053406\ttotal: 8.43ms\tremaining: 5.86ms\n",
      "59:\tlearn: 0.1038395\ttotal: 8.57ms\tremaining: 5.71ms\n",
      "60:\tlearn: 0.1024769\ttotal: 8.7ms\tremaining: 5.56ms\n",
      "61:\tlearn: 0.1008444\ttotal: 8.83ms\tremaining: 5.41ms\n",
      "62:\tlearn: 0.0994240\ttotal: 8.95ms\tremaining: 5.26ms\n",
      "63:\tlearn: 0.0982334\ttotal: 9.1ms\tremaining: 5.12ms\n",
      "64:\tlearn: 0.0971341\ttotal: 9.25ms\tremaining: 4.98ms\n",
      "65:\tlearn: 0.0956363\ttotal: 9.38ms\tremaining: 4.83ms\n",
      "66:\tlearn: 0.0944059\ttotal: 9.52ms\tremaining: 4.69ms\n",
      "67:\tlearn: 0.0930130\ttotal: 9.65ms\tremaining: 4.54ms\n",
      "68:\tlearn: 0.0918871\ttotal: 9.79ms\tremaining: 4.4ms\n",
      "69:\tlearn: 0.0909269\ttotal: 9.92ms\tremaining: 4.25ms\n",
      "70:\tlearn: 0.0900876\ttotal: 10.1ms\tremaining: 4.1ms\n",
      "71:\tlearn: 0.0888812\ttotal: 10.2ms\tremaining: 3.96ms\n",
      "72:\tlearn: 0.0879032\ttotal: 10.3ms\tremaining: 3.83ms\n",
      "73:\tlearn: 0.0867858\ttotal: 10.5ms\tremaining: 3.69ms\n",
      "74:\tlearn: 0.0860149\ttotal: 10.7ms\tremaining: 3.55ms\n",
      "75:\tlearn: 0.0851658\ttotal: 10.8ms\tremaining: 3.41ms\n",
      "76:\tlearn: 0.0841870\ttotal: 10.9ms\tremaining: 3.27ms\n",
      "77:\tlearn: 0.0833106\ttotal: 11.1ms\tremaining: 3.12ms\n",
      "78:\tlearn: 0.0822749\ttotal: 11.2ms\tremaining: 2.97ms\n",
      "79:\tlearn: 0.0815162\ttotal: 11.3ms\tremaining: 2.83ms\n",
      "80:\tlearn: 0.0806741\ttotal: 11.5ms\tremaining: 2.69ms\n",
      "81:\tlearn: 0.0799848\ttotal: 11.6ms\tremaining: 2.55ms\n",
      "82:\tlearn: 0.0793407\ttotal: 11.7ms\tremaining: 2.4ms\n",
      "83:\tlearn: 0.0784796\ttotal: 11.9ms\tremaining: 2.26ms\n",
      "84:\tlearn: 0.0779077\ttotal: 12ms\tremaining: 2.13ms\n",
      "85:\tlearn: 0.0769888\ttotal: 12.2ms\tremaining: 1.98ms\n",
      "86:\tlearn: 0.0763418\ttotal: 12.3ms\tremaining: 1.84ms\n",
      "87:\tlearn: 0.0755279\ttotal: 12.5ms\tremaining: 1.7ms\n",
      "88:\tlearn: 0.0749631\ttotal: 12.6ms\tremaining: 1.56ms\n",
      "89:\tlearn: 0.0741760\ttotal: 12.7ms\tremaining: 1.41ms\n",
      "90:\tlearn: 0.0735519\ttotal: 12.9ms\tremaining: 1.27ms\n",
      "91:\tlearn: 0.0728280\ttotal: 13ms\tremaining: 1.13ms\n",
      "92:\tlearn: 0.0721619\ttotal: 13.2ms\tremaining: 991us\n",
      "93:\tlearn: 0.0713760\ttotal: 13.3ms\tremaining: 850us\n",
      "94:\tlearn: 0.0708980\ttotal: 13.4ms\tremaining: 707us\n",
      "95:\tlearn: 0.0701802\ttotal: 13.6ms\tremaining: 565us\n",
      "96:\tlearn: 0.0694200\ttotal: 13.7ms\tremaining: 424us\n",
      "97:\tlearn: 0.0688623\ttotal: 13.9ms\tremaining: 282us\n",
      "98:\tlearn: 0.0683034\ttotal: 14ms\tremaining: 141us\n",
      "99:\tlearn: 0.0674723\ttotal: 14.1ms\tremaining: 0us\n",
      "Learning rate set to 0.063461\n",
      "0:\tlearn: 0.6486934\ttotal: 154us\tremaining: 15.3ms\n",
      "1:\tlearn: 0.6091769\ttotal: 286us\tremaining: 14ms\n",
      "2:\tlearn: 0.5727938\ttotal: 416us\tremaining: 13.4ms\n",
      "3:\tlearn: 0.5403098\ttotal: 551us\tremaining: 13.2ms\n",
      "4:\tlearn: 0.5114344\ttotal: 678us\tremaining: 12.9ms\n",
      "5:\tlearn: 0.4841008\ttotal: 812us\tremaining: 12.7ms\n",
      "6:\tlearn: 0.4587301\ttotal: 946us\tremaining: 12.6ms\n",
      "7:\tlearn: 0.4344272\ttotal: 1.08ms\tremaining: 12.5ms\n",
      "8:\tlearn: 0.4129244\ttotal: 1.22ms\tremaining: 12.3ms\n",
      "9:\tlearn: 0.3938462\ttotal: 1.35ms\tremaining: 12.1ms\n",
      "10:\tlearn: 0.3742248\ttotal: 1.5ms\tremaining: 12.1ms\n",
      "11:\tlearn: 0.3566029\ttotal: 1.64ms\tremaining: 12ms\n",
      "12:\tlearn: 0.3403793\ttotal: 1.78ms\tremaining: 11.9ms\n",
      "13:\tlearn: 0.3256157\ttotal: 1.91ms\tremaining: 11.8ms\n",
      "14:\tlearn: 0.3119520\ttotal: 2.06ms\tremaining: 11.7ms\n",
      "15:\tlearn: 0.2982193\ttotal: 2.19ms\tremaining: 11.5ms\n",
      "16:\tlearn: 0.2859282\ttotal: 2.32ms\tremaining: 11.3ms\n",
      "17:\tlearn: 0.2745004\ttotal: 2.47ms\tremaining: 11.3ms\n",
      "18:\tlearn: 0.2643229\ttotal: 2.59ms\tremaining: 11.1ms\n",
      "19:\tlearn: 0.2542898\ttotal: 2.74ms\tremaining: 11ms\n",
      "20:\tlearn: 0.2446176\ttotal: 2.87ms\tremaining: 10.8ms\n",
      "21:\tlearn: 0.2359563\ttotal: 3.01ms\tremaining: 10.7ms\n",
      "22:\tlearn: 0.2275323\ttotal: 3.15ms\tremaining: 10.5ms\n",
      "23:\tlearn: 0.2189503\ttotal: 3.29ms\tremaining: 10.4ms\n",
      "24:\tlearn: 0.2120014\ttotal: 3.41ms\tremaining: 10.2ms\n",
      "25:\tlearn: 0.2049871\ttotal: 3.54ms\tremaining: 10.1ms\n",
      "26:\tlearn: 0.1982839\ttotal: 3.67ms\tremaining: 9.94ms\n",
      "27:\tlearn: 0.1921604\ttotal: 3.82ms\tremaining: 9.81ms\n",
      "28:\tlearn: 0.1860424\ttotal: 3.95ms\tremaining: 9.68ms\n",
      "29:\tlearn: 0.1810424\ttotal: 4.09ms\tremaining: 9.55ms\n",
      "30:\tlearn: 0.1754858\ttotal: 4.24ms\tremaining: 9.44ms\n",
      "31:\tlearn: 0.1705381\ttotal: 4.36ms\tremaining: 9.25ms\n",
      "32:\tlearn: 0.1661691\ttotal: 4.49ms\tremaining: 9.11ms\n",
      "33:\tlearn: 0.1612548\ttotal: 4.62ms\tremaining: 8.96ms\n",
      "34:\tlearn: 0.1570240\ttotal: 4.75ms\tremaining: 8.83ms\n",
      "35:\tlearn: 0.1530352\ttotal: 4.88ms\tremaining: 8.68ms\n",
      "36:\tlearn: 0.1497544\ttotal: 5.03ms\tremaining: 8.56ms\n",
      "37:\tlearn: 0.1461044\ttotal: 5.17ms\tremaining: 8.44ms\n",
      "38:\tlearn: 0.1425184\ttotal: 5.3ms\tremaining: 8.29ms\n",
      "39:\tlearn: 0.1386313\ttotal: 5.42ms\tremaining: 8.13ms\n",
      "40:\tlearn: 0.1354525\ttotal: 5.58ms\tremaining: 8.03ms\n",
      "41:\tlearn: 0.1322223\ttotal: 5.71ms\tremaining: 7.89ms\n",
      "42:\tlearn: 0.1294022\ttotal: 5.86ms\tremaining: 7.77ms\n",
      "43:\tlearn: 0.1265854\ttotal: 6ms\tremaining: 7.64ms\n",
      "44:\tlearn: 0.1237697\ttotal: 6.16ms\tremaining: 7.53ms\n",
      "45:\tlearn: 0.1214208\ttotal: 6.31ms\tremaining: 7.41ms\n",
      "46:\tlearn: 0.1186633\ttotal: 6.46ms\tremaining: 7.28ms\n",
      "47:\tlearn: 0.1164781\ttotal: 6.58ms\tremaining: 7.13ms\n",
      "48:\tlearn: 0.1141304\ttotal: 6.72ms\tremaining: 6.99ms\n",
      "49:\tlearn: 0.1121322\ttotal: 6.87ms\tremaining: 6.87ms\n",
      "50:\tlearn: 0.1101144\ttotal: 7.01ms\tremaining: 6.73ms\n",
      "51:\tlearn: 0.1080194\ttotal: 7.14ms\tremaining: 6.59ms\n",
      "52:\tlearn: 0.1062919\ttotal: 7.28ms\tremaining: 6.46ms\n",
      "53:\tlearn: 0.1044109\ttotal: 7.42ms\tremaining: 6.32ms\n",
      "54:\tlearn: 0.1025510\ttotal: 7.56ms\tremaining: 6.19ms\n",
      "55:\tlearn: 0.1008806\ttotal: 7.69ms\tremaining: 6.04ms\n",
      "56:\tlearn: 0.0993680\ttotal: 7.84ms\tremaining: 5.92ms\n",
      "57:\tlearn: 0.0978549\ttotal: 8.01ms\tremaining: 5.8ms\n",
      "58:\tlearn: 0.0964000\ttotal: 8.14ms\tremaining: 5.66ms\n",
      "59:\tlearn: 0.0949783\ttotal: 8.26ms\tremaining: 5.51ms\n",
      "60:\tlearn: 0.0933551\ttotal: 8.4ms\tremaining: 5.37ms\n",
      "61:\tlearn: 0.0922063\ttotal: 8.54ms\tremaining: 5.24ms\n",
      "62:\tlearn: 0.0909858\ttotal: 8.71ms\tremaining: 5.11ms\n",
      "63:\tlearn: 0.0895545\ttotal: 8.85ms\tremaining: 4.98ms\n",
      "64:\tlearn: 0.0883651\ttotal: 9.01ms\tremaining: 4.85ms\n",
      "65:\tlearn: 0.0873855\ttotal: 9.16ms\tremaining: 4.72ms\n",
      "66:\tlearn: 0.0862703\ttotal: 9.29ms\tremaining: 4.57ms\n",
      "67:\tlearn: 0.0852128\ttotal: 9.42ms\tremaining: 4.43ms\n",
      "68:\tlearn: 0.0841665\ttotal: 9.55ms\tremaining: 4.29ms\n",
      "69:\tlearn: 0.0831755\ttotal: 9.68ms\tremaining: 4.15ms\n",
      "70:\tlearn: 0.0821719\ttotal: 9.81ms\tremaining: 4.01ms\n",
      "71:\tlearn: 0.0813024\ttotal: 9.94ms\tremaining: 3.87ms\n",
      "72:\tlearn: 0.0804425\ttotal: 10.1ms\tremaining: 3.73ms\n",
      "73:\tlearn: 0.0794253\ttotal: 10.2ms\tremaining: 3.59ms\n",
      "74:\tlearn: 0.0785491\ttotal: 10.3ms\tremaining: 3.45ms\n",
      "75:\tlearn: 0.0776802\ttotal: 10.5ms\tremaining: 3.31ms\n",
      "76:\tlearn: 0.0768704\ttotal: 10.6ms\tremaining: 3.17ms\n",
      "77:\tlearn: 0.0758426\ttotal: 10.8ms\tremaining: 3.04ms\n",
      "78:\tlearn: 0.0748231\ttotal: 10.9ms\tremaining: 2.9ms\n",
      "79:\tlearn: 0.0740678\ttotal: 11.1ms\tremaining: 2.76ms\n",
      "80:\tlearn: 0.0735555\ttotal: 11.2ms\tremaining: 2.63ms\n",
      "81:\tlearn: 0.0726843\ttotal: 11.3ms\tremaining: 2.49ms\n",
      "82:\tlearn: 0.0719064\ttotal: 11.5ms\tremaining: 2.35ms\n",
      "83:\tlearn: 0.0711806\ttotal: 11.7ms\tremaining: 2.24ms\n",
      "84:\tlearn: 0.0704310\ttotal: 11.9ms\tremaining: 2.1ms\n",
      "85:\tlearn: 0.0699040\ttotal: 12ms\tremaining: 1.95ms\n",
      "86:\tlearn: 0.0693387\ttotal: 12.1ms\tremaining: 1.81ms\n",
      "87:\tlearn: 0.0686313\ttotal: 12.3ms\tremaining: 1.67ms\n",
      "88:\tlearn: 0.0679184\ttotal: 12.4ms\tremaining: 1.54ms\n",
      "89:\tlearn: 0.0671947\ttotal: 12.6ms\tremaining: 1.4ms\n",
      "90:\tlearn: 0.0665731\ttotal: 12.7ms\tremaining: 1.25ms\n",
      "91:\tlearn: 0.0658616\ttotal: 12.8ms\tremaining: 1.11ms\n",
      "92:\tlearn: 0.0651494\ttotal: 13ms\tremaining: 976us\n",
      "93:\tlearn: 0.0644146\ttotal: 13.1ms\tremaining: 836us\n",
      "94:\tlearn: 0.0636428\ttotal: 13.2ms\tremaining: 696us\n",
      "95:\tlearn: 0.0631659\ttotal: 13.4ms\tremaining: 557us\n",
      "96:\tlearn: 0.0625569\ttotal: 13.5ms\tremaining: 417us\n",
      "97:\tlearn: 0.0619339\ttotal: 13.6ms\tremaining: 278us\n",
      "98:\tlearn: 0.0613690\ttotal: 13.8ms\tremaining: 139us\n",
      "99:\tlearn: 0.0609423\ttotal: 13.9ms\tremaining: 0us\n",
      "Learning rate set to 0.063461\n",
      "0:\tlearn: 0.6511254\ttotal: 144us\tremaining: 14.3ms\n",
      "1:\tlearn: 0.6119686\ttotal: 310us\tremaining: 15.2ms\n",
      "2:\tlearn: 0.5758297\ttotal: 452us\tremaining: 14.6ms\n",
      "3:\tlearn: 0.5426580\ttotal: 592us\tremaining: 14.2ms\n",
      "4:\tlearn: 0.5141381\ttotal: 730us\tremaining: 13.9ms\n",
      "5:\tlearn: 0.4884156\ttotal: 871us\tremaining: 13.7ms\n",
      "6:\tlearn: 0.4632820\ttotal: 1ms\tremaining: 13.4ms\n",
      "7:\tlearn: 0.4398916\ttotal: 1.14ms\tremaining: 13.1ms\n",
      "8:\tlearn: 0.4176591\ttotal: 1.3ms\tremaining: 13.2ms\n",
      "9:\tlearn: 0.3986740\ttotal: 1.44ms\tremaining: 13ms\n",
      "10:\tlearn: 0.3794697\ttotal: 1.59ms\tremaining: 12.8ms\n",
      "11:\tlearn: 0.3620570\ttotal: 1.74ms\tremaining: 12.8ms\n",
      "12:\tlearn: 0.3459988\ttotal: 1.88ms\tremaining: 12.6ms\n",
      "13:\tlearn: 0.3289448\ttotal: 2ms\tremaining: 12.3ms\n",
      "14:\tlearn: 0.3151578\ttotal: 2.1ms\tremaining: 11.9ms\n",
      "15:\tlearn: 0.3017241\ttotal: 2.24ms\tremaining: 11.8ms\n",
      "16:\tlearn: 0.2901504\ttotal: 2.38ms\tremaining: 11.6ms\n",
      "17:\tlearn: 0.2787651\ttotal: 2.45ms\tremaining: 11.2ms\n",
      "18:\tlearn: 0.2675427\ttotal: 2.58ms\tremaining: 11ms\n",
      "19:\tlearn: 0.2573660\ttotal: 2.71ms\tremaining: 10.8ms\n",
      "20:\tlearn: 0.2481309\ttotal: 2.84ms\tremaining: 10.7ms\n",
      "21:\tlearn: 0.2397983\ttotal: 2.97ms\tremaining: 10.5ms\n",
      "22:\tlearn: 0.2316721\ttotal: 3.11ms\tremaining: 10.4ms\n",
      "23:\tlearn: 0.2238372\ttotal: 3.24ms\tremaining: 10.3ms\n",
      "24:\tlearn: 0.2165154\ttotal: 3.38ms\tremaining: 10.1ms\n",
      "25:\tlearn: 0.2100002\ttotal: 3.54ms\tremaining: 10.1ms\n",
      "26:\tlearn: 0.2037012\ttotal: 3.68ms\tremaining: 9.96ms\n",
      "27:\tlearn: 0.1973606\ttotal: 3.82ms\tremaining: 9.83ms\n",
      "28:\tlearn: 0.1918354\ttotal: 3.96ms\tremaining: 9.69ms\n",
      "29:\tlearn: 0.1865652\ttotal: 4.12ms\tremaining: 9.61ms\n",
      "30:\tlearn: 0.1811512\ttotal: 4.27ms\tremaining: 9.5ms\n",
      "31:\tlearn: 0.1759520\ttotal: 4.4ms\tremaining: 9.35ms\n",
      "32:\tlearn: 0.1711761\ttotal: 4.53ms\tremaining: 9.19ms\n",
      "33:\tlearn: 0.1664781\ttotal: 4.66ms\tremaining: 9.05ms\n",
      "34:\tlearn: 0.1622344\ttotal: 4.87ms\tremaining: 9.05ms\n",
      "35:\tlearn: 0.1575198\ttotal: 5.03ms\tremaining: 8.94ms\n",
      "36:\tlearn: 0.1540164\ttotal: 5.17ms\tremaining: 8.79ms\n",
      "37:\tlearn: 0.1499611\ttotal: 5.3ms\tremaining: 8.65ms\n",
      "38:\tlearn: 0.1463355\ttotal: 5.44ms\tremaining: 8.51ms\n",
      "39:\tlearn: 0.1427169\ttotal: 5.57ms\tremaining: 8.36ms\n",
      "40:\tlearn: 0.1396722\ttotal: 5.72ms\tremaining: 8.23ms\n",
      "41:\tlearn: 0.1366062\ttotal: 5.85ms\tremaining: 8.08ms\n",
      "42:\tlearn: 0.1339352\ttotal: 6ms\tremaining: 7.95ms\n",
      "43:\tlearn: 0.1312018\ttotal: 6.12ms\tremaining: 7.79ms\n",
      "44:\tlearn: 0.1287409\ttotal: 6.25ms\tremaining: 7.64ms\n",
      "45:\tlearn: 0.1264898\ttotal: 6.39ms\tremaining: 7.5ms\n",
      "46:\tlearn: 0.1239932\ttotal: 6.52ms\tremaining: 7.36ms\n",
      "47:\tlearn: 0.1219621\ttotal: 6.65ms\tremaining: 7.21ms\n",
      "48:\tlearn: 0.1197414\ttotal: 6.8ms\tremaining: 7.08ms\n",
      "49:\tlearn: 0.1178538\ttotal: 6.93ms\tremaining: 6.93ms\n",
      "50:\tlearn: 0.1158473\ttotal: 7.07ms\tremaining: 6.79ms\n",
      "51:\tlearn: 0.1136326\ttotal: 7.21ms\tremaining: 6.65ms\n",
      "52:\tlearn: 0.1117502\ttotal: 7.35ms\tremaining: 6.51ms\n",
      "53:\tlearn: 0.1098158\ttotal: 7.48ms\tremaining: 6.37ms\n",
      "54:\tlearn: 0.1079836\ttotal: 7.62ms\tremaining: 6.23ms\n",
      "55:\tlearn: 0.1064937\ttotal: 7.75ms\tremaining: 6.09ms\n",
      "56:\tlearn: 0.1048154\ttotal: 7.88ms\tremaining: 5.94ms\n",
      "57:\tlearn: 0.1030619\ttotal: 8.01ms\tremaining: 5.8ms\n",
      "58:\tlearn: 0.1016754\ttotal: 8.15ms\tremaining: 5.66ms\n",
      "59:\tlearn: 0.1004762\ttotal: 8.28ms\tremaining: 5.52ms\n",
      "60:\tlearn: 0.0989692\ttotal: 8.42ms\tremaining: 5.38ms\n",
      "61:\tlearn: 0.0972337\ttotal: 8.56ms\tremaining: 5.25ms\n",
      "62:\tlearn: 0.0958274\ttotal: 8.7ms\tremaining: 5.11ms\n",
      "63:\tlearn: 0.0942640\ttotal: 8.84ms\tremaining: 4.97ms\n",
      "64:\tlearn: 0.0932105\ttotal: 8.98ms\tremaining: 4.84ms\n",
      "65:\tlearn: 0.0920241\ttotal: 9.11ms\tremaining: 4.69ms\n",
      "66:\tlearn: 0.0907698\ttotal: 9.25ms\tremaining: 4.56ms\n",
      "67:\tlearn: 0.0894115\ttotal: 9.38ms\tremaining: 4.42ms\n",
      "68:\tlearn: 0.0882151\ttotal: 9.6ms\tremaining: 4.31ms\n",
      "69:\tlearn: 0.0869297\ttotal: 9.74ms\tremaining: 4.17ms\n",
      "70:\tlearn: 0.0859586\ttotal: 9.88ms\tremaining: 4.03ms\n",
      "71:\tlearn: 0.0847398\ttotal: 10ms\tremaining: 3.89ms\n",
      "72:\tlearn: 0.0837172\ttotal: 10.1ms\tremaining: 3.75ms\n",
      "73:\tlearn: 0.0826660\ttotal: 10.3ms\tremaining: 3.61ms\n",
      "74:\tlearn: 0.0819477\ttotal: 10.4ms\tremaining: 3.47ms\n",
      "75:\tlearn: 0.0809260\ttotal: 10.6ms\tremaining: 3.33ms\n",
      "76:\tlearn: 0.0798647\ttotal: 10.7ms\tremaining: 3.19ms\n",
      "77:\tlearn: 0.0792093\ttotal: 10.8ms\tremaining: 3.06ms\n",
      "78:\tlearn: 0.0782054\ttotal: 11ms\tremaining: 2.92ms\n",
      "79:\tlearn: 0.0773806\ttotal: 11.1ms\tremaining: 2.78ms\n",
      "80:\tlearn: 0.0765869\ttotal: 12ms\tremaining: 2.81ms\n",
      "81:\tlearn: 0.0759091\ttotal: 12.1ms\tremaining: 2.67ms\n",
      "82:\tlearn: 0.0752600\ttotal: 12.3ms\tremaining: 2.52ms\n",
      "83:\tlearn: 0.0743848\ttotal: 12.4ms\tremaining: 2.37ms\n",
      "84:\tlearn: 0.0736652\ttotal: 12.6ms\tremaining: 2.22ms\n",
      "85:\tlearn: 0.0730338\ttotal: 12.7ms\tremaining: 2.07ms\n",
      "86:\tlearn: 0.0723689\ttotal: 12.9ms\tremaining: 1.92ms\n",
      "87:\tlearn: 0.0718394\ttotal: 13ms\tremaining: 1.77ms\n",
      "88:\tlearn: 0.0710929\ttotal: 13.2ms\tremaining: 1.63ms\n",
      "89:\tlearn: 0.0703458\ttotal: 13.3ms\tremaining: 1.48ms\n",
      "90:\tlearn: 0.0694971\ttotal: 13.4ms\tremaining: 1.33ms\n",
      "91:\tlearn: 0.0687977\ttotal: 13.6ms\tremaining: 1.18ms\n",
      "92:\tlearn: 0.0681452\ttotal: 13.7ms\tremaining: 1.03ms\n",
      "93:\tlearn: 0.0673689\ttotal: 13.8ms\tremaining: 883us\n",
      "94:\tlearn: 0.0669300\ttotal: 14ms\tremaining: 735us\n",
      "95:\tlearn: 0.0662507\ttotal: 14.1ms\tremaining: 587us\n",
      "96:\tlearn: 0.0655054\ttotal: 14.2ms\tremaining: 440us\n",
      "97:\tlearn: 0.0648003\ttotal: 14.4ms\tremaining: 293us\n",
      "98:\tlearn: 0.0642927\ttotal: 14.5ms\tremaining: 146us\n",
      "99:\tlearn: 0.0636044\ttotal: 14.7ms\tremaining: 0us\n",
      "Learning rate set to 0.063514\n",
      "0:\tlearn: 0.6516720\ttotal: 159us\tremaining: 15.8ms\n",
      "1:\tlearn: 0.6122497\ttotal: 307us\tremaining: 15.1ms\n",
      "2:\tlearn: 0.5759355\ttotal: 433us\tremaining: 14ms\n",
      "3:\tlearn: 0.5430791\ttotal: 577us\tremaining: 13.9ms\n",
      "4:\tlearn: 0.5160270\ttotal: 704us\tremaining: 13.4ms\n",
      "5:\tlearn: 0.4904202\ttotal: 855us\tremaining: 13.4ms\n",
      "6:\tlearn: 0.4644948\ttotal: 977us\tremaining: 13ms\n",
      "7:\tlearn: 0.4401133\ttotal: 1.1ms\tremaining: 12.6ms\n",
      "8:\tlearn: 0.4186311\ttotal: 1.23ms\tremaining: 12.4ms\n",
      "9:\tlearn: 0.3998337\ttotal: 1.37ms\tremaining: 12.3ms\n",
      "10:\tlearn: 0.3807236\ttotal: 1.51ms\tremaining: 12.2ms\n",
      "11:\tlearn: 0.3632414\ttotal: 1.65ms\tremaining: 12.1ms\n",
      "12:\tlearn: 0.3452040\ttotal: 1.76ms\tremaining: 11.8ms\n",
      "13:\tlearn: 0.3291037\ttotal: 1.9ms\tremaining: 11.7ms\n",
      "14:\tlearn: 0.3142891\ttotal: 2.04ms\tremaining: 11.6ms\n",
      "15:\tlearn: 0.3016332\ttotal: 2.19ms\tremaining: 11.5ms\n",
      "16:\tlearn: 0.2889800\ttotal: 2.33ms\tremaining: 11.4ms\n",
      "17:\tlearn: 0.2786173\ttotal: 2.49ms\tremaining: 11.3ms\n",
      "18:\tlearn: 0.2679272\ttotal: 2.64ms\tremaining: 11.2ms\n",
      "19:\tlearn: 0.2572563\ttotal: 2.78ms\tremaining: 11.1ms\n",
      "20:\tlearn: 0.2468677\ttotal: 2.91ms\tremaining: 11ms\n",
      "21:\tlearn: 0.2382943\ttotal: 3.04ms\tremaining: 10.8ms\n",
      "22:\tlearn: 0.2298685\ttotal: 3.19ms\tremaining: 10.7ms\n",
      "23:\tlearn: 0.2225245\ttotal: 3.33ms\tremaining: 10.6ms\n",
      "24:\tlearn: 0.2153650\ttotal: 3.48ms\tremaining: 10.4ms\n",
      "25:\tlearn: 0.2091062\ttotal: 3.61ms\tremaining: 10.3ms\n",
      "26:\tlearn: 0.2012123\ttotal: 3.69ms\tremaining: 9.98ms\n",
      "27:\tlearn: 0.1947291\ttotal: 3.84ms\tremaining: 9.87ms\n",
      "28:\tlearn: 0.1887864\ttotal: 3.96ms\tremaining: 9.71ms\n",
      "29:\tlearn: 0.1836764\ttotal: 4.13ms\tremaining: 9.63ms\n",
      "30:\tlearn: 0.1780628\ttotal: 4.27ms\tremaining: 9.51ms\n",
      "31:\tlearn: 0.1731939\ttotal: 4.41ms\tremaining: 9.36ms\n",
      "32:\tlearn: 0.1684030\ttotal: 4.53ms\tremaining: 9.2ms\n",
      "33:\tlearn: 0.1639022\ttotal: 4.67ms\tremaining: 9.07ms\n",
      "34:\tlearn: 0.1592388\ttotal: 4.82ms\tremaining: 8.95ms\n",
      "35:\tlearn: 0.1548830\ttotal: 4.96ms\tremaining: 8.82ms\n",
      "36:\tlearn: 0.1511104\ttotal: 5.1ms\tremaining: 8.69ms\n",
      "37:\tlearn: 0.1470600\ttotal: 5.25ms\tremaining: 8.57ms\n",
      "38:\tlearn: 0.1436772\ttotal: 5.39ms\tremaining: 8.43ms\n",
      "39:\tlearn: 0.1401479\ttotal: 5.52ms\tremaining: 8.28ms\n",
      "40:\tlearn: 0.1370217\ttotal: 5.65ms\tremaining: 8.14ms\n",
      "41:\tlearn: 0.1339913\ttotal: 5.78ms\tremaining: 7.98ms\n",
      "42:\tlearn: 0.1309967\ttotal: 5.93ms\tremaining: 7.86ms\n",
      "43:\tlearn: 0.1279642\ttotal: 6.06ms\tremaining: 7.71ms\n",
      "44:\tlearn: 0.1253455\ttotal: 6.2ms\tremaining: 7.58ms\n",
      "45:\tlearn: 0.1231287\ttotal: 6.33ms\tremaining: 7.43ms\n",
      "46:\tlearn: 0.1201785\ttotal: 6.48ms\tremaining: 7.31ms\n",
      "47:\tlearn: 0.1184040\ttotal: 6.61ms\tremaining: 7.17ms\n",
      "48:\tlearn: 0.1159525\ttotal: 7.45ms\tremaining: 7.76ms\n",
      "49:\tlearn: 0.1142590\ttotal: 7.59ms\tremaining: 7.59ms\n",
      "50:\tlearn: 0.1122895\ttotal: 7.75ms\tremaining: 7.44ms\n",
      "51:\tlearn: 0.1101542\ttotal: 7.89ms\tremaining: 7.28ms\n",
      "52:\tlearn: 0.1082041\ttotal: 8.06ms\tremaining: 7.15ms\n",
      "53:\tlearn: 0.1062742\ttotal: 8.21ms\tremaining: 6.99ms\n",
      "54:\tlearn: 0.1040978\ttotal: 8.35ms\tremaining: 6.83ms\n",
      "55:\tlearn: 0.1025991\ttotal: 8.46ms\tremaining: 6.64ms\n",
      "56:\tlearn: 0.1009987\ttotal: 8.59ms\tremaining: 6.48ms\n",
      "57:\tlearn: 0.0995214\ttotal: 8.73ms\tremaining: 6.33ms\n",
      "58:\tlearn: 0.0979552\ttotal: 8.88ms\tremaining: 6.17ms\n",
      "59:\tlearn: 0.0966277\ttotal: 9.04ms\tremaining: 6.03ms\n",
      "60:\tlearn: 0.0948429\ttotal: 9.18ms\tremaining: 5.87ms\n",
      "61:\tlearn: 0.0935398\ttotal: 9.32ms\tremaining: 5.71ms\n",
      "62:\tlearn: 0.0923599\ttotal: 9.45ms\tremaining: 5.55ms\n",
      "63:\tlearn: 0.0912060\ttotal: 9.59ms\tremaining: 5.39ms\n",
      "64:\tlearn: 0.0901477\ttotal: 9.74ms\tremaining: 5.24ms\n",
      "65:\tlearn: 0.0887535\ttotal: 9.88ms\tremaining: 5.09ms\n",
      "66:\tlearn: 0.0877069\ttotal: 10ms\tremaining: 4.92ms\n",
      "67:\tlearn: 0.0865237\ttotal: 10.4ms\tremaining: 4.89ms\n",
      "68:\tlearn: 0.0853700\ttotal: 10.6ms\tremaining: 4.78ms\n",
      "69:\tlearn: 0.0843030\ttotal: 10.8ms\tremaining: 4.62ms\n",
      "70:\tlearn: 0.0834534\ttotal: 10.9ms\tremaining: 4.46ms\n",
      "71:\tlearn: 0.0822942\ttotal: 11.1ms\tremaining: 4.3ms\n",
      "72:\tlearn: 0.0814624\ttotal: 11.2ms\tremaining: 4.14ms\n",
      "73:\tlearn: 0.0803606\ttotal: 11.3ms\tremaining: 3.99ms\n",
      "74:\tlearn: 0.0796065\ttotal: 11.5ms\tremaining: 3.83ms\n",
      "75:\tlearn: 0.0788622\ttotal: 11.6ms\tremaining: 3.67ms\n",
      "76:\tlearn: 0.0779979\ttotal: 11.8ms\tremaining: 3.51ms\n",
      "77:\tlearn: 0.0771156\ttotal: 11.9ms\tremaining: 3.35ms\n",
      "78:\tlearn: 0.0761946\ttotal: 12ms\tremaining: 3.2ms\n",
      "79:\tlearn: 0.0753326\ttotal: 12.2ms\tremaining: 3.04ms\n",
      "80:\tlearn: 0.0743450\ttotal: 12.3ms\tremaining: 2.88ms\n",
      "81:\tlearn: 0.0736360\ttotal: 12.4ms\tremaining: 2.73ms\n",
      "82:\tlearn: 0.0729950\ttotal: 12.6ms\tremaining: 2.57ms\n",
      "83:\tlearn: 0.0721918\ttotal: 12.7ms\tremaining: 2.42ms\n",
      "84:\tlearn: 0.0715057\ttotal: 12.9ms\tremaining: 2.27ms\n",
      "85:\tlearn: 0.0709796\ttotal: 13ms\tremaining: 2.12ms\n",
      "86:\tlearn: 0.0703881\ttotal: 13.1ms\tremaining: 1.96ms\n",
      "87:\tlearn: 0.0695601\ttotal: 13.3ms\tremaining: 1.81ms\n",
      "88:\tlearn: 0.0688605\ttotal: 13.4ms\tremaining: 1.66ms\n",
      "89:\tlearn: 0.0683325\ttotal: 13.5ms\tremaining: 1.5ms\n",
      "90:\tlearn: 0.0675804\ttotal: 13.7ms\tremaining: 1.35ms\n",
      "91:\tlearn: 0.0669695\ttotal: 13.8ms\tremaining: 1.2ms\n",
      "92:\tlearn: 0.0662535\ttotal: 14ms\tremaining: 1.05ms\n",
      "93:\tlearn: 0.0656346\ttotal: 14.1ms\tremaining: 900us\n",
      "94:\tlearn: 0.0651053\ttotal: 14.2ms\tremaining: 749us\n",
      "95:\tlearn: 0.0645073\ttotal: 14.4ms\tremaining: 599us\n",
      "96:\tlearn: 0.0639075\ttotal: 14.5ms\tremaining: 448us\n",
      "97:\tlearn: 0.0634880\ttotal: 14.6ms\tremaining: 298us\n",
      "98:\tlearn: 0.0630358\ttotal: 14.8ms\tremaining: 149us\n",
      "99:\tlearn: 0.0625576\ttotal: 14.9ms\tremaining: 0us\n",
      "CatBoost Classifier CV mean accuracy:  0.9660389610389611\n"
     ]
    }
   ],
   "source": [
    "# Evaluate the CatBoost Classifier pipeline using cross-validation on the training set\n",
    "cat_cv_results = cross_val_score(cat_pipeline, X_train, y_train, cv=kfold)\n",
    "print(\"CatBoost Classifier CV mean accuracy: \", cat_cv_results.mean())"
   ]
  },
  {
   "cell_type": "code",
   "execution_count": 96,
   "metadata": {
    "id": "QmMuGFwBRvAz"
   },
   "outputs": [
    {
     "name": "stdout",
     "output_type": "stream",
     "text": [
      "___________________________CatBoost Classifier_______________________\n",
      "\n",
      "# Classification report\n",
      "              precision    recall  f1-score   support\n",
      "\n",
      "           0       0.97      0.97      0.97        91\n",
      "           1       0.94      0.94      0.94        49\n",
      "\n",
      "    accuracy                           0.96       140\n",
      "   macro avg       0.95      0.95      0.95       140\n",
      "weighted avg       0.96      0.96      0.96       140\n",
      "\n",
      "# Confusion matrix\n"
     ]
    },
    {
     "data": {
      "image/png": "[encoded data removed]",
      "text/plain": [
       "<Figure size 640x480 with 2 Axes>"
      ]
     },
     "metadata": {},
     "output_type": "display_data"
    }
   ],
   "source": [
    "# Classification report, confusion matrix\n",
    "\n",
    "print('___________________________CatBoost Classifier_______________________')\n",
    "print()\n",
    "# evaluating model on test dataset\n",
    "y_pred = cat_pipeline.predict(X_test)\n",
    "print('# Classification report')\n",
    "print(classification_report(y_test,y_pred))\n",
    "print('# Confusion matrix')\n",
    "cmap = 'summer'\n",
    "display_labels=['Benign','Malignant']\n",
    "cm = confusion_matrix(y_test,y_pred)\n",
    "disp = ConfusionMatrixDisplay(confusion_matrix=cm, display_labels=display_labels)\n",
    "disp.plot(cmap=cmap)\n",
    "plt.show()"
   ]
  },
  {
   "cell_type": "markdown",
   "metadata": {
    "id": "ZBJvTzGCl35H"
   },
   "source": [
    "### __4.2.6 Advantages of Boosting__\n",
    "\n",
    "- It enhances accuracy by reducing both bias and variance significantly.\n",
    "- It is adaptable and compatible with various types of models.\n",
    "- It is efficient in complex scenarios where simple models struggle.\n"
   ]
  },
  {
   "cell_type": "markdown",
   "metadata": {
    "id": "ZtTBAqj6l35H"
   },
   "source": [
    "### __4.2.7 Disadvantages of Boosting__\n",
    "\n",
    "- It is more susceptible to overfitting compared to bagging when dealing with noisy data.\n",
    "- It demands more computational resources as models are trained sequentially.\n",
    "- It requires careful parameter tuning to prevent overfitting."
   ]
  },
  {
   "cell_type": "markdown",
   "metadata": {
    "id": "ISzmy1N4l35H"
   },
   "source": [
    "### __4.3 Stacking__"
   ]
  },
  {
   "cell_type": "markdown",
   "metadata": {
    "id": "UFdDShzal35I"
   },
   "source": [
    "Stacking combines multiple classification or regression models via a meta model which could be a meta-classifier or a meta-regressor. After training the base models on the complete dataset, the meta-model trains on the base models' outputs as features, to give final prediction.\n",
    "\n",
    "This technique leverages the strengths of each base model and can achieve higher accuracy.\n",
    "\n",
    "* In stacking, as opposed to bagging, a variety of models (not solely decision trees) are employed, all of which are trained on the same full dataset rather than on subsets.\n",
    "* Unlike boosting, in stacking, a single model is used to learn how to best combine the predictions from the contributing models (e.g. instead of a sequence of models that correct the predictions of prior models)."
   ]
  },
  {
   "cell_type": "markdown",
   "metadata": {
    "id": "c91jJx3ml35I"
   },
   "source": [
    "\n",
    "![link text](https://labcontent.simplicdn.net/data-content/content-assets/Data_and_AI/ML/updated/Lesson_05/image7.png)"
   ]
  },
  {
   "cell_type": "markdown",
   "metadata": {
    "id": "Tld9diA9l35I"
   },
   "source": [
    "__Note:__ The numbering shown in the above image specifically outlines the workflow for stacking."
   ]
  },
  {
   "cell_type": "markdown",
   "metadata": {
    "id": "FfLBZ8lTl35I"
   },
   "source": [
    "- Stacking aims to leverage the advantages of different base models by inputting their predictions into a meta-model.\n",
    "\n",
    "The structure of a stacking model consists of multiple base models, also known as level-0 models, alongside a meta-model that integrates their predictions, known as the level-1 model.\n",
    "\n",
    "* Level-0 Models (**Base Models**): These models are trained on the full training dataset, and their individual predictions are aggregated.\n",
    "* Level-1 Model (**Meta-Model**): This model is designed to optimally combine the predictions of multiple base models to generate the final prediction.\n"
   ]
  },
  {
   "cell_type": "code",
   "execution_count": 97,
   "metadata": {
    "id": "usaORpXSl35I"
   },
   "outputs": [
    {
     "name": "stdout",
     "output_type": "stream",
     "text": [
      "Requirement already satisfied: vecstack in /Users/xyz-ai/Developer/python3-code/ml/.venv/lib/python3.12/site-packages (0.4.0)\n",
      "Requirement already satisfied: numpy in /Users/xyz-ai/Developer/python3-code/ml/.venv/lib/python3.12/site-packages (from vecstack) (2.1.3)\n",
      "Requirement already satisfied: scipy in /Users/xyz-ai/Developer/python3-code/ml/.venv/lib/python3.12/site-packages (from vecstack) (1.15.2)\n",
      "Requirement already satisfied: scikit-learn>=0.18 in /Users/xyz-ai/Developer/python3-code/ml/.venv/lib/python3.12/site-packages (from vecstack) (1.6.1)\n",
      "Requirement already satisfied: joblib>=1.2.0 in /Users/xyz-ai/Developer/python3-code/ml/.venv/lib/python3.12/site-packages (from scikit-learn>=0.18->vecstack) (1.4.2)\n",
      "Requirement already satisfied: threadpoolctl>=3.1.0 in /Users/xyz-ai/Developer/python3-code/ml/.venv/lib/python3.12/site-packages (from scikit-learn>=0.18->vecstack) (3.6.0)\n",
      "\n",
      "\u001b[1m[\u001b[0m\u001b[34;49mnotice\u001b[0m\u001b[1;39;49m]\u001b[0m\u001b[39;49m A new release of pip is available: \u001b[0m\u001b[31;49m25.0.1\u001b[0m\u001b[39;49m -> \u001b[0m\u001b[32;49m25.1\u001b[0m\n",
      "\u001b[1m[\u001b[0m\u001b[34;49mnotice\u001b[0m\u001b[1;39;49m]\u001b[0m\u001b[39;49m To update, run: \u001b[0m\u001b[32;49mpip install --upgrade pip\u001b[0m\n"
     ]
    }
   ],
   "source": [
    "# Import Required Libraries\n",
    "# vecstack: is Python package for stacking\n",
    "!pip install vecstack"
   ]
  },
  {
   "cell_type": "code",
   "execution_count": 98,
   "metadata": {
    "id": "TyQx0mmNTZ4h"
   },
   "outputs": [
    {
     "data": {
      "text/html": [
       "<div>\n",
       "<style scoped>\n",
       "    .dataframe tbody tr th:only-of-type {\n",
       "        vertical-align: middle;\n",
       "    }\n",
       "\n",
       "    .dataframe tbody tr th {\n",
       "        vertical-align: top;\n",
       "    }\n",
       "\n",
       "    .dataframe thead th {\n",
       "        text-align: right;\n",
       "    }\n",
       "</style>\n",
       "<table border=\"1\" class=\"dataframe\">\n",
       "  <thead>\n",
       "    <tr style=\"text-align: right;\">\n",
       "      <th></th>\n",
       "      <th>Class</th>\n",
       "      <th>Alcohol</th>\n",
       "      <th>Malic acid</th>\n",
       "      <th>Ash</th>\n",
       "      <th>Alkalinity of ash</th>\n",
       "      <th>Magnesium</th>\n",
       "      <th>Total phenols</th>\n",
       "      <th>Flavanoids</th>\n",
       "      <th>Nonflavanoid phenols</th>\n",
       "      <th>Proanthocyanins</th>\n",
       "      <th>Color intensity</th>\n",
       "      <th>Hue</th>\n",
       "      <th>OD280/OD315 of diluted wines</th>\n",
       "      <th>Proline</th>\n",
       "    </tr>\n",
       "  </thead>\n",
       "  <tbody>\n",
       "    <tr>\n",
       "      <th>0</th>\n",
       "      <td>1</td>\n",
       "      <td>14.23</td>\n",
       "      <td>1.71</td>\n",
       "      <td>2.43</td>\n",
       "      <td>15.6</td>\n",
       "      <td>127</td>\n",
       "      <td>2.80</td>\n",
       "      <td>3.06</td>\n",
       "      <td>0.28</td>\n",
       "      <td>2.29</td>\n",
       "      <td>5.64</td>\n",
       "      <td>1.04</td>\n",
       "      <td>3.92</td>\n",
       "      <td>1065</td>\n",
       "    </tr>\n",
       "    <tr>\n",
       "      <th>1</th>\n",
       "      <td>1</td>\n",
       "      <td>13.20</td>\n",
       "      <td>1.78</td>\n",
       "      <td>2.14</td>\n",
       "      <td>11.2</td>\n",
       "      <td>100</td>\n",
       "      <td>2.65</td>\n",
       "      <td>2.76</td>\n",
       "      <td>0.26</td>\n",
       "      <td>1.28</td>\n",
       "      <td>4.38</td>\n",
       "      <td>1.05</td>\n",
       "      <td>3.40</td>\n",
       "      <td>1050</td>\n",
       "    </tr>\n",
       "    <tr>\n",
       "      <th>2</th>\n",
       "      <td>1</td>\n",
       "      <td>13.16</td>\n",
       "      <td>2.36</td>\n",
       "      <td>2.67</td>\n",
       "      <td>18.6</td>\n",
       "      <td>101</td>\n",
       "      <td>2.80</td>\n",
       "      <td>3.24</td>\n",
       "      <td>0.30</td>\n",
       "      <td>2.81</td>\n",
       "      <td>5.68</td>\n",
       "      <td>1.03</td>\n",
       "      <td>3.17</td>\n",
       "      <td>1185</td>\n",
       "    </tr>\n",
       "    <tr>\n",
       "      <th>3</th>\n",
       "      <td>1</td>\n",
       "      <td>14.37</td>\n",
       "      <td>1.95</td>\n",
       "      <td>2.50</td>\n",
       "      <td>16.8</td>\n",
       "      <td>113</td>\n",
       "      <td>3.85</td>\n",
       "      <td>3.49</td>\n",
       "      <td>0.24</td>\n",
       "      <td>2.18</td>\n",
       "      <td>7.80</td>\n",
       "      <td>0.86</td>\n",
       "      <td>3.45</td>\n",
       "      <td>1480</td>\n",
       "    </tr>\n",
       "    <tr>\n",
       "      <th>4</th>\n",
       "      <td>1</td>\n",
       "      <td>13.24</td>\n",
       "      <td>2.59</td>\n",
       "      <td>2.87</td>\n",
       "      <td>21.0</td>\n",
       "      <td>118</td>\n",
       "      <td>2.80</td>\n",
       "      <td>2.69</td>\n",
       "      <td>0.39</td>\n",
       "      <td>1.82</td>\n",
       "      <td>4.32</td>\n",
       "      <td>1.04</td>\n",
       "      <td>2.93</td>\n",
       "      <td>735</td>\n",
       "    </tr>\n",
       "  </tbody>\n",
       "</table>\n",
       "</div>"
      ],
      "text/plain": [
       "   Class  Alcohol  Malic acid   Ash  Alkalinity of ash  Magnesium  \\\n",
       "0      1    14.23        1.71  2.43               15.6        127   \n",
       "1      1    13.20        1.78  2.14               11.2        100   \n",
       "2      1    13.16        2.36  2.67               18.6        101   \n",
       "3      1    14.37        1.95  2.50               16.8        113   \n",
       "4      1    13.24        2.59  2.87               21.0        118   \n",
       "\n",
       "   Total phenols  Flavanoids  Nonflavanoid phenols  Proanthocyanins  \\\n",
       "0           2.80        3.06                  0.28             2.29   \n",
       "1           2.65        2.76                  0.26             1.28   \n",
       "2           2.80        3.24                  0.30             2.81   \n",
       "3           3.85        3.49                  0.24             2.18   \n",
       "4           2.80        2.69                  0.39             1.82   \n",
       "\n",
       "   Color intensity   Hue  OD280/OD315 of diluted wines  Proline  \n",
       "0             5.64  1.04                          3.92     1065  \n",
       "1             4.38  1.05                          3.40     1050  \n",
       "2             5.68  1.03                          3.17     1185  \n",
       "3             7.80  0.86                          3.45     1480  \n",
       "4             4.32  1.04                          2.93      735  "
      ]
     },
     "execution_count": 98,
     "metadata": {},
     "output_type": "execute_result"
    }
   ],
   "source": [
    "# Import necessary libraries like pandas, sklearn and vecstack\n",
    "import pandas as pd\n",
    "from sklearn.model_selection import train_test_split\n",
    "from sklearn.neighbors import KNeighborsClassifier\n",
    "from sklearn.ensemble import RandomForestClassifier\n",
    "from xgboost import XGBClassifier\n",
    "from sklearn.linear_model import LogisticRegression\n",
    "from sklearn.metrics import accuracy_score\n",
    "from vecstack import stacking\n",
    "from sklearn.preprocessing import LabelEncoder\n",
    "\n",
    "\n",
    "# Define the URL of the dataset\n",
    "link = 'https://archive.ics.uci.edu/ml/machine-learning-databases/wine/wine.data'\n",
    "\n",
    "# Define column names for the dataset\n",
    "names = ['Class', 'Alcohol', 'Malic acid', 'Ash',\n",
    "         'Alkalinity of ash', 'Magnesium', 'Total phenols',\n",
    "         'Flavanoids', 'Nonflavanoid phenols', 'Proanthocyanins',\n",
    "         'Color intensity', 'Hue', 'OD280/OD315 of diluted wines',\n",
    "         'Proline']\n",
    "\n",
    "# Read the dataset into a DataFrame\n",
    "df = pd.read_csv(link, header=None, names=names)\n",
    "\n",
    "df.head()"
   ]
  },
  {
   "cell_type": "code",
   "execution_count": 99,
   "metadata": {
    "id": "vXhAkm_3ws5Q"
   },
   "outputs": [
    {
     "data": {
      "text/plain": [
       "Class\n",
       "2    71\n",
       "1    59\n",
       "3    48\n",
       "Name: count, dtype: int64"
      ]
     },
     "execution_count": 99,
     "metadata": {},
     "output_type": "execute_result"
    }
   ],
   "source": [
    "df['Class'].value_counts()"
   ]
  },
  {
   "cell_type": "code",
   "execution_count": 100,
   "metadata": {
    "id": "O_c8HahCwnq4"
   },
   "outputs": [],
   "source": [
    "# Separate features and target variable\n",
    "X = df.drop('Class', axis=1)\n",
    "y = df['Class']\n",
    "\n",
    "# Initialize LabelEncoder\n",
    "le = LabelEncoder()\n",
    "\n",
    "# Transform target variable y_train using LabelEncoder\n",
    "y = le.fit_transform(y)"
   ]
  },
  {
   "cell_type": "markdown",
   "metadata": {
    "id": "pPGCUEB-Qp3t"
   },
   "source": [
    "- `stacking` in `vecstack` allows for custom cross-validation strategies, including stratified k-fold cross-validation, shuffling, and setting random seeds for reproducibility.\n",
    "- This feature provides more control over model training and evaluation\n",
    "- `vecstack` explicitly generates out-of-fold predictions for the training data, which can be used as features for the meta-model. This process can help in preventing overfitting and providing a robust estimate of model performance."
   ]
  },
  {
   "cell_type": "code",
   "execution_count": 101,
   "metadata": {
    "id": "MrXd18kITvw_"
   },
   "outputs": [],
   "source": [
    "# Split the dataset into training and testing sets\n",
    "X_train, X_test, y_train, y_test = train_test_split(X, y, test_size=0.2, random_state=42)"
   ]
  },
  {
   "cell_type": "code",
   "execution_count": 102,
   "metadata": {
    "id": "PlMvHxe6w0RO"
   },
   "outputs": [],
   "source": [
    "# Define base models: KNN, Random Forest and XGB\n",
    "models = [\n",
    "    KNeighborsClassifier(n_neighbors=5),\n",
    "    RandomForestClassifier(n_estimators=100, random_state=42),\n",
    "    XGBClassifier(eval_metric='mlogloss')\n",
    "]"
   ]
  },
  {
   "cell_type": "code",
   "execution_count": 103,
   "metadata": {
    "id": "NlcJndP1w0Wd"
   },
   "outputs": [],
   "source": [
    "# Define meta-model\n",
    "meta_model = LogisticRegression(solver='liblinear')"
   ]
  },
  {
   "cell_type": "markdown",
   "metadata": {
    "id": "G_x-axHZl35J"
   },
   "source": [
    "__Observation:__\n",
    "- The different classifiers such as KNN, Random forest and XGBoost classifier are set as the base models.\n",
    "- As the Meta model, Logistic Regression is chosen. Logistic Regression is a common choice for a meta-model in stacking because it is a simple and interpretable linear model that often performs well in combining the outputs of diverse base models."
   ]
  },
  {
   "cell_type": "markdown",
   "metadata": {
    "id": "Sh9mmgV0l35J"
   },
   "source": [
    "__S Train__ refers to a subset of the original training data used for training base models in a stacking ensemble.\n",
    "\n",
    "__S Test__ is another subset used to generate base model predictions, serving as input for the meta-model. It is crucial for generating predictions from these base models, which then act as new features for the meta-model.\n",
    "\n",
    "This two-step approach allows the ensemble to capture and leverage the unique strengths of each base model, thus improving overall predictive performance."
   ]
  },
  {
   "cell_type": "markdown",
   "metadata": {
    "id": "DtiyyVxIl35J"
   },
   "source": [
    "- Let us do the S_train and S_tests, as you will be stacking the models by passing train of X and y."
   ]
  },
  {
   "cell_type": "code",
   "execution_count": 104,
   "metadata": {
    "id": "uUAEPzcqUpxt"
   },
   "outputs": [
    {
     "name": "stderr",
     "output_type": "stream",
     "text": [
      "/Users/xyz-ai/Developer/python3-code/ml/.venv/lib/python3.12/site-packages/sklearn/utils/deprecation.py:151: FutureWarning: 'force_all_finite' was renamed to 'ensure_all_finite' in 1.6 and will be removed in 1.8.\n",
      "  warnings.warn(\n",
      "/Users/xyz-ai/Developer/python3-code/ml/.venv/lib/python3.12/site-packages/sklearn/utils/deprecation.py:151: FutureWarning: 'force_all_finite' was renamed to 'ensure_all_finite' in 1.6 and will be removed in 1.8.\n",
      "  warnings.warn(\n"
     ]
    },
    {
     "name": "stdout",
     "output_type": "stream",
     "text": [
      "task:         [classification]\n",
      "n_classes:    [3]\n",
      "metric:       [accuracy_score]\n",
      "mode:         [oof_pred_bag]\n",
      "n_models:     [3]\n",
      "\n",
      "model  0:     [KNeighborsClassifier]\n",
      "    fold  0:  [0.82758621]\n",
      "    fold  1:  [0.65517241]\n",
      "    fold  2:  [0.64285714]\n",
      "    fold  3:  [0.64285714]\n",
      "    fold  4:  [0.75000000]\n",
      "    ----\n",
      "    MEAN:     [0.70369458] + [0.07382427]\n",
      "    FULL:     [0.70422535]\n",
      "\n",
      "model  1:     [RandomForestClassifier]\n",
      "    fold  0:  [1.00000000]\n",
      "    fold  1:  [0.96551724]\n",
      "    fold  2:  [1.00000000]\n",
      "    fold  3:  [0.92857143]\n",
      "    fold  4:  [1.00000000]\n",
      "    ----\n",
      "    MEAN:     [0.97881773] + [0.02845227]\n",
      "    FULL:     [0.97887324]\n",
      "\n",
      "model  2:     [XGBClassifier]\n",
      "    fold  0:  [1.00000000]\n",
      "    fold  1:  [0.89655172]\n",
      "    fold  2:  [0.92857143]\n",
      "    fold  3:  [0.92857143]\n",
      "    fold  4:  [1.00000000]\n",
      "    ----\n",
      "    MEAN:     [0.95073892] + [0.04188641]\n",
      "    FULL:     [0.95070423]\n",
      "\n"
     ]
    }
   ],
   "source": [
    "# Perform stacking\n",
    "# S_train is predictions from the base models on the training data\n",
    "# S_test is predictions from the base models on the test data\n",
    "# Bases models are trained on X_train and y_train only\n",
    "S_train, S_test = stacking(models, X_train, y_train, X_test,\n",
    "                           regression=False, metric=accuracy_score,\n",
    "                           n_folds=5, stratified=True, shuffle=True,\n",
    "                           random_state=42, verbose=2)"
   ]
  },
  {
   "cell_type": "code",
   "execution_count": 105,
   "metadata": {},
   "outputs": [
    {
     "data": {
      "text/plain": [
       "(142, 36)"
      ]
     },
     "execution_count": 105,
     "metadata": {},
     "output_type": "execute_result"
    }
   ],
   "source": [
    "len(S_train), len(S_test)"
   ]
  },
  {
   "cell_type": "code",
   "execution_count": 106,
   "metadata": {
    "id": "fc1i9N3yzf_M"
   },
   "outputs": [
    {
     "data": {
      "text/plain": [
       "array([[2, 2, 2],\n",
       "       [2, 2, 2],\n",
       "       [2, 1, 0],\n",
       "       [1, 2, 2],\n",
       "       [0, 0, 1]])"
      ]
     },
     "execution_count": 106,
     "metadata": {},
     "output_type": "execute_result"
    }
   ],
   "source": [
    "S_train[:5]"
   ]
  },
  {
   "cell_type": "code",
   "execution_count": 107,
   "metadata": {
    "id": "5V7cGuGJzrVg"
   },
   "outputs": [
    {
     "data": {
      "text/plain": [
       "array([[2, 0, 0],\n",
       "       [0, 0, 0],\n",
       "       [2, 2, 2],\n",
       "       [0, 0, 0],\n",
       "       [1, 1, 1]])"
      ]
     },
     "execution_count": 107,
     "metadata": {},
     "output_type": "execute_result"
    }
   ],
   "source": [
    "S_test[:5]"
   ]
  },
  {
   "cell_type": "code",
   "execution_count": 108,
   "metadata": {
    "id": "u-NEoW3qzc9j"
   },
   "outputs": [
    {
     "data": {
      "text/html": [
       "<style>#sk-container-id-4 {\n",
       "  /* Definition of color scheme common for light and dark mode */\n",
       "  --sklearn-color-text: #000;\n",
       "  --sklearn-color-text-muted: #666;\n",
       "  --sklearn-color-line: gray;\n",
       "  /* Definition of color scheme for unfitted estimators */\n",
       "  --sklearn-color-unfitted-level-0: #fff5e6;\n",
       "  --sklearn-color-unfitted-level-1: #f6e4d2;\n",
       "  --sklearn-color-unfitted-level-2: #ffe0b3;\n",
       "  --sklearn-color-unfitted-level-3: chocolate;\n",
       "  /* Definition of color scheme for fitted estimators */\n",
       "  --sklearn-color-fitted-level-0: #f0f8ff;\n",
       "  --sklearn-color-fitted-level-1: #d4ebff;\n",
       "  --sklearn-color-fitted-level-2: #b3dbfd;\n",
       "  --sklearn-color-fitted-level-3: cornflowerblue;\n",
       "\n",
       "  /* Specific color for light theme */\n",
       "  --sklearn-color-text-on-default-background: var(--sg-text-color, var(--theme-code-foreground, var(--jp-content-font-color1, black)));\n",
       "  --sklearn-color-background: var(--sg-background-color, var(--theme-background, var(--jp-layout-color0, white)));\n",
       "  --sklearn-color-border-box: var(--sg-text-color, var(--theme-code-foreground, var(--jp-content-font-color1, black)));\n",
       "  --sklearn-color-icon: #696969;\n",
       "\n",
       "  @media (prefers-color-scheme: dark) {\n",
       "    /* Redefinition of color scheme for dark theme */\n",
       "    --sklearn-color-text-on-default-background: var(--sg-text-color, var(--theme-code-foreground, var(--jp-content-font-color1, white)));\n",
       "    --sklearn-color-background: var(--sg-background-color, var(--theme-background, var(--jp-layout-color0, #111)));\n",
       "    --sklearn-color-border-box: var(--sg-text-color, var(--theme-code-foreground, var(--jp-content-font-color1, white)));\n",
       "    --sklearn-color-icon: #878787;\n",
       "  }\n",
       "}\n",
       "\n",
       "#sk-container-id-4 {\n",
       "  color: var(--sklearn-color-text);\n",
       "}\n",
       "\n",
       "#sk-container-id-4 pre {\n",
       "  padding: 0;\n",
       "}\n",
       "\n",
       "#sk-container-id-4 input.sk-hidden--visually {\n",
       "  border: 0;\n",
       "  clip: rect(1px 1px 1px 1px);\n",
       "  clip: rect(1px, 1px, 1px, 1px);\n",
       "  height: 1px;\n",
       "  margin: -1px;\n",
       "  overflow: hidden;\n",
       "  padding: 0;\n",
       "  position: absolute;\n",
       "  width: 1px;\n",
       "}\n",
       "\n",
       "#sk-container-id-4 div.sk-dashed-wrapped {\n",
       "  border: 1px dashed var(--sklearn-color-line);\n",
       "  margin: 0 0.4em 0.5em 0.4em;\n",
       "  box-sizing: border-box;\n",
       "  padding-bottom: 0.4em;\n",
       "  background-color: var(--sklearn-color-background);\n",
       "}\n",
       "\n",
       "#sk-container-id-4 div.sk-container {\n",
       "  /* jupyter's `normalize.less` sets `[hidden] { display: none; }`\n",
       "     but bootstrap.min.css set `[hidden] { display: none !important; }`\n",
       "     so we also need the `!important` here to be able to override the\n",
       "     default hidden behavior on the sphinx rendered scikit-learn.org.\n",
       "     See: https://github.com/scikit-learn/scikit-learn/issues/21755 */\n",
       "  display: inline-block !important;\n",
       "  position: relative;\n",
       "}\n",
       "\n",
       "#sk-container-id-4 div.sk-text-repr-fallback {\n",
       "  display: none;\n",
       "}\n",
       "\n",
       "div.sk-parallel-item,\n",
       "div.sk-serial,\n",
       "div.sk-item {\n",
       "  /* draw centered vertical line to link estimators */\n",
       "  background-image: linear-gradient(var(--sklearn-color-text-on-default-background), var(--sklearn-color-text-on-default-background));\n",
       "  background-size: 2px 100%;\n",
       "  background-repeat: no-repeat;\n",
       "  background-position: center center;\n",
       "}\n",
       "\n",
       "/* Parallel-specific style estimator block */\n",
       "\n",
       "#sk-container-id-4 div.sk-parallel-item::after {\n",
       "  content: \"\";\n",
       "  width: 100%;\n",
       "  border-bottom: 2px solid var(--sklearn-color-text-on-default-background);\n",
       "  flex-grow: 1;\n",
       "}\n",
       "\n",
       "#sk-container-id-4 div.sk-parallel {\n",
       "  display: flex;\n",
       "  align-items: stretch;\n",
       "  justify-content: center;\n",
       "  background-color: var(--sklearn-color-background);\n",
       "  position: relative;\n",
       "}\n",
       "\n",
       "#sk-container-id-4 div.sk-parallel-item {\n",
       "  display: flex;\n",
       "  flex-direction: column;\n",
       "}\n",
       "\n",
       "#sk-container-id-4 div.sk-parallel-item:first-child::after {\n",
       "  align-self: flex-end;\n",
       "  width: 50%;\n",
       "}\n",
       "\n",
       "#sk-container-id-4 div.sk-parallel-item:last-child::after {\n",
       "  align-self: flex-start;\n",
       "  width: 50%;\n",
       "}\n",
       "\n",
       "#sk-container-id-4 div.sk-parallel-item:only-child::after {\n",
       "  width: 0;\n",
       "}\n",
       "\n",
       "/* Serial-specific style estimator block */\n",
       "\n",
       "#sk-container-id-4 div.sk-serial {\n",
       "  display: flex;\n",
       "  flex-direction: column;\n",
       "  align-items: center;\n",
       "  background-color: var(--sklearn-color-background);\n",
       "  padding-right: 1em;\n",
       "  padding-left: 1em;\n",
       "}\n",
       "\n",
       "\n",
       "/* Toggleable style: style used for estimator/Pipeline/ColumnTransformer box that is\n",
       "clickable and can be expanded/collapsed.\n",
       "- Pipeline and ColumnTransformer use this feature and define the default style\n",
       "- Estimators will overwrite some part of the style using the `sk-estimator` class\n",
       "*/\n",
       "\n",
       "/* Pipeline and ColumnTransformer style (default) */\n",
       "\n",
       "#sk-container-id-4 div.sk-toggleable {\n",
       "  /* Default theme specific background. It is overwritten whether we have a\n",
       "  specific estimator or a Pipeline/ColumnTransformer */\n",
       "  background-color: var(--sklearn-color-background);\n",
       "}\n",
       "\n",
       "/* Toggleable label */\n",
       "#sk-container-id-4 label.sk-toggleable__label {\n",
       "  cursor: pointer;\n",
       "  display: flex;\n",
       "  width: 100%;\n",
       "  margin-bottom: 0;\n",
       "  padding: 0.5em;\n",
       "  box-sizing: border-box;\n",
       "  text-align: center;\n",
       "  align-items: start;\n",
       "  justify-content: space-between;\n",
       "  gap: 0.5em;\n",
       "}\n",
       "\n",
       "#sk-container-id-4 label.sk-toggleable__label .caption {\n",
       "  font-size: 0.6rem;\n",
       "  font-weight: lighter;\n",
       "  color: var(--sklearn-color-text-muted);\n",
       "}\n",
       "\n",
       "#sk-container-id-4 label.sk-toggleable__label-arrow:before {\n",
       "  /* Arrow on the left of the label */\n",
       "  content: \"▸\";\n",
       "  float: left;\n",
       "  margin-right: 0.25em;\n",
       "  color: var(--sklearn-color-icon);\n",
       "}\n",
       "\n",
       "#sk-container-id-4 label.sk-toggleable__label-arrow:hover:before {\n",
       "  color: var(--sklearn-color-text);\n",
       "}\n",
       "\n",
       "/* Toggleable content - dropdown */\n",
       "\n",
       "#sk-container-id-4 div.sk-toggleable__content {\n",
       "  max-height: 0;\n",
       "  max-width: 0;\n",
       "  overflow: hidden;\n",
       "  text-align: left;\n",
       "  /* unfitted */\n",
       "  background-color: var(--sklearn-color-unfitted-level-0);\n",
       "}\n",
       "\n",
       "#sk-container-id-4 div.sk-toggleable__content.fitted {\n",
       "  /* fitted */\n",
       "  background-color: var(--sklearn-color-fitted-level-0);\n",
       "}\n",
       "\n",
       "#sk-container-id-4 div.sk-toggleable__content pre {\n",
       "  margin: 0.2em;\n",
       "  border-radius: 0.25em;\n",
       "  color: var(--sklearn-color-text);\n",
       "  /* unfitted */\n",
       "  background-color: var(--sklearn-color-unfitted-level-0);\n",
       "}\n",
       "\n",
       "#sk-container-id-4 div.sk-toggleable__content.fitted pre {\n",
       "  /* unfitted */\n",
       "  background-color: var(--sklearn-color-fitted-level-0);\n",
       "}\n",
       "\n",
       "#sk-container-id-4 input.sk-toggleable__control:checked~div.sk-toggleable__content {\n",
       "  /* Expand drop-down */\n",
       "  max-height: 200px;\n",
       "  max-width: 100%;\n",
       "  overflow: auto;\n",
       "}\n",
       "\n",
       "#sk-container-id-4 input.sk-toggleable__control:checked~label.sk-toggleable__label-arrow:before {\n",
       "  content: \"▾\";\n",
       "}\n",
       "\n",
       "/* Pipeline/ColumnTransformer-specific style */\n",
       "\n",
       "#sk-container-id-4 div.sk-label input.sk-toggleable__control:checked~label.sk-toggleable__label {\n",
       "  color: var(--sklearn-color-text);\n",
       "  background-color: var(--sklearn-color-unfitted-level-2);\n",
       "}\n",
       "\n",
       "#sk-container-id-4 div.sk-label.fitted input.sk-toggleable__control:checked~label.sk-toggleable__label {\n",
       "  background-color: var(--sklearn-color-fitted-level-2);\n",
       "}\n",
       "\n",
       "/* Estimator-specific style */\n",
       "\n",
       "/* Colorize estimator box */\n",
       "#sk-container-id-4 div.sk-estimator input.sk-toggleable__control:checked~label.sk-toggleable__label {\n",
       "  /* unfitted */\n",
       "  background-color: var(--sklearn-color-unfitted-level-2);\n",
       "}\n",
       "\n",
       "#sk-container-id-4 div.sk-estimator.fitted input.sk-toggleable__control:checked~label.sk-toggleable__label {\n",
       "  /* fitted */\n",
       "  background-color: var(--sklearn-color-fitted-level-2);\n",
       "}\n",
       "\n",
       "#sk-container-id-4 div.sk-label label.sk-toggleable__label,\n",
       "#sk-container-id-4 div.sk-label label {\n",
       "  /* The background is the default theme color */\n",
       "  color: var(--sklearn-color-text-on-default-background);\n",
       "}\n",
       "\n",
       "/* On hover, darken the color of the background */\n",
       "#sk-container-id-4 div.sk-label:hover label.sk-toggleable__label {\n",
       "  color: var(--sklearn-color-text);\n",
       "  background-color: var(--sklearn-color-unfitted-level-2);\n",
       "}\n",
       "\n",
       "/* Label box, darken color on hover, fitted */\n",
       "#sk-container-id-4 div.sk-label.fitted:hover label.sk-toggleable__label.fitted {\n",
       "  color: var(--sklearn-color-text);\n",
       "  background-color: var(--sklearn-color-fitted-level-2);\n",
       "}\n",
       "\n",
       "/* Estimator label */\n",
       "\n",
       "#sk-container-id-4 div.sk-label label {\n",
       "  font-family: monospace;\n",
       "  font-weight: bold;\n",
       "  display: inline-block;\n",
       "  line-height: 1.2em;\n",
       "}\n",
       "\n",
       "#sk-container-id-4 div.sk-label-container {\n",
       "  text-align: center;\n",
       "}\n",
       "\n",
       "/* Estimator-specific */\n",
       "#sk-container-id-4 div.sk-estimator {\n",
       "  font-family: monospace;\n",
       "  border: 1px dotted var(--sklearn-color-border-box);\n",
       "  border-radius: 0.25em;\n",
       "  box-sizing: border-box;\n",
       "  margin-bottom: 0.5em;\n",
       "  /* unfitted */\n",
       "  background-color: var(--sklearn-color-unfitted-level-0);\n",
       "}\n",
       "\n",
       "#sk-container-id-4 div.sk-estimator.fitted {\n",
       "  /* fitted */\n",
       "  background-color: var(--sklearn-color-fitted-level-0);\n",
       "}\n",
       "\n",
       "/* on hover */\n",
       "#sk-container-id-4 div.sk-estimator:hover {\n",
       "  /* unfitted */\n",
       "  background-color: var(--sklearn-color-unfitted-level-2);\n",
       "}\n",
       "\n",
       "#sk-container-id-4 div.sk-estimator.fitted:hover {\n",
       "  /* fitted */\n",
       "  background-color: var(--sklearn-color-fitted-level-2);\n",
       "}\n",
       "\n",
       "/* Specification for estimator info (e.g. \"i\" and \"?\") */\n",
       "\n",
       "/* Common style for \"i\" and \"?\" */\n",
       "\n",
       ".sk-estimator-doc-link,\n",
       "a:link.sk-estimator-doc-link,\n",
       "a:visited.sk-estimator-doc-link {\n",
       "  float: right;\n",
       "  font-size: smaller;\n",
       "  line-height: 1em;\n",
       "  font-family: monospace;\n",
       "  background-color: var(--sklearn-color-background);\n",
       "  border-radius: 1em;\n",
       "  height: 1em;\n",
       "  width: 1em;\n",
       "  text-decoration: none !important;\n",
       "  margin-left: 0.5em;\n",
       "  text-align: center;\n",
       "  /* unfitted */\n",
       "  border: var(--sklearn-color-unfitted-level-1) 1pt solid;\n",
       "  color: var(--sklearn-color-unfitted-level-1);\n",
       "}\n",
       "\n",
       ".sk-estimator-doc-link.fitted,\n",
       "a:link.sk-estimator-doc-link.fitted,\n",
       "a:visited.sk-estimator-doc-link.fitted {\n",
       "  /* fitted */\n",
       "  border: var(--sklearn-color-fitted-level-1) 1pt solid;\n",
       "  color: var(--sklearn-color-fitted-level-1);\n",
       "}\n",
       "\n",
       "/* On hover */\n",
       "div.sk-estimator:hover .sk-estimator-doc-link:hover,\n",
       ".sk-estimator-doc-link:hover,\n",
       "div.sk-label-container:hover .sk-estimator-doc-link:hover,\n",
       ".sk-estimator-doc-link:hover {\n",
       "  /* unfitted */\n",
       "  background-color: var(--sklearn-color-unfitted-level-3);\n",
       "  color: var(--sklearn-color-background);\n",
       "  text-decoration: none;\n",
       "}\n",
       "\n",
       "div.sk-estimator.fitted:hover .sk-estimator-doc-link.fitted:hover,\n",
       ".sk-estimator-doc-link.fitted:hover,\n",
       "div.sk-label-container:hover .sk-estimator-doc-link.fitted:hover,\n",
       ".sk-estimator-doc-link.fitted:hover {\n",
       "  /* fitted */\n",
       "  background-color: var(--sklearn-color-fitted-level-3);\n",
       "  color: var(--sklearn-color-background);\n",
       "  text-decoration: none;\n",
       "}\n",
       "\n",
       "/* Span, style for the box shown on hovering the info icon */\n",
       ".sk-estimator-doc-link span {\n",
       "  display: none;\n",
       "  z-index: 9999;\n",
       "  position: relative;\n",
       "  font-weight: normal;\n",
       "  right: .2ex;\n",
       "  padding: .5ex;\n",
       "  margin: .5ex;\n",
       "  width: min-content;\n",
       "  min-width: 20ex;\n",
       "  max-width: 50ex;\n",
       "  color: var(--sklearn-color-text);\n",
       "  box-shadow: 2pt 2pt 4pt #999;\n",
       "  /* unfitted */\n",
       "  background: var(--sklearn-color-unfitted-level-0);\n",
       "  border: .5pt solid var(--sklearn-color-unfitted-level-3);\n",
       "}\n",
       "\n",
       ".sk-estimator-doc-link.fitted span {\n",
       "  /* fitted */\n",
       "  background: var(--sklearn-color-fitted-level-0);\n",
       "  border: var(--sklearn-color-fitted-level-3);\n",
       "}\n",
       "\n",
       ".sk-estimator-doc-link:hover span {\n",
       "  display: block;\n",
       "}\n",
       "\n",
       "/* \"?\"-specific style due to the `<a>` HTML tag */\n",
       "\n",
       "#sk-container-id-4 a.estimator_doc_link {\n",
       "  float: right;\n",
       "  font-size: 1rem;\n",
       "  line-height: 1em;\n",
       "  font-family: monospace;\n",
       "  background-color: var(--sklearn-color-background);\n",
       "  border-radius: 1rem;\n",
       "  height: 1rem;\n",
       "  width: 1rem;\n",
       "  text-decoration: none;\n",
       "  /* unfitted */\n",
       "  color: var(--sklearn-color-unfitted-level-1);\n",
       "  border: var(--sklearn-color-unfitted-level-1) 1pt solid;\n",
       "}\n",
       "\n",
       "#sk-container-id-4 a.estimator_doc_link.fitted {\n",
       "  /* fitted */\n",
       "  border: var(--sklearn-color-fitted-level-1) 1pt solid;\n",
       "  color: var(--sklearn-color-fitted-level-1);\n",
       "}\n",
       "\n",
       "/* On hover */\n",
       "#sk-container-id-4 a.estimator_doc_link:hover {\n",
       "  /* unfitted */\n",
       "  background-color: var(--sklearn-color-unfitted-level-3);\n",
       "  color: var(--sklearn-color-background);\n",
       "  text-decoration: none;\n",
       "}\n",
       "\n",
       "#sk-container-id-4 a.estimator_doc_link.fitted:hover {\n",
       "  /* fitted */\n",
       "  background-color: var(--sklearn-color-fitted-level-3);\n",
       "}\n",
       "</style><div id=\"sk-container-id-4\" class=\"sk-top-container\"><div class=\"sk-text-repr-fallback\"><pre>LogisticRegression(solver=&#x27;liblinear&#x27;)</pre><b>In a Jupyter environment, please rerun this cell to show the HTML representation or trust the notebook. <br />On GitHub, the HTML representation is unable to render, please try loading this page with nbviewer.org.</b></div><div class=\"sk-container\" hidden><div class=\"sk-item\"><div class=\"sk-estimator fitted sk-toggleable\"><input class=\"sk-toggleable__control sk-hidden--visually\" id=\"sk-estimator-id-11\" type=\"checkbox\" checked><label for=\"sk-estimator-id-11\" class=\"sk-toggleable__label fitted sk-toggleable__label-arrow\"><div><div>LogisticRegression</div></div><div><a class=\"sk-estimator-doc-link fitted\" rel=\"noreferrer\" target=\"_blank\" href=\"https://scikit-learn.org/1.6/modules/generated/sklearn.linear_model.LogisticRegression.html\">?<span>Documentation for LogisticRegression</span></a><span class=\"sk-estimator-doc-link fitted\">i<span>Fitted</span></span></div></label><div class=\"sk-toggleable__content fitted\"><pre>LogisticRegression(solver=&#x27;liblinear&#x27;)</pre></div> </div></div></div></div>"
      ],
      "text/plain": [
       "LogisticRegression(solver='liblinear')"
      ]
     },
     "execution_count": 108,
     "metadata": {},
     "output_type": "execute_result"
    }
   ],
   "source": [
    "# Train the meta-model\n",
    "meta_model.fit(S_train, y_train)"
   ]
  },
  {
   "cell_type": "code",
   "execution_count": 109,
   "metadata": {
    "id": "B7PZeTxh0Aqe"
   },
   "outputs": [
    {
     "name": "stdout",
     "output_type": "stream",
     "text": [
      "[0 0 2 0 1 0 1 2 1 2 0 2 0 1 0 1 1 1 0 1] Exact\n",
      "[1 0 2 0 1 0 1 2 1 2 1 1 0 1 0 1 1 1 0 1] Predicted\n"
     ]
    }
   ],
   "source": [
    "# Make predictions with the meta-model\n",
    "y_pred = meta_model.predict(S_test)\n",
    "\n",
    "# Print a few results\n",
    "print(np.array(y_test)[:20],\"Exact\")\n",
    "print(y_pred[:20],\"Predicted\")"
   ]
  },
  {
   "cell_type": "code",
   "execution_count": 110,
   "metadata": {
    "id": "8_QfNtH30AtC"
   },
   "outputs": [
    {
     "name": "stdout",
     "output_type": "stream",
     "text": [
      "Accuracy of the stacking ensemble with Logistic Regression as meta-model: 0.92\n"
     ]
    }
   ],
   "source": [
    "# Evaluate the model\n",
    "accuracy = accuracy_score(y_test, y_pred)\n",
    "print(f'Accuracy of the stacking ensemble with Logistic Regression as meta-model: {accuracy:.2f}')"
   ]
  },
  {
   "cell_type": "markdown",
   "metadata": {
    "id": "gsDTQvjul35K"
   },
   "source": [
    "__Observations:__\n",
    "\n",
    " You can observe the accuracy score and other metrics for different base models:\n",
    "- For the k-nearest neighbor classifier, the mean accuracy is 70%.\n",
    "- For the random forest, the mean accuracy is 97%.\n",
    "- For the XGBoost classifier, the mean accuracy is 95%.\n",
    "\n",
    "**Accuracy of the stacking ensemble with Logistic regression as the Meta-model: 97%**"
   ]
  },
  {
   "cell_type": "markdown",
   "metadata": {
    "id": "lCc4-rTo1TMM"
   },
   "source": [
    "## Re-do the same exercise using Sickit-learn"
   ]
  },
  {
   "cell_type": "code",
   "execution_count": 111,
   "metadata": {
    "id": "tqkwX7n80V2I"
   },
   "outputs": [],
   "source": [
    "# Using Sickitlearn\n",
    "from sklearn.ensemble import StackingClassifier\n",
    "\n",
    "# Create a list of our base learners\n",
    "models = [('m1',KNeighborsClassifier(n_neighbors=5)),\n",
    "          ('m2',RandomForestClassifier(n_estimators=100, random_state=42)),\n",
    "          ('m3',XGBClassifier(eval_metric='mlogloss'))\n",
    "]\n",
    "\n",
    "# Declare\n",
    "# estimators = base learners; final estimator = meta model\n",
    "clf = StackingClassifier(\n",
    "    estimators=models,\n",
    "    final_estimator=LogisticRegression(solver='liblinear'),\n",
    "    cv=5,\n",
    "    n_jobs=1,\n",
    "    verbose=2\n",
    ")"
   ]
  },
  {
   "cell_type": "code",
   "execution_count": 112,
   "metadata": {
    "id": "VFYr_CB_0V5S"
   },
   "outputs": [
    {
     "data": {
      "text/html": [
       "<style>#sk-container-id-5 {\n",
       "  /* Definition of color scheme common for light and dark mode */\n",
       "  --sklearn-color-text: #000;\n",
       "  --sklearn-color-text-muted: #666;\n",
       "  --sklearn-color-line: gray;\n",
       "  /* Definition of color scheme for unfitted estimators */\n",
       "  --sklearn-color-unfitted-level-0: #fff5e6;\n",
       "  --sklearn-color-unfitted-level-1: #f6e4d2;\n",
       "  --sklearn-color-unfitted-level-2: #ffe0b3;\n",
       "  --sklearn-color-unfitted-level-3: chocolate;\n",
       "  /* Definition of color scheme for fitted estimators */\n",
       "  --sklearn-color-fitted-level-0: #f0f8ff;\n",
       "  --sklearn-color-fitted-level-1: #d4ebff;\n",
       "  --sklearn-color-fitted-level-2: #b3dbfd;\n",
       "  --sklearn-color-fitted-level-3: cornflowerblue;\n",
       "\n",
       "  /* Specific color for light theme */\n",
       "  --sklearn-color-text-on-default-background: var(--sg-text-color, var(--theme-code-foreground, var(--jp-content-font-color1, black)));\n",
       "  --sklearn-color-background: var(--sg-background-color, var(--theme-background, var(--jp-layout-color0, white)));\n",
       "  --sklearn-color-border-box: var(--sg-text-color, var(--theme-code-foreground, var(--jp-content-font-color1, black)));\n",
       "  --sklearn-color-icon: #696969;\n",
       "\n",
       "  @media (prefers-color-scheme: dark) {\n",
       "    /* Redefinition of color scheme for dark theme */\n",
       "    --sklearn-color-text-on-default-background: var(--sg-text-color, var(--theme-code-foreground, var(--jp-content-font-color1, white)));\n",
       "    --sklearn-color-background: var(--sg-background-color, var(--theme-background, var(--jp-layout-color0, #111)));\n",
       "    --sklearn-color-border-box: var(--sg-text-color, var(--theme-code-foreground, var(--jp-content-font-color1, white)));\n",
       "    --sklearn-color-icon: #878787;\n",
       "  }\n",
       "}\n",
       "\n",
       "#sk-container-id-5 {\n",
       "  color: var(--sklearn-color-text);\n",
       "}\n",
       "\n",
       "#sk-container-id-5 pre {\n",
       "  padding: 0;\n",
       "}\n",
       "\n",
       "#sk-container-id-5 input.sk-hidden--visually {\n",
       "  border: 0;\n",
       "  clip: rect(1px 1px 1px 1px);\n",
       "  clip: rect(1px, 1px, 1px, 1px);\n",
       "  height: 1px;\n",
       "  margin: -1px;\n",
       "  overflow: hidden;\n",
       "  padding: 0;\n",
       "  position: absolute;\n",
       "  width: 1px;\n",
       "}\n",
       "\n",
       "#sk-container-id-5 div.sk-dashed-wrapped {\n",
       "  border: 1px dashed var(--sklearn-color-line);\n",
       "  margin: 0 0.4em 0.5em 0.4em;\n",
       "  box-sizing: border-box;\n",
       "  padding-bottom: 0.4em;\n",
       "  background-color: var(--sklearn-color-background);\n",
       "}\n",
       "\n",
       "#sk-container-id-5 div.sk-container {\n",
       "  /* jupyter's `normalize.less` sets `[hidden] { display: none; }`\n",
       "     but bootstrap.min.css set `[hidden] { display: none !important; }`\n",
       "     so we also need the `!important` here to be able to override the\n",
       "     default hidden behavior on the sphinx rendered scikit-learn.org.\n",
       "     See: https://github.com/scikit-learn/scikit-learn/issues/21755 */\n",
       "  display: inline-block !important;\n",
       "  position: relative;\n",
       "}\n",
       "\n",
       "#sk-container-id-5 div.sk-text-repr-fallback {\n",
       "  display: none;\n",
       "}\n",
       "\n",
       "div.sk-parallel-item,\n",
       "div.sk-serial,\n",
       "div.sk-item {\n",
       "  /* draw centered vertical line to link estimators */\n",
       "  background-image: linear-gradient(var(--sklearn-color-text-on-default-background), var(--sklearn-color-text-on-default-background));\n",
       "  background-size: 2px 100%;\n",
       "  background-repeat: no-repeat;\n",
       "  background-position: center center;\n",
       "}\n",
       "\n",
       "/* Parallel-specific style estimator block */\n",
       "\n",
       "#sk-container-id-5 div.sk-parallel-item::after {\n",
       "  content: \"\";\n",
       "  width: 100%;\n",
       "  border-bottom: 2px solid var(--sklearn-color-text-on-default-background);\n",
       "  flex-grow: 1;\n",
       "}\n",
       "\n",
       "#sk-container-id-5 div.sk-parallel {\n",
       "  display: flex;\n",
       "  align-items: stretch;\n",
       "  justify-content: center;\n",
       "  background-color: var(--sklearn-color-background);\n",
       "  position: relative;\n",
       "}\n",
       "\n",
       "#sk-container-id-5 div.sk-parallel-item {\n",
       "  display: flex;\n",
       "  flex-direction: column;\n",
       "}\n",
       "\n",
       "#sk-container-id-5 div.sk-parallel-item:first-child::after {\n",
       "  align-self: flex-end;\n",
       "  width: 50%;\n",
       "}\n",
       "\n",
       "#sk-container-id-5 div.sk-parallel-item:last-child::after {\n",
       "  align-self: flex-start;\n",
       "  width: 50%;\n",
       "}\n",
       "\n",
       "#sk-container-id-5 div.sk-parallel-item:only-child::after {\n",
       "  width: 0;\n",
       "}\n",
       "\n",
       "/* Serial-specific style estimator block */\n",
       "\n",
       "#sk-container-id-5 div.sk-serial {\n",
       "  display: flex;\n",
       "  flex-direction: column;\n",
       "  align-items: center;\n",
       "  background-color: var(--sklearn-color-background);\n",
       "  padding-right: 1em;\n",
       "  padding-left: 1em;\n",
       "}\n",
       "\n",
       "\n",
       "/* Toggleable style: style used for estimator/Pipeline/ColumnTransformer box that is\n",
       "clickable and can be expanded/collapsed.\n",
       "- Pipeline and ColumnTransformer use this feature and define the default style\n",
       "- Estimators will overwrite some part of the style using the `sk-estimator` class\n",
       "*/\n",
       "\n",
       "/* Pipeline and ColumnTransformer style (default) */\n",
       "\n",
       "#sk-container-id-5 div.sk-toggleable {\n",
       "  /* Default theme specific background. It is overwritten whether we have a\n",
       "  specific estimator or a Pipeline/ColumnTransformer */\n",
       "  background-color: var(--sklearn-color-background);\n",
       "}\n",
       "\n",
       "/* Toggleable label */\n",
       "#sk-container-id-5 label.sk-toggleable__label {\n",
       "  cursor: pointer;\n",
       "  display: flex;\n",
       "  width: 100%;\n",
       "  margin-bottom: 0;\n",
       "  padding: 0.5em;\n",
       "  box-sizing: border-box;\n",
       "  text-align: center;\n",
       "  align-items: start;\n",
       "  justify-content: space-between;\n",
       "  gap: 0.5em;\n",
       "}\n",
       "\n",
       "#sk-container-id-5 label.sk-toggleable__label .caption {\n",
       "  font-size: 0.6rem;\n",
       "  font-weight: lighter;\n",
       "  color: var(--sklearn-color-text-muted);\n",
       "}\n",
       "\n",
       "#sk-container-id-5 label.sk-toggleable__label-arrow:before {\n",
       "  /* Arrow on the left of the label */\n",
       "  content: \"▸\";\n",
       "  float: left;\n",
       "  margin-right: 0.25em;\n",
       "  color: var(--sklearn-color-icon);\n",
       "}\n",
       "\n",
       "#sk-container-id-5 label.sk-toggleable__label-arrow:hover:before {\n",
       "  color: var(--sklearn-color-text);\n",
       "}\n",
       "\n",
       "/* Toggleable content - dropdown */\n",
       "\n",
       "#sk-container-id-5 div.sk-toggleable__content {\n",
       "  max-height: 0;\n",
       "  max-width: 0;\n",
       "  overflow: hidden;\n",
       "  text-align: left;\n",
       "  /* unfitted */\n",
       "  background-color: var(--sklearn-color-unfitted-level-0);\n",
       "}\n",
       "\n",
       "#sk-container-id-5 div.sk-toggleable__content.fitted {\n",
       "  /* fitted */\n",
       "  background-color: var(--sklearn-color-fitted-level-0);\n",
       "}\n",
       "\n",
       "#sk-container-id-5 div.sk-toggleable__content pre {\n",
       "  margin: 0.2em;\n",
       "  border-radius: 0.25em;\n",
       "  color: var(--sklearn-color-text);\n",
       "  /* unfitted */\n",
       "  background-color: var(--sklearn-color-unfitted-level-0);\n",
       "}\n",
       "\n",
       "#sk-container-id-5 div.sk-toggleable__content.fitted pre {\n",
       "  /* unfitted */\n",
       "  background-color: var(--sklearn-color-fitted-level-0);\n",
       "}\n",
       "\n",
       "#sk-container-id-5 input.sk-toggleable__control:checked~div.sk-toggleable__content {\n",
       "  /* Expand drop-down */\n",
       "  max-height: 200px;\n",
       "  max-width: 100%;\n",
       "  overflow: auto;\n",
       "}\n",
       "\n",
       "#sk-container-id-5 input.sk-toggleable__control:checked~label.sk-toggleable__label-arrow:before {\n",
       "  content: \"▾\";\n",
       "}\n",
       "\n",
       "/* Pipeline/ColumnTransformer-specific style */\n",
       "\n",
       "#sk-container-id-5 div.sk-label input.sk-toggleable__control:checked~label.sk-toggleable__label {\n",
       "  color: var(--sklearn-color-text);\n",
       "  background-color: var(--sklearn-color-unfitted-level-2);\n",
       "}\n",
       "\n",
       "#sk-container-id-5 div.sk-label.fitted input.sk-toggleable__control:checked~label.sk-toggleable__label {\n",
       "  background-color: var(--sklearn-color-fitted-level-2);\n",
       "}\n",
       "\n",
       "/* Estimator-specific style */\n",
       "\n",
       "/* Colorize estimator box */\n",
       "#sk-container-id-5 div.sk-estimator input.sk-toggleable__control:checked~label.sk-toggleable__label {\n",
       "  /* unfitted */\n",
       "  background-color: var(--sklearn-color-unfitted-level-2);\n",
       "}\n",
       "\n",
       "#sk-container-id-5 div.sk-estimator.fitted input.sk-toggleable__control:checked~label.sk-toggleable__label {\n",
       "  /* fitted */\n",
       "  background-color: var(--sklearn-color-fitted-level-2);\n",
       "}\n",
       "\n",
       "#sk-container-id-5 div.sk-label label.sk-toggleable__label,\n",
       "#sk-container-id-5 div.sk-label label {\n",
       "  /* The background is the default theme color */\n",
       "  color: var(--sklearn-color-text-on-default-background);\n",
       "}\n",
       "\n",
       "/* On hover, darken the color of the background */\n",
       "#sk-container-id-5 div.sk-label:hover label.sk-toggleable__label {\n",
       "  color: var(--sklearn-color-text);\n",
       "  background-color: var(--sklearn-color-unfitted-level-2);\n",
       "}\n",
       "\n",
       "/* Label box, darken color on hover, fitted */\n",
       "#sk-container-id-5 div.sk-label.fitted:hover label.sk-toggleable__label.fitted {\n",
       "  color: var(--sklearn-color-text);\n",
       "  background-color: var(--sklearn-color-fitted-level-2);\n",
       "}\n",
       "\n",
       "/* Estimator label */\n",
       "\n",
       "#sk-container-id-5 div.sk-label label {\n",
       "  font-family: monospace;\n",
       "  font-weight: bold;\n",
       "  display: inline-block;\n",
       "  line-height: 1.2em;\n",
       "}\n",
       "\n",
       "#sk-container-id-5 div.sk-label-container {\n",
       "  text-align: center;\n",
       "}\n",
       "\n",
       "/* Estimator-specific */\n",
       "#sk-container-id-5 div.sk-estimator {\n",
       "  font-family: monospace;\n",
       "  border: 1px dotted var(--sklearn-color-border-box);\n",
       "  border-radius: 0.25em;\n",
       "  box-sizing: border-box;\n",
       "  margin-bottom: 0.5em;\n",
       "  /* unfitted */\n",
       "  background-color: var(--sklearn-color-unfitted-level-0);\n",
       "}\n",
       "\n",
       "#sk-container-id-5 div.sk-estimator.fitted {\n",
       "  /* fitted */\n",
       "  background-color: var(--sklearn-color-fitted-level-0);\n",
       "}\n",
       "\n",
       "/* on hover */\n",
       "#sk-container-id-5 div.sk-estimator:hover {\n",
       "  /* unfitted */\n",
       "  background-color: var(--sklearn-color-unfitted-level-2);\n",
       "}\n",
       "\n",
       "#sk-container-id-5 div.sk-estimator.fitted:hover {\n",
       "  /* fitted */\n",
       "  background-color: var(--sklearn-color-fitted-level-2);\n",
       "}\n",
       "\n",
       "/* Specification for estimator info (e.g. \"i\" and \"?\") */\n",
       "\n",
       "/* Common style for \"i\" and \"?\" */\n",
       "\n",
       ".sk-estimator-doc-link,\n",
       "a:link.sk-estimator-doc-link,\n",
       "a:visited.sk-estimator-doc-link {\n",
       "  float: right;\n",
       "  font-size: smaller;\n",
       "  line-height: 1em;\n",
       "  font-family: monospace;\n",
       "  background-color: var(--sklearn-color-background);\n",
       "  border-radius: 1em;\n",
       "  height: 1em;\n",
       "  width: 1em;\n",
       "  text-decoration: none !important;\n",
       "  margin-left: 0.5em;\n",
       "  text-align: center;\n",
       "  /* unfitted */\n",
       "  border: var(--sklearn-color-unfitted-level-1) 1pt solid;\n",
       "  color: var(--sklearn-color-unfitted-level-1);\n",
       "}\n",
       "\n",
       ".sk-estimator-doc-link.fitted,\n",
       "a:link.sk-estimator-doc-link.fitted,\n",
       "a:visited.sk-estimator-doc-link.fitted {\n",
       "  /* fitted */\n",
       "  border: var(--sklearn-color-fitted-level-1) 1pt solid;\n",
       "  color: var(--sklearn-color-fitted-level-1);\n",
       "}\n",
       "\n",
       "/* On hover */\n",
       "div.sk-estimator:hover .sk-estimator-doc-link:hover,\n",
       ".sk-estimator-doc-link:hover,\n",
       "div.sk-label-container:hover .sk-estimator-doc-link:hover,\n",
       ".sk-estimator-doc-link:hover {\n",
       "  /* unfitted */\n",
       "  background-color: var(--sklearn-color-unfitted-level-3);\n",
       "  color: var(--sklearn-color-background);\n",
       "  text-decoration: none;\n",
       "}\n",
       "\n",
       "div.sk-estimator.fitted:hover .sk-estimator-doc-link.fitted:hover,\n",
       ".sk-estimator-doc-link.fitted:hover,\n",
       "div.sk-label-container:hover .sk-estimator-doc-link.fitted:hover,\n",
       ".sk-estimator-doc-link.fitted:hover {\n",
       "  /* fitted */\n",
       "  background-color: var(--sklearn-color-fitted-level-3);\n",
       "  color: var(--sklearn-color-background);\n",
       "  text-decoration: none;\n",
       "}\n",
       "\n",
       "/* Span, style for the box shown on hovering the info icon */\n",
       ".sk-estimator-doc-link span {\n",
       "  display: none;\n",
       "  z-index: 9999;\n",
       "  position: relative;\n",
       "  font-weight: normal;\n",
       "  right: .2ex;\n",
       "  padding: .5ex;\n",
       "  margin: .5ex;\n",
       "  width: min-content;\n",
       "  min-width: 20ex;\n",
       "  max-width: 50ex;\n",
       "  color: var(--sklearn-color-text);\n",
       "  box-shadow: 2pt 2pt 4pt #999;\n",
       "  /* unfitted */\n",
       "  background: var(--sklearn-color-unfitted-level-0);\n",
       "  border: .5pt solid var(--sklearn-color-unfitted-level-3);\n",
       "}\n",
       "\n",
       ".sk-estimator-doc-link.fitted span {\n",
       "  /* fitted */\n",
       "  background: var(--sklearn-color-fitted-level-0);\n",
       "  border: var(--sklearn-color-fitted-level-3);\n",
       "}\n",
       "\n",
       ".sk-estimator-doc-link:hover span {\n",
       "  display: block;\n",
       "}\n",
       "\n",
       "/* \"?\"-specific style due to the `<a>` HTML tag */\n",
       "\n",
       "#sk-container-id-5 a.estimator_doc_link {\n",
       "  float: right;\n",
       "  font-size: 1rem;\n",
       "  line-height: 1em;\n",
       "  font-family: monospace;\n",
       "  background-color: var(--sklearn-color-background);\n",
       "  border-radius: 1rem;\n",
       "  height: 1rem;\n",
       "  width: 1rem;\n",
       "  text-decoration: none;\n",
       "  /* unfitted */\n",
       "  color: var(--sklearn-color-unfitted-level-1);\n",
       "  border: var(--sklearn-color-unfitted-level-1) 1pt solid;\n",
       "}\n",
       "\n",
       "#sk-container-id-5 a.estimator_doc_link.fitted {\n",
       "  /* fitted */\n",
       "  border: var(--sklearn-color-fitted-level-1) 1pt solid;\n",
       "  color: var(--sklearn-color-fitted-level-1);\n",
       "}\n",
       "\n",
       "/* On hover */\n",
       "#sk-container-id-5 a.estimator_doc_link:hover {\n",
       "  /* unfitted */\n",
       "  background-color: var(--sklearn-color-unfitted-level-3);\n",
       "  color: var(--sklearn-color-background);\n",
       "  text-decoration: none;\n",
       "}\n",
       "\n",
       "#sk-container-id-5 a.estimator_doc_link.fitted:hover {\n",
       "  /* fitted */\n",
       "  background-color: var(--sklearn-color-fitted-level-3);\n",
       "}\n",
       "</style><div id=\"sk-container-id-5\" class=\"sk-top-container\"><div class=\"sk-text-repr-fallback\"><pre>StackingClassifier(cv=5,\n",
       "                   estimators=[(&#x27;m1&#x27;, KNeighborsClassifier()),\n",
       "                               (&#x27;m2&#x27;, RandomForestClassifier(random_state=42)),\n",
       "                               (&#x27;m3&#x27;,\n",
       "                                XGBClassifier(base_score=None, booster=None,\n",
       "                                              callbacks=None,\n",
       "                                              colsample_bylevel=None,\n",
       "                                              colsample_bynode=None,\n",
       "                                              colsample_bytree=None,\n",
       "                                              device=None,\n",
       "                                              early_stopping_rounds=None,\n",
       "                                              enable_categorical=False,\n",
       "                                              eval_metric=&#x27;mlogloss&#x27;,\n",
       "                                              feature_types=None,...\n",
       "                                              interaction_constraints=None,\n",
       "                                              learning_rate=None, max_bin=None,\n",
       "                                              max_cat_threshold=None,\n",
       "                                              max_cat_to_onehot=None,\n",
       "                                              max_delta_step=None,\n",
       "                                              max_depth=None, max_leaves=None,\n",
       "                                              min_child_weight=None,\n",
       "                                              missing=nan,\n",
       "                                              monotone_constraints=None,\n",
       "                                              multi_strategy=None,\n",
       "                                              n_estimators=None, n_jobs=None,\n",
       "                                              num_parallel_tree=None, ...))],\n",
       "                   final_estimator=LogisticRegression(solver=&#x27;liblinear&#x27;),\n",
       "                   n_jobs=1, verbose=2)</pre><b>In a Jupyter environment, please rerun this cell to show the HTML representation or trust the notebook. <br />On GitHub, the HTML representation is unable to render, please try loading this page with nbviewer.org.</b></div><div class=\"sk-container\" hidden><div class=\"sk-item sk-dashed-wrapped\"><div class=\"sk-label-container\"><div class=\"sk-label fitted sk-toggleable\"><input class=\"sk-toggleable__control sk-hidden--visually\" id=\"sk-estimator-id-12\" type=\"checkbox\" ><label for=\"sk-estimator-id-12\" class=\"sk-toggleable__label fitted sk-toggleable__label-arrow\"><div><div>StackingClassifier</div></div><div><a class=\"sk-estimator-doc-link fitted\" rel=\"noreferrer\" target=\"_blank\" href=\"https://scikit-learn.org/1.6/modules/generated/sklearn.ensemble.StackingClassifier.html\">?<span>Documentation for StackingClassifier</span></a><span class=\"sk-estimator-doc-link fitted\">i<span>Fitted</span></span></div></label><div class=\"sk-toggleable__content fitted\"><pre>StackingClassifier(cv=5,\n",
       "                   estimators=[(&#x27;m1&#x27;, KNeighborsClassifier()),\n",
       "                               (&#x27;m2&#x27;, RandomForestClassifier(random_state=42)),\n",
       "                               (&#x27;m3&#x27;,\n",
       "                                XGBClassifier(base_score=None, booster=None,\n",
       "                                              callbacks=None,\n",
       "                                              colsample_bylevel=None,\n",
       "                                              colsample_bynode=None,\n",
       "                                              colsample_bytree=None,\n",
       "                                              device=None,\n",
       "                                              early_stopping_rounds=None,\n",
       "                                              enable_categorical=False,\n",
       "                                              eval_metric=&#x27;mlogloss&#x27;,\n",
       "                                              feature_types=None,...\n",
       "                                              interaction_constraints=None,\n",
       "                                              learning_rate=None, max_bin=None,\n",
       "                                              max_cat_threshold=None,\n",
       "                                              max_cat_to_onehot=None,\n",
       "                                              max_delta_step=None,\n",
       "                                              max_depth=None, max_leaves=None,\n",
       "                                              min_child_weight=None,\n",
       "                                              missing=nan,\n",
       "                                              monotone_constraints=None,\n",
       "                                              multi_strategy=None,\n",
       "                                              n_estimators=None, n_jobs=None,\n",
       "                                              num_parallel_tree=None, ...))],\n",
       "                   final_estimator=LogisticRegression(solver=&#x27;liblinear&#x27;),\n",
       "                   n_jobs=1, verbose=2)</pre></div> </div></div><div class=\"sk-serial\"><div class=\"sk-item\"><div class=\"sk-parallel\"><div class=\"sk-parallel-item\"><div class=\"sk-item\"><div class=\"sk-label-container\"><div class=\"sk-label fitted sk-toggleable\"><label>m1</label></div></div><div class=\"sk-serial\"><div class=\"sk-item\"><div class=\"sk-estimator fitted sk-toggleable\"><input class=\"sk-toggleable__control sk-hidden--visually\" id=\"sk-estimator-id-13\" type=\"checkbox\" ><label for=\"sk-estimator-id-13\" class=\"sk-toggleable__label fitted sk-toggleable__label-arrow\"><div><div>KNeighborsClassifier</div></div><div><a class=\"sk-estimator-doc-link fitted\" rel=\"noreferrer\" target=\"_blank\" href=\"https://scikit-learn.org/1.6/modules/generated/sklearn.neighbors.KNeighborsClassifier.html\">?<span>Documentation for KNeighborsClassifier</span></a></div></label><div class=\"sk-toggleable__content fitted\"><pre>KNeighborsClassifier()</pre></div> </div></div></div></div></div><div class=\"sk-parallel-item\"><div class=\"sk-item\"><div class=\"sk-label-container\"><div class=\"sk-label fitted sk-toggleable\"><label>m2</label></div></div><div class=\"sk-serial\"><div class=\"sk-item\"><div class=\"sk-estimator fitted sk-toggleable\"><input class=\"sk-toggleable__control sk-hidden--visually\" id=\"sk-estimator-id-14\" type=\"checkbox\" ><label for=\"sk-estimator-id-14\" class=\"sk-toggleable__label fitted sk-toggleable__label-arrow\"><div><div>RandomForestClassifier</div></div><div><a class=\"sk-estimator-doc-link fitted\" rel=\"noreferrer\" target=\"_blank\" href=\"https://scikit-learn.org/1.6/modules/generated/sklearn.ensemble.RandomForestClassifier.html\">?<span>Documentation for RandomForestClassifier</span></a></div></label><div class=\"sk-toggleable__content fitted\"><pre>RandomForestClassifier(random_state=42)</pre></div> </div></div></div></div></div><div class=\"sk-parallel-item\"><div class=\"sk-item\"><div class=\"sk-label-container\"><div class=\"sk-label fitted sk-toggleable\"><label>m3</label></div></div><div class=\"sk-serial\"><div class=\"sk-item\"><div class=\"sk-estimator fitted sk-toggleable\"><input class=\"sk-toggleable__control sk-hidden--visually\" id=\"sk-estimator-id-15\" type=\"checkbox\" ><label for=\"sk-estimator-id-15\" class=\"sk-toggleable__label fitted sk-toggleable__label-arrow\"><div><div>XGBClassifier</div></div><div><a class=\"sk-estimator-doc-link fitted\" rel=\"noreferrer\" target=\"_blank\" href=\"https://xgboost.readthedocs.io/en/release_3.0.0/python/python_api.html#xgboost.XGBClassifier\">?<span>Documentation for XGBClassifier</span></a></div></label><div class=\"sk-toggleable__content fitted\"><pre>XGBClassifier(base_score=None, booster=None, callbacks=None,\n",
       "              colsample_bylevel=None, colsample_bynode=None,\n",
       "              colsample_bytree=None, device=None, early_stopping_rounds=None,\n",
       "              enable_categorical=False, eval_metric=&#x27;mlogloss&#x27;,\n",
       "              feature_types=None, feature_weights=None, gamma=None,\n",
       "              grow_policy=None, importance_type=None,\n",
       "              interaction_constraints=None, learning_rate=None, max_bin=None,\n",
       "              max_cat_threshold=None, max_cat_to_onehot=None,\n",
       "              max_delta_step=None, max_depth=None, max_leaves=None,\n",
       "              min_child_weight=None, missing=nan, monotone_constraints=None,\n",
       "              multi_strategy=None, n_estimators=None, n_jobs=None,\n",
       "              num_parallel_tree=None, ...)</pre></div> </div></div></div></div></div></div></div><div class=\"sk-item\"><div class=\"sk-parallel\"><div class=\"sk-parallel-item\"><div class=\"sk-item\"><div class=\"sk-label-container\"><div class=\"sk-label fitted sk-toggleable\"><label>final_estimator</label></div></div><div class=\"sk-serial\"><div class=\"sk-item\"><div class=\"sk-estimator fitted sk-toggleable\"><input class=\"sk-toggleable__control sk-hidden--visually\" id=\"sk-estimator-id-16\" type=\"checkbox\" ><label for=\"sk-estimator-id-16\" class=\"sk-toggleable__label fitted sk-toggleable__label-arrow\"><div><div>LogisticRegression</div></div><div><a class=\"sk-estimator-doc-link fitted\" rel=\"noreferrer\" target=\"_blank\" href=\"https://scikit-learn.org/1.6/modules/generated/sklearn.linear_model.LogisticRegression.html\">?<span>Documentation for LogisticRegression</span></a></div></label><div class=\"sk-toggleable__content fitted\"><pre>LogisticRegression(solver=&#x27;liblinear&#x27;)</pre></div> </div></div></div></div></div></div></div></div></div></div></div>"
      ],
      "text/plain": [
       "StackingClassifier(cv=5,\n",
       "                   estimators=[('m1', KNeighborsClassifier()),\n",
       "                               ('m2', RandomForestClassifier(random_state=42)),\n",
       "                               ('m3',\n",
       "                                XGBClassifier(base_score=None, booster=None,\n",
       "                                              callbacks=None,\n",
       "                                              colsample_bylevel=None,\n",
       "                                              colsample_bynode=None,\n",
       "                                              colsample_bytree=None,\n",
       "                                              device=None,\n",
       "                                              early_stopping_rounds=None,\n",
       "                                              enable_categorical=False,\n",
       "                                              eval_metric='mlogloss',\n",
       "                                              feature_types=None,...\n",
       "                                              interaction_constraints=None,\n",
       "                                              learning_rate=None, max_bin=None,\n",
       "                                              max_cat_threshold=None,\n",
       "                                              max_cat_to_onehot=None,\n",
       "                                              max_delta_step=None,\n",
       "                                              max_depth=None, max_leaves=None,\n",
       "                                              min_child_weight=None,\n",
       "                                              missing=nan,\n",
       "                                              monotone_constraints=None,\n",
       "                                              multi_strategy=None,\n",
       "                                              n_estimators=None, n_jobs=None,\n",
       "                                              num_parallel_tree=None, ...))],\n",
       "                   final_estimator=LogisticRegression(solver='liblinear'),\n",
       "                   n_jobs=1, verbose=2)"
      ]
     },
     "execution_count": 112,
     "metadata": {},
     "output_type": "execute_result"
    }
   ],
   "source": [
    "# Fit\n",
    "clf.fit(X_train, y_train)"
   ]
  },
  {
   "cell_type": "code",
   "execution_count": 113,
   "metadata": {
    "id": "iWnNuslQ0V70"
   },
   "outputs": [
    {
     "name": "stdout",
     "output_type": "stream",
     "text": [
      "[0 0 2 0 1 0 1 2 1 2 0 2 0 1 0 1 1 1 0 1] Exact\n",
      "[0 0 2 0 1 0 1 2 1 2 0 2 0 1 0 1 1 1 0 1] Predicted\n"
     ]
    }
   ],
   "source": [
    "# Predict\n",
    "y_pred = clf.predict(X_test)\n",
    "\n",
    "# Print a few results\n",
    "print(np.array(y_test)[:20],\"Exact\")\n",
    "print(y_pred[:20],\"Predicted\")"
   ]
  },
  {
   "cell_type": "code",
   "execution_count": 114,
   "metadata": {
    "id": "C9XTpjmb1DZf"
   },
   "outputs": [
    {
     "name": "stdout",
     "output_type": "stream",
     "text": [
      "Accuracy of the stacking ensemble with Logistic Regression as meta-model: 1.00\n"
     ]
    }
   ],
   "source": [
    "# Evaluate the model\n",
    "accuracy = accuracy_score(y_test, y_pred)\n",
    "print(f'Accuracy of the stacking ensemble with Logistic Regression as meta-model: {accuracy:.2f}')"
   ]
  },
  {
   "cell_type": "markdown",
   "metadata": {
    "id": "OpzS7tiBl35K"
   },
   "source": [
    "### __4.3.1 Advantages of Stacking__\n",
    "\n",
    "- Accomplishes greater accuracy than simplistic ensemble techniques\n",
    "- Enables diversity among models\n",
    "- Possesses the capability to rectify errors made by base models"
   ]
  },
  {
   "cell_type": "markdown",
   "metadata": {
    "id": "2ByfVEgtl35K"
   },
   "source": [
    "### __4.3.2 Disadvantages of Stacking__\n",
    "\n",
    "- Is more challenging to implement and comprehend\n",
    "- Poses a risk of overfitting the meta-model\n",
    "- Requires careful selection of both base and meta-models\n",
    "\n"
   ]
  },
  {
   "cell_type": "markdown",
   "metadata": {
    "id": "L0a5ej7Ul35Q"
   },
   "source": [
    "## __Conclusion__\n",
    "\n",
    "This lesson explores various ensemble learning techniques and emphasizes their significance in enhancing the performance of machine learning models. Through examples and practical implementations, this lesson underscores the pivotal role of ensemble learning in achieving more reliable and accurate predictions across diverse applications.\n",
    "\n",
    "Specifically, these methods excel in transforming weaker classifiers into robust systems, thereby significantly increasing the performance in classification challenges."
   ]
  }
 ],
 "metadata": {
  "colab": {
   "provenance": []
  },
  "kernelspec": {
   "display_name": ".venv",
   "language": "python",
   "name": "python3"
  },
  "language_info": {
   "codemirror_mode": {
    "name": "ipython",
    "version": 3
   },
   "file_extension": ".py",
   "mimetype": "text/x-python",
   "name": "python",
   "nbconvert_exporter": "python",
   "pygments_lexer": "ipython3",
   "version": "3.12.10"
  }
 },
 "nbformat": 4,
 "nbformat_minor": 0
}
