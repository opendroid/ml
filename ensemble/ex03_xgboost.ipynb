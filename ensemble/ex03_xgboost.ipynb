{
 "cells": [
  {
   "cell_type": "markdown",
   "metadata": {},
   "source": [
    "# XGBoost\n",
    "\n",
    "__Gradient Tree Boosting__ or __Gradient Boosted Regression Trees__ works in a stagewise fashion. Each subsequent model is trained on the errors of previous model. This process is repeated iteratively.\n",
    "\n",
    " - Type: Boosting + Regularization \n",
    " - Objective: $\\mathcal{L}^{(t)} = \\sum_i l(y_i, \\hat{y}_i^{(t-1)} + f_t(x_i)) + \\Omega(f_t)$ $\\Omega(f) = \\gamma T + \\frac{1}{2} \\lambda \\sum w_j^2$\n",
    "\n"
   ]
  },
  {
   "cell_type": "code",
   "execution_count": 157,
   "metadata": {},
   "outputs": [],
   "source": [
    "from sklearn.metrics import mean_squared_error, mean_absolute_error\n",
    "import numpy as np"
   ]
  },
  {
   "cell_type": "code",
   "execution_count": 158,
   "metadata": {},
   "outputs": [],
   "source": [
    "# Create a dataset\n",
    "from sklearn.model_selection import train_test_split\n",
    "\n",
    "n = 200\n",
    "np.random.seed(42)\n",
    "X = np.random.uniform(-200, 200, n)\n",
    "y = 3*X**2 + 0.05 * np.random.randn(n)\n",
    "X = X.reshape(-1, 1)\n",
    "y = y.reshape(-1, 1)\n",
    "X_train, X_test, y_train, y_test = train_test_split(X, y, random_state=42)"
   ]
  },
  {
   "cell_type": "code",
   "execution_count": 159,
   "metadata": {},
   "outputs": [],
   "source": [
    "from sklearn.tree import DecisionTreeRegressor\n",
    "\n",
    "tree_reg = []\n",
    "learning_rate = 1\n",
    "residual = y_train.copy()\n",
    "residual = residual.reshape(-1)\n",
    "\n",
    "for i in range(100):\n",
    "    reg = DecisionTreeRegressor(max_depth=4, random_state=42)\n",
    "    reg.fit(X_train, residual)\n",
    "    y_pred = reg.predict(X_train)\n",
    "    residual -= learning_rate * y_pred\n",
    "    tree_reg.append(reg)"
   ]
  },
  {
   "cell_type": "code",
   "execution_count": 160,
   "metadata": {},
   "outputs": [],
   "source": [
    "y_pred = sum(learning_rate * t.predict(X_test) for t in tree_reg)"
   ]
  },
  {
   "cell_type": "code",
   "execution_count": 161,
   "metadata": {},
   "outputs": [
    {
     "name": "stdout",
     "output_type": "stream",
     "text": [
      "MSE: 1,004,340.26, MAE: 719.80\n"
     ]
    }
   ],
   "source": [
    "mse = mean_squared_error(y_test, y_pred)\n",
    "mae = mean_absolute_error(y_test, y_pred)\n",
    "print(f\"MSE: {mse:,.2f}, MAE: {mae:,.2f}\")"
   ]
  },
  {
   "cell_type": "markdown",
   "metadata": {},
   "source": [
    "## GradientBoostingRegressor\n",
    "\n",
    "We can implement an equivalent `GradientBoostingRegressor()` as follows. The `learning_rate=1.0` as we directly subtracted residuals. The error rates will be equal."
   ]
  },
  {
   "cell_type": "code",
   "execution_count": 162,
   "metadata": {},
   "outputs": [],
   "source": [
    "from sklearn.ensemble import GradientBoostingRegressor\n",
    "\n",
    "gbrt = GradientBoostingRegressor(\n",
    "    max_depth=10,\n",
    "    n_estimators=5,\n",
    "    learning_rate=1.0,\n",
    "    random_state=42)\n",
    "gbrt.fit(X_train, y_train.reshape(-1))\n",
    "y_pred = gbrt.predict(X_test)"
   ]
  },
  {
   "cell_type": "code",
   "execution_count": 163,
   "metadata": {},
   "outputs": [
    {
     "name": "stdout",
     "output_type": "stream",
     "text": [
      "MSE: 1,004,340.26, MAE: 719.80\n"
     ]
    }
   ],
   "source": [
    "mse = mean_squared_error(y_test, y_pred)\n",
    "mae = mean_absolute_error(y_test, y_pred)\n",
    "print(f\"MSE: {mse:,.2f}, MAE: {mae:,.2f}\")"
   ]
  },
  {
   "cell_type": "markdown",
   "metadata": {},
   "source": [
    "## XGBoost\n",
    "\n",
    "Is a different python library that tunes to be scalable, fast and portable. "
   ]
  }
 ],
 "metadata": {
  "kernelspec": {
   "display_name": ".venv",
   "language": "python",
   "name": "python3"
  },
  "language_info": {
   "codemirror_mode": {
    "name": "ipython",
    "version": 3
   },
   "file_extension": ".py",
   "mimetype": "text/x-python",
   "name": "python",
   "nbconvert_exporter": "python",
   "pygments_lexer": "ipython3",
   "version": "3.12.10"
  }
 },
 "nbformat": 4,
 "nbformat_minor": 2
}
