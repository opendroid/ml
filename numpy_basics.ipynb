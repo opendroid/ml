{
 "cells": [
  {
   "cell_type": "markdown",
   "metadata": {},
   "source": [
    "## Basic Numpy Math\n",
    "\n",
    "Key points:\n",
    " - Addition\n",
    " - Multiplication of signle row or column vectors"
   ]
  },
  {
   "cell_type": "code",
   "execution_count": 2,
   "metadata": {},
   "outputs": [],
   "source": [
    "import numpy as np"
   ]
  },
  {
   "cell_type": "markdown",
   "metadata": {},
   "source": [
    "## Creating NumPy Arrys"
   ]
  },
  {
   "cell_type": "code",
   "execution_count": 37,
   "metadata": {},
   "outputs": [],
   "source": [
    "# access shape\n",
    "def print_shape(a, name):\n",
    "    if len(a.shape) == 1:\n",
    "        print(f\"{name}: flat/1D vector: {a.shape}, ndim:{a.ndim}\")\n",
    "    elif len(a.shape) == 2:\n",
    "        r = a.shape[0]\n",
    "        c = a.shape[1]\n",
    "        print(f\"{name}: 2D matrix {a.shape}: {r} rows, {c} columns, ndim: {a.ndim}\")\n",
    "    else:\n",
    "        print(f\"{name}: High dimensional array: {a.shape}, ndim: {a.ndim}\")"
   ]
  },
  {
   "cell_type": "code",
   "execution_count": 38,
   "metadata": {},
   "outputs": [
    {
     "name": "stdout",
     "output_type": "stream",
     "text": [
      "a0: flat/1D vector: (3,), ndim:1\n",
      "[1 2 3]\n",
      "a1: 2D matrix (3, 1): 3 rows, 1 columns, ndim: 2\n",
      "[[4]\n",
      " [5]\n",
      " [6]]\n",
      "a2: 2D matrix (3, 1): 3 rows, 1 columns, ndim: 2\n",
      "[[-4]\n",
      " [-5]\n",
      " [-6]]\n",
      "a3: 2D matrix (1, 3): 1 rows, 3 columns, ndim: 2\n",
      "[[1 2 3]]\n"
     ]
    }
   ],
   "source": [
    "a1 = np.array([1, 2, 3])  # 1D array, not strictly a row or column\n",
    "a2 = np.array([[4], [5], [6]]) # 3 rows, 1 column\n",
    "a3 = np.array([[-4], [-5], [-6]]) # 3 rows, 1 column\n",
    "a4 = np.array([[1,2,3]]) # 1 row, 3 columns\n",
    "\n",
    "for i, a in enumerate([a1, a2, a3, a4]):\n",
    "    print_shape(a, f\"a{i}\")\n",
    "    print(a)"
   ]
  },
  {
   "cell_type": "markdown",
   "metadata": {},
   "source": [
    "__Notes:__:\n",
    "\n",
    "1. a1 (3,)\t is a flat vector, used most commonly in NumPy.\n",
    "2. a1 (1, 3) is a 2D row vector, which is useful when performing matrix operations (e.g., dot product).\n",
    "\n",
    "__Best Practice:__\n",
    "1. Use (3,) if you’re working with plain vectors or broadcasting.\n",
    "2. Use (1, 3) if you need to preserve row/column shape in linear algebra.\n",
    "\n",
    "__reshape():__\n",
    "1. It **never modifies in-place** — you must reassign: a = a.reshape(...) if you want to change a.\n",
    "2. usually returns a view, so it’s memory-efficient.\n",
    "3. If not possible (due to layout), it returns a copy."
   ]
  },
  {
   "cell_type": "code",
   "execution_count": 13,
   "metadata": {},
   "outputs": [
    {
     "name": "stdout",
     "output_type": "stream",
     "text": [
      "Shape of a1_reshaped: (3, 1), ndim: 2\n",
      "[[  1]\n",
      " [100]\n",
      " [  3]]\n",
      "Shape of a1_reshaped2: (1, 3), ndim: 2\n",
      "[[  1 100   3]]\n"
     ]
    }
   ],
   "source": [
    "a1_reshaped = a1.reshape(-1, 1)\n",
    "print(f\"Shape of a1_reshaped: {a1_reshaped.shape}, ndim: {a1_reshaped.ndim}\")\n",
    "a1_reshaped[1,0] = 100\n",
    "print(a1_reshaped)\n",
    "a1_reshaped2 = a1.reshape(1, -1)\n",
    "print(\n",
    "    f\"Shape of a1_reshaped2: {a1_reshaped2.shape}, ndim: {a1_reshaped2.ndim}\")\n",
    "print(a1_reshaped2)"
   ]
  },
  {
   "cell_type": "code",
   "execution_count": 15,
   "metadata": {},
   "outputs": [
    {
     "name": "stdout",
     "output_type": "stream",
     "text": [
      "[  1 100   3]\n",
      "a1: (3,), ndim: 1\n",
      "a1_reshaped: (3, 1), ndim: 2\n",
      "a1_reshaped2: (1, 3), ndim: 2\n"
     ]
    }
   ],
   "source": [
    "print(a1)\n",
    "print(f\"a1: {a1.shape}, ndim: {a1.ndim}\")\n",
    "print(f\"a1_reshaped: {a1_reshaped.shape}, ndim: {a1_reshaped.ndim}\")\n",
    "print(f\"a1_reshaped2: {a1_reshaped2.shape}, ndim: {a1_reshaped2.ndim}\")\n"
   ]
  },
  {
   "cell_type": "code",
   "execution_count": 27,
   "metadata": {},
   "outputs": [
    {
     "name": "stdout",
     "output_type": "stream",
     "text": [
      "a1: Shape is a flat/1D vector: (3,), ndim:1\n",
      "a2: Shape is a flat/1D vector: (3,), ndim:1\n",
      "a3: Shape is a flat/1D vector: (3,), ndim:1\n",
      "a1_reshaped: Shape is a flat/1D vector: (3,), ndim:1\n",
      "a1_reshaped2: Shape is a flat/1D vector: (3,), ndim:1\n"
     ]
    }
   ],
   "source": [
    "print_shape(a1, \"a1\")\n",
    "print_shape(a2, \"a2\")\n",
    "print_shape(a3, \"a3\")\n",
    "print_shape(a1_reshaped, \"a1_reshaped\")\n",
    "print_shape(a1_reshaped2, \"a1_reshaped2\")\n"
   ]
  },
  {
   "cell_type": "code",
   "execution_count": 28,
   "metadata": {},
   "outputs": [
    {
     "name": "stdout",
     "output_type": "stream",
     "text": [
      "a2_ravel: Shape is a flat/1D vector: (3,), ndim:1\n"
     ]
    }
   ],
   "source": [
    "a2_ravel = a2.ravel()\n",
    "print_shape(a2_ravel, \"a2_ravel\")"
   ]
  },
  {
   "cell_type": "markdown",
   "metadata": {},
   "source": [
    "## Broadcasting\n",
    "\n",
    "See [NumPy documentatin](https://numpy.org/doc/stable/user/basics.broadcasting.html).\n",
    " - Move Right to left\n",
    " - Dimensions are compation when: they are equal or either one is 1\n",
    "\n",
    "A set of arrays is called “broadcastable” to the same shape if the above rules produce a valid result.\n",
    "\n"
   ]
  },
  {
   "cell_type": "code",
   "execution_count": null,
   "metadata": {},
   "outputs": [],
   "source": []
  },
  {
   "cell_type": "markdown",
   "metadata": {},
   "source": [
    "## Axes\n",
    "\n",
    "Use it on NumPy \n",
    "axis = 0, along rows (Add vertically)\n",
    "axis = 1, along columns"
   ]
  },
  {
   "cell_type": "code",
   "execution_count": 40,
   "metadata": {},
   "outputs": [
    {
     "data": {
      "text/plain": [
       "(array([1, 2, 3]),\n",
       " array([[4],\n",
       "        [5],\n",
       "        [6]]))"
      ]
     },
     "execution_count": 40,
     "metadata": {},
     "output_type": "execute_result"
    }
   ],
   "source": [
    "a1, a2"
   ]
  },
  {
   "cell_type": "code",
   "execution_count": 46,
   "metadata": {},
   "outputs": [
    {
     "name": "stdout",
     "output_type": "stream",
     "text": [
      "a1: flat/1D vector: (3,), ndim:1\n",
      "a2: 2D matrix (3, 1): 3 rows, 1 columns, ndim: 2\n"
     ]
    }
   ],
   "source": [
    "# a1: (3,), a2: (3,1)\n",
    "print_shape(a1, \"a1\")\n",
    "print_shape(a2, \"a2\")\n",
    "a1_sum_a2 = a1 + a2"
   ]
  },
  {
   "cell_type": "code",
   "execution_count": 44,
   "metadata": {},
   "outputs": [
    {
     "name": "stdout",
     "output_type": "stream",
     "text": [
      "A: 2D matrix (1, 3): 1 rows, 3 columns, ndim: 2\n",
      "B: flat/1D vector: (3,), ndim:1\n",
      "C: 2D matrix (1, 3): 1 rows, 3 columns, ndim: 2\n",
      "[[11 22 33]]\n"
     ]
    }
   ],
   "source": [
    "A = np.array([[1,2, 3]])\n",
    "B = np.array([10, 20, 30])\n",
    "print_shape(A, \"A\")\n",
    "print_shape(B, \"B\")\n",
    "C = A + B\n",
    "print_shape(C, \"C\")\n",
    "print(C)"
   ]
  },
  {
   "cell_type": "code",
   "execution_count": 53,
   "metadata": {},
   "outputs": [
    {
     "name": "stdout",
     "output_type": "stream",
     "text": [
      "[[ 0  1  2  3]\n",
      " [ 4  5  6  7]\n",
      " [ 8  9 10 11]]\n",
      "[12 15 18 21]\n",
      "col_sum: flat/1D vector: (4,), ndim:1\n",
      "[ 6 22 38]\n",
      "row_shape: flat/1D vector: (3,), ndim:1\n"
     ]
    }
   ],
   "source": [
    "C = np.arange(12).reshape((3,4))\n",
    "print(C)\n",
    "col_sum = np.sum(C, axis=0)\n",
    "print(col_sum)\n",
    "print_shape(col_sum, \"col_sum\")\n",
    "row_sum = np.sum(C, axis=1)\n",
    "print(row_sum)\n",
    "print_shape(row_sum, \"row_shape\")"
   ]
  },
  {
   "cell_type": "code",
   "execution_count": null,
   "metadata": {},
   "outputs": [],
   "source": []
  }
 ],
 "metadata": {
  "kernelspec": {
   "display_name": ".venv",
   "language": "python",
   "name": "python3"
  },
  "language_info": {
   "codemirror_mode": {
    "name": "ipython",
    "version": 3
   },
   "file_extension": ".py",
   "mimetype": "text/x-python",
   "name": "python",
   "nbconvert_exporter": "python",
   "pygments_lexer": "ipython3",
   "version": "3.12.10"
  }
 },
 "nbformat": 4,
 "nbformat_minor": 2
}
