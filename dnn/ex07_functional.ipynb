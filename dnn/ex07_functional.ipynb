{
 "cells": [
  {
   "cell_type": "markdown",
   "metadata": {
    "id": "xQvbdV1I0Nwk"
   },
   "source": [
    "# __Functional APIs in TensorFlow__\n",
    "\n",
    "\n",
    "The functional APIs in TensorFlow is an alternative way to create and customize complex neural network models. It allows you to build models with more flexibility and handle multiple inputs and outputs."
   ]
  },
  {
   "cell_type": "markdown",
   "metadata": {
    "id": "M55nCxMGW8Di"
   },
   "source": [
    "## Steps to be followed:\n",
    "1. Import the required libraries\n",
    "2. Load the dataset\n",
    "3. Inspect the dataset and visualizing samples\n",
    "4. Build the model\n",
    "5. Compile the model\n",
    "6. Evaluate the model\n"
   ]
  },
  {
   "cell_type": "markdown",
   "metadata": {
    "id": "UoJfZD0F0Nwv"
   },
   "source": [
    "### Step 1: Import the required libraries\n",
    "\n",
    "\n",
    "- Import necessary modules and classes from TensorFlow and other libraries, such as the Functional API components, data preprocessing tools, and visualization utilities.\n",
    "\n",
    "- Set up the basic structure of a neural network model using the Functional API. It defines the input layer, followed by several hidden layers with specific activation functions and dropout regularization. It also specifies the output layer and the optimizer for model training.\n",
    "\n",
    "- Include additional imports and utilities for data handling, such as splitting data into training and testing sets, calculating performance metrics like the confusion matrix, and visualizing images and results. These are useful for data preprocessing, model evaluation, and result visualization."
   ]
  },
  {
   "cell_type": "code",
   "execution_count": 1,
   "metadata": {
    "id": "SO4zPYNm0Nwx"
   },
   "outputs": [],
   "source": [
    "import tensorflow as tf\n",
    "from tensorflow.keras.utils import plot_model\n",
    "from tensorflow.keras.models import Model\n",
    "from tensorflow.keras.layers import Input, Flatten, Dense, Dropout, Lambda\n",
    "from tensorflow.keras.optimizers import RMSprop\n",
    "from tensorflow.keras import backend as K\n",
    "\n",
    "\n",
    "import numpy as np\n",
    "import pandas as pd\n",
    "from sklearn.model_selection import train_test_split\n",
    "from sklearn.metrics import confusion_matrix\n",
    "\n",
    "\n",
    "import matplotlib.pyplot as plt\n",
    "from PIL import Image, ImageFont, ImageDraw\n",
    "import itertools\n",
    "import random"
   ]
  },
  {
   "cell_type": "markdown",
   "metadata": {
    "id": "8OdCs-Jb2uyO"
   },
   "source": [
    "### Step 2: Loading the Dataset\n",
    "- Load the MNIST dataset, which contains handwritten digit images and their labels.\n",
    "- The dataset is divided into training and testing sets, represented by variables **(x_train, y_train)** and **(x_test, y_test)**, respectively.\n",
    "- The pixel values of the images are normalized by dividing them by **255.0** to ensure they are within the range of 0 to 1. This normalization step helps improve the training process."
   ]
  },
  {
   "cell_type": "code",
   "execution_count": 2,
   "metadata": {
    "id": "mGd_NFUs0Nwy"
   },
   "outputs": [],
   "source": [
    "mnist = tf.keras.datasets.mnist\n",
    "\n",
    "(x_train,y_train), (x_test, y_test) = mnist.load_data()\n",
    "x_train, x_test = x_train/255.0 , x_test/255.0"
   ]
  },
  {
   "cell_type": "markdown",
   "metadata": {
    "id": "OBVKEsFQbHWS"
   },
   "source": [
    "### Step 3: Inspecting the Dataset and Visualizing the Samples\n",
    "- Import the MNIST dataset from the TensorFlow Keras library.\n",
    "- The dimensions of the training and testing data arrays are printed using the shape attribute to show the number of samples and their respective dimensions.\n",
    "- A loop is used to display the first nine images from the training set using Matplotlib.\n",
    "- Each image is shown in a subplot, with the **cmap** parameter set to **gray** to display the images in grayscale."
   ]
  },
  {
   "cell_type": "code",
   "execution_count": 6,
   "metadata": {
    "id": "QujOUJhU0Nwz"
   },
   "outputs": [
    {
     "name": "stdout",
     "output_type": "stream",
     "text": [
      "Train: x=(60000, 28, 28) , y= (60000,)\n",
      "Test: x=(10000, 28, 28) , y= (10000,)\n"
     ]
    },
    {
     "data": {
      "image/png": "[encoded data removed]",
      "text/plain": [
       "<Figure size 640x480 with 9 Axes>"
      ]
     },
     "metadata": {},
     "output_type": "display_data"
    }
   ],
   "source": [
    "print('Train: x=%s , y= %s' % (x_train.shape, y_train.shape))\n",
    "print('Test: x=%s , y= %s' % (x_test.shape, y_test.shape))\n",
    "\n",
    "for i in range(9):\n",
    "    plt.subplot(330 + 1+i)\n",
    "    plt.imshow(x_train[i], cmap= plt.get_cmap('gray'))\n",
    "plt.show()"
   ]
  },
  {
   "cell_type": "markdown",
   "metadata": {
    "id": "Ud1PiE8DcCHU"
   },
   "source": [
    "  **Observations:**\n",
    "  - The output **Train: x=(60000, 28, 28), y=(60000,)** indicates that the training dataset consists of 60,000 samples with dimensions of 28x28 pixels. The input images are grayscale, meaning they have only one color channel.\n",
    "  - The output **Test: x=(10000, 28, 28), y=(10000,)** indicates that the testing dataset contains 10,000 samples with the same dimensions as the training dataset.\n",
    "  - The **x** values represent the input images, and their shape is the number of samples, height, width. The **y** values represent the corresponding labels for the images, indicating the correct digit or class associated with each image."
   ]
  },
  {
   "cell_type": "markdown",
   "metadata": {
    "id": "37xXRl9aaYhg"
   },
   "source": [
    "### Step 4: Building the Model\n",
    "- The model consists of an input layer, a flatten layer, a dense layer with ReLU activation, and an output layer with SoftMax activation.\n",
    "- The model is then returned. Calling **model.summary()** will display a summary of the model's architecture, including the shapes of the input and output tensors and the number of parameters in each layer."
   ]
  },
  {
   "cell_type": "markdown",
   "metadata": {
    "id": "qxzAGIF0Wz0Q"
   },
   "source": [
    "<br>\n",
    "\n",
    "Declare a model wit the following layers with the functional API:\n",
    "1. Set the input layer to 28x28\n",
    "2. Flatten\n",
    "3. Dense, 128 nodes, activation = 'relu'\n",
    "4. Output: Dense, 10 nodes, activation = 'softmax'"
   ]
  },
  {
   "cell_type": "code",
   "execution_count": 11,
   "metadata": {
    "id": "wami7nO40Nw2"
   },
   "outputs": [],
   "source": [
    "def build_model_wtih_functional():\n",
    "    input_layer = tf.keras.layers.Input(shape=(28, 28))\n",
    "    flatten_layer = tf.keras.layers.Flatten()(input_layer)\n",
    "    first_dense = tf.keras.layers.Dense(units=128, activation=tf.nn.relu)(flatten_layer)\n",
    "    output_layer = tf.keras.layers.Dense(10, activation=tf.nn.softmax)(first_dense)\n",
    "\n",
    "    func_model = Model(inputs=input_layer, outputs=output_layer)\n",
    "    return func_model\n"
   ]
  },
  {
   "cell_type": "code",
   "execution_count": 13,
   "metadata": {
    "id": "7_ZEdrAe0Nw4"
   },
   "outputs": [],
   "source": [
    "model = build_model_wtih_functional()"
   ]
  },
  {
   "cell_type": "markdown",
   "metadata": {
    "id": "VFCi-Kp5byeJ"
   },
   "source": [
    "**Observations:**\n",
    "\n",
    "- The model architecture consists of an input layer, a flatten layer, a dense layer with ReLU activation, and an output layer with SoftMax activation.\n",
    "- The flatten layer is used to transform the 2D input images into a 1D array, while the dense layers perform the actual computations and transformations.\n",
    "- The model has a total of **101,770** trainable parameters, which are learned during the training process. These parameters include the weights and biases of the dense layers."
   ]
  },
  {
   "cell_type": "markdown",
   "metadata": {
    "id": "q3Qv46O8ck9w"
   },
   "source": [
    "### Step 5: Compiling the Model\n",
    "- Compile the model using the Adam optimizer, sparse categorical cross-entropy loss, and accuracy as the metric.\n",
    "- The model is then trained for five epochs using the training data **x_train** and labels **y_train**, aiming to minimize the loss and improve accuracy."
   ]
  },
  {
   "cell_type": "markdown",
   "metadata": {
    "id": "UuS5oNpwWz0R"
   },
   "source": [
    "Compile using Adam optimizer, 'sparse_categorical_crossentropy' loss and 'accuracy' metrics; Fit with 5 epochs."
   ]
  },
  {
   "cell_type": "code",
   "execution_count": 14,
   "metadata": {
    "id": "flOBZszj0Nw7"
   },
   "outputs": [
    {
     "name": "stdout",
     "output_type": "stream",
     "text": [
      "{'accuracy': [0.926883339881897, 0.9639333486557007, 0.9739000201225281, 0.9798166751861572, 0.9831333160400391, 0.9863166809082031, 0.987583339214325, 0.9898166656494141, 0.9911166429519653, 0.9922333359718323, 0.9930999875068665, 0.9943000078201294, 0.9948333501815796, 0.9958999752998352, 0.9963666796684265, 0.9969000220298767, 0.9973833560943604, 0.997866690158844, 0.9979000091552734, 0.998116672039032, 0.9986666440963745, 0.9988833069801331, 0.9990166425704956, 0.9991666674613953, 0.9993500113487244, 0.9995499849319458, 0.9995833039283752, 0.9997666478157043, 0.9998166561126709, 0.999833345413208, 0.9999333620071411, 0.9998833537101746, 0.9999333620071411, 0.9999666810035706, 1.0, 0.9999833106994629, 0.9999833106994629, 1.0, 1.0, 1.0, 1.0, 1.0, 1.0, 1.0, 1.0, 1.0, 1.0, 1.0, 1.0, 1.0, 1.0, 1.0, 1.0, 1.0, 1.0, 1.0, 1.0, 1.0, 1.0, 1.0, 1.0, 1.0, 1.0, 1.0, 1.0, 1.0, 1.0, 1.0, 1.0, 1.0, 1.0, 1.0, 1.0, 1.0, 1.0, 1.0, 1.0, 1.0, 1.0, 1.0, 1.0, 1.0, 1.0, 1.0, 1.0, 1.0, 1.0, 1.0, 1.0, 1.0, 1.0, 1.0, 1.0, 1.0, 1.0, 1.0, 1.0, 1.0, 1.0, 1.0], 'loss': [0.25661715865135193, 0.1208927184343338, 0.08702519536018372, 0.06835431605577469, 0.05735480412840843, 0.047435007989406586, 0.04097473993897438, 0.036071114242076874, 0.031090376898646355, 0.026830362156033516, 0.02284100092947483, 0.020581312477588654, 0.01811538264155388, 0.015209486708045006, 0.013395765796303749, 0.011619905941188335, 0.009920422919094563, 0.008014926686882973, 0.007094092667102814, 0.0061837127432227135, 0.004914202261716127, 0.004601750988513231, 0.003831417765468359, 0.0031254771165549755, 0.002625283319503069, 0.0018692943267524242, 0.001743559492751956, 0.0013128635473549366, 0.0009667237754911184, 0.0007569012232124805, 0.0004950566799379885, 0.00037285906728357077, 0.0002717824827414006, 0.0001849829568527639, 0.00010056450992124155, 8.022231486393139e-05, 7.497031037928537e-05, 4.704769162344746e-05, 4.4493088353192434e-05, 3.4577682527014986e-05, 3.354429645696655e-05, 3.053485488635488e-05, 2.8263495551072992e-05, 2.7121510356664658e-05, 2.5629273295635357e-05, 2.475789915479254e-05, 2.2993652237346396e-05, 2.1852896679774858e-05, 2.0792995201190934e-05, 2.0287096049287356e-05, 1.9339217033120804e-05, 1.8625931261340156e-05, 1.8010707208304666e-05, 1.729131690808572e-05, 1.681719732005149e-05, 1.637221794226207e-05, 1.57692647917429e-05, 1.53127039084211e-05, 1.4939526408852544e-05, 1.4541919881594367e-05, 1.4109835319686681e-05, 1.3757740816799924e-05, 1.3466210475598928e-05, 1.3049246263108216e-05, 1.2752291695505846e-05, 1.245475414179964e-05, 1.220476860908093e-05, 1.1902400729013607e-05, 1.1673411790980026e-05, 1.1370796528353821e-05, 1.1141580216644797e-05, 1.096404594136402e-05, 1.071233145921724e-05, 1.053652522386983e-05, 1.02950452856021e-05, 1.0146639397135004e-05, 9.943433724401984e-06, 9.765097274794243e-06, 9.594346010999288e-06, 9.425563803233672e-06, 9.249025424651336e-06, 9.084679732040968e-06, 8.97233621799387e-06, 8.80799962033052e-06, 8.689973583386745e-06, 8.531866114935838e-06, 8.403928404732142e-06, 8.284899195132311e-06, 8.147243534040172e-06, 8.025634997466113e-06, 7.909247869974934e-06, 7.807823749317322e-06, 7.690155143791344e-06, 7.549748261226341e-06, 7.477752660633996e-06, 7.365850251517259e-06, 7.25614791008411e-06, 7.176143753895303e-06, 7.073196229612222e-06, 7.0105870690895244e-06]}\n"
     ]
    }
   ],
   "source": [
    "model.compile(optimizer='RMSprop',\n",
    "              loss=tf.keras.losses.SparseCategoricalCrossentropy(),\n",
    "              metrics=['accuracy'])\n",
    "\n",
    "history = model.fit(x_train, y_train, epochs=100, verbose=0)\n",
    "print(history.history)"
   ]
  },
  {
   "cell_type": "markdown",
   "metadata": {
    "id": "OfIlPkIzytTt"
   },
   "source": [
    "**Observations:**\n",
    "- The training output shows the progress of the model's training over five epochs, with each epoch representing a complete pass through the training dataset.\n",
    "- The output includes the values of the loss and accuracy metrics for each epoch, indicating how well the model is learning from the training data.\n",
    "- The displayed metrics gradually improve as the model trains, with the loss decreasing and the accuracy increasing."
   ]
  },
  {
   "cell_type": "markdown",
   "metadata": {
    "id": "544kWNUIy779"
   },
   "source": [
    "### Step 6: Evaluating the model\n",
    "- The **model.evaluate(x_test, y_test)** is used to evaluate the trained model on the test dataset.\n",
    "- It computes the loss value and metrics (such as accuracy) of the model's performance on the test data."
   ]
  },
  {
   "cell_type": "code",
   "execution_count": 17,
   "metadata": {
    "id": "ieRFOPZN0Nw_"
   },
   "outputs": [
    {
     "name": "stdout",
     "output_type": "stream",
     "text": [
      "Test Loss:  0.137126162648201\n",
      "Test Accuracy:  0.9807000160217285\n"
     ]
    }
   ],
   "source": [
    "test_loss, test_acc = model.evaluate(x_test, y_test, verbose=0)\n",
    "print('Test Loss: ', test_loss)\n",
    "print('Test Accuracy: ', test_acc)"
   ]
  },
  {
   "cell_type": "markdown",
   "metadata": {
    "id": "GS7gZx5XzRyX"
   },
   "source": [
    "**Observations:**\n",
    "\n",
    "- The first number **0.0726** represents the average loss or error of the model's predictions compared to the actual results on the test data. A lower value indicates better accuracy.\n",
    "- The second number **0.9784** represents the accuracy of the model based on the test data. It shows the proportion of correctly predicted results out of all the test samples. A higher value indicates better performance."
   ]
  },
  {
   "cell_type": "code",
   "execution_count": 18,
   "metadata": {
    "id": "Im8C4TgNWz0T"
   },
   "outputs": [],
   "source": [
    "predictions = model.predict(x_test, verbose=0)"
   ]
  },
  {
   "cell_type": "code",
   "execution_count": 20,
   "metadata": {
    "id": "5YAqBVnaWz0T"
   },
   "outputs": [
    {
     "data": {
      "text/plain": [
       "array([1.5460519e-20, 1.5557157e-24, 4.6333193e-19, 1.1498373e-10,\n",
       "       5.5728546e-29, 1.3455499e-22, 2.1563722e-33, 1.0000000e+00,\n",
       "       1.0613129e-20, 1.4112155e-16], dtype=float32)"
      ]
     },
     "execution_count": 20,
     "metadata": {},
     "output_type": "execute_result"
    }
   ],
   "source": [
    "predictions[0]"
   ]
  },
  {
   "cell_type": "code",
   "execution_count": 21,
   "metadata": {
    "id": "RfrpJwNpWz0T",
    "outputId": "6463b8f7-9d4d-4481-c99f-4ad9904e9b9d"
   },
   "outputs": [
    {
     "data": {
      "text/plain": [
       "np.int64(7)"
      ]
     },
     "execution_count": 21,
     "metadata": {},
     "output_type": "execute_result"
    }
   ],
   "source": [
    "np.argmax(predictions[0])"
   ]
  },
  {
   "cell_type": "code",
   "execution_count": 22,
   "metadata": {
    "id": "i-e0qf6HWz0U",
    "outputId": "3344e7ce-3251-4b0a-bec8-e131ac68484e"
   },
   "outputs": [
    {
     "data": {
      "image/png": "[encoded data removed]",
      "text/plain": [
       "<Figure size 300x300 with 1 Axes>"
      ]
     },
     "metadata": {},
     "output_type": "display_data"
    },
    {
     "name": "stdout",
     "output_type": "stream",
     "text": [
      "Actual value = 7\n",
      "Predicted value = 7\n"
     ]
    }
   ],
   "source": [
    "ind = 0\n",
    "\n",
    "plt.figure(figsize=(3,3))\n",
    "plt.xticks([])\n",
    "plt.yticks([])\n",
    "plt.grid(False)\n",
    "\n",
    "plt.imshow(x_test[ind], cmap=plt.cm.binary)\n",
    "\n",
    "plt.show()\n",
    "print('Actual value =',y_test[ind])\n",
    "print('Predicted value =',np.argmax(predictions[ind]))"
   ]
  },
  {
   "cell_type": "code",
   "execution_count": 23,
   "metadata": {
    "id": "piKEzor-Wz0U",
    "outputId": "2db28534-1f9b-468c-ce04-9faba9de10a5"
   },
   "outputs": [
    {
     "data": {
      "image/png": "[encoded data removed]",
      "text/plain": [
       "<Figure size 300x300 with 1 Axes>"
      ]
     },
     "metadata": {},
     "output_type": "display_data"
    },
    {
     "name": "stdout",
     "output_type": "stream",
     "text": [
      "Actual value = 6\n",
      "Predicted value = 6\n"
     ]
    }
   ],
   "source": [
    "ind = 11\n",
    "\n",
    "plt.figure(figsize=(3,3))\n",
    "plt.xticks([])\n",
    "plt.yticks([])\n",
    "plt.grid(False)\n",
    "\n",
    "plt.imshow(x_test[ind], cmap=plt.cm.binary)\n",
    "\n",
    "plt.show()\n",
    "print('Actual value =',y_test[ind])\n",
    "print('Predicted value =',np.argmax(predictions[ind]))"
   ]
  }
 ],
 "metadata": {
  "colab": {
   "provenance": []
  },
  "kernelspec": {
   "display_name": ".venv",
   "language": "python",
   "name": "python3"
  },
  "language_info": {
   "codemirror_mode": {
    "name": "ipython",
    "version": 3
   },
   "file_extension": ".py",
   "mimetype": "text/x-python",
   "name": "python",
   "nbconvert_exporter": "python",
   "pygments_lexer": "ipython3",
   "version": "3.12.11"
  }
 },
 "nbformat": 4,
 "nbformat_minor": 0
}
