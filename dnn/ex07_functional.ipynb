{
 "cells": [
  {
   "cell_type": "markdown",
   "metadata": {
    "id": "xQvbdV1I0Nwk"
   },
   "source": [
    "# __Functional APIs in TensorFlow__\n",
    "\n",
    "\n",
    "The functional APIs in TensorFlow is an alternative way to create and customize complex neural network models. It allows you to build models with more flexibility and handle multiple inputs and outputs."
   ]
  },
  {
   "cell_type": "markdown",
   "metadata": {
    "id": "M55nCxMGW8Di"
   },
   "source": [
    "## Steps to be followed:\n",
    "1. Import the required libraries\n",
    "2. Load the dataset\n",
    "3. Inspect the dataset and visualizing samples\n",
    "4. Build the model\n",
    "5. Compile the model\n",
    "6. Evaluate the model\n"
   ]
  },
  {
   "cell_type": "markdown",
   "metadata": {
    "id": "UoJfZD0F0Nwv"
   },
   "source": [
    "### Step 1: Import the required libraries\n",
    "\n",
    "\n",
    "- Import necessary modules and classes from TensorFlow and other libraries, such as the Functional API components, data preprocessing tools, and visualization utilities.\n",
    "\n",
    "- Set up the basic structure of a neural network model using the Functional API. It defines the input layer, followed by several hidden layers with specific activation functions and dropout regularization. It also specifies the output layer and the optimizer for model training.\n",
    "\n",
    "- Include additional imports and utilities for data handling, such as splitting data into training and testing sets, calculating performance metrics like the confusion matrix, and visualizing images and results. These are useful for data preprocessing, model evaluation, and result visualization."
   ]
  },
  {
   "cell_type": "code",
   "execution_count": 1,
   "metadata": {
    "id": "SO4zPYNm0Nwx"
   },
   "outputs": [],
   "source": [
    "import tensorflow as tf\n",
    "from tensorflow.keras.utils import plot_model\n",
    "from tensorflow.keras.models import Model\n",
    "from tensorflow.keras.layers import Input, Flatten, Dense, Dropout, Lambda\n",
    "from tensorflow.keras.optimizers import RMSprop\n",
    "from tensorflow.keras import backend as K\n",
    "\n",
    "\n",
    "import numpy as np\n",
    "import pandas as pd\n",
    "from sklearn.model_selection import train_test_split\n",
    "from sklearn.metrics import confusion_matrix\n",
    "\n",
    "\n",
    "import matplotlib.pyplot as plt\n",
    "from PIL import Image, ImageFont, ImageDraw\n",
    "import itertools\n",
    "import random"
   ]
  },
  {
   "cell_type": "markdown",
   "metadata": {
    "id": "8OdCs-Jb2uyO"
   },
   "source": [
    "### Step 2: Loading the Dataset\n",
    "- Load the MNIST dataset, which contains handwritten digit images and their labels.\n",
    "- The dataset is divided into training and testing sets, represented by variables **(x_train, y_train)** and **(x_test, y_test)**, respectively.\n",
    "- The pixel values of the images are normalized by dividing them by **255.0** to ensure they are within the range of 0 to 1. This normalization step helps improve the training process."
   ]
  },
  {
   "cell_type": "code",
   "execution_count": 2,
   "metadata": {
    "id": "mGd_NFUs0Nwy"
   },
   "outputs": [],
   "source": [
    "mnist = tf.keras.datasets.mnist\n",
    "\n",
    "(x_train,y_train), (x_test, y_test) = mnist.load_data()\n",
    "x_train, x_test = x_train/255.0 , x_test/255.0"
   ]
  },
  {
   "cell_type": "markdown",
   "metadata": {
    "id": "OBVKEsFQbHWS"
   },
   "source": [
    "### Step 3: Inspecting the Dataset and Visualizing the Samples\n",
    "- Import the MNIST dataset from the TensorFlow Keras library.\n",
    "- The dimensions of the training and testing data arrays are printed using the shape attribute to show the number of samples and their respective dimensions.\n",
    "- A loop is used to display the first nine images from the training set using Matplotlib.\n",
    "- Each image is shown in a subplot, with the **cmap** parameter set to **gray** to display the images in grayscale."
   ]
  },
  {
   "cell_type": "code",
   "execution_count": 3,
   "metadata": {
    "id": "QujOUJhU0Nwz"
   },
   "outputs": [
    {
     "name": "stdout",
     "output_type": "stream",
     "text": [
      "Train: x=(60000, 28, 28) , y= (60000,)\n",
      "Test: x=(10000, 28, 28) , y= (10000,)\n"
     ]
    },
    {
     "data": {
      "image/png": "[encoded data removed]",
      "text/plain": [
       "<Figure size 640x480 with 9 Axes>"
      ]
     },
     "metadata": {},
     "output_type": "display_data"
    }
   ],
   "source": [
    "print('Train: x=%s , y= %s' % (x_train.shape, y_train.shape))\n",
    "print('Test: x=%s , y= %s' % (x_test.shape, y_test.shape))\n",
    "\n",
    "for i in range(9):\n",
    "    plt.subplot(330 + 1+i)\n",
    "    plt.imshow(x_train[i], cmap= plt.get_cmap('gray'))\n",
    "plt.show()"
   ]
  },
  {
   "cell_type": "markdown",
   "metadata": {
    "id": "Ud1PiE8DcCHU"
   },
   "source": [
    "  **Observations:**\n",
    "  - The output **Train: x=(60000, 28, 28), y=(60000,)** indicates that the training dataset consists of 60,000 samples with dimensions of 28x28 pixels. The input images are grayscale, meaning they have only one color channel.\n",
    "  - The output **Test: x=(10000, 28, 28), y=(10000,)** indicates that the testing dataset contains 10,000 samples with the same dimensions as the training dataset.\n",
    "  - The **x** values represent the input images, and their shape is the number of samples, height, width. The **y** values represent the corresponding labels for the images, indicating the correct digit or class associated with each image."
   ]
  },
  {
   "cell_type": "markdown",
   "metadata": {
    "id": "37xXRl9aaYhg"
   },
   "source": [
    "### Step 4: Building the Model\n",
    "- The model consists of an input layer, a flatten layer, a dense layer with ReLU activation, and an output layer with SoftMax activation.\n",
    "- The model is then returned. Calling **model.summary()** will display a summary of the model's architecture, including the shapes of the input and output tensors and the number of parameters in each layer."
   ]
  },
  {
   "cell_type": "markdown",
   "metadata": {
    "id": "qxzAGIF0Wz0Q"
   },
   "source": [
    "<br>\n",
    "\n",
    "Declare a model wit the following layers with the functional API:\n",
    "1. Set the input layer to 28x28\n",
    "2. Flatten\n",
    "3. Dense, 128 nodes, activation = 'relu'\n",
    "4. Output: Dense, 10 nodes, activation = 'softmax'"
   ]
  },
  {
   "cell_type": "code",
   "execution_count": 4,
   "metadata": {
    "id": "wami7nO40Nw2"
   },
   "outputs": [],
   "source": [
    "def build_model_wtih_functional():\n",
    "    input_layer = tf.keras.layers.Input(shape=(28, 28))\n",
    "    flatten_layer = tf.keras.layers.Flatten()(input_layer)\n",
    "    first_dense = tf.keras.layers.Dense(units=128, activation=tf.nn.relu)(flatten_layer)\n",
    "    output_layer = tf.keras.layers.Dense(10, activation=tf.nn.softmax)(first_dense)\n",
    "\n",
    "    func_model = Model(inputs=input_layer, outputs=output_layer)\n",
    "    return func_model\n"
   ]
  },
  {
   "cell_type": "code",
   "execution_count": 5,
   "metadata": {
    "id": "7_ZEdrAe0Nw4"
   },
   "outputs": [],
   "source": [
    "model = build_model_wtih_functional()"
   ]
  },
  {
   "cell_type": "markdown",
   "metadata": {
    "id": "VFCi-Kp5byeJ"
   },
   "source": [
    "**Observations:**\n",
    "\n",
    "- The model architecture consists of an input layer, a flatten layer, a dense layer with ReLU activation, and an output layer with SoftMax activation.\n",
    "- The flatten layer is used to transform the 2D input images into a 1D array, while the dense layers perform the actual computations and transformations.\n",
    "- The model has a total of **101,770** trainable parameters, which are learned during the training process. These parameters include the weights and biases of the dense layers."
   ]
  },
  {
   "cell_type": "markdown",
   "metadata": {
    "id": "q3Qv46O8ck9w"
   },
   "source": [
    "### Step 5: Compiling the Model\n",
    "- Compile the model using the Adam optimizer, sparse categorical cross-entropy loss, and accuracy as the metric.\n",
    "- The model is then trained for five epochs using the training data **x_train** and labels **y_train**, aiming to minimize the loss and improve accuracy."
   ]
  },
  {
   "cell_type": "markdown",
   "metadata": {
    "id": "UuS5oNpwWz0R"
   },
   "source": [
    "Compile using Adam optimizer, 'sparse_categorical_crossentropy' loss and 'accuracy' metrics; Fit with 5 epochs."
   ]
  },
  {
   "cell_type": "code",
   "execution_count": 6,
   "metadata": {
    "id": "flOBZszj0Nw7"
   },
   "outputs": [
    {
     "name": "stdout",
     "output_type": "stream",
     "text": [
      "{'accuracy': [0.9263333082199097, 0.9655333161354065, 0.9740333557128906, 0.979449987411499, 0.9831500053405762, 0.985883355140686, 0.987416684627533, 0.9897000193595886, 0.9908666610717773, 0.9926166534423828, 0.9930333495140076, 0.9944666624069214, 0.994533360004425, 0.9954500198364258, 0.9961166381835938, 0.9969000220298767, 0.9972000122070312, 0.9975666403770447, 0.9980833530426025, 0.9982500076293945, 0.9984333515167236, 0.9986833333969116, 0.9988333582878113, 0.9990166425704956, 0.9992499947547913, 0.9994500279426575, 0.9995499849319458, 0.9996333122253418, 0.9996500015258789, 0.9997166395187378, 0.999916672706604, 0.999916672706604, 0.9999833106994629, 0.9999833106994629, 1.0, 1.0, 1.0, 1.0, 1.0, 1.0, 1.0, 1.0, 1.0, 1.0, 1.0, 1.0, 1.0, 1.0, 1.0, 1.0, 1.0, 1.0, 1.0, 1.0, 1.0, 1.0, 1.0, 1.0, 1.0, 1.0, 1.0, 1.0, 1.0, 1.0, 1.0, 1.0, 1.0, 1.0, 1.0, 1.0, 1.0, 1.0, 1.0, 1.0, 1.0, 1.0, 1.0, 1.0, 1.0, 1.0, 1.0, 1.0, 1.0, 1.0, 1.0, 1.0, 1.0, 1.0, 1.0, 1.0, 1.0, 1.0, 1.0, 1.0, 1.0, 1.0, 1.0, 1.0, 1.0, 1.0], 'loss': [0.2599028944969177, 0.12064804881811142, 0.08788958191871643, 0.06930914521217346, 0.0567847341299057, 0.04866186901926994, 0.04165044054389, 0.035883828997612, 0.03138633072376251, 0.026711907237768173, 0.02366654947400093, 0.01930820755660534, 0.01831401139497757, 0.015707088634371758, 0.013904412277042866, 0.011778634041547775, 0.010170538909733295, 0.009070768021047115, 0.006991203408688307, 0.00661397073417902, 0.005748544353991747, 0.0049556042067706585, 0.004162500612437725, 0.0036132922396063805, 0.003012072527781129, 0.0023062084801495075, 0.00207097502425313, 0.001716488623060286, 0.0012768986634910107, 0.0010743793100118637, 0.0006670187576673925, 0.00037742016138508916, 0.00029704280314035714, 0.00021181996271479875, 0.00011214145342819393, 7.210973126348108e-05, 6.09067028563004e-05, 4.502519004745409e-05, 4.0067388908937573e-05, 3.7257865187712014e-05, 3.296841896371916e-05, 3.050384475500323e-05, 2.923528154497035e-05, 2.7109934308100492e-05, 2.514924381102901e-05, 2.3950486138346605e-05, 2.2747821276425384e-05, 2.2024996724212542e-05, 2.107153704855591e-05, 1.9996152332169004e-05, 1.9492181309033185e-05, 1.8495702533982694e-05, 1.8160842955694534e-05, 1.74361248355126e-05, 1.667270225880202e-05, 1.6305470126098953e-05, 1.5817644452909008e-05, 1.5296869605663233e-05, 1.48441904457286e-05, 1.4510068467643578e-05, 1.40971742439433e-05, 1.3725858480029274e-05, 1.3437534107652027e-05, 1.3050344932707958e-05, 1.277698902413249e-05, 1.2420247912814375e-05, 1.2163653991592582e-05, 1.1872584764205385e-05, 1.1632889254542533e-05, 1.1376566362741869e-05, 1.1104628356406465e-05, 1.0913970072579104e-05, 1.0653931894921698e-05, 1.0450946319906507e-05, 1.0246993952023331e-05, 1.0104383363795932e-05, 9.908108040690422e-06, 9.701949238660745e-06, 9.546461114950944e-06, 9.374199180456344e-06, 9.23511561268242e-06, 9.07465164345922e-06, 8.928897841542494e-06, 8.76439571584342e-06, 8.659206287120469e-06, 8.504040124535095e-06, 8.35771697893506e-06, 8.238279406214133e-06, 8.115110176731832e-06, 7.987159733602311e-06, 7.890648703323677e-06, 7.75612897996325e-06, 7.660207302251365e-06, 7.571837613795651e-06, 7.433715381921502e-06, 7.327741968765622e-06, 7.2308780545427e-06, 7.152049420255935e-06, 7.058301434881287e-06, 6.948100235604215e-06]}\n"
     ]
    }
   ],
   "source": [
    "model.compile(optimizer='RMSprop',\n",
    "              loss=tf.keras.losses.SparseCategoricalCrossentropy(),\n",
    "              metrics=['accuracy'])\n",
    "\n",
    "history = model.fit(x_train, y_train, epochs=100, verbose=0)\n",
    "print(history.history)"
   ]
  },
  {
   "cell_type": "markdown",
   "metadata": {
    "id": "OfIlPkIzytTt"
   },
   "source": [
    "**Observations:**\n",
    "- The training output shows the progress of the model's training over five epochs, with each epoch representing a complete pass through the training dataset.\n",
    "- The output includes the values of the loss and accuracy metrics for each epoch, indicating how well the model is learning from the training data.\n",
    "- The displayed metrics gradually improve as the model trains, with the loss decreasing and the accuracy increasing."
   ]
  },
  {
   "cell_type": "markdown",
   "metadata": {
    "id": "544kWNUIy779"
   },
   "source": [
    "### Step 6: Evaluating the model\n",
    "- The **model.evaluate(x_test, y_test)** is used to evaluate the trained model on the test dataset.\n",
    "- It computes the loss value and metrics (such as accuracy) of the model's performance on the test data."
   ]
  },
  {
   "cell_type": "code",
   "execution_count": 7,
   "metadata": {
    "id": "ieRFOPZN0Nw_"
   },
   "outputs": [
    {
     "name": "stdout",
     "output_type": "stream",
     "text": [
      "Test Loss:  0.13836605846881866\n",
      "Test Accuracy:  0.9800000190734863\n"
     ]
    }
   ],
   "source": [
    "test_loss, test_acc = model.evaluate(x_test, y_test, verbose=0)\n",
    "print('Test Loss: ', test_loss)\n",
    "print('Test Accuracy: ', test_acc)"
   ]
  },
  {
   "cell_type": "markdown",
   "metadata": {
    "id": "GS7gZx5XzRyX"
   },
   "source": [
    "**Observations:**\n",
    "\n",
    "- The first number **0.0726** represents the average loss or error of the model's predictions compared to the actual results on the test data. A lower value indicates better accuracy.\n",
    "- The second number **0.9784** represents the accuracy of the model based on the test data. It shows the proportion of correctly predicted results out of all the test samples. A higher value indicates better performance."
   ]
  },
  {
   "cell_type": "code",
   "execution_count": 8,
   "metadata": {
    "id": "Im8C4TgNWz0T"
   },
   "outputs": [],
   "source": [
    "predictions = model.predict(x_test, verbose=0)"
   ]
  },
  {
   "cell_type": "code",
   "execution_count": 9,
   "metadata": {
    "id": "5YAqBVnaWz0T"
   },
   "outputs": [
    {
     "data": {
      "text/plain": [
       "array([1.6465588e-23, 2.9756635e-27, 6.3018820e-20, 2.2331346e-14,\n",
       "       7.0171549e-35, 2.4850380e-26, 0.0000000e+00, 1.0000000e+00,\n",
       "       1.7274492e-23, 3.2031688e-19], dtype=float32)"
      ]
     },
     "execution_count": 9,
     "metadata": {},
     "output_type": "execute_result"
    }
   ],
   "source": [
    "predictions[0]"
   ]
  },
  {
   "cell_type": "code",
   "execution_count": 10,
   "metadata": {
    "id": "RfrpJwNpWz0T",
    "outputId": "6463b8f7-9d4d-4481-c99f-4ad9904e9b9d"
   },
   "outputs": [
    {
     "data": {
      "text/plain": [
       "np.int64(7)"
      ]
     },
     "execution_count": 10,
     "metadata": {},
     "output_type": "execute_result"
    }
   ],
   "source": [
    "np.argmax(predictions[0])"
   ]
  },
  {
   "cell_type": "code",
   "execution_count": 11,
   "metadata": {
    "id": "i-e0qf6HWz0U",
    "outputId": "3344e7ce-3251-4b0a-bec8-e131ac68484e"
   },
   "outputs": [
    {
     "data": {
      "image/png": "[encoded data removed]",
      "text/plain": [
       "<Figure size 300x300 with 1 Axes>"
      ]
     },
     "metadata": {},
     "output_type": "display_data"
    },
    {
     "name": "stdout",
     "output_type": "stream",
     "text": [
      "Actual value = 7\n",
      "Predicted value = 7\n"
     ]
    }
   ],
   "source": [
    "ind = 0\n",
    "\n",
    "plt.figure(figsize=(3,3))\n",
    "plt.xticks([])\n",
    "plt.yticks([])\n",
    "plt.grid(False)\n",
    "\n",
    "plt.imshow(x_test[ind], cmap=plt.cm.binary)\n",
    "\n",
    "plt.show()\n",
    "print('Actual value =',y_test[ind])\n",
    "print('Predicted value =',np.argmax(predictions[ind]))"
   ]
  },
  {
   "cell_type": "code",
   "execution_count": 12,
   "metadata": {
    "id": "piKEzor-Wz0U",
    "outputId": "2db28534-1f9b-468c-ce04-9faba9de10a5"
   },
   "outputs": [
    {
     "data": {
      "image/png": "[encoded data removed]",
      "text/plain": [
       "<Figure size 300x300 with 1 Axes>"
      ]
     },
     "metadata": {},
     "output_type": "display_data"
    },
    {
     "name": "stdout",
     "output_type": "stream",
     "text": [
      "Actual value = 6\n",
      "Predicted value = 6\n"
     ]
    }
   ],
   "source": [
    "ind = 11\n",
    "\n",
    "plt.figure(figsize=(3,3))\n",
    "plt.xticks([])\n",
    "plt.yticks([])\n",
    "plt.grid(False)\n",
    "\n",
    "plt.imshow(x_test[ind], cmap=plt.cm.binary)\n",
    "\n",
    "plt.show()\n",
    "print('Actual value =',y_test[ind])\n",
    "print('Predicted value =',np.argmax(predictions[ind]))"
   ]
  }
 ],
 "metadata": {
  "colab": {
   "provenance": []
  },
  "kernelspec": {
   "display_name": ".venv",
   "language": "python",
   "name": "python3"
  },
  "language_info": {
   "codemirror_mode": {
    "name": "ipython",
    "version": 3
   },
   "file_extension": ".py",
   "mimetype": "text/x-python",
   "name": "python",
   "nbconvert_exporter": "python",
   "pygments_lexer": "ipython3",
   "version": "3.12.11"
  }
 },
 "nbformat": 4,
 "nbformat_minor": 0
}
