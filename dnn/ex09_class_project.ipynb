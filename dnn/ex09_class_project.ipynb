{
 "cells": [
  {
   "cell_type": "markdown",
   "id": "4fba6f04-977e-432c-afbd-4fb75b7486d8",
   "metadata": {
    "id": "4fba6f04-977e-432c-afbd-4fb75b7486d8"
   },
   "source": [
    "# __Incremental Capstone - Week 9__"
   ]
  },
  {
   "cell_type": "markdown",
   "id": "4cdd1bca-ffd8-41e3-bd8e-384165f98a18",
   "metadata": {
    "id": "4cdd1bca-ffd8-41e3-bd8e-384165f98a18"
   },
   "source": [
    "__Task:  Build an Artificial Neural Network to identify the customers who will be\n",
    "leaving the bank, based on the data of all customers over the past three months.\n",
    "Use the Banking dataset to perform the following tasks.__\n",
    "\n",
    "__Task A:__\n",
    "1. Load the dataset (Churn_Modelling.csv, the name of the file when\n",
    "downloaded from Kaggle.) <br>\n",
    "https://www.kaggle.com/datasets/shrutimechlearn/churn-modelling\n",
    "2. Drop the customers' personal data columns that will not be useful for\n",
    "analysis. (Hint: First three columns)\n",
    "3. Prepare independent variables X and dependent variable Y (Exited).\n",
    "4. LabelEncode the Gender column\n",
    "5. OneHotEncode the Geography column\n",
    "6. Perform a train test split in the ratio 80:20 and random_state 0\n",
    "7. Perform Feature scaling on X_train and X_text using StandardScalar\n",
    "8. Build a Keras Sequential model with the following layers\n",
    "- Dense layer with 6 neurons and activation relu\n",
    "- Dense layer with 6 neurons and activation relu\n",
    "- Dense layer with 1 neuron and activation sigmoid\n",
    "- Compile the model with adam optimizer, binary_crossentropy loss and\n",
    "metric accuracy\n",
    "- Train the model for 10 epochs and batch size 10\n",
    "9. Evaluate the model on the test set; print the accuracy and confusion matrix\n",
    "\n",
    "__Task B:__\n",
    "Use the built ANN model to predict if the customer with the following\n",
    "information will leave the bank:\n",
    "- Geography: France\n",
    "- Credit Score: 600\n",
    "- Gender: Male\n",
    "- Age: 40 years old\n",
    "- Tenure: 3 years\n",
    "- Balance: \\$60000\n",
    "- Number of Products: 2\n",
    "- Does this customer have a credit card? Yes\n",
    "- Is this customer an Active Member: Yes\n",
    "- Estimated Salary: $ 50000\n",
    "\n",
    "So, should we let the customer go?\n"
   ]
  },
  {
   "cell_type": "markdown",
   "id": "5gaH6cbE4WZ2",
   "metadata": {
    "id": "5gaH6cbE4WZ2"
   },
   "source": [
    "##Task A"
   ]
  },
  {
   "cell_type": "markdown",
   "id": "cANDSbf84dg9",
   "metadata": {
    "id": "cANDSbf84dg9"
   },
   "source": [
    "__1. Load the dataset (Churn_Modelling.csv, the name of the file when\n",
    "downloaded from Kaggle.)__"
   ]
  },
  {
   "cell_type": "code",
   "execution_count": 1,
   "id": "EB2zyQcV4xNR",
   "metadata": {
    "id": "EB2zyQcV4xNR"
   },
   "outputs": [],
   "source": [
    "import pandas as pd\n",
    "import numpy as np"
   ]
  },
  {
   "cell_type": "code",
   "execution_count": 2,
   "id": "7AFSZI_M4fHu",
   "metadata": {
    "id": "7AFSZI_M4fHu"
   },
   "outputs": [],
   "source": [
    "# Read Data From and Reprocessing it\n",
    "dataset = pd.read_csv('./data/churn_modeling.csv')"
   ]
  },
  {
   "cell_type": "code",
   "execution_count": 3,
   "id": "qJDqqHnk6tWs",
   "metadata": {
    "executionInfo": {
     "elapsed": 3,
     "status": "ok",
     "timestamp": 1715288718869,
     "user": {
      "displayName": "Fabien Marpeau",
      "userId": "15210978490258687001"
     },
     "user_tz": 300
    },
    "id": "qJDqqHnk6tWs"
   },
   "outputs": [
    {
     "data": {
      "text/html": [
       "<div>\n",
       "<style scoped>\n",
       "    .dataframe tbody tr th:only-of-type {\n",
       "        vertical-align: middle;\n",
       "    }\n",
       "\n",
       "    .dataframe tbody tr th {\n",
       "        vertical-align: top;\n",
       "    }\n",
       "\n",
       "    .dataframe thead th {\n",
       "        text-align: right;\n",
       "    }\n",
       "</style>\n",
       "<table border=\"1\" class=\"dataframe\">\n",
       "  <thead>\n",
       "    <tr style=\"text-align: right;\">\n",
       "      <th></th>\n",
       "      <th>RowNumber</th>\n",
       "      <th>CustomerId</th>\n",
       "      <th>Surname</th>\n",
       "      <th>CreditScore</th>\n",
       "      <th>Geography</th>\n",
       "      <th>Gender</th>\n",
       "      <th>Age</th>\n",
       "      <th>Tenure</th>\n",
       "      <th>Balance</th>\n",
       "      <th>NumOfProducts</th>\n",
       "      <th>HasCrCard</th>\n",
       "      <th>IsActiveMember</th>\n",
       "      <th>EstimatedSalary</th>\n",
       "      <th>Exited</th>\n",
       "    </tr>\n",
       "  </thead>\n",
       "  <tbody>\n",
       "    <tr>\n",
       "      <th>0</th>\n",
       "      <td>1</td>\n",
       "      <td>15634602</td>\n",
       "      <td>Hargrave</td>\n",
       "      <td>619</td>\n",
       "      <td>France</td>\n",
       "      <td>Female</td>\n",
       "      <td>42</td>\n",
       "      <td>2</td>\n",
       "      <td>0.00</td>\n",
       "      <td>1</td>\n",
       "      <td>1</td>\n",
       "      <td>1</td>\n",
       "      <td>101348.88</td>\n",
       "      <td>1</td>\n",
       "    </tr>\n",
       "    <tr>\n",
       "      <th>1</th>\n",
       "      <td>2</td>\n",
       "      <td>15647311</td>\n",
       "      <td>Hill</td>\n",
       "      <td>608</td>\n",
       "      <td>Spain</td>\n",
       "      <td>Female</td>\n",
       "      <td>41</td>\n",
       "      <td>1</td>\n",
       "      <td>83807.86</td>\n",
       "      <td>1</td>\n",
       "      <td>0</td>\n",
       "      <td>1</td>\n",
       "      <td>112542.58</td>\n",
       "      <td>0</td>\n",
       "    </tr>\n",
       "    <tr>\n",
       "      <th>2</th>\n",
       "      <td>3</td>\n",
       "      <td>15619304</td>\n",
       "      <td>Onio</td>\n",
       "      <td>502</td>\n",
       "      <td>France</td>\n",
       "      <td>Female</td>\n",
       "      <td>42</td>\n",
       "      <td>8</td>\n",
       "      <td>159660.80</td>\n",
       "      <td>3</td>\n",
       "      <td>1</td>\n",
       "      <td>0</td>\n",
       "      <td>113931.57</td>\n",
       "      <td>1</td>\n",
       "    </tr>\n",
       "    <tr>\n",
       "      <th>3</th>\n",
       "      <td>4</td>\n",
       "      <td>15701354</td>\n",
       "      <td>Boni</td>\n",
       "      <td>699</td>\n",
       "      <td>France</td>\n",
       "      <td>Female</td>\n",
       "      <td>39</td>\n",
       "      <td>1</td>\n",
       "      <td>0.00</td>\n",
       "      <td>2</td>\n",
       "      <td>0</td>\n",
       "      <td>0</td>\n",
       "      <td>93826.63</td>\n",
       "      <td>0</td>\n",
       "    </tr>\n",
       "    <tr>\n",
       "      <th>4</th>\n",
       "      <td>5</td>\n",
       "      <td>15737888</td>\n",
       "      <td>Mitchell</td>\n",
       "      <td>850</td>\n",
       "      <td>Spain</td>\n",
       "      <td>Female</td>\n",
       "      <td>43</td>\n",
       "      <td>2</td>\n",
       "      <td>125510.82</td>\n",
       "      <td>1</td>\n",
       "      <td>1</td>\n",
       "      <td>1</td>\n",
       "      <td>79084.10</td>\n",
       "      <td>0</td>\n",
       "    </tr>\n",
       "  </tbody>\n",
       "</table>\n",
       "</div>"
      ],
      "text/plain": [
       "   RowNumber  CustomerId   Surname  CreditScore Geography  Gender  Age  \\\n",
       "0          1    15634602  Hargrave          619    France  Female   42   \n",
       "1          2    15647311      Hill          608     Spain  Female   41   \n",
       "2          3    15619304      Onio          502    France  Female   42   \n",
       "3          4    15701354      Boni          699    France  Female   39   \n",
       "4          5    15737888  Mitchell          850     Spain  Female   43   \n",
       "\n",
       "   Tenure    Balance  NumOfProducts  HasCrCard  IsActiveMember  \\\n",
       "0       2       0.00              1          1               1   \n",
       "1       1   83807.86              1          0               1   \n",
       "2       8  159660.80              3          1               0   \n",
       "3       1       0.00              2          0               0   \n",
       "4       2  125510.82              1          1               1   \n",
       "\n",
       "   EstimatedSalary  Exited  \n",
       "0        101348.88       1  \n",
       "1        112542.58       0  \n",
       "2        113931.57       1  \n",
       "3         93826.63       0  \n",
       "4         79084.10       0  "
      ]
     },
     "execution_count": 3,
     "metadata": {},
     "output_type": "execute_result"
    }
   ],
   "source": [
    "dataset.head()"
   ]
  },
  {
   "cell_type": "markdown",
   "id": "x15E2vns66Be",
   "metadata": {
    "id": "x15E2vns66Be"
   },
   "source": [
    "__2. Drop the customers' personal data columns that will not be useful for analysis. (Hint: First three columns)__"
   ]
  },
  {
   "cell_type": "code",
   "execution_count": 4,
   "id": "NpQS52BO62EO",
   "metadata": {
    "executionInfo": {
     "elapsed": 2,
     "status": "ok",
     "timestamp": 1715288720270,
     "user": {
      "displayName": "Fabien Marpeau",
      "userId": "15210978490258687001"
     },
     "user_tz": 300
    },
    "id": "NpQS52BO62EO"
   },
   "outputs": [
    {
     "data": {
      "text/html": [
       "<div>\n",
       "<style scoped>\n",
       "    .dataframe tbody tr th:only-of-type {\n",
       "        vertical-align: middle;\n",
       "    }\n",
       "\n",
       "    .dataframe tbody tr th {\n",
       "        vertical-align: top;\n",
       "    }\n",
       "\n",
       "    .dataframe thead th {\n",
       "        text-align: right;\n",
       "    }\n",
       "</style>\n",
       "<table border=\"1\" class=\"dataframe\">\n",
       "  <thead>\n",
       "    <tr style=\"text-align: right;\">\n",
       "      <th></th>\n",
       "      <th>CreditScore</th>\n",
       "      <th>Geography</th>\n",
       "      <th>Gender</th>\n",
       "      <th>Age</th>\n",
       "      <th>Tenure</th>\n",
       "      <th>Balance</th>\n",
       "      <th>NumOfProducts</th>\n",
       "      <th>HasCrCard</th>\n",
       "      <th>IsActiveMember</th>\n",
       "      <th>EstimatedSalary</th>\n",
       "      <th>Exited</th>\n",
       "    </tr>\n",
       "  </thead>\n",
       "  <tbody>\n",
       "    <tr>\n",
       "      <th>0</th>\n",
       "      <td>619</td>\n",
       "      <td>France</td>\n",
       "      <td>Female</td>\n",
       "      <td>42</td>\n",
       "      <td>2</td>\n",
       "      <td>0.00</td>\n",
       "      <td>1</td>\n",
       "      <td>1</td>\n",
       "      <td>1</td>\n",
       "      <td>101348.88</td>\n",
       "      <td>1</td>\n",
       "    </tr>\n",
       "    <tr>\n",
       "      <th>1</th>\n",
       "      <td>608</td>\n",
       "      <td>Spain</td>\n",
       "      <td>Female</td>\n",
       "      <td>41</td>\n",
       "      <td>1</td>\n",
       "      <td>83807.86</td>\n",
       "      <td>1</td>\n",
       "      <td>0</td>\n",
       "      <td>1</td>\n",
       "      <td>112542.58</td>\n",
       "      <td>0</td>\n",
       "    </tr>\n",
       "    <tr>\n",
       "      <th>2</th>\n",
       "      <td>502</td>\n",
       "      <td>France</td>\n",
       "      <td>Female</td>\n",
       "      <td>42</td>\n",
       "      <td>8</td>\n",
       "      <td>159660.80</td>\n",
       "      <td>3</td>\n",
       "      <td>1</td>\n",
       "      <td>0</td>\n",
       "      <td>113931.57</td>\n",
       "      <td>1</td>\n",
       "    </tr>\n",
       "    <tr>\n",
       "      <th>3</th>\n",
       "      <td>699</td>\n",
       "      <td>France</td>\n",
       "      <td>Female</td>\n",
       "      <td>39</td>\n",
       "      <td>1</td>\n",
       "      <td>0.00</td>\n",
       "      <td>2</td>\n",
       "      <td>0</td>\n",
       "      <td>0</td>\n",
       "      <td>93826.63</td>\n",
       "      <td>0</td>\n",
       "    </tr>\n",
       "    <tr>\n",
       "      <th>4</th>\n",
       "      <td>850</td>\n",
       "      <td>Spain</td>\n",
       "      <td>Female</td>\n",
       "      <td>43</td>\n",
       "      <td>2</td>\n",
       "      <td>125510.82</td>\n",
       "      <td>1</td>\n",
       "      <td>1</td>\n",
       "      <td>1</td>\n",
       "      <td>79084.10</td>\n",
       "      <td>0</td>\n",
       "    </tr>\n",
       "  </tbody>\n",
       "</table>\n",
       "</div>"
      ],
      "text/plain": [
       "   CreditScore Geography  Gender  Age  Tenure    Balance  NumOfProducts  \\\n",
       "0          619    France  Female   42       2       0.00              1   \n",
       "1          608     Spain  Female   41       1   83807.86              1   \n",
       "2          502    France  Female   42       8  159660.80              3   \n",
       "3          699    France  Female   39       1       0.00              2   \n",
       "4          850     Spain  Female   43       2  125510.82              1   \n",
       "\n",
       "   HasCrCard  IsActiveMember  EstimatedSalary  Exited  \n",
       "0          1               1        101348.88       1  \n",
       "1          0               1        112542.58       0  \n",
       "2          1               0        113931.57       1  \n",
       "3          0               0         93826.63       0  \n",
       "4          1               1         79084.10       0  "
      ]
     },
     "execution_count": 4,
     "metadata": {},
     "output_type": "execute_result"
    }
   ],
   "source": [
    "dataset.drop(columns = ['RowNumber','CustomerId','Surname'],inplace=True)\n",
    "dataset.head()"
   ]
  },
  {
   "cell_type": "markdown",
   "id": "KCBQy2Tw7qle",
   "metadata": {
    "id": "KCBQy2Tw7qle"
   },
   "source": [
    "__3. Prepare independent variables X and dependent variable Y (Exited).__"
   ]
  },
  {
   "cell_type": "code",
   "execution_count": 5,
   "id": "Y-xcpuo17qvq",
   "metadata": {
    "id": "Y-xcpuo17qvq"
   },
   "outputs": [],
   "source": [
    "X=dataset.iloc[:,:-1].values\n",
    "Y=dataset.iloc[:,-1].values"
   ]
  },
  {
   "cell_type": "code",
   "execution_count": 6,
   "id": "ZT_8AbRR73LT",
   "metadata": {
    "executionInfo": {
     "elapsed": 132,
     "status": "ok",
     "timestamp": 1715288727669,
     "user": {
      "displayName": "Fabien Marpeau",
      "userId": "15210978490258687001"
     },
     "user_tz": 300
    },
    "id": "ZT_8AbRR73LT"
   },
   "outputs": [
    {
     "data": {
      "text/plain": [
       "array([[619, 'France', 'Female', 42, 2, 0.0, 1, 1, 1, 101348.88],\n",
       "       [608, 'Spain', 'Female', 41, 1, 83807.86, 1, 0, 1, 112542.58],\n",
       "       [502, 'France', 'Female', 42, 8, 159660.8, 3, 1, 0, 113931.57],\n",
       "       [699, 'France', 'Female', 39, 1, 0.0, 2, 0, 0, 93826.63],\n",
       "       [850, 'Spain', 'Female', 43, 2, 125510.82, 1, 1, 1, 79084.1],\n",
       "       [645, 'Spain', 'Male', 44, 8, 113755.78, 2, 1, 0, 149756.71],\n",
       "       [822, 'France', 'Male', 50, 7, 0.0, 2, 1, 1, 10062.8],\n",
       "       [376, 'Germany', 'Female', 29, 4, 115046.74, 4, 1, 0, 119346.88],\n",
       "       [501, 'France', 'Male', 44, 4, 142051.07, 2, 0, 1, 74940.5],\n",
       "       [684, 'France', 'Male', 27, 2, 134603.88, 1, 1, 1, 71725.73]],\n",
       "      dtype=object)"
      ]
     },
     "execution_count": 6,
     "metadata": {},
     "output_type": "execute_result"
    }
   ],
   "source": [
    "X[:10]"
   ]
  },
  {
   "cell_type": "code",
   "execution_count": 7,
   "id": "Q1AzDOu173qb",
   "metadata": {
    "executionInfo": {
     "elapsed": 147,
     "status": "ok",
     "timestamp": 1715288731549,
     "user": {
      "displayName": "Fabien Marpeau",
      "userId": "15210978490258687001"
     },
     "user_tz": 300
    },
    "id": "Q1AzDOu173qb"
   },
   "outputs": [
    {
     "data": {
      "text/plain": [
       "array([1, 0, 1, 0, 0, 1, 0, 1, 0, 0])"
      ]
     },
     "execution_count": 7,
     "metadata": {},
     "output_type": "execute_result"
    }
   ],
   "source": [
    "Y[:10]"
   ]
  },
  {
   "cell_type": "markdown",
   "id": "GFqPdCgH7_il",
   "metadata": {
    "id": "GFqPdCgH7_il"
   },
   "source": [
    "__4. LabelEncode the Gender column__"
   ]
  },
  {
   "cell_type": "code",
   "execution_count": 8,
   "id": "hIul8phj7_rE",
   "metadata": {
    "executionInfo": {
     "elapsed": 113,
     "status": "ok",
     "timestamp": 1715288735168,
     "user": {
      "displayName": "Fabien Marpeau",
      "userId": "15210978490258687001"
     },
     "user_tz": 300
    },
    "id": "hIul8phj7_rE"
   },
   "outputs": [
    {
     "name": "stdout",
     "output_type": "stream",
     "text": [
      "['Female' 'Female' 'Female' 'Female' 'Female' 'Male' 'Male' 'Female'\n",
      " 'Male' 'Male']\n",
      "[0 0 0 0 0 1 1 0 1 1]\n"
     ]
    }
   ],
   "source": [
    "from sklearn.preprocessing import LabelEncoder\n",
    "le = LabelEncoder()\n",
    "print(X[:10,2])\n",
    "X[:,2] = le.fit_transform(X[:,2])\n",
    "print(X[:10,2])"
   ]
  },
  {
   "cell_type": "markdown",
   "id": "n1VRC38g-O7h",
   "metadata": {
    "id": "n1VRC38g-O7h"
   },
   "source": [
    "__5. OneHotEncode the Geography column__"
   ]
  },
  {
   "cell_type": "code",
   "execution_count": 9,
   "id": "iuqPegqh-OGy",
   "metadata": {
    "executionInfo": {
     "elapsed": 136,
     "status": "ok",
     "timestamp": 1715288740059,
     "user": {
      "displayName": "Fabien Marpeau",
      "userId": "15210978490258687001"
     },
     "user_tz": 300
    },
    "id": "iuqPegqh-OGy"
   },
   "outputs": [],
   "source": [
    "oh = pd.get_dummies(X[:,1]).astype('int')"
   ]
  },
  {
   "cell_type": "code",
   "execution_count": 10,
   "id": "CGOgGF2aBlDh",
   "metadata": {
    "executionInfo": {
     "elapsed": 117,
     "status": "ok",
     "timestamp": 1715288743969,
     "user": {
      "displayName": "Fabien Marpeau",
      "userId": "15210978490258687001"
     },
     "user_tz": 300
    },
    "id": "CGOgGF2aBlDh"
   },
   "outputs": [
    {
     "data": {
      "text/html": [
       "<div>\n",
       "<style scoped>\n",
       "    .dataframe tbody tr th:only-of-type {\n",
       "        vertical-align: middle;\n",
       "    }\n",
       "\n",
       "    .dataframe tbody tr th {\n",
       "        vertical-align: top;\n",
       "    }\n",
       "\n",
       "    .dataframe thead th {\n",
       "        text-align: right;\n",
       "    }\n",
       "</style>\n",
       "<table border=\"1\" class=\"dataframe\">\n",
       "  <thead>\n",
       "    <tr style=\"text-align: right;\">\n",
       "      <th></th>\n",
       "      <th>France</th>\n",
       "      <th>Germany</th>\n",
       "      <th>Spain</th>\n",
       "    </tr>\n",
       "  </thead>\n",
       "  <tbody>\n",
       "    <tr>\n",
       "      <th>0</th>\n",
       "      <td>1</td>\n",
       "      <td>0</td>\n",
       "      <td>0</td>\n",
       "    </tr>\n",
       "    <tr>\n",
       "      <th>1</th>\n",
       "      <td>0</td>\n",
       "      <td>0</td>\n",
       "      <td>1</td>\n",
       "    </tr>\n",
       "    <tr>\n",
       "      <th>2</th>\n",
       "      <td>1</td>\n",
       "      <td>0</td>\n",
       "      <td>0</td>\n",
       "    </tr>\n",
       "    <tr>\n",
       "      <th>3</th>\n",
       "      <td>1</td>\n",
       "      <td>0</td>\n",
       "      <td>0</td>\n",
       "    </tr>\n",
       "    <tr>\n",
       "      <th>4</th>\n",
       "      <td>0</td>\n",
       "      <td>0</td>\n",
       "      <td>1</td>\n",
       "    </tr>\n",
       "    <tr>\n",
       "      <th>...</th>\n",
       "      <td>...</td>\n",
       "      <td>...</td>\n",
       "      <td>...</td>\n",
       "    </tr>\n",
       "    <tr>\n",
       "      <th>9995</th>\n",
       "      <td>1</td>\n",
       "      <td>0</td>\n",
       "      <td>0</td>\n",
       "    </tr>\n",
       "    <tr>\n",
       "      <th>9996</th>\n",
       "      <td>1</td>\n",
       "      <td>0</td>\n",
       "      <td>0</td>\n",
       "    </tr>\n",
       "    <tr>\n",
       "      <th>9997</th>\n",
       "      <td>1</td>\n",
       "      <td>0</td>\n",
       "      <td>0</td>\n",
       "    </tr>\n",
       "    <tr>\n",
       "      <th>9998</th>\n",
       "      <td>0</td>\n",
       "      <td>1</td>\n",
       "      <td>0</td>\n",
       "    </tr>\n",
       "    <tr>\n",
       "      <th>9999</th>\n",
       "      <td>1</td>\n",
       "      <td>0</td>\n",
       "      <td>0</td>\n",
       "    </tr>\n",
       "  </tbody>\n",
       "</table>\n",
       "<p>10000 rows × 3 columns</p>\n",
       "</div>"
      ],
      "text/plain": [
       "      France  Germany  Spain\n",
       "0          1        0      0\n",
       "1          0        0      1\n",
       "2          1        0      0\n",
       "3          1        0      0\n",
       "4          0        0      1\n",
       "...      ...      ...    ...\n",
       "9995       1        0      0\n",
       "9996       1        0      0\n",
       "9997       1        0      0\n",
       "9998       0        1      0\n",
       "9999       1        0      0\n",
       "\n",
       "[10000 rows x 3 columns]"
      ]
     },
     "execution_count": 10,
     "metadata": {},
     "output_type": "execute_result"
    }
   ],
   "source": [
    "oh"
   ]
  },
  {
   "cell_type": "code",
   "execution_count": 11,
   "id": "IV9gr8zeBnO1",
   "metadata": {
    "executionInfo": {
     "elapsed": 118,
     "status": "ok",
     "timestamp": 1715288750235,
     "user": {
      "displayName": "Fabien Marpeau",
      "userId": "15210978490258687001"
     },
     "user_tz": 300
    },
    "id": "IV9gr8zeBnO1"
   },
   "outputs": [
    {
     "data": {
      "text/plain": [
       "array([[1, 0, 0],\n",
       "       [0, 0, 1],\n",
       "       [1, 0, 0],\n",
       "       ...,\n",
       "       [1, 0, 0],\n",
       "       [0, 1, 0],\n",
       "       [1, 0, 0]])"
      ]
     },
     "execution_count": 11,
     "metadata": {},
     "output_type": "execute_result"
    }
   ],
   "source": [
    "oh.values"
   ]
  },
  {
   "cell_type": "code",
   "execution_count": 12,
   "id": "9eo667Zy_0Yf",
   "metadata": {
    "executionInfo": {
     "elapsed": 118,
     "status": "ok",
     "timestamp": 1715288753949,
     "user": {
      "displayName": "Fabien Marpeau",
      "userId": "15210978490258687001"
     },
     "user_tz": 300
    },
    "id": "9eo667Zy_0Yf"
   },
   "outputs": [
    {
     "data": {
      "text/plain": [
       "array([[619, 0, 42, 2, 0.0, 1, 1, 1, 101348.88],\n",
       "       [608, 0, 41, 1, 83807.86, 1, 0, 1, 112542.58],\n",
       "       [502, 0, 42, 8, 159660.8, 3, 1, 0, 113931.57],\n",
       "       [699, 0, 39, 1, 0.0, 2, 0, 0, 93826.63],\n",
       "       [850, 0, 43, 2, 125510.82, 1, 1, 1, 79084.1],\n",
       "       [645, 1, 44, 8, 113755.78, 2, 1, 0, 149756.71],\n",
       "       [822, 1, 50, 7, 0.0, 2, 1, 1, 10062.8],\n",
       "       [376, 0, 29, 4, 115046.74, 4, 1, 0, 119346.88],\n",
       "       [501, 1, 44, 4, 142051.07, 2, 0, 1, 74940.5],\n",
       "       [684, 1, 27, 2, 134603.88, 1, 1, 1, 71725.73]], dtype=object)"
      ]
     },
     "execution_count": 12,
     "metadata": {},
     "output_type": "execute_result"
    }
   ],
   "source": [
    "X = np.delete(X, 1, 1)  # delete second column of X, coluimn 1, axis=1\n",
    "X[:10]"
   ]
  },
  {
   "cell_type": "code",
   "execution_count": 13,
   "id": "htRQde0QA_oO",
   "metadata": {
    "executionInfo": {
     "elapsed": 121,
     "status": "ok",
     "timestamp": 1715288758085,
     "user": {
      "displayName": "Fabien Marpeau",
      "userId": "15210978490258687001"
     },
     "user_tz": 300
    },
    "id": "htRQde0QA_oO"
   },
   "outputs": [
    {
     "data": {
      "text/plain": [
       "array([[619, 0, 42, 2, 0.0, 1, 1, 1, 101348.88, 1, 0, 0],\n",
       "       [608, 0, 41, 1, 83807.86, 1, 0, 1, 112542.58, 0, 0, 1],\n",
       "       [502, 0, 42, 8, 159660.8, 3, 1, 0, 113931.57, 1, 0, 0],\n",
       "       [699, 0, 39, 1, 0.0, 2, 0, 0, 93826.63, 1, 0, 0],\n",
       "       [850, 0, 43, 2, 125510.82, 1, 1, 1, 79084.1, 0, 0, 1],\n",
       "       [645, 1, 44, 8, 113755.78, 2, 1, 0, 149756.71, 0, 0, 1],\n",
       "       [822, 1, 50, 7, 0.0, 2, 1, 1, 10062.8, 1, 0, 0],\n",
       "       [376, 0, 29, 4, 115046.74, 4, 1, 0, 119346.88, 0, 1, 0],\n",
       "       [501, 1, 44, 4, 142051.07, 2, 0, 1, 74940.5, 1, 0, 0],\n",
       "       [684, 1, 27, 2, 134603.88, 1, 1, 1, 71725.73, 1, 0, 0]],\n",
       "      dtype=object)"
      ]
     },
     "execution_count": 13,
     "metadata": {},
     "output_type": "execute_result"
    }
   ],
   "source": [
    "X = np.concatenate((X,oh.values),axis=1)\n",
    "X[:10]"
   ]
  },
  {
   "cell_type": "markdown",
   "id": "VYRJ_zQGCukw",
   "metadata": {
    "id": "VYRJ_zQGCukw"
   },
   "source": [
    "__6. Perform a train test split in the ratio 80:20 and random_state 0__"
   ]
  },
  {
   "cell_type": "code",
   "execution_count": 14,
   "id": "0Zre9UgjCuui",
   "metadata": {
    "id": "0Zre9UgjCuui"
   },
   "outputs": [],
   "source": [
    "from sklearn.model_selection import train_test_split\n",
    "X_train, X_test, y_train, y_test = train_test_split(X, Y, test_size = 0.2, random_state = 0)"
   ]
  },
  {
   "cell_type": "markdown",
   "id": "qPiKfhBGDfra",
   "metadata": {
    "id": "qPiKfhBGDfra"
   },
   "source": [
    "__7. Perform Feature scaling on X_train and X_text using StandardScalar__"
   ]
  },
  {
   "cell_type": "code",
   "execution_count": 15,
   "id": "crOjOzoKDfzx",
   "metadata": {
    "id": "crOjOzoKDfzx"
   },
   "outputs": [],
   "source": [
    "from sklearn.preprocessing import StandardScaler\n",
    "sc = StandardScaler()\n",
    "X_train = sc.fit_transform(X_train)\n",
    "X_test = sc.transform(X_test)"
   ]
  },
  {
   "cell_type": "markdown",
   "id": "dl5i7YvODrfD",
   "metadata": {
    "id": "dl5i7YvODrfD"
   },
   "source": [
    "__8. Build a Keras Sequential model with the following layers__\n",
    "- Dense layer with 6 neurons and activation relu\n",
    "- Dense layer with 6 neurons and activation relu\n",
    "- Dense layer with 1 neuron and activation sigmoid\n",
    "- Compile the model with adam optimizer, binary_crossentropy loss and\n",
    "metric accuracy\n",
    "- Train the model for 10 epochs and batch size 10."
   ]
  },
  {
   "cell_type": "code",
   "execution_count": 16,
   "id": "Nz0MpcVCFOb6",
   "metadata": {
    "id": "Nz0MpcVCFOb6"
   },
   "outputs": [],
   "source": [
    "import tensorflow as tf"
   ]
  },
  {
   "cell_type": "code",
   "execution_count": 17,
   "id": "24cb6dbf",
   "metadata": {},
   "outputs": [
    {
     "data": {
      "text/plain": [
       "(8000, 12)"
      ]
     },
     "execution_count": 17,
     "metadata": {},
     "output_type": "execute_result"
    }
   ],
   "source": [
    "X_train.shape"
   ]
  },
  {
   "cell_type": "code",
   "execution_count": 18,
   "id": "PNCI3gSyDrml",
   "metadata": {
    "executionInfo": {
     "elapsed": 122,
     "status": "ok",
     "timestamp": 1715288774198,
     "user": {
      "displayName": "Fabien Marpeau",
      "userId": "15210978490258687001"
     },
     "user_tz": 300
    },
    "id": "PNCI3gSyDrml"
   },
   "outputs": [],
   "source": [
    "ann = tf.keras.Sequential([\n",
    "    tf.keras.layers.Input(shape=(12,)),\n",
    "    tf.keras.layers.Dense(units=6,activation='relu'),\n",
    "    tf.keras.layers.Dense(units=6,activation='relu'),\n",
    "    tf.keras.layers.Dense(units=1,activation='sigmoid')\n",
    "])"
   ]
  },
  {
   "cell_type": "code",
   "execution_count": 19,
   "id": "agNL-AgAHP5Y",
   "metadata": {
    "executionInfo": {
     "elapsed": 2,
     "status": "ok",
     "timestamp": 1715288795504,
     "user": {
      "displayName": "Fabien Marpeau",
      "userId": "15210978490258687001"
     },
     "user_tz": 300
    },
    "id": "agNL-AgAHP5Y"
   },
   "outputs": [
    {
     "data": {
      "text/html": [
       "<pre style=\"white-space:pre;overflow-x:auto;line-height:normal;font-family:Menlo,'DejaVu Sans Mono',consolas,'Courier New',monospace\"><span style=\"font-weight: bold\">Model: \"sequential\"</span>\n",
       "</pre>\n"
      ],
      "text/plain": [
       "\u001b[1mModel: \"sequential\"\u001b[0m\n"
      ]
     },
     "metadata": {},
     "output_type": "display_data"
    },
    {
     "data": {
      "text/html": [
       "<pre style=\"white-space:pre;overflow-x:auto;line-height:normal;font-family:Menlo,'DejaVu Sans Mono',consolas,'Courier New',monospace\">┏━━━━━━━━━━━━━━━━━━━━━━━━━━━━━━━━━┳━━━━━━━━━━━━━━━━━━━━━━━━┳━━━━━━━━━━━━━━━┓\n",
       "┃<span style=\"font-weight: bold\"> Layer (type)                    </span>┃<span style=\"font-weight: bold\"> Output Shape           </span>┃<span style=\"font-weight: bold\">       Param # </span>┃\n",
       "┡━━━━━━━━━━━━━━━━━━━━━━━━━━━━━━━━━╇━━━━━━━━━━━━━━━━━━━━━━━━╇━━━━━━━━━━━━━━━┩\n",
       "│ dense (<span style=\"color: #0087ff; text-decoration-color: #0087ff\">Dense</span>)                   │ (<span style=\"color: #00d7ff; text-decoration-color: #00d7ff\">None</span>, <span style=\"color: #00af00; text-decoration-color: #00af00\">6</span>)              │            <span style=\"color: #00af00; text-decoration-color: #00af00\">78</span> │\n",
       "├─────────────────────────────────┼────────────────────────┼───────────────┤\n",
       "│ dense_1 (<span style=\"color: #0087ff; text-decoration-color: #0087ff\">Dense</span>)                 │ (<span style=\"color: #00d7ff; text-decoration-color: #00d7ff\">None</span>, <span style=\"color: #00af00; text-decoration-color: #00af00\">6</span>)              │            <span style=\"color: #00af00; text-decoration-color: #00af00\">42</span> │\n",
       "├─────────────────────────────────┼────────────────────────┼───────────────┤\n",
       "│ dense_2 (<span style=\"color: #0087ff; text-decoration-color: #0087ff\">Dense</span>)                 │ (<span style=\"color: #00d7ff; text-decoration-color: #00d7ff\">None</span>, <span style=\"color: #00af00; text-decoration-color: #00af00\">1</span>)              │             <span style=\"color: #00af00; text-decoration-color: #00af00\">7</span> │\n",
       "└─────────────────────────────────┴────────────────────────┴───────────────┘\n",
       "</pre>\n"
      ],
      "text/plain": [
       "┏━━━━━━━━━━━━━━━━━━━━━━━━━━━━━━━━━┳━━━━━━━━━━━━━━━━━━━━━━━━┳━━━━━━━━━━━━━━━┓\n",
       "┃\u001b[1m \u001b[0m\u001b[1mLayer (type)                   \u001b[0m\u001b[1m \u001b[0m┃\u001b[1m \u001b[0m\u001b[1mOutput Shape          \u001b[0m\u001b[1m \u001b[0m┃\u001b[1m \u001b[0m\u001b[1m      Param #\u001b[0m\u001b[1m \u001b[0m┃\n",
       "┡━━━━━━━━━━━━━━━━━━━━━━━━━━━━━━━━━╇━━━━━━━━━━━━━━━━━━━━━━━━╇━━━━━━━━━━━━━━━┩\n",
       "│ dense (\u001b[38;5;33mDense\u001b[0m)                   │ (\u001b[38;5;45mNone\u001b[0m, \u001b[38;5;34m6\u001b[0m)              │            \u001b[38;5;34m78\u001b[0m │\n",
       "├─────────────────────────────────┼────────────────────────┼───────────────┤\n",
       "│ dense_1 (\u001b[38;5;33mDense\u001b[0m)                 │ (\u001b[38;5;45mNone\u001b[0m, \u001b[38;5;34m6\u001b[0m)              │            \u001b[38;5;34m42\u001b[0m │\n",
       "├─────────────────────────────────┼────────────────────────┼───────────────┤\n",
       "│ dense_2 (\u001b[38;5;33mDense\u001b[0m)                 │ (\u001b[38;5;45mNone\u001b[0m, \u001b[38;5;34m1\u001b[0m)              │             \u001b[38;5;34m7\u001b[0m │\n",
       "└─────────────────────────────────┴────────────────────────┴───────────────┘\n"
      ]
     },
     "metadata": {},
     "output_type": "display_data"
    },
    {
     "data": {
      "text/html": [
       "<pre style=\"white-space:pre;overflow-x:auto;line-height:normal;font-family:Menlo,'DejaVu Sans Mono',consolas,'Courier New',monospace\"><span style=\"font-weight: bold\"> Total params: </span><span style=\"color: #00af00; text-decoration-color: #00af00\">127</span> (508.00 B)\n",
       "</pre>\n"
      ],
      "text/plain": [
       "\u001b[1m Total params: \u001b[0m\u001b[38;5;34m127\u001b[0m (508.00 B)\n"
      ]
     },
     "metadata": {},
     "output_type": "display_data"
    },
    {
     "data": {
      "text/html": [
       "<pre style=\"white-space:pre;overflow-x:auto;line-height:normal;font-family:Menlo,'DejaVu Sans Mono',consolas,'Courier New',monospace\"><span style=\"font-weight: bold\"> Trainable params: </span><span style=\"color: #00af00; text-decoration-color: #00af00\">127</span> (508.00 B)\n",
       "</pre>\n"
      ],
      "text/plain": [
       "\u001b[1m Trainable params: \u001b[0m\u001b[38;5;34m127\u001b[0m (508.00 B)\n"
      ]
     },
     "metadata": {},
     "output_type": "display_data"
    },
    {
     "data": {
      "text/html": [
       "<pre style=\"white-space:pre;overflow-x:auto;line-height:normal;font-family:Menlo,'DejaVu Sans Mono',consolas,'Courier New',monospace\"><span style=\"font-weight: bold\"> Non-trainable params: </span><span style=\"color: #00af00; text-decoration-color: #00af00\">0</span> (0.00 B)\n",
       "</pre>\n"
      ],
      "text/plain": [
       "\u001b[1m Non-trainable params: \u001b[0m\u001b[38;5;34m0\u001b[0m (0.00 B)\n"
      ]
     },
     "metadata": {},
     "output_type": "display_data"
    }
   ],
   "source": [
    "ann.summary()"
   ]
  },
  {
   "cell_type": "code",
   "execution_count": 20,
   "id": "NYkbPdyYFQNY",
   "metadata": {
    "id": "NYkbPdyYFQNY"
   },
   "outputs": [],
   "source": [
    "# Compile\n",
    "ann.compile(optimizer = 'adam',loss = 'binary_crossentropy',metrics = ['accuracy'])"
   ]
  },
  {
   "cell_type": "code",
   "execution_count": 21,
   "id": "MvUHhrrtGEC3",
   "metadata": {
    "executionInfo": {
     "elapsed": 2,
     "status": "ok",
     "timestamp": 1715288801480,
     "user": {
      "displayName": "Fabien Marpeau",
      "userId": "15210978490258687001"
     },
     "user_tz": 300
    },
    "id": "MvUHhrrtGEC3"
   },
   "outputs": [],
   "source": [
    "# Train\n",
    "history = ann.fit(X_train,y_train,validation_split=0.2,batch_size = 32,epochs = 1_000, verbose=0)"
   ]
  },
  {
   "cell_type": "code",
   "execution_count": 22,
   "id": "Z2M3kmUJIYlB",
   "metadata": {
    "id": "Z2M3kmUJIYlB"
   },
   "outputs": [],
   "source": [
    "import matplotlib.pyplot as plt\n",
    "def plotModelHistory (h):\n",
    "  fig, ax = plt.subplots(1 , 2, figsize =(15 , 4))\n",
    "  ax[0].plot(h.history['loss'])\n",
    "  ax[0].plot (h.history['val_loss'])\n",
    "  ax[0].legend(['loss','val_loss'])\n",
    "  ax[0].title.set_text(\"Train loss vs Validation loss\")\n",
    "  ax[1].plot(h.history['accuracy' ])\n",
    "  ax[1].plot(h.history['val_accuracy'])\n",
    "  ax[1].legend(['accuracy','val_accuracy'])\n",
    "  ax[1].title.set_text(\"Train accuracy vs Validation accuracy\")\n",
    "  print(\"Max.Training Accuracy\",max(h. history['accuracy']))\n",
    "  print(\"Max.Validaiton Accuracy\",max(h.history['val_accuracy']))"
   ]
  },
  {
   "cell_type": "code",
   "execution_count": 23,
   "id": "jf_Ehq_fIZ-D",
   "metadata": {
    "executionInfo": {
     "elapsed": 102,
     "status": "ok",
     "timestamp": 1715288806144,
     "user": {
      "displayName": "Fabien Marpeau",
      "userId": "15210978490258687001"
     },
     "user_tz": 300
    },
    "id": "jf_Ehq_fIZ-D"
   },
   "outputs": [
    {
     "name": "stdout",
     "output_type": "stream",
     "text": [
      "Max.Training Accuracy 0.8675000071525574\n",
      "Max.Validaiton Accuracy 0.8656250238418579\n"
     ]
    },
    {
     "data": {
      "image/png": "[encoded data removed]",
      "text/plain": [
       "<Figure size 1500x400 with 2 Axes>"
      ]
     },
     "metadata": {},
     "output_type": "display_data"
    }
   ],
   "source": [
    "plotModelHistory(history)"
   ]
  },
  {
   "cell_type": "markdown",
   "id": "PJrXzxglI7IO",
   "metadata": {
    "id": "PJrXzxglI7IO"
   },
   "source": [
    "##Observation\n",
    "- Training Loss and Validation Loss decreases smoothly\n",
    "- Training accuracy and Validation accuracy shows a continuous increase\n",
    "- The model does not show signs of overfitting"
   ]
  },
  {
   "cell_type": "code",
   "execution_count": 26,
   "id": "68e23a4f",
   "metadata": {},
   "outputs": [],
   "source": [
    "ann128 = tf.keras.Sequential([\n",
    "    tf.keras.layers.Input(shape=(12,)),\n",
    "    tf.keras.layers.Dense(units=128, activation='relu'),\n",
    "    tf.keras.layers.Dropout(0.2),\n",
    "    tf.keras.layers.Dense(units=128, activation='relu'),\n",
    "    tf.keras.layers.Dropout(0.2),\n",
    "    tf.keras.layers.Dense(units=64, activation='relu'),\n",
    "    tf.keras.layers.Dropout(0.2),\n",
    "    tf.keras.layers.Dense(units=64, activation='relu'),\n",
    "    tf.keras.layers.Dropout(0.2),\n",
    "    tf.keras.layers.Dense(units=1, activation='sigmoid')\n",
    "])\n",
    "ann128.compile(optimizer = 'adam', loss = 'binary_crossentropy', metrics = ['accuracy'])\n",
    "history2 = ann128.fit(X_train, y_train,validation_split=0.2,batch_size = 32,epochs = 1_000, verbose=0)"
   ]
  },
  {
   "cell_type": "code",
   "execution_count": 27,
   "id": "6a544980",
   "metadata": {},
   "outputs": [
    {
     "name": "stdout",
     "output_type": "stream",
     "text": [
      "Max.Training Accuracy 0.9557812213897705\n",
      "Max.Validaiton Accuracy 0.8675000071525574\n"
     ]
    },
    {
     "data": {
      "image/png": "[encoded data removed]",
      "text/plain": [
       "<Figure size 1500x400 with 2 Axes>"
      ]
     },
     "metadata": {},
     "output_type": "display_data"
    }
   ],
   "source": [
    "plotModelHistory(history2)"
   ]
  },
  {
   "cell_type": "markdown",
   "id": "sMrxkWP54djz",
   "metadata": {
    "id": "sMrxkWP54djz"
   },
   "source": [
    "__9. Evaluate the model on the test set; print the accuracy and confusion matrix.__"
   ]
  },
  {
   "cell_type": "code",
   "execution_count": 2,
   "id": "QPTgBm8DJTfZ",
   "metadata": {
    "executionInfo": {
     "elapsed": 117,
     "status": "ok",
     "timestamp": 1715288813126,
     "user": {
      "displayName": "Fabien Marpeau",
      "userId": "15210978490258687001"
     },
     "user_tz": 300
    },
    "id": "QPTgBm8DJTfZ"
   },
   "outputs": [],
   "source": [
    "y_pred = ann.predict(X_test)\n",
    "y_pred = (y_pred > 0.50)\n",
    "print(np.concatenate((y_pred.reshape(len (y_pred), 1), y_test.reshape(len (y_test), 1)), 1))"
   ]
  },
  {
   "cell_type": "code",
   "execution_count": 2,
   "id": "q1iG-BkVJTkz",
   "metadata": {
    "executionInfo": {
     "elapsed": 106,
     "status": "ok",
     "timestamp": 1715288819317,
     "user": {
      "displayName": "Fabien Marpeau",
      "userId": "15210978490258687001"
     },
     "user_tz": 300
    },
    "id": "q1iG-BkVJTkz"
   },
   "outputs": [],
   "source": [
    "from sklearn import metrics\n",
    "accuracy = metrics.accuracy_score(y_test,y_pred)\n",
    "print(\"Accuracy score:\",accuracy)"
   ]
  },
  {
   "cell_type": "code",
   "execution_count": 3,
   "id": "h7j2h9IYJTn7",
   "metadata": {
    "executionInfo": {
     "elapsed": 105,
     "status": "ok",
     "timestamp": 1715288825569,
     "user": {
      "displayName": "Fabien Marpeau",
      "userId": "15210978490258687001"
     },
     "user_tz": 300
    },
    "id": "h7j2h9IYJTn7"
   },
   "outputs": [],
   "source": [
    "# Confusion Matrix\n",
    "cm = metrics.confusion_matrix(y_test,y_pred)\n",
    "print(cm)"
   ]
  },
  {
   "cell_type": "code",
   "execution_count": 3,
   "id": "9rVYOpKzJnQk",
   "metadata": {
    "executionInfo": {
     "elapsed": 104,
     "status": "ok",
     "timestamp": 1715288830039,
     "user": {
      "displayName": "Fabien Marpeau",
      "userId": "15210978490258687001"
     },
     "user_tz": 300
    },
    "id": "9rVYOpKzJnQk"
   },
   "outputs": [],
   "source": [
    "import seaborn as sns\n",
    "import matplotlib.pyplot as plt\n",
    "ax= plt.subplot()\n",
    "sns.heatmap(cm, annot=True, fmt='g', ax=ax, cmap=\"Blues\");  #annot=True to annotate cells, ftm='g' to disable scientific notation\n",
    "ax.set_xlabel('Predicted labels')\n",
    "ax.set_ylabel('True labels');\n",
    "ax.set_title('Confusion Matrix for the Naive Bayes model');\n",
    "ax.xaxis.set_ticklabels(['YES', 'NO']); ax.yaxis.set_ticklabels(['YES', 'NO']);"
   ]
  },
  {
   "cell_type": "code",
   "execution_count": 3,
   "id": "z4-LZCW35TLJ",
   "metadata": {
    "executionInfo": {
     "elapsed": 112,
     "status": "ok",
     "timestamp": 1715288835879,
     "user": {
      "displayName": "Fabien Marpeau",
      "userId": "15210978490258687001"
     },
     "user_tz": 300
    },
    "id": "z4-LZCW35TLJ"
   },
   "outputs": [],
   "source": [
    "# Classification report\n",
    "from sklearn.metrics import classification_report\n",
    "print(classification_report(y_test,y_pred))"
   ]
  },
  {
   "cell_type": "markdown",
   "id": "f6464431-a6b8-4792-a79e-e210487d148d",
   "metadata": {
    "id": "f6464431-a6b8-4792-a79e-e210487d148d"
   },
   "source": [
    "## Observation\n",
    "- Both Classification report and confusion report says that Model is able to\n",
    "accurately predict people who doesn't churn.\n",
    "- The model needs slight improvement in predicting people who might churn\n",
    "- Training the model with more epochs and other hyper parameter tuning\n",
    "will help to achieve this\n",
    "- Model gives an accuracy of 85% on test set\n",
    "- Recall shows how many of the clients who actually leave were detected by\n",
    "the model and precision shows how many of the clients identified by the\n",
    "model actually left.\n",
    "- The Recall values tries to reduce the False Negatives which is okay to have\n",
    "less value in this churn use case"
   ]
  },
  {
   "cell_type": "markdown",
   "id": "TC2nhqK3KJI-",
   "metadata": {
    "id": "TC2nhqK3KJI-"
   },
   "source": [
    "__Task B:__\n",
    "Use the built ANN model to predict if the customer with the following\n",
    "information will leave the bank:\n",
    "- Geography: France\n",
    "- Credit Score: 600\n",
    "- Gender: Male\n",
    "- Age: 40 years old\n",
    "- Tenure: 3 years\n",
    "- Balance: \\$60000\n",
    "- Number of Products: 2\n",
    "- Does this customer have a credit card? Yes\n",
    "- Is this customer an Active Member: Yes\n",
    "- Estimated Salary: \\$50000\n",
    "\n",
    "So, should we let the customer go?"
   ]
  },
  {
   "cell_type": "code",
   "execution_count": 4,
   "id": "kGBGtuywJSXz",
   "metadata": {
    "executionInfo": {
     "elapsed": 111,
     "status": "ok",
     "timestamp": 1715288844460,
     "user": {
      "displayName": "Fabien Marpeau",
      "userId": "15210978490258687001"
     },
     "user_tz": 300
    },
    "id": "kGBGtuywJSXz"
   },
   "outputs": [],
   "source": [
    "# CODE HERE"
   ]
  },
  {
   "cell_type": "markdown",
   "id": "EGMurFjfKxXp",
   "metadata": {
    "id": "EGMurFjfKxXp"
   },
   "source": [
    "## __Therefore, our ANN model predicts that this customer will stay in the bank.__"
   ]
  },
  {
   "cell_type": "markdown",
   "id": "-OKydgNeKpYe",
   "metadata": {
    "id": "-OKydgNeKpYe"
   },
   "source": [
    "__Important note 1:__\n",
    "Notice that the values of the features were all input in a\n",
    "double pair of square brackets. That's because the \"predict\" method always\n",
    "expects a 2D array as the format of its inputs. And putting our values into a\n",
    "double pair of square brackets makes the input exactly a 2D array.\n",
    "\n",
    "__Important note 2:__ Notice also that the \"France\" country was not input as a string\n",
    "in the last column but as \"1, 0, 0\" in the first three columns. That's because of\n",
    "course the predict method expects the one-hot-encoded values of the state, and\n",
    "as we see in the first row of the matrix of features X, \"France\" was encoded as \"1,\n",
    "0, 0\". And be careful to include these values in the first three columns, because\n",
    "the dummy variables are always created in the first columns."
   ]
  }
 ],
 "metadata": {
  "colab": {
   "provenance": []
  },
  "kernelspec": {
   "display_name": ".venv",
   "language": "python",
   "name": "python3"
  },
  "language_info": {
   "codemirror_mode": {
    "name": "ipython",
    "version": 3
   },
   "file_extension": ".py",
   "mimetype": "text/x-python",
   "name": "python",
   "nbconvert_exporter": "python",
   "pygments_lexer": "ipython3",
   "version": "3.11.13"
  }
 },
 "nbformat": 4,
 "nbformat_minor": 5
}
