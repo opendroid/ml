{
 "cells": [
  {
   "cell_type": "markdown",
   "metadata": {
    "id": "r5DYPXQks8W8"
   },
   "source": [
    "# __Hands-on with TensorFlow: Part A__\n",
    "\n",
    "Let's see how TensorFlow works and build a deep neural network model using the MNIST dataset."
   ]
  },
  {
   "cell_type": "markdown",
   "metadata": {
    "id": "AaRnZV76bfZS"
   },
   "source": [
    "## Steps to be followed:\n",
    "1. Import TensorFlow\n",
    "2. Load the MNIST dataset\n",
    "3. Create the model\n",
    "4. Get predictions from the model\n",
    "5. Apply softmax activation to the predictions\n",
    "6. Define the loss function\n",
    "7. Compile the model\n",
    "8. Train the model\n",
    "9. Evaluate the model\n",
    "10. Create a probability model"
   ]
  },
  {
   "cell_type": "markdown",
   "metadata": {
    "id": "FVLJK59QIE4L"
   },
   "source": [
    "## Step 1: Import TensorFlow\n",
    "\n",
    "- Import TensorFlow and check its version\n"
   ]
  },
  {
   "cell_type": "code",
   "execution_count": 2,
   "metadata": {
    "id": "u2tOxjHDHMKV"
   },
   "outputs": [
    {
     "name": "stdout",
     "output_type": "stream",
     "text": [
      "VOC-NOTICE: GPU memory for this assignment is capped at 1024MiB\n"
     ]
    },
    {
     "name": "stderr",
     "output_type": "stream",
     "text": [
      "2025-06-03 02:35:47.909354: E tensorflow/compiler/xla/stream_executor/cuda/cuda_driver.cc:268] failed call to cuInit: CUDA_ERROR_NO_DEVICE: no CUDA-capable device is detected\n"
     ]
    },
    {
     "name": "stdout",
     "output_type": "stream",
     "text": [
      "TensorFlow version: 2.13.1\n"
     ]
    }
   ],
   "source": [
    "import os\n",
    "os.environ['TF_CPP_MIN_LOG_LEVEL'] = '2'\n",
    "\n",
    "import tensorflow as tf\n",
    "print(\"TensorFlow version:\", tf.__version__)"
   ]
  },
  {
   "cell_type": "markdown",
   "metadata": {
    "id": "9Kzn0RkDJISF"
   },
   "source": [
    "## Step 2: Load the MNIST Dataset\n",
    "\n",
    "- Load the MNIST dataset and normalize the input data by dividing the train and test sets by 255\n",
    "\n"
   ]
  },
  {
   "cell_type": "code",
   "execution_count": 3,
   "metadata": {
    "id": "skfLvH-nHMKX"
   },
   "outputs": [],
   "source": [
    "mnist = tf.keras.datasets.mnist\n",
    "\n",
    "(x_train, y_train), (x_test, y_test) = mnist.load_data()"
   ]
  },
  {
   "cell_type": "code",
   "execution_count": 4,
   "metadata": {},
   "outputs": [
    {
     "data": {
      "text/plain": [
       "(60000, 28, 28)"
      ]
     },
     "execution_count": 4,
     "metadata": {},
     "output_type": "execute_result"
    }
   ],
   "source": [
    "x_train.shape"
   ]
  },
  {
   "cell_type": "code",
   "execution_count": 5,
   "metadata": {},
   "outputs": [
    {
     "data": {
      "text/plain": [
       "(10000, 28, 28)"
      ]
     },
     "execution_count": 5,
     "metadata": {},
     "output_type": "execute_result"
    }
   ],
   "source": [
    "x_test.shape"
   ]
  },
  {
   "cell_type": "code",
   "execution_count": 6,
   "metadata": {},
   "outputs": [
    {
     "data": {
      "text/plain": [
       "array([[  0,   0,   0,   0,   0,   0,   0,   0,   0,   0,   0,   0,   0,\n",
       "          0,   0,   0,   0,   0,   0,   0,   0,   0,   0,   0,   0,   0,\n",
       "          0,   0],\n",
       "       [  0,   0,   0,   0,   0,   0,   0,   0,   0,   0,   0,   0,   0,\n",
       "          0,   0,   0,   0,   0,   0,   0,   0,   0,   0,   0,   0,   0,\n",
       "          0,   0],\n",
       "       [  0,   0,   0,   0,   0,   0,   0,   0,   0,   0,   0,   0,   0,\n",
       "          0,   0,   0,   0,   0,   0,   0,   0,   0,   0,   0,   0,   0,\n",
       "          0,   0],\n",
       "       [  0,   0,   0,   0,   0,   0,   0,   0,   0,   0,   0,   0,   0,\n",
       "          0,   0,   0,   0,   0,   0,   0,   0,   0,   0,   0,   0,   0,\n",
       "          0,   0],\n",
       "       [  0,   0,   0,   0,   0,   0,   0,   0,   0,   0,   0,   0,   0,\n",
       "          0,   0,   0,   0,   0,   0,   0,   0,   0,   0,   0,   0,   0,\n",
       "          0,   0],\n",
       "       [  0,   0,   0,   0,   0,   0,   0,   0,   0,   0,   0,   0,   3,\n",
       "         18,  18,  18, 126, 136, 175,  26, 166, 255, 247, 127,   0,   0,\n",
       "          0,   0],\n",
       "       [  0,   0,   0,   0,   0,   0,   0,   0,  30,  36,  94, 154, 170,\n",
       "        253, 253, 253, 253, 253, 225, 172, 253, 242, 195,  64,   0,   0,\n",
       "          0,   0],\n",
       "       [  0,   0,   0,   0,   0,   0,   0,  49, 238, 253, 253, 253, 253,\n",
       "        253, 253, 253, 253, 251,  93,  82,  82,  56,  39,   0,   0,   0,\n",
       "          0,   0],\n",
       "       [  0,   0,   0,   0,   0,   0,   0,  18, 219, 253, 253, 253, 253,\n",
       "        253, 198, 182, 247, 241,   0,   0,   0,   0,   0,   0,   0,   0,\n",
       "          0,   0],\n",
       "       [  0,   0,   0,   0,   0,   0,   0,   0,  80, 156, 107, 253, 253,\n",
       "        205,  11,   0,  43, 154,   0,   0,   0,   0,   0,   0,   0,   0,\n",
       "          0,   0],\n",
       "       [  0,   0,   0,   0,   0,   0,   0,   0,   0,  14,   1, 154, 253,\n",
       "         90,   0,   0,   0,   0,   0,   0,   0,   0,   0,   0,   0,   0,\n",
       "          0,   0],\n",
       "       [  0,   0,   0,   0,   0,   0,   0,   0,   0,   0,   0, 139, 253,\n",
       "        190,   2,   0,   0,   0,   0,   0,   0,   0,   0,   0,   0,   0,\n",
       "          0,   0],\n",
       "       [  0,   0,   0,   0,   0,   0,   0,   0,   0,   0,   0,  11, 190,\n",
       "        253,  70,   0,   0,   0,   0,   0,   0,   0,   0,   0,   0,   0,\n",
       "          0,   0],\n",
       "       [  0,   0,   0,   0,   0,   0,   0,   0,   0,   0,   0,   0,  35,\n",
       "        241, 225, 160, 108,   1,   0,   0,   0,   0,   0,   0,   0,   0,\n",
       "          0,   0],\n",
       "       [  0,   0,   0,   0,   0,   0,   0,   0,   0,   0,   0,   0,   0,\n",
       "         81, 240, 253, 253, 119,  25,   0,   0,   0,   0,   0,   0,   0,\n",
       "          0,   0],\n",
       "       [  0,   0,   0,   0,   0,   0,   0,   0,   0,   0,   0,   0,   0,\n",
       "          0,  45, 186, 253, 253, 150,  27,   0,   0,   0,   0,   0,   0,\n",
       "          0,   0],\n",
       "       [  0,   0,   0,   0,   0,   0,   0,   0,   0,   0,   0,   0,   0,\n",
       "          0,   0,  16,  93, 252, 253, 187,   0,   0,   0,   0,   0,   0,\n",
       "          0,   0],\n",
       "       [  0,   0,   0,   0,   0,   0,   0,   0,   0,   0,   0,   0,   0,\n",
       "          0,   0,   0,   0, 249, 253, 249,  64,   0,   0,   0,   0,   0,\n",
       "          0,   0],\n",
       "       [  0,   0,   0,   0,   0,   0,   0,   0,   0,   0,   0,   0,   0,\n",
       "          0,  46, 130, 183, 253, 253, 207,   2,   0,   0,   0,   0,   0,\n",
       "          0,   0],\n",
       "       [  0,   0,   0,   0,   0,   0,   0,   0,   0,   0,   0,   0,  39,\n",
       "        148, 229, 253, 253, 253, 250, 182,   0,   0,   0,   0,   0,   0,\n",
       "          0,   0],\n",
       "       [  0,   0,   0,   0,   0,   0,   0,   0,   0,   0,  24, 114, 221,\n",
       "        253, 253, 253, 253, 201,  78,   0,   0,   0,   0,   0,   0,   0,\n",
       "          0,   0],\n",
       "       [  0,   0,   0,   0,   0,   0,   0,   0,  23,  66, 213, 253, 253,\n",
       "        253, 253, 198,  81,   2,   0,   0,   0,   0,   0,   0,   0,   0,\n",
       "          0,   0],\n",
       "       [  0,   0,   0,   0,   0,   0,  18, 171, 219, 253, 253, 253, 253,\n",
       "        195,  80,   9,   0,   0,   0,   0,   0,   0,   0,   0,   0,   0,\n",
       "          0,   0],\n",
       "       [  0,   0,   0,   0,  55, 172, 226, 253, 253, 253, 253, 244, 133,\n",
       "         11,   0,   0,   0,   0,   0,   0,   0,   0,   0,   0,   0,   0,\n",
       "          0,   0],\n",
       "       [  0,   0,   0,   0, 136, 253, 253, 253, 212, 135, 132,  16,   0,\n",
       "          0,   0,   0,   0,   0,   0,   0,   0,   0,   0,   0,   0,   0,\n",
       "          0,   0],\n",
       "       [  0,   0,   0,   0,   0,   0,   0,   0,   0,   0,   0,   0,   0,\n",
       "          0,   0,   0,   0,   0,   0,   0,   0,   0,   0,   0,   0,   0,\n",
       "          0,   0],\n",
       "       [  0,   0,   0,   0,   0,   0,   0,   0,   0,   0,   0,   0,   0,\n",
       "          0,   0,   0,   0,   0,   0,   0,   0,   0,   0,   0,   0,   0,\n",
       "          0,   0],\n",
       "       [  0,   0,   0,   0,   0,   0,   0,   0,   0,   0,   0,   0,   0,\n",
       "          0,   0,   0,   0,   0,   0,   0,   0,   0,   0,   0,   0,   0,\n",
       "          0,   0]], dtype=uint8)"
      ]
     },
     "execution_count": 6,
     "metadata": {},
     "output_type": "execute_result"
    }
   ],
   "source": [
    "x_train[0] # a 28x28 array of numbers between 0 and 255"
   ]
  },
  {
   "cell_type": "code",
   "execution_count": 7,
   "metadata": {
    "id": "ks-eVfomKg9u"
   },
   "outputs": [],
   "source": [
    "# Normalize to 1: i.e., divide by 255\n",
    "x_train = x_train/255.0\n",
    "x_test = x_test/255.0"
   ]
  },
  {
   "cell_type": "code",
   "execution_count": 8,
   "metadata": {},
   "outputs": [
    {
     "data": {
      "text/plain": [
       "array([[0.        , 0.        , 0.        , 0.        , 0.        ,\n",
       "        0.        , 0.        , 0.        , 0.        , 0.        ,\n",
       "        0.        , 0.        , 0.        , 0.        , 0.        ,\n",
       "        0.        , 0.        , 0.        , 0.        , 0.        ,\n",
       "        0.        , 0.        , 0.        , 0.        , 0.        ,\n",
       "        0.        , 0.        , 0.        ],\n",
       "       [0.        , 0.        , 0.        , 0.        , 0.        ,\n",
       "        0.        , 0.        , 0.        , 0.        , 0.        ,\n",
       "        0.        , 0.        , 0.        , 0.        , 0.        ,\n",
       "        0.        , 0.        , 0.        , 0.        , 0.        ,\n",
       "        0.        , 0.        , 0.        , 0.        , 0.        ,\n",
       "        0.        , 0.        , 0.        ],\n",
       "       [0.        , 0.        , 0.        , 0.        , 0.        ,\n",
       "        0.        , 0.        , 0.        , 0.        , 0.        ,\n",
       "        0.        , 0.        , 0.        , 0.        , 0.        ,\n",
       "        0.        , 0.        , 0.        , 0.        , 0.        ,\n",
       "        0.        , 0.        , 0.        , 0.        , 0.        ,\n",
       "        0.        , 0.        , 0.        ],\n",
       "       [0.        , 0.        , 0.        , 0.        , 0.        ,\n",
       "        0.        , 0.        , 0.        , 0.        , 0.        ,\n",
       "        0.        , 0.        , 0.        , 0.        , 0.        ,\n",
       "        0.        , 0.        , 0.        , 0.        , 0.        ,\n",
       "        0.        , 0.        , 0.        , 0.        , 0.        ,\n",
       "        0.        , 0.        , 0.        ],\n",
       "       [0.        , 0.        , 0.        , 0.        , 0.        ,\n",
       "        0.        , 0.        , 0.        , 0.        , 0.        ,\n",
       "        0.        , 0.        , 0.        , 0.        , 0.        ,\n",
       "        0.        , 0.        , 0.        , 0.        , 0.        ,\n",
       "        0.        , 0.        , 0.        , 0.        , 0.        ,\n",
       "        0.        , 0.        , 0.        ],\n",
       "       [0.        , 0.        , 0.        , 0.        , 0.        ,\n",
       "        0.        , 0.        , 0.        , 0.        , 0.        ,\n",
       "        0.        , 0.        , 0.01176471, 0.07058824, 0.07058824,\n",
       "        0.07058824, 0.49411765, 0.53333333, 0.68627451, 0.10196078,\n",
       "        0.65098039, 1.        , 0.96862745, 0.49803922, 0.        ,\n",
       "        0.        , 0.        , 0.        ],\n",
       "       [0.        , 0.        , 0.        , 0.        , 0.        ,\n",
       "        0.        , 0.        , 0.        , 0.11764706, 0.14117647,\n",
       "        0.36862745, 0.60392157, 0.66666667, 0.99215686, 0.99215686,\n",
       "        0.99215686, 0.99215686, 0.99215686, 0.88235294, 0.6745098 ,\n",
       "        0.99215686, 0.94901961, 0.76470588, 0.25098039, 0.        ,\n",
       "        0.        , 0.        , 0.        ],\n",
       "       [0.        , 0.        , 0.        , 0.        , 0.        ,\n",
       "        0.        , 0.        , 0.19215686, 0.93333333, 0.99215686,\n",
       "        0.99215686, 0.99215686, 0.99215686, 0.99215686, 0.99215686,\n",
       "        0.99215686, 0.99215686, 0.98431373, 0.36470588, 0.32156863,\n",
       "        0.32156863, 0.21960784, 0.15294118, 0.        , 0.        ,\n",
       "        0.        , 0.        , 0.        ],\n",
       "       [0.        , 0.        , 0.        , 0.        , 0.        ,\n",
       "        0.        , 0.        , 0.07058824, 0.85882353, 0.99215686,\n",
       "        0.99215686, 0.99215686, 0.99215686, 0.99215686, 0.77647059,\n",
       "        0.71372549, 0.96862745, 0.94509804, 0.        , 0.        ,\n",
       "        0.        , 0.        , 0.        , 0.        , 0.        ,\n",
       "        0.        , 0.        , 0.        ],\n",
       "       [0.        , 0.        , 0.        , 0.        , 0.        ,\n",
       "        0.        , 0.        , 0.        , 0.31372549, 0.61176471,\n",
       "        0.41960784, 0.99215686, 0.99215686, 0.80392157, 0.04313725,\n",
       "        0.        , 0.16862745, 0.60392157, 0.        , 0.        ,\n",
       "        0.        , 0.        , 0.        , 0.        , 0.        ,\n",
       "        0.        , 0.        , 0.        ],\n",
       "       [0.        , 0.        , 0.        , 0.        , 0.        ,\n",
       "        0.        , 0.        , 0.        , 0.        , 0.05490196,\n",
       "        0.00392157, 0.60392157, 0.99215686, 0.35294118, 0.        ,\n",
       "        0.        , 0.        , 0.        , 0.        , 0.        ,\n",
       "        0.        , 0.        , 0.        , 0.        , 0.        ,\n",
       "        0.        , 0.        , 0.        ],\n",
       "       [0.        , 0.        , 0.        , 0.        , 0.        ,\n",
       "        0.        , 0.        , 0.        , 0.        , 0.        ,\n",
       "        0.        , 0.54509804, 0.99215686, 0.74509804, 0.00784314,\n",
       "        0.        , 0.        , 0.        , 0.        , 0.        ,\n",
       "        0.        , 0.        , 0.        , 0.        , 0.        ,\n",
       "        0.        , 0.        , 0.        ],\n",
       "       [0.        , 0.        , 0.        , 0.        , 0.        ,\n",
       "        0.        , 0.        , 0.        , 0.        , 0.        ,\n",
       "        0.        , 0.04313725, 0.74509804, 0.99215686, 0.2745098 ,\n",
       "        0.        , 0.        , 0.        , 0.        , 0.        ,\n",
       "        0.        , 0.        , 0.        , 0.        , 0.        ,\n",
       "        0.        , 0.        , 0.        ],\n",
       "       [0.        , 0.        , 0.        , 0.        , 0.        ,\n",
       "        0.        , 0.        , 0.        , 0.        , 0.        ,\n",
       "        0.        , 0.        , 0.1372549 , 0.94509804, 0.88235294,\n",
       "        0.62745098, 0.42352941, 0.00392157, 0.        , 0.        ,\n",
       "        0.        , 0.        , 0.        , 0.        , 0.        ,\n",
       "        0.        , 0.        , 0.        ],\n",
       "       [0.        , 0.        , 0.        , 0.        , 0.        ,\n",
       "        0.        , 0.        , 0.        , 0.        , 0.        ,\n",
       "        0.        , 0.        , 0.        , 0.31764706, 0.94117647,\n",
       "        0.99215686, 0.99215686, 0.46666667, 0.09803922, 0.        ,\n",
       "        0.        , 0.        , 0.        , 0.        , 0.        ,\n",
       "        0.        , 0.        , 0.        ],\n",
       "       [0.        , 0.        , 0.        , 0.        , 0.        ,\n",
       "        0.        , 0.        , 0.        , 0.        , 0.        ,\n",
       "        0.        , 0.        , 0.        , 0.        , 0.17647059,\n",
       "        0.72941176, 0.99215686, 0.99215686, 0.58823529, 0.10588235,\n",
       "        0.        , 0.        , 0.        , 0.        , 0.        ,\n",
       "        0.        , 0.        , 0.        ],\n",
       "       [0.        , 0.        , 0.        , 0.        , 0.        ,\n",
       "        0.        , 0.        , 0.        , 0.        , 0.        ,\n",
       "        0.        , 0.        , 0.        , 0.        , 0.        ,\n",
       "        0.0627451 , 0.36470588, 0.98823529, 0.99215686, 0.73333333,\n",
       "        0.        , 0.        , 0.        , 0.        , 0.        ,\n",
       "        0.        , 0.        , 0.        ],\n",
       "       [0.        , 0.        , 0.        , 0.        , 0.        ,\n",
       "        0.        , 0.        , 0.        , 0.        , 0.        ,\n",
       "        0.        , 0.        , 0.        , 0.        , 0.        ,\n",
       "        0.        , 0.        , 0.97647059, 0.99215686, 0.97647059,\n",
       "        0.25098039, 0.        , 0.        , 0.        , 0.        ,\n",
       "        0.        , 0.        , 0.        ],\n",
       "       [0.        , 0.        , 0.        , 0.        , 0.        ,\n",
       "        0.        , 0.        , 0.        , 0.        , 0.        ,\n",
       "        0.        , 0.        , 0.        , 0.        , 0.18039216,\n",
       "        0.50980392, 0.71764706, 0.99215686, 0.99215686, 0.81176471,\n",
       "        0.00784314, 0.        , 0.        , 0.        , 0.        ,\n",
       "        0.        , 0.        , 0.        ],\n",
       "       [0.        , 0.        , 0.        , 0.        , 0.        ,\n",
       "        0.        , 0.        , 0.        , 0.        , 0.        ,\n",
       "        0.        , 0.        , 0.15294118, 0.58039216, 0.89803922,\n",
       "        0.99215686, 0.99215686, 0.99215686, 0.98039216, 0.71372549,\n",
       "        0.        , 0.        , 0.        , 0.        , 0.        ,\n",
       "        0.        , 0.        , 0.        ],\n",
       "       [0.        , 0.        , 0.        , 0.        , 0.        ,\n",
       "        0.        , 0.        , 0.        , 0.        , 0.        ,\n",
       "        0.09411765, 0.44705882, 0.86666667, 0.99215686, 0.99215686,\n",
       "        0.99215686, 0.99215686, 0.78823529, 0.30588235, 0.        ,\n",
       "        0.        , 0.        , 0.        , 0.        , 0.        ,\n",
       "        0.        , 0.        , 0.        ],\n",
       "       [0.        , 0.        , 0.        , 0.        , 0.        ,\n",
       "        0.        , 0.        , 0.        , 0.09019608, 0.25882353,\n",
       "        0.83529412, 0.99215686, 0.99215686, 0.99215686, 0.99215686,\n",
       "        0.77647059, 0.31764706, 0.00784314, 0.        , 0.        ,\n",
       "        0.        , 0.        , 0.        , 0.        , 0.        ,\n",
       "        0.        , 0.        , 0.        ],\n",
       "       [0.        , 0.        , 0.        , 0.        , 0.        ,\n",
       "        0.        , 0.07058824, 0.67058824, 0.85882353, 0.99215686,\n",
       "        0.99215686, 0.99215686, 0.99215686, 0.76470588, 0.31372549,\n",
       "        0.03529412, 0.        , 0.        , 0.        , 0.        ,\n",
       "        0.        , 0.        , 0.        , 0.        , 0.        ,\n",
       "        0.        , 0.        , 0.        ],\n",
       "       [0.        , 0.        , 0.        , 0.        , 0.21568627,\n",
       "        0.6745098 , 0.88627451, 0.99215686, 0.99215686, 0.99215686,\n",
       "        0.99215686, 0.95686275, 0.52156863, 0.04313725, 0.        ,\n",
       "        0.        , 0.        , 0.        , 0.        , 0.        ,\n",
       "        0.        , 0.        , 0.        , 0.        , 0.        ,\n",
       "        0.        , 0.        , 0.        ],\n",
       "       [0.        , 0.        , 0.        , 0.        , 0.53333333,\n",
       "        0.99215686, 0.99215686, 0.99215686, 0.83137255, 0.52941176,\n",
       "        0.51764706, 0.0627451 , 0.        , 0.        , 0.        ,\n",
       "        0.        , 0.        , 0.        , 0.        , 0.        ,\n",
       "        0.        , 0.        , 0.        , 0.        , 0.        ,\n",
       "        0.        , 0.        , 0.        ],\n",
       "       [0.        , 0.        , 0.        , 0.        , 0.        ,\n",
       "        0.        , 0.        , 0.        , 0.        , 0.        ,\n",
       "        0.        , 0.        , 0.        , 0.        , 0.        ,\n",
       "        0.        , 0.        , 0.        , 0.        , 0.        ,\n",
       "        0.        , 0.        , 0.        , 0.        , 0.        ,\n",
       "        0.        , 0.        , 0.        ],\n",
       "       [0.        , 0.        , 0.        , 0.        , 0.        ,\n",
       "        0.        , 0.        , 0.        , 0.        , 0.        ,\n",
       "        0.        , 0.        , 0.        , 0.        , 0.        ,\n",
       "        0.        , 0.        , 0.        , 0.        , 0.        ,\n",
       "        0.        , 0.        , 0.        , 0.        , 0.        ,\n",
       "        0.        , 0.        , 0.        ],\n",
       "       [0.        , 0.        , 0.        , 0.        , 0.        ,\n",
       "        0.        , 0.        , 0.        , 0.        , 0.        ,\n",
       "        0.        , 0.        , 0.        , 0.        , 0.        ,\n",
       "        0.        , 0.        , 0.        , 0.        , 0.        ,\n",
       "        0.        , 0.        , 0.        , 0.        , 0.        ,\n",
       "        0.        , 0.        , 0.        ]])"
      ]
     },
     "execution_count": 8,
     "metadata": {},
     "output_type": "execute_result"
    }
   ],
   "source": [
    "x_train[0] # a 28x28 array of numbers vetween 0 and 1"
   ]
  },
  {
   "cell_type": "code",
   "execution_count": 9,
   "metadata": {
    "id": "YrZgeqrn-jQP"
   },
   "outputs": [
    {
     "data": {
      "image/png": "[encoded data removed]",
      "text/plain": [
       "<Figure size 216x216 with 1 Axes>"
      ]
     },
     "metadata": {
      "needs_background": "light"
     },
     "output_type": "display_data"
    },
    {
     "data": {
      "image/png": "[encoded data removed]",
      "text/plain": [
       "<Figure size 216x216 with 1 Axes>"
      ]
     },
     "metadata": {
      "needs_background": "light"
     },
     "output_type": "display_data"
    },
    {
     "data": {
      "image/png": "[encoded data removed]",
      "text/plain": [
       "<Figure size 216x216 with 1 Axes>"
      ]
     },
     "metadata": {
      "needs_background": "light"
     },
     "output_type": "display_data"
    },
    {
     "data": {
      "image/png": "[encoded data removed]",
      "text/plain": [
       "<Figure size 216x216 with 1 Axes>"
      ]
     },
     "metadata": {
      "needs_background": "light"
     },
     "output_type": "display_data"
    },
    {
     "data": {
      "image/png": "[encoded data removed]",
      "text/plain": [
       "<Figure size 216x216 with 1 Axes>"
      ]
     },
     "metadata": {
      "needs_background": "light"
     },
     "output_type": "display_data"
    }
   ],
   "source": [
    "# Show some examples\n",
    "import matplotlib.pyplot as plt\n",
    "import numpy as np\n",
    "n_images = 5\n",
    "test_images = x_train[:n_images]\n",
    "\n",
    "for i in range(n_images):\n",
    "    plt.figure(figsize=(3,3))\n",
    "    plt.imshow(np.reshape(test_images[i], [28, 28]), cmap='gray')\n",
    "    plt.show()"
   ]
  },
  {
   "cell_type": "markdown",
   "metadata": {
    "id": "65QMopVDbRV_"
   },
   "source": [
    "__Observation:__\n",
    "- The dataset has been downloaded."
   ]
  },
  {
   "cell_type": "markdown",
   "metadata": {},
   "source": [
    "Remark: x_train is a three-dimensional array\n",
    "- 1st dimension = sample numer\n",
    "- 2nd dimension = the line of the pixel in the image\n",
    "- 3rd dimension = column of the pixel in the image"
   ]
  },
  {
   "cell_type": "markdown",
   "metadata": {},
   "source": [
    "Example: x[5] is image number 5"
   ]
  },
  {
   "cell_type": "code",
   "execution_count": 10,
   "metadata": {},
   "outputs": [
    {
     "data": {
      "text/plain": [
       "(60000, 28, 28)"
      ]
     },
     "execution_count": 10,
     "metadata": {},
     "output_type": "execute_result"
    }
   ],
   "source": [
    "x_train.shape"
   ]
  },
  {
   "cell_type": "code",
   "execution_count": 11,
   "metadata": {},
   "outputs": [
    {
     "data": {
      "image/png": "[encoded data removed]",
      "text/plain": [
       "<Figure size 216x216 with 1 Axes>"
      ]
     },
     "metadata": {
      "needs_background": "light"
     },
     "output_type": "display_data"
    },
    {
     "name": "stdout",
     "output_type": "stream",
     "text": [
      "True output (target) is 5 \n",
      " \n",
      "\n"
     ]
    },
    {
     "data": {
      "image/png": "[encoded data removed]",
      "text/plain": [
       "<Figure size 216x216 with 1 Axes>"
      ]
     },
     "metadata": {
      "needs_background": "light"
     },
     "output_type": "display_data"
    },
    {
     "name": "stdout",
     "output_type": "stream",
     "text": [
      "True output (target) is 0 \n",
      " \n",
      "\n"
     ]
    },
    {
     "data": {
      "image/png": "[encoded data removed]",
      "text/plain": [
       "<Figure size 216x216 with 1 Axes>"
      ]
     },
     "metadata": {
      "needs_background": "light"
     },
     "output_type": "display_data"
    },
    {
     "name": "stdout",
     "output_type": "stream",
     "text": [
      "True output (target) is 4 \n",
      " \n",
      "\n"
     ]
    },
    {
     "data": {
      "image/png": "[encoded data removed]",
      "text/plain": [
       "<Figure size 216x216 with 1 Axes>"
      ]
     },
     "metadata": {
      "needs_background": "light"
     },
     "output_type": "display_data"
    },
    {
     "name": "stdout",
     "output_type": "stream",
     "text": [
      "True output (target) is 1 \n",
      " \n",
      "\n"
     ]
    },
    {
     "data": {
      "image/png": "[encoded data removed]",
      "text/plain": [
       "<Figure size 216x216 with 1 Axes>"
      ]
     },
     "metadata": {
      "needs_background": "light"
     },
     "output_type": "display_data"
    },
    {
     "name": "stdout",
     "output_type": "stream",
     "text": [
      "True output (target) is 9 \n",
      " \n",
      "\n"
     ]
    },
    {
     "data": {
      "image/png": "[encoded data removed]",
      "text/plain": [
       "<Figure size 216x216 with 1 Axes>"
      ]
     },
     "metadata": {
      "needs_background": "light"
     },
     "output_type": "display_data"
    },
    {
     "name": "stdout",
     "output_type": "stream",
     "text": [
      "True output (target) is 2 \n",
      " \n",
      "\n"
     ]
    },
    {
     "data": {
      "image/png": "[encoded data removed]",
      "text/plain": [
       "<Figure size 216x216 with 1 Axes>"
      ]
     },
     "metadata": {
      "needs_background": "light"
     },
     "output_type": "display_data"
    },
    {
     "name": "stdout",
     "output_type": "stream",
     "text": [
      "True output (target) is 1 \n",
      " \n",
      "\n"
     ]
    },
    {
     "data": {
      "image/png": "[encoded data removed]",
      "text/plain": [
       "<Figure size 216x216 with 1 Axes>"
      ]
     },
     "metadata": {
      "needs_background": "light"
     },
     "output_type": "display_data"
    },
    {
     "name": "stdout",
     "output_type": "stream",
     "text": [
      "True output (target) is 3 \n",
      " \n",
      "\n"
     ]
    },
    {
     "data": {
      "image/png": "[encoded data removed]",
      "text/plain": [
       "<Figure size 216x216 with 1 Axes>"
      ]
     },
     "metadata": {
      "needs_background": "light"
     },
     "output_type": "display_data"
    },
    {
     "name": "stdout",
     "output_type": "stream",
     "text": [
      "True output (target) is 1 \n",
      " \n",
      "\n"
     ]
    },
    {
     "data": {
      "image/png": "[encoded data removed]",
      "text/plain": [
       "<Figure size 216x216 with 1 Axes>"
      ]
     },
     "metadata": {
      "needs_background": "light"
     },
     "output_type": "display_data"
    },
    {
     "name": "stdout",
     "output_type": "stream",
     "text": [
      "True output (target) is 4 \n",
      " \n",
      "\n"
     ]
    }
   ],
   "source": [
    "# Show some examples\n",
    "import matplotlib.pyplot as plt\n",
    "import numpy as np\n",
    "n_images = 10\n",
    "test_images = x_train[:n_images]\n",
    "\n",
    "for i in range(n_images):\n",
    "    plt.figure(figsize=(3,3))\n",
    "    plt.imshow(np.reshape(test_images[i], [28, 28]), cmap='gray')\n",
    "    plt.show()\n",
    "    print(\"True output (target) is\", y_train[i],\"\\n\",\"\\n\")"
   ]
  },
  {
   "cell_type": "markdown",
   "metadata": {},
   "source": [
    "__Renark: The input X is the image, the target Y is the value of the digit displayed on the image.__ "
   ]
  },
  {
   "cell_type": "markdown",
   "metadata": {
    "id": "jNMOqMYQJLig"
   },
   "source": [
    "## Step 3: Create the Model\n",
    "\n",
    "- Create a Sequential model with Flatten, Dense, and Dropout layers\n",
    "- 1st layer: flatten\n",
    "- 2nd layer: Dense, 128 nodes=128 outputs=128 neurons, activation = sigmoid\n",
    "- 3rd layer: Dense, 64 nodes, activation = relu\n",
    "- 4th layer: Dense, no activation; select the appropriate number of nodes"
   ]
  },
  {
   "cell_type": "code",
   "execution_count": 18,
   "metadata": {
    "id": "mtWDjnQ-HMKY"
   },
   "outputs": [],
   "source": [
    "my_model = tf.keras.models.Sequential([\n",
    "    tf.keras.layers.Flatten(input_shape=(28,28)), # 1st layer\n",
    "    tf.keras.layers.Dense(units=128, activation='sigmoid'), # 2nd layer\n",
    "    tf.keras.layers.Dense(units=64, activation='relu'), # 3rd layer\n",
    "    tf.keras.layers.Dense(units=10, activation=None) # 4th layer\n",
    "])"
   ]
  },
  {
   "cell_type": "code",
   "execution_count": 19,
   "metadata": {},
   "outputs": [
    {
     "name": "stdout",
     "output_type": "stream",
     "text": [
      "Model: \"sequential_3\"\n",
      "_________________________________________________________________\n",
      " Layer (type)                Output Shape              Param #   \n",
      "=================================================================\n",
      " flatten_3 (Flatten)         (None, 784)               0         \n",
      "                                                                 \n",
      " dense_9 (Dense)             (None, 128)               100480    \n",
      "                                                                 \n",
      " dense_10 (Dense)            (None, 64)                8256      \n",
      "                                                                 \n",
      " dense_11 (Dense)            (None, 10)                650       \n",
      "                                                                 \n",
      "=================================================================\n",
      "Total params: 109386 (427.29 KB)\n",
      "Trainable params: 109386 (427.29 KB)\n",
      "Non-trainable params: 0 (0.00 Byte)\n",
      "_________________________________________________________________\n"
     ]
    }
   ],
   "source": [
    "my_model.summary()"
   ]
  },
  {
   "cell_type": "markdown",
   "metadata": {
    "id": "-OeXA6kqJOS9"
   },
   "source": [
    "## Step 4: Get Predictions from the Model\n",
    "\n",
    "- Get the predictions from the model using the train data for one column, as the optimizer is not yet applied\n"
   ]
  },
  {
   "cell_type": "markdown",
   "metadata": {},
   "source": [
    "__Renarks: the parameters (weighst and biases) are already initialized. So, you can already make (bad) predictions.__"
   ]
  },
  {
   "cell_type": "code",
   "execution_count": 20,
   "metadata": {
    "id": "EEXrOQBIHMKY"
   },
   "outputs": [
    {
     "data": {
      "text/plain": [
       "<tf.Tensor: shape=(1, 10), dtype=float32, numpy=\n",
       "array([[-0.29744366, -0.39066324, -0.6951338 ,  0.32837647, -0.17481467,\n",
       "        -0.40488973, -0.44069555,  1.3780974 ,  0.19137996,  0.48205522]],\n",
       "      dtype=float32)>"
      ]
     },
     "execution_count": 20,
     "metadata": {},
     "output_type": "execute_result"
    }
   ],
   "source": [
    "# preliminary predictions (the model has not beed trained yet)\n",
    "my_prediction = my_model(x_train[0:1])\n",
    "my_prediction"
   ]
  },
  {
   "cell_type": "markdown",
   "metadata": {},
   "source": [
    "__Remark: we obtain 10 outputs, as expected.__"
   ]
  },
  {
   "cell_type": "markdown",
   "metadata": {
    "id": "253Rri_7bYGW"
   },
   "source": [
    "__Observation:__\n",
    "- An array of predicted values is displayed."
   ]
  },
  {
   "cell_type": "markdown",
   "metadata": {
    "id": "CRWveFSDJQ1g"
   },
   "source": [
    "## Step 5: Apply Softmax Activation to the Predictions\n",
    "\n",
    "- Apply softmax activation to the predictions and print the output in terms of probabilities\n"
   ]
  },
  {
   "cell_type": "code",
   "execution_count": 21,
   "metadata": {
    "id": "wBEJwtZTHMKZ"
   },
   "outputs": [
    {
     "data": {
      "text/plain": [
       "<tf.Tensor: shape=(1, 10), dtype=float32, numpy=\n",
       "array([[0.06060523, 0.05521097, 0.04071884, 0.11331835, 0.06851207,\n",
       "        0.05443107, 0.05251659, 0.323734  , 0.09881057, 0.13214236]],\n",
       "      dtype=float32)>"
      ]
     },
     "execution_count": 21,
     "metadata": {},
     "output_type": "execute_result"
    }
   ],
   "source": [
    "# Compute softmax of the predictions\n",
    "tf.nn.softmax(my_prediction)"
   ]
  },
  {
   "cell_type": "code",
   "execution_count": 22,
   "metadata": {
    "id": "IxILciVtGuG6"
   },
   "outputs": [
    {
     "data": {
      "text/plain": [
       "7"
      ]
     },
     "execution_count": 22,
     "metadata": {},
     "output_type": "execute_result"
    }
   ],
   "source": [
    "# Deduct category from softmax\n",
    "np.argmax(tf.nn.softmax(my_prediction))"
   ]
  },
  {
   "cell_type": "markdown",
   "metadata": {},
   "source": [
    "__The predicted digit, using the non-rtrained model, is 4.__"
   ]
  },
  {
   "cell_type": "markdown",
   "metadata": {
    "id": "FbeDR5bZbk_x"
   },
   "source": [
    "__Observation:__\n",
    "- The predicted values in terms of probabilities are displayed as an array."
   ]
  },
  {
   "cell_type": "markdown",
   "metadata": {
    "id": "PI12JfM-JToW"
   },
   "source": [
    "## Step 6: Define the Loss Function\n",
    "\n",
    "- Let's create a loss function for the model.\n",
    "- Next, let's define the SparseCategoricalCrossentropy loss function.\n"
   ]
  },
  {
   "cell_type": "code",
   "execution_count": 23,
   "metadata": {
    "id": "nZ6pLV9zHMKZ"
   },
   "outputs": [],
   "source": [
    "# Use \"from_logits=True\" when there is no activation in the last layer\n",
    "# Use CategoricalCrossentropy when the training outputs are categories that are one-hot encoded\n",
    "# Use SparseCategoricalCrossentropy when the training outputs are categories that are NOT one-hot encoded\n",
    "# Here, the categories are NOT one-hot encoded; they are label encoded as 0, 1, 2, 3, 4, 5, 6, 7, 8, 9.\n",
    "#\n",
    "loss_fn = tf.keras.losses.SparseCategoricalCrossentropy(from_logits=True)"
   ]
  },
  {
   "cell_type": "markdown",
   "metadata": {},
   "source": [
    "__Remark: \"from_logits=True\" indicates that we haven't included softmax in the model. Python will apply the softmax to the output itself.__"
   ]
  },
  {
   "cell_type": "code",
   "execution_count": 24,
   "metadata": {},
   "outputs": [
    {
     "data": {
      "text/plain": [
       "array([5], dtype=uint8)"
      ]
     },
     "execution_count": 24,
     "metadata": {},
     "output_type": "execute_result"
    }
   ],
   "source": [
    "y_train[:1]"
   ]
  },
  {
   "cell_type": "code",
   "execution_count": 25,
   "metadata": {},
   "outputs": [
    {
     "data": {
      "text/plain": [
       "<tf.Tensor: shape=(1, 10), dtype=float32, numpy=\n",
       "array([[-0.29744366, -0.39066324, -0.6951338 ,  0.32837647, -0.17481467,\n",
       "        -0.40488973, -0.44069555,  1.3780974 ,  0.19137996,  0.48205522]],\n",
       "      dtype=float32)>"
      ]
     },
     "execution_count": 25,
     "metadata": {},
     "output_type": "execute_result"
    }
   ],
   "source": [
    "my_prediction"
   ]
  },
  {
   "cell_type": "code",
   "execution_count": 26,
   "metadata": {
    "id": "AAnHjWvTHMKZ"
   },
   "outputs": [
    {
     "data": {
      "text/plain": [
       "2.9108205"
      ]
     },
     "execution_count": 26,
     "metadata": {},
     "output_type": "execute_result"
    }
   ],
   "source": [
    "# Test loss function on 1 example\n",
    "loss_fn(y_train[:1], my_prediction).numpy()"
   ]
  },
  {
   "cell_type": "markdown",
   "metadata": {},
   "source": [
    "__Remark: Python applied \"softmax\" to the output because we told it that \"from_logits=True\".__"
   ]
  },
  {
   "cell_type": "markdown",
   "metadata": {
    "id": "w5HvjqdUH0WN"
   },
   "source": [
    "__Observation:__\n",
    "- Here,the value is 2.061."
   ]
  },
  {
   "cell_type": "markdown",
   "metadata": {
    "id": "XVXzZg9iJZaG"
   },
   "source": [
    "## Step 7: Compile the Model\n",
    "\n",
    "- Now, compile the model with the Adam optimizer, the loss function, and the accuracy metric"
   ]
  },
  {
   "cell_type": "code",
   "execution_count": 27,
   "metadata": {
    "id": "YKnSLj5vHMKa"
   },
   "outputs": [],
   "source": [
    "my_model.compile(optimizer = 'adam', # Adam is an improved gradient descent\n",
    "                 loss = tf.keras.losses.SparseCategoricalCrossentropy(from_logits=True),\n",
    "                 metrics = ['Accuracy']) # OPTIONAL; NOT USED FOR TRAINING; use this in case you want to see this etric later"
   ]
  },
  {
   "cell_type": "markdown",
   "metadata": {
    "id": "DOAJQIeaGNWC"
   },
   "source": [
    "__Display model summary__"
   ]
  },
  {
   "cell_type": "code",
   "execution_count": 28,
   "metadata": {
    "id": "NojAH9X1GGYU"
   },
   "outputs": [
    {
     "name": "stdout",
     "output_type": "stream",
     "text": [
      "Model: \"sequential_3\"\n",
      "_________________________________________________________________\n",
      " Layer (type)                Output Shape              Param #   \n",
      "=================================================================\n",
      " flatten_3 (Flatten)         (None, 784)               0         \n",
      "                                                                 \n",
      " dense_9 (Dense)             (None, 128)               100480    \n",
      "                                                                 \n",
      " dense_10 (Dense)            (None, 64)                8256      \n",
      "                                                                 \n",
      " dense_11 (Dense)            (None, 10)                650       \n",
      "                                                                 \n",
      "=================================================================\n",
      "Total params: 109386 (427.29 KB)\n",
      "Trainable params: 109386 (427.29 KB)\n",
      "Non-trainable params: 0 (0.00 Byte)\n",
      "_________________________________________________________________\n"
     ]
    }
   ],
   "source": [
    "my_model.summary()"
   ]
  },
  {
   "cell_type": "markdown",
   "metadata": {
    "id": "p_F7rCgcIEMG"
   },
   "source": [
    "__Observation:__\n",
    "- Here, we have used an optimizer as Adam, loss as a loss function, and metrics as accuracy."
   ]
  },
  {
   "cell_type": "markdown",
   "metadata": {
    "id": "-AnMOFCkJcgv"
   },
   "source": [
    "## Step 8: Train the Model\n",
    "\n",
    "- Fit the model using the training data for 5 epochs\n"
   ]
  },
  {
   "cell_type": "code",
   "execution_count": 29,
   "metadata": {
    "id": "5hjrBy1aHMKa"
   },
   "outputs": [
    {
     "name": "stdout",
     "output_type": "stream",
     "text": [
      "Epoch 1/12\n",
      "1875/1875 [==============================] - 3s 1ms/step - loss: 0.3630 - Accuracy: 0.8972\n",
      "Epoch 2/12\n",
      "1875/1875 [==============================] - 3s 1ms/step - loss: 0.1627 - Accuracy: 0.9517\n",
      "Epoch 3/12\n",
      "1875/1875 [==============================] - 3s 1ms/step - loss: 0.1119 - Accuracy: 0.9661\n",
      "Epoch 4/12\n",
      "1875/1875 [==============================] - 3s 1ms/step - loss: 0.0843 - Accuracy: 0.9743\n",
      "Epoch 5/12\n",
      "1875/1875 [==============================] - 3s 1ms/step - loss: 0.0657 - Accuracy: 0.9793\n",
      "Epoch 6/12\n",
      "1875/1875 [==============================] - 3s 1ms/step - loss: 0.0529 - Accuracy: 0.9837\n",
      "Epoch 7/12\n",
      "1875/1875 [==============================] - 3s 1ms/step - loss: 0.0421 - Accuracy: 0.9867\n",
      "Epoch 8/12\n",
      "1875/1875 [==============================] - 3s 1ms/step - loss: 0.0344 - Accuracy: 0.9895\n",
      "Epoch 9/12\n",
      "1875/1875 [==============================] - 3s 1ms/step - loss: 0.0282 - Accuracy: 0.9910\n",
      "Epoch 10/12\n",
      "1875/1875 [==============================] - 3s 1ms/step - loss: 0.0222 - Accuracy: 0.9929\n",
      "Epoch 11/12\n",
      "1875/1875 [==============================] - 3s 1ms/step - loss: 0.0192 - Accuracy: 0.9938\n",
      "Epoch 12/12\n",
      "1875/1875 [==============================] - 3s 1ms/step - loss: 0.0154 - Accuracy: 0.9951\n"
     ]
    },
    {
     "data": {
      "text/plain": [
       "<keras.src.callbacks.History at 0x7fd4513da3e0>"
      ]
     },
     "execution_count": 29,
     "metadata": {},
     "output_type": "execute_result"
    }
   ],
   "source": [
    "# epochs = number of iterations of the optimizer (e.g. gradient descent)\n",
    "# 1 epoch = 1 iteration\n",
    "my_model.fit(x_train,y_train,epochs=12)"
   ]
  },
  {
   "cell_type": "markdown",
   "metadata": {
    "id": "GHvNMdBKbv1X"
   },
   "source": [
    "__Observations:__\n",
    "- The model fits the data.\n",
    "- Here, we can see that the accuracy is increased by different epochs."
   ]
  },
  {
   "cell_type": "markdown",
   "metadata": {
    "id": "m0WyyUkmJfL2"
   },
   "source": [
    "## Step 9: Evaluate the Model\n",
    "\n",
    "- Evaluate the model using the testing data and print the results\n"
   ]
  },
  {
   "cell_type": "code",
   "execution_count": 33,
   "metadata": {
    "id": "VzaL0IbfHMKa"
   },
   "outputs": [
    {
     "name": "stdout",
     "output_type": "stream",
     "text": [
      "313/313 [==============================] - 0s 774us/step - loss: 0.0916 - Accuracy: 0.9763\n"
     ]
    },
    {
     "data": {
      "text/plain": [
       "[0.09157928824424744, 0.9763000011444092]"
      ]
     },
     "execution_count": 33,
     "metadata": {},
     "output_type": "execute_result"
    }
   ],
   "source": [
    "my_model.evaluate(x_test,y_test)"
   ]
  },
  {
   "cell_type": "markdown",
   "metadata": {
    "id": "VP4xBW0Bb1Np"
   },
   "source": [
    "__Observation:__\n",
    "\n",
    "- The accuracy score is 0.98, and the loss is 0.08."
   ]
  },
  {
   "cell_type": "code",
   "execution_count": 34,
   "metadata": {},
   "outputs": [],
   "source": [
    "# Compute the predictions for the test set:\n",
    "my_predictions = my_model(x_test)"
   ]
  },
  {
   "cell_type": "code",
   "execution_count": 35,
   "metadata": {},
   "outputs": [
    {
     "data": {
      "text/plain": [
       "<tf.Tensor: shape=(2, 10), dtype=float32, numpy=\n",
       "array([[ -5.619529  ,  -7.65647   ,  -5.100232  ,  -0.7210393 ,\n",
       "        -11.016618  ,  -9.309326  , -23.490078  ,  13.277104  ,\n",
       "         -6.827299  ,   0.34411365],\n",
       "       [ -3.421251  ,   2.7694368 ,  15.622332  ,  -3.7160273 ,\n",
       "        -14.878776  ,  -4.778291  ,  -6.2960987 ,  -5.22747   ,\n",
       "         -5.3715067 , -14.492491  ]], dtype=float32)>"
      ]
     },
     "execution_count": 35,
     "metadata": {},
     "output_type": "execute_result"
    }
   ],
   "source": [
    "my_predictions[:2]"
   ]
  },
  {
   "cell_type": "markdown",
   "metadata": {
    "id": "U4u4wC6hJiU-"
   },
   "source": [
    "## Step 10: Create a Probability Model\n",
    "\n",
    "- Create a probability model by adding the Softmax layer to the existing model"
   ]
  },
  {
   "cell_type": "markdown",
   "metadata": {},
   "source": [
    "__We do the following because \"softmax\" is not included in the model.__"
   ]
  },
  {
   "cell_type": "code",
   "execution_count": 36,
   "metadata": {
    "id": "DYpCfUUhHMKb"
   },
   "outputs": [],
   "source": [
    "probability_model = tf.keras.Sequential([\n",
    "    my_model,\n",
    "    tf.keras.layers.Softmax()\n",
    "])"
   ]
  },
  {
   "cell_type": "markdown",
   "metadata": {},
   "source": [
    "__Remark: there is no training to be done for the \"probability_model\" because Softmax has no weights and \"my_model\" has already been trained.__"
   ]
  },
  {
   "cell_type": "markdown",
   "metadata": {
    "id": "F3B91f33Aop5"
   },
   "source": [
    "- Get the predictions using the test data"
   ]
  },
  {
   "cell_type": "markdown",
   "metadata": {},
   "source": [
    "__Make predictions for all X_test__"
   ]
  },
  {
   "cell_type": "code",
   "execution_count": 37,
   "metadata": {
    "id": "LsDR4IHiHMKb"
   },
   "outputs": [],
   "source": [
    "my_predictions = probability_model(x_test)"
   ]
  },
  {
   "cell_type": "code",
   "execution_count": 38,
   "metadata": {},
   "outputs": [
    {
     "data": {
      "text/plain": [
       "<tf.Tensor: shape=(2, 10), dtype=float32, numpy=\n",
       "array([[6.2129102e-09, 8.1033130e-10, 1.0442940e-08, 8.3307066e-07,\n",
       "        2.8142920e-11, 1.5518042e-10, 1.0769974e-16, 9.9999678e-01,\n",
       "        1.8568067e-09, 2.4169740e-06],\n",
       "       [5.3638414e-09, 2.6185305e-06, 9.9999738e-01, 3.9944399e-09,\n",
       "        5.6693955e-14, 1.3807682e-09, 3.0265340e-10, 8.8113999e-10,\n",
       "        7.6293988e-10, 8.3425298e-14]], dtype=float32)>"
      ]
     },
     "execution_count": 38,
     "metadata": {},
     "output_type": "execute_result"
    }
   ],
   "source": [
    "my_predictions[:2]"
   ]
  },
  {
   "cell_type": "markdown",
   "metadata": {
    "id": "3nKN25BRb785"
   },
   "source": [
    "__Observation:__\n",
    "- Here, we have the probabilities for the first three observations and different classes."
   ]
  },
  {
   "cell_type": "code",
   "execution_count": 47,
   "metadata": {
    "id": "5Zj2YL2kA6R4"
   },
   "outputs": [
    {
     "data": {
      "image/png": "[encoded data removed]",
      "text/plain": [
       "<Figure size 216x216 with 1 Axes>"
      ]
     },
     "metadata": {
      "needs_background": "light"
     },
     "output_type": "display_data"
    },
    {
     "name": "stdout",
     "output_type": "stream",
     "text": [
      "Model prediction: 7 \n",
      " \n",
      "\n"
     ]
    },
    {
     "data": {
      "image/png": "[encoded data removed]",
      "text/plain": [
       "<Figure size 216x216 with 1 Axes>"
      ]
     },
     "metadata": {
      "needs_background": "light"
     },
     "output_type": "display_data"
    },
    {
     "name": "stdout",
     "output_type": "stream",
     "text": [
      "Model prediction: 2 \n",
      " \n",
      "\n"
     ]
    },
    {
     "data": {
      "image/png": "[encoded data removed]",
      "text/plain": [
       "<Figure size 216x216 with 1 Axes>"
      ]
     },
     "metadata": {
      "needs_background": "light"
     },
     "output_type": "display_data"
    },
    {
     "name": "stdout",
     "output_type": "stream",
     "text": [
      "Model prediction: 1 \n",
      " \n",
      "\n"
     ]
    },
    {
     "data": {
      "image/png": "[encoded data removed]",
      "text/plain": [
       "<Figure size 216x216 with 1 Axes>"
      ]
     },
     "metadata": {
      "needs_background": "light"
     },
     "output_type": "display_data"
    },
    {
     "name": "stdout",
     "output_type": "stream",
     "text": [
      "Model prediction: 0 \n",
      " \n",
      "\n"
     ]
    },
    {
     "data": {
      "image/png": "[encoded data removed]",
      "text/plain": [
       "<Figure size 216x216 with 1 Axes>"
      ]
     },
     "metadata": {
      "needs_background": "light"
     },
     "output_type": "display_data"
    },
    {
     "name": "stdout",
     "output_type": "stream",
     "text": [
      "Model prediction: 4 \n",
      " \n",
      "\n"
     ]
    }
   ],
   "source": [
    "# Show some examples of predictions for the test set\n",
    "import matplotlib.pyplot as plt\n",
    "import numpy as np\n",
    "n_images = 5\n",
    "test_images = x_test[:n_images]\n",
    "predictions = probability_model(test_images)\n",
    "\n",
    "for i in range(n_images):\n",
    "    plt.figure(figsize=(3,3))\n",
    "    plt.imshow(np.reshape(test_images[i], [28, 28]), cmap='gray')\n",
    "    plt.show()\n",
    "    print(\"Model prediction: %i\" % np.argmax(predictions.numpy()[i]),\"\\n\",\"\\n\")"
   ]
  },
  {
   "cell_type": "markdown",
   "metadata": {
    "id": "yiMTuPS_GZK5"
   },
   "source": [
    "## Other way of coding the last layer of the model\n",
    "\n",
    "- Create a Sequential model with Flatten, Dense, and Dropout layers\n",
    "- 1st layer: flatten\n",
    "- 2nd layer: Dense, 128 nodes=128 outputs=128 neurons, activation = sigmoid\n",
    "- 3rd layer: Dense, 64 nodes, activation = relu\n",
    "- 4th layer: Dense, select the appropriate number of nodes, activation=softmax"
   ]
  },
  {
   "cell_type": "code",
   "execution_count": 12,
   "metadata": {
    "id": "zaeTJyysGXHX"
   },
   "outputs": [],
   "source": [
    "# Define model\n",
    "my_model2 = tf.keras.models.Sequential([\n",
    "    tf.keras.layers.Flatten(input_shape=(28,28)), # 1st layer\n",
    "    tf.keras.layers.Dense(units=128, activation='sigmoid'), # 2nd layer\n",
    "    tf.keras.layers.Dense(units=64, activation='relu'), # 3rd layer\n",
    "    tf.keras.layers.Dense(units=10, activation='softmax') # 4th layer\n",
    "])"
   ]
  },
  {
   "cell_type": "code",
   "execution_count": 11,
   "metadata": {},
   "outputs": [
    {
     "name": "stdout",
     "output_type": "stream",
     "text": [
      "Model: \"sequential_1\"\n",
      "_________________________________________________________________\n",
      " Layer (type)                Output Shape              Param #   \n",
      "=================================================================\n",
      " flatten_1 (Flatten)         (None, 784)               0         \n",
      "                                                                 \n",
      " dense_3 (Dense)             (None, 128)               100480    \n",
      "                                                                 \n",
      " dense_4 (Dense)             (None, 64)                8256      \n",
      "                                                                 \n",
      " dense_5 (Dense)             (None, 10)                650       \n",
      "                                                                 \n",
      "=================================================================\n",
      "Total params: 109386 (427.29 KB)\n",
      "Trainable params: 109386 (427.29 KB)\n",
      "Non-trainable params: 0 (0.00 Byte)\n",
      "_________________________________________________________________\n"
     ]
    }
   ],
   "source": [
    "my_model2.summary()"
   ]
  },
  {
   "cell_type": "code",
   "execution_count": 14,
   "metadata": {
    "id": "i4r3CAbwIcqL"
   },
   "outputs": [],
   "source": [
    "# Compile\n",
    "my_model2.compile(optimizer = 'adam',\n",
    "                  loss = tf.keras.losses.SparseCategoricalCrossentropy(), # or, equivalently, SparseCategoricalCrossentropy(from_logits = False)\n",
    "                  metrics = ['Accuracy'])"
   ]
  },
  {
   "cell_type": "code",
   "execution_count": 15,
   "metadata": {
    "id": "hDd4IzmbIujN"
   },
   "outputs": [
    {
     "name": "stdout",
     "output_type": "stream",
     "text": [
      "Epoch 1/12\n",
      "1875/1875 [==============================] - 3s 1ms/step - loss: 0.3620 - Accuracy: 0.8998\n",
      "Epoch 2/12\n",
      "1875/1875 [==============================] - 3s 1ms/step - loss: 0.1643 - Accuracy: 0.9517\n",
      "Epoch 3/12\n",
      "1875/1875 [==============================] - 3s 1ms/step - loss: 0.1137 - Accuracy: 0.9659\n",
      "Epoch 4/12\n",
      "1875/1875 [==============================] - 3s 1ms/step - loss: 0.0860 - Accuracy: 0.9735\n",
      "Epoch 5/12\n",
      "1875/1875 [==============================] - 3s 1ms/step - loss: 0.0666 - Accuracy: 0.9795\n",
      "Epoch 6/12\n",
      "1875/1875 [==============================] - 3s 1ms/step - loss: 0.0535 - Accuracy: 0.9832\n",
      "Epoch 7/12\n",
      "1875/1875 [==============================] - 3s 1ms/step - loss: 0.0429 - Accuracy: 0.9867\n",
      "Epoch 8/12\n",
      "1875/1875 [==============================] - 3s 1ms/step - loss: 0.0343 - Accuracy: 0.9898\n",
      "Epoch 9/12\n",
      "1875/1875 [==============================] - 3s 1ms/step - loss: 0.0288 - Accuracy: 0.9911\n",
      "Epoch 10/12\n",
      "1875/1875 [==============================] - 3s 1ms/step - loss: 0.0236 - Accuracy: 0.9928\n",
      "Epoch 11/12\n",
      "1875/1875 [==============================] - 3s 1ms/step - loss: 0.0196 - Accuracy: 0.9938\n",
      "Epoch 12/12\n",
      "1875/1875 [==============================] - 3s 1ms/step - loss: 0.0164 - Accuracy: 0.9948\n"
     ]
    },
    {
     "data": {
      "text/plain": [
       "<keras.src.callbacks.History at 0x7fd4aa3d1ab0>"
      ]
     },
     "execution_count": 15,
     "metadata": {},
     "output_type": "execute_result"
    }
   ],
   "source": [
    "# Train\n",
    "my_model2.fit(x_train,y_train,epochs=12)"
   ]
  },
  {
   "cell_type": "code",
   "execution_count": 16,
   "metadata": {
    "id": "sRHlRm9vI2s0"
   },
   "outputs": [
    {
     "name": "stdout",
     "output_type": "stream",
     "text": [
      "313/313 [==============================] - 0s 834us/step - loss: 0.0976 - Accuracy: 0.9741\n"
     ]
    },
    {
     "data": {
      "text/plain": [
       "[0.0976049080491066, 0.9740999937057495]"
      ]
     },
     "execution_count": 16,
     "metadata": {},
     "output_type": "execute_result"
    }
   ],
   "source": [
    "# Evaluate\n",
    "my_model2.evaluate(x_test,y_test)"
   ]
  },
  {
   "cell_type": "code",
   "execution_count": 40,
   "metadata": {
    "id": "m1HXiL_5JNh_"
   },
   "outputs": [
    {
     "name": "stdout",
     "output_type": "stream",
     "text": [
      "313/313 [==============================] - 0s 735us/step\n"
     ]
    }
   ],
   "source": [
    "# Predict\n",
    "my_predictions2 = my_model2.predict(x_test)"
   ]
  },
  {
   "cell_type": "code",
   "execution_count": 41,
   "metadata": {},
   "outputs": [
    {
     "name": "stdout",
     "output_type": "stream",
     "text": [
      "[2.8521438e-08 2.6548810e-09 3.2588101e-08 1.5673206e-06 1.3218302e-14\n",
      " 2.4996564e-11 1.6542051e-16 9.9999833e-01 4.3453058e-10 1.5503346e-08]\n"
     ]
    }
   ],
   "source": [
    "print(my_predictions2[0])"
   ]
  },
  {
   "cell_type": "code",
   "execution_count": 42,
   "metadata": {},
   "outputs": [
    {
     "name": "stdout",
     "output_type": "stream",
     "text": [
      "7\n"
     ]
    }
   ],
   "source": [
    "print(np.argmax(my_predictions2[0]))"
   ]
  },
  {
   "cell_type": "code",
   "execution_count": 46,
   "metadata": {
    "id": "t8cNPou2JBvz"
   },
   "outputs": [
    {
     "data": {
      "image/png": "[encoded data removed]",
      "text/plain": [
       "<Figure size 216x216 with 1 Axes>"
      ]
     },
     "metadata": {
      "needs_background": "light"
     },
     "output_type": "display_data"
    },
    {
     "name": "stdout",
     "output_type": "stream",
     "text": [
      "Model prediction: 7 \n",
      " \n",
      "\n"
     ]
    },
    {
     "data": {
      "image/png": "[encoded data removed]",
      "text/plain": [
       "<Figure size 216x216 with 1 Axes>"
      ]
     },
     "metadata": {
      "needs_background": "light"
     },
     "output_type": "display_data"
    },
    {
     "name": "stdout",
     "output_type": "stream",
     "text": [
      "Model prediction: 2 \n",
      " \n",
      "\n"
     ]
    },
    {
     "data": {
      "image/png": "[encoded data removed]",
      "text/plain": [
       "<Figure size 216x216 with 1 Axes>"
      ]
     },
     "metadata": {
      "needs_background": "light"
     },
     "output_type": "display_data"
    },
    {
     "name": "stdout",
     "output_type": "stream",
     "text": [
      "Model prediction: 1 \n",
      " \n",
      "\n"
     ]
    },
    {
     "data": {
      "image/png": "[encoded data removed]",
      "text/plain": [
       "<Figure size 216x216 with 1 Axes>"
      ]
     },
     "metadata": {
      "needs_background": "light"
     },
     "output_type": "display_data"
    },
    {
     "name": "stdout",
     "output_type": "stream",
     "text": [
      "Model prediction: 0 \n",
      " \n",
      "\n"
     ]
    },
    {
     "data": {
      "image/png": "[encoded data removed]",
      "text/plain": [
       "<Figure size 216x216 with 1 Axes>"
      ]
     },
     "metadata": {
      "needs_background": "light"
     },
     "output_type": "display_data"
    },
    {
     "name": "stdout",
     "output_type": "stream",
     "text": [
      "Model prediction: 4 \n",
      " \n",
      "\n"
     ]
    },
    {
     "data": {
      "image/png": "[encoded data removed]",
      "text/plain": [
       "<Figure size 216x216 with 1 Axes>"
      ]
     },
     "metadata": {
      "needs_background": "light"
     },
     "output_type": "display_data"
    },
    {
     "name": "stdout",
     "output_type": "stream",
     "text": [
      "Model prediction: 1 \n",
      " \n",
      "\n"
     ]
    },
    {
     "data": {
      "image/png": "[encoded data removed]",
      "text/plain": [
       "<Figure size 216x216 with 1 Axes>"
      ]
     },
     "metadata": {
      "needs_background": "light"
     },
     "output_type": "display_data"
    },
    {
     "name": "stdout",
     "output_type": "stream",
     "text": [
      "Model prediction: 4 \n",
      " \n",
      "\n"
     ]
    },
    {
     "data": {
      "image/png": "[encoded data removed]",
      "text/plain": [
       "<Figure size 216x216 with 1 Axes>"
      ]
     },
     "metadata": {
      "needs_background": "light"
     },
     "output_type": "display_data"
    },
    {
     "name": "stdout",
     "output_type": "stream",
     "text": [
      "Model prediction: 9 \n",
      " \n",
      "\n"
     ]
    },
    {
     "data": {
      "image/png": "[encoded data removed]",
      "text/plain": [
       "<Figure size 216x216 with 1 Axes>"
      ]
     },
     "metadata": {
      "needs_background": "light"
     },
     "output_type": "display_data"
    },
    {
     "name": "stdout",
     "output_type": "stream",
     "text": [
      "Model prediction: 5 \n",
      " \n",
      "\n"
     ]
    },
    {
     "data": {
      "image/png": "[encoded data removed]",
      "text/plain": [
       "<Figure size 216x216 with 1 Axes>"
      ]
     },
     "metadata": {
      "needs_background": "light"
     },
     "output_type": "display_data"
    },
    {
     "name": "stdout",
     "output_type": "stream",
     "text": [
      "Model prediction: 9 \n",
      " \n",
      "\n"
     ]
    },
    {
     "data": {
      "image/png": "[encoded data removed]",
      "text/plain": [
       "<Figure size 216x216 with 1 Axes>"
      ]
     },
     "metadata": {
      "needs_background": "light"
     },
     "output_type": "display_data"
    },
    {
     "name": "stdout",
     "output_type": "stream",
     "text": [
      "Model prediction: 0 \n",
      " \n",
      "\n"
     ]
    },
    {
     "data": {
      "image/png": "[encoded data removed]",
      "text/plain": [
       "<Figure size 216x216 with 1 Axes>"
      ]
     },
     "metadata": {
      "needs_background": "light"
     },
     "output_type": "display_data"
    },
    {
     "name": "stdout",
     "output_type": "stream",
     "text": [
      "Model prediction: 6 \n",
      " \n",
      "\n"
     ]
    },
    {
     "data": {
      "image/png": "[encoded data removed]",
      "text/plain": [
       "<Figure size 216x216 with 1 Axes>"
      ]
     },
     "metadata": {
      "needs_background": "light"
     },
     "output_type": "display_data"
    },
    {
     "name": "stdout",
     "output_type": "stream",
     "text": [
      "Model prediction: 9 \n",
      " \n",
      "\n"
     ]
    },
    {
     "data": {
      "image/png": "[encoded data removed]",
      "text/plain": [
       "<Figure size 216x216 with 1 Axes>"
      ]
     },
     "metadata": {
      "needs_background": "light"
     },
     "output_type": "display_data"
    },
    {
     "name": "stdout",
     "output_type": "stream",
     "text": [
      "Model prediction: 0 \n",
      " \n",
      "\n"
     ]
    },
    {
     "data": {
      "image/png": "[encoded data removed]",
      "text/plain": [
       "<Figure size 216x216 with 1 Axes>"
      ]
     },
     "metadata": {
      "needs_background": "light"
     },
     "output_type": "display_data"
    },
    {
     "name": "stdout",
     "output_type": "stream",
     "text": [
      "Model prediction: 1 \n",
      " \n",
      "\n"
     ]
    },
    {
     "data": {
      "image/png": "[encoded data removed]",
      "text/plain": [
       "<Figure size 216x216 with 1 Axes>"
      ]
     },
     "metadata": {
      "needs_background": "light"
     },
     "output_type": "display_data"
    },
    {
     "name": "stdout",
     "output_type": "stream",
     "text": [
      "Model prediction: 5 \n",
      " \n",
      "\n"
     ]
    },
    {
     "data": {
      "image/png": "[encoded data removed]",
      "text/plain": [
       "<Figure size 216x216 with 1 Axes>"
      ]
     },
     "metadata": {
      "needs_background": "light"
     },
     "output_type": "display_data"
    },
    {
     "name": "stdout",
     "output_type": "stream",
     "text": [
      "Model prediction: 9 \n",
      " \n",
      "\n"
     ]
    },
    {
     "data": {
      "image/png": "[encoded data removed]",
      "text/plain": [
       "<Figure size 216x216 with 1 Axes>"
      ]
     },
     "metadata": {
      "needs_background": "light"
     },
     "output_type": "display_data"
    },
    {
     "name": "stdout",
     "output_type": "stream",
     "text": [
      "Model prediction: 7 \n",
      " \n",
      "\n"
     ]
    },
    {
     "data": {
      "image/png": "[encoded data removed]",
      "text/plain": [
       "<Figure size 216x216 with 1 Axes>"
      ]
     },
     "metadata": {
      "needs_background": "light"
     },
     "output_type": "display_data"
    },
    {
     "name": "stdout",
     "output_type": "stream",
     "text": [
      "Model prediction: 3 \n",
      " \n",
      "\n"
     ]
    },
    {
     "data": {
      "image/png": "[encoded data removed]",
      "text/plain": [
       "<Figure size 216x216 with 1 Axes>"
      ]
     },
     "metadata": {
      "needs_background": "light"
     },
     "output_type": "display_data"
    },
    {
     "name": "stdout",
     "output_type": "stream",
     "text": [
      "Model prediction: 4 \n",
      " \n",
      "\n"
     ]
    },
    {
     "data": {
      "image/png": "[encoded data removed]",
      "text/plain": [
       "<Figure size 216x216 with 1 Axes>"
      ]
     },
     "metadata": {
      "needs_background": "light"
     },
     "output_type": "display_data"
    },
    {
     "name": "stdout",
     "output_type": "stream",
     "text": [
      "Model prediction: 9 \n",
      " \n",
      "\n"
     ]
    },
    {
     "data": {
      "image/png": "[encoded data removed]",
      "text/plain": [
       "<Figure size 216x216 with 1 Axes>"
      ]
     },
     "metadata": {
      "needs_background": "light"
     },
     "output_type": "display_data"
    },
    {
     "name": "stdout",
     "output_type": "stream",
     "text": [
      "Model prediction: 6 \n",
      " \n",
      "\n"
     ]
    },
    {
     "data": {
      "image/png": "[encoded data removed]",
      "text/plain": [
       "<Figure size 216x216 with 1 Axes>"
      ]
     },
     "metadata": {
      "needs_background": "light"
     },
     "output_type": "display_data"
    },
    {
     "name": "stdout",
     "output_type": "stream",
     "text": [
      "Model prediction: 6 \n",
      " \n",
      "\n"
     ]
    },
    {
     "data": {
      "image/png": "[encoded data removed]",
      "text/plain": [
       "<Figure size 216x216 with 1 Axes>"
      ]
     },
     "metadata": {
      "needs_background": "light"
     },
     "output_type": "display_data"
    },
    {
     "name": "stdout",
     "output_type": "stream",
     "text": [
      "Model prediction: 5 \n",
      " \n",
      "\n"
     ]
    },
    {
     "data": {
      "image/png": "[encoded data removed]",
      "text/plain": [
       "<Figure size 216x216 with 1 Axes>"
      ]
     },
     "metadata": {
      "needs_background": "light"
     },
     "output_type": "display_data"
    },
    {
     "name": "stdout",
     "output_type": "stream",
     "text": [
      "Model prediction: 4 \n",
      " \n",
      "\n"
     ]
    },
    {
     "data": {
      "image/png": "[encoded data removed]",
      "text/plain": [
       "<Figure size 216x216 with 1 Axes>"
      ]
     },
     "metadata": {
      "needs_background": "light"
     },
     "output_type": "display_data"
    },
    {
     "name": "stdout",
     "output_type": "stream",
     "text": [
      "Model prediction: 0 \n",
      " \n",
      "\n"
     ]
    },
    {
     "data": {
      "image/png": "[encoded data removed]",
      "text/plain": [
       "<Figure size 216x216 with 1 Axes>"
      ]
     },
     "metadata": {
      "needs_background": "light"
     },
     "output_type": "display_data"
    },
    {
     "name": "stdout",
     "output_type": "stream",
     "text": [
      "Model prediction: 7 \n",
      " \n",
      "\n"
     ]
    },
    {
     "data": {
      "image/png": "[encoded data removed]",
      "text/plain": [
       "<Figure size 216x216 with 1 Axes>"
      ]
     },
     "metadata": {
      "needs_background": "light"
     },
     "output_type": "display_data"
    },
    {
     "name": "stdout",
     "output_type": "stream",
     "text": [
      "Model prediction: 4 \n",
      " \n",
      "\n"
     ]
    },
    {
     "data": {
      "image/png": "[encoded data removed]",
      "text/plain": [
       "<Figure size 216x216 with 1 Axes>"
      ]
     },
     "metadata": {
      "needs_background": "light"
     },
     "output_type": "display_data"
    },
    {
     "name": "stdout",
     "output_type": "stream",
     "text": [
      "Model prediction: 0 \n",
      " \n",
      "\n"
     ]
    },
    {
     "data": {
      "image/png": "[encoded data removed]",
      "text/plain": [
       "<Figure size 216x216 with 1 Axes>"
      ]
     },
     "metadata": {
      "needs_background": "light"
     },
     "output_type": "display_data"
    },
    {
     "name": "stdout",
     "output_type": "stream",
     "text": [
      "Model prediction: 1 \n",
      " \n",
      "\n"
     ]
    }
   ],
   "source": [
    "# Show some examples\n",
    "n_images = 30\n",
    "test_images = x_test[:n_images]\n",
    "predictions = my_model2(test_images)\n",
    "\n",
    "for i in range(n_images):\n",
    "    plt.figure(figsize=(3,3))\n",
    "    plt.imshow(np.reshape(test_images[i], [28, 28]), cmap='gray')\n",
    "    plt.show()\n",
    "    print(\"Model prediction: %i\" % np.argmax(predictions[i]),\"\\n\",\"\\n\")"
   ]
  },
  {
   "cell_type": "markdown",
   "metadata": {},
   "source": [
    "## Store information about the training"
   ]
  },
  {
   "cell_type": "code",
   "execution_count": 48,
   "metadata": {},
   "outputs": [],
   "source": [
    "# Define model\n",
    "my_model2 = tf.keras.models.Sequential([\n",
    "    tf.keras.layers.Flatten(input_shape=(28,28)), # 1st layer\n",
    "    tf.keras.layers.Dense(units=128, activation='sigmoid'), # 2nd layer\n",
    "    tf.keras.layers.Dense(units=64, activation='relu'), # 3rd layer\n",
    "    tf.keras.layers.Dense(units=10, activation='softmax') # 4th layer\n",
    "])"
   ]
  },
  {
   "cell_type": "code",
   "execution_count": 49,
   "metadata": {},
   "outputs": [],
   "source": [
    "my_model2.compile(optimizer = 'adam', # Adam is an imporved gradient descent\n",
    "              loss = tf.keras.losses.SparseCategoricalCrossentropy(),\n",
    "              metrics = ['Accuracy'])"
   ]
  },
  {
   "cell_type": "code",
   "execution_count": 51,
   "metadata": {},
   "outputs": [
    {
     "name": "stdout",
     "output_type": "stream",
     "text": [
      "Epoch 1/12\n",
      "1875/1875 [==============================] - 3s 1ms/step - loss: 0.3520 - Accuracy: 0.9005\n",
      "Epoch 2/12\n",
      "1875/1875 [==============================] - 3s 1ms/step - loss: 0.1628 - Accuracy: 0.9514\n",
      "Epoch 3/12\n",
      "1875/1875 [==============================] - 3s 1ms/step - loss: 0.1140 - Accuracy: 0.9658\n",
      "Epoch 4/12\n",
      "1875/1875 [==============================] - 3s 1ms/step - loss: 0.0850 - Accuracy: 0.9740\n",
      "Epoch 5/12\n",
      "1875/1875 [==============================] - 3s 1ms/step - loss: 0.0664 - Accuracy: 0.9792\n",
      "Epoch 6/12\n",
      "1875/1875 [==============================] - 3s 1ms/step - loss: 0.0525 - Accuracy: 0.9839\n",
      "Epoch 7/12\n",
      "1875/1875 [==============================] - 3s 1ms/step - loss: 0.0416 - Accuracy: 0.9865\n",
      "Epoch 8/12\n",
      "1875/1875 [==============================] - 3s 1ms/step - loss: 0.0343 - Accuracy: 0.9889\n",
      "Epoch 9/12\n",
      "1875/1875 [==============================] - 3s 1ms/step - loss: 0.0257 - Accuracy: 0.9918\n",
      "Epoch 10/12\n",
      "1875/1875 [==============================] - 3s 1ms/step - loss: 0.0224 - Accuracy: 0.9929\n",
      "Epoch 11/12\n",
      "1875/1875 [==============================] - 3s 1ms/step - loss: 0.0186 - Accuracy: 0.9941\n",
      "Epoch 12/12\n",
      "1875/1875 [==============================] - 3s 1ms/step - loss: 0.0152 - Accuracy: 0.9950\n"
     ]
    }
   ],
   "source": [
    "# Train\n",
    "history = my_model2.fit(x_train,y_train,epochs=12)"
   ]
  },
  {
   "cell_type": "code",
   "execution_count": 53,
   "metadata": {},
   "outputs": [
    {
     "data": {
      "text/plain": [
       "{'loss': [0.3519708514213562,\n",
       "  0.16282503306865692,\n",
       "  0.11396286636590958,\n",
       "  0.0849735289812088,\n",
       "  0.06637208163738251,\n",
       "  0.052518267184495926,\n",
       "  0.04164443537592888,\n",
       "  0.03426707535982132,\n",
       "  0.025680404156446457,\n",
       "  0.022350681945681572,\n",
       "  0.018601542338728905,\n",
       "  0.015187272801995277],\n",
       " 'Accuracy': [0.9004999995231628,\n",
       "  0.9514333605766296,\n",
       "  0.9657999873161316,\n",
       "  0.973966658115387,\n",
       "  0.9792166948318481,\n",
       "  0.9838833212852478,\n",
       "  0.9865333437919617,\n",
       "  0.9889333248138428,\n",
       "  0.9917500019073486,\n",
       "  0.9928833246231079,\n",
       "  0.9940833449363708,\n",
       "  0.995033323764801]}"
      ]
     },
     "execution_count": 53,
     "metadata": {},
     "output_type": "execute_result"
    }
   ],
   "source": [
    "history.history"
   ]
  },
  {
   "cell_type": "code",
   "execution_count": 54,
   "metadata": {},
   "outputs": [
    {
     "data": {
      "text/plain": [
       "[0.3519708514213562,\n",
       " 0.16282503306865692,\n",
       " 0.11396286636590958,\n",
       " 0.0849735289812088,\n",
       " 0.06637208163738251,\n",
       " 0.052518267184495926,\n",
       " 0.04164443537592888,\n",
       " 0.03426707535982132,\n",
       " 0.025680404156446457,\n",
       " 0.022350681945681572,\n",
       " 0.018601542338728905,\n",
       " 0.015187272801995277]"
      ]
     },
     "execution_count": 54,
     "metadata": {},
     "output_type": "execute_result"
    }
   ],
   "source": [
    "history.history['loss']"
   ]
  },
  {
   "cell_type": "code",
   "execution_count": 56,
   "metadata": {},
   "outputs": [
    {
     "data": {
      "text/plain": [
       "[0.9004999995231628,\n",
       " 0.9514333605766296,\n",
       " 0.9657999873161316,\n",
       " 0.973966658115387,\n",
       " 0.9792166948318481,\n",
       " 0.9838833212852478,\n",
       " 0.9865333437919617,\n",
       " 0.9889333248138428,\n",
       " 0.9917500019073486,\n",
       " 0.9928833246231079,\n",
       " 0.9940833449363708,\n",
       " 0.995033323764801]"
      ]
     },
     "execution_count": 56,
     "metadata": {},
     "output_type": "execute_result"
    }
   ],
   "source": [
    "history.history['Accuracy']"
   ]
  },
  {
   "cell_type": "code",
   "execution_count": 57,
   "metadata": {},
   "outputs": [],
   "source": [
    "import matplotlib.pyplot as plt\n",
    "def plotModelHistory (h):\n",
    "  fig, ax = plt.subplots(1 , 2, figsize =(15 , 4))\n",
    "  ax[0].plot(h.history['loss'])\n",
    "  ax[0].title.set_text(\"Train loss\")\n",
    "  ax[1].plot(h.history['Accuracy' ])\n",
    "  ax[1].legend(['accuracy'])\n",
    "  ax[1].title.set_text(\"Train accuracy\")\n",
    "  print(\"Max.Training Accuracy\",max(h. history['Accuracy']))"
   ]
  },
  {
   "cell_type": "code",
   "execution_count": 58,
   "metadata": {},
   "outputs": [
    {
     "name": "stdout",
     "output_type": "stream",
     "text": [
      "Max.Training Accuracy 0.995033323764801\n"
     ]
    },
    {
     "data": {
      "image/png": "[encoded data removed]",
      "text/plain": [
       "<Figure size 1080x288 with 2 Axes>"
      ]
     },
     "metadata": {
      "needs_background": "light"
     },
     "output_type": "display_data"
    }
   ],
   "source": [
    "plotModelHistory(history)"
   ]
  },
  {
   "cell_type": "markdown",
   "metadata": {},
   "source": [
    "## We can use a validation set to check for overfitting"
   ]
  },
  {
   "cell_type": "code",
   "execution_count": 59,
   "metadata": {},
   "outputs": [],
   "source": [
    "# Define model\n",
    "my_model2 = tf.keras.models.Sequential([\n",
    "    tf.keras.layers.Flatten(input_shape=(28,28)), # 1st layer\n",
    "    tf.keras.layers.Dense(units=128, activation='sigmoid'), # 2nd layer\n",
    "    tf.keras.layers.Dense(units=64, activation='relu'), # 3rd layer\n",
    "    tf.keras.layers.Dense(units=10, activation='softmax') # 4th layer\n",
    "])\n",
    "\n",
    "# Compile\n",
    "my_model2.compile(optimizer = 'adam', # Adam is an imporved gradient descent\n",
    "              loss = tf.keras.losses.SparseCategoricalCrossentropy(),\n",
    "              metrics = ['Accuracy'])"
   ]
  },
  {
   "cell_type": "code",
   "execution_count": 60,
   "metadata": {},
   "outputs": [
    {
     "name": "stdout",
     "output_type": "stream",
     "text": [
      "Epoch 1/12\n",
      "1688/1688 [==============================] - 3s 2ms/step - loss: 0.3707 - Accuracy: 0.8946 - val_loss: 0.1674 - val_Accuracy: 0.9537\n",
      "Epoch 2/12\n",
      "1688/1688 [==============================] - 3s 2ms/step - loss: 0.1671 - Accuracy: 0.9491 - val_loss: 0.1239 - val_Accuracy: 0.9650\n",
      "Epoch 3/12\n",
      "1688/1688 [==============================] - 3s 2ms/step - loss: 0.1179 - Accuracy: 0.9638 - val_loss: 0.0951 - val_Accuracy: 0.9712\n",
      "Epoch 4/12\n",
      "1688/1688 [==============================] - 3s 2ms/step - loss: 0.0884 - Accuracy: 0.9725 - val_loss: 0.0891 - val_Accuracy: 0.9730\n",
      "Epoch 5/12\n",
      "1688/1688 [==============================] - 3s 2ms/step - loss: 0.0679 - Accuracy: 0.9793 - val_loss: 0.0838 - val_Accuracy: 0.9742\n",
      "Epoch 6/12\n",
      "1688/1688 [==============================] - 3s 2ms/step - loss: 0.0531 - Accuracy: 0.9834 - val_loss: 0.0864 - val_Accuracy: 0.9743\n",
      "Epoch 7/12\n",
      "1688/1688 [==============================] - 3s 2ms/step - loss: 0.0438 - Accuracy: 0.9860 - val_loss: 0.0755 - val_Accuracy: 0.9797\n",
      "Epoch 8/12\n",
      "1688/1688 [==============================] - 3s 2ms/step - loss: 0.0348 - Accuracy: 0.9891 - val_loss: 0.0848 - val_Accuracy: 0.9777\n",
      "Epoch 9/12\n",
      "1688/1688 [==============================] - 3s 2ms/step - loss: 0.0272 - Accuracy: 0.9917 - val_loss: 0.0789 - val_Accuracy: 0.9805\n",
      "Epoch 10/12\n",
      "1688/1688 [==============================] - 3s 2ms/step - loss: 0.0225 - Accuracy: 0.9934 - val_loss: 0.0907 - val_Accuracy: 0.9748\n",
      "Epoch 11/12\n",
      "1688/1688 [==============================] - 3s 2ms/step - loss: 0.0193 - Accuracy: 0.9933 - val_loss: 0.0869 - val_Accuracy: 0.9770\n",
      "Epoch 12/12\n",
      "1688/1688 [==============================] - 3s 2ms/step - loss: 0.0158 - Accuracy: 0.9948 - val_loss: 0.0895 - val_Accuracy: 0.9773\n"
     ]
    }
   ],
   "source": [
    "# Train using a validation split of 10%\n",
    "history = my_model2.fit(x_train,y_train,validation_split=.1,epochs=12)"
   ]
  },
  {
   "cell_type": "code",
   "execution_count": 61,
   "metadata": {},
   "outputs": [
    {
     "data": {
      "text/plain": [
       "{'loss': [0.370716392993927,\n",
       "  0.16705507040023804,\n",
       "  0.11785240471363068,\n",
       "  0.0883772149682045,\n",
       "  0.06788509339094162,\n",
       "  0.053101796656847,\n",
       "  0.043821778148412704,\n",
       "  0.03477418050169945,\n",
       "  0.027218876406550407,\n",
       "  0.022451983764767647,\n",
       "  0.019296323880553246,\n",
       "  0.015844974666833878],\n",
       " 'Accuracy': [0.894611120223999,\n",
       "  0.9490925669670105,\n",
       "  0.9637592434883118,\n",
       "  0.9725185036659241,\n",
       "  0.9792592525482178,\n",
       "  0.9833889007568359,\n",
       "  0.9859814643859863,\n",
       "  0.9891296029090881,\n",
       "  0.9917407631874084,\n",
       "  0.9934259057044983,\n",
       "  0.9932963252067566,\n",
       "  0.9948148131370544],\n",
       " 'val_loss': [0.1673993468284607,\n",
       "  0.1239294707775116,\n",
       "  0.09511543065309525,\n",
       "  0.08910372108221054,\n",
       "  0.08384875953197479,\n",
       "  0.08637339621782303,\n",
       "  0.07545414566993713,\n",
       "  0.08475934714078903,\n",
       "  0.07891808450222015,\n",
       "  0.09065522998571396,\n",
       "  0.08685601502656937,\n",
       "  0.08949649333953857],\n",
       " 'val_Accuracy': [0.9536666870117188,\n",
       "  0.9649999737739563,\n",
       "  0.9711666703224182,\n",
       "  0.9729999899864197,\n",
       "  0.9741666913032532,\n",
       "  0.9743333458900452,\n",
       "  0.9796666502952576,\n",
       "  0.9776666760444641,\n",
       "  0.9804999828338623,\n",
       "  0.9748333096504211,\n",
       "  0.9769999980926514,\n",
       "  0.9773333072662354]}"
      ]
     },
     "execution_count": 61,
     "metadata": {},
     "output_type": "execute_result"
    }
   ],
   "source": [
    "history.history"
   ]
  },
  {
   "cell_type": "code",
   "execution_count": 18,
   "metadata": {},
   "outputs": [],
   "source": [
    "import matplotlib.pyplot as plt\n",
    "def plotModelHistory (h):\n",
    "  fig, ax = plt.subplots(1 , 2, figsize =(15 , 4))\n",
    "  ax[0].plot(h.history['loss'])\n",
    "  ax[0].plot (h.history['val_loss'])\n",
    "  ax[0].legend(['loss','val_loss'])\n",
    "  ax[0].title.set_text(\"Train loss vs Validation loss\")\n",
    "  ax[1].plot(h.history['Accuracy' ])\n",
    "  ax[1].plot(h.history['val_Accuracy'])\n",
    "  ax[1].legend(['accuracy','val_accuracy'])\n",
    "  ax[1].title.set_text(\"Train accuracy vs Validation accuracy\")\n",
    "  print(\"Max.Training Accuracy\",max(h. history['Accuracy']))\n",
    "  print(\"Max.Validation Accuracy\",max(h.history['val_Accuracy']))"
   ]
  },
  {
   "cell_type": "code",
   "execution_count": 63,
   "metadata": {},
   "outputs": [
    {
     "name": "stdout",
     "output_type": "stream",
     "text": [
      "Max.Training Accuracy 0.9948148131370544\n",
      "Max.Validaiton Accuracy 0.9804999828338623\n"
     ]
    },
    {
     "data": {
      "image/png": "[encoded data removed]",
      "text/plain": [
       "<Figure size 1080x288 with 2 Axes>"
      ]
     },
     "metadata": {
      "needs_background": "light"
     },
     "output_type": "display_data"
    }
   ],
   "source": [
    "plotModelHistory(history)"
   ]
  },
  {
   "cell_type": "markdown",
   "metadata": {},
   "source": [
    "__Conclusion: the train accuracy and validation accuracy as similarly high (97%-99%): there no sign of overfitting.__"
   ]
  },
  {
   "cell_type": "markdown",
   "metadata": {},
   "source": [
    "## Using dropout regularization"
   ]
  },
  {
   "cell_type": "markdown",
   "metadata": {},
   "source": [
    "- Create a Sequential model with Flatten, Dense, and Dropout layers\n",
    "- 1st layer: flatten\n",
    "- 2nd layer: Dense, 128 nodes=128 outputs=128 neurons, activation = sigmoid\n",
    "- 3rd layer: Dropout regularization of the second layer with a proportion of 0.2 (20%)\n",
    "- 4th layer: Dense, 64 nodes, activation = relu\n",
    "- 5th layer: Dense, select the appropriate number of nodes, activation=softmax"
   ]
  },
  {
   "cell_type": "code",
   "execution_count": 11,
   "metadata": {},
   "outputs": [],
   "source": [
    "# Define model\n",
    "my_model3 = tf.keras.models.Sequential([\n",
    "    tf.keras.layers.Flatten(input_shape=(28,28)), # 1st layer\n",
    "    tf.keras.layers.Dense(units=128, activation='sigmoid'), # 2nd layer\n",
    "    tf.keras.layers.Dropout(rate=0.2), # 3rd layer\n",
    "    tf.keras.layers.Dense(units=64, activation='relu'), # 4th layer\n",
    "    tf.keras.layers.Dense(units=10, activation='softmax') # 5th layer\n",
    "])"
   ]
  },
  {
   "cell_type": "code",
   "execution_count": 12,
   "metadata": {},
   "outputs": [
    {
     "name": "stdout",
     "output_type": "stream",
     "text": [
      "Model: \"sequential\"\n",
      "_________________________________________________________________\n",
      " Layer (type)                Output Shape              Param #   \n",
      "=================================================================\n",
      " flatten_1 (Flatten)         (None, 784)               0         \n",
      "                                                                 \n",
      " dense_1 (Dense)             (None, 128)               100480    \n",
      "                                                                 \n",
      " dropout (Dropout)           (None, 128)               0         \n",
      "                                                                 \n",
      " dense_2 (Dense)             (None, 64)                8256      \n",
      "                                                                 \n",
      " dense_3 (Dense)             (None, 10)                650       \n",
      "                                                                 \n",
      "=================================================================\n",
      "Total params: 109386 (427.29 KB)\n",
      "Trainable params: 109386 (427.29 KB)\n",
      "Non-trainable params: 0 (0.00 Byte)\n",
      "_________________________________________________________________\n"
     ]
    }
   ],
   "source": [
    "my_model3.summary()"
   ]
  },
  {
   "cell_type": "code",
   "execution_count": 13,
   "metadata": {},
   "outputs": [],
   "source": [
    "# Compile\n",
    "my_model3.compile(optimizer = 'adam', # Adam is an imporved gradient descent\n",
    "              loss = tf.keras.losses.SparseCategoricalCrossentropy(),\n",
    "              metrics = ['Accuracy'])"
   ]
  },
  {
   "cell_type": "code",
   "execution_count": 14,
   "metadata": {},
   "outputs": [
    {
     "name": "stdout",
     "output_type": "stream",
     "text": [
      "Epoch 1/12\n",
      "1688/1688 [==============================] - 4s 2ms/step - loss: 0.4421 - Accuracy: 0.8701 - val_loss: 0.1865 - val_Accuracy: 0.9485\n",
      "Epoch 2/12\n",
      "1688/1688 [==============================] - 3s 2ms/step - loss: 0.2157 - Accuracy: 0.9355 - val_loss: 0.1290 - val_Accuracy: 0.9660\n",
      "Epoch 3/12\n",
      "1688/1688 [==============================] - 3s 2ms/step - loss: 0.1558 - Accuracy: 0.9530 - val_loss: 0.1069 - val_Accuracy: 0.9705\n",
      "Epoch 4/12\n",
      "1688/1688 [==============================] - 3s 2ms/step - loss: 0.1263 - Accuracy: 0.9621 - val_loss: 0.0881 - val_Accuracy: 0.9752\n",
      "Epoch 5/12\n",
      "1688/1688 [==============================] - 3s 2ms/step - loss: 0.1039 - Accuracy: 0.9673 - val_loss: 0.0808 - val_Accuracy: 0.9777\n",
      "Epoch 6/12\n",
      "1688/1688 [==============================] - 3s 2ms/step - loss: 0.0893 - Accuracy: 0.9716 - val_loss: 0.0763 - val_Accuracy: 0.9783\n",
      "Epoch 7/12\n",
      "1688/1688 [==============================] - 3s 2ms/step - loss: 0.0803 - Accuracy: 0.9742 - val_loss: 0.0753 - val_Accuracy: 0.9788\n",
      "Epoch 8/12\n",
      "1688/1688 [==============================] - 3s 2ms/step - loss: 0.0701 - Accuracy: 0.9772 - val_loss: 0.0736 - val_Accuracy: 0.9778\n",
      "Epoch 9/12\n",
      "1688/1688 [==============================] - 3s 2ms/step - loss: 0.0631 - Accuracy: 0.9796 - val_loss: 0.0699 - val_Accuracy: 0.9800\n",
      "Epoch 10/12\n",
      "1688/1688 [==============================] - 3s 2ms/step - loss: 0.0584 - Accuracy: 0.9807 - val_loss: 0.0688 - val_Accuracy: 0.9798\n",
      "Epoch 11/12\n",
      "1688/1688 [==============================] - 3s 2ms/step - loss: 0.0537 - Accuracy: 0.9824 - val_loss: 0.0725 - val_Accuracy: 0.9792\n",
      "Epoch 12/12\n",
      "1688/1688 [==============================] - 3s 2ms/step - loss: 0.0488 - Accuracy: 0.9839 - val_loss: 0.0715 - val_Accuracy: 0.9797\n"
     ]
    }
   ],
   "source": [
    "# Train using a validation split of 10%\n",
    "history3 = my_model3.fit(x_train,y_train,validation_split=.1,epochs=12)"
   ]
  },
  {
   "cell_type": "code",
   "execution_count": 19,
   "metadata": {},
   "outputs": [
    {
     "name": "stdout",
     "output_type": "stream",
     "text": [
      "Max.Training Accuracy 0.9838518500328064\n",
      "Max.Validation Accuracy 0.9800000190734863\n"
     ]
    },
    {
     "data": {
      "image/png": "[encoded data removed]",
      "text/plain": [
       "<Figure size 1080x288 with 2 Axes>"
      ]
     },
     "metadata": {
      "needs_background": "light"
     },
     "output_type": "display_data"
    }
   ],
   "source": [
    "plotModelHistory(history3)"
   ]
  }
 ],
 "metadata": {
  "colab": {
   "provenance": []
  },
  "kernelspec": {
   "display_name": "Python 3 [3.10]",
   "language": "python",
   "name": "python3"
  },
  "language_info": {
   "codemirror_mode": {
    "name": "ipython",
    "version": 3
   },
   "file_extension": ".py",
   "mimetype": "text/x-python",
   "name": "python",
   "nbconvert_exporter": "python",
   "pygments_lexer": "ipython3",
   "version": "3.10.2"
  }
 },
 "nbformat": 4,
 "nbformat_minor": 4
}
