{
 "cells": [
  {
   "cell_type": "markdown",
   "metadata": {
    "_uuid": "3797304b097063bab767bdc90789d6fedc5ea1ea",
    "id": "2OjHfZZXvVvu"
   },
   "source": [
    "## Problem Statement\n",
    "\n",
    "Aura’s e-commerce customer getmeatshirt.com desires to classify customer product reviews into good or bad with the help of a CNN-LSTM hybrid model."
   ]
  },
  {
   "cell_type": "markdown",
   "metadata": {
    "id": "3I6ycfU4qmcK"
   },
   "source": [
    "__Task: Build a CNN-LSTM hybrid model to classify the customer product\n",
    "reviews into good or bad.__\n",
    "\n",
    "__Task A:__\n",
    "1. Load GrammarandProductReviews.csv dataset\n",
    "2. Create a feature named target by considering that a customer is pleased by\n",
    "the product if the rating is higher than 3. Any rating below 4 shows that the\n",
    "customer doesn’t like the product. Use column reviews.rating to create feature\n",
    "target (Hint: `df['target'] = df['reviews.rating'] < 4` )\n",
    "3. Create your X with column reviews.text and Y with column target.\n",
    "4. Split your dataset into train and test in the ratio 80:20\n",
    "5. Use tokenizer from Keras to vectorize the text samples into a 2D integer tensor\n",
    "with 20000 words. Fit your tokenizer on train data. `(MAX_NB_WORDS = 20000)`.\n",
    "Note: you may use different tokenizers (from scikit-learn, NLTK, custom\n",
    "Python function etc.) This converts the texts into sequences of indices\n",
    "representing the 20000 most frequent words\n",
    "\n",
    "6. Convert train texts to sequences using the tokenizer texts_to_sequences\n",
    "method.\n",
    "7. Convert test texts to sequences using tokenizer texts_to_sequences method\n",
    "8. Pad train and test sequence (add 0s at the end until the sequence is of length\n",
    "150). Consider MAX_SEQUENCE_LENGTH = 150 and this step gives your x_train\n",
    "and x_test\n",
    "9. One-hot encode your output classes (True/False).\n",
    "10. Build a CNN - LSTM hybrid model with the following layers\n",
    "\n",
    "- Input layer with input `shape = MAX_SEQUENCE_LENGTH` and dtype\n",
    "int32\n",
    "- Embedding layer with input `dimension = MAX_NB_WORDS`, output\n",
    "`dimension =50`, and input `length = MAX_SEQUENCE_LENGTH`\n",
    "- Conv1D layer with 64 filters and kernel size 5 and activation relu,\n",
    "followed by MaxPooling1D with pool size = 5\n",
    "- Hint: MaxPool divides the length of the sequence by\n",
    "- `Dropout(0.2)`\n",
    "- Conv1D layer with 64 filters and kernel size 5 and activation relu,\n",
    "followed by MaxPooling1D with pool size = 5\n",
    "- `Dropout(0.2)`\n",
    "- LSTM layer with 64 units\n",
    "- Dense layer with 2 neurons and activation softmax\n",
    "11. Compile the model with Adam optimizer and metric accuracy\n",
    "12. Train the model for 5 epochs and batch size 64\n",
    "13. Evaluate the model on test text print the test loss and accuracy\n",
    "\n",
    "__Task B:__\n",
    "1. As a future and take-home task, train the model with the full dataset available\n",
    "in the link given in the problem statement.\n",
    "2. Evaluate the model on full test data and compare the performance\n",
    "improvement from a subset of the full dataset.\n"
   ]
  },
  {
   "cell_type": "markdown",
   "metadata": {
    "id": "NpNUqVNnkzJ5"
   },
   "source": [
    "**Dataset Description:**\n",
    "\n",
    "GrammarandProductReviews.csv [A subset of the dataset with 10000 reviews] to perform this task. This is a list of over 10000 reviews from 1,000 different products provided by [Datafiniti's Product Database](https://www.kaggle.com/datasets/datafiniti/grammar-and-online-product-reviews). The dataset includes the text and title of the review, the name and manufacturer of the product, reviewer metadata, and more. We will consider only two columns namely reviews.text and reviews.rating."
   ]
  },
  {
   "cell_type": "code",
   "execution_count": 1,
   "metadata": {
    "executionInfo": {
     "elapsed": 63,
     "status": "ok",
     "timestamp": 1751502060850,
     "user": {
      "displayName": "Fabien Marpeau",
      "userId": "15210978490258687001"
     },
     "user_tz": 300
    },
    "id": "95Y1YM5GqAFF"
   },
   "outputs": [],
   "source": [
    "# pip install tensorflow==2.17.0 scikeras==0.13.0 keras==3.2.0"
   ]
  },
  {
   "cell_type": "code",
   "execution_count": 2,
   "metadata": {
    "id": "73g9tFLVqAFG"
   },
   "outputs": [],
   "source": [
    "import os\n",
    "\n",
    "# Disable oneDNN optimizations to avoid potential minor numerical differences caused by floating-point round-off errors.\n",
    "os.environ['TF_ENABLE_ONEDNN_OPTS'] = '0'"
   ]
  },
  {
   "cell_type": "code",
   "execution_count": 3,
   "metadata": {
    "_cell_guid": "b1076dfc-b9ad-4769-8c92-a6c4dae69d19",
    "_uuid": "771ef0f5fee2055211e47d5010bcfe552e35b230",
    "executionInfo": {
     "elapsed": 921,
     "status": "ok",
     "timestamp": 1751502069706,
     "user": {
      "displayName": "Fabien Marpeau",
      "userId": "15210978490258687001"
     },
     "user_tz": 300
    },
    "id": "KdOukj5RvVv6"
   },
   "outputs": [],
   "source": [
    "# libraries\n",
    "\n",
    "import numpy as np # linear algebra\n",
    "import pandas as pd # data processing, CSV file I/O (e.g. pd.read_csv)\n",
    "import matplotlib.pyplot as plt\n",
    "np.random.seed(32)\n",
    "\n",
    "\n",
    "from sklearn.model_selection import train_test_split\n",
    "from sklearn.metrics import roc_auc_score, confusion_matrix\n",
    "from sklearn.manifold import TSNE\n",
    "\n",
    "from tensorflow.keras.preprocessing.text import Tokenizer\n",
    "from keras.preprocessing.sequence import pad_sequences\n",
    "from keras.layers import LSTM, Conv1D, MaxPooling1D, Dropout\n",
    "from tensorflow.keras.utils import to_categorical\n",
    "from keras.layers import Dense, Input, Flatten\n",
    "from keras.layers import GlobalAveragePooling1D, Embedding\n",
    "from keras.models import Model\n",
    "import seaborn as sns"
   ]
  },
  {
   "cell_type": "markdown",
   "metadata": {
    "_cell_guid": "fbaf3c33-6d28-4090-9ae6-cee0d756d8c5",
    "_uuid": "4e1824ffd6970179558b8d4a0c6c8c75ef689006",
    "id": "WKO27fGgvVv-"
   },
   "source": [
    "#### 1. Load GrammarandProductReviews.csv dataset"
   ]
  },
  {
   "cell_type": "code",
   "execution_count": 4,
   "metadata": {
    "_cell_guid": "79c7e3d0-c299-4dcb-8224-4455121ee9b0",
    "_uuid": "30ec2ff064b1f06c1f7cb19d8a2b8c3541d6b305",
    "id": "_R5CizO0vVv_",
    "tags": []
   },
   "outputs": [],
   "source": [
    "import pandas as pd\n",
    "df = pd.read_excel(\"./data/GrammarandProductReviews.xlsx\")"
   ]
  },
  {
   "cell_type": "code",
   "execution_count": 5,
   "metadata": {
    "_cell_guid": "828f63d7-d027-4df1-b3b5-aea024cb8b2f",
    "_uuid": "39adbda66b17e89c8d60bf370d1964763391b7b1",
    "executionInfo": {
     "elapsed": 7,
     "status": "ok",
     "timestamp": 1751502079688,
     "user": {
      "displayName": "Fabien Marpeau",
      "userId": "15210978490258687001"
     },
     "user_tz": 300
    },
    "id": "5yW7keZJvVwA"
   },
   "outputs": [
    {
     "data": {
      "text/html": [
       "<div>\n",
       "<style scoped>\n",
       "    .dataframe tbody tr th:only-of-type {\n",
       "        vertical-align: middle;\n",
       "    }\n",
       "\n",
       "    .dataframe tbody tr th {\n",
       "        vertical-align: top;\n",
       "    }\n",
       "\n",
       "    .dataframe thead th {\n",
       "        text-align: right;\n",
       "    }\n",
       "</style>\n",
       "<table border=\"1\" class=\"dataframe\">\n",
       "  <thead>\n",
       "    <tr style=\"text-align: right;\">\n",
       "      <th></th>\n",
       "      <th>id</th>\n",
       "      <th>brand</th>\n",
       "      <th>categories</th>\n",
       "      <th>dateAdded</th>\n",
       "      <th>dateUpdated</th>\n",
       "      <th>ean</th>\n",
       "      <th>keys</th>\n",
       "      <th>manufacturer</th>\n",
       "      <th>manufacturerNumber</th>\n",
       "      <th>name</th>\n",
       "      <th>...</th>\n",
       "      <th>reviews.id</th>\n",
       "      <th>reviews.numHelpful</th>\n",
       "      <th>reviews.rating</th>\n",
       "      <th>reviews.sourceURLs</th>\n",
       "      <th>reviews.text</th>\n",
       "      <th>reviews.title</th>\n",
       "      <th>reviews.userCity</th>\n",
       "      <th>reviews.userProvince</th>\n",
       "      <th>reviews.username</th>\n",
       "      <th>upc</th>\n",
       "    </tr>\n",
       "  </thead>\n",
       "  <tbody>\n",
       "    <tr>\n",
       "      <th>0</th>\n",
       "      <td>AV13O1A8GV-KLJ3akUyj</td>\n",
       "      <td>Universal Music</td>\n",
       "      <td>Movies, Music &amp; Books,Music,R&amp;b,Movies &amp; TV,Mo...</td>\n",
       "      <td>2017-07-25T00:52:42Z</td>\n",
       "      <td>2018-02-05T08:36:58Z</td>\n",
       "      <td>6.025370e+11</td>\n",
       "      <td>602537205981,universalmusic/14331328,universal...</td>\n",
       "      <td>Universal Music Group / Cash Money</td>\n",
       "      <td>14331328</td>\n",
       "      <td>Pink Friday: Roman Reloaded Re-Up (w/dvd)</td>\n",
       "      <td>...</td>\n",
       "      <td>NaN</td>\n",
       "      <td>0.0</td>\n",
       "      <td>5</td>\n",
       "      <td>https://redsky.target.com/groot-domain-api/v1/...</td>\n",
       "      <td>i love this album. it's very good. more to the...</td>\n",
       "      <td>Just Awesome</td>\n",
       "      <td>Los Angeles</td>\n",
       "      <td>NaN</td>\n",
       "      <td>Joshua</td>\n",
       "      <td>6.025370e+11</td>\n",
       "    </tr>\n",
       "    <tr>\n",
       "      <th>1</th>\n",
       "      <td>AV14LG0R-jtxr-f38QfS</td>\n",
       "      <td>Lundberg</td>\n",
       "      <td>Food,Packaged Foods,Snacks,Crackers,Snacks, Co...</td>\n",
       "      <td>2017-07-25T05:16:03Z</td>\n",
       "      <td>2018-02-05T11:27:45Z</td>\n",
       "      <td>7.341600e+10</td>\n",
       "      <td>lundbergorganiccinnamontoastricecakes/b000fvzw...</td>\n",
       "      <td>Lundberg</td>\n",
       "      <td>574764</td>\n",
       "      <td>Lundberg Organic Cinnamon Toast Rice Cakes</td>\n",
       "      <td>...</td>\n",
       "      <td>100209113.0</td>\n",
       "      <td>NaN</td>\n",
       "      <td>5</td>\n",
       "      <td>https://www.walmart.com/reviews/product/29775278</td>\n",
       "      <td>Good flavor. This review was collected as part...</td>\n",
       "      <td>Good</td>\n",
       "      <td>NaN</td>\n",
       "      <td>NaN</td>\n",
       "      <td>Dorothy W</td>\n",
       "      <td>7.341600e+10</td>\n",
       "    </tr>\n",
       "    <tr>\n",
       "      <th>2</th>\n",
       "      <td>AV14LG0R-jtxr-f38QfS</td>\n",
       "      <td>Lundberg</td>\n",
       "      <td>Food,Packaged Foods,Snacks,Crackers,Snacks, Co...</td>\n",
       "      <td>2017-07-25T05:16:03Z</td>\n",
       "      <td>2018-02-05T11:27:45Z</td>\n",
       "      <td>7.341600e+10</td>\n",
       "      <td>lundbergorganiccinnamontoastricecakes/b000fvzw...</td>\n",
       "      <td>Lundberg</td>\n",
       "      <td>574764</td>\n",
       "      <td>Lundberg Organic Cinnamon Toast Rice Cakes</td>\n",
       "      <td>...</td>\n",
       "      <td>100209113.0</td>\n",
       "      <td>NaN</td>\n",
       "      <td>5</td>\n",
       "      <td>https://www.walmart.com/reviews/product/29775278</td>\n",
       "      <td>Good flavor.</td>\n",
       "      <td>Good</td>\n",
       "      <td>NaN</td>\n",
       "      <td>NaN</td>\n",
       "      <td>Dorothy W</td>\n",
       "      <td>7.341600e+10</td>\n",
       "    </tr>\n",
       "    <tr>\n",
       "      <th>3</th>\n",
       "      <td>AV16khLE-jtxr-f38VFn</td>\n",
       "      <td>K-Y</td>\n",
       "      <td>Personal Care,Medicine Cabinet,Lubricant/Sperm...</td>\n",
       "      <td>2017-07-25T16:26:19Z</td>\n",
       "      <td>2018-02-05T11:25:51Z</td>\n",
       "      <td>6.798193e+10</td>\n",
       "      <td>kylovesensualitypleasuregel/b00u2whx8s,0679819...</td>\n",
       "      <td>K-Y</td>\n",
       "      <td>67981934427</td>\n",
       "      <td>K-Y Love Sensuality Pleasure Gel</td>\n",
       "      <td>...</td>\n",
       "      <td>113026909.0</td>\n",
       "      <td>NaN</td>\n",
       "      <td>1</td>\n",
       "      <td>https://www.walmart.com/reviews/product/43383370</td>\n",
       "      <td>I read through the reviews on here before look...</td>\n",
       "      <td>Disappointed</td>\n",
       "      <td>NaN</td>\n",
       "      <td>NaN</td>\n",
       "      <td>Rebecca</td>\n",
       "      <td>6.798193e+10</td>\n",
       "    </tr>\n",
       "    <tr>\n",
       "      <th>4</th>\n",
       "      <td>AV16khLE-jtxr-f38VFn</td>\n",
       "      <td>K-Y</td>\n",
       "      <td>Personal Care,Medicine Cabinet,Lubricant/Sperm...</td>\n",
       "      <td>2017-07-25T16:26:19Z</td>\n",
       "      <td>2018-02-05T11:25:51Z</td>\n",
       "      <td>6.798193e+10</td>\n",
       "      <td>kylovesensualitypleasuregel/b00u2whx8s,0679819...</td>\n",
       "      <td>K-Y</td>\n",
       "      <td>67981934427</td>\n",
       "      <td>K-Y Love Sensuality Pleasure Gel</td>\n",
       "      <td>...</td>\n",
       "      <td>171267657.0</td>\n",
       "      <td>NaN</td>\n",
       "      <td>1</td>\n",
       "      <td>https://www.walmart.com/reviews/product/43383370</td>\n",
       "      <td>My husband bought this gel for us. The gel cau...</td>\n",
       "      <td>Irritation</td>\n",
       "      <td>NaN</td>\n",
       "      <td>NaN</td>\n",
       "      <td>Walker557</td>\n",
       "      <td>6.798193e+10</td>\n",
       "    </tr>\n",
       "  </tbody>\n",
       "</table>\n",
       "<p>5 rows × 25 columns</p>\n",
       "</div>"
      ],
      "text/plain": [
       "                     id            brand  \\\n",
       "0  AV13O1A8GV-KLJ3akUyj  Universal Music   \n",
       "1  AV14LG0R-jtxr-f38QfS         Lundberg   \n",
       "2  AV14LG0R-jtxr-f38QfS         Lundberg   \n",
       "3  AV16khLE-jtxr-f38VFn              K-Y   \n",
       "4  AV16khLE-jtxr-f38VFn              K-Y   \n",
       "\n",
       "                                          categories             dateAdded  \\\n",
       "0  Movies, Music & Books,Music,R&b,Movies & TV,Mo...  2017-07-25T00:52:42Z   \n",
       "1  Food,Packaged Foods,Snacks,Crackers,Snacks, Co...  2017-07-25T05:16:03Z   \n",
       "2  Food,Packaged Foods,Snacks,Crackers,Snacks, Co...  2017-07-25T05:16:03Z   \n",
       "3  Personal Care,Medicine Cabinet,Lubricant/Sperm...  2017-07-25T16:26:19Z   \n",
       "4  Personal Care,Medicine Cabinet,Lubricant/Sperm...  2017-07-25T16:26:19Z   \n",
       "\n",
       "            dateUpdated           ean  \\\n",
       "0  2018-02-05T08:36:58Z  6.025370e+11   \n",
       "1  2018-02-05T11:27:45Z  7.341600e+10   \n",
       "2  2018-02-05T11:27:45Z  7.341600e+10   \n",
       "3  2018-02-05T11:25:51Z  6.798193e+10   \n",
       "4  2018-02-05T11:25:51Z  6.798193e+10   \n",
       "\n",
       "                                                keys  \\\n",
       "0  602537205981,universalmusic/14331328,universal...   \n",
       "1  lundbergorganiccinnamontoastricecakes/b000fvzw...   \n",
       "2  lundbergorganiccinnamontoastricecakes/b000fvzw...   \n",
       "3  kylovesensualitypleasuregel/b00u2whx8s,0679819...   \n",
       "4  kylovesensualitypleasuregel/b00u2whx8s,0679819...   \n",
       "\n",
       "                         manufacturer manufacturerNumber  \\\n",
       "0  Universal Music Group / Cash Money           14331328   \n",
       "1                            Lundberg             574764   \n",
       "2                            Lundberg             574764   \n",
       "3                                 K-Y        67981934427   \n",
       "4                                 K-Y        67981934427   \n",
       "\n",
       "                                         name  ...   reviews.id  \\\n",
       "0   Pink Friday: Roman Reloaded Re-Up (w/dvd)  ...          NaN   \n",
       "1  Lundberg Organic Cinnamon Toast Rice Cakes  ...  100209113.0   \n",
       "2  Lundberg Organic Cinnamon Toast Rice Cakes  ...  100209113.0   \n",
       "3            K-Y Love Sensuality Pleasure Gel  ...  113026909.0   \n",
       "4            K-Y Love Sensuality Pleasure Gel  ...  171267657.0   \n",
       "\n",
       "  reviews.numHelpful reviews.rating  \\\n",
       "0                0.0              5   \n",
       "1                NaN              5   \n",
       "2                NaN              5   \n",
       "3                NaN              1   \n",
       "4                NaN              1   \n",
       "\n",
       "                                  reviews.sourceURLs  \\\n",
       "0  https://redsky.target.com/groot-domain-api/v1/...   \n",
       "1   https://www.walmart.com/reviews/product/29775278   \n",
       "2   https://www.walmart.com/reviews/product/29775278   \n",
       "3   https://www.walmart.com/reviews/product/43383370   \n",
       "4   https://www.walmart.com/reviews/product/43383370   \n",
       "\n",
       "                                        reviews.text  reviews.title  \\\n",
       "0  i love this album. it's very good. more to the...   Just Awesome   \n",
       "1  Good flavor. This review was collected as part...           Good   \n",
       "2                                       Good flavor.           Good   \n",
       "3  I read through the reviews on here before look...   Disappointed   \n",
       "4  My husband bought this gel for us. The gel cau...     Irritation   \n",
       "\n",
       "   reviews.userCity  reviews.userProvince reviews.username           upc  \n",
       "0       Los Angeles                   NaN           Joshua  6.025370e+11  \n",
       "1               NaN                   NaN        Dorothy W  7.341600e+10  \n",
       "2               NaN                   NaN        Dorothy W  7.341600e+10  \n",
       "3               NaN                   NaN          Rebecca  6.798193e+10  \n",
       "4               NaN                   NaN        Walker557  6.798193e+10  \n",
       "\n",
       "[5 rows x 25 columns]"
      ]
     },
     "execution_count": 5,
     "metadata": {},
     "output_type": "execute_result"
    }
   ],
   "source": [
    "df.head()"
   ]
  },
  {
   "cell_type": "markdown",
   "metadata": {
    "_cell_guid": "670f050c-7582-40a6-b269-fac08d545105",
    "_uuid": "0d14091ace3a490d7f14fdfd32a42777d2d47f75",
    "id": "2ktQKg1LvVwC"
   },
   "source": [
    "We will only consider the  text of the reviews and the ratings.\n",
    "\n",
    "We are going to make an approximation in order to predict from the text the satisfaction level of the customer."
   ]
  },
  {
   "cell_type": "code",
   "execution_count": 6,
   "metadata": {},
   "outputs": [
    {
     "data": {
      "text/html": [
       "<div>\n",
       "<style scoped>\n",
       "    .dataframe tbody tr th:only-of-type {\n",
       "        vertical-align: middle;\n",
       "    }\n",
       "\n",
       "    .dataframe tbody tr th {\n",
       "        vertical-align: top;\n",
       "    }\n",
       "\n",
       "    .dataframe thead th {\n",
       "        text-align: right;\n",
       "    }\n",
       "</style>\n",
       "<table border=\"1\" class=\"dataframe\">\n",
       "  <thead>\n",
       "    <tr style=\"text-align: right;\">\n",
       "      <th></th>\n",
       "      <th>ean</th>\n",
       "      <th>reviews.didPurchase</th>\n",
       "      <th>reviews.doRecommend</th>\n",
       "      <th>reviews.id</th>\n",
       "      <th>reviews.numHelpful</th>\n",
       "      <th>reviews.rating</th>\n",
       "      <th>upc</th>\n",
       "    </tr>\n",
       "  </thead>\n",
       "  <tbody>\n",
       "    <tr>\n",
       "      <th>count</th>\n",
       "      <td>6.866000e+03</td>\n",
       "      <td>3637.000000</td>\n",
       "      <td>9442.000000</td>\n",
       "      <td>3.637000e+03</td>\n",
       "      <td>4244.000000</td>\n",
       "      <td>10001.000000</td>\n",
       "      <td>1.000100e+04</td>\n",
       "    </tr>\n",
       "    <tr>\n",
       "      <th>mean</th>\n",
       "      <td>1.084306e+35</td>\n",
       "      <td>0.136651</td>\n",
       "      <td>0.955624</td>\n",
       "      <td>7.809612e+07</td>\n",
       "      <td>0.474552</td>\n",
       "      <td>4.480752</td>\n",
       "      <td>1.407512e+56</td>\n",
       "    </tr>\n",
       "    <tr>\n",
       "      <th>std</th>\n",
       "      <td>6.292871e+35</td>\n",
       "      <td>0.343526</td>\n",
       "      <td>0.205940</td>\n",
       "      <td>3.962908e+07</td>\n",
       "      <td>3.732331</td>\n",
       "      <td>0.852088</td>\n",
       "      <td>3.144459e+57</td>\n",
       "    </tr>\n",
       "    <tr>\n",
       "      <th>min</th>\n",
       "      <td>7.991027e+08</td>\n",
       "      <td>0.000000</td>\n",
       "      <td>0.000000</td>\n",
       "      <td>2.187400e+04</td>\n",
       "      <td>0.000000</td>\n",
       "      <td>1.000000</td>\n",
       "      <td>7.991027e+08</td>\n",
       "    </tr>\n",
       "    <tr>\n",
       "      <th>25%</th>\n",
       "      <td>4.460002e+10</td>\n",
       "      <td>0.000000</td>\n",
       "      <td>1.000000</td>\n",
       "      <td>6.531562e+07</td>\n",
       "      <td>0.000000</td>\n",
       "      <td>4.000000</td>\n",
       "      <td>4.339641e+10</td>\n",
       "    </tr>\n",
       "    <tr>\n",
       "      <th>50%</th>\n",
       "      <td>4.460002e+10</td>\n",
       "      <td>0.000000</td>\n",
       "      <td>1.000000</td>\n",
       "      <td>7.111093e+07</td>\n",
       "      <td>0.000000</td>\n",
       "      <td>5.000000</td>\n",
       "      <td>4.460002e+10</td>\n",
       "    </tr>\n",
       "    <tr>\n",
       "      <th>75%</th>\n",
       "      <td>7.560901e+10</td>\n",
       "      <td>0.000000</td>\n",
       "      <td>1.000000</td>\n",
       "      <td>1.028082e+08</td>\n",
       "      <td>0.000000</td>\n",
       "      <td>5.000000</td>\n",
       "      <td>7.965601e+10</td>\n",
       "    </tr>\n",
       "    <tr>\n",
       "      <th>max</th>\n",
       "      <td>3.760024e+36</td>\n",
       "      <td>1.000000</td>\n",
       "      <td>1.000000</td>\n",
       "      <td>1.890978e+08</td>\n",
       "      <td>141.000000</td>\n",
       "      <td>5.000000</td>\n",
       "      <td>7.038264e+58</td>\n",
       "    </tr>\n",
       "  </tbody>\n",
       "</table>\n",
       "</div>"
      ],
      "text/plain": [
       "                ean  reviews.didPurchase  reviews.doRecommend    reviews.id  \\\n",
       "count  6.866000e+03          3637.000000          9442.000000  3.637000e+03   \n",
       "mean   1.084306e+35             0.136651             0.955624  7.809612e+07   \n",
       "std    6.292871e+35             0.343526             0.205940  3.962908e+07   \n",
       "min    7.991027e+08             0.000000             0.000000  2.187400e+04   \n",
       "25%    4.460002e+10             0.000000             1.000000  6.531562e+07   \n",
       "50%    4.460002e+10             0.000000             1.000000  7.111093e+07   \n",
       "75%    7.560901e+10             0.000000             1.000000  1.028082e+08   \n",
       "max    3.760024e+36             1.000000             1.000000  1.890978e+08   \n",
       "\n",
       "       reviews.numHelpful  reviews.rating           upc  \n",
       "count         4244.000000    10001.000000  1.000100e+04  \n",
       "mean             0.474552        4.480752  1.407512e+56  \n",
       "std              3.732331        0.852088  3.144459e+57  \n",
       "min              0.000000        1.000000  7.991027e+08  \n",
       "25%              0.000000        4.000000  4.339641e+10  \n",
       "50%              0.000000        5.000000  4.460002e+10  \n",
       "75%              0.000000        5.000000  7.965601e+10  \n",
       "max            141.000000        5.000000  7.038264e+58  "
      ]
     },
     "execution_count": 6,
     "metadata": {},
     "output_type": "execute_result"
    }
   ],
   "source": [
    "df.describe()"
   ]
  },
  {
   "cell_type": "code",
   "execution_count": 7,
   "metadata": {
    "_cell_guid": "695fe92b-1d4f-4dff-b50e-d590ea6a59f3",
    "_uuid": "5546579973c75e020860914aeb40928c820f1141",
    "executionInfo": {
     "elapsed": 61,
     "status": "ok",
     "timestamp": 1751502088186,
     "user": {
      "displayName": "Fabien Marpeau",
      "userId": "15210978490258687001"
     },
     "user_tz": 300
    },
    "id": "97IbOVIBvVwD"
   },
   "outputs": [
    {
     "data": {
      "text/plain": [
       "(array([ 249.,    0.,  145.,    0.,    0.,  453.,    0., 2856.,    0.,\n",
       "        6298.]),\n",
       " array([1. , 1.4, 1.8, 2.2, 2.6, 3. , 3.4, 3.8, 4.2, 4.6, 5. ]),\n",
       " <BarContainer object of 10 artists>)"
      ]
     },
     "execution_count": 7,
     "metadata": {},
     "output_type": "execute_result"
    },
    {
     "data": {
      "image/png": "[encoded data removed]",
      "text/plain": [
       "<Figure size 640x480 with 1 Axes>"
      ]
     },
     "metadata": {},
     "output_type": "display_data"
    }
   ],
   "source": [
    "plt.hist(df['reviews.rating'])"
   ]
  },
  {
   "cell_type": "markdown",
   "metadata": {
    "id": "UETjdCD6vOP6"
   },
   "source": [
    "#### Observation\n",
    "- The histogram plot shows the distribution/count of each ratings in the dataset"
   ]
  },
  {
   "cell_type": "markdown",
   "metadata": {
    "id": "z-VdqjidlOgL"
   },
   "source": [
    "#### 2. Create a feature named target by considering that a customer is pleased by the product if the rating is higher than 3. Any rating below 4 shows that the customer doesn’t like the product. Use column reviews.rating to create feature targe"
   ]
  },
  {
   "cell_type": "code",
   "execution_count": 8,
   "metadata": {
    "_cell_guid": "34fdce19-0b69-4f04-95d5-13169a8e983e",
    "_uuid": "bdd28d948f50acb24b3e66de916816eda354a9d3",
    "id": "IK51yGZ0vVwG",
    "tags": []
   },
   "outputs": [],
   "source": [
    "df['target'] = df['reviews.rating']<4"
   ]
  },
  {
   "cell_type": "markdown",
   "metadata": {
    "id": "Ofty6RajosQQ"
   },
   "source": [
    "Those reviews > 4 will be False and those reviews < 4 will be True"
   ]
  },
  {
   "cell_type": "code",
   "execution_count": 9,
   "metadata": {
    "_cell_guid": "fad5d0aa-a230-4c28-957a-a6dd6a343cdb",
    "_uuid": "3a1729bc9d2be41efef438bdc87603c67b55cd85",
    "executionInfo": {
     "elapsed": 6,
     "status": "ok",
     "timestamp": 1751502095347,
     "user": {
      "displayName": "Fabien Marpeau",
      "userId": "15210978490258687001"
     },
     "user_tz": 300
    },
    "id": "f554qqy9vVwH"
   },
   "outputs": [
    {
     "data": {
      "text/plain": [
       "(array([9154.,    0.,    0.,    0.,    0.,    0.,    0.,    0.,    0.,\n",
       "         847.]),\n",
       " array([0. , 0.1, 0.2, 0.3, 0.4, 0.5, 0.6, 0.7, 0.8, 0.9, 1. ]),\n",
       " <BarContainer object of 10 artists>)"
      ]
     },
     "execution_count": 9,
     "metadata": {},
     "output_type": "execute_result"
    },
    {
     "data": {
      "image/png": "[encoded data removed]",
      "text/plain": [
       "<Figure size 640x480 with 1 Axes>"
      ]
     },
     "metadata": {},
     "output_type": "display_data"
    }
   ],
   "source": [
    "plt.hist(df['target'].astype(str))"
   ]
  },
  {
   "cell_type": "markdown",
   "metadata": {
    "id": "oBOG1AOGvYoG"
   },
   "source": [
    "#### Observation\n",
    "- The histogram plot shows the distribution of our good and bad reviews\n"
   ]
  },
  {
   "cell_type": "markdown",
   "metadata": {
    "_cell_guid": "34fd3eb7-0406-4d06-8109-bf5f408b32e3",
    "_uuid": "800fba7a673cf3039bde9a030e661e24c52f3db5",
    "id": "KczGhoezvVwI"
   },
   "source": [
    "We can see that we have a lot of \"happy\" customer due to our target distribution"
   ]
  },
  {
   "cell_type": "markdown",
   "metadata": {
    "id": "iSmb7_1YlnfN"
   },
   "source": [
    "#### 3. Create your X with column reviews.text and Y with column target."
   ]
  },
  {
   "cell_type": "code",
   "execution_count": 10,
   "metadata": {},
   "outputs": [],
   "source": [
    "X = df[\"reviews.text\"]\n",
    "Y = df[\"target\"]"
   ]
  },
  {
   "cell_type": "markdown",
   "metadata": {},
   "source": [
    "#### 4. Split your dataset into train and test in the ratio 80:20"
   ]
  },
  {
   "cell_type": "code",
   "execution_count": 11,
   "metadata": {
    "_cell_guid": "73903a75-e064-46e8-a5cc-028a99b72ad6",
    "_uuid": "5a3ffe2bd4a09f6c5abeadc16d3d9524471159ed",
    "id": "tArOyUL2vVwI",
    "tags": []
   },
   "outputs": [],
   "source": [
    "train_text, test_text, train_y, test_y = train_test_split(df['reviews.text'],df['target'],test_size = 0.2)"
   ]
  },
  {
   "cell_type": "code",
   "execution_count": 12,
   "metadata": {
    "_cell_guid": "d0ef2ffc-683d-4786-a461-1713edc595f3",
    "_uuid": "30c31eac9d5a2b24b4f0613bffb743445beb1b9e",
    "executionInfo": {
     "elapsed": 7,
     "status": "ok",
     "timestamp": 1751502102698,
     "user": {
      "displayName": "Fabien Marpeau",
      "userId": "15210978490258687001"
     },
     "user_tz": 300
    },
    "id": "g4CLTLgTvVwJ"
   },
   "outputs": [
    {
     "data": {
      "text/plain": [
       "(8000,)"
      ]
     },
     "execution_count": 12,
     "metadata": {},
     "output_type": "execute_result"
    }
   ],
   "source": [
    "train_text.shape"
   ]
  },
  {
   "cell_type": "markdown",
   "metadata": {
    "id": "iRwdxAOrlxYu"
   },
   "source": [
    "#### 5. Use tokenizer from Keras to vectorize the text samples into a 2D integer tensor with 20000 words. Fit your tokenizer on train data. (MAX_NB_WORDS = 20000)."
   ]
  },
  {
   "cell_type": "markdown",
   "metadata": {
    "_cell_guid": "913dc155-043c-4071-90c5-a51deefc029e",
    "_uuid": "e8c8b0daadfbe38e62132ffa852dc58cfcfc5f07",
    "id": "6REgpXlXvVwK"
   },
   "source": [
    "Preprocessing text for the (supervised)\n",
    "\n",
    "Raw text requires (sometimes a lot of) preprocessing.\n",
    "\n",
    "The following cells uses Keras to preprocess text:\n",
    "- using a tokenizer. You may use different tokenizers (from scikit-learn, NLTK, custom Python function etc.). This converts the texts into sequences of indices representing the `20000` most frequent words\n",
    "- sequences have different lengths, so we pad them (add 0s at the end until the sequence is of length `1000`)\n",
    "- we convert the output classes as 1-hot encodings"
   ]
  },
  {
   "cell_type": "code",
   "execution_count": 13,
   "metadata": {},
   "outputs": [
    {
     "data": {
      "text/plain": [
       "'Good flavor. This review was collected as part of a promotion.'"
      ]
     },
     "execution_count": 13,
     "metadata": {},
     "output_type": "execute_result"
    }
   ],
   "source": [
    "X[1]"
   ]
  },
  {
   "cell_type": "code",
   "execution_count": 14,
   "metadata": {
    "_cell_guid": "0791f75d-8b9e-4ee4-ac7e-dd9a760e799e",
    "_uuid": "047e22e4e3f0f203aa8d8cbcc611d230c91827b4",
    "id": "efUuSoTivVwL"
   },
   "outputs": [
    {
     "data": {
      "text/plain": [
       "{'the': 1,\n",
       " 'i': 2,\n",
       " 'a': 3,\n",
       " 'and': 4,\n",
       " 'this': 5,\n",
       " 'to': 6,\n",
       " 'it': 7,\n",
       " 'of': 8,\n",
       " 'was': 9,\n",
       " 'as': 10,\n",
       " 'my': 11,\n",
       " 'is': 12,\n",
       " 'for': 13,\n",
       " 'part': 14,\n",
       " 'review': 15,\n",
       " 'collected': 16,\n",
       " 'promotion': 17,\n",
       " 'in': 18,\n",
       " 'great': 19,\n",
       " 'have': 20,\n",
       " 'love': 21,\n",
       " 'use': 22,\n",
       " 'that': 23,\n",
       " 'with': 24,\n",
       " 'product': 25,\n",
       " 'on': 26,\n",
       " 'movie': 27,\n",
       " 'are': 28,\n",
       " 'but': 29,\n",
       " 'so': 30,\n",
       " 'not': 31,\n",
       " 'wipes': 32,\n",
       " 'you': 33,\n",
       " 'all': 34,\n",
       " 'good': 35,\n",
       " 'they': 36,\n",
       " 'clean': 37,\n",
       " 'like': 38,\n",
       " 'clorox': 39,\n",
       " 'one': 40,\n",
       " 'very': 41,\n",
       " 'these': 42,\n",
       " 'up': 43,\n",
       " 'them': 44,\n",
       " 'easy': 45,\n",
       " 'at': 46,\n",
       " 'when': 47,\n",
       " 'just': 48,\n",
       " 'hair': 49,\n",
       " 'be': 50,\n",
       " 'really': 51,\n",
       " 'using': 52,\n",
       " 'can': 53,\n",
       " 'me': 54,\n",
       " 'has': 55,\n",
       " 'will': 56,\n",
       " 'out': 57,\n",
       " 'well': 58,\n",
       " \"it's\": 59,\n",
       " 'skin': 60,\n",
       " 'would': 61,\n",
       " 'cleaning': 62,\n",
       " 'had': 63,\n",
       " 'time': 64,\n",
       " 'if': 65,\n",
       " 'movies': 66,\n",
       " 'or': 67,\n",
       " 'first': 68,\n",
       " 'get': 69,\n",
       " 'used': 70,\n",
       " 'we': 71,\n",
       " 'only': 72,\n",
       " 'funny': 73,\n",
       " 'after': 74,\n",
       " 'from': 75,\n",
       " 'also': 76,\n",
       " 'always': 77,\n",
       " 'best': 78,\n",
       " 'house': 79,\n",
       " 'vacuum': 80,\n",
       " 'because': 81,\n",
       " 'been': 82,\n",
       " 'price': 83,\n",
       " 'years': 84,\n",
       " 'am': 85,\n",
       " 'keep': 86,\n",
       " 'smell': 87,\n",
       " 'do': 88,\n",
       " 'more': 89,\n",
       " 'an': 90,\n",
       " 'no': 91,\n",
       " 'much': 92,\n",
       " 'other': 93,\n",
       " 'products': 94,\n",
       " 'kitchen': 95,\n",
       " 'your': 96,\n",
       " 'than': 97,\n",
       " 'too': 98,\n",
       " 'over': 99,\n",
       " 'recommend': 100,\n",
       " 'buy': 101,\n",
       " 'better': 102,\n",
       " 'about': 103,\n",
       " 'work': 104,\n",
       " 'even': 105,\n",
       " \"don't\": 106,\n",
       " 'go': 107,\n",
       " 'watch': 108,\n",
       " 'what': 109,\n",
       " 'now': 110,\n",
       " 'bathroom': 111,\n",
       " 'some': 112,\n",
       " 'feel': 113,\n",
       " 'action': 114,\n",
       " 'works': 115,\n",
       " 'makes': 116,\n",
       " 'every': 117,\n",
       " 'convenient': 118,\n",
       " 'how': 119,\n",
       " 'there': 120,\n",
       " 'any': 121,\n",
       " 'little': 122,\n",
       " 'home': 123,\n",
       " 'its': 124,\n",
       " 'everything': 125,\n",
       " 'make': 126,\n",
       " \"i've\": 127,\n",
       " \"i'm\": 128,\n",
       " 'way': 129,\n",
       " 'does': 130,\n",
       " 'wipe': 131,\n",
       " 'kids': 132,\n",
       " 'disinfecting': 133,\n",
       " '2': 134,\n",
       " 'nice': 135,\n",
       " 'conditioner': 136,\n",
       " 'did': 137,\n",
       " 'family': 138,\n",
       " 'quick': 139,\n",
       " 'around': 140,\n",
       " 'down': 141,\n",
       " 'loved': 142,\n",
       " 'many': 143,\n",
       " 'bought': 144,\n",
       " 'see': 145,\n",
       " 'day': 146,\n",
       " 'know': 147,\n",
       " 'windex': 148,\n",
       " 'dry': 149,\n",
       " 'old': 150,\n",
       " 'job': 151,\n",
       " 'collection': 152,\n",
       " 'our': 153,\n",
       " 'need': 154,\n",
       " 'off': 155,\n",
       " 'again': 156,\n",
       " 'by': 157,\n",
       " 'without': 158,\n",
       " 'still': 159,\n",
       " 'then': 160,\n",
       " 'series': 161,\n",
       " 'scent': 162,\n",
       " 'smells': 163,\n",
       " 'set': 164,\n",
       " 'got': 165,\n",
       " 'cream': 166,\n",
       " 'tried': 167,\n",
       " 'which': 168,\n",
       " 'shampoo': 169,\n",
       " 'back': 170,\n",
       " 'germs': 171,\n",
       " 'fun': 172,\n",
       " 'were': 173,\n",
       " 'lot': 174,\n",
       " 'new': 175,\n",
       " 'long': 176,\n",
       " 'look': 177,\n",
       " 'hoover': 178,\n",
       " 'find': 179,\n",
       " 'never': 180,\n",
       " 'especially': 181,\n",
       " 'made': 182,\n",
       " 'could': 183,\n",
       " 'since': 184,\n",
       " 'free': 185,\n",
       " 'awesome': 186,\n",
       " 'cleans': 187,\n",
       " 'soft': 188,\n",
       " 'definitely': 189,\n",
       " 'canister': 190,\n",
       " 'fresh': 191,\n",
       " 'amazing': 192,\n",
       " 'two': 193,\n",
       " 'must': 194,\n",
       " 'think': 195,\n",
       " 'light': 196,\n",
       " 'same': 197,\n",
       " 'enjoyed': 198,\n",
       " '5': 199,\n",
       " \"can't\": 200,\n",
       " 'ever': 201,\n",
       " 'right': 202,\n",
       " 'feels': 203,\n",
       " 'disinfect': 204,\n",
       " 'face': 205,\n",
       " \"doesn't\": 206,\n",
       " 'worth': 207,\n",
       " 'their': 208,\n",
       " 'few': 209,\n",
       " 'original': 210,\n",
       " 'try': 211,\n",
       " 'comedy': 212,\n",
       " 'enjoy': 213,\n",
       " 'upright': 214,\n",
       " 'fan': 215,\n",
       " 'leaves': 216,\n",
       " 'resident': 217,\n",
       " 'hard': 218,\n",
       " 'evil': 219,\n",
       " 'looking': 220,\n",
       " 'year': 221,\n",
       " 'before': 222,\n",
       " 'messes': 223,\n",
       " 'both': 224,\n",
       " 'things': 225,\n",
       " 'smooth': 226,\n",
       " 'car': 227,\n",
       " 'excellent': 228,\n",
       " \"didn't\": 229,\n",
       " 'quality': 230,\n",
       " 'into': 231,\n",
       " 'cast': 232,\n",
       " 'surfaces': 233,\n",
       " 'cleaner': 234,\n",
       " 'olay': 235,\n",
       " 'ray': 236,\n",
       " 'most': 237,\n",
       " 'leave': 238,\n",
       " 'who': 239,\n",
       " 'want': 240,\n",
       " 'times': 241,\n",
       " 'found': 242,\n",
       " 'done': 243,\n",
       " 'while': 244,\n",
       " '3': 245,\n",
       " 'though': 246,\n",
       " 'help': 247,\n",
       " 'brand': 248,\n",
       " 'big': 249,\n",
       " 'film': 250,\n",
       " 'own': 251,\n",
       " 'blu': 252,\n",
       " 'bottle': 253,\n",
       " 'perfect': 254,\n",
       " 'room': 255,\n",
       " 'wonderful': 256,\n",
       " 'something': 257,\n",
       " 'small': 258,\n",
       " 'each': 259,\n",
       " 'show': 260,\n",
       " 'highly': 261,\n",
       " 'happy': 262,\n",
       " 'having': 263,\n",
       " 'those': 264,\n",
       " 'being': 265,\n",
       " 'last': 266,\n",
       " 'say': 267,\n",
       " 'different': 268,\n",
       " 'away': 269,\n",
       " 'carpet': 270,\n",
       " 'season': 271,\n",
       " 'another': 272,\n",
       " 'story': 273,\n",
       " 'anything': 274,\n",
       " 'bit': 275,\n",
       " 'whole': 276,\n",
       " 'pretty': 277,\n",
       " 'comes': 278,\n",
       " 'folder': 279,\n",
       " 'thought': 280,\n",
       " 'thing': 281,\n",
       " 'everyday': 282,\n",
       " 'watching': 283,\n",
       " 'favorite': 284,\n",
       " 'less': 285,\n",
       " 'line': 286,\n",
       " 'gets': 287,\n",
       " 'enough': 288,\n",
       " 'come': 289,\n",
       " 'sequel': 290,\n",
       " 'lightweight': 291,\n",
       " 'she': 292,\n",
       " 'feeling': 293,\n",
       " 'bad': 294,\n",
       " 'actors': 295,\n",
       " '1': 296,\n",
       " 'together': 297,\n",
       " 'seen': 298,\n",
       " 'he': 299,\n",
       " 'folders': 300,\n",
       " 'counters': 301,\n",
       " 'top': 302,\n",
       " 'through': 303,\n",
       " 'put': 304,\n",
       " 'purchase': 305,\n",
       " 'bag': 306,\n",
       " 'quickly': 307,\n",
       " 'wish': 308,\n",
       " 'getting': 309,\n",
       " 'liked': 310,\n",
       " 'looks': 311,\n",
       " 'chili': 312,\n",
       " 'deal': 313,\n",
       " 'going': 314,\n",
       " 'daily': 315,\n",
       " 'handy': 316,\n",
       " 'everyone': 317,\n",
       " 'keeps': 318,\n",
       " 'came': 319,\n",
       " 'mess': 320,\n",
       " 'age': 321,\n",
       " 'characters': 322,\n",
       " 'lemon': 323,\n",
       " 'purchased': 324,\n",
       " 'felt': 325,\n",
       " 'absolutely': 326,\n",
       " 'deep': 327,\n",
       " 'almost': 328,\n",
       " 'once': 329,\n",
       " 'give': 330,\n",
       " 'store': 331,\n",
       " 'actually': 332,\n",
       " 'take': 333,\n",
       " 'box': 334,\n",
       " 'sure': 335,\n",
       " 'easily': 336,\n",
       " 'glass': 337,\n",
       " 'hilarious': 338,\n",
       " 'windows': 339,\n",
       " 'thanks': 340,\n",
       " 'disinfects': 341,\n",
       " 'lots': 342,\n",
       " 'super': 343,\n",
       " 'such': 344,\n",
       " 'far': 345,\n",
       " 'hand': 346,\n",
       " 'where': 347,\n",
       " 'color': 348,\n",
       " 'friends': 349,\n",
       " 'helps': 350,\n",
       " 'power': 351,\n",
       " 'full': 352,\n",
       " 'suction': 353,\n",
       " 'entertaining': 354,\n",
       " 'dvd': 355,\n",
       " 'value': 356,\n",
       " 'second': 357,\n",
       " 'however': 358,\n",
       " 'regenerist': 359,\n",
       " 'etc': 360,\n",
       " 'results': 361,\n",
       " 'counter': 362,\n",
       " 'end': 363,\n",
       " 'his': 364,\n",
       " 'left': 365,\n",
       " 'husband': 366,\n",
       " 'easier': 367,\n",
       " 'children': 368,\n",
       " 'people': 369,\n",
       " 'saw': 370,\n",
       " 'red': 371,\n",
       " 'her': 372,\n",
       " 'making': 373,\n",
       " 'glad': 374,\n",
       " 'streaks': 375,\n",
       " 'able': 376,\n",
       " '4': 377,\n",
       " 'depp': 378,\n",
       " 'paper': 379,\n",
       " 'anyone': 380,\n",
       " 'high': 381,\n",
       " 'file': 382,\n",
       " 'lotion': 383,\n",
       " 'nothing': 384,\n",
       " 'fast': 385,\n",
       " 'humor': 386,\n",
       " 'stuff': 387,\n",
       " 'plus': 388,\n",
       " 'life': 389,\n",
       " 'overall': 390,\n",
       " 'spray': 391,\n",
       " 'watched': 392,\n",
       " 'night': 393,\n",
       " 'worked': 394,\n",
       " 'thick': 395,\n",
       " 'hydration': 396,\n",
       " 'everywhere': 397,\n",
       " 'wife': 398,\n",
       " 'laugh': 399,\n",
       " 'greasy': 400,\n",
       " 'loves': 401,\n",
       " 'wash': 402,\n",
       " 'should': 403,\n",
       " 'days': 404,\n",
       " 'under': 405,\n",
       " 'vac': 406,\n",
       " 'else': 407,\n",
       " 'goes': 408,\n",
       " 'johnny': 409,\n",
       " 'brands': 410,\n",
       " 'wanted': 411,\n",
       " 'week': 412,\n",
       " 'floor': 413,\n",
       " 'bathrooms': 414,\n",
       " 'smelling': 415,\n",
       " 'weeks': 416,\n",
       " 'wait': 417,\n",
       " 'money': 418,\n",
       " 'plot': 419,\n",
       " 'handle': 420,\n",
       " 'quite': 421,\n",
       " 'laughs': 422,\n",
       " 'during': 423,\n",
       " \"couldn't\": 424,\n",
       " 'several': 425,\n",
       " 'stairs': 426,\n",
       " 'buying': 427,\n",
       " 'grab': 428,\n",
       " 'thank': 429,\n",
       " 'digital': 430,\n",
       " 'films': 431,\n",
       " 'flu': 432,\n",
       " 'area': 433,\n",
       " 'fantastic': 434,\n",
       " 'carry': 435,\n",
       " 'bags': 436,\n",
       " 'surface': 437,\n",
       " 'disappointed': 438,\n",
       " 'tell': 439,\n",
       " 'difference': 440,\n",
       " 'bruce': 441,\n",
       " 'organize': 442,\n",
       " 'place': 443,\n",
       " 'started': 444,\n",
       " 'entire': 445,\n",
       " 'willis': 446,\n",
       " 'door': 447,\n",
       " 'platinum': 448,\n",
       " 'kind': 449,\n",
       " 'change': 450,\n",
       " 'pantene': 451,\n",
       " 'yet': 452,\n",
       " 'vacuums': 453,\n",
       " 'daughter': 454,\n",
       " 'dark': 455,\n",
       " 'live': 456,\n",
       " 'others': 457,\n",
       " 'needed': 458,\n",
       " 'body': 459,\n",
       " 'needs': 460,\n",
       " 'strong': 461,\n",
       " 'dirt': 462,\n",
       " 'wedding': 463,\n",
       " 'instead': 464,\n",
       " 'seems': 465,\n",
       " 'looked': 466,\n",
       " 'powerful': 467,\n",
       " 'until': 468,\n",
       " 'moisturizer': 469,\n",
       " 'heavy': 470,\n",
       " 'volume': 471,\n",
       " 'received': 472,\n",
       " 'couple': 473,\n",
       " 'sale': 474,\n",
       " 'bleach': 475,\n",
       " 'mom': 476,\n",
       " 'continue': 477,\n",
       " 'type': 478,\n",
       " 'usually': 479,\n",
       " 'convenience': 480,\n",
       " 'trust': 481,\n",
       " \"won't\": 482,\n",
       " 'fine': 483,\n",
       " 'disinfected': 484,\n",
       " 'ok': 485,\n",
       " 'formula': 486,\n",
       " 'expensive': 487,\n",
       " 'spills': 488,\n",
       " 'tv': 489,\n",
       " \"wasn't\": 490,\n",
       " 'greek': 491,\n",
       " 'healthy': 492,\n",
       " 'problem': 493,\n",
       " '6': 494,\n",
       " 'truly': 495,\n",
       " 'low': 496,\n",
       " 'germ': 497,\n",
       " 'real': 498,\n",
       " 'hands': 499,\n",
       " 'separate': 500,\n",
       " 'add': 501,\n",
       " 'recommended': 502,\n",
       " 'areas': 503,\n",
       " 'dust': 504,\n",
       " 'dog': 505,\n",
       " \"that's\": 506,\n",
       " 'already': 507,\n",
       " 'young': 508,\n",
       " 'parts': 509,\n",
       " 'decided': 510,\n",
       " 'extremely': 511,\n",
       " 'dogs': 512,\n",
       " 'went': 513,\n",
       " 'finish': 514,\n",
       " 'may': 515,\n",
       " 'often': 516,\n",
       " 'son': 517,\n",
       " 'floors': 518,\n",
       " 'next': 519,\n",
       " 'uses': 520,\n",
       " 'fact': 521,\n",
       " 'expected': 522,\n",
       " 'water': 523,\n",
       " 'weight': 524,\n",
       " 'extra': 525,\n",
       " 'cold': 526,\n",
       " 'keeping': 527,\n",
       " 'classroom': 528,\n",
       " 'taste': 529,\n",
       " 'pick': 530,\n",
       " '15': 531,\n",
       " 'shower': 532,\n",
       " 'stop': 533,\n",
       " 'noticed': 534,\n",
       " 'three': 535,\n",
       " 'why': 536,\n",
       " 'ups': 537,\n",
       " 'sink': 538,\n",
       " 'tops': 539,\n",
       " 'office': 540,\n",
       " 'side': 541,\n",
       " 'school': 542,\n",
       " 'items': 543,\n",
       " \"isn't\": 544,\n",
       " 'said': 545,\n",
       " 'safe': 546,\n",
       " 'took': 547,\n",
       " 'pleased': 548,\n",
       " 'shine': 549,\n",
       " 'cleaned': 550,\n",
       " 'wiping': 551,\n",
       " 'months': 552,\n",
       " 'kept': 553,\n",
       " 'throughout': 554,\n",
       " 'mirrors': 555,\n",
       " 'trying': 556,\n",
       " \"you're\": 557,\n",
       " 'laughing': 558,\n",
       " 'streak': 559,\n",
       " 'sometimes': 560,\n",
       " 'ago': 561,\n",
       " 'least': 562,\n",
       " 'multiple': 563,\n",
       " 'behind': 564,\n",
       " 'here': 565,\n",
       " 'video': 566,\n",
       " 'finally': 567,\n",
       " 'household': 568,\n",
       " 'past': 569,\n",
       " \"wouldn't\": 570,\n",
       " 'gives': 571,\n",
       " 'huge': 572,\n",
       " 'flavor': 573,\n",
       " 'self': 574,\n",
       " 'oil': 575,\n",
       " 'run': 576,\n",
       " 'five': 577,\n",
       " 'enjoyable': 578,\n",
       " 'us': 579,\n",
       " 'reviews': 580,\n",
       " 'ease': 581,\n",
       " 'packed': 582,\n",
       " 'toilet': 583,\n",
       " 'although': 584,\n",
       " 'simple': 585,\n",
       " 'longer': 586,\n",
       " 'files': 587,\n",
       " 'container': 588,\n",
       " 'says': 589,\n",
       " 'boys': 590,\n",
       " 'older': 591,\n",
       " 'takes': 592,\n",
       " 'hold': 593,\n",
       " 'v': 594,\n",
       " 'believe': 595,\n",
       " 'tan': 596,\n",
       " 'within': 597,\n",
       " 'stay': 598,\n",
       " 'idea': 599,\n",
       " 'regenerating': 600,\n",
       " 'sick': 601,\n",
       " 'size': 602,\n",
       " 'name': 603,\n",
       " '10': 604,\n",
       " 'between': 605,\n",
       " 'final': 606,\n",
       " 'hope': 607,\n",
       " 'portable': 608,\n",
       " 'working': 609,\n",
       " 'unit': 610,\n",
       " \"they're\": 611,\n",
       " 'completely': 612,\n",
       " 'wrong': 613,\n",
       " 'prefer': 614,\n",
       " 'probably': 615,\n",
       " 'younger': 616,\n",
       " 'regular': 617,\n",
       " 'read': 618,\n",
       " 'natural': 619,\n",
       " 'gift': 620,\n",
       " 'coming': 621,\n",
       " 'stains': 622,\n",
       " 'ones': 623,\n",
       " 'machine': 624,\n",
       " 'changed': 625,\n",
       " 'baby': 626,\n",
       " 'documents': 627,\n",
       " 'touch': 628,\n",
       " 'effective': 629,\n",
       " 'please': 630,\n",
       " 'pro': 631,\n",
       " 'pull': 632,\n",
       " 'scenes': 633,\n",
       " 'franchise': 634,\n",
       " 'wrinkles': 635,\n",
       " \"haven't\": 636,\n",
       " \"i'd\": 637,\n",
       " 'special': 638,\n",
       " 'non': 639,\n",
       " 'amount': 640,\n",
       " 'cannot': 641,\n",
       " 'care': 642,\n",
       " 'grease': 643,\n",
       " 'item': 644,\n",
       " 'based': 645,\n",
       " 'aussie': 646,\n",
       " 'papers': 647,\n",
       " 'copy': 648,\n",
       " 'shiny': 649,\n",
       " 'dirty': 650,\n",
       " 'beat': 651,\n",
       " 'organized': 652,\n",
       " 'rest': 653,\n",
       " 'yes': 654,\n",
       " 'month': 655,\n",
       " 'either': 656,\n",
       " 'defy': 657,\n",
       " 'hydrated': 658,\n",
       " 'moments': 659,\n",
       " 'lines': 660,\n",
       " 'fat': 661,\n",
       " 'worry': 662,\n",
       " 'loud': 663,\n",
       " 'short': 664,\n",
       " 'attachments': 665,\n",
       " 'let': 666,\n",
       " 'residue': 667,\n",
       " 'acting': 668,\n",
       " 'bluray': 669,\n",
       " 'seem': 670,\n",
       " 'games': 671,\n",
       " 'vacuuming': 672,\n",
       " 'receipts': 673,\n",
       " 'available': 674,\n",
       " 'along': 675,\n",
       " 'maybe': 676,\n",
       " 'knowing': 677,\n",
       " 'told': 678,\n",
       " 'table': 679,\n",
       " 'inside': 680,\n",
       " 'surprised': 681,\n",
       " 'messy': 682,\n",
       " 'hot': 683,\n",
       " 'fragrance': 684,\n",
       " 'silky': 685,\n",
       " 'texture': 686,\n",
       " 'frizz': 687,\n",
       " 'minutes': 688,\n",
       " 'order': 689,\n",
       " 'large': 690,\n",
       " 'blue': 691,\n",
       " 'zombie': 692,\n",
       " 'soon': 693,\n",
       " 'clothes': 694,\n",
       " 'anywhere': 695,\n",
       " '100': 696,\n",
       " 'start': 697,\n",
       " 'laundry': 698,\n",
       " 'gave': 699,\n",
       " 'tables': 700,\n",
       " 'cord': 701,\n",
       " 'impressed': 702,\n",
       " 'owned': 703,\n",
       " 'eat': 704,\n",
       " 'dyson': 705,\n",
       " 'window': 706,\n",
       " 'might': 707,\n",
       " 'leaving': 708,\n",
       " 'throw': 709,\n",
       " 'useful': 710,\n",
       " 'colors': 711,\n",
       " 'return': 712,\n",
       " 'true': 713,\n",
       " 'hepa': 714,\n",
       " 'bottom': 715,\n",
       " 'friend': 716,\n",
       " 'myself': 717,\n",
       " 'desk': 718,\n",
       " 'someone': 719,\n",
       " 'follow': 720,\n",
       " 'open': 721,\n",
       " 'decent': 722,\n",
       " 'countertops': 723,\n",
       " 'apply': 724,\n",
       " 'air': 725,\n",
       " 'picture': 726,\n",
       " 'sensitive': 727,\n",
       " 'oily': 728,\n",
       " 'excited': 729,\n",
       " 'package': 730,\n",
       " 'itself': 731,\n",
       " 'online': 732,\n",
       " 'stars': 733,\n",
       " 'main': 734,\n",
       " 'game': 735,\n",
       " 'beautiful': 736,\n",
       " 'desks': 737,\n",
       " 'walmart': 738,\n",
       " 'alot': 739,\n",
       " 'seeing': 740,\n",
       " 'close': 741,\n",
       " 'morning': 742,\n",
       " 'white': 743,\n",
       " 'bath': 744,\n",
       " 'constantly': 745,\n",
       " 'reason': 746,\n",
       " 'sun': 747,\n",
       " 'dont': 748,\n",
       " 'expect': 749,\n",
       " 'handles': 750,\n",
       " 'fans': 751,\n",
       " 'recently': 752,\n",
       " 'opinions': 753,\n",
       " 'classic': 754,\n",
       " 'design': 755,\n",
       " 'plenty': 756,\n",
       " 'twice': 757,\n",
       " 'notice': 758,\n",
       " 'mother': 759,\n",
       " 'course': 760,\n",
       " 'exactly': 761,\n",
       " 'helped': 762,\n",
       " '99': 763,\n",
       " 'stove': 764,\n",
       " 'half': 765,\n",
       " 'bagless': 766,\n",
       " 'head': 767,\n",
       " \"you'll\": 768,\n",
       " 'previous': 769,\n",
       " 'pleasant': 770,\n",
       " 'tabs': 771,\n",
       " 'turn': 772,\n",
       " 'interesting': 773,\n",
       " 'toys': 774,\n",
       " 'cheap': 775,\n",
       " 'rather': 776,\n",
       " \"i'll\": 777,\n",
       " 'ready': 778,\n",
       " 'experience': 779,\n",
       " 'pass': 780,\n",
       " 'brush': 781,\n",
       " 'features': 782,\n",
       " 'cost': 783,\n",
       " 'sticky': 784,\n",
       " 'matter': 785,\n",
       " 'four': 786,\n",
       " 'organizing': 787,\n",
       " 'immediately': 788,\n",
       " 'divide': 789,\n",
       " 'moisture': 790,\n",
       " 'cheese': 791,\n",
       " 'hormel': 792,\n",
       " 'move': 793,\n",
       " 'towel': 794,\n",
       " 'doing': 795,\n",
       " 'thin': 796,\n",
       " 'expecting': 797,\n",
       " '30': 798,\n",
       " 'single': 799,\n",
       " 'putting': 800,\n",
       " 'stays': 801,\n",
       " 'efron': 802,\n",
       " 'softer': 803,\n",
       " 'sleek': 804,\n",
       " 'system': 805,\n",
       " 'tools': 806,\n",
       " 'stores': 807,\n",
       " 'knobs': 808,\n",
       " 'rid': 809,\n",
       " 'likes': 810,\n",
       " 'mind': 811,\n",
       " 'expert': 812,\n",
       " 'happen': 813,\n",
       " 'gone': 814,\n",
       " 'bagged': 815,\n",
       " 'push': 816,\n",
       " 'difficult': 817,\n",
       " 'due': 818,\n",
       " 'towels': 819,\n",
       " 'space': 820,\n",
       " 'label': 821,\n",
       " 'affordable': 822,\n",
       " 're': 823,\n",
       " 'soap': 824,\n",
       " 'remove': 825,\n",
       " 'tile': 826,\n",
       " 'simply': 827,\n",
       " 'agedefy': 828,\n",
       " 'turned': 829,\n",
       " 'seemed': 830,\n",
       " 'edge': 831,\n",
       " 'added': 832,\n",
       " 'satisfied': 833,\n",
       " 'purchasing': 834,\n",
       " 'makeup': 835,\n",
       " 'pack': 836,\n",
       " 'aging': 837,\n",
       " '7': 838,\n",
       " 'complete': 839,\n",
       " 'orange': 840,\n",
       " 'disinfectant': 841,\n",
       " 'cleaners': 842,\n",
       " 'company': 843,\n",
       " 'laughed': 844,\n",
       " 'smoother': 845,\n",
       " 'knew': 846,\n",
       " 'overpowering': 847,\n",
       " 'creamy': 848,\n",
       " 'moisturizing': 849,\n",
       " 'corners': 850,\n",
       " 'worse': 851,\n",
       " 'curly': 852,\n",
       " 'jobs': 853,\n",
       " 'travel': 854,\n",
       " 'food': 855,\n",
       " '20': 856,\n",
       " 'nicely': 857,\n",
       " 'totally': 858,\n",
       " 'cool': 859,\n",
       " 'including': 860,\n",
       " '14': 861,\n",
       " 'held': 862,\n",
       " 'eyes': 863,\n",
       " 'shoulder': 864,\n",
       " 'cute': 865,\n",
       " 'sinks': 866,\n",
       " 'cheaper': 867,\n",
       " 'crazy': 868,\n",
       " '1st': 869,\n",
       " 'cut': 870,\n",
       " 'frizzy': 871,\n",
       " 'carpets': 872,\n",
       " 'ingredients': 873,\n",
       " 'copies': 874,\n",
       " 'bed': 875,\n",
       " 'child': 876,\n",
       " 'included': 877,\n",
       " 'stock': 878,\n",
       " 'shadows': 879,\n",
       " 'plan': 880,\n",
       " 'sort': 881,\n",
       " 'beans': 882,\n",
       " 'kill': 883,\n",
       " 'him': 884,\n",
       " 'mostly': 885,\n",
       " 'feature': 886,\n",
       " 'case': 887,\n",
       " 'picks': 888,\n",
       " 'helpful': 889,\n",
       " 'forward': 890,\n",
       " 'teacher': 891,\n",
       " 'suave': 892,\n",
       " 'cant': 893,\n",
       " 'plastic': 894,\n",
       " 'oreck': 895,\n",
       " 'filled': 896,\n",
       " 'information': 897,\n",
       " 'windtunnel': 898,\n",
       " 'diet': 899,\n",
       " 'conditioners': 900,\n",
       " 'disappoint': 901,\n",
       " 'number': 902,\n",
       " 'beginning': 903,\n",
       " 'mix': 904,\n",
       " 'opinion': 905,\n",
       " 'gel': 906,\n",
       " 'winter': 907,\n",
       " 'business': 908,\n",
       " 'thicker': 909,\n",
       " 'remember': 910,\n",
       " 'later': 911,\n",
       " 'ends': 912,\n",
       " 'point': 913,\n",
       " 'pets': 914,\n",
       " 'reach': 915,\n",
       " 'guys': 916,\n",
       " 'sequels': 917,\n",
       " 'released': 918,\n",
       " 'zac': 919,\n",
       " 'shows': 920,\n",
       " 'variety': 921,\n",
       " 'version': 922,\n",
       " 'flat': 923,\n",
       " 'girl': 924,\n",
       " 'pet': 925,\n",
       " 'above': 926,\n",
       " 'today': 927,\n",
       " 'allows': 928,\n",
       " 'star': 929,\n",
       " 'important': 930,\n",
       " 'service': 931,\n",
       " 'bonus': 932,\n",
       " 'living': 933,\n",
       " 'sound': 934,\n",
       " 'market': 935,\n",
       " 'manageable': 936,\n",
       " 'project': 937,\n",
       " 'horror': 938,\n",
       " 'theater': 939,\n",
       " 'wants': 940,\n",
       " 'n': 941,\n",
       " 'otherwise': 942,\n",
       " 'burton': 943,\n",
       " 'moisturized': 944,\n",
       " '���': 945,\n",
       " 'strap': 946,\n",
       " 'scalp': 947,\n",
       " 'ask': 948,\n",
       " 'basis': 949,\n",
       " 'offer': 950,\n",
       " 'wanting': 951,\n",
       " '50': 952,\n",
       " 'hose': 953,\n",
       " 'cleanup': 954,\n",
       " 'summer': 955,\n",
       " 'hydrating': 956,\n",
       " 'style': 957,\n",
       " 'busy': 958,\n",
       " 'taking': 959,\n",
       " 'cloth': 960,\n",
       " 'wet': 961,\n",
       " 'ended': 962,\n",
       " 'compared': 963,\n",
       " 'play': 964,\n",
       " 'dried': 965,\n",
       " 'setting': 966,\n",
       " 'tim': 967,\n",
       " 'problems': 968,\n",
       " 'ive': 969,\n",
       " 'elvis': 970,\n",
       " 'okay': 971,\n",
       " 'turns': 972,\n",
       " 'list': 973,\n",
       " 'person': 974,\n",
       " 'world': 975,\n",
       " 'forever': 976,\n",
       " 'condition': 977,\n",
       " 'durable': 978,\n",
       " 'reasonable': 979,\n",
       " 'character': 980,\n",
       " 'given': 981,\n",
       " 'shipping': 982,\n",
       " 'rugs': 983,\n",
       " 'tough': 984,\n",
       " 'fair': 985,\n",
       " 'issue': 986,\n",
       " 'types': 987,\n",
       " 'various': 988,\n",
       " 'smaller': 989,\n",
       " 'code': 990,\n",
       " 'save': 991,\n",
       " 'organization': 992,\n",
       " 'usual': 993,\n",
       " 'become': 994,\n",
       " 'black': 995,\n",
       " 'issues': 996,\n",
       " 'girls': 997,\n",
       " 'hate': 998,\n",
       " 'fi': 999,\n",
       " 'clear': 1000,\n",
       " ...}"
      ]
     },
     "execution_count": 14,
     "metadata": {},
     "output_type": "execute_result"
    }
   ],
   "source": [
    "MAX_NB_WORDS = 20_000\n",
    "\n",
    "# get the raw text data\n",
    "texts_train = train_text.astype(str)\n",
    "texts_test = test_text.astype(str)\n",
    "\n",
    "# finally, vectorize the text samples into a 2D integer tensor\n",
    "my_tokenizer = Tokenizer(num_words=MAX_NB_WORDS)\n",
    "my_tokenizer.fit_on_texts(texts_train)\n",
    "my_tokenizer.word_index"
   ]
  },
  {
   "cell_type": "code",
   "execution_count": 15,
   "metadata": {},
   "outputs": [
    {
     "data": {
      "text/plain": [
       "(8000,)"
      ]
     },
     "execution_count": 15,
     "metadata": {},
     "output_type": "execute_result"
    }
   ],
   "source": [
    "train_text.shape"
   ]
  },
  {
   "cell_type": "markdown",
   "metadata": {
    "id": "swC-3oFul_EC"
   },
   "source": [
    "#### 6. Convert train texts to sequences using tokenizer texts_to_sequences method."
   ]
  },
  {
   "cell_type": "code",
   "execution_count": 16,
   "metadata": {
    "id": "xGgtyekRmJ83"
   },
   "outputs": [],
   "source": [
    "sequences = my_tokenizer.texts_to_sequences(texts_train)"
   ]
  },
  {
   "cell_type": "markdown",
   "metadata": {
    "id": "riMNb66JmS9Q"
   },
   "source": [
    "#### 7. Convert test texts to sequences using tokenizer texts_to_sequences method"
   ]
  },
  {
   "cell_type": "code",
   "execution_count": 17,
   "metadata": {
    "executionInfo": {
     "elapsed": 59,
     "status": "ok",
     "timestamp": 1751502249034,
     "user": {
      "displayName": "Fabien Marpeau",
      "userId": "15210978490258687001"
     },
     "user_tz": 300
    },
    "id": "jMLsH74AmRv1"
   },
   "outputs": [
    {
     "name": "stdout",
     "output_type": "stream",
     "text": [
      "Found 9279 unique tokens.\n"
     ]
    }
   ],
   "source": [
    "sequences_test = my_tokenizer.texts_to_sequences(texts_test)\n",
    "\n",
    "word_index = my_tokenizer.word_index\n",
    "print('Found %s unique tokens.' % len(word_index))"
   ]
  },
  {
   "cell_type": "code",
   "execution_count": 18,
   "metadata": {
    "_cell_guid": "f1e97a8a-ab37-442f-bb8a-9373248c149e",
    "_uuid": "1d19d043489c1185e351d4720b01b9e3ca01b9f2",
    "executionInfo": {
     "elapsed": 45,
     "status": "ok",
     "timestamp": 1751502253793,
     "user": {
      "displayName": "Fabien Marpeau",
      "userId": "15210978490258687001"
     },
     "user_tz": 300
    },
    "id": "fWmLTHnevVwM"
   },
   "outputs": [
    {
     "data": {
      "text/plain": [
       "[115,\n",
       " 51,\n",
       " 58,\n",
       " 26,\n",
       " 1017,\n",
       " 43,\n",
       " 488,\n",
       " 26,\n",
       " 224,\n",
       " 270,\n",
       " 4,\n",
       " 826,\n",
       " 5,\n",
       " 15,\n",
       " 9,\n",
       " 16,\n",
       " 10,\n",
       " 14,\n",
       " 8,\n",
       " 3,\n",
       " 17]"
      ]
     },
     "execution_count": 18,
     "metadata": {},
     "output_type": "execute_result"
    }
   ],
   "source": [
    "sequences[0]"
   ]
  },
  {
   "cell_type": "markdown",
   "metadata": {
    "_cell_guid": "bd0b2cb3-6610-4fa0-adbd-091a0d1dc6eb",
    "_uuid": "2c9878139c2067013d32451c42a1453184d4671e",
    "id": "hws0GzSYvVwM"
   },
   "source": [
    "The tokenizer object stores a mapping (vocabulary) from word strings to token ids that can be inverted to reconstruct the original message (without formatting):"
   ]
  },
  {
   "cell_type": "code",
   "execution_count": 19,
   "metadata": {
    "_cell_guid": "7ef9eff1-c75d-4bd1-b3e0-f104d7713f21",
    "_uuid": "49aa75fa45eb791b8e01d36fd60b9335323ced1a",
    "executionInfo": {
     "elapsed": 33,
     "status": "ok",
     "timestamp": 1751502260672,
     "user": {
      "displayName": "Fabien Marpeau",
      "userId": "15210978490258687001"
     },
     "user_tz": 300
    },
    "id": "UDvOM7EGvVwN",
    "tags": []
   },
   "outputs": [
    {
     "data": {
      "text/plain": [
       "(dict, 9279)"
      ]
     },
     "execution_count": 19,
     "metadata": {},
     "output_type": "execute_result"
    }
   ],
   "source": [
    "type(my_tokenizer.word_index), len(my_tokenizer.word_index)"
   ]
  },
  {
   "cell_type": "code",
   "execution_count": 20,
   "metadata": {
    "_cell_guid": "2bf28aad-c1c6-47d3-93c4-a3d01e83ef34",
    "_uuid": "34489f5781bed44791efccf10ff6be5fa45329f4",
    "id": "Fp32Hh7QvVwO",
    "tags": []
   },
   "outputs": [],
   "source": [
    "index_to_word = dict((i, w) for w, i in my_tokenizer.word_index.items())"
   ]
  },
  {
   "cell_type": "code",
   "execution_count": 21,
   "metadata": {
    "_cell_guid": "4cb9ba81-35eb-4599-95b6-c26b62ef2a27",
    "_uuid": "8e0d88c0b375eb8137857cdb07f0ecb8fa109ba7",
    "executionInfo": {
     "elapsed": 9,
     "status": "ok",
     "timestamp": 1751502266143,
     "user": {
      "displayName": "Fabien Marpeau",
      "userId": "15210978490258687001"
     },
     "user_tz": 300
    },
    "id": "DWbAxLa0vVwP"
   },
   "outputs": [
    {
     "data": {
      "text/plain": [
       "'works really well on picking up spills on both carpet and tile this review was collected as part of a promotion'"
      ]
     },
     "execution_count": 21,
     "metadata": {},
     "output_type": "execute_result"
    }
   ],
   "source": [
    "\" \".join([index_to_word[i] for i in sequences[0]])"
   ]
  },
  {
   "cell_type": "code",
   "execution_count": 22,
   "metadata": {},
   "outputs": [
    {
     "data": {
      "text/plain": [
       "\"i love this album. it's very good. more to the hip hop side than her current pop sound.. SO HYPE! i listen to this everyday at the gym! i give it 5star rating all the way. her metaphors are just crazy.\""
      ]
     },
     "execution_count": 22,
     "metadata": {},
     "output_type": "execute_result"
    }
   ],
   "source": [
    "texts_train[0]"
   ]
  },
  {
   "cell_type": "markdown",
   "metadata": {
    "id": "ueL0tIi_vsr5"
   },
   "source": [
    "The above code shows how to convert tokenized indices back to sentences"
   ]
  },
  {
   "cell_type": "markdown",
   "metadata": {
    "_cell_guid": "95d36034-9567-414e-b335-100735eac55d",
    "_uuid": "00282f016c0cb0bb64da12e1b055c9963ed94fdd",
    "id": "Ki03IHTYvVwQ"
   },
   "source": [
    "\n",
    "Let's have a closer look at the tokenized sequences:"
   ]
  },
  {
   "cell_type": "code",
   "execution_count": 23,
   "metadata": {
    "_cell_guid": "e4794fbb-def5-41a7-a115-c98b75723606",
    "_uuid": "a2b3fc16fd889000afc92cf6649c91b7dc486b3a",
    "executionInfo": {
     "elapsed": 34,
     "status": "ok",
     "timestamp": 1751502272737,
     "user": {
      "displayName": "Fabien Marpeau",
      "userId": "15210978490258687001"
     },
     "user_tz": 300
    },
    "id": "j5ppqq2ovVwQ",
    "tags": []
   },
   "outputs": [
    {
     "name": "stdout",
     "output_type": "stream",
     "text": [
      "average length: 32.3\n",
      "max length: 1036\n",
      "min length: 0\n"
     ]
    }
   ],
   "source": [
    "seq_lens = [len(s) for s in sequences]\n",
    "print(\"average length: %0.1f\" % np.mean(seq_lens))\n",
    "print(\"max length: %d\" % max(seq_lens))\n",
    "print(\"min length: %d\" % min(seq_lens))"
   ]
  },
  {
   "cell_type": "code",
   "execution_count": 24,
   "metadata": {
    "_cell_guid": "63dd3132-4bcf-43e1-82c6-71976490d76a",
    "_uuid": "59004cf05a78a14d6c6186d3b60a8eb7f6f8c4fa",
    "executionInfo": {
     "elapsed": 54,
     "status": "ok",
     "timestamp": 1751502277968,
     "user": {
      "displayName": "Fabien Marpeau",
      "userId": "15210978490258687001"
     },
     "user_tz": 300
    },
    "id": "Vi2iPcDWvVwR"
   },
   "outputs": [
    {
     "data": {
      "image/png": "[encoded data removed]",
      "text/plain": [
       "<Figure size 640x480 with 1 Axes>"
      ]
     },
     "metadata": {},
     "output_type": "display_data"
    }
   ],
   "source": [
    "%matplotlib inline\n",
    "import matplotlib.pyplot as plt\n",
    "\n",
    "plt.hist(seq_lens, bins=50);"
   ]
  },
  {
   "cell_type": "code",
   "execution_count": 25,
   "metadata": {},
   "outputs": [
    {
     "data": {
      "text/plain": [
       "(8000,)"
      ]
     },
     "execution_count": 25,
     "metadata": {},
     "output_type": "execute_result"
    }
   ],
   "source": [
    "train_text.shape"
   ]
  },
  {
   "cell_type": "markdown",
   "metadata": {
    "id": "ENzwgxe6v7vx"
   },
   "source": [
    "#### Observation\n",
    "- The histogram plot shows the number of words in reviews"
   ]
  },
  {
   "cell_type": "markdown",
   "metadata": {
    "_cell_guid": "c4d11a58-da34-4101-896b-bad856629ce3",
    "_uuid": "985e88716a7f4ab0c433fb412ba5ca520b4af2e9",
    "id": "qVm37tcFvVwS"
   },
   "source": [
    "\n",
    "Let's zoom on the distribution of regular sized posts. The vast majority of the posts have less than 200 symbols:"
   ]
  },
  {
   "cell_type": "code",
   "execution_count": 26,
   "metadata": {
    "_cell_guid": "2288dc93-eafe-488c-8533-aebc7e89000f",
    "_uuid": "f56919e05a5e81d3e4f5f505ff28e20150a46037",
    "executionInfo": {
     "elapsed": 7,
     "status": "ok",
     "timestamp": 1751502284986,
     "user": {
      "displayName": "Fabien Marpeau",
      "userId": "15210978490258687001"
     },
     "user_tz": 300
    },
    "id": "uNUM0nbnvVwS"
   },
   "outputs": [
    {
     "data": {
      "image/png": "[encoded data removed]",
      "text/plain": [
       "<Figure size 640x480 with 1 Axes>"
      ]
     },
     "metadata": {},
     "output_type": "display_data"
    }
   ],
   "source": [
    "plt.hist([l for l in seq_lens if l < 200], bins=50);"
   ]
  },
  {
   "cell_type": "markdown",
   "metadata": {
    "id": "yBQ8eSmFwFVe"
   },
   "source": [
    "#### Observation\n",
    "- The histogram plot shows that most of the reviews has words less than 200"
   ]
  },
  {
   "cell_type": "markdown",
   "metadata": {
    "id": "xAjotZcBmb9d"
   },
   "source": [
    "#### 8. Pad train and test sequence (add 0s at the end until the sequence is of length 150). Consider MAX_SEQUENCE_LENGTH = 150 and this step gives your x_train and x_test"
   ]
  },
  {
   "cell_type": "code",
   "execution_count": 27,
   "metadata": {
    "_cell_guid": "d1b34e9f-4817-4f1e-8f13-e17e6999a99c",
    "_uuid": "607edfd287e366192980e5a219849c53b089804c",
    "executionInfo": {
     "elapsed": 61,
     "status": "ok",
     "timestamp": 1751502309485,
     "user": {
      "displayName": "Fabien Marpeau",
      "userId": "15210978490258687001"
     },
     "user_tz": 300
    },
    "id": "3kiJAoq-vVwT"
   },
   "outputs": [
    {
     "name": "stdout",
     "output_type": "stream",
     "text": [
      "Shape of data tensor: (8000, 150)\n",
      "Shape of data test tensor: (2001, 150)\n"
     ]
    }
   ],
   "source": [
    "MAX_SEQUENCE_LENGTH = 150\n",
    "\n",
    "# pad sequences with 0s\n",
    "x_train = pad_sequences(sequences, maxlen=MAX_SEQUENCE_LENGTH)\n",
    "x_test = pad_sequences(sequences_test, maxlen=MAX_SEQUENCE_LENGTH)\n",
    "print('Shape of data tensor:', x_train.shape)\n",
    "print('Shape of data test tensor:', x_test.shape)"
   ]
  },
  {
   "cell_type": "code",
   "execution_count": 28,
   "metadata": {
    "id": "aKwDh5ERrLx9"
   },
   "outputs": [
    {
     "data": {
      "text/plain": [
       "array([   0,    0,    0,    0,    0,    0,    0,    0,    0,    0,    0,\n",
       "          0,    0,    0,    0,    0,    0,    0,    0,    0,    0,    0,\n",
       "          0,    0,    0,    0,    0,    0,    0,    0,    0,    0,    0,\n",
       "          0,    0,    0,    0,    0,    0,    0,    0,    0,    0,    0,\n",
       "          0,    0,    0,    0,    0,    0,    0,    0,    0,    0,    0,\n",
       "          0,    0,    0,    0,    0,    0,    0,    0,    0,    0,    0,\n",
       "          0,    0,    0,    0,    0,    0,    0,    0,    0,    0,    0,\n",
       "          0,    0,    0,    0,    0,    0,    0,    0,    0,    0,    0,\n",
       "          0,    0,    0,    0,    0,    0,    0,    0,    0,    0,    0,\n",
       "          0,    0,    0,    0,    0,    0,    0,    0,    0,    0,    0,\n",
       "          0,    0,    0,    0,    0,    0,    0,    0,    0,    0,    0,\n",
       "          0,    0,    0,    0,    0,    0,    0,    0,  115,   51,   58,\n",
       "         26, 1017,   43,  488,   26,  224,  270,    4,  826,    5,   15,\n",
       "          9,   16,   10,   14,    8,    3,   17], dtype=int32)"
      ]
     },
     "execution_count": 28,
     "metadata": {},
     "output_type": "execute_result"
    }
   ],
   "source": [
    "x_train[0]"
   ]
  },
  {
   "cell_type": "markdown",
   "metadata": {
    "id": "CYpNR7fkmitc"
   },
   "source": [
    "#### 9. One-hot encode your output classes (True/False)."
   ]
  },
  {
   "cell_type": "code",
   "execution_count": 29,
   "metadata": {
    "_cell_guid": "6a6884c1-498a-4606-9325-17deab116179",
    "_uuid": "0b83fd45a1d4af036ec5c5948a8ff79370b3ca8b",
    "executionInfo": {
     "elapsed": 101,
     "status": "ok",
     "timestamp": 1751502349247,
     "user": {
      "displayName": "Fabien Marpeau",
      "userId": "15210978490258687001"
     },
     "user_tz": 300
    },
    "id": "j8cz-_jjvVwU"
   },
   "outputs": [
    {
     "name": "stdout",
     "output_type": "stream",
     "text": [
      "Shape of train label tensor: (8000, 2)\n",
      "Shape of test label tensor: (2001, 2)\n"
     ]
    }
   ],
   "source": [
    "y_train = train_y\n",
    "y_test = test_y\n",
    "\n",
    "y_train = to_categorical(np.asarray(y_train))\n",
    "print('Shape of train label tensor:', y_train.shape)\n",
    "y_test = to_categorical(np.asarray(y_test))\n",
    "print('Shape of test label tensor:', y_test.shape)"
   ]
  },
  {
   "cell_type": "code",
   "execution_count": 30,
   "metadata": {},
   "outputs": [
    {
     "data": {
      "text/plain": [
       "array([[1., 0.],\n",
       "       [1., 0.],\n",
       "       [1., 0.]])"
      ]
     },
     "execution_count": 30,
     "metadata": {},
     "output_type": "execute_result"
    }
   ],
   "source": [
    "y_test[:3]"
   ]
  },
  {
   "cell_type": "code",
   "execution_count": 31,
   "metadata": {},
   "outputs": [
    {
     "data": {
      "text/plain": [
       "array([[1., 0.],\n",
       "       [1., 0.],\n",
       "       [1., 0.]])"
      ]
     },
     "execution_count": 31,
     "metadata": {},
     "output_type": "execute_result"
    }
   ],
   "source": [
    "y_train[:3]"
   ]
  },
  {
   "cell_type": "code",
   "execution_count": 32,
   "metadata": {},
   "outputs": [
    {
     "name": "stdout",
     "output_type": "stream",
     "text": [
      "Train: [7326.  674.]\n",
      "Test: [1828.  173.]\n"
     ]
    }
   ],
   "source": [
    "import numpy as np\n",
    "\n",
    "print(f\"Train: {np.sum(y_train, axis=0)}\")\n",
    "print(f\"Test: {np.sum(y_test, axis=0)}\")"
   ]
  },
  {
   "cell_type": "markdown",
   "metadata": {
    "id": "hi42agcmmriY"
   },
   "source": [
    "#### 10. Build a CNN - LSTM hybrid model with following layers\n",
    "- Input layer with input shape = MAX_SEQUENCE_LENGTH and dtype int32\n",
    "- Embedding layer with input dimension = MAX_NB_WORDS, output dimension =50, and input length = MAX_SEQUENCE_LENGTH\n",
    "- Conv1D layer with 64 filters and kernel size 5 and activation relu, followed by MaxPooling1D with pool size = 5\n",
    "Hint: MaxPool divides the length of the sequence by 5)\n",
    "- Dropout(0.2)\n",
    "- Conv1D layer with 64 filters and kernel size 5 and activation relu, followed by MaxPooling1D with pool size = 5\n",
    "- Dropout(0.2)\n",
    "- LSTM layer with 64 units\n",
    "-Dense layer with 2 neurons and activation softmax\n"
   ]
  },
  {
   "cell_type": "markdown",
   "metadata": {
    "_cell_guid": "bbf31f77-17dc-41ee-8eeb-0daa6048ab9a",
    "_uuid": "860856399379408e3f52d607cd4ff96cbde86edc",
    "id": "SEXy-Om9vVwU"
   },
   "source": [
    "**A simple supervised model in Keras**"
   ]
  },
  {
   "cell_type": "markdown",
   "metadata": {
    "_uuid": "b664f7add892df86589c9eb902f01b78d32a6b4c",
    "id": "Gio7r8d6vVwV"
   },
   "source": [
    "Vector space model is well known in information retrieval where each document is represented as a vector. The vector components represent weights or importance of each word in the document. The similarity between two documents is computed using the cosine similarity measure.\n",
    "\n",
    "![](https://iksinc.files.wordpress.com/2015/04/screen-shot-2015-04-12-at-10-58-21-pm.png?w=768&h=740)\n",
    "\n",
    "image & explanation taken from : https://iksinc.online/tag/continuous-bag-of-words-cbow/"
   ]
  },
  {
   "cell_type": "code",
   "execution_count": 33,
   "metadata": {
    "_cell_guid": "dae99403-c172-4a31-b9f4-cf1aa9eac5ba",
    "_uuid": "bc2b6cb8c623cc539734ccfa2e61677d77361809",
    "executionInfo": {
     "elapsed": 6,
     "status": "ok",
     "timestamp": 1751502531864,
     "user": {
      "displayName": "Fabien Marpeau",
      "userId": "15210978490258687001"
     },
     "user_tz": 300
    },
    "id": "mwQMtHMLvVwV",
    "tags": []
   },
   "outputs": [
    {
     "name": "stderr",
     "output_type": "stream",
     "text": [
      "/Users/xyz-ai/Developer/python3-code/ml/.venv/lib/python3.11/site-packages/keras/src/layers/core/embedding.py:97: UserWarning: Argument `input_length` is deprecated. Just remove it.\n",
      "  warnings.warn(\n"
     ]
    }
   ],
   "source": [
    "EMBEDDING_DIM = 50\n",
    "N_CLASSES = 2\n",
    "\n",
    "# input: a sequence of MAX_SEQUENCE_LENGTH integers\n",
    "sequence_input = Input(shape=(MAX_SEQUENCE_LENGTH,), dtype='int32')\n",
    "\n",
    "# Define layers\n",
    "embedded_sequences = Embedding(MAX_NB_WORDS, EMBEDDING_DIM, trainable=True, input_length=MAX_SEQUENCE_LENGTH)(sequence_input)\n",
    "\n",
    "# 1D convolution with 64 output channels\n",
    "x = Conv1D(64, 5, activation='relu')(embedded_sequences)\n",
    "# MaxPool divides the length of the sequence by 5\n",
    "x = MaxPooling1D(5)(x)\n",
    "x = Dropout(0.2)(x)\n",
    "x = Conv1D(64, 5, activation='relu')(x)\n",
    "x = MaxPooling1D(5)(x)\n",
    "x = Dropout(0.2)(x)\n",
    "# LSTM layer with a hidden size of 64\n",
    "x = LSTM(64)(x)\n",
    "predictions = Dense(N_CLASSES, activation='softmax')(x)\n",
    "\n",
    "model = Model(sequence_input, predictions)"
   ]
  },
  {
   "cell_type": "markdown",
   "metadata": {
    "id": "ScZZ5C5zsEJG"
   },
   "source": [
    "We have built an embedding layer mapping each word to a vector representation.\n",
    "\n",
    "The goal here is to compute the vector representation of all words in each sequence and average them"
   ]
  },
  {
   "cell_type": "markdown",
   "metadata": {
    "id": "TCQlMkpxnEoe"
   },
   "source": [
    "#### 11. Compile the model with adam optimizer and metric accuracy"
   ]
  },
  {
   "cell_type": "code",
   "execution_count": 34,
   "metadata": {
    "id": "ni8gdJkonDwH"
   },
   "outputs": [],
   "source": [
    "model.compile(loss='categorical_crossentropy',\n",
    "              optimizer='adam', metrics=['acc'])"
   ]
  },
  {
   "cell_type": "code",
   "execution_count": 35,
   "metadata": {},
   "outputs": [
    {
     "data": {
      "text/html": [
       "<pre style=\"white-space:pre;overflow-x:auto;line-height:normal;font-family:Menlo,'DejaVu Sans Mono',consolas,'Courier New',monospace\"><span style=\"font-weight: bold\">Model: \"functional\"</span>\n",
       "</pre>\n"
      ],
      "text/plain": [
       "\u001b[1mModel: \"functional\"\u001b[0m\n"
      ]
     },
     "metadata": {},
     "output_type": "display_data"
    },
    {
     "data": {
      "text/html": [
       "<pre style=\"white-space:pre;overflow-x:auto;line-height:normal;font-family:Menlo,'DejaVu Sans Mono',consolas,'Courier New',monospace\">┏━━━━━━━━━━━━━━━━━━━━━━━━━━━━━━━━━┳━━━━━━━━━━━━━━━━━━━━━━━━┳━━━━━━━━━━━━━━━┓\n",
       "┃<span style=\"font-weight: bold\"> Layer (type)                    </span>┃<span style=\"font-weight: bold\"> Output Shape           </span>┃<span style=\"font-weight: bold\">       Param # </span>┃\n",
       "┡━━━━━━━━━━━━━━━━━━━━━━━━━━━━━━━━━╇━━━━━━━━━━━━━━━━━━━━━━━━╇━━━━━━━━━━━━━━━┩\n",
       "│ input_layer (<span style=\"color: #0087ff; text-decoration-color: #0087ff\">InputLayer</span>)        │ (<span style=\"color: #00d7ff; text-decoration-color: #00d7ff\">None</span>, <span style=\"color: #00af00; text-decoration-color: #00af00\">150</span>)            │             <span style=\"color: #00af00; text-decoration-color: #00af00\">0</span> │\n",
       "├─────────────────────────────────┼────────────────────────┼───────────────┤\n",
       "│ embedding (<span style=\"color: #0087ff; text-decoration-color: #0087ff\">Embedding</span>)           │ (<span style=\"color: #00d7ff; text-decoration-color: #00d7ff\">None</span>, <span style=\"color: #00af00; text-decoration-color: #00af00\">150</span>, <span style=\"color: #00af00; text-decoration-color: #00af00\">50</span>)        │     <span style=\"color: #00af00; text-decoration-color: #00af00\">1,000,000</span> │\n",
       "├─────────────────────────────────┼────────────────────────┼───────────────┤\n",
       "│ conv1d (<span style=\"color: #0087ff; text-decoration-color: #0087ff\">Conv1D</span>)                 │ (<span style=\"color: #00d7ff; text-decoration-color: #00d7ff\">None</span>, <span style=\"color: #00af00; text-decoration-color: #00af00\">146</span>, <span style=\"color: #00af00; text-decoration-color: #00af00\">64</span>)        │        <span style=\"color: #00af00; text-decoration-color: #00af00\">16,064</span> │\n",
       "├─────────────────────────────────┼────────────────────────┼───────────────┤\n",
       "│ max_pooling1d (<span style=\"color: #0087ff; text-decoration-color: #0087ff\">MaxPooling1D</span>)    │ (<span style=\"color: #00d7ff; text-decoration-color: #00d7ff\">None</span>, <span style=\"color: #00af00; text-decoration-color: #00af00\">29</span>, <span style=\"color: #00af00; text-decoration-color: #00af00\">64</span>)         │             <span style=\"color: #00af00; text-decoration-color: #00af00\">0</span> │\n",
       "├─────────────────────────────────┼────────────────────────┼───────────────┤\n",
       "│ dropout (<span style=\"color: #0087ff; text-decoration-color: #0087ff\">Dropout</span>)               │ (<span style=\"color: #00d7ff; text-decoration-color: #00d7ff\">None</span>, <span style=\"color: #00af00; text-decoration-color: #00af00\">29</span>, <span style=\"color: #00af00; text-decoration-color: #00af00\">64</span>)         │             <span style=\"color: #00af00; text-decoration-color: #00af00\">0</span> │\n",
       "├─────────────────────────────────┼────────────────────────┼───────────────┤\n",
       "│ conv1d_1 (<span style=\"color: #0087ff; text-decoration-color: #0087ff\">Conv1D</span>)               │ (<span style=\"color: #00d7ff; text-decoration-color: #00d7ff\">None</span>, <span style=\"color: #00af00; text-decoration-color: #00af00\">25</span>, <span style=\"color: #00af00; text-decoration-color: #00af00\">64</span>)         │        <span style=\"color: #00af00; text-decoration-color: #00af00\">20,544</span> │\n",
       "├─────────────────────────────────┼────────────────────────┼───────────────┤\n",
       "│ max_pooling1d_1 (<span style=\"color: #0087ff; text-decoration-color: #0087ff\">MaxPooling1D</span>)  │ (<span style=\"color: #00d7ff; text-decoration-color: #00d7ff\">None</span>, <span style=\"color: #00af00; text-decoration-color: #00af00\">5</span>, <span style=\"color: #00af00; text-decoration-color: #00af00\">64</span>)          │             <span style=\"color: #00af00; text-decoration-color: #00af00\">0</span> │\n",
       "├─────────────────────────────────┼────────────────────────┼───────────────┤\n",
       "│ dropout_1 (<span style=\"color: #0087ff; text-decoration-color: #0087ff\">Dropout</span>)             │ (<span style=\"color: #00d7ff; text-decoration-color: #00d7ff\">None</span>, <span style=\"color: #00af00; text-decoration-color: #00af00\">5</span>, <span style=\"color: #00af00; text-decoration-color: #00af00\">64</span>)          │             <span style=\"color: #00af00; text-decoration-color: #00af00\">0</span> │\n",
       "├─────────────────────────────────┼────────────────────────┼───────────────┤\n",
       "│ lstm (<span style=\"color: #0087ff; text-decoration-color: #0087ff\">LSTM</span>)                     │ (<span style=\"color: #00d7ff; text-decoration-color: #00d7ff\">None</span>, <span style=\"color: #00af00; text-decoration-color: #00af00\">64</span>)             │        <span style=\"color: #00af00; text-decoration-color: #00af00\">33,024</span> │\n",
       "├─────────────────────────────────┼────────────────────────┼───────────────┤\n",
       "│ dense (<span style=\"color: #0087ff; text-decoration-color: #0087ff\">Dense</span>)                   │ (<span style=\"color: #00d7ff; text-decoration-color: #00d7ff\">None</span>, <span style=\"color: #00af00; text-decoration-color: #00af00\">2</span>)              │           <span style=\"color: #00af00; text-decoration-color: #00af00\">130</span> │\n",
       "└─────────────────────────────────┴────────────────────────┴───────────────┘\n",
       "</pre>\n"
      ],
      "text/plain": [
       "┏━━━━━━━━━━━━━━━━━━━━━━━━━━━━━━━━━┳━━━━━━━━━━━━━━━━━━━━━━━━┳━━━━━━━━━━━━━━━┓\n",
       "┃\u001b[1m \u001b[0m\u001b[1mLayer (type)                   \u001b[0m\u001b[1m \u001b[0m┃\u001b[1m \u001b[0m\u001b[1mOutput Shape          \u001b[0m\u001b[1m \u001b[0m┃\u001b[1m \u001b[0m\u001b[1m      Param #\u001b[0m\u001b[1m \u001b[0m┃\n",
       "┡━━━━━━━━━━━━━━━━━━━━━━━━━━━━━━━━━╇━━━━━━━━━━━━━━━━━━━━━━━━╇━━━━━━━━━━━━━━━┩\n",
       "│ input_layer (\u001b[38;5;33mInputLayer\u001b[0m)        │ (\u001b[38;5;45mNone\u001b[0m, \u001b[38;5;34m150\u001b[0m)            │             \u001b[38;5;34m0\u001b[0m │\n",
       "├─────────────────────────────────┼────────────────────────┼───────────────┤\n",
       "│ embedding (\u001b[38;5;33mEmbedding\u001b[0m)           │ (\u001b[38;5;45mNone\u001b[0m, \u001b[38;5;34m150\u001b[0m, \u001b[38;5;34m50\u001b[0m)        │     \u001b[38;5;34m1,000,000\u001b[0m │\n",
       "├─────────────────────────────────┼────────────────────────┼───────────────┤\n",
       "│ conv1d (\u001b[38;5;33mConv1D\u001b[0m)                 │ (\u001b[38;5;45mNone\u001b[0m, \u001b[38;5;34m146\u001b[0m, \u001b[38;5;34m64\u001b[0m)        │        \u001b[38;5;34m16,064\u001b[0m │\n",
       "├─────────────────────────────────┼────────────────────────┼───────────────┤\n",
       "│ max_pooling1d (\u001b[38;5;33mMaxPooling1D\u001b[0m)    │ (\u001b[38;5;45mNone\u001b[0m, \u001b[38;5;34m29\u001b[0m, \u001b[38;5;34m64\u001b[0m)         │             \u001b[38;5;34m0\u001b[0m │\n",
       "├─────────────────────────────────┼────────────────────────┼───────────────┤\n",
       "│ dropout (\u001b[38;5;33mDropout\u001b[0m)               │ (\u001b[38;5;45mNone\u001b[0m, \u001b[38;5;34m29\u001b[0m, \u001b[38;5;34m64\u001b[0m)         │             \u001b[38;5;34m0\u001b[0m │\n",
       "├─────────────────────────────────┼────────────────────────┼───────────────┤\n",
       "│ conv1d_1 (\u001b[38;5;33mConv1D\u001b[0m)               │ (\u001b[38;5;45mNone\u001b[0m, \u001b[38;5;34m25\u001b[0m, \u001b[38;5;34m64\u001b[0m)         │        \u001b[38;5;34m20,544\u001b[0m │\n",
       "├─────────────────────────────────┼────────────────────────┼───────────────┤\n",
       "│ max_pooling1d_1 (\u001b[38;5;33mMaxPooling1D\u001b[0m)  │ (\u001b[38;5;45mNone\u001b[0m, \u001b[38;5;34m5\u001b[0m, \u001b[38;5;34m64\u001b[0m)          │             \u001b[38;5;34m0\u001b[0m │\n",
       "├─────────────────────────────────┼────────────────────────┼───────────────┤\n",
       "│ dropout_1 (\u001b[38;5;33mDropout\u001b[0m)             │ (\u001b[38;5;45mNone\u001b[0m, \u001b[38;5;34m5\u001b[0m, \u001b[38;5;34m64\u001b[0m)          │             \u001b[38;5;34m0\u001b[0m │\n",
       "├─────────────────────────────────┼────────────────────────┼───────────────┤\n",
       "│ lstm (\u001b[38;5;33mLSTM\u001b[0m)                     │ (\u001b[38;5;45mNone\u001b[0m, \u001b[38;5;34m64\u001b[0m)             │        \u001b[38;5;34m33,024\u001b[0m │\n",
       "├─────────────────────────────────┼────────────────────────┼───────────────┤\n",
       "│ dense (\u001b[38;5;33mDense\u001b[0m)                   │ (\u001b[38;5;45mNone\u001b[0m, \u001b[38;5;34m2\u001b[0m)              │           \u001b[38;5;34m130\u001b[0m │\n",
       "└─────────────────────────────────┴────────────────────────┴───────────────┘\n"
      ]
     },
     "metadata": {},
     "output_type": "display_data"
    },
    {
     "data": {
      "text/html": [
       "<pre style=\"white-space:pre;overflow-x:auto;line-height:normal;font-family:Menlo,'DejaVu Sans Mono',consolas,'Courier New',monospace\"><span style=\"font-weight: bold\"> Total params: </span><span style=\"color: #00af00; text-decoration-color: #00af00\">1,069,762</span> (4.08 MB)\n",
       "</pre>\n"
      ],
      "text/plain": [
       "\u001b[1m Total params: \u001b[0m\u001b[38;5;34m1,069,762\u001b[0m (4.08 MB)\n"
      ]
     },
     "metadata": {},
     "output_type": "display_data"
    },
    {
     "data": {
      "text/html": [
       "<pre style=\"white-space:pre;overflow-x:auto;line-height:normal;font-family:Menlo,'DejaVu Sans Mono',consolas,'Courier New',monospace\"><span style=\"font-weight: bold\"> Trainable params: </span><span style=\"color: #00af00; text-decoration-color: #00af00\">1,069,762</span> (4.08 MB)\n",
       "</pre>\n"
      ],
      "text/plain": [
       "\u001b[1m Trainable params: \u001b[0m\u001b[38;5;34m1,069,762\u001b[0m (4.08 MB)\n"
      ]
     },
     "metadata": {},
     "output_type": "display_data"
    },
    {
     "data": {
      "text/html": [
       "<pre style=\"white-space:pre;overflow-x:auto;line-height:normal;font-family:Menlo,'DejaVu Sans Mono',consolas,'Courier New',monospace\"><span style=\"font-weight: bold\"> Non-trainable params: </span><span style=\"color: #00af00; text-decoration-color: #00af00\">0</span> (0.00 B)\n",
       "</pre>\n"
      ],
      "text/plain": [
       "\u001b[1m Non-trainable params: \u001b[0m\u001b[38;5;34m0\u001b[0m (0.00 B)\n"
      ]
     },
     "metadata": {},
     "output_type": "display_data"
    }
   ],
   "source": [
    "model.summary()"
   ]
  },
  {
   "cell_type": "code",
   "execution_count": 36,
   "metadata": {
    "_cell_guid": "f82b7850-a692-4263-a558-bf8909267fae",
    "_uuid": "7b324bc4866808a74d924c1b67d65fe95c23790b",
    "executionInfo": {
     "elapsed": 41,
     "status": "ok",
     "timestamp": 1751502543453,
     "user": {
      "displayName": "Fabien Marpeau",
      "userId": "15210978490258687001"
     },
     "user_tz": 300
    },
    "id": "4eQ13XGhvVwV"
   },
   "outputs": [],
   "source": [
    "history = model.fit(x_train, y_train, validation_split=0.1,\n",
    "          epochs=50, batch_size=64, verbose=0)"
   ]
  },
  {
   "cell_type": "code",
   "execution_count": 37,
   "metadata": {
    "id": "rejuG1jRp4ey"
   },
   "outputs": [],
   "source": [
    "train_accuracy = history.history['acc']\n",
    "val_accuracy = history.history['val_acc']\n",
    "\n",
    "train_loss = history.history['loss']\n",
    "val_loss = history.history['val_loss']"
   ]
  },
  {
   "cell_type": "code",
   "execution_count": 38,
   "metadata": {
    "executionInfo": {
     "elapsed": 20,
     "status": "ok",
     "timestamp": 1751502554239,
     "user": {
      "displayName": "Fabien Marpeau",
      "userId": "15210978490258687001"
     },
     "user_tz": 300
    },
    "id": "U0rdLLYQp5jP"
   },
   "outputs": [
    {
     "data": {
      "image/png": "[encoded data removed]",
      "text/plain": [
       "<Figure size 1200x1000 with 2 Axes>"
      ]
     },
     "metadata": {},
     "output_type": "display_data"
    }
   ],
   "source": [
    "fig, ax = plt.subplots(nrows=2, ncols=1, figsize=(12, 10))\n",
    "\n",
    "ax[0].set_title('Training Accuracy vs. Epochs')\n",
    "ax[0].plot(train_accuracy, 'o-', label='Train Accuracy')\n",
    "ax[0].plot(val_accuracy, 'o-', label='Validation Accuracy')\n",
    "ax[0].set_xlabel('Epochs')\n",
    "ax[0].set_ylabel('Accuracy')\n",
    "ax[0].legend(loc='best')\n",
    "\n",
    "ax[1].set_title('Training/Validation Loss vs. Epochs')\n",
    "ax[1].plot(train_loss, 'o-', label='Train Loss')\n",
    "ax[1].plot(val_loss, 'o-', label='Validation Loss')\n",
    "ax[1].set_xlabel('Epochs')\n",
    "ax[1].set_ylabel('Loss')\n",
    "ax[1].legend(loc='best')\n",
    "\n",
    "\n",
    "plt.tight_layout()\n",
    "plt.show()"
   ]
  },
  {
   "cell_type": "markdown",
   "metadata": {
    "id": "i36ghvOWtIu6"
   },
   "source": [
    "#### Observations\n",
    "- We see a constant decrease in the Training loss where as validation loss starts increasing after a point\n",
    "- The plot shows that the model starts getting to overfit, and we have a variance problem here\n",
    "- Adding regularization like drop-out and other techniques may help to stabilize the performance\n"
   ]
  },
  {
   "cell_type": "code",
   "execution_count": 39,
   "metadata": {
    "id": "_CrKTGOjqAFe"
   },
   "outputs": [],
   "source": [
    "y_test_1d = np.argmax(y_test, axis=1)"
   ]
  },
  {
   "cell_type": "code",
   "execution_count": 40,
   "metadata": {
    "_cell_guid": "ff6ef3c1-ff32-4bc9-b99d-29cee5df5c44",
    "_uuid": "205d2e2ac57282137bcebb833c98adeb7741ee39",
    "executionInfo": {
     "elapsed": 27,
     "status": "ok",
     "timestamp": 1751502562498,
     "user": {
      "displayName": "Fabien Marpeau",
      "userId": "15210978490258687001"
     },
     "user_tz": 300
    },
    "id": "xNyqYnnLvVwW"
   },
   "outputs": [
    {
     "name": "stdout",
     "output_type": "stream",
     "text": [
      "\u001b[1m63/63\u001b[0m \u001b[32m━━━━━━━━━━━━━━━━━━━━\u001b[0m\u001b[37m\u001b[0m \u001b[1m0s\u001b[0m 4ms/step\n",
      "test auc: 0.7393926841299755\n"
     ]
    }
   ],
   "source": [
    "output_test = model.predict(x_test)\n",
    "print(\"test auc:\", roc_auc_score(y_test_1d,output_test[:,1]))"
   ]
  },
  {
   "cell_type": "code",
   "execution_count": 41,
   "metadata": {
    "executionInfo": {
     "elapsed": 50,
     "status": "ok",
     "timestamp": 1751502567795,
     "user": {
      "displayName": "Fabien Marpeau",
      "userId": "15210978490258687001"
     },
     "user_tz": 300
    },
    "id": "TVGjukgftwxD"
   },
   "outputs": [
    {
     "name": "stdout",
     "output_type": "stream",
     "text": [
      "\u001b[1m63/63\u001b[0m \u001b[32m━━━━━━━━━━━━━━━━━━━━\u001b[0m\u001b[37m\u001b[0m \u001b[1m0s\u001b[0m 3ms/step - acc: 0.9090 - loss: 0.6899\n",
      "Test Loss:     0.695366621017456\n",
      "Test Accuracy: 0.9070464968681335\n"
     ]
    }
   ],
   "source": [
    "test_loss, test_accuracy  = model.evaluate(x_test, y_test)\n",
    "print(f\"Test Loss:     {test_loss}\")\n",
    "print(f\"Test Accuracy: {test_accuracy}\")"
   ]
  },
  {
   "cell_type": "markdown",
   "metadata": {
    "id": "mK7Sch6itlcm"
   },
   "source": [
    "#### Observation\n",
    "- The model has given an decent accuracy of 91.75% on unseen test dataset\n",
    "- The AUC score on test dataset is 28%"
   ]
  },
  {
   "cell_type": "markdown",
   "metadata": {
    "id": "BTxUbRY0rxll"
   },
   "source": [
    "## Conclusion\n",
    "\n",
    "- Deep Learning can be better on text classification that simpler ML techniques, but only on very large datasets and well designed/tuned models.\n",
    "- A CNN-LSTM hybrid networks give a solution to use both structural characterization and spatial information together.\n",
    "- The following projects can replicate similar word embedding models much more efficiently: word2vec and gensim's word2vec (self-supervised learning only), fastText (both supervised and self-supervised learning), Vowpal Wabbit (supervised learning).\n",
    "- Plain shallow sparse TF-IDF bigrams features without any embedding and Logistic Regression or Multinomial Naive Bayes is often competitive in small to medium datasets."
   ]
  }
 ],
 "metadata": {
  "accelerator": "GPU",
  "colab": {
   "provenance": []
  },
  "kernelspec": {
   "display_name": ".venv",
   "language": "python",
   "name": "python3"
  },
  "language_info": {
   "codemirror_mode": {
    "name": "ipython",
    "version": 3
   },
   "file_extension": ".py",
   "mimetype": "text/x-python",
   "name": "python",
   "nbconvert_exporter": "python",
   "pygments_lexer": "ipython3",
   "version": "3.11.13"
  }
 },
 "nbformat": 4,
 "nbformat_minor": 0
}
