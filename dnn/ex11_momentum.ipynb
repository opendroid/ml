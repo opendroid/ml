{
 "cells": [
  {
   "cell_type": "markdown",
   "metadata": {
    "id": "wv4Gvmgwa4gn"
   },
   "source": [
    "## __Gradient Descent with Momentum__\n",
    "\n",
    "Problem with the gradient descent algorithm:\n",
    "\n",
    "- The progression of the search can fluctuate within the search space based on the gradient.\n",
    "- This behavior can impede the progress of the search, particularly in optimization problems where the overall trend or shape of the search space is more valuable than specific gradients encountered along the way."
   ]
  },
  {
   "cell_type": "markdown",
   "metadata": {
    "id": "dY3mU0P6a4gr"
   },
   "source": [
    "Momentum\n",
    "- It serves as an extension to the gradient descent optimization algorithm, aiming to expedite the optimization process by incorporating historical information into the parameter update equation.\n",
    "- This is achieved by considering the gradients encountered in previous updates.\n",
    "- In this approach, an additional hyperparameter is introduced to govern the degree of historical momentum included in the update equation.\n"
   ]
  },
  {
   "cell_type": "markdown",
   "metadata": {
    "id": "K16_Lct9EsT1"
   },
   "source": [
    "## Steps to Be Followed:\n",
    "1.  Importing the required libraries\n",
    "2.  Defining the objective function\n",
    "3.  Defining the gradient descent algorithm\n"
   ]
  },
  {
   "cell_type": "markdown",
   "metadata": {
    "id": "jIaxwF3UfKAs"
   },
   "source": [
    "### Step 1: Importing the Required Libraries\n",
    "\n",
    "- Import **numpy.asarray** to convert input data into an array\n",
    "- Import **numpy.random.rand** to generate random numbers from a uniform distribution\n",
    "- Import **numpy.random.seed** to set the seed for reproducible random number generation\n",
    "- Import **numpy.arange** to create an array of values within a specified range\n",
    "- Import **matplotlib.pyplot** that provides functions for creating plots and visualizations\n"
   ]
  },
  {
   "cell_type": "code",
   "execution_count": 1,
   "metadata": {
    "executionInfo": {
     "elapsed": 245,
     "status": "ok",
     "timestamp": 1732848881859,
     "user": {
      "displayName": "Fabien Marpeau",
      "userId": "15210978490258687001"
     },
     "user_tz": 360
    },
    "id": "6-8vf8Haa4gr"
   },
   "outputs": [],
   "source": [
    "import numpy as np\n",
    "from numpy import asarray\n",
    "from numpy.random import rand\n",
    "from numpy.random import seed\n",
    "from numpy import arange\n",
    "from matplotlib import pyplot"
   ]
  },
  {
   "cell_type": "markdown",
   "metadata": {
    "id": "UK7yPHdGfdnc"
   },
   "source": [
    "### Step 2: Defining the Objective Function\n",
    "- The function **objective** takes a single input parameter **x**.\n",
    "- It returns the square of the input value as the output, representing the objective function."
   ]
  },
  {
   "cell_type": "code",
   "execution_count": 2,
   "metadata": {
    "id": "h4PzQibNa4gr"
   },
   "outputs": [],
   "source": [
    "# Define objective function = cost function\n",
    "def objective(w):\n",
    "    return w**2.0"
   ]
  },
  {
   "cell_type": "markdown",
   "metadata": {
    "id": "Lu6svRFFg8nM"
   },
   "source": [
    "### Step 3: Defining the Gradient Descent Algorithm\n",
    "\n",
    "- You must calculate the square of **x**, representing the objective function.\n",
    "- The derivative(x) function computes the derivative of x with respect to the objective function.\n",
    "- The **gradient_descent(objective, derivative, bounds, n_iter, step_size, momentum)** function implements the gradient descent algorithm. It initializes a solution within the specified bounds and iteratively updates it based on the objective and derivative functions. The function also tracks and stores the solutions and their corresponding scores.\n",
    "- The random seed is set to 4 using seed(4) to ensure reproducibility.\n",
    "- The bounds variable defines the lower and upper bounds for the solution space.\n",
    "- Parameters such as the number of iterations (n_iter), step size (step_size), and momentum (momentum) are specified.\n",
    "- The **gradient_descent** function is called with the provided arguments, and the resulting solutions and scores are stored.\n",
    "- An array of input values (inputs) is generated using **arange** within the defined bounds.\n",
    "- The objective function values (results) are computed for the input values.\n",
    "- The objective function curve is plotted using **pyplot.plot** with inputs on the x-axis and results on the y-axis.\n",
    "- The optimization path is visualized by plotting the solutions and scores as red dots connected by lines using pyplot.plot.\n",
    "- Finally, **pyplot.show()** is called to display the plot."
   ]
  },
  {
   "cell_type": "code",
   "execution_count": 3,
   "metadata": {
    "id": "h99TZFVO1sAw"
   },
   "outputs": [],
   "source": [
    "# compute the gradient\n",
    "def derivative(w):\n",
    "    return 2.0 * w"
   ]
  },
  {
   "cell_type": "code",
   "execution_count": 4,
   "metadata": {
    "id": "gsJsF4XYa4gs"
   },
   "outputs": [],
   "source": [
    "def gradient_descent(objective, derivative, bounds, n_iter, lrate, momentum):\n",
    "    weights, scores = list(), list()\n",
    "\n",
    "    # Initialize the weight\n",
    "    weight = bounds[:, 0] + rand(len(bounds)) * (bounds[:, 1] - bounds[:, 0])\n",
    "\n",
    "    # Initialize the moving average\n",
    "    moving_average = derivative(weight)\n",
    "\n",
    "    for i in range(n_iter):\n",
    "\n",
    "        # Compute gradient\n",
    "        gradient = derivative(weight)\n",
    "\n",
    "        # Update moving average of the gradients; beta is called momentum\n",
    "        moving_average = momentum * moving_average + (1-momentum) * gradient\n",
    "\n",
    "        # Update the weight\n",
    "        weight = weight - lrate * moving_average\n",
    "\n",
    "        # Optionally, evealuate the objective at the updated weight and store the updated weight in a list\n",
    "        weight_eval = objective(weight)\n",
    "        weights.append(weight)\n",
    "        scores.append(weight_eval)\n",
    "        # End of the optional part\n",
    "\n",
    "        print('>%d f(%s) = %.5f' % (i, weight, weight_eval))\n",
    "    return [weights, scores]"
   ]
  },
  {
   "cell_type": "code",
   "execution_count": 5,
   "metadata": {
    "executionInfo": {
     "elapsed": 1149,
     "status": "ok",
     "timestamp": 1732848898135,
     "user": {
      "displayName": "Fabien Marpeau",
      "userId": "15210978490258687001"
     },
     "user_tz": 360
    },
    "id": "HwNSp0sZ1sAx"
   },
   "outputs": [
    {
     "data": {
      "image/png": "[encoded data removed]",
      "text/plain": [
       "<Figure size 640x480 with 1 Axes>"
      ]
     },
     "metadata": {},
     "output_type": "display_data"
    },
    {
     "name": "stdout",
     "output_type": "stream",
     "text": [
      ">0 f([0.74724774]) = 0.55838\n",
      ">1 f([0.58658948]) = 0.34409\n",
      ">2 f([0.45626947]) = 0.20818\n",
      ">3 f([0.35329574]) = 0.12482\n",
      ">4 f([0.27294222]) = 0.07450\n",
      ">5 f([0.21062425]) = 0.04436\n",
      ">6 f([0.16244147]) = 0.02639\n",
      ">7 f([0.12524483]) = 0.01569\n",
      ">8 f([0.09655156]) = 0.00932\n",
      ">9 f([0.07442636]) = 0.00554\n",
      ">10 f([0.05736911]) = 0.00329\n",
      ">11 f([0.04422026]) = 0.00196\n",
      ">12 f([0.03408477]) = 0.00116\n",
      ">13 f([0.02627225]) = 0.00069\n",
      ">14 f([0.02025038]) = 0.00041\n",
      ">15 f([0.01560877]) = 0.00024\n",
      ">16 f([0.01203106]) = 0.00014\n",
      ">17 f([0.0092734]) = 0.00009\n",
      ">18 f([0.00714782]) = 0.00005\n",
      ">19 f([0.00550945]) = 0.00003\n",
      ">20 f([0.00424662]) = 0.00002\n",
      ">21 f([0.00327324]) = 0.00001\n",
      ">22 f([0.00252298]) = 0.00001\n",
      ">23 f([0.00194468]) = 0.00000\n",
      ">24 f([0.00149894]) = 0.00000\n",
      ">25 f([0.00115536]) = 0.00000\n",
      ">26 f([0.00089054]) = 0.00000\n",
      ">27 f([0.00068642]) = 0.00000\n",
      ">28 f([0.00052908]) = 0.00000\n",
      ">29 f([0.00040781]) = 0.00000\n"
     ]
    },
    {
     "name": "stderr",
     "output_type": "stream",
     "text": [
      "/var/folders/20/3j4rdyrn6dz8rtgnw30ydg800000gn/T/ipykernel_15451/2280438976.py:27: DeprecationWarning: Conversion of an array with ndim > 0 to a scalar is deprecated, and will error in future. Ensure you extract a single element from your array before performing this operation. (Deprecated NumPy 1.25.)\n",
      "  print('>%d f(%s) = %.5f' % (i, weight, weight_eval))\n"
     ]
    },
    {
     "data": {
      "image/png": "[encoded data removed]",
      "text/plain": [
       "<Figure size 640x480 with 1 Axes>"
      ]
     },
     "metadata": {},
     "output_type": "display_data"
    }
   ],
   "source": [
    "seed(4)\n",
    "\n",
    "bounds = asarray([[-1.0, 1.0]])\n",
    "\n",
    "n_iter = 30\n",
    "\n",
    "step_size = 0.1\n",
    "momentum = 0.3\n",
    "\n",
    "inputs = arange(bounds[0,0], bounds[0,1] + 0.1, 0.1)\n",
    "results = objective(inputs)\n",
    "pyplot.plot(inputs, results)\n",
    "pyplot.show()\n",
    "\n",
    "solutions, scores = gradient_descent(objective, derivative, bounds, n_iter, step_size, momentum)\n",
    "pyplot.plot(inputs, results)\n",
    "pyplot.plot(solutions, scores, '.-', color='red')\n",
    "pyplot.show()"
   ]
  },
  {
   "cell_type": "markdown",
   "metadata": {},
   "source": [
    "## Final weight"
   ]
  },
  {
   "cell_type": "code",
   "execution_count": 6,
   "metadata": {},
   "outputs": [
    {
     "data": {
      "text/plain": [
       "array([0.00040781])"
      ]
     },
     "execution_count": 6,
     "metadata": {},
     "output_type": "execute_result"
    }
   ],
   "source": [
    "solutions[-1]"
   ]
  },
  {
   "cell_type": "markdown",
   "metadata": {
    "id": "Ex2cInyQjU8J"
   },
   "source": [
    "**Observation**\n",
    "- The code snippet visualizes the convergence of the gradient descent algorithm by plotting the objective function and the solutions found at each iteration, providing a graphical representation of the optimization process."
   ]
  }
 ],
 "metadata": {
  "colab": {
   "provenance": []
  },
  "kernelspec": {
   "display_name": ".venv",
   "language": "python",
   "name": "python3"
  },
  "language_info": {
   "codemirror_mode": {
    "name": "ipython",
    "version": 3
   },
   "file_extension": ".py",
   "mimetype": "text/x-python",
   "name": "python",
   "nbconvert_exporter": "python",
   "pygments_lexer": "ipython3",
   "version": "3.12.11"
  }
 },
 "nbformat": 4,
 "nbformat_minor": 4
}
