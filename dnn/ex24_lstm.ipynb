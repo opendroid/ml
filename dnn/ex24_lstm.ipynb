{
  "cells": [
    {
      "cell_type": "markdown",
      "metadata": {
        "id": "AMGXXgNF7k61"
      },
      "source": [
        "# __Text Classification using LSTM__\n",
        "\n",
        "Let's see how to classify the text using LSTM (Long-short term memory)."
      ]
    },
    {
      "cell_type": "code",
      "execution_count": 1,
      "metadata": {
        "colab": {
          "base_uri": "https://localhost:8080/"
        },
        "id": "RME2Qywv_p7Z",
        "outputId": "1e8212f8-c9c8-4298-d4a2-41cfdbbbfadc"
      },
      "outputs": [],
      "source": [
        "# !pip3 install nltk\n",
        "import nltk"
      ]
    },
    {
      "cell_type": "code",
      "execution_count": 2,
      "metadata": {
        "colab": {
          "base_uri": "https://localhost:8080/"
        },
        "id": "e3rBePhTS-m4",
        "outputId": "9dfbde9e-b65e-470f-ae64-02744c612420"
      },
      "outputs": [
        {
          "name": "stderr",
          "output_type": "stream",
          "text": [
            "[nltk_data] Downloading package stopwords to /Users/xyz-\n",
            "[nltk_data]     ai/nltk_data...\n",
            "[nltk_data]   Package stopwords is already up-to-date!\n"
          ]
        },
        {
          "data": {
            "text/plain": [
              "True"
            ]
          },
          "execution_count": 2,
          "metadata": {},
          "output_type": "execute_result"
        }
      ],
      "source": [
        "nltk.download('stopwords')"
      ]
    },
    {
      "cell_type": "markdown",
      "metadata": {
        "id": "VuJT1hcu92er"
      },
      "source": [
        "## Steps to be followed:\n",
        "\n",
        "1. Import the libraries\n",
        "2. Define the hyperparameter\n",
        "3. Preprocess the data and print the lengths of the labels and article lists\n",
        "4. Split the data into training and validation sets\n",
        "5. Initialize a tokenizer and fit it to the training articles\n",
        "6. Convert the training articles into sequences using the tokenizer\n",
        "7. Pad the sequence\n",
        "8. Print the length of validation sequences and the shape of validation padded\n",
        "9. Train the model\n",
        "10. Compile the model\n",
        "11. Plot the graph"
      ]
    },
    {
      "cell_type": "markdown",
      "metadata": {
        "id": "nKxl5ljN-IKH"
      },
      "source": [
        "### Step 1: Import the libraries\n",
        "- Import the required libraries"
      ]
    },
    {
      "cell_type": "code",
      "execution_count": 3,
      "metadata": {
        "id": "qLg1HxV27k64"
      },
      "outputs": [],
      "source": [
        "import csv\n",
        "import tensorflow as tf\n",
        "import numpy as np\n",
        "from tensorflow.keras.preprocessing.text import Tokenizer\n",
        "from tensorflow.keras.preprocessing.sequence import pad_sequences\n",
        "from nltk.corpus import stopwords\n",
        "STOPWORDS = set(stopwords.words('english'))\n",
        "import matplotlib.pyplot as plt\n"
      ]
    },
    {
      "cell_type": "code",
      "execution_count": 4,
      "metadata": {
        "colab": {
          "base_uri": "https://localhost:8080/"
        },
        "id": "ejA2rucnTcWg",
        "outputId": "c3e1ac1f-ed66-42b4-9ea6-9dc34bb15e4a"
      },
      "outputs": [
        {
          "data": {
            "text/plain": [
              "{'a',\n",
              " 'about',\n",
              " 'above',\n",
              " 'after',\n",
              " 'again',\n",
              " 'against',\n",
              " 'ain',\n",
              " 'all',\n",
              " 'am',\n",
              " 'an',\n",
              " 'and',\n",
              " 'any',\n",
              " 'are',\n",
              " 'aren',\n",
              " \"aren't\",\n",
              " 'as',\n",
              " 'at',\n",
              " 'be',\n",
              " 'because',\n",
              " 'been',\n",
              " 'before',\n",
              " 'being',\n",
              " 'below',\n",
              " 'between',\n",
              " 'both',\n",
              " 'but',\n",
              " 'by',\n",
              " 'can',\n",
              " 'couldn',\n",
              " \"couldn't\",\n",
              " 'd',\n",
              " 'did',\n",
              " 'didn',\n",
              " \"didn't\",\n",
              " 'do',\n",
              " 'does',\n",
              " 'doesn',\n",
              " \"doesn't\",\n",
              " 'doing',\n",
              " 'don',\n",
              " \"don't\",\n",
              " 'down',\n",
              " 'during',\n",
              " 'each',\n",
              " 'few',\n",
              " 'for',\n",
              " 'from',\n",
              " 'further',\n",
              " 'had',\n",
              " 'hadn',\n",
              " \"hadn't\",\n",
              " 'has',\n",
              " 'hasn',\n",
              " \"hasn't\",\n",
              " 'have',\n",
              " 'haven',\n",
              " \"haven't\",\n",
              " 'having',\n",
              " 'he',\n",
              " \"he'd\",\n",
              " \"he'll\",\n",
              " \"he's\",\n",
              " 'her',\n",
              " 'here',\n",
              " 'hers',\n",
              " 'herself',\n",
              " 'him',\n",
              " 'himself',\n",
              " 'his',\n",
              " 'how',\n",
              " 'i',\n",
              " \"i'd\",\n",
              " \"i'll\",\n",
              " \"i'm\",\n",
              " \"i've\",\n",
              " 'if',\n",
              " 'in',\n",
              " 'into',\n",
              " 'is',\n",
              " 'isn',\n",
              " \"isn't\",\n",
              " 'it',\n",
              " \"it'd\",\n",
              " \"it'll\",\n",
              " \"it's\",\n",
              " 'its',\n",
              " 'itself',\n",
              " 'just',\n",
              " 'll',\n",
              " 'm',\n",
              " 'ma',\n",
              " 'me',\n",
              " 'mightn',\n",
              " \"mightn't\",\n",
              " 'more',\n",
              " 'most',\n",
              " 'mustn',\n",
              " \"mustn't\",\n",
              " 'my',\n",
              " 'myself',\n",
              " 'needn',\n",
              " \"needn't\",\n",
              " 'no',\n",
              " 'nor',\n",
              " 'not',\n",
              " 'now',\n",
              " 'o',\n",
              " 'of',\n",
              " 'off',\n",
              " 'on',\n",
              " 'once',\n",
              " 'only',\n",
              " 'or',\n",
              " 'other',\n",
              " 'our',\n",
              " 'ours',\n",
              " 'ourselves',\n",
              " 'out',\n",
              " 'over',\n",
              " 'own',\n",
              " 're',\n",
              " 's',\n",
              " 'same',\n",
              " 'shan',\n",
              " \"shan't\",\n",
              " 'she',\n",
              " \"she'd\",\n",
              " \"she'll\",\n",
              " \"she's\",\n",
              " 'should',\n",
              " \"should've\",\n",
              " 'shouldn',\n",
              " \"shouldn't\",\n",
              " 'so',\n",
              " 'some',\n",
              " 'such',\n",
              " 't',\n",
              " 'than',\n",
              " 'that',\n",
              " \"that'll\",\n",
              " 'the',\n",
              " 'their',\n",
              " 'theirs',\n",
              " 'them',\n",
              " 'themselves',\n",
              " 'then',\n",
              " 'there',\n",
              " 'these',\n",
              " 'they',\n",
              " \"they'd\",\n",
              " \"they'll\",\n",
              " \"they're\",\n",
              " \"they've\",\n",
              " 'this',\n",
              " 'those',\n",
              " 'through',\n",
              " 'to',\n",
              " 'too',\n",
              " 'under',\n",
              " 'until',\n",
              " 'up',\n",
              " 've',\n",
              " 'very',\n",
              " 'was',\n",
              " 'wasn',\n",
              " \"wasn't\",\n",
              " 'we',\n",
              " \"we'd\",\n",
              " \"we'll\",\n",
              " \"we're\",\n",
              " \"we've\",\n",
              " 'were',\n",
              " 'weren',\n",
              " \"weren't\",\n",
              " 'what',\n",
              " 'when',\n",
              " 'where',\n",
              " 'which',\n",
              " 'while',\n",
              " 'who',\n",
              " 'whom',\n",
              " 'why',\n",
              " 'will',\n",
              " 'with',\n",
              " 'won',\n",
              " \"won't\",\n",
              " 'wouldn',\n",
              " \"wouldn't\",\n",
              " 'y',\n",
              " 'you',\n",
              " \"you'd\",\n",
              " \"you'll\",\n",
              " \"you're\",\n",
              " \"you've\",\n",
              " 'your',\n",
              " 'yours',\n",
              " 'yourself',\n",
              " 'yourselves'}"
            ]
          },
          "execution_count": 4,
          "metadata": {},
          "output_type": "execute_result"
        }
      ],
      "source": [
        "STOPWORDS"
      ]
    },
    {
      "cell_type": "markdown",
      "metadata": {
        "id": "8cvQu2uW_AF0"
      },
      "source": [
        "### Step 2: Define the hyperparameter\n",
        "- Set the value of __vocab_size__ to __5000__, representing the size of the vocabulary.\n",
        "- Set the value of __embedding_dim__ to __64__, specifying the dimensionality of the word embeddings.\n",
        "- Set the value of __max_length__ to __200__, indicating the maximum length of input sequences.\n",
        "- Set the value of __padding_type__ to __post__, specifying that padding should be added at the end of sequences.\n",
        "- Set the value of __trunc_type__ to __post__, indicating that truncation should be applied at the end of sequences.\n",
        "- Set the value of __oov_tok__ to __OOV__, representing the token to be used for out-of-vocabulary words.\n",
        "- Set the value of __training_portion__ to __0.8__, representing the proportion of data to be used for training."
      ]
    },
    {
      "cell_type": "code",
      "execution_count": 5,
      "metadata": {
        "id": "BecOwkf37k66"
      },
      "outputs": [],
      "source": [
        "vocab_size = 5000\n",
        "embedding_dim = 64\n",
        "max_length = 200\n",
        "padding_type = 'post'\n",
        "trunc_type = 'post'\n",
        "oov_tok = '<OOV>'\n",
        "training_portion = .8"
      ]
    },
    {
      "cell_type": "markdown",
      "metadata": {
        "id": "x5682GVs7k66"
      },
      "source": [
        "### Step 3: Preprocess the data and print the lengths of the labels and articles lists\n",
        "\n",
        "- Define two empty lists, articles, and labels to store the articles and labels, respectively.\n",
        "- Read the contents of the **bbc-text.csv** file using csv.reader and iterate through each row.\n",
        "- Extract the labels from the first column of each row and append it to the labels list.\n",
        "- Process the article from the second column by removing stopwords and replacing consecutive spaces with a single space, and then append it to the article list.\n",
        "- Print the lengths of the labels and article lists to display the number of labels and processed articles, respectively."
      ]
    },
    {
      "cell_type": "code",
      "execution_count": 6,
      "metadata": {
        "colab": {
          "base_uri": "https://localhost:8080/"
        },
        "id": "PIpbDxrQZa3f",
        "outputId": "997dfc87-da57-4418-9ee4-b9d197d57755"
      },
      "outputs": [
        {
          "name": "stdout",
          "output_type": "stream",
          "text": [
            "{\"aren't\", 'then', 'them', 'doing', 'to', 'it', 'ours', 'me', \"needn't\", \"i'll\", 'wasn', 'with', 'about', 'has', 'you', 'yourself', 'i', \"they'll\", \"we'll\", 'once', 'won', 'if', 'and', \"wouldn't\", 'who', 'how', 'wouldn', \"didn't\", 'into', 'below', 'am', 'theirs', 'shouldn', \"they're\", 'at', \"couldn't\", \"he'd\", \"doesn't\", 'while', \"don't\", 'can', \"she's\", 'y', 'don', \"shouldn't\", 'herself', 'an', 'this', 'having', 'shan', 'haven', 'mustn', \"isn't\", 'in', 'myself', 'nor', 're', 've', 'not', 'only', 'is', 'no', 's', 'itself', 'mightn', 'be', 'some', \"we've\", \"you've\", \"it'd\", 'him', 'did', 'which', 'o', 'off', 'what', \"mustn't\", 'their', 'more', 'until', 'both', 'up', 'been', 'his', 'our', 'after', 'by', 'under', 'or', 'we', \"they'd\", 'that', \"wasn't\", \"she'd\", \"he's\", 'she', \"it's\", 'm', 'now', 'most', \"they've\", \"should've\", \"mightn't\", 'weren', \"he'll\", 'they', 'very', 'few', 'have', \"i'd\", 'ma', 'before', \"that'll\", \"we'd\", 'yours', 'hers', 'themselves', 'will', 'further', \"hadn't\", 'such', 'but', 'between', 'out', 'down', 'than', 't', 'own', 'my', 'needn', \"it'll\", \"i've\", 'same', 'too', 'were', 'here', \"i'm\", 'when', 'doesn', 'your', 'just', \"you'd\", 'all', 'on', 'there', 'was', 'being', 'as', \"shan't\", 'he', 'against', 'couldn', 'aren', \"you're\", \"haven't\", 'because', 'should', \"hasn't\", \"won't\", 'ain', 'each', 'yourselves', 'above', 'had', 'of', 'hadn', 'hasn', 'll', 'd', 'for', 'are', 'her', 'ourselves', 'whom', 'so', 'why', \"you'll\", 'over', 'other', 'these', 'isn', 'do', \"she'll\", 'again', 'didn', 'does', 'the', 'himself', 'those', 'a', \"we're\", 'from', 'its', 'during', 'through', 'where', \"weren't\", 'any'}\n"
          ]
        }
      ],
      "source": [
        "print(STOPWORDS)"
      ]
    },
    {
      "cell_type": "code",
      "execution_count": 7,
      "metadata": {
        "colab": {
          "base_uri": "https://localhost:8080/"
        },
        "id": "YOrfsrUe7k67",
        "outputId": "c9ce8b90-8944-42dc-9acb-efc3d288de97"
      },
      "outputs": [
        {
          "name": "stdout",
          "output_type": "stream",
          "text": [
            "2225\n",
            "2225\n"
          ]
        }
      ],
      "source": [
        "articles = []\n",
        "labels = []\n",
        "\n",
        "with open(\"./data/bbc-text.csv\", 'r') as csvfile:\n",
        "    reader = csv.reader(csvfile, delimiter=',')\n",
        "    next(reader)\n",
        "    for row in reader:\n",
        "        labels.append(row[0])\n",
        "        article = row[1]\n",
        "        for word in STOPWORDS:\n",
        "            token = ' ' + word + ' '\n",
        "            article = article.replace(token, ' ')\n",
        "            article = article.replace(' ', ' ')\n",
        "        articles.append(article)\n",
        "print(len(labels))\n",
        "print(len(articles))"
      ]
    },
    {
      "cell_type": "markdown",
      "metadata": {
        "id": "vWRILKjwU3OT"
      },
      "source": [
        "<br>\n",
        "\n",
        "__Article number 9 BEFORE removing the stop words:__"
      ]
    },
    {
      "cell_type": "code",
      "execution_count": 9,
      "metadata": {
        "colab": {
          "base_uri": "https://localhost:8080/"
        },
        "id": "mOSUU603U3ar",
        "outputId": "fbc5ceb5-93dc-4a8d-a772-32b7edb2e3ce"
      },
      "outputs": [
        {
          "name": "stdout",
          "output_type": "stream",
          "text": [
            "last star wars  not for children  the sixth and final star wars movie may not be suitable for young children  film-maker george lucas has said.  he told us tv show 60 minutes that revenge of the sith would be the darkest and most violent of the series.  i don t think i would take a five or six-year-old to this   he told the cbs programme  to be aired on sunday. lucas predicted the film would get a us rating advising parents some scenes may be unsuitable for under-13s. it opens in the uk and us on 19 may. he said he expected the film would be classified pg-13 - roughly equivalent to a british 12a rating.  the five previous star wars films have all carried less restrictive pg - parental guidance - ratings in the us. in the uk  they have all been passed u - suitable for all - with the exception of attack of the clones  which got a pg rating in 2002. revenge of the sith - the third prequel to the original 1977 star wars film - chronicles the transformation of the heroic anakin skywalker into the evil darth vader as he travels to a hell-like planet composed of erupting volcanoes and molten lava.  we re going to watch him make a pact with the devil   lucas said.  the film is much more dark  more emotional. it s much more of a tragedy.\n"
          ]
        }
      ],
      "source": [
        "with open(\"./data/bbc-text.csv\", 'r') as csvfile:\n",
        "    reader = csv.reader(csvfile, delimiter=',')\n",
        "    next(reader)\n",
        "    i=0\n",
        "    for row in reader:\n",
        "        article = row[1]\n",
        "        if (i==9): print(article)\n",
        "        i=i+1"
      ]
    },
    {
      "cell_type": "markdown",
      "metadata": {
        "id": "HUEBbvNhUxjj"
      },
      "source": [
        "<br>\n",
        "\n",
        "__Article number 9 AFTER removing the stop words:__"
      ]
    },
    {
      "cell_type": "code",
      "execution_count": 10,
      "metadata": {
        "colab": {
          "base_uri": "https://localhost:8080/"
        },
        "id": "yu-Mpno7Za3g",
        "outputId": "0c684228-0334-46c8-d18c-136b69d0a8bb"
      },
      "outputs": [
        {
          "name": "stdout",
          "output_type": "stream",
          "text": [
            "last star wars  children  sixth final star wars movie may suitable young children  film-maker george lucas said.  told us tv show 60 minutes revenge sith would darkest violent series.  think would take five six-year-old   told cbs programme  aired sunday. lucas predicted film would get us rating advising parents scenes may unsuitable under-13s. opens uk us 19 may. said expected film would classified pg-13 - roughly equivalent british 12a rating.  five previous star wars films carried less restrictive pg - parental guidance - ratings us. uk  passed u - suitable - exception attack clones  got pg rating 2002. revenge sith - third prequel original 1977 star wars film - chronicles transformation heroic anakin skywalker evil darth vader travels hell-like planet composed erupting volcanoes molten lava.  going watch make pact devil   lucas said.  film much dark  emotional. much tragedy.\n"
          ]
        }
      ],
      "source": [
        "print(articles[9])"
      ]
    },
    {
      "cell_type": "code",
      "execution_count": 11,
      "metadata": {
        "colab": {
          "base_uri": "https://localhost:8080/"
        },
        "id": "JZvTsSGDZa3g",
        "outputId": "e08cfb44-6d75-40d3-a46c-676f6492a4fe"
      },
      "outputs": [
        {
          "name": "stdout",
          "output_type": "stream",
          "text": [
            "entertainment\n"
          ]
        }
      ],
      "source": [
        "print(labels[9])"
      ]
    },
    {
      "cell_type": "markdown",
      "metadata": {
        "id": "O-59WC2jVSVL"
      },
      "source": [
        "__We just saw one example of input (article 9) and target (category \"entertainment\").__"
      ]
    },
    {
      "cell_type": "markdown",
      "metadata": {
        "id": "Qtk-qqt67k67"
      },
      "source": [
        "__Observations:__\n",
        "- There are only **2,225** articles in the data.\n",
        "- Then, we split into a training set and validation set, according to the parameter we set earlier, 80% for training, and 20% for validation."
      ]
    },
    {
      "cell_type": "code",
      "execution_count": 12,
      "metadata": {
        "colab": {
          "base_uri": "https://localhost:8080/"
        },
        "id": "-1VumiC-VWOp",
        "outputId": "b87d28d2-51d7-4ed5-ea35-18b6048e2971"
      },
      "outputs": [
        {
          "data": {
            "text/plain": [
              "2225"
            ]
          },
          "execution_count": 12,
          "metadata": {},
          "output_type": "execute_result"
        }
      ],
      "source": [
        "len(articles)"
      ]
    },
    {
      "cell_type": "markdown",
      "metadata": {
        "id": "74-YbeRiVesU"
      },
      "source": [
        "Each element of the list \"articles\" is an article."
      ]
    },
    {
      "cell_type": "code",
      "execution_count": 13,
      "metadata": {
        "colab": {
          "base_uri": "https://localhost:8080/",
          "height": 159
        },
        "id": "R44e6tkrVdr-",
        "outputId": "36a2676f-7dd2-47fa-d295-dcf7af3948ad"
      },
      "outputs": [
        {
          "data": {
            "text/plain": [
              "'tv future hands viewers home theatre systems  plasma high-definition tvs  digital video recorders moving living room  way people watch tv radically different five years  time.  according expert panel gathered annual consumer electronics show las vegas discuss new technologies impact one favourite pastimes. us leading trend  programmes content delivered viewers via home networks  cable  satellite  telecoms companies  broadband service providers front rooms portable devices.  one talked-about technologies ces digital personal video recorders (dvr pvr). set-top boxes  like us tivo uk sky+ system  allow people record  store  play  pause forward wind tv programmes want.  essentially  technology allows much personalised tv. also built-in high-definition tv sets  big business japan us  slower take europe lack high-definition programming. people forward wind adverts  also forget abiding network channel schedules  putting together a-la-carte entertainment. us networks cable satellite companies worried means terms advertising revenues well  brand identity  viewer loyalty channels. although us leads technology moment  also concern raised europe  particularly growing uptake services like sky+.  happens today  see nine months years  time uk   adam hume  bbc broadcast futurologist told bbc news website. likes bbc  issues lost advertising revenue yet. pressing issue moment commercial uk broadcasters  brand loyalty important everyone.  talking content brands rather network brands   said tim hanlon  brand communications firm starcom mediavest.  reality broadband connections  anybody producer content.  added:  challenge hard promote programme much choice.   means  said stacey jolna  senior vice president tv guide tv group  way people find content want watch simplified tv viewers. means networks  us terms  channels could take leaf google book search engine future  instead scheduler help people find want watch. kind channel model might work younger ipod generation used taking control gadgets play them. might suit everyone  panel recognised. older generations comfortable familiar schedules channel brands know getting. perhaps want much choice put hands  mr hanlon suggested.  end  kids diapers pushing buttons already - everything possible available   said mr hanlon.  ultimately  consumer tell market want.   50 000 new gadgets technologies showcased ces  many enhancing tv-watching experience. high-definition tv sets everywhere many new models lcd (liquid crystal display) tvs launched dvr capability built  instead external boxes. one example launched show humax 26-inch lcd tv 80-hour tivo dvr dvd recorder. one us biggest satellite tv companies  directtv  even launched branded dvr show 100-hours recording capability  instant replay  search function. set pause rewind tv 90 hours. microsoft chief bill gates announced pre-show keynote speech partnership tivo  called tivotogo  means people play recorded programmes windows pcs mobile devices. reflect increasing trend freeing multimedia people watch want  want.'"
            ]
          },
          "execution_count": 13,
          "metadata": {},
          "output_type": "execute_result"
        }
      ],
      "source": [
        "articles[0]"
      ]
    },
    {
      "cell_type": "code",
      "execution_count": 14,
      "metadata": {
        "colab": {
          "base_uri": "https://localhost:8080/",
          "height": 35
        },
        "id": "C6uhXWY4VvI8",
        "outputId": "2dfcd23a-5956-4b00-9655-1f3d488f0fa7"
      },
      "outputs": [
        {
          "data": {
            "text/plain": [
              "'tech'"
            ]
          },
          "execution_count": 14,
          "metadata": {},
          "output_type": "execute_result"
        }
      ],
      "source": [
        "labels[0]"
      ]
    },
    {
      "cell_type": "code",
      "execution_count": 15,
      "metadata": {
        "colab": {
          "base_uri": "https://localhost:8080/",
          "height": 159
        },
        "id": "QhLXjr1qVrlR",
        "outputId": "e054f39a-9632-46c6-f40b-71f8043b2046"
      },
      "outputs": [
        {
          "data": {
            "text/plain": [
              "'worldcom boss  left books alone  former worldcom boss bernie ebbers  accused overseeing $11bn (£5.8bn) fraud  never made accounting decisions  witness told jurors.  david myers made comments questioning defence lawyers arguing mr ebbers responsible worldcom problems. phone company collapsed 2002 prosecutors claim losses hidden protect firm shares. mr myers already pleaded guilty fraud assisting prosecutors.  monday  defence lawyer reid weingarten tried distance client allegations. cross examination  asked mr myers ever knew mr ebbers  make accounting decision  .  aware   mr myers replied.  ever know mr ebbers make accounting entry worldcom books   mr weingarten pressed.    replied witness. mr myers admitted ordered false accounting entries request former worldcom chief financial officer scott sullivan. defence lawyers trying paint mr sullivan  admitted fraud testify later trial  mastermind behind worldcom accounting house cards.  mr ebbers  team  meanwhile  looking portray affable boss  admission pe graduate economist. whatever abilities  mr ebbers transformed worldcom relative unknown $160bn telecoms giant investor darling late 1990s. worldcom problems mounted  however  competition increased telecoms boom petered out. firm finally collapsed  shareholders lost $180bn 20 000 workers lost jobs. mr ebbers  trial expected last two months found guilty former ceo faces substantial jail sentence. firmly declared innocence.'"
            ]
          },
          "execution_count": 15,
          "metadata": {},
          "output_type": "execute_result"
        }
      ],
      "source": [
        "articles[1]"
      ]
    },
    {
      "cell_type": "code",
      "execution_count": 16,
      "metadata": {
        "colab": {
          "base_uri": "https://localhost:8080/",
          "height": 35
        },
        "id": "tLTYeZUdVxqu",
        "outputId": "68b85113-870e-4292-9b4a-42160661a658"
      },
      "outputs": [
        {
          "data": {
            "text/plain": [
              "'business'"
            ]
          },
          "execution_count": 16,
          "metadata": {},
          "output_type": "execute_result"
        }
      ],
      "source": [
        "labels[1]"
      ]
    },
    {
      "cell_type": "markdown",
      "metadata": {
        "id": "C72gvCwGSa0k"
      },
      "source": [
        "### Step 4: Split the data into training and validation sets\n",
        "- Calculate the **train_size** by multiplying the length of the article list with __training_portion__ and converting it to an integer.\n",
        "- Create **train_articles** by slicing the article list from index **0** to **train_size.**\n",
        "- Create **train_labels** by slicing the labels list from index **0** to **train_size.**\n",
        "- Create validation_articles by slicing the articles list from **train_size** onward.\n",
        "- Create **validation_labels** by slicing the labels list from **train_size** onward.\n",
        "- Print the **train_size** to display the calculated value.\n",
        "\n",
        "- The lengths of **train_articles**, **train_labels**, **validation_articles**, and **validation_labels** represent the number of items in each list."
      ]
    },
    {
      "cell_type": "code",
      "execution_count": 17,
      "metadata": {
        "colab": {
          "base_uri": "https://localhost:8080/"
        },
        "id": "EKMT9Fb37k68",
        "outputId": "f12809f2-a68f-49ef-af4d-23e973fdd7f6"
      },
      "outputs": [
        {
          "data": {
            "text/plain": [
              "1780"
            ]
          },
          "execution_count": 17,
          "metadata": {},
          "output_type": "execute_result"
        }
      ],
      "source": [
        "train_size = int(len(articles) * training_portion)\n",
        "train_size"
      ]
    },
    {
      "cell_type": "code",
      "execution_count": 18,
      "metadata": {
        "colab": {
          "base_uri": "https://localhost:8080/"
        },
        "id": "O3jrEdIoWAr4",
        "outputId": "593918b6-0db4-4c86-80dd-699fd2e62f1b"
      },
      "outputs": [
        {
          "name": "stdout",
          "output_type": "stream",
          "text": [
            "1780\n",
            "1780\n",
            "1780\n",
            "445\n",
            "445\n"
          ]
        }
      ],
      "source": [
        "train_articles = articles[0: train_size]\n",
        "train_labels = labels[0: train_size]\n",
        "\n",
        "validation_articles = articles[train_size:]\n",
        "validation_labels = labels[train_size:]\n",
        "\n",
        "print(train_size)\n",
        "print(len(train_articles))\n",
        "print(len(train_labels))\n",
        "print(len(validation_articles))\n",
        "print(len(validation_labels))"
      ]
    },
    {
      "cell_type": "markdown",
      "metadata": {
        "id": "dx4Pb61WT2F3"
      },
      "source": [
        "__Observations:__\n",
        "- The value of **train_size** is calculated based on the proportion of training data.\n",
        "- The lengths of **train_articles**, **train_labels**, **validation_articles**, and **validation_labels** representing the number of items in each list."
      ]
    },
    {
      "cell_type": "markdown",
      "metadata": {
        "id": "bSR2G2lrWrue"
      },
      "source": [
        "### Step 5: Initialize a tokenizer and fit it to the training articles\n",
        "\n",
        "- Initialize a **Tokenizer** object named tokenizer with the specified parameters: **num_words** representing the vocabulary size and **oov_token** representing the out-of-vocabulary token.\n",
        "- Fit the tokenizer on the training articles **(train_articles)** using the **fit_on_texts** method.\n",
        "- This step updates the tokenizer's internal word index based on the words in the training articles.\n",
        "- Assign the word index obtained from the tokenizer to the variable **word_index.**\n",
        "- Extract the first 10 items from the word_index dictionary\n",
        "- Print the resulting dictionary."
      ]
    },
    {
      "cell_type": "code",
      "execution_count": 19,
      "metadata": {
        "id": "2JrnZlTL7k68"
      },
      "outputs": [],
      "source": [
        "vocab_size=5000\n",
        "oov_tok = '<OOV>'\n",
        "\n",
        "# Declare tokenizer\n",
        "tokenizer = Tokenizer(num_words = vocab_size, oov_token=oov_tok)"
      ]
    },
    {
      "cell_type": "code",
      "execution_count": 20,
      "metadata": {
        "id": "dALQDT73XXRr"
      },
      "outputs": [],
      "source": [
        "# Fit tokenizer\n",
        "tokenizer.fit_on_texts(train_articles)"
      ]
    },
    {
      "cell_type": "code",
      "execution_count": 21,
      "metadata": {
        "colab": {
          "base_uri": "https://localhost:8080/"
        },
        "id": "TTxtVws-XjZ9",
        "outputId": "f924de13-dd8e-4d1e-f58f-637ba5c9b370"
      },
      "outputs": [
        {
          "data": {
            "text/plain": [
              "{'<OOV>': 1,\n",
              " 'said': 2,\n",
              " 'mr': 3,\n",
              " 'would': 4,\n",
              " 'year': 5,\n",
              " 'also': 6,\n",
              " 'people': 7,\n",
              " 'new': 8,\n",
              " 'us': 9,\n",
              " 'one': 10,\n",
              " 'could': 11,\n",
              " 'last': 12,\n",
              " 'first': 13,\n",
              " 'time': 14,\n",
              " 'two': 15,\n",
              " 'government': 16,\n",
              " 'world': 17,\n",
              " 'uk': 18,\n",
              " 'best': 19,\n",
              " 'years': 20,\n",
              " 'make': 21,\n",
              " 'film': 22,\n",
              " 'told': 23,\n",
              " 'made': 24,\n",
              " 'get': 25,\n",
              " 'music': 26,\n",
              " 'game': 27,\n",
              " 'like': 28,\n",
              " 'back': 29,\n",
              " 'many': 30,\n",
              " '000': 31,\n",
              " 'labour': 32,\n",
              " 'three': 33,\n",
              " 'well': 34,\n",
              " '1': 35,\n",
              " 'next': 36,\n",
              " 'bbc': 37,\n",
              " 'take': 38,\n",
              " 'set': 39,\n",
              " 'number': 40,\n",
              " 'added': 41,\n",
              " 'way': 42,\n",
              " 'market': 43,\n",
              " '2': 44,\n",
              " 'company': 45,\n",
              " 'may': 46,\n",
              " 'says': 47,\n",
              " 'election': 48,\n",
              " 'home': 49,\n",
              " 'party': 50,\n",
              " 'good': 51,\n",
              " 'going': 52,\n",
              " 'much': 53,\n",
              " 'work': 54,\n",
              " '2004': 55,\n",
              " 'still': 56,\n",
              " 'win': 57,\n",
              " 'show': 58,\n",
              " 'think': 59,\n",
              " 'games': 60,\n",
              " 'go': 61,\n",
              " 'top': 62,\n",
              " 'second': 63,\n",
              " 'million': 64,\n",
              " '6': 65,\n",
              " 'england': 66,\n",
              " 'firm': 67,\n",
              " 'since': 68,\n",
              " 'week': 69,\n",
              " 'say': 70,\n",
              " 'play': 71,\n",
              " 'part': 72,\n",
              " 'public': 73,\n",
              " 'use': 74,\n",
              " 'blair': 75,\n",
              " '3': 76,\n",
              " 'want': 77,\n",
              " 'minister': 78,\n",
              " 'however': 79,\n",
              " '10': 80,\n",
              " 'country': 81,\n",
              " 'technology': 82,\n",
              " 'see': 83,\n",
              " '4': 84,\n",
              " 'five': 85,\n",
              " 'british': 86,\n",
              " 'news': 87,\n",
              " 'european': 88,\n",
              " 'high': 89,\n",
              " 'group': 90,\n",
              " 'tv': 91,\n",
              " 'used': 92,\n",
              " 'end': 93,\n",
              " 'expected': 94,\n",
              " 'even': 95,\n",
              " 'players': 96,\n",
              " 'brown': 97,\n",
              " '5': 98,\n",
              " 'six': 99,\n",
              " 'old': 100,\n",
              " 'net': 101,\n",
              " 'already': 102,\n",
              " 'four': 103,\n",
              " 'plans': 104,\n",
              " 'put': 105,\n",
              " 'come': 106,\n",
              " 'half': 107,\n",
              " 'london': 108,\n",
              " 'sales': 109,\n",
              " 'growth': 110,\n",
              " 'long': 111,\n",
              " 'economy': 112,\n",
              " 'service': 113,\n",
              " 'right': 114,\n",
              " 'months': 115,\n",
              " 'chief': 116,\n",
              " 'day': 117,\n",
              " 'mobile': 118,\n",
              " 'former': 119,\n",
              " 'money': 120,\n",
              " 'britain': 121,\n",
              " 'director': 122,\n",
              " 'tax': 123,\n",
              " 'services': 124,\n",
              " '2005': 125,\n",
              " 'deal': 126,\n",
              " 'need': 127,\n",
              " 'help': 128,\n",
              " 'digital': 129,\n",
              " 'according': 130,\n",
              " 'big': 131,\n",
              " 'industry': 132,\n",
              " 'place': 133,\n",
              " 'companies': 134,\n",
              " 'users': 135,\n",
              " 'system': 136,\n",
              " 'business': 137,\n",
              " 'including': 138,\n",
              " 'team': 139,\n",
              " 'final': 140,\n",
              " 'based': 141,\n",
              " 'hit': 142,\n",
              " 'record': 143,\n",
              " 'report': 144,\n",
              " 'third': 145,\n",
              " 'called': 146,\n",
              " 'really': 147,\n",
              " 'international': 148,\n",
              " 'month': 149,\n",
              " 'move': 150,\n",
              " 'wales': 151,\n",
              " 'europe': 152,\n",
              " 'another': 153,\n",
              " '7': 154,\n",
              " 'life': 155,\n",
              " 'around': 156,\n",
              " 'economic': 157,\n",
              " 'start': 158,\n",
              " 'great': 159,\n",
              " 'future': 160,\n",
              " '2003': 161,\n",
              " 'firms': 162,\n",
              " 'came': 163,\n",
              " 'france': 164,\n",
              " 'open': 165,\n",
              " 'got': 166,\n",
              " 'spokesman': 167,\n",
              " 'software': 168,\n",
              " 'without': 169,\n",
              " 'general': 170,\n",
              " 'club': 171,\n",
              " 'took': 172,\n",
              " 'up': 173,\n",
              " 'ireland': 174,\n",
              " 'video': 175,\n",
              " 'howard': 176,\n",
              " 'know': 177,\n",
              " 'united': 178,\n",
              " 'online': 179,\n",
              " 'bank': 180,\n",
              " 'phone': 181,\n",
              " 'china': 182,\n",
              " 'far': 183,\n",
              " 'state': 184,\n",
              " 'campaign': 185,\n",
              " 'side': 186,\n",
              " 'law': 187,\n",
              " 'radio': 188,\n",
              " 'better': 189,\n",
              " 'court': 190,\n",
              " 'making': 191,\n",
              " 'decision': 192,\n",
              " 'executive': 193,\n",
              " 'real': 194,\n",
              " 'media': 195,\n",
              " 'offer': 196,\n",
              " 'give': 197,\n",
              " 'computer': 198,\n",
              " 'found': 199,\n",
              " 'action': 200,\n",
              " 'able': 201,\n",
              " 'president': 202,\n",
              " 'information': 203,\n",
              " 'despite': 204,\n",
              " 'office': 205,\n",
              " 'star': 206,\n",
              " 'lot': 207,\n",
              " 'national': 208,\n",
              " 'line': 209,\n",
              " 'countries': 210,\n",
              " 'likely': 211,\n",
              " 'using': 212,\n",
              " 'away': 213,\n",
              " 'player': 214,\n",
              " 'internet': 215,\n",
              " 'saying': 216,\n",
              " 'it': 217,\n",
              " 'every': 218,\n",
              " 'given': 219,\n",
              " 'security': 220,\n",
              " 'become': 221,\n",
              " 'left': 222,\n",
              " 'awards': 223,\n",
              " 'figures': 224,\n",
              " 'anti': 225,\n",
              " 'nations': 226,\n",
              " 'run': 227,\n",
              " 'eu': 228,\n",
              " '20': 229,\n",
              " 'cost': 230,\n",
              " 'prime': 231,\n",
              " 'role': 232,\n",
              " 'seen': 233,\n",
              " 'playing': 234,\n",
              " 'biggest': 235,\n",
              " 'man': 236,\n",
              " 'january': 237,\n",
              " 'data': 238,\n",
              " 'bill': 239,\n",
              " 'whether': 240,\n",
              " 'played': 241,\n",
              " 'later': 242,\n",
              " 'foreign': 243,\n",
              " 'although': 244,\n",
              " 'cup': 245,\n",
              " 'hard': 246,\n",
              " 'award': 247,\n",
              " 'rise': 248,\n",
              " 'broadband': 249,\n",
              " 'times': 250,\n",
              " 'match': 251,\n",
              " 'chancellor': 252,\n",
              " 'oil': 253,\n",
              " 'pay': 254,\n",
              " 'lost': 255,\n",
              " 'taking': 256,\n",
              " 'house': 257,\n",
              " 'due': 258,\n",
              " 'past': 259,\n",
              " 'interest': 260,\n",
              " 'early': 261,\n",
              " 'never': 262,\n",
              " 'lord': 263,\n",
              " 'leader': 264,\n",
              " 'support': 265,\n",
              " 'case': 266,\n",
              " 'prices': 267,\n",
              " 'look': 268,\n",
              " 'microsoft': 269,\n",
              " 'shares': 270,\n",
              " 'michael': 271,\n",
              " 'legal': 272,\n",
              " 'analysts': 273,\n",
              " 'control': 274,\n",
              " 'believe': 275,\n",
              " 'december': 276,\n",
              " 'less': 277,\n",
              " 'days': 278,\n",
              " 'cut': 279,\n",
              " 'recent': 280,\n",
              " 'season': 281,\n",
              " 'little': 282,\n",
              " 'children': 283,\n",
              " 'e': 284,\n",
              " 'ahead': 285,\n",
              " 'earlier': 286,\n",
              " 'increase': 287,\n",
              " 'thought': 288,\n",
              " 'free': 289,\n",
              " 'john': 290,\n",
              " 'face': 291,\n",
              " 'research': 292,\n",
              " 'scotland': 293,\n",
              " 'important': 294,\n",
              " 'something': 295,\n",
              " 'current': 296,\n",
              " 'strong': 297,\n",
              " 'went': 298,\n",
              " 'issue': 299,\n",
              " 'secretary': 300,\n",
              " 'south': 301,\n",
              " 'local': 302,\n",
              " 'tory': 303,\n",
              " 'rights': 304,\n",
              " 'working': 305,\n",
              " 'power': 306,\n",
              " 'budget': 307,\n",
              " 'financial': 308,\n",
              " 'spending': 309,\n",
              " '12': 310,\n",
              " 'quarter': 311,\n",
              " 'access': 312,\n",
              " 'currently': 313,\n",
              " 'held': 314,\n",
              " 'major': 315,\n",
              " 'chance': 316,\n",
              " 'change': 317,\n",
              " 'trade': 318,\n",
              " 'films': 319,\n",
              " 'find': 320,\n",
              " 'looking': 321,\n",
              " 'try': 322,\n",
              " 'following': 323,\n",
              " 'sunday': 324,\n",
              " '0': 325,\n",
              " 'full': 326,\n",
              " 'tories': 327,\n",
              " 'yet': 328,\n",
              " 'return': 329,\n",
              " 'series': 330,\n",
              " 'latest': 331,\n",
              " 'meeting': 332,\n",
              " 'share': 333,\n",
              " 'different': 334,\n",
              " 'website': 335,\n",
              " 'david': 336,\n",
              " 'winning': 337,\n",
              " 'almost': 338,\n",
              " 'injury': 339,\n",
              " 'sale': 340,\n",
              " 'must': 341,\n",
              " 'lead': 342,\n",
              " 'enough': 343,\n",
              " 'personal': 344,\n",
              " 'programme': 345,\n",
              " 'might': 346,\n",
              " 'police': 347,\n",
              " 'low': 348,\n",
              " 'band': 349,\n",
              " 'problems': 350,\n",
              " 'ever': 351,\n",
              " 'keep': 352,\n",
              " 'rate': 353,\n",
              " 'announced': 354,\n",
              " 'always': 355,\n",
              " 'key': 356,\n",
              " 'coach': 357,\n",
              " 'williams': 358,\n",
              " 'sold': 359,\n",
              " 'across': 360,\n",
              " 'performance': 361,\n",
              " 'dollar': 362,\n",
              " '11': 363,\n",
              " 'among': 364,\n",
              " 'behind': 365,\n",
              " 'ago': 366,\n",
              " 'list': 367,\n",
              " '8': 368,\n",
              " '9': 369,\n",
              " 'clear': 370,\n",
              " 'getting': 371,\n",
              " 'political': 372,\n",
              " 'victory': 373,\n",
              " '25': 374,\n",
              " 'mark': 375,\n",
              " 'chairman': 376,\n",
              " 'include': 377,\n",
              " 'women': 378,\n",
              " 'demand': 379,\n",
              " '30': 380,\n",
              " 'statement': 381,\n",
              " 'ms': 382,\n",
              " 'march': 383,\n",
              " 'february': 384,\n",
              " 'things': 385,\n",
              " 'term': 386,\n",
              " 'rather': 387,\n",
              " 'jobs': 388,\n",
              " 'minutes': 389,\n",
              " 'tuesday': 390,\n",
              " 'american': 391,\n",
              " 'chelsea': 392,\n",
              " 'claims': 393,\n",
              " 'done': 394,\n",
              " 'content': 395,\n",
              " 'continue': 396,\n",
              " 'point': 397,\n",
              " 'job': 398,\n",
              " 'manager': 399,\n",
              " 'means': 400,\n",
              " 'head': 401,\n",
              " 'problem': 402,\n",
              " 'title': 403,\n",
              " 'actor': 404,\n",
              " 'coming': 405,\n",
              " 'huge': 406,\n",
              " 'price': 407,\n",
              " 'asked': 408,\n",
              " 'released': 409,\n",
              " 'taken': 410,\n",
              " 'mail': 411,\n",
              " 'men': 412,\n",
              " 'union': 413,\n",
              " 'members': 414,\n",
              " 'india': 415,\n",
              " 'allow': 416,\n",
              " 'weeks': 417,\n",
              " 'wednesday': 418,\n",
              " 'act': 419,\n",
              " 'japan': 420,\n",
              " 'rugby': 421,\n",
              " 'plan': 422,\n",
              " 'tony': 423,\n",
              " 'global': 424,\n",
              " 'investment': 425,\n",
              " 'least': 426,\n",
              " 'result': 427,\n",
              " 'apple': 428,\n",
              " '50': 429,\n",
              " 'young': 430,\n",
              " 'network': 431,\n",
              " 'today': 432,\n",
              " 'within': 433,\n",
              " 'costs': 434,\n",
              " 'fans': 435,\n",
              " 'forward': 436,\n",
              " 'bid': 437,\n",
              " 'main': 438,\n",
              " 'french': 439,\n",
              " 'possible': 440,\n",
              " 'production': 441,\n",
              " 'needed': 442,\n",
              " 'running': 443,\n",
              " 'site': 444,\n",
              " 'beat': 445,\n",
              " 'november': 446,\n",
              " '18': 447,\n",
              " 'small': 448,\n",
              " 'war': 449,\n",
              " 'council': 450,\n",
              " 'consumer': 451,\n",
              " 'available': 452,\n",
              " 'saturday': 453,\n",
              " 'form': 454,\n",
              " 'warned': 455,\n",
              " 'thing': 456,\n",
              " 'monday': 457,\n",
              " 'cash': 458,\n",
              " 'vote': 459,\n",
              " 'hold': 460,\n",
              " 'several': 461,\n",
              " 'known': 462,\n",
              " 'wanted': 463,\n",
              " 'mps': 464,\n",
              " 'song': 465,\n",
              " 'pc': 466,\n",
              " 'issues': 467,\n",
              " 'total': 468,\n",
              " 'committee': 469,\n",
              " 'friday': 470,\n",
              " '15': 471,\n",
              " 'level': 472,\n",
              " 'live': 473,\n",
              " 'football': 474,\n",
              " 'though': 475,\n",
              " 'evidence': 476,\n",
              " 'policy': 477,\n",
              " 'prize': 478,\n",
              " 'version': 479,\n",
              " 'success': 480,\n",
              " 'led': 481,\n",
              " 'league': 482,\n",
              " 'search': 483,\n",
              " 'trying': 484,\n",
              " '2001': 485,\n",
              " 'human': 486,\n",
              " 'calls': 487,\n",
              " 'previous': 488,\n",
              " 'buy': 489,\n",
              " 'sir': 490,\n",
              " 'recently': 491,\n",
              " 'saw': 492,\n",
              " 'web': 493,\n",
              " 'sony': 494,\n",
              " 'rates': 495,\n",
              " 'family': 496,\n",
              " 'parties': 497,\n",
              " 'aid': 498,\n",
              " 'single': 499,\n",
              " 'album': 500,\n",
              " 'centre': 501,\n",
              " 'eight': 502,\n",
              " 'name': 503,\n",
              " 'customers': 504,\n",
              " 'rules': 505,\n",
              " 'meet': 506,\n",
              " 'close': 507,\n",
              " 'development': 508,\n",
              " 'ministers': 509,\n",
              " 'others': 510,\n",
              " 'thursday': 511,\n",
              " 'health': 512,\n",
              " 'book': 513,\n",
              " 'competition': 514,\n",
              " 'stock': 515,\n",
              " 'agreed': 516,\n",
              " 'call': 517,\n",
              " 'phones': 518,\n",
              " '100': 519,\n",
              " 'difficult': 520,\n",
              " 'short': 521,\n",
              " 'let': 522,\n",
              " 'race': 523,\n",
              " 'yukos': 524,\n",
              " 'consumers': 525,\n",
              " 'popular': 526,\n",
              " 'comes': 527,\n",
              " 'co': 528,\n",
              " 'fact': 529,\n",
              " 'charles': 530,\n",
              " 'event': 531,\n",
              " 'hope': 532,\n",
              " 'failed': 533,\n",
              " 'fourth': 534,\n",
              " 'higher': 535,\n",
              " 'showed': 536,\n",
              " 'networks': 537,\n",
              " 'debt': 538,\n",
              " 'board': 539,\n",
              " 'actress': 540,\n",
              " 'commission': 541,\n",
              " 'trial': 542,\n",
              " 'city': 543,\n",
              " 'wants': 544,\n",
              " 'october': 545,\n",
              " 'italy': 546,\n",
              " 'choice': 547,\n",
              " 'york': 548,\n",
              " 'lib': 549,\n",
              " 'reported': 550,\n",
              " 'feel': 551,\n",
              " 'nothing': 552,\n",
              " 'conference': 553,\n",
              " 'project': 554,\n",
              " 'career': 555,\n",
              " 'bt': 556,\n",
              " 'sites': 557,\n",
              " 'boss': 558,\n",
              " 'points': 559,\n",
              " 'liberal': 560,\n",
              " 'late': 561,\n",
              " 'sure': 562,\n",
              " 'liverpool': 563,\n",
              " 'festival': 564,\n",
              " 'reports': 565,\n",
              " 'black': 566,\n",
              " 'received': 567,\n",
              " 'cannot': 568,\n",
              " 'annual': 569,\n",
              " 'together': 570,\n",
              " 'instead': 571,\n",
              " 'claim': 572,\n",
              " 'shows': 573,\n",
              " 'gaming': 574,\n",
              " 'tour': 575,\n",
              " 'dvd': 576,\n",
              " 'break': 577,\n",
              " 'launch': 578,\n",
              " 'claimed': 579,\n",
              " 'paid': 580,\n",
              " 'mean': 581,\n",
              " 'on': 582,\n",
              " 'devices': 583,\n",
              " 'christmas': 584,\n",
              " 'jones': 585,\n",
              " 'movie': 586,\n",
              " 'boost': 587,\n",
              " 'goal': 588,\n",
              " 'virus': 589,\n",
              " 'growing': 590,\n",
              " 'stage': 591,\n",
              " 'release': 592,\n",
              " 'age': 593,\n",
              " 'largest': 594,\n",
              " 'september': 595,\n",
              " 'to': 596,\n",
              " 'large': 597,\n",
              " 'leading': 598,\n",
              " 'summer': 599,\n",
              " 'champion': 600,\n",
              " '2002': 601,\n",
              " 'involved': 602,\n",
              " 'position': 603,\n",
              " 'arsenal': 604,\n",
              " 'west': 605,\n",
              " 'denied': 606,\n",
              " 'changes': 607,\n",
              " 'russian': 608,\n",
              " 'in': 609,\n",
              " 'out': 610,\n",
              " 'believes': 611,\n",
              " 'manchester': 612,\n",
              " 'profits': 613,\n",
              " 'paul': 614,\n",
              " 'singer': 615,\n",
              " 'iraq': 616,\n",
              " 'needs': 617,\n",
              " 'fall': 618,\n",
              " 'television': 619,\n",
              " 'products': 620,\n",
              " 'idea': 621,\n",
              " 'stop': 622,\n",
              " 'them': 623,\n",
              " 'gordon': 624,\n",
              " 'parliament': 625,\n",
              " '17': 626,\n",
              " 'australian': 627,\n",
              " 'pressure': 628,\n",
              " 'sport': 629,\n",
              " 'love': 630,\n",
              " 'germany': 631,\n",
              " 'africa': 632,\n",
              " 'started': 633,\n",
              " 'create': 634,\n",
              " 'order': 635,\n",
              " 'scottish': 636,\n",
              " 'talks': 637,\n",
              " 'giant': 638,\n",
              " 'potential': 639,\n",
              " '13': 640,\n",
              " 'german': 641,\n",
              " 'test': 642,\n",
              " 'pre': 643,\n",
              " 'weekend': 644,\n",
              " '16': 645,\n",
              " 'quite': 646,\n",
              " 'round': 647,\n",
              " 'opening': 648,\n",
              " 'whole': 649,\n",
              " 'that': 650,\n",
              " 'squad': 651,\n",
              " 'martin': 652,\n",
              " 'association': 653,\n",
              " 'special': 654,\n",
              " 'senior': 655,\n",
              " 'launched': 656,\n",
              " 'box': 657,\n",
              " 'chart': 658,\n",
              " 'oscar': 659,\n",
              " 'seven': 660,\n",
              " 'street': 661,\n",
              " 'rose': 662,\n",
              " 'value': 663,\n",
              " 'conservative': 664,\n",
              " 'sent': 665,\n",
              " 'stars': 666,\n",
              " 'ball': 667,\n",
              " 'car': 668,\n",
              " 'v': 669,\n",
              " 'anything': 670,\n",
              " 'grand': 671,\n",
              " 'groups': 672,\n",
              " 'hours': 673,\n",
              " 'accused': 674,\n",
              " '40': 675,\n",
              " 'stand': 676,\n",
              " 'remain': 677,\n",
              " '2000': 678,\n",
              " 'cards': 679,\n",
              " 'either': 680,\n",
              " 'hopes': 681,\n",
              " 'ensure': 682,\n",
              " 'olympic': 683,\n",
              " 'simply': 684,\n",
              " 'robinson': 685,\n",
              " 'fight': 686,\n",
              " 'similar': 687,\n",
              " 'press': 688,\n",
              " 'smith': 689,\n",
              " 'range': 690,\n",
              " 'irish': 691,\n",
              " 'drive': 692,\n",
              " '2006': 693,\n",
              " 'exchange': 694,\n",
              " 'rock': 695,\n",
              " 'official': 696,\n",
              " '24': 697,\n",
              " '14': 698,\n",
              " 'results': 699,\n",
              " 'bit': 700,\n",
              " 'appeal': 701,\n",
              " 'turn': 702,\n",
              " 'dr': 703,\n",
              " 'provide': 704,\n",
              " 'ukip': 705,\n",
              " 'immigration': 706,\n",
              " 'period': 707,\n",
              " 'makes': 708,\n",
              " 'target': 709,\n",
              " 'helped': 710,\n",
              " 'investors': 711,\n",
              " 'standard': 712,\n",
              " 'wrong': 713,\n",
              " 'sell': 714,\n",
              " 'attack': 715,\n",
              " 'commons': 716,\n",
              " 'fell': 717,\n",
              " 'independent': 718,\n",
              " 'tsunami': 719,\n",
              " 'particularly': 720,\n",
              " 'meanwhile': 721,\n",
              " 'comedy': 722,\n",
              " 'proposals': 723,\n",
              " 'education': 724,\n",
              " 'average': 725,\n",
              " 'energy': 726,\n",
              " 'lords': 727,\n",
              " 'ban': 728,\n",
              " 'gave': 729,\n",
              " 'impact': 730,\n",
              " 'via': 731,\n",
              " 'moment': 732,\n",
              " 'compared': 733,\n",
              " 'school': 734,\n",
              " 'happy': 735,\n",
              " 'card': 736,\n",
              " 'forced': 737,\n",
              " 'charge': 738,\n",
              " 'attacks': 739,\n",
              " 'spam': 740,\n",
              " 'generation': 741,\n",
              " 'force': 742,\n",
              " 'brought': 743,\n",
              " 'amount': 744,\n",
              " 'private': 745,\n",
              " 'community': 746,\n",
              " 'sector': 747,\n",
              " 'per': 748,\n",
              " 'bring': 749,\n",
              " 'fraud': 750,\n",
              " 'became': 751,\n",
              " 'fund': 752,\n",
              " 'euros': 753,\n",
              " 'extra': 754,\n",
              " 'systems': 755,\n",
              " 'everyone': 756,\n",
              " 'speech': 757,\n",
              " 'admitted': 758,\n",
              " 'poll': 759,\n",
              " 'history': 760,\n",
              " 'message': 761,\n",
              " 'numbers': 762,\n",
              " 'included': 763,\n",
              " 'widely': 764,\n",
              " 'gadget': 765,\n",
              " 'entertainment': 766,\n",
              " 'windows': 767,\n",
              " 'debate': 768,\n",
              " 'speaking': 769,\n",
              " 'selling': 770,\n",
              " 'hand': 771,\n",
              " 'bad': 772,\n",
              " 'department': 773,\n",
              " 'laws': 774,\n",
              " 'workers': 775,\n",
              " 'date': 776,\n",
              " 'australia': 777,\n",
              " 'charges': 778,\n",
              " 'markets': 779,\n",
              " 'night': 780,\n",
              " 'audience': 781,\n",
              " 'named': 782,\n",
              " 're': 783,\n",
              " 'russia': 784,\n",
              " 'comments': 785,\n",
              " 'soon': 786,\n",
              " 'worked': 787,\n",
              " 'staff': 788,\n",
              " 'agency': 789,\n",
              " 'off': 790,\n",
              " 'view': 791,\n",
              " 'turned': 792,\n",
              " 'kilroy': 793,\n",
              " 'mike': 794,\n",
              " 'front': 795,\n",
              " 'member': 796,\n",
              " 'shot': 797,\n",
              " 'bush': 798,\n",
              " 'revealed': 799,\n",
              " 'areas': 800,\n",
              " 'download': 801,\n",
              " 'takes': 802,\n",
              " 'speed': 803,\n",
              " 'screen': 804,\n",
              " 'increased': 805,\n",
              " 'all': 806,\n",
              " 'opposition': 807,\n",
              " 'university': 808,\n",
              " 'battle': 809,\n",
              " 'civil': 810,\n",
              " 'kennedy': 811,\n",
              " 'spend': 812,\n",
              " 'air': 813,\n",
              " 'finance': 814,\n",
              " 'newspaper': 815,\n",
              " 'him': 816,\n",
              " 'opportunity': 817,\n",
              " 'concerns': 818,\n",
              " 'shown': 819,\n",
              " 'survey': 820,\n",
              " 'area': 821,\n",
              " 'cross': 822,\n",
              " 'white': 823,\n",
              " 'gone': 824,\n",
              " 'voters': 825,\n",
              " 'course': 826,\n",
              " 'original': 827,\n",
              " 'millions': 828,\n",
              " 'bought': 829,\n",
              " 'offered': 830,\n",
              " '£1': 831,\n",
              " 'poor': 832,\n",
              " 'alan': 833,\n",
              " 'followed': 834,\n",
              " 'east': 835,\n",
              " 'concerned': 836,\n",
              " 'leave': 837,\n",
              " 'often': 838,\n",
              " 'decided': 839,\n",
              " 'insisted': 840,\n",
              " 'authorities': 841,\n",
              " 'outside': 842,\n",
              " 'b': 843,\n",
              " 'favourite': 844,\n",
              " 'terms': 845,\n",
              " 'defence': 846,\n",
              " 'step': 847,\n",
              " 'whose': 848,\n",
              " 'june': 849,\n",
              " 'story': 850,\n",
              " 'reached': 851,\n",
              " 'analyst': 852,\n",
              " 'lives': 853,\n",
              " 'created': 854,\n",
              " 'designed': 855,\n",
              " 'mini': 856,\n",
              " 'process': 857,\n",
              " 'non': 858,\n",
              " 'risk': 859,\n",
              " '22': 860,\n",
              " 'america': 861,\n",
              " 'body': 862,\n",
              " 'quality': 863,\n",
              " 'easy': 864,\n",
              " 'spent': 865,\n",
              " 'cuts': 866,\n",
              " 'becoming': 867,\n",
              " 'remains': 868,\n",
              " 'unit': 869,\n",
              " 'majority': 870,\n",
              " 'raise': 871,\n",
              " 'pop': 872,\n",
              " 'attempt': 873,\n",
              " 'musical': 874,\n",
              " 'r': 875,\n",
              " 'drugs': 876,\n",
              " 'hollywood': 877,\n",
              " 'challenge': 878,\n",
              " 'experience': 879,\n",
              " 'example': 880,\n",
              " '19': 881,\n",
              " 'debut': 882,\n",
              " 'nominated': 883,\n",
              " 'states': 884,\n",
              " 'reach': 885,\n",
              " 'credit': 886,\n",
              " 'messages': 887,\n",
              " 'levels': 888,\n",
              " 'winner': 889,\n",
              " 'ray': 890,\n",
              " 'robert': 891,\n",
              " 'silk': 892,\n",
              " 'watch': 893,\n",
              " 'andy': 894,\n",
              " 'situation': 895,\n",
              " 'focus': 896,\n",
              " 'taxes': 897,\n",
              " 'euro': 898,\n",
              " 'songs': 899,\n",
              " 'organisation': 900,\n",
              " 'build': 901,\n",
              " 'everything': 902,\n",
              " 'believed': 903,\n",
              " 'april': 904,\n",
              " 'tough': 905,\n",
              " 'central': 906,\n",
              " 'anyone': 907,\n",
              " 'signed': 908,\n",
              " 'j': 909,\n",
              " 'pcs': 910,\n",
              " 'captain': 911,\n",
              " 'rival': 912,\n",
              " 'device': 913,\n",
              " 'indian': 914,\n",
              " 'confirmed': 915,\n",
              " 'james': 916,\n",
              " 'so': 917,\n",
              " 'titles': 918,\n",
              " 'businesses': 919,\n",
              " 'post': 920,\n",
              " 'technologies': 921,\n",
              " 'critics': 922,\n",
              " 'matter': 923,\n",
              " 'previously': 924,\n",
              " 'trading': 925,\n",
              " 'rest': 926,\n",
              " 'met': 927,\n",
              " 'began': 928,\n",
              " 'longer': 929,\n",
              " 'officials': 930,\n",
              " 'response': 931,\n",
              " 'probably': 932,\n",
              " 'nine': 933,\n",
              " 'hour': 934,\n",
              " 'row': 935,\n",
              " 'minute': 936,\n",
              " 'light': 937,\n",
              " 'cases': 938,\n",
              " 'magazine': 939,\n",
              " 'building': 940,\n",
              " 'worth': 941,\n",
              " 'account': 942,\n",
              " 'voice': 943,\n",
              " 'programs': 944,\n",
              " 'ask': 945,\n",
              " 'looked': 946,\n",
              " 'mp': 947,\n",
              " 'davis': 948,\n",
              " 'aviator': 949,\n",
              " 'threat': 950,\n",
              " 'trust': 951,\n",
              " 'confidence': 952,\n",
              " 'looks': 953,\n",
              " 'g': 954,\n",
              " 'chinese': 955,\n",
              " 'machine': 956,\n",
              " 'gold': 957,\n",
              " 'category': 958,\n",
              " 'computers': 959,\n",
              " 'premiership': 960,\n",
              " 'host': 961,\n",
              " 'measures': 962,\n",
              " 'fast': 963,\n",
              " 'person': 964,\n",
              " 'ruled': 965,\n",
              " 'towards': 966,\n",
              " 'artists': 967,\n",
              " 'double': 968,\n",
              " 'training': 969,\n",
              " 'missed': 970,\n",
              " 'felt': 971,\n",
              " 'care': 972,\n",
              " 'agreement': 973,\n",
              " 'allowed': 974,\n",
              " 'madrid': 975,\n",
              " 'scheme': 976,\n",
              " 'zealand': 977,\n",
              " 'fear': 978,\n",
              " 'theatre': 979,\n",
              " 'portable': 980,\n",
              " 'newcastle': 981,\n",
              " 'north': 982,\n",
              " 'serious': 983,\n",
              " 'spain': 984,\n",
              " 'management': 985,\n",
              " 'banks': 986,\n",
              " 'program': 987,\n",
              " 'figure': 988,\n",
              " 'johnson': 989,\n",
              " 'positive': 990,\n",
              " 'affected': 991,\n",
              " 'champions': 992,\n",
              " 'file': 993,\n",
              " 'deutsche': 994,\n",
              " 'google': 995,\n",
              " 'kept': 996,\n",
              " 'rising': 997,\n",
              " 'rule': 998,\n",
              " 'argued': 999,\n",
              " 'along': 1000,\n",
              " ...}"
            ]
          },
          "execution_count": 21,
          "metadata": {},
          "output_type": "execute_result"
        }
      ],
      "source": [
        "word_index = tokenizer.word_index\n",
        "word_index"
      ]
    },
    {
      "cell_type": "code",
      "execution_count": 22,
      "metadata": {
        "colab": {
          "base_uri": "https://localhost:8080/"
        },
        "id": "7lhT9_-f7k68",
        "outputId": "7fd092cc-83b8-4dfb-cb65-802c8e3e20e2"
      },
      "outputs": [
        {
          "data": {
            "text/plain": [
              "{'<OOV>': 1,\n",
              " 'said': 2,\n",
              " 'mr': 3,\n",
              " 'would': 4,\n",
              " 'year': 5,\n",
              " 'also': 6,\n",
              " 'people': 7,\n",
              " 'new': 8,\n",
              " 'us': 9,\n",
              " 'one': 10,\n",
              " 'could': 11,\n",
              " 'last': 12,\n",
              " 'first': 13,\n",
              " 'time': 14,\n",
              " 'two': 15,\n",
              " 'government': 16,\n",
              " 'world': 17,\n",
              " 'uk': 18,\n",
              " 'best': 19,\n",
              " 'years': 20}"
            ]
          },
          "execution_count": 22,
          "metadata": {},
          "output_type": "execute_result"
        }
      ],
      "source": [
        "dict(list(word_index.items())[0:20])"
      ]
    },
    {
      "cell_type": "markdown",
      "metadata": {
        "id": "CQ_XTmT_eU7b"
      },
      "source": [
        "__Observations:__\n",
        "- The code prints a dictionary containing the first 10 items from the word_index dictionary.\n",
        "- These items represent a subset of the word-to-index mappings generated by the tokenizer."
      ]
    },
    {
      "cell_type": "markdown",
      "metadata": {
        "id": "jTDip0vPe30D"
      },
      "source": [
        "### Step 6: Convert the Training Articles into Sequences Using the Tokenizer\n",
        "- Convert the training articles **(train_articles)** into sequences using the **texts_to_sequences** method of the tokenizer object and assign the result to **train_sequences**\n",
        "- Print the sequence representation of the 10th training article (index 9) by accessing **train_sequences[10]**"
      ]
    },
    {
      "cell_type": "code",
      "execution_count": 23,
      "metadata": {
        "colab": {
          "base_uri": "https://localhost:8080/"
        },
        "id": "2ymkG0ZFZa3j",
        "outputId": "a664b468-ce6e-42dd-db55-a8079058b42e"
      },
      "outputs": [
        {
          "name": "stdout",
          "output_type": "stream",
          "text": [
            "last star wars  children  sixth final star wars movie may suitable young children  film-maker george lucas said.  told us tv show 60 minutes revenge sith would darkest violent series.  think would take five six-year-old   told cbs programme  aired sunday. lucas predicted film would get us rating advising parents scenes may unsuitable under-13s. opens uk us 19 may. said expected film would classified pg-13 - roughly equivalent british 12a rating.  five previous star wars films carried less restrictive pg - parental guidance - ratings us. uk  passed u - suitable - exception attack clones  got pg rating 2002. revenge sith - third prequel original 1977 star wars film - chronicles transformation heroic anakin skywalker evil darth vader travels hell-like planet composed erupting volcanoes molten lava.  going watch make pact devil   lucas said.  film much dark  emotional. much tragedy.\n"
          ]
        }
      ],
      "source": [
        "print(train_articles[9])"
      ]
    },
    {
      "cell_type": "markdown",
      "metadata": {
        "id": "gv5bpYzQYL4U"
      },
      "source": [
        "## This will convert each article into a sequence of numbers."
      ]
    },
    {
      "cell_type": "code",
      "execution_count": 24,
      "metadata": {
        "id": "qaNkkgzP7k69"
      },
      "outputs": [],
      "source": [
        "train_sequences  = tokenizer.texts_to_sequences(train_articles)"
      ]
    },
    {
      "cell_type": "code",
      "execution_count": 25,
      "metadata": {
        "colab": {
          "base_uri": "https://localhost:8080/"
        },
        "id": "Y5g3hYxGYO5o",
        "outputId": "601ee0ed-d7d7-4a86-873a-b5ba825de8dc"
      },
      "outputs": [
        {
          "name": "stdout",
          "output_type": "stream",
          "text": [
            "[12, 206, 2723, 283, 1970, 140, 206, 2723, 586, 46, 4116, 430, 283, 22, 1159, 1237, 4514, 2, 23, 9, 91, 58, 1144, 389, 1, 1, 4, 1, 1, 330, 59, 4, 38, 85, 99, 5, 100, 23, 4994, 345, 1, 324, 4514, 1039, 22, 4, 25, 9, 3273, 1, 1064, 3066, 46, 1, 2431, 1, 2569, 18, 9, 881, 46, 2, 94, 22, 4, 1, 1, 640, 1, 2973, 86, 1, 3273, 85, 488, 206, 2723, 319, 1824, 277, 1, 1, 1, 3793, 2724, 9, 18, 1907, 4735, 4116, 1, 715, 1, 166, 1, 3273, 601, 1, 1, 145, 1, 827, 1, 206, 2723, 22, 1, 1, 1, 1, 1, 4736, 1, 1, 1, 4737, 28, 1, 1, 1, 1, 1, 1, 52, 893, 21, 3393, 1, 4514, 2, 22, 53, 3168, 4117, 53, 3794]\n"
          ]
        }
      ],
      "source": [
        "print(train_sequences[9])"
      ]
    },
    {
      "cell_type": "markdown",
      "metadata": {
        "id": "__Jgr_cdfR_6"
      },
      "source": [
        "__Observation:__\n",
        "- The code prints the sequence representation of the 10th training article (index 9) in the **train_sequences** list.\n",
        "- The output is a list of integers, where each integer represents the index of a word in the tokenizer's word index vocabulary that corresponds to a word in the article."
      ]
    },
    {
      "cell_type": "markdown",
      "metadata": {
        "id": "E60-EoRMh58g"
      },
      "source": [
        "### Step 7: Pad the Sequence\n",
        "- Pad the sequences in **train_sequences** using the **pad_sequences** function\n",
        "- Set the maximum length of the padded sequences to **max_length**\n",
        "- Specify the padding type as **padding_type** and the truncation type as **trunc_type**\n",
        "- Assign the padded sequences to the variable **train_padded**"
      ]
    },
    {
      "cell_type": "code",
      "execution_count": 26,
      "metadata": {
        "id": "msiF0l767k69"
      },
      "outputs": [],
      "source": [
        "max_length = 200\n",
        "trunc_type='post'\n",
        "train_padded = pad_sequences(train_sequences, maxlen=200, padding=padding_type, truncating='post')"
      ]
    },
    {
      "cell_type": "code",
      "execution_count": 27,
      "metadata": {
        "colab": {
          "base_uri": "https://localhost:8080/"
        },
        "id": "iKwGCkXf7k69",
        "outputId": "123960a5-7fbd-4fa3-ca41-356bda1e2e81"
      },
      "outputs": [
        {
          "name": "stdout",
          "output_type": "stream",
          "text": [
            "[  12  206 2723  283 1970  140  206 2723  586   46 4116  430  283   22\n",
            " 1159 1237 4514    2   23    9   91   58 1144  389    1    1    4    1\n",
            "    1  330   59    4   38   85   99    5  100   23 4994  345    1  324\n",
            " 4514 1039   22    4   25    9 3273    1 1064 3066   46    1 2431    1\n",
            " 2569   18    9  881   46    2   94   22    4    1    1  640    1 2973\n",
            "   86    1 3273   85  488  206 2723  319 1824  277    1    1    1 3793\n",
            " 2724    9   18 1907 4735 4116    1  715    1  166    1 3273  601    1\n",
            "    1  145    1  827    1  206 2723   22    1    1    1    1    1 4736\n",
            "    1    1    1 4737   28    1    1    1    1    1    1   52  893   21\n",
            " 3393    1 4514    2   22   53 3168 4117   53 3794    0    0    0    0\n",
            "    0    0    0    0    0    0    0    0    0    0    0    0    0    0\n",
            "    0    0    0    0    0    0    0    0    0    0    0    0    0    0\n",
            "    0    0    0    0    0    0    0    0    0    0    0    0    0    0\n",
            "    0    0    0    0    0    0    0    0    0    0    0    0    0    0\n",
            "    0    0    0    0]\n"
          ]
        }
      ],
      "source": [
        "print(train_padded[9])"
      ]
    },
    {
      "cell_type": "markdown",
      "metadata": {
        "id": "kR1yorJLkMpI"
      },
      "source": [
        "__Observation:__\n",
        "- The code prints the padded sequence representation of the 11th training article.\n",
        "- The output is a list of integers representing the word indices of the corresponding words in the article, after applying padding to ensure a consistent length (max_length) for all sequences."
      ]
    },
    {
      "cell_type": "markdown",
      "metadata": {
        "id": "5QD6M00flHAm"
      },
      "source": [
        "### Step 8: Print the Length of Validation Sequences and the Shape of Validation Padded\n",
        "- Convert the validation articles into sequences using the tokenizer and pad the sequences to a maximum length. Assign the result to **validation_padded**\n",
        "- Print the length of **validation_sequences** and the shape of **validation_padded**\n",
        "- Create a tokenizer for the labels and fit it on the labels list\n",
        "- Convert the training and validation labels into sequences using the label tokenizer and store the results in **training_label_seq** and **validation_label_seq** as NumPy arrays"
      ]
    },
    {
      "cell_type": "markdown",
      "metadata": {
        "id": "_Y3f75t3b_Y6"
      },
      "source": [
        "## Next, encode and pad the validation samples."
      ]
    },
    {
      "cell_type": "code",
      "execution_count": 28,
      "metadata": {
        "colab": {
          "base_uri": "https://localhost:8080/"
        },
        "id": "fpgc3k9y7k6-",
        "outputId": "e23fc32d-a941-48f7-94ab-76a8c6698b47"
      },
      "outputs": [
        {
          "name": "stdout",
          "output_type": "stream",
          "text": [
            "445\n",
            "(445, 200)\n"
          ]
        }
      ],
      "source": [
        "validation_sequences = tokenizer.texts_to_sequences(validation_articles)\n",
        "validation_padded = pad_sequences(validation_sequences, maxlen=max_length, padding=padding_type, truncating=trunc_type)\n",
        "\n",
        "print(len(validation_sequences))\n",
        "print(validation_padded.shape)"
      ]
    },
    {
      "cell_type": "markdown",
      "metadata": {
        "id": "eFFWDC12mo1e"
      },
      "source": [
        "__Observations:__\n",
        "- The length of **validation_sequences**, indicating the number of sequences in the validation set.\n",
        "- The shape of **validation_padded**, representing the dimensions of the padded validation sequences."
      ]
    },
    {
      "cell_type": "code",
      "execution_count": 29,
      "metadata": {
        "colab": {
          "base_uri": "https://localhost:8080/"
        },
        "id": "8Q3nLd8W7k6-",
        "outputId": "c66adc59-52b7-4e3a-be9a-b23f9514089b"
      },
      "outputs": [
        {
          "name": "stdout",
          "output_type": "stream",
          "text": [
            "{'politics', 'tech', 'sport', 'business', 'entertainment'}\n"
          ]
        }
      ],
      "source": [
        "print(set(labels))"
      ]
    },
    {
      "cell_type": "markdown",
      "metadata": {
        "id": "y0aPJkPCnkh3"
      },
      "source": [
        "__Observation:__\n",
        "- The output is a set containing the unique labels: 'business', 'tech', 'entertainment', 'politics', and 'sport'.\n",
        "\n",
        "Five labels total."
      ]
    },
    {
      "cell_type": "code",
      "execution_count": 30,
      "metadata": {
        "id": "WcsrX7dP7k6-"
      },
      "outputs": [],
      "source": [
        "label_tokenizer = Tokenizer()\n",
        "label_tokenizer.fit_on_texts(labels)"
      ]
    },
    {
      "cell_type": "code",
      "execution_count": 31,
      "metadata": {
        "colab": {
          "base_uri": "https://localhost:8080/"
        },
        "id": "7n_LIPdacxVj",
        "outputId": "ad521a2e-81f0-4cdb-e2af-0e3d07f48359"
      },
      "outputs": [
        {
          "data": {
            "text/plain": [
              "{'sport': 1, 'business': 2, 'politics': 3, 'tech': 4, 'entertainment': 5}"
            ]
          },
          "execution_count": 31,
          "metadata": {},
          "output_type": "execute_result"
        }
      ],
      "source": [
        "label_tokenizer.word_index"
      ]
    },
    {
      "cell_type": "code",
      "execution_count": 32,
      "metadata": {
        "id": "MGa4uhzrczS2"
      },
      "outputs": [],
      "source": [
        "for key in label_tokenizer.word_index.keys():\n",
        "  label_tokenizer.word_index[key] = label_tokenizer.word_index[key] -1"
      ]
    },
    {
      "cell_type": "code",
      "execution_count": 33,
      "metadata": {
        "colab": {
          "base_uri": "https://localhost:8080/"
        },
        "id": "aUIO3XUKdTyt",
        "outputId": "ff4781b3-8c86-450f-869f-1d73c2690e0e"
      },
      "outputs": [
        {
          "data": {
            "text/plain": [
              "{'sport': 0, 'business': 1, 'politics': 2, 'tech': 3, 'entertainment': 4}"
            ]
          },
          "execution_count": 33,
          "metadata": {},
          "output_type": "execute_result"
        }
      ],
      "source": [
        "label_tokenizer.word_index"
      ]
    },
    {
      "cell_type": "code",
      "execution_count": 34,
      "metadata": {
        "id": "h3jOxa41daUl"
      },
      "outputs": [],
      "source": [
        "training_label_seq = np.array(label_tokenizer.texts_to_sequences(train_labels))\n",
        "validation_label_seq = np.array(label_tokenizer.texts_to_sequences(validation_labels))"
      ]
    },
    {
      "cell_type": "code",
      "execution_count": 35,
      "metadata": {
        "colab": {
          "base_uri": "https://localhost:8080/"
        },
        "id": "aBOL8vLGcjvx",
        "outputId": "165ee285-b7e4-464e-c1a7-162ed24de6ca"
      },
      "outputs": [
        {
          "data": {
            "text/plain": [
              "array([[3],\n",
              "       [1],\n",
              "       [0],\n",
              "       [0],\n",
              "       [4],\n",
              "       [2],\n",
              "       [2],\n",
              "       [0],\n",
              "       [0],\n",
              "       [4],\n",
              "       [4],\n",
              "       [1]])"
            ]
          },
          "execution_count": 35,
          "metadata": {},
          "output_type": "execute_result"
        }
      ],
      "source": [
        "training_label_seq[:12]"
      ]
    },
    {
      "cell_type": "markdown",
      "metadata": {
        "id": "q7VlgNsjpwKy"
      },
      "source": [
        "__Observations:__\n",
        "- The output of this code is the conversion of label sequences for the training and validation sets.\n",
        "- The **training_label_seq** and **validation_label_seq** are NumPy arrays containing the label sequences for the respective sets, based on the word index mapping generated by the **label_tokenizer**"
      ]
    },
    {
      "cell_type": "markdown",
      "metadata": {
        "id": "aefTdVG3ohC2"
      },
      "source": [
        "### Step 9-A: Create the Model\n",
        "- Create a sequential model using **tf.keras.Sequential()**\n",
        "- Add an embedding layer to the model with the specified vocabulary size **(vocab_size)** and embedding dimension **(embedding_dim=64)**\n",
        "- Add an LSTM layer to the model with output of 96 nodes\n",
        "- Add a dense layer to the model with 64 as the number of units and **relu** activation function\n",
        "- Add a dense layer with 5 units and the **softmax** activation function to the model\n",
        "- Print a summary of the model's architecture using **model.summary()**"
      ]
    },
    {
      "cell_type": "code",
      "execution_count": 36,
      "metadata": {
        "colab": {
          "base_uri": "https://localhost:8080/",
          "height": 315
        },
        "id": "R2k0E1Cb7k6_",
        "outputId": "240afb1c-36d3-4b90-a9ed-1f3efd9bb4c8"
      },
      "outputs": [
        {
          "name": "stderr",
          "output_type": "stream",
          "text": [
            "/Users/xyz-ai/Developer/python3-code/ml/.venv/lib/python3.12/site-packages/keras/src/layers/core/embedding.py:100: UserWarning: Do not pass an `input_shape`/`input_dim` argument to a layer. When using Sequential models, prefer using an `Input(shape)` object as the first layer in the model instead.\n",
            "  super().__init__(**kwargs)\n"
          ]
        },
        {
          "data": {
            "text/html": [
              "<pre style=\"white-space:pre;overflow-x:auto;line-height:normal;font-family:Menlo,'DejaVu Sans Mono',consolas,'Courier New',monospace\"><span style=\"font-weight: bold\">Model: \"sequential\"</span>\n",
              "</pre>\n"
            ],
            "text/plain": [
              "\u001b[1mModel: \"sequential\"\u001b[0m\n"
            ]
          },
          "metadata": {},
          "output_type": "display_data"
        },
        {
          "data": {
            "text/html": [
              "<pre style=\"white-space:pre;overflow-x:auto;line-height:normal;font-family:Menlo,'DejaVu Sans Mono',consolas,'Courier New',monospace\">┏━━━━━━━━━━━━━━━━━━━━━━━━━━━━━━━━━┳━━━━━━━━━━━━━━━━━━━━━━━━┳━━━━━━━━━━━━━━━┓\n",
              "┃<span style=\"font-weight: bold\"> Layer (type)                    </span>┃<span style=\"font-weight: bold\"> Output Shape           </span>┃<span style=\"font-weight: bold\">       Param # </span>┃\n",
              "┡━━━━━━━━━━━━━━━━━━━━━━━━━━━━━━━━━╇━━━━━━━━━━━━━━━━━━━━━━━━╇━━━━━━━━━━━━━━━┩\n",
              "│ embedding (<span style=\"color: #0087ff; text-decoration-color: #0087ff\">Embedding</span>)           │ (<span style=\"color: #00d7ff; text-decoration-color: #00d7ff\">None</span>, <span style=\"color: #00af00; text-decoration-color: #00af00\">200</span>, <span style=\"color: #00af00; text-decoration-color: #00af00\">64</span>)        │       <span style=\"color: #00af00; text-decoration-color: #00af00\">320,000</span> │\n",
              "├─────────────────────────────────┼────────────────────────┼───────────────┤\n",
              "│ lstm (<span style=\"color: #0087ff; text-decoration-color: #0087ff\">LSTM</span>)                     │ (<span style=\"color: #00d7ff; text-decoration-color: #00d7ff\">None</span>, <span style=\"color: #00af00; text-decoration-color: #00af00\">96</span>)             │        <span style=\"color: #00af00; text-decoration-color: #00af00\">61,824</span> │\n",
              "├─────────────────────────────────┼────────────────────────┼───────────────┤\n",
              "│ dense (<span style=\"color: #0087ff; text-decoration-color: #0087ff\">Dense</span>)                   │ (<span style=\"color: #00d7ff; text-decoration-color: #00d7ff\">None</span>, <span style=\"color: #00af00; text-decoration-color: #00af00\">64</span>)             │         <span style=\"color: #00af00; text-decoration-color: #00af00\">6,208</span> │\n",
              "├─────────────────────────────────┼────────────────────────┼───────────────┤\n",
              "│ dense_1 (<span style=\"color: #0087ff; text-decoration-color: #0087ff\">Dense</span>)                 │ (<span style=\"color: #00d7ff; text-decoration-color: #00d7ff\">None</span>, <span style=\"color: #00af00; text-decoration-color: #00af00\">5</span>)              │           <span style=\"color: #00af00; text-decoration-color: #00af00\">325</span> │\n",
              "└─────────────────────────────────┴────────────────────────┴───────────────┘\n",
              "</pre>\n"
            ],
            "text/plain": [
              "┏━━━━━━━━━━━━━━━━━━━━━━━━━━━━━━━━━┳━━━━━━━━━━━━━━━━━━━━━━━━┳━━━━━━━━━━━━━━━┓\n",
              "┃\u001b[1m \u001b[0m\u001b[1mLayer (type)                   \u001b[0m\u001b[1m \u001b[0m┃\u001b[1m \u001b[0m\u001b[1mOutput Shape          \u001b[0m\u001b[1m \u001b[0m┃\u001b[1m \u001b[0m\u001b[1m      Param #\u001b[0m\u001b[1m \u001b[0m┃\n",
              "┡━━━━━━━━━━━━━━━━━━━━━━━━━━━━━━━━━╇━━━━━━━━━━━━━━━━━━━━━━━━╇━━━━━━━━━━━━━━━┩\n",
              "│ embedding (\u001b[38;5;33mEmbedding\u001b[0m)           │ (\u001b[38;5;45mNone\u001b[0m, \u001b[38;5;34m200\u001b[0m, \u001b[38;5;34m64\u001b[0m)        │       \u001b[38;5;34m320,000\u001b[0m │\n",
              "├─────────────────────────────────┼────────────────────────┼───────────────┤\n",
              "│ lstm (\u001b[38;5;33mLSTM\u001b[0m)                     │ (\u001b[38;5;45mNone\u001b[0m, \u001b[38;5;34m96\u001b[0m)             │        \u001b[38;5;34m61,824\u001b[0m │\n",
              "├─────────────────────────────────┼────────────────────────┼───────────────┤\n",
              "│ dense (\u001b[38;5;33mDense\u001b[0m)                   │ (\u001b[38;5;45mNone\u001b[0m, \u001b[38;5;34m64\u001b[0m)             │         \u001b[38;5;34m6,208\u001b[0m │\n",
              "├─────────────────────────────────┼────────────────────────┼───────────────┤\n",
              "│ dense_1 (\u001b[38;5;33mDense\u001b[0m)                 │ (\u001b[38;5;45mNone\u001b[0m, \u001b[38;5;34m5\u001b[0m)              │           \u001b[38;5;34m325\u001b[0m │\n",
              "└─────────────────────────────────┴────────────────────────┴───────────────┘\n"
            ]
          },
          "metadata": {},
          "output_type": "display_data"
        },
        {
          "data": {
            "text/html": [
              "<pre style=\"white-space:pre;overflow-x:auto;line-height:normal;font-family:Menlo,'DejaVu Sans Mono',consolas,'Courier New',monospace\"><span style=\"font-weight: bold\"> Total params: </span><span style=\"color: #00af00; text-decoration-color: #00af00\">388,357</span> (1.48 MB)\n",
              "</pre>\n"
            ],
            "text/plain": [
              "\u001b[1m Total params: \u001b[0m\u001b[38;5;34m388,357\u001b[0m (1.48 MB)\n"
            ]
          },
          "metadata": {},
          "output_type": "display_data"
        },
        {
          "data": {
            "text/html": [
              "<pre style=\"white-space:pre;overflow-x:auto;line-height:normal;font-family:Menlo,'DejaVu Sans Mono',consolas,'Courier New',monospace\"><span style=\"font-weight: bold\"> Trainable params: </span><span style=\"color: #00af00; text-decoration-color: #00af00\">388,357</span> (1.48 MB)\n",
              "</pre>\n"
            ],
            "text/plain": [
              "\u001b[1m Trainable params: \u001b[0m\u001b[38;5;34m388,357\u001b[0m (1.48 MB)\n"
            ]
          },
          "metadata": {},
          "output_type": "display_data"
        },
        {
          "data": {
            "text/html": [
              "<pre style=\"white-space:pre;overflow-x:auto;line-height:normal;font-family:Menlo,'DejaVu Sans Mono',consolas,'Courier New',monospace\"><span style=\"font-weight: bold\"> Non-trainable params: </span><span style=\"color: #00af00; text-decoration-color: #00af00\">0</span> (0.00 B)\n",
              "</pre>\n"
            ],
            "text/plain": [
              "\u001b[1m Non-trainable params: \u001b[0m\u001b[38;5;34m0\u001b[0m (0.00 B)\n"
            ]
          },
          "metadata": {},
          "output_type": "display_data"
        }
      ],
      "source": [
        "vocab_size = 5000\n",
        "embedding_dim=64\n",
        "\n",
        "model = tf.keras.Sequential([\n",
        "    tf.keras.layers.Embedding(vocab_size,embedding_dim,input_shape=[200]),\n",
        "    tf.keras.layers.LSTM(units=96,activation='tanh'),\n",
        "    tf.keras.layers.Dense(units=64,activation='relu'),\n",
        "    tf.keras.layers.Dense(units=5,activation='softmax')\n",
        "])\n",
        "\n",
        "model.summary()"
      ]
    },
    {
      "cell_type": "markdown",
      "metadata": {
        "id": "2RYZ5eRIqHSk"
      },
      "source": [
        "__Observation:__\n",
        "- The code outputs a summary of the model's architecture, including the number of parameters and the shape of each layer in the model."
      ]
    },
    {
      "cell_type": "markdown",
      "metadata": {
        "id": "dTrUFImsn1qo"
      },
      "source": [
        "### Step 9-B: Create the Model\n",
        "- Create a sequential model using **tf.keras.Sequential()**\n",
        "- Add an embedding layer to the model with the specified vocabulary size **(vocab_size)** and embedding dimension **(embedding_dim=64)**\n",
        "- Add a bidirectional LSTM layer to the model with output of 96 nodes\n",
        "- Add a dense layer to the model with 64 as the number of units and **relu** activation function\n",
        "- Add a dense layer with 5 units and the **softmax** activation function to the model\n",
        "- Print a summary of the model's architecture using **model.summary()**"
      ]
    },
    {
      "cell_type": "code",
      "execution_count": 37,
      "metadata": {
        "colab": {
          "base_uri": "https://localhost:8080/",
          "height": 315
        },
        "id": "DF6V1nEDqfhi",
        "outputId": "616b4d4d-2291-4d09-aeae-4b792fd4a1f5"
      },
      "outputs": [
        {
          "data": {
            "text/html": [
              "<pre style=\"white-space:pre;overflow-x:auto;line-height:normal;font-family:Menlo,'DejaVu Sans Mono',consolas,'Courier New',monospace\"><span style=\"font-weight: bold\">Model: \"sequential_1\"</span>\n",
              "</pre>\n"
            ],
            "text/plain": [
              "\u001b[1mModel: \"sequential_1\"\u001b[0m\n"
            ]
          },
          "metadata": {},
          "output_type": "display_data"
        },
        {
          "data": {
            "text/html": [
              "<pre style=\"white-space:pre;overflow-x:auto;line-height:normal;font-family:Menlo,'DejaVu Sans Mono',consolas,'Courier New',monospace\">┏━━━━━━━━━━━━━━━━━━━━━━━━━━━━━━━━━┳━━━━━━━━━━━━━━━━━━━━━━━━┳━━━━━━━━━━━━━━━┓\n",
              "┃<span style=\"font-weight: bold\"> Layer (type)                    </span>┃<span style=\"font-weight: bold\"> Output Shape           </span>┃<span style=\"font-weight: bold\">       Param # </span>┃\n",
              "┡━━━━━━━━━━━━━━━━━━━━━━━━━━━━━━━━━╇━━━━━━━━━━━━━━━━━━━━━━━━╇━━━━━━━━━━━━━━━┩\n",
              "│ embedding_1 (<span style=\"color: #0087ff; text-decoration-color: #0087ff\">Embedding</span>)         │ (<span style=\"color: #00d7ff; text-decoration-color: #00d7ff\">None</span>, <span style=\"color: #00af00; text-decoration-color: #00af00\">200</span>, <span style=\"color: #00af00; text-decoration-color: #00af00\">64</span>)        │       <span style=\"color: #00af00; text-decoration-color: #00af00\">320,000</span> │\n",
              "├─────────────────────────────────┼────────────────────────┼───────────────┤\n",
              "│ bidirectional (<span style=\"color: #0087ff; text-decoration-color: #0087ff\">Bidirectional</span>)   │ (<span style=\"color: #00d7ff; text-decoration-color: #00d7ff\">None</span>, <span style=\"color: #00af00; text-decoration-color: #00af00\">192</span>)            │       <span style=\"color: #00af00; text-decoration-color: #00af00\">123,648</span> │\n",
              "├─────────────────────────────────┼────────────────────────┼───────────────┤\n",
              "│ dense_2 (<span style=\"color: #0087ff; text-decoration-color: #0087ff\">Dense</span>)                 │ (<span style=\"color: #00d7ff; text-decoration-color: #00d7ff\">None</span>, <span style=\"color: #00af00; text-decoration-color: #00af00\">64</span>)             │        <span style=\"color: #00af00; text-decoration-color: #00af00\">12,352</span> │\n",
              "├─────────────────────────────────┼────────────────────────┼───────────────┤\n",
              "│ dense_3 (<span style=\"color: #0087ff; text-decoration-color: #0087ff\">Dense</span>)                 │ (<span style=\"color: #00d7ff; text-decoration-color: #00d7ff\">None</span>, <span style=\"color: #00af00; text-decoration-color: #00af00\">5</span>)              │           <span style=\"color: #00af00; text-decoration-color: #00af00\">325</span> │\n",
              "└─────────────────────────────────┴────────────────────────┴───────────────┘\n",
              "</pre>\n"
            ],
            "text/plain": [
              "┏━━━━━━━━━━━━━━━━━━━━━━━━━━━━━━━━━┳━━━━━━━━━━━━━━━━━━━━━━━━┳━━━━━━━━━━━━━━━┓\n",
              "┃\u001b[1m \u001b[0m\u001b[1mLayer (type)                   \u001b[0m\u001b[1m \u001b[0m┃\u001b[1m \u001b[0m\u001b[1mOutput Shape          \u001b[0m\u001b[1m \u001b[0m┃\u001b[1m \u001b[0m\u001b[1m      Param #\u001b[0m\u001b[1m \u001b[0m┃\n",
              "┡━━━━━━━━━━━━━━━━━━━━━━━━━━━━━━━━━╇━━━━━━━━━━━━━━━━━━━━━━━━╇━━━━━━━━━━━━━━━┩\n",
              "│ embedding_1 (\u001b[38;5;33mEmbedding\u001b[0m)         │ (\u001b[38;5;45mNone\u001b[0m, \u001b[38;5;34m200\u001b[0m, \u001b[38;5;34m64\u001b[0m)        │       \u001b[38;5;34m320,000\u001b[0m │\n",
              "├─────────────────────────────────┼────────────────────────┼───────────────┤\n",
              "│ bidirectional (\u001b[38;5;33mBidirectional\u001b[0m)   │ (\u001b[38;5;45mNone\u001b[0m, \u001b[38;5;34m192\u001b[0m)            │       \u001b[38;5;34m123,648\u001b[0m │\n",
              "├─────────────────────────────────┼────────────────────────┼───────────────┤\n",
              "│ dense_2 (\u001b[38;5;33mDense\u001b[0m)                 │ (\u001b[38;5;45mNone\u001b[0m, \u001b[38;5;34m64\u001b[0m)             │        \u001b[38;5;34m12,352\u001b[0m │\n",
              "├─────────────────────────────────┼────────────────────────┼───────────────┤\n",
              "│ dense_3 (\u001b[38;5;33mDense\u001b[0m)                 │ (\u001b[38;5;45mNone\u001b[0m, \u001b[38;5;34m5\u001b[0m)              │           \u001b[38;5;34m325\u001b[0m │\n",
              "└─────────────────────────────────┴────────────────────────┴───────────────┘\n"
            ]
          },
          "metadata": {},
          "output_type": "display_data"
        },
        {
          "data": {
            "text/html": [
              "<pre style=\"white-space:pre;overflow-x:auto;line-height:normal;font-family:Menlo,'DejaVu Sans Mono',consolas,'Courier New',monospace\"><span style=\"font-weight: bold\"> Total params: </span><span style=\"color: #00af00; text-decoration-color: #00af00\">456,325</span> (1.74 MB)\n",
              "</pre>\n"
            ],
            "text/plain": [
              "\u001b[1m Total params: \u001b[0m\u001b[38;5;34m456,325\u001b[0m (1.74 MB)\n"
            ]
          },
          "metadata": {},
          "output_type": "display_data"
        },
        {
          "data": {
            "text/html": [
              "<pre style=\"white-space:pre;overflow-x:auto;line-height:normal;font-family:Menlo,'DejaVu Sans Mono',consolas,'Courier New',monospace\"><span style=\"font-weight: bold\"> Trainable params: </span><span style=\"color: #00af00; text-decoration-color: #00af00\">456,325</span> (1.74 MB)\n",
              "</pre>\n"
            ],
            "text/plain": [
              "\u001b[1m Trainable params: \u001b[0m\u001b[38;5;34m456,325\u001b[0m (1.74 MB)\n"
            ]
          },
          "metadata": {},
          "output_type": "display_data"
        },
        {
          "data": {
            "text/html": [
              "<pre style=\"white-space:pre;overflow-x:auto;line-height:normal;font-family:Menlo,'DejaVu Sans Mono',consolas,'Courier New',monospace\"><span style=\"font-weight: bold\"> Non-trainable params: </span><span style=\"color: #00af00; text-decoration-color: #00af00\">0</span> (0.00 B)\n",
              "</pre>\n"
            ],
            "text/plain": [
              "\u001b[1m Non-trainable params: \u001b[0m\u001b[38;5;34m0\u001b[0m (0.00 B)\n"
            ]
          },
          "metadata": {},
          "output_type": "display_data"
        }
      ],
      "source": [
        "vocab_size = 5000\n",
        "embedding_dim=64\n",
        "\n",
        "model = tf.keras.Sequential([\n",
        "    tf.keras.layers.Embedding(vocab_size,embedding_dim,input_shape=[200]),\n",
        "    tf.keras.layers.Bidirectional(tf.keras.layers.LSTM(units=96,activation='tanh')),\n",
        "    tf.keras.layers.Dense(units=64,activation='relu'),\n",
        "    tf.keras.layers.Dense(units=5,activation='softmax')\n",
        "])\n",
        "\n",
        "model.summary()"
      ]
    },
    {
      "cell_type": "markdown",
      "metadata": {
        "id": "2es6RORPqq1M"
      },
      "source": [
        "### Step 10: Compile and train the Model\n",
        "- Compile the model using **model.compile()** with the loss function set to **sparse_categorical_crossentropy**, the optimizer set to **adam**, and the metrics set to **accuracy**\n",
        "- Set the number of epochs to 10\n",
        "- Train the model using **model.fit()** with the training padded sequences **(train_padded)** and training label sequences **(training_label_seq)**\n",
        "- Specify the number of epochs as **num_epochs**, the validation data as the validation padded sequences **(validation_padded)** and validation label sequences **(validation_label_seq)**, and **verbose** mode as **2**"
      ]
    },
    {
      "cell_type": "code",
      "execution_count": 38,
      "metadata": {
        "colab": {
          "base_uri": "https://localhost:8080/"
        },
        "id": "oOBn4QRv7k6_",
        "outputId": "051cdb67-bd24-4bf9-8f53-66ac4fe4dc9b"
      },
      "outputs": [
        {
          "name": "stdout",
          "output_type": "stream",
          "text": [
            "Epoch 1/10\n",
            "56/56 - 4s - 67ms/step - accuracy: 0.4275 - loss: 1.3774 - val_accuracy: 0.6180 - val_loss: 0.9737\n",
            "Epoch 2/10\n",
            "56/56 - 3s - 51ms/step - accuracy: 0.7365 - loss: 0.6720 - val_accuracy: 0.7438 - val_loss: 0.7793\n",
            "Epoch 3/10\n",
            "56/56 - 3s - 52ms/step - accuracy: 0.9006 - loss: 0.3527 - val_accuracy: 0.8854 - val_loss: 0.3835\n",
            "Epoch 4/10\n",
            "56/56 - 3s - 54ms/step - accuracy: 0.9730 - loss: 0.1016 - val_accuracy: 0.9213 - val_loss: 0.2649\n",
            "Epoch 5/10\n",
            "56/56 - 3s - 51ms/step - accuracy: 0.9961 - loss: 0.0292 - val_accuracy: 0.9416 - val_loss: 0.2086\n",
            "Epoch 6/10\n",
            "56/56 - 3s - 52ms/step - accuracy: 0.9994 - loss: 0.0076 - val_accuracy: 0.9393 - val_loss: 0.2389\n",
            "Epoch 7/10\n",
            "56/56 - 3s - 55ms/step - accuracy: 0.9978 - loss: 0.0093 - val_accuracy: 0.9438 - val_loss: 0.2355\n",
            "Epoch 8/10\n",
            "56/56 - 3s - 59ms/step - accuracy: 0.9994 - loss: 0.0040 - val_accuracy: 0.9461 - val_loss: 0.2409\n",
            "Epoch 9/10\n",
            "56/56 - 3s - 51ms/step - accuracy: 1.0000 - loss: 9.5706e-04 - val_accuracy: 0.9506 - val_loss: 0.2352\n",
            "Epoch 10/10\n",
            "56/56 - 3s - 55ms/step - accuracy: 1.0000 - loss: 6.3466e-04 - val_accuracy: 0.9461 - val_loss: 0.2485\n"
          ]
        }
      ],
      "source": [
        "\n",
        "model.compile(loss='sparse_categorical_crossentropy', optimizer='adam', metrics=['accuracy'])\n",
        "\n",
        "num_epochs = 10\n",
        "\n",
        "history = model.fit(train_padded, training_label_seq, epochs=num_epochs, validation_data=(validation_padded, validation_label_seq), verbose=2)\n"
      ]
    },
    {
      "cell_type": "markdown",
      "metadata": {
        "id": "oHTdv_yi5dBP"
      },
      "source": [
        "__Remark: we get a much better accuracy than a simple RNN.__"
      ]
    },
    {
      "cell_type": "markdown",
      "metadata": {
        "id": "WqnhF_pirkJL"
      },
      "source": [
        "__Observations:__\n",
        "- The code trains the model for the specified number of epochs and records the training and validation accuracy and loss metrics.\n",
        "- The output is an object named history that contains information about the training process, such as the loss and accuracy values at each epoch."
      ]
    },
    {
      "cell_type": "markdown",
      "metadata": {
        "id": "JlqqXKGDtBhm"
      },
      "source": [
        "### Step 11: Plot the Graph\n",
        "- Define a function named **plot_graphs** that takes history and string as inputs. Inside the function, plot the training and validation values of the given metric (string) from the history object using **plt.plot()**\n",
        "- Set the x-axis label as **Epochs** and the y-axis label as the given metric (string)\n",
        "- Call the **plot_graphs** function twice, first with **history** and **accuracy** as arguments, and then with **history** and **loss** as arguments\n",
        "- Display the generated plots showing the training and validation values of the accuracy and loss metrics over the epochs"
      ]
    },
    {
      "cell_type": "code",
      "execution_count": 39,
      "metadata": {
        "colab": {
          "base_uri": "https://localhost:8080/",
          "height": 881
        },
        "id": "ovA5JGsp7k6_",
        "outputId": "ec32899d-58ca-428f-9b52-2b18da80021d"
      },
      "outputs": [
        {
          "data": {
            "image/png": "[encoded data removed]",
            "text/plain": [
              "<Figure size 640x480 with 1 Axes>"
            ]
          },
          "metadata": {},
          "output_type": "display_data"
        },
        {
          "data": {
            "image/png": "[encoded data removed]",
            "text/plain": [
              "<Figure size 640x480 with 1 Axes>"
            ]
          },
          "metadata": {},
          "output_type": "display_data"
        }
      ],
      "source": [
        "def plot_graphs(history, string):\n",
        "  plt.plot(history.history[string])\n",
        "  plt.plot(history.history['val_'+string])\n",
        "  plt.xlabel(\"Epochs\")\n",
        "  plt.ylabel(string)\n",
        "  plt.legend([string, 'val_'+string])\n",
        "  plt.show()\n",
        "\n",
        "plot_graphs(history, \"accuracy\")\n",
        "plot_graphs(history, \"loss\")"
      ]
    },
    {
      "cell_type": "markdown",
      "metadata": {
        "id": "Igbnz5BWZa3m"
      },
      "source": [
        "<br>\n",
        "\n",
        "__Make predictions__"
      ]
    },
    {
      "cell_type": "code",
      "execution_count": 40,
      "metadata": {
        "colab": {
          "base_uri": "https://localhost:8080/"
        },
        "id": "TFlyeIpwZa3m",
        "outputId": "cba05a8e-5c45-4706-9893-cc9b6cf8655c"
      },
      "outputs": [
        {
          "name": "stdout",
          "output_type": "stream",
          "text": [
            "\u001b[1m14/14\u001b[0m \u001b[32m━━━━━━━━━━━━━━━━━━━━\u001b[0m\u001b[37m\u001b[0m \u001b[1m0s\u001b[0m 28ms/step\n"
          ]
        }
      ],
      "source": [
        "predictions= model.predict(validation_padded)"
      ]
    },
    {
      "cell_type": "markdown",
      "metadata": {
        "id": "zNQ8XRGSsEqG"
      },
      "source": [
        "Each prediction is a softmax vector of 5 categories."
      ]
    },
    {
      "cell_type": "code",
      "execution_count": 41,
      "metadata": {
        "colab": {
          "base_uri": "https://localhost:8080/"
        },
        "id": "OioRNtyZZa3m",
        "outputId": "121963ce-1b3d-417a-c2f0-c3f0dc15fdb5"
      },
      "outputs": [
        {
          "data": {
            "text/plain": [
              "array([[1.2336905e-07, 7.0366645e-05, 5.3304296e-07, 4.7361385e-03,\n",
              "        9.9519289e-01],\n",
              "       [2.8853256e-05, 7.9303754e-05, 2.4332579e-03, 9.9574363e-01,\n",
              "        1.7149553e-03],\n",
              "       [5.1257695e-05, 6.3329401e-07, 9.9994290e-01, 5.2388955e-06,\n",
              "        5.9745302e-09],\n",
              "       ...,\n",
              "       [9.9451691e-09, 1.7339235e-05, 2.4988422e-08, 3.8409774e-04,\n",
              "        9.9959856e-01],\n",
              "       [2.6046624e-03, 9.3886943e-04, 9.9339730e-01, 3.0457717e-03,\n",
              "        1.3397516e-05],\n",
              "       [9.9981707e-01, 2.9720941e-06, 1.7760240e-04, 2.4292181e-06,\n",
              "        7.2223738e-09]], dtype=float32)"
            ]
          },
          "execution_count": 41,
          "metadata": {},
          "output_type": "execute_result"
        }
      ],
      "source": [
        "predictions"
      ]
    },
    {
      "cell_type": "code",
      "execution_count": 42,
      "metadata": {
        "colab": {
          "base_uri": "https://localhost:8080/"
        },
        "id": "pIH09dx7Za3m",
        "outputId": "538fc14a-2a5a-42a3-dfd4-508866fc376e"
      },
      "outputs": [
        {
          "data": {
            "text/plain": [
              "array([1.2336905e-07, 7.0366645e-05, 5.3304296e-07, 4.7361385e-03,\n",
              "       9.9519289e-01], dtype=float32)"
            ]
          },
          "execution_count": 42,
          "metadata": {},
          "output_type": "execute_result"
        }
      ],
      "source": [
        "predictions[0]"
      ]
    },
    {
      "cell_type": "code",
      "execution_count": 43,
      "metadata": {
        "colab": {
          "base_uri": "https://localhost:8080/"
        },
        "id": "BJGgttXOZa3m",
        "outputId": "d34d288d-9464-4860-9ad9-58a02fa7ad8e"
      },
      "outputs": [
        {
          "name": "stdout",
          "output_type": "stream",
          "text": [
            "Sentence =  us tv cuts nudity bbc film us tv network editing bbc films  dirty war avoid showing front nude woman scrubbed fictional chemical attack.  worth showing  non-essential  nude scenes indecency complaints  aggressively pursued  us tv watchdogs  said pbs  jacoba atlas. dirty war - screened uncut bbc one last september - depicts dirty bomb attack city london. also screened uncut us cable channel hbo 24 january. pbs said use extra footage broadcast  showing woman  discreet angle  instead.  us federal communications commission fined cbs $550 000 (£306 814) last autumn singer janet jackson  wardrobe malfunction   breast exposed dance routine justin timberlake. many us networks broadcasters nervous airing nudity  violence bad language. ms atlas said pbs could put financially risk showed uncut version dirty war  could also deter many 170 individual stations airing  important film .  want pick battles   said. added pbs  private  non-profit media enterprise owned operated nation 349 public television stations  bolder screening non-fiction historical programming. pbs seen virtually us homes tv  describes  trusted community resource  serving nearly 100 million people week.\n",
            " \n",
            "Exact =  4 : entertainment\n",
            "Predicted =  4 : entertainment\n"
          ]
        }
      ],
      "source": [
        "ind =15\n",
        "print(\"Sentence = \",validation_articles[ind])\n",
        "print(\" \")\n",
        "print(\"Exact = \",validation_label_seq[ind][0], \":\",label_tokenizer.sequences_to_texts([(validation_label_seq[ind]+1).tolist()])[0])\n",
        "print(\"Predicted = \",np.argmax(predictions[ind]), \":\",label_tokenizer.sequences_to_texts([[np.argmax(predictions[ind])+1]])[0])"
      ]
    },
    {
      "cell_type": "code",
      "execution_count": 44,
      "metadata": {
        "colab": {
          "base_uri": "https://localhost:8080/"
        },
        "id": "mXt3AIuPZa3m",
        "outputId": "352b6396-5638-406a-ae7e-3bb66caff3e0"
      },
      "outputs": [
        {
          "name": "stdout",
          "output_type": "stream",
          "text": [
            "Sentence =  t-mobile bets  pocket office  t-mobile launched latest  pocket office  third-generation (3g) device also built-in wi-fi - high-speed wireless net access.  unlike devices user check high-speed network available transfer data  device selects fastest one itself. mda iv  released summer  upgrade company existing smartphone  2.5g/wi-fi mda iii. reflects push mobile firms devices like mini laptops. device display swivelled angled used like small computer  conventional clamshell phone. microsoft mobile phone  two cameras qwerty keyboard  reflects design similar all-in-one models released year  motorola mpx.  one five european workers already mobile - meaning spend significant time travelling office   rene obermann  t-mobile chief executive  told press conference 3gsm trade show cannes. added:  need office office.  t-mobile said seeing increasing take calls  office pocket  devices  100 000 mdas sold europe already.  response demand  t-mobile also said would adding latest phone-shaped blackberry mobile range. reflecting growing need connected outside office  announced would introduce flat-fee £20 ($38) month wi-fi tariff people uk using wi-fi hotspots. said would nearly double number hotspots - places wi-fi access available - globally 12 300 20 000.  also announced installing high-speed wi-fi certain train services  uk london brighton service  provide commuters fast net connection too. service  developed southern trains  nomad digital (who provide technology)  begins free trial 16 trains route early march end april. full service set follow summer. wi-fi access points connected wimax wireless network - faster wi-fi - running alongside train tracks. brian mcbride  managing director t-mobile uk  said:  see growing trend business users needing access e-mail securely move.   able offer maintaining constant data session entire journey.  said something similar in-train wi-fi services  offered gner trains  offer yet. mr obermann added mobile industry general still growing  many opportunities services would bear fruit mobile companies future. thousands mobile industry experts gathered cannes  france  3gsm runs 14 17 february.\n",
            " \n",
            "Exact =  3 : tech\n",
            "Predicted =  3 : tech\n"
          ]
        }
      ],
      "source": [
        "ind =200\n",
        "print(\"Sentence = \",validation_articles[ind])\n",
        "print(\" \")\n",
        "print(\"Exact = \",validation_label_seq[ind][0], \":\",label_tokenizer.sequences_to_texts([(validation_label_seq[ind]+1).tolist()])[0])\n",
        "print(\"Predicted = \",np.argmax(predictions[ind]), \":\",label_tokenizer.sequences_to_texts([[np.argmax(predictions[ind])+1]])[0])"
      ]
    },
    {
      "cell_type": "code",
      "execution_count": 45,
      "metadata": {
        "colab": {
          "base_uri": "https://localhost:8080/"
        },
        "id": "162GlA68scKM",
        "outputId": "64b25ccc-072d-4d30-d239-23c63acada0b"
      },
      "outputs": [
        {
          "name": "stdout",
          "output_type": "stream",
          "text": [
            "Sentence =  blair blunkett sheffield trip tony blair join home secretary david blunkett visit sheffield thursday.  mr blunkett conduct looked establish whether abused position relation ex-lover. parliamentary standards watchdog looking decision give kimberly quinn free rail tickets. also investigated visa application mrs quinn ex-nanny. visit sheffield seen show unity mr blair.  wednesday prime minister questions  tory leader michael howard went offensive comments mr blunkett alleged made new biography. understood made series criticisms cabinet colleagues prime minister down. mr howard said mr blunkett complained inherited  giant mess  took home office jack straw  foreign secretary. tory leader went on:  stop there: thinks culture secretary weak; thinks trade secretary think strategically thinks education secretary developed expected.  says prime minister like told truth chancellor - doubt prime minister agree - bully.  mr blair retorted voters remembered record government comments politicians.  home secretary already admitted wrong give two first class tickets  given mp  mrs quinn since paid £180 back. apologised  genuine mistake  says write watchdog answer questions. rail tickets meant help mps  spouses get westminster constituencies. inquiry  parliamentary watchdog sir philip mawer report commons standards privileges committee  group mps recommend full house commons action - - taken mr blunkett.  separate inquiry ex-senior civil servant sir alan budd investigating whether home secretary helped fast-track bid mrs quinn nanny  leoncia casalme  stay uk. last week  mr blunkett first round high court battle mrs quinn access son. mr blunkett declined comment position  saying inquiry way high court stressed right privacy affect job improving security stability. downing street stressed mr blair support home secretary.\n",
            " \n",
            "Exact =  2 : politics\n",
            "Predicted =  2 : politics\n"
          ]
        }
      ],
      "source": [
        "ind =36\n",
        "print(\"Sentence = \",validation_articles[ind])\n",
        "print(\" \")\n",
        "print(\"Exact = \",validation_label_seq[ind][0], \":\",label_tokenizer.sequences_to_texts([(validation_label_seq[ind]+1).tolist()])[0])\n",
        "print(\"Predicted = \",np.argmax(predictions[ind]), \":\",label_tokenizer.sequences_to_texts([[np.argmax(predictions[ind])+1]])[0])"
      ]
    },
    {
      "cell_type": "code",
      "execution_count": 54,
      "metadata": {
        "id": "-p3-DQjn5ti4"
      },
      "outputs": [],
      "source": []
    }
  ],
  "metadata": {
    "colab": {
      "provenance": []
    },
    "kernelspec": {
      "display_name": ".venv",
      "language": "python",
      "name": "python3"
    },
    "language_info": {
      "codemirror_mode": {
        "name": "ipython",
        "version": 3
      },
      "file_extension": ".py",
      "mimetype": "text/x-python",
      "name": "python",
      "nbconvert_exporter": "python",
      "pygments_lexer": "ipython3",
      "version": "3.12.11"
    }
  },
  "nbformat": 4,
  "nbformat_minor": 0
}
