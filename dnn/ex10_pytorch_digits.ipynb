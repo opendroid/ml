{
 "cells": [
  {
   "cell_type": "markdown",
   "metadata": {
    "id": "I5MYHEnaJKna"
   },
   "source": [
    "# Predict handwritten digits with Pytorch"
   ]
  },
  {
   "cell_type": "code",
   "execution_count": 2,
   "metadata": {},
   "outputs": [],
   "source": [
    "import torch\n",
    "import torchvision\n",
    "from torchvision import transforms\n",
    "\n",
    "transform = transforms.Compose([transforms.ToTensor(), transforms.Normalize((0.5,), (0.5,))])\n",
    "\n",
    "train_dataset = torchvision.datasets.MNIST(root='./data', train=True, transform=transform, download=True)\n",
    "train_loader = torch.utils.data.DataLoader(dataset=train_dataset, batch_size=64, shuffle=True)\n",
    "\n",
    "test_dataset = torchvision.datasets.MNIST(root='./data', train=False, transform=transform)\n",
    "test_loader = torch.utils.data.DataLoader(dataset=test_dataset, batch_size=64, shuffle=False)"
   ]
  },
  {
   "cell_type": "code",
   "execution_count": 3,
   "metadata": {
    "colab": {
     "base_uri": "https://localhost:8080/",
     "height": 447
    },
    "id": "jROz8T2NJUDh",
    "outputId": "a361b576-9197-4017-86a5-72d7a93faee4"
   },
   "outputs": [
    {
     "data": {
      "image/png": "[encoded data removed]",
      "text/plain": [
       "<Figure size 640x480 with 1 Axes>"
      ]
     },
     "metadata": {},
     "output_type": "display_data"
    },
    {
     "name": "stdout",
     "output_type": "stream",
     "text": [
      "tensor(8)\n"
     ]
    }
   ],
   "source": [
    "import matplotlib.pyplot as plt\n",
    "\n",
    "dataiter = iter(train_loader)\n",
    "images, labels = next(dataiter)\n",
    "\n",
    "plt.imshow(images[6].numpy().squeeze(), cmap='gray')\n",
    "plt.show()\n",
    "\n",
    "print(labels[6])"
   ]
  },
  {
   "cell_type": "code",
   "execution_count": 4,
   "metadata": {},
   "outputs": [
    {
     "data": {
      "text/plain": [
       "torch.Size([1, 28, 28])"
      ]
     },
     "execution_count": 4,
     "metadata": {},
     "output_type": "execute_result"
    }
   ],
   "source": [
    "images[6].shape"
   ]
  },
  {
   "cell_type": "markdown",
   "metadata": {},
   "source": [
    "<br>\n",
    "\n",
    "__Build a network with:__\n",
    "\n",
    "- 1st layer: Flatten\n",
    "- 2nd layer: Dense, 128 nodes, activation =relu\n",
    "- 3rd layer: Dense, 128 nodes, activation =relu\n",
    "- 4th layer: Dense, 10 nodes, activation =softmax"
   ]
  },
  {
   "cell_type": "code",
   "execution_count": 5,
   "metadata": {
    "id": "XWh_rtgkJdXw"
   },
   "outputs": [],
   "source": [
    "import torch.nn as nn\n",
    "import torch.nn.functional as F\n",
    "\n",
    "class Net(nn.Module):\n",
    "    def __init__(self):\n",
    "        super(Net, self).__init__()\n",
    "        self.d1 = nn.Linear(28*28,128) # Dense layer, no activation yet, we need to type both the INPUT size and the OUPUT size\n",
    "        self.d2 = nn.Linear(128,128)\n",
    "        self.d3 = nn.Linear(128,10)\n",
    "\n",
    "    def forward(self, x):\n",
    "        x = x.view(-1,28*28) # Flatten manually; similar to \"reshape\" in numpy\n",
    "        x = self.d1(x) # Apply linear layer d1\n",
    "        x = nn.ReLU()(x)  # Apply Relu\n",
    "        x = nn.ReLU()(self.d2(x)) # Apply second linear layer + activation Relu\n",
    "        x = nn.Softmax(dim=1)(self.d3(x))\n",
    "        return x"
   ]
  },
  {
   "cell_type": "code",
   "execution_count": 6,
   "metadata": {},
   "outputs": [],
   "source": [
    "model = Net()"
   ]
  },
  {
   "cell_type": "code",
   "execution_count": 7,
   "metadata": {
    "id": "aerqDox8KcFF"
   },
   "outputs": [],
   "source": [
    "import torch.optim as optim\n",
    "\n",
    "loss_fn = nn.CrossEntropyLoss()\n",
    "optimizer = optim.Adam(model.parameters(), lr=0.001)"
   ]
  },
  {
   "cell_type": "code",
   "execution_count": 8,
   "metadata": {
    "colab": {
     "base_uri": "https://localhost:8080/"
    },
    "id": "M-MHTEEwKfY5",
    "outputId": "33f4c38f-59f0-427a-b69f-56abeafe4e4f"
   },
   "outputs": [
    {
     "name": "stdout",
     "output_type": "stream",
     "text": [
      "Epoch [1/100], Loss: 1.6288\n",
      "Epoch [11/100], Loss: 1.4962\n",
      "Epoch [21/100], Loss: 1.4881\n",
      "Epoch [31/100], Loss: 1.4863\n",
      "Epoch [41/100], Loss: 1.4860\n",
      "Epoch [51/100], Loss: 1.4835\n",
      "Epoch [61/100], Loss: 1.4835\n",
      "Epoch [71/100], Loss: 1.4811\n",
      "Epoch [81/100], Loss: 1.4822\n",
      "Epoch [91/100], Loss: 1.4816\n"
     ]
    }
   ],
   "source": [
    "epochs = 100\n",
    "for epoch in range(epochs):\n",
    "    running_loss = 0.0\n",
    "    model.train() # Indicate that you train the model\n",
    "    for i, (images, labels) in enumerate(train_loader, 1): # Added enumeration to get batch number\n",
    "\n",
    "        # Zero the gradient, not necessary\n",
    "        optimizer.zero_grad()\n",
    "\n",
    "        # Forward pass: ie: predict output with current model\n",
    "        output = model(images)\n",
    "\n",
    "        # Compute loss\n",
    "        loss = loss_fn(output,labels)\n",
    "\n",
    "        # Backward propagation = compute gradient\n",
    "        loss.backward()\n",
    "\n",
    "        # Update weights and biases\n",
    "        optimizer.step()\n",
    "\n",
    "        running_loss += loss.item()\n",
    "\n",
    "    if epoch % 10 == 0:\n",
    "        print(f\"Epoch [{epoch+1}/{epochs}], Loss: {running_loss/i:.4f}\")"
   ]
  },
  {
   "cell_type": "code",
   "execution_count": 10,
   "metadata": {
    "colab": {
     "base_uri": "https://localhost:8080/"
    },
    "id": "1zEPRY82KiIP",
    "outputId": "b700d24b-b37c-4bb8-9e9d-bf7bb59e31b0"
   },
   "outputs": [
    {
     "name": "stdout",
     "output_type": "stream",
     "text": [
      "Test Accuracy: 96.41%\n"
     ]
    }
   ],
   "source": [
    "correct = 0\n",
    "total = 0\n",
    "with torch.no_grad():\n",
    "    for images, labels in test_loader:\n",
    "        outputs = model(images)\n",
    "        _, predicted = torch.max(outputs.data, 1)\n",
    "        total += labels.size(0)\n",
    "        correct += (predicted == labels).sum().item()\n",
    "\n",
    "print(f'Test Accuracy: {100 * correct / total}%')"
   ]
  },
  {
   "cell_type": "code",
   "execution_count": 11,
   "metadata": {
    "colab": {
     "base_uri": "https://localhost:8080/",
     "height": 452
    },
    "id": "NrHKRJ0SK3Nr",
    "outputId": "71b54860-4ba5-4f1c-89bd-67775e30d588"
   },
   "outputs": [
    {
     "data": {
      "image/png": "[encoded data removed]",
      "text/plain": [
       "<Figure size 640x480 with 1 Axes>"
      ]
     },
     "metadata": {},
     "output_type": "display_data"
    },
    {
     "name": "stdout",
     "output_type": "stream",
     "text": [
      "Predicted Label: 0\n"
     ]
    }
   ],
   "source": [
    "dataiter = iter(train_loader)\n",
    "images, labels = next(dataiter)\n",
    "\n",
    "outputs = model(images[1:2])\n",
    "_, predicted = torch.max(outputs.data, 1)\n",
    "\n",
    "plt.imshow(images[1].numpy().squeeze(), cmap='gray')\n",
    "plt.title(f\"Exact Label: {labels[1].item()}\")\n",
    "plt.show()\n",
    "print(f\"Predicted Label: {predicted.item()}\")"
   ]
  }
 ],
 "metadata": {
  "colab": {
   "provenance": []
  },
  "kernelspec": {
   "display_name": ".venv",
   "language": "python",
   "name": "python3"
  },
  "language_info": {
   "codemirror_mode": {
    "name": "ipython",
    "version": 3
   },
   "file_extension": ".py",
   "mimetype": "text/x-python",
   "name": "python",
   "nbconvert_exporter": "python",
   "pygments_lexer": "ipython3",
   "version": "3.12.11"
  }
 },
 "nbformat": 4,
 "nbformat_minor": 4
}
