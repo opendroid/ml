{
 "cells": [
  {
   "cell_type": "markdown",
   "id": "4fba6f04-977e-432c-afbd-4fb75b7486d8",
   "metadata": {
    "id": "4fba6f04-977e-432c-afbd-4fb75b7486d8"
   },
   "source": [
    "# __Incremental Capstone - Week 10__"
   ]
  },
  {
   "cell_type": "markdown",
   "id": "4cdd1bca-ffd8-41e3-bd8e-384165f98a18",
   "metadata": {
    "id": "4cdd1bca-ffd8-41e3-bd8e-384165f98a18"
   },
   "source": [
    "__Task: Build a Transfer Learning model to detect face masks on humans.__\n",
    "\n",
    "__Task A:__\n",
    "1. Load the Image Training and Test Datasets from the train and test\n",
    "folder respectively. Each image is of shape 128 x 128 x 3\n",
    "2. Load training dataset using Keras ImageDataGenerator with\n",
    "validation_split=0.2\n",
    "3. Load test dataset using Keras ImageDataGenerator\n",
    "4. Build a Transfer Learning network using Keras with the following\n",
    "layers\n",
    "4.1.Load EfficientNetB0 as first layers using Keras API.\n",
    "4.2.GLobalAveragePooling2D layer\n",
    "4.3.Dropout(0.2)\n",
    "4.4.Dense layer with 3 neurons and activation softmax\n",
    "5. Compile the model with adam optimizer, categorical_crossentropy loss\n",
    "and with metrics accuracy.\n",
    "6. Train the model for 25 epochs with callbacks Reduce Learning Rate on\n",
    "Plateau and early stopping while monitoring validation loss\n",
    "7. Plot training and validation accuracy and loss against epochs.\n",
    "\n",
    "__Task B:__\n",
    "1. Load the Image Training and Test Datasets from the train and test folder\n",
    "respectively. Each image is of shape 128 x 128 x 3\n",
    "2. Load training dataset using Keras ImageDataGenerator with\n",
    "validation_split=0.2\n",
    "3. Load test dataset using Keras ImageDataGenerator\n",
    "4. Build a Transfer Learning network using Keras with the following layers\n",
    "4.1.Load ResNet50 as first layers using Keras API.\n",
    "4.2.GLobalAveragePooling2D layer\n",
    "4.3.Dropout(0.5)\n",
    "4.4.Dense layer with 3 neurons and activation softmax\n",
    "5. Compile the model with adam optimizer, categorical_crossentropy loss\n",
    "and with metrics accuracy.\n",
    "\n",
    "6. Train the model for 25 epochs with callbacks Reduce Learning Rate on\n",
    "Plateau and early stopping while monitoring validation loss\n",
    "7. Plot training and validation accuracy and loss against epochs\n",
    "\n",
    "__Task C:__\n",
    "1. Compare EfficientNetB0 and ResNet50 model performance and find the\n",
    "best model\n",
    "2. Using the best model predict on the test dataset and plot 10 images\n",
    "from the test set along with its True Label and Predicted Label.\n"
   ]
  },
  {
   "cell_type": "code",
   "execution_count": 5,
   "id": "S3vVkm1wavBh",
   "metadata": {
    "id": "S3vVkm1wavBh"
   },
   "outputs": [],
   "source": [
    "import tensorflow as tf\n",
    "from tensorflow import keras\n",
    "import matplotlib.pyplot as plt\n",
    "import numpy as np"
   ]
  },
  {
   "cell_type": "markdown",
   "id": "5gaH6cbE4WZ2",
   "metadata": {
    "id": "5gaH6cbE4WZ2"
   },
   "source": [
    "##Task A"
   ]
  },
  {
   "cell_type": "markdown",
   "id": "8FCfkKuCQEIb",
   "metadata": {
    "id": "8FCfkKuCQEIb"
   },
   "source": [
    "__1. Load the Image Training and Test Datasets from the train and test\n",
    "folder respectively. Each image is of shape 128 x 128 x 3__"
   ]
  },
  {
   "cell_type": "code",
   "execution_count": 2,
   "id": "z9Bft0WMQB44",
   "metadata": {
    "id": "z9Bft0WMQB44"
   },
   "outputs": [],
   "source": [
    "# unzip -q /content/face_mask_detection_dataset-20240510T161332Z-001.zip"
   ]
  },
  {
   "cell_type": "markdown",
   "id": "ZfYk13lHQCUD",
   "metadata": {
    "id": "ZfYk13lHQCUD"
   },
   "source": [
    "__2. Load training dataset using Keras ImageDataGenerator with\n",
    "validation_split=0.2__"
   ]
  },
  {
   "cell_type": "code",
   "execution_count": 8,
   "id": "BwatdaRSQzvz",
   "metadata": {
    "id": "BwatdaRSQzvz"
   },
   "outputs": [],
   "source": [
    "# Use horizontal_flip = True, vertical_flip = True, zoom_range = 0.1,\n",
    "# shear_range = 0.1, width_shift_range = 0.2, height_shift_range = 0.2, rotation_range = 90\n",
    "train_data_generator = keras.preprocessing.image.ImageDataGenerator(horizontal_flip=True, vertical_flip=True,\n",
    "                                                                    zoom_range=0.1, shear_range=0.1,\n",
    "                                                                    width_shift_range=0.2, height_shift_range=0.2,\n",
    "                                                                    rotation_range=90)\n",
    "# Leave test_data_generator as is\n",
    "test_data_generator = keras.preprocessing.image.ImageDataGenerator()"
   ]
  },
  {
   "cell_type": "code",
   "execution_count": 9,
   "id": "Tdi4B6QMbUAj",
   "metadata": {
    "colab": {
     "base_uri": "https://localhost:8080/"
    },
    "executionInfo": {
     "elapsed": 404,
     "status": "ok",
     "timestamp": 1715366263282,
     "user": {
      "displayName": "Fabien Marpeau",
      "userId": "15210978490258687001"
     },
     "user_tz": 300
    },
    "id": "Tdi4B6QMbUAj",
    "outputId": "5800e91d-7550-4c50-853a-ae866c841412"
   },
   "outputs": [
    {
     "name": "stdout",
     "output_type": "stream",
     "text": [
      "Found 7553 images belonging to 2 classes.\n"
     ]
    }
   ],
   "source": [
    "train_data = train_data_generator.flow_from_directory(directory='./data/facemasks')"
   ]
  },
  {
   "cell_type": "code",
   "execution_count": null,
   "id": "ObhSkKXClNaI",
   "metadata": {
    "executionInfo": {
     "elapsed": 5,
     "status": "ok",
     "timestamp": 1716952235179,
     "user": {
      "displayName": "Fabien Marpeau",
      "userId": "15210978490258687001"
     },
     "user_tz": 300
    },
    "id": "ObhSkKXClNaI"
   },
   "outputs": [],
   "source": [
    "for i in range(2):\n",
    "  plt.figure(figsize=(5,5))\n",
    "  x_batch, y_batch = next(train_data)\n",
    "  plt.imshow(x_batch[0]/255)\n",
    "  plt.show()"
   ]
  },
  {
   "cell_type": "code",
   "execution_count": null,
   "id": "ZNcYmrGZl1R2",
   "metadata": {
    "executionInfo": {
     "elapsed": 160,
     "status": "ok",
     "timestamp": 1716952249585,
     "user": {
      "displayName": "Fabien Marpeau",
      "userId": "15210978490258687001"
     },
     "user_tz": 300
    },
    "id": "ZNcYmrGZl1R2"
   },
   "outputs": [],
   "source": [
    "import os\n",
    "fig, axes = plt.subplots(nrows=3,ncols=3,figsize=(10,10),subplot_kw={'xticks':[],'yticks':[]})\n",
    "\n",
    "for i, ax in enumerate(axes.flat):\n",
    "  x, y = next(train_data)\n",
    "  ax.imshow(x[0]/255)\n",
    "  ax.set_title(f\"Label: {y} \" )\n",
    "plt.show()"
   ]
  },
  {
   "cell_type": "markdown",
   "id": "_lVHbzHFrHR3",
   "metadata": {
    "id": "_lVHbzHFrHR3"
   },
   "source": [
    "## Remark: The categories are one hot-encoded as:\n",
    "- ## [1,0,0]: wears mask incorrectly\n",
    "- ## [0,1,0]: wears mask corerctly\n",
    "- ## [0,0,1]: does not wear mask"
   ]
  },
  {
   "cell_type": "markdown",
   "id": "jlTpET46Qz7F",
   "metadata": {
    "id": "jlTpET46Qz7F"
   },
   "source": [
    "__3. Load test dataset using Keras ImageDataGenerator__"
   ]
  },
  {
   "cell_type": "code",
   "execution_count": null,
   "id": "giptMZKcQ5QT",
   "metadata": {
    "executionInfo": {
     "elapsed": 132,
     "status": "ok",
     "timestamp": 1716952287759,
     "user": {
      "displayName": "Fabien Marpeau",
      "userId": "15210978490258687001"
     },
     "user_tz": 300
    },
    "id": "giptMZKcQ5QT"
   },
   "outputs": [],
   "source": [
    "test_data = test_data_generator.flow_from_directory(\"./face_mask_detection_dataset/test\",target_size =(128,128), batch_size = 1,shuffle = True)"
   ]
  },
  {
   "cell_type": "code",
   "execution_count": null,
   "id": "ZrnFb4vEncV0",
   "metadata": {
    "executionInfo": {
     "elapsed": 147,
     "status": "ok",
     "timestamp": 1716952293255,
     "user": {
      "displayName": "Fabien Marpeau",
      "userId": "15210978490258687001"
     },
     "user_tz": 300
    },
    "id": "ZrnFb4vEncV0"
   },
   "outputs": [],
   "source": [
    "import os\n",
    "fig, axes = plt.subplots(nrows=3,ncols=3,figsize=(10,10),subplot_kw={'xticks':[],'yticks':[]})\n",
    "\n",
    "for i, ax in enumerate(axes.flat):\n",
    "  x, y = next(test_data)\n",
    "  ax.imshow(x[0]/255)\n",
    "  ax.set_title(f\"Label: {y} \" )\n",
    "plt.show()"
   ]
  },
  {
   "cell_type": "code",
   "execution_count": null,
   "id": "nd64Ag_AyqBg",
   "metadata": {
    "executionInfo": {
     "elapsed": 127,
     "status": "ok",
     "timestamp": 1716952299039,
     "user": {
      "displayName": "Fabien Marpeau",
      "userId": "15210978490258687001"
     },
     "user_tz": 300
    },
    "id": "nd64Ag_AyqBg"
   },
   "outputs": [],
   "source": [
    "labels = train_data.class_indices\n",
    "labels"
   ]
  },
  {
   "cell_type": "markdown",
   "id": "cHg3irLKoEKN",
   "metadata": {
    "id": "cHg3irLKoEKN"
   },
   "source": [
    "## ImageDataGenerator does not really assign values to an array, it just hold pointers. Because of that every learning step CPU perform reading operations. This slows learning speed. We will store data in numpy array type."
   ]
  },
  {
   "cell_type": "code",
   "execution_count": null,
   "id": "uBjFb2r7n9Be",
   "metadata": {
    "id": "uBjFb2r7n9Be"
   },
   "outputs": [],
   "source": [
    "def get_array_from_datagen(train_generator):\n",
    "  x=[]\n",
    "  y=[]\n",
    "  train_generator.reset()\n",
    "  for i in range (train_generator.__len__()):\n",
    "    a,b=train_generator.next()\n",
    "    x.append(a)\n",
    "    y.append(b)\n",
    "  x=np.array(x, dtype = np.float32)\n",
    "  y=np.array(y, dtype = np.float32)\n",
    "  print(x.shape)\n",
    "  print(y.shape)\n",
    "  return x,y"
   ]
  },
  {
   "cell_type": "code",
   "execution_count": null,
   "id": "n5mUAKOYn9EX",
   "metadata": {
    "executionInfo": {
     "elapsed": 116,
     "status": "ok",
     "timestamp": 1716952327123,
     "user": {
      "displayName": "Fabien Marpeau",
      "userId": "15210978490258687001"
     },
     "user_tz": 300
    },
    "id": "n5mUAKOYn9EX"
   },
   "outputs": [],
   "source": [
    "X_train, y_train = get_array_from_datagen(train_data)\n",
    "X_test, y_test = get_array_from_datagen(test_data)"
   ]
  },
  {
   "cell_type": "code",
   "execution_count": null,
   "id": "bPfvvaUDo2Fk",
   "metadata": {
    "executionInfo": {
     "elapsed": 184,
     "status": "ok",
     "timestamp": 1716952341217,
     "user": {
      "displayName": "Fabien Marpeau",
      "userId": "15210978490258687001"
     },
     "user_tz": 300
    },
    "id": "bPfvvaUDo2Fk"
   },
   "outputs": [],
   "source": [
    "X_train = X_train.reshape(-1,128,128,3)\n",
    "X_test = X_test.reshape(-1,128,128,3)\n",
    "y_train = y_train.reshape(-1,3)\n",
    "y_test = y_test.reshape(-1,3)\n",
    "\n",
    "print(X_train.shape)\n",
    "print(X_test.shape)\n",
    "print(y_train.shape)\n",
    "print(y_test.shape)"
   ]
  },
  {
   "cell_type": "markdown",
   "id": "188sYWeyQ5ar",
   "metadata": {
    "id": "188sYWeyQ5ar"
   },
   "source": [
    "__4. Build a Transfer Learning network using Keras with the following\n",
    "layers__\n",
    "- Load EfficientNetB0 as first layers using Keras API.\n",
    "- GLobalAveragePooling2D layer\n",
    "- Dropout(0.2)\n",
    "- Dense layer with 3 neurons and activation softmax"
   ]
  },
  {
   "cell_type": "code",
   "execution_count": null,
   "id": "h8I3uhe0tVm8",
   "metadata": {
    "id": "h8I3uhe0tVm8"
   },
   "outputs": [],
   "source": [
    "input_shape = # CODE HERE\n",
    "class_num = 3"
   ]
  },
  {
   "cell_type": "code",
   "execution_count": null,
   "id": "XJkVpSJnQ7hq",
   "metadata": {
    "id": "XJkVpSJnQ7hq"
   },
   "outputs": [],
   "source": [
    "# Base model\n",
    "base_model = # CODE HERE: import EfficientNetB0 with include_top=False"
   ]
  },
  {
   "cell_type": "code",
   "execution_count": null,
   "id": "IDE8lJZ6sOjN",
   "metadata": {
    "executionInfo": {
     "elapsed": 137,
     "status": "ok",
     "timestamp": 1716952380771,
     "user": {
      "displayName": "Fabien Marpeau",
      "userId": "15210978490258687001"
     },
     "user_tz": 300
    },
    "id": "IDE8lJZ6sOjN"
   },
   "outputs": [],
   "source": [
    "base_model.summary()"
   ]
  },
  {
   "cell_type": "code",
   "execution_count": null,
   "id": "KN94j3WQsOmG",
   "metadata": {
    "id": "KN94j3WQsOmG"
   },
   "outputs": [],
   "source": [
    "efficientnet_model = # CODE THE REQUESTED MODEL HERE"
   ]
  },
  {
   "cell_type": "code",
   "execution_count": null,
   "id": "SCzbl7Tesdc-",
   "metadata": {
    "executionInfo": {
     "elapsed": 119,
     "status": "ok",
     "timestamp": 1716952410165,
     "user": {
      "displayName": "Fabien Marpeau",
      "userId": "15210978490258687001"
     },
     "user_tz": 300
    },
    "id": "SCzbl7Tesdc-"
   },
   "outputs": [],
   "source": [
    "efficientnet_model.summary()"
   ]
  },
  {
   "cell_type": "markdown",
   "id": "hbZO4SCHQ7r2",
   "metadata": {
    "id": "hbZO4SCHQ7r2"
   },
   "source": [
    "__5. Compile the model with adam optimizer, categorical_crossentropy loss\n",
    "and with metrics accuracy.__"
   ]
  },
  {
   "cell_type": "code",
   "execution_count": null,
   "id": "rv-y41P4sbwV",
   "metadata": {
    "id": "rv-y41P4sbwV"
   },
   "outputs": [],
   "source": [
    "# Compile\n",
    "# CODE HERE"
   ]
  },
  {
   "cell_type": "markdown",
   "id": "-Yi2-W9CQ9th",
   "metadata": {
    "id": "-Yi2-W9CQ9th"
   },
   "source": [
    "__6. Train the model for 25 epochs with callbacks Reduce Learning Rate on\n",
    "Plateau and early stopping while monitoring validation loss.__"
   ]
  },
  {
   "cell_type": "code",
   "execution_count": null,
   "id": "eChSqgR6Q_Xm",
   "metadata": {
    "executionInfo": {
     "elapsed": 111,
     "status": "ok",
     "timestamp": 1716952467595,
     "user": {
      "displayName": "Fabien Marpeau",
      "userId": "15210978490258687001"
     },
     "user_tz": 300
    },
    "id": "eChSqgR6Q_Xm"
   },
   "outputs": [],
   "source": [
    "learning_rate_reduction = keras.callbacks.ReduceLROnPlateau (\n",
    "    monitor = \"val_accuracy\",\n",
    "    factor = 0.5, # Factor by which the learning rate is reduced\n",
    "    patience = 3,\n",
    "    verbose = 0,\n",
    "    in_lr = 0.00001) # Initial learning rate"
   ]
  },
  {
   "cell_type": "code",
   "execution_count": null,
   "id": "lNlj4yEAsyMB",
   "metadata": {
    "id": "lNlj4yEAsyMB"
   },
   "outputs": [],
   "source": [
    "# Early stopping, patience = 5\n",
    "early_stopping = # CODE HERE"
   ]
  },
  {
   "cell_type": "code",
   "execution_count": null,
   "id": "HQ37KJsQtAp7",
   "metadata": {
    "executionInfo": {
     "elapsed": 144,
     "status": "ok",
     "timestamp": 1716952944772,
     "user": {
      "displayName": "Fabien Marpeau",
      "userId": "15210978490258687001"
     },
     "user_tz": 300
    },
    "id": "HQ37KJsQtAp7"
   },
   "outputs": [],
   "source": [
    "# Train the model using the test dataset as validation set, 6 epochs and callbacks = [learning_rate_reduction,early_stopping]\n",
    "history = # CODE HERE"
   ]
  },
  {
   "cell_type": "markdown",
   "id": "2BBvU3QnQ_fB",
   "metadata": {
    "id": "2BBvU3QnQ_fB"
   },
   "source": [
    "__7. Plot training and validation accuracy and loss against epochs.__"
   ]
  },
  {
   "cell_type": "code",
   "execution_count": null,
   "id": "WwDQVeD8RBEV",
   "metadata": {
    "executionInfo": {
     "elapsed": 134,
     "status": "ok",
     "timestamp": 1716952558753,
     "user": {
      "displayName": "Fabien Marpeau",
      "userId": "15210978490258687001"
     },
     "user_tz": 300
    },
    "id": "WwDQVeD8RBEV"
   },
   "outputs": [],
   "source": [
    "import matplotlib.pyplot as plt\n",
    "def plot_history (history):\n",
    "  plt.plot(history.history['accuracy'])\n",
    "  plt.plot(history.history['val_accuracy'])\n",
    "  plt.title('model accuracy')\n",
    "  plt.ylabel('accuracy')\n",
    "  plt.xlabel('epoch')\n",
    "  plt.legend (['train ','test'],loc='upper left')\n",
    "  plt.show()\n",
    "  # summarize history for Loss\n",
    "  plt.plot(history.history['loss'])\n",
    "  plt.plot(history.history['val_loss'])\n",
    "  plt.title('model loss')\n",
    "  plt.ylabel('loss')\n",
    "  plt.xlabel('epoch')\n",
    "  plt.legend(['train','test'],loc='upper left')\n",
    "  plt.show()"
   ]
  },
  {
   "cell_type": "code",
   "execution_count": null,
   "id": "8j2Wwwcdu4Ms",
   "metadata": {
    "executionInfo": {
     "elapsed": 119,
     "status": "ok",
     "timestamp": 1716952565923,
     "user": {
      "displayName": "Fabien Marpeau",
      "userId": "15210978490258687001"
     },
     "user_tz": 300
    },
    "id": "8j2Wwwcdu4Ms"
   },
   "outputs": [],
   "source": [
    "plot_history(history)"
   ]
  },
  {
   "cell_type": "markdown",
   "id": "zy0MOqF60OSd",
   "metadata": {
    "id": "zy0MOqF60OSd"
   },
   "source": [
    "## Observations:\n",
    "With this less number of epochs,\n",
    "- Train loss decreases continuously\n",
    "- Training accuracy increases smoothly.\n",
    "- Validation loss also decreases continuously\n",
    "- Validation accuracy also increases smoothly."
   ]
  },
  {
   "cell_type": "markdown",
   "id": "u-Xfx9exRBM0",
   "metadata": {
    "id": "u-Xfx9exRBM0"
   },
   "source": [
    "## Task B:"
   ]
  },
  {
   "cell_type": "markdown",
   "id": "tccQCvx9WRNC",
   "metadata": {
    "id": "tccQCvx9WRNC"
   },
   "source": [
    "__1. Load the Image Training and Test Datasets from the train and test folder\n",
    "respectively. Each image is of shape 128 x 128 x 3__"
   ]
  },
  {
   "cell_type": "code",
   "execution_count": null,
   "id": "Kuw0nBWhWS_N",
   "metadata": {
    "id": "Kuw0nBWhWS_N"
   },
   "outputs": [],
   "source": [
    "# Already done"
   ]
  },
  {
   "cell_type": "markdown",
   "id": "l1AI8PHCWTHl",
   "metadata": {
    "id": "l1AI8PHCWTHl"
   },
   "source": [
    "__2. Load training dataset using Keras ImageDataGenerator with\n",
    "validation_split=0.2__"
   ]
  },
  {
   "cell_type": "code",
   "execution_count": null,
   "id": "EO9RG_BiWU2D",
   "metadata": {
    "id": "EO9RG_BiWU2D"
   },
   "outputs": [],
   "source": [
    "# Alerady done"
   ]
  },
  {
   "cell_type": "markdown",
   "id": "EqaQ-pIJWU-h",
   "metadata": {
    "id": "EqaQ-pIJWU-h"
   },
   "source": [
    "__3. Load test dataset using Keras ImageDataGenerator.__"
   ]
  },
  {
   "cell_type": "code",
   "execution_count": null,
   "id": "TZ_6fHlMWWlF",
   "metadata": {
    "id": "TZ_6fHlMWWlF"
   },
   "outputs": [],
   "source": [
    "# Already done."
   ]
  },
  {
   "cell_type": "markdown",
   "id": "kG5ia16gWWrw",
   "metadata": {
    "id": "kG5ia16gWWrw"
   },
   "source": [
    "__4. Build a Transfer Learning network using Keras with the following layers__\n",
    "- Load ResNet50 as first layers using Keras API.\n",
    "- GLobalAveragePooling2D layer\n",
    "- Dropout(0.5)\n",
    "- Dense layer with 3 neurons and activation softmax"
   ]
  },
  {
   "cell_type": "code",
   "execution_count": null,
   "id": "Vwky27a5WYsJ",
   "metadata": {
    "executionInfo": {
     "elapsed": 145,
     "status": "ok",
     "timestamp": 1716952971566,
     "user": {
      "displayName": "Fabien Marpeau",
      "userId": "15210978490258687001"
     },
     "user_tz": 300
    },
    "id": "Vwky27a5WYsJ"
   },
   "outputs": [],
   "source": [
    "# Base model\n",
    "base_model = # CODE HERE: load ResNet50 with include_top=False"
   ]
  },
  {
   "cell_type": "code",
   "execution_count": null,
   "id": "iCTQ9_-IwQgk",
   "metadata": {
    "executionInfo": {
     "elapsed": 168,
     "status": "ok",
     "timestamp": 1716952975871,
     "user": {
      "displayName": "Fabien Marpeau",
      "userId": "15210978490258687001"
     },
     "user_tz": 300
    },
    "id": "iCTQ9_-IwQgk"
   },
   "outputs": [],
   "source": [
    "base_model.summary()"
   ]
  },
  {
   "cell_type": "code",
   "execution_count": null,
   "id": "N7hGsGbuwHbY",
   "metadata": {
    "id": "N7hGsGbuwHbY"
   },
   "outputs": [],
   "source": [
    "resnet_model = #CODE HERE"
   ]
  },
  {
   "cell_type": "code",
   "execution_count": null,
   "id": "VmH5jPvRwhDR",
   "metadata": {
    "executionInfo": {
     "elapsed": 134,
     "status": "ok",
     "timestamp": 1716953030846,
     "user": {
      "displayName": "Fabien Marpeau",
      "userId": "15210978490258687001"
     },
     "user_tz": 300
    },
    "id": "VmH5jPvRwhDR"
   },
   "outputs": [],
   "source": [
    "resnet_model.summary()"
   ]
  },
  {
   "cell_type": "markdown",
   "id": "M4fUQaj3WYzw",
   "metadata": {
    "id": "M4fUQaj3WYzw"
   },
   "source": [
    "__5. Compile the model with adam optimizer, categorical_crossentropy loss\n",
    "and with metrics accuracy.__"
   ]
  },
  {
   "cell_type": "code",
   "execution_count": null,
   "id": "qKjSjKwUwgO0",
   "metadata": {
    "executionInfo": {
     "elapsed": 130,
     "status": "ok",
     "timestamp": 1716953038432,
     "user": {
      "displayName": "Fabien Marpeau",
      "userId": "15210978490258687001"
     },
     "user_tz": 300
    },
    "id": "qKjSjKwUwgO0"
   },
   "outputs": [],
   "source": [
    "resnet_model.compile(\n",
    "    optimizer=\"Adam\",\n",
    "    loss='categorical_crossentropy',\n",
    "    metrics=[\"accuracy\"]\n",
    ")"
   ]
  },
  {
   "cell_type": "markdown",
   "id": "trhqNjv2WaqT",
   "metadata": {
    "id": "trhqNjv2WaqT"
   },
   "source": [
    "__6. Train the model for 25 epochs with callbacks Reduce Learning Rate on\n",
    "Plateau and early stopping while monitoring validation loss.__"
   ]
  },
  {
   "cell_type": "code",
   "execution_count": null,
   "id": "xBmQr0lfWcO0",
   "metadata": {
    "executionInfo": {
     "elapsed": 121,
     "status": "ok",
     "timestamp": 1716953044201,
     "user": {
      "displayName": "Fabien Marpeau",
      "userId": "15210978490258687001"
     },
     "user_tz": 300
    },
    "id": "xBmQr0lfWcO0"
   },
   "outputs": [],
   "source": [
    "history = resnet_model.fit(\n",
    "    X_train,y_train,\n",
    "    validation_data=(X_test,y_test),\n",
    "    epochs=6,\n",
    "    callbacks = [learning_rate_reduction,early_stopping])"
   ]
  },
  {
   "cell_type": "markdown",
   "id": "VW7ITcKqWcWp",
   "metadata": {
    "id": "VW7ITcKqWcWp"
   },
   "source": [
    "__7. Plot training and validation accuracy and loss against epochs.__"
   ]
  },
  {
   "cell_type": "code",
   "execution_count": null,
   "id": "PGDPa2YwWd6a",
   "metadata": {
    "executionInfo": {
     "elapsed": 170,
     "status": "ok",
     "timestamp": 1716953049137,
     "user": {
      "displayName": "Fabien Marpeau",
      "userId": "15210978490258687001"
     },
     "user_tz": 300
    },
    "id": "PGDPa2YwWd6a"
   },
   "outputs": [],
   "source": [
    "plot_history(history)"
   ]
  },
  {
   "cell_type": "markdown",
   "id": "F2Zh_9UD0W16",
   "metadata": {
    "id": "F2Zh_9UD0W16"
   },
   "source": [
    "## Observations:\n",
    "With this less number of epochs,\n",
    "- Train loss decreases continuously\n",
    "- Training accuracy increases smoothly.\n",
    "- Validation loss shows a general trend of decreasing\n",
    "- Validation accuracy shows a general trend of increasing"
   ]
  },
  {
   "cell_type": "markdown",
   "id": "Mv6Ph6tIWeDA",
   "metadata": {
    "id": "Mv6Ph6tIWeDA"
   },
   "source": [
    "## Task C:"
   ]
  },
  {
   "cell_type": "markdown",
   "id": "3TPP1tHOWhgS",
   "metadata": {
    "id": "3TPP1tHOWhgS"
   },
   "source": [
    "__1. Compare EfficientNetB0 and ResNet50 model performance and find the\n",
    "best model__"
   ]
  },
  {
   "cell_type": "code",
   "execution_count": 1,
   "id": "ajtAYe17WjId",
   "metadata": {
    "executionInfo": {
     "elapsed": 2,
     "status": "ok",
     "timestamp": 1716953094351,
     "user": {
      "displayName": "Fabien Marpeau",
      "userId": "15210978490258687001"
     },
     "user_tz": 300
    },
    "id": "ajtAYe17WjId"
   },
   "outputs": [],
   "source": [
    "test_loss, test_accuracy = # CODE HERE: evaluate test set for the Efficientnet model\n",
    "print(f\"EfficientNetB0 Model Performance\")\n",
    "print(f\"Test Loss: {test_loss}\")\n",
    "print(f\"Test Accuracy: {test_accuracy}\")"
   ]
  },
  {
   "cell_type": "code",
   "execution_count": 1,
   "id": "kal_4BE9xXgX",
   "metadata": {
    "executionInfo": {
     "elapsed": 135,
     "status": "ok",
     "timestamp": 1716953099417,
     "user": {
      "displayName": "Fabien Marpeau",
      "userId": "15210978490258687001"
     },
     "user_tz": 300
    },
    "id": "kal_4BE9xXgX"
   },
   "outputs": [],
   "source": [
    "test_loss, test_accuracy = # CODE HERE: evaluate test set for the resnet model\n",
    "print(f\"EfficientNetB0 Model Performance\")\n",
    "print(f\"Test Loss: {test_loss}\")\n",
    "print(f\"Test Accuracy: {test_accuracy}\")"
   ]
  },
  {
   "cell_type": "markdown",
   "id": "bLlBShRk0fN9",
   "metadata": {
    "id": "bLlBShRk0fN9"
   },
   "source": [
    "## Observations:\n",
    "- The accuracy level of EfficientNet is higher than Resnet50\n",
    "- The training time of EfficientNet is lesser than Resnet50\n",
    "- This is because the EfficientNet architecture is smaller than ResNet\n",
    "- The prediction time of EfficientNet is also lesser than Resnet50\n",
    "- Because of the EfficientNet model's wider layers architecture helped in achieving this"
   ]
  },
  {
   "cell_type": "markdown",
   "id": "yer1vBUoWjQI",
   "metadata": {
    "id": "yer1vBUoWjQI"
   },
   "source": [
    "__2. Using the best model predict on the test dataset and plot 10 images\n",
    "from the test set along with its True Label and Predicted Label.__"
   ]
  },
  {
   "cell_type": "markdown",
   "id": "3Ff4KIXt06Bb",
   "metadata": {
    "id": "3Ff4KIXt06Bb"
   },
   "source": [
    "## The best Model is EfficientNet, we will check recall, precision and f1-score values"
   ]
  },
  {
   "cell_type": "code",
   "execution_count": 1,
   "id": "b-awgXzY09jH",
   "metadata": {
    "executionInfo": {
     "elapsed": 135,
     "status": "ok",
     "timestamp": 1716953110700,
     "user": {
      "displayName": "Fabien Marpeau",
      "userId": "15210978490258687001"
     },
     "user_tz": 300
    },
    "id": "b-awgXzY09jH"
   },
   "outputs": [],
   "source": [
    "from sklearn.metrics import classification_report\n",
    "print(classification_report(y_test.argmax(axis = 1),efficientnet_model.predict(X_test).argmax(axis = 1)))"
   ]
  },
  {
   "cell_type": "markdown",
   "id": "KuGybkov1OsZ",
   "metadata": {
    "id": "KuGybkov1OsZ"
   },
   "source": [
    "## Observations:\n",
    "__The classification report of EfficientNet says that:__\n",
    "- Misclassifications is all the classes are very less\n",
    "- mask_weared_incorrect class has got an F1 score of 0.99\n",
    "- with_mask class has got an F1 score of 0.99\n",
    "- without_mask class has got an F1 score of 1\n",
    "\n",
    "__There are chances that model get confused with mask_weared_incorrect\n",
    "and with_mask classes__"
   ]
  },
  {
   "cell_type": "code",
   "execution_count": null,
   "id": "2vylNgnD1orN",
   "metadata": {
    "id": "2vylNgnD1orN"
   },
   "outputs": [],
   "source": [
    "import os\n",
    "from shutil import copyfile\n",
    "os.mkdir(\"./val_data 11\")\n",
    "os.mkdir(\"./val_data/with_mask\")\n",
    "os.mkdir(\"./val_data/mask_weared_incorrect\")\n",
    "os.mkdir(\"./val_data/without_mask\")"
   ]
  },
  {
   "cell_type": "code",
   "execution_count": null,
   "id": "XsLM2ZWH1ouG",
   "metadata": {
    "id": "XsLM2ZWH1ouG"
   },
   "outputs": [],
   "source": [
    "paths = []\n",
    "names = []\n",
    "k = 0\n",
    "path = \"./face_mask_detection_dataset/test/mask_weared_incorrect\"\n",
    "for i in os.listdir(path):\n",
    "  paths.append(path + \"/\" + i)\n",
    "  names.append(\"mask_weared_incorrect\")\n",
    "  copyfile(path + \"/\" + i, f\"val_data/mask_weared_incorrect/{i}\")\n",
    "  k += 1\n",
    "  if k == 8 :\n",
    "    break"
   ]
  },
  {
   "cell_type": "code",
   "execution_count": null,
   "id": "KQBeg-Hg1ow0",
   "metadata": {
    "id": "KQBeg-Hg1ow0"
   },
   "outputs": [],
   "source": [
    "k = 0\n",
    "path = \"./face_mask_detection_dataset/test/with_mask\"\n",
    "for i in os.listdir(path):\n",
    "  paths.append(path + \"/\" + i)\n",
    "  names.append(\"with_mask\")\n",
    "  copyfile(path + \"/\" + i, f\"val_data/with_mask/{i}\")\n",
    "  k += 1\n",
    "  if k == 8 :\n",
    "    break\n",
    "\n",
    "path = \"./face_mask_detection_dataset/test/without_mask\""
   ]
  },
  {
   "cell_type": "code",
   "execution_count": null,
   "id": "zWDUxzJ51ozl",
   "metadata": {
    "id": "zWDUxzJ51ozl"
   },
   "outputs": [],
   "source": [
    "k = 0\n",
    "for i in os.listdir(path):\n",
    "  paths.append ( path + \"/\" + i)\n",
    "  names.append(\"without_mask\")\n",
    "  copyfile(path + \"/\" + i, f\"val_data/without_mask/{i}\")\n",
    "  k += 1\n",
    "  if k == 9 :\n",
    "    break"
   ]
  },
  {
   "cell_type": "code",
   "execution_count": null,
   "id": "TUDVqFDZ1o2W",
   "metadata": {
    "id": "TUDVqFDZ1o2W"
   },
   "outputs": [],
   "source": [
    "test_data_2 = test_data_generator.flow_from_directory(\"./val_data\",target_size = (128,128), batch_size = 1,shuffle=False)"
   ]
  },
  {
   "cell_type": "code",
   "execution_count": null,
   "id": "k4ITTK1G3Lsy",
   "metadata": {
    "id": "k4ITTK1G3Lsy"
   },
   "outputs": [],
   "source": [
    "print (labels)\n",
    "labels_2 = {}\n",
    "for k,v in labels.items():\n",
    "  labels_2[v] = k\n",
    "\n",
    "labels_2"
   ]
  },
  {
   "cell_type": "code",
   "execution_count": null,
   "id": "3WZn7b0x3TBy",
   "metadata": {
    "id": "3WZn7b0x3TBy"
   },
   "outputs": [],
   "source": [
    "predictions = efficientnet_model.predict(test_data_2).argmax(axis = 1)\n",
    "pred_label = []\n",
    "for i in predictions:\n",
    "  pred_label.append(labels_2[i])\n",
    "\n",
    "pred_label"
   ]
  },
  {
   "cell_type": "code",
   "execution_count": null,
   "id": "2Cpzvg-F3TER",
   "metadata": {
    "id": "2Cpzvg-F3TER"
   },
   "outputs": [],
   "source": [
    "import os\n",
    "fig,axes = plt.subplots(nrows=5,ncols=5,figsize=(20,20),subplot_kw={'xticks':[],'yticks':[]})\n",
    "\n",
    "for i, ax in enumerate (axes.flat):\n",
    "  ax.imshow(plt. imread (pat hs[i]))\n",
    "  ax.set_title (f\"PREDICTION: {pred_label[i]}\")\n",
    "  ax.set_xlabel (f\"DATA : {names [i]} \" )\n",
    "\n",
    "#plt.tight_Layout()\n",
    "plt. show()"
   ]
  },
  {
   "cell_type": "markdown",
   "id": "k5Cbf5_53hCz",
   "metadata": {
    "id": "k5Cbf5_53hCz"
   },
   "source": [
    "## Observations:<br>\n",
    "The plot shows that EfficientNet is able to correctly identify people with masks,\n",
    "without mask and with masks worn incorrectly."
   ]
  },
  {
   "cell_type": "markdown",
   "id": "Bfg7n_TO372T",
   "metadata": {
    "id": "Bfg7n_TO372T"
   },
   "source": [
    "# __Conclusion__\n",
    "- EfficientNet outperformed Resnet Model in classifying people wearing mask or not\n",
    "- EfficientNet gave an accuracy of 99%\n",
    "- There are chances that models get confused with mask_weared_incorrect and\n",
    "with_mask classes. This is even possible with humans as this is very subjective\n",
    "- Though model is trained very less of epochs, this experiment proves the power of\n",
    "Transfer Learning\n",
    "- Because these models already know the features of a person, they are able to do\n",
    "the job for this use case too\n",
    "- Any image classification task, Transfer learning could be a good starting point\n",
    "- EfficientNet, a lightweight convolutional neural network architecture achieving the\n",
    "state-of-the-art accuracy with an order of magnitude fewer parameters, on both\n",
    "ImageNet and five other commonly used transfer learning datasets.\n",
    "- ResNet-50 model is a convolutional neural network (CNN) that is 50 layers deep. A\n",
    "Residual Neural Network (ResNet) stacks residual blocks on top of each other to\n",
    "form a network.\n",
    "- EfficientNet is the latest architecture than ResNet"
   ]
  }
 ],
 "metadata": {
  "colab": {
   "provenance": []
  },
  "kernelspec": {
   "display_name": ".venv",
   "language": "python",
   "name": "python3"
  },
  "language_info": {
   "codemirror_mode": {
    "name": "ipython",
    "version": 3
   },
   "file_extension": ".py",
   "mimetype": "text/x-python",
   "name": "python",
   "nbconvert_exporter": "python",
   "pygments_lexer": "ipython3",
   "version": "3.12.11"
  }
 },
 "nbformat": 4,
 "nbformat_minor": 5
}
