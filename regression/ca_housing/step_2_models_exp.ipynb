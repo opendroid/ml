{
 "cells": [
  {
   "cell_type": "markdown",
   "metadata": {},
   "source": [
    "# Try various models\n",
    "This exercise:\n",
    "1. Prepares the data for the models\n",
    "2. Run various models and error estimators"
   ]
  },
  {
   "cell_type": "markdown",
   "metadata": {},
   "source": [
    "## Prepare data for models\n",
    "\n",
    "Undering the data in step 1, look at various X_train, X_test samples to create to test models.\n",
    "We shall look at random and startified train/test samples.\n",
    "\n",
    "Here are the step we will perform:\n",
    "\n",
    "1. Create a numeris pipeline that\n",
    "    - Imputes the numerical columns with median strategy for numerical columns \n",
    "    - Adds three more columns (add custom transformer):\n",
    "        - rooms_per_household = total_rooms / households\n",
    "        - population_per_household = population / households\n",
    "        - bedrooms_per_room = total_bedrooms / total_rooms\n",
    "    - Scales all numerical columns\n",
    "2. Perform One Hot Encoding on ocean_proximity \n",
    "3. Drop ocean_proximity from training and labels\n",
    "4. Perform startification on \"income_cat\""
   ]
  },
  {
   "cell_type": "code",
   "execution_count": 1,
   "metadata": {},
   "outputs": [],
   "source": [
    "# Set logging first\n",
    "import logging\n",
    "\n",
    "# Configure logging for the notebook\n",
    "logging.basicConfig(\n",
    "    level=logging.WARNING,\n",
    "    format='%(asctime)s - %(name)s - %(levelname)s - %(message)s',\n",
    "    datefmt='%Y-%m-%d %H:%M:%S'\n",
    ")\n",
    "\n",
    "# Optionally, add console handler explicitly (if basicConfig isn't enough)\n",
    "console = logging.StreamHandler()\n",
    "console.setLevel(logging.WARNING)\n",
    "formatter = logging.Formatter(\n",
    "    '%(asctime)s - %(name)s - %(levelname)s - %(message)s')\n",
    "console.setFormatter(formatter)\n",
    "logging.getLogger('').addHandler(console)"
   ]
  },
  {
   "cell_type": "code",
   "execution_count": 2,
   "metadata": {},
   "outputs": [],
   "source": [
    "import pandas as p\n",
    "import numpy as np\n",
    "from sklearn.pipeline import Pipeline # Pipeline\n",
    "from sklearn.model_selection import StratifiedShuffleSplit # Stratified split\n",
    "from ca_housing_data import CAHousingData"
   ]
  },
  {
   "cell_type": "code",
   "execution_count": 3,
   "metadata": {},
   "outputs": [
    {
     "data": {
      "text/html": [
       "<div>\n",
       "<style scoped>\n",
       "    .dataframe tbody tr th:only-of-type {\n",
       "        vertical-align: middle;\n",
       "    }\n",
       "\n",
       "    .dataframe tbody tr th {\n",
       "        vertical-align: top;\n",
       "    }\n",
       "\n",
       "    .dataframe thead th {\n",
       "        text-align: right;\n",
       "    }\n",
       "</style>\n",
       "<table border=\"1\" class=\"dataframe\">\n",
       "  <thead>\n",
       "    <tr style=\"text-align: right;\">\n",
       "      <th></th>\n",
       "      <th>longitude</th>\n",
       "      <th>latitude</th>\n",
       "      <th>housing_median_age</th>\n",
       "      <th>total_rooms</th>\n",
       "      <th>total_bedrooms</th>\n",
       "      <th>population</th>\n",
       "      <th>households</th>\n",
       "      <th>median_income</th>\n",
       "      <th>median_house_value</th>\n",
       "      <th>ocean_proximity</th>\n",
       "    </tr>\n",
       "  </thead>\n",
       "  <tbody>\n",
       "    <tr>\n",
       "      <th>0</th>\n",
       "      <td>-122.23</td>\n",
       "      <td>37.88</td>\n",
       "      <td>41.0</td>\n",
       "      <td>880.0</td>\n",
       "      <td>129.0</td>\n",
       "      <td>322.0</td>\n",
       "      <td>126.0</td>\n",
       "      <td>8.3252</td>\n",
       "      <td>452600.0</td>\n",
       "      <td>NEAR BAY</td>\n",
       "    </tr>\n",
       "    <tr>\n",
       "      <th>1</th>\n",
       "      <td>-122.22</td>\n",
       "      <td>37.86</td>\n",
       "      <td>21.0</td>\n",
       "      <td>7099.0</td>\n",
       "      <td>1106.0</td>\n",
       "      <td>2401.0</td>\n",
       "      <td>1138.0</td>\n",
       "      <td>8.3014</td>\n",
       "      <td>358500.0</td>\n",
       "      <td>NEAR BAY</td>\n",
       "    </tr>\n",
       "  </tbody>\n",
       "</table>\n",
       "</div>"
      ],
      "text/plain": [
       "   longitude  latitude  housing_median_age  total_rooms  total_bedrooms  \\\n",
       "0    -122.23     37.88                41.0        880.0           129.0   \n",
       "1    -122.22     37.86                21.0       7099.0          1106.0   \n",
       "\n",
       "   population  households  median_income  median_house_value ocean_proximity  \n",
       "0       322.0       126.0         8.3252            452600.0        NEAR BAY  \n",
       "1      2401.0      1138.0         8.3014            358500.0        NEAR BAY  "
      ]
     },
     "execution_count": 3,
     "metadata": {},
     "output_type": "execute_result"
    }
   ],
   "source": [
    "# Read saved data\n",
    "housing_data = CAHousingData()\n",
    "df = housing_data.all()\n",
    "df.head(2)"
   ]
  },
  {
   "cell_type": "code",
   "execution_count": 4,
   "metadata": {},
   "outputs": [],
   "source": [
    "# We will use \"income_cat\" for stratified split\n",
    "income_category = housing_data.income_categories()\n",
    "housing_labels = housing_data.labels()\n",
    "housing_features = housing_data.features()\n",
    "# These are the columns we will use for the numerical pipeline\n",
    "# The order of columns in Numpy and DataFrame is same\n",
    "numerical_cols = housing_data.numerical_features()\n",
    "categorical_col = housing_data.categorical_features()\n",
    "ocean_categories = housing_data.ocean_categories()"
   ]
  },
  {
   "cell_type": "code",
   "execution_count": 5,
   "metadata": {},
   "outputs": [
    {
     "data": {
      "text/html": [
       "<div>\n",
       "<style scoped>\n",
       "    .dataframe tbody tr th:only-of-type {\n",
       "        vertical-align: middle;\n",
       "    }\n",
       "\n",
       "    .dataframe tbody tr th {\n",
       "        vertical-align: top;\n",
       "    }\n",
       "\n",
       "    .dataframe thead th {\n",
       "        text-align: right;\n",
       "    }\n",
       "</style>\n",
       "<table border=\"1\" class=\"dataframe\">\n",
       "  <thead>\n",
       "    <tr style=\"text-align: right;\">\n",
       "      <th></th>\n",
       "      <th>longitude</th>\n",
       "      <th>latitude</th>\n",
       "      <th>housing_median_age</th>\n",
       "      <th>total_rooms</th>\n",
       "      <th>total_bedrooms</th>\n",
       "      <th>population</th>\n",
       "      <th>households</th>\n",
       "      <th>median_income</th>\n",
       "      <th>ocean_proximity</th>\n",
       "    </tr>\n",
       "  </thead>\n",
       "  <tbody>\n",
       "    <tr>\n",
       "      <th>0</th>\n",
       "      <td>-122.23</td>\n",
       "      <td>37.88</td>\n",
       "      <td>41.0</td>\n",
       "      <td>880.0</td>\n",
       "      <td>129.0</td>\n",
       "      <td>322.0</td>\n",
       "      <td>126.0</td>\n",
       "      <td>8.3252</td>\n",
       "      <td>NEAR BAY</td>\n",
       "    </tr>\n",
       "    <tr>\n",
       "      <th>1</th>\n",
       "      <td>-122.22</td>\n",
       "      <td>37.86</td>\n",
       "      <td>21.0</td>\n",
       "      <td>7099.0</td>\n",
       "      <td>1106.0</td>\n",
       "      <td>2401.0</td>\n",
       "      <td>1138.0</td>\n",
       "      <td>8.3014</td>\n",
       "      <td>NEAR BAY</td>\n",
       "    </tr>\n",
       "  </tbody>\n",
       "</table>\n",
       "</div>"
      ],
      "text/plain": [
       "   longitude  latitude  housing_median_age  total_rooms  total_bedrooms  \\\n",
       "0    -122.23     37.88                41.0        880.0           129.0   \n",
       "1    -122.22     37.86                21.0       7099.0          1106.0   \n",
       "\n",
       "   population  households  median_income ocean_proximity  \n",
       "0       322.0       126.0         8.3252        NEAR BAY  \n",
       "1      2401.0      1138.0         8.3014        NEAR BAY  "
      ]
     },
     "execution_count": 5,
     "metadata": {},
     "output_type": "execute_result"
    }
   ],
   "source": [
    "housing_features.head(2)"
   ]
  },
  {
   "cell_type": "code",
   "execution_count": 6,
   "metadata": {},
   "outputs": [
    {
     "data": {
      "text/plain": [
       "0    452600.0\n",
       "1    358500.0\n",
       "Name: median_house_value, dtype: float64"
      ]
     },
     "execution_count": 6,
     "metadata": {},
     "output_type": "execute_result"
    }
   ],
   "source": [
    "housing_labels[:2]"
   ]
  },
  {
   "cell_type": "code",
   "execution_count": 7,
   "metadata": {},
   "outputs": [
    {
     "name": "stdout",
     "output_type": "stream",
     "text": [
      "<class 'pandas.core.frame.DataFrame'>\n",
      "RangeIndex: 20640 entries, 0 to 20639\n",
      "Data columns (total 9 columns):\n",
      " #   Column              Non-Null Count  Dtype  \n",
      "---  ------              --------------  -----  \n",
      " 0   longitude           20640 non-null  float64\n",
      " 1   latitude            20640 non-null  float64\n",
      " 2   housing_median_age  20640 non-null  float64\n",
      " 3   total_rooms         20640 non-null  float64\n",
      " 4   total_bedrooms      20433 non-null  float64\n",
      " 5   population          20640 non-null  float64\n",
      " 6   households          20640 non-null  float64\n",
      " 7   median_income       20640 non-null  float64\n",
      " 8   ocean_proximity     20640 non-null  object \n",
      "dtypes: float64(8), object(1)\n",
      "memory usage: 1.4+ MB\n"
     ]
    }
   ],
   "source": [
    "housing_features.info()"
   ]
  },
  {
   "cell_type": "code",
   "execution_count": 8,
   "metadata": {},
   "outputs": [
    {
     "data": {
      "text/plain": [
       "['NEAR BAY', '<1H OCEAN', 'INLAND', 'NEAR OCEAN', 'ISLAND']"
      ]
     },
     "execution_count": 8,
     "metadata": {},
     "output_type": "execute_result"
    }
   ],
   "source": [
    "ocean_categories"
   ]
  },
  {
   "cell_type": "code",
   "execution_count": 9,
   "metadata": {},
   "outputs": [],
   "source": [
    "from data_transformer import ca_housing_data_transformer\n",
    "\n",
    "# Prepare the data for the models\n",
    "data_prepared = ca_housing_data_transformer(\n",
    "    numerical_cols, categorical_col, ocean_categories)\n",
    "data_prepared = data_prepared.fit_transform(housing_features)"
   ]
  },
  {
   "cell_type": "code",
   "execution_count": 10,
   "metadata": {},
   "outputs": [],
   "source": [
    "# Extract the labels and features from prepared data\n",
    "# The label in data_prepared is the \"label_col\"\n",
    "stratified_split = StratifiedShuffleSplit(n_splits=1, test_size=0.2, random_state=282)\n",
    "\n",
    "# Get the indices of the training and test sets and split the data\n",
    "for train_index, test_index in stratified_split.split(X=data_prepared,\n",
    "                                                      y=income_category):\n",
    "    X_train = data_prepared[train_index]\n",
    "    y_train = housing_labels[train_index]\n",
    "    X_test = data_prepared[test_index]\n",
    "    y_test = housing_labels[test_index]"
   ]
  },
  {
   "cell_type": "code",
   "execution_count": 11,
   "metadata": {},
   "outputs": [
    {
     "name": "stdout",
     "output_type": "stream",
     "text": [
      "X_train.shape: (16512, 16), X_test.shape: (4128, 16)\n",
      "y_train.shape: (16512,), y_test.shape: (4128,)\n",
      "data_prepared.shape: (20640, 16)\n"
     ]
    }
   ],
   "source": [
    "# Print shapes of X_train, X_test, y_train, y_test\n",
    "print(f\"X_train.shape: {X_train.shape}, X_test.shape: {X_test.shape}\")\n",
    "print(f\"y_train.shape: {y_train.shape}, y_test.shape: {y_test.shape}\")\n",
    "print(f\"data_prepared.shape: {data_prepared.shape}\")"
   ]
  },
  {
   "cell_type": "markdown",
   "metadata": {},
   "source": [
    "__Remark__ At this point we have a X_train, X_test, y_train, y_test for following data:\n",
    "1. Three new per household columns added: rooms, bedrooms, popolation\n",
    "2. ocean_proximity was encoded using OHE, added 5 more columns\n",
    "3. X_train and X_test were stratifi-cally sampled.\n",
    "\n",
    "What's still remaining is _clipped_ median house value and age.\n",
    " \n",
    " __Imoprtant SKLearn Points:__\n",
    "\n",
    "1. ColumnTransformer rows are independent. They can not depend on each other. At the end output of each step is concatenated. \n",
    "2. The pipeline rows on other hand are exceuted sequenctially. Output of `step-n` is fed to input of `step-n+1`\n",
    "3. In our pipline:\n",
    "    - SimpleImputer:\n",
    "        - Takes in raw numeric data (with possible NaNs)\n",
    "        - Replaces missing values with the median\n",
    "        - Outputs a NumPy array of the same shape\n",
    "    - PerHouseholdFeaturesAdder (custom transformer):\n",
    "        - Takes in the imputed NumPy array\n",
    "        - Adds new columns: e.g., rooms_per_household, etc.\n",
    "        - Outputs an array with more columns\n",
    "    - StandardScaler:\n",
    "        - Receives the expanded feature matrix\n",
    "        - Scales each feature to have zero mean and unit variance\n",
    "        - Outputs a fully scaled matrix (including output labels)\n",
    "4. Stratified sampling needs a reference strat point. In this case it was income category.\n"
   ]
  },
  {
   "cell_type": "markdown",
   "metadata": {},
   "source": [
    "## Models\n",
    "\n",
    "First let us train model on all the data (not just train/test). We will see how LinearRegression and DecisionTreeRegressor will work."
   ]
  },
  {
   "cell_type": "code",
   "execution_count": 12,
   "metadata": {},
   "outputs": [],
   "source": [
    "# Import all the models\n",
    "from sklearn.linear_model import LinearRegression, Lasso, Ridge\n",
    "from sklearn.tree import DecisionTreeRegressor\n",
    "from sklearn.ensemble import RandomForestRegressor\n",
    "from sklearn.model_selection import cross_val_score, KFold\n",
    "from sklearn.metrics import mean_squared_error, r2_score"
   ]
  },
  {
   "cell_type": "code",
   "execution_count": 13,
   "metadata": {},
   "outputs": [],
   "source": [
    "def print_parameters(model, model_name):\n",
    "    # Print the parameters of the model\n",
    "    parameters = model.get_params()\n",
    "    print(f\"{model_name} parameters:\")\n",
    "    for key, value in parameters.items():\n",
    "        print(f\"  {key}: {value}\")"
   ]
  },
  {
   "cell_type": "code",
   "execution_count": 14,
   "metadata": {},
   "outputs": [],
   "source": [
    "# Save results in a dictionary\n",
    "prediction_results = []\n",
    "cv_scores = []\n",
    "kfold = KFold(n_splits=10, shuffle=True, random_state=282)"
   ]
  },
  {
   "cell_type": "code",
   "execution_count": 15,
   "metadata": {},
   "outputs": [],
   "source": [
    "def print_and_save_prediction_errors(y_test, y_pred, model_name):\n",
    "    # Print the errors of the model\n",
    "    mse = mean_squared_error(y_test, y_pred)\n",
    "    rmse = np.sqrt(mse)\n",
    "    r2 = r2_score(y_test, y_pred)\n",
    "    print(f\"{model_name} MSE: {mse:,.2f}, RMSE: $ {rmse:,.2f}, R2 score: {r2:,.4f}\")\n",
    "    prediction_results.append({\"model_name\": model_name, \"rmse\": rmse, \"r2\": r2, \"mse\": mse})"
   ]
  },
  {
   "cell_type": "code",
   "execution_count": 16,
   "metadata": {},
   "outputs": [],
   "source": [
    "def print_and_save_cv_scores(scores, model_name):\n",
    "    # Print the scores of the model\n",
    "    rmse_scores = np.sqrt(-scores)\n",
    "\n",
    "    print(f\"{model_name}:\")\n",
    "    mean, std = rmse_scores.mean(), rmse_scores.std()\n",
    "    print(f\"  Scores: {rmse_scores.round(2)}\")\n",
    "    print(f\"  Mean: $ {mean:,.2f}\", end=\" \")\n",
    "    print(f\"  Std Dev: $ {std:,.2f}\")\n",
    "    cv_scores.append({\"model_name\": model_name, \"mean\": mean, \"std\": std})"
   ]
  },
  {
   "cell_type": "markdown",
   "metadata": {},
   "source": [
    "## Linear Regression\n",
    "\n",
    "Run LinearRegression on all the data. And see the errors."
   ]
  },
  {
   "cell_type": "code",
   "execution_count": 17,
   "metadata": {},
   "outputs": [
    {
     "name": "stdout",
     "output_type": "stream",
     "text": [
      "lin_reg.coef_: [-55320.72 -56255.15  13364.74  -1882.43   7465.25 -46331.97  45752.37\n",
      "  74791.32   6372.1     863.34   9613.22 -27120.68 -23233.93 -60499.22\n",
      " -18806.89 129660.72]\n",
      "lin_reg.intercept_: 241741.59\n",
      "lin_reg.n_features_in_: 16\n",
      "LinearRegression parameters:\n",
      "  copy_X: True\n",
      "  fit_intercept: True\n",
      "  n_jobs: None\n",
      "  positive: False\n"
     ]
    }
   ],
   "source": [
    "# Train on all the data\n",
    "lin_reg = LinearRegression().fit(data_prepared, housing_labels)\n",
    "print(f\"lin_reg.coef_: {lin_reg.coef_.round(2)}\")\n",
    "print(f\"lin_reg.intercept_: {lin_reg.intercept_.round(2)}\")\n",
    "print(f\"lin_reg.n_features_in_: {lin_reg.n_features_in_}\")\n",
    "print_parameters(lin_reg, \"LinearRegression\")"
   ]
  },
  {
   "cell_type": "code",
   "execution_count": 18,
   "metadata": {},
   "outputs": [
    {
     "name": "stdout",
     "output_type": "stream",
     "text": [
      "LinearRegression (All Data) MSE: 4,518,787,119.35, RMSE: $ 67,221.92, R2 score: 0.6435\n"
     ]
    }
   ],
   "source": [
    "# Test the model on all the data\n",
    "y_pred = lin_reg.predict(X_test)\n",
    "print_and_save_prediction_errors(y_test, y_pred, \"LinearRegression (All Data)\")"
   ]
  },
  {
   "cell_type": "markdown",
   "metadata": {},
   "source": [
    "## Decision Tree Regression\n",
    "\n",
    "__Remark:__ Our predictions have an average RMSE as $67K. Let us try a `DecisionTreeRegressor`. This is model is very complex and will overfit the data. Note the errors. Train on all the data."
   ]
  },
  {
   "cell_type": "code",
   "execution_count": 19,
   "metadata": {},
   "outputs": [
    {
     "name": "stdout",
     "output_type": "stream",
     "text": [
      "DecisionTreeRegressor parameters:\n",
      "  ccp_alpha: 0.0\n",
      "  criterion: squared_error\n",
      "  max_depth: None\n",
      "  max_features: None\n",
      "  max_leaf_nodes: None\n",
      "  min_impurity_decrease: 0.0\n",
      "  min_samples_leaf: 1\n",
      "  min_samples_split: 2\n",
      "  min_weight_fraction_leaf: 0.0\n",
      "  monotonic_cst: None\n",
      "  random_state: 282\n",
      "  splitter: best\n"
     ]
    }
   ],
   "source": [
    "# Fit the model on all the data\n",
    "tree_reg_model = DecisionTreeRegressor(\n",
    "    random_state=282).fit(data_prepared, housing_labels)\n",
    "print_parameters(tree_reg_model, \"DecisionTreeRegressor\")"
   ]
  },
  {
   "cell_type": "code",
   "execution_count": 20,
   "metadata": {},
   "outputs": [
    {
     "name": "stdout",
     "output_type": "stream",
     "text": [
      "DecisionTreeRegressor (All Data) MSE: 0.00, RMSE: $ 0.00, R2 score: 1.0000\n"
     ]
    }
   ],
   "source": [
    "# Predict on the test set\n",
    "y_pred = tree_reg_model.predict(X_test)\n",
    "print_and_save_prediction_errors(\n",
    "    y_test, y_pred, \"DecisionTreeRegressor (All Data)\")"
   ]
  },
  {
   "cell_type": "markdown",
   "metadata": {},
   "source": [
    "## Lasso Model\n",
    "Run Lasson on all the data."
   ]
  },
  {
   "cell_type": "code",
   "execution_count": 21,
   "metadata": {},
   "outputs": [
    {
     "name": "stdout",
     "output_type": "stream",
     "text": [
      "Lasso parameters:\n",
      "  alpha: 0.1\n",
      "  copy_X: True\n",
      "  fit_intercept: True\n",
      "  max_iter: 100000\n",
      "  positive: False\n",
      "  precompute: False\n",
      "  random_state: 282\n",
      "  selection: cyclic\n",
      "  tol: 0.0001\n",
      "  warm_start: False\n"
     ]
    }
   ],
   "source": [
    "lasso_reg_model = Lasso(alpha=0.1, max_iter=100_000, random_state=282)\n",
    "lasso_reg_model = lasso_reg_model.fit(data_prepared, housing_labels)\n",
    "print_parameters(lasso_reg_model, \"Lasso\")"
   ]
  },
  {
   "cell_type": "code",
   "execution_count": 22,
   "metadata": {},
   "outputs": [
    {
     "name": "stdout",
     "output_type": "stream",
     "text": [
      "Lasso (All Data) MSE: 4,518,787,305.01, RMSE: $ 67,221.93, R2 score: 0.6435\n"
     ]
    }
   ],
   "source": [
    "y_pred = lasso_reg_model.predict(X_test)\n",
    "print_and_save_prediction_errors(y_test, y_pred, \"Lasso (All Data)\")"
   ]
  },
  {
   "cell_type": "markdown",
   "metadata": {},
   "source": [
    "## Ridge Model"
   ]
  },
  {
   "cell_type": "code",
   "execution_count": 23,
   "metadata": {},
   "outputs": [
    {
     "name": "stdout",
     "output_type": "stream",
     "text": [
      "Ridge parameters:\n",
      "  alpha: 0.1\n",
      "  copy_X: True\n",
      "  fit_intercept: True\n",
      "  max_iter: None\n",
      "  positive: False\n",
      "  random_state: None\n",
      "  solver: auto\n",
      "  tol: 0.0001\n"
     ]
    }
   ],
   "source": [
    "# Fit Ridge on all the data\n",
    "ridge_reg_model = Ridge(alpha=0.1).fit(data_prepared, housing_labels)\n",
    "print_parameters(ridge_reg_model, \"Ridge\")"
   ]
  },
  {
   "cell_type": "code",
   "execution_count": 24,
   "metadata": {},
   "outputs": [
    {
     "name": "stdout",
     "output_type": "stream",
     "text": [
      "Ridge (All Data) MSE: 4,518,792,169.70, RMSE: $ 67,221.96, R2 score: 0.6435\n"
     ]
    }
   ],
   "source": [
    "y_pred = ridge_reg_model.predict(X_test)\n",
    "print_and_save_prediction_errors(y_test, y_pred, \"Ridge (All Data)\")"
   ]
  },
  {
   "cell_type": "markdown",
   "metadata": {},
   "source": [
    "## Random Forest RandomForestRegressor\n",
    "\n",
    "Run the Random Forest on all the data."
   ]
  },
  {
   "cell_type": "code",
   "execution_count": 25,
   "metadata": {},
   "outputs": [
    {
     "name": "stdout",
     "output_type": "stream",
     "text": [
      "RandomForestRegressor parameters:\n",
      "  bootstrap: True\n",
      "  ccp_alpha: 0.0\n",
      "  criterion: squared_error\n",
      "  max_depth: None\n",
      "  max_features: 1.0\n",
      "  max_leaf_nodes: None\n",
      "  max_samples: None\n",
      "  min_impurity_decrease: 0.0\n",
      "  min_samples_leaf: 1\n",
      "  min_samples_split: 2\n",
      "  min_weight_fraction_leaf: 0.0\n",
      "  monotonic_cst: None\n",
      "  n_estimators: 100\n",
      "  n_jobs: None\n",
      "  oob_score: False\n",
      "  random_state: 282\n",
      "  verbose: 0\n",
      "  warm_start: False\n"
     ]
    }
   ],
   "source": [
    "rf_reg_model = RandomForestRegressor(\n",
    "    random_state=282).fit(data_prepared, housing_labels)\n",
    "print_parameters(rf_reg_model, \"RandomForestRegressor\")"
   ]
  },
  {
   "cell_type": "code",
   "execution_count": 26,
   "metadata": {},
   "outputs": [
    {
     "name": "stdout",
     "output_type": "stream",
     "text": [
      "RandomForestRegressor (All Data) MSE: 327,214,542.00, RMSE: $ 18,089.07, R2 score: 0.9742\n"
     ]
    }
   ],
   "source": [
    "# Predict on the test set\n",
    "y_pred = rf_reg_model.predict(X_test)\n",
    "print_and_save_prediction_errors(\n",
    "    y_test, y_pred, \"RandomForestRegressor (All Data)\")"
   ]
  },
  {
   "cell_type": "markdown",
   "metadata": {},
   "source": [
    "## Try all above models with the X_Train"
   ]
  },
  {
   "cell_type": "code",
   "execution_count": 27,
   "metadata": {},
   "outputs": [
    {
     "name": "stdout",
     "output_type": "stream",
     "text": [
      "LinearRegression (Train) MSE: 4,534,933,182.52, RMSE: $ 67,341.91, R2 score: 0.6423\n",
      "DecisionTreeRegressor (Train) MSE: 5,010,326,628.82, RMSE: $ 70,783.66, R2 score: 0.6048\n",
      "Lasso (Train) MSE: 4,534,931,254.53, RMSE: $ 67,341.90, R2 score: 0.6423\n",
      "Ridge (Train) MSE: 4,534,935,149.64, RMSE: $ 67,341.93, R2 score: 0.6423\n",
      "RandomForestRegressor (Train) MSE: 2,437,787,059.41, RMSE: $ 49,373.95, R2 score: 0.8077\n"
     ]
    }
   ],
   "source": [
    "# Train all aboved models on all the Training data and test on test data\n",
    "train_lin_reg = LinearRegression().fit(X_train, y_train)\n",
    "train_decision_tree_reg_model = DecisionTreeRegressor(random_state=282).fit(X_train, y_train)\n",
    "train_lasso_reg_model = Lasso(alpha=0.1, max_iter=100_000, random_state=282)\n",
    "train_lasso_reg_model = train_lasso_reg_model.fit(X_train, y_train)\n",
    "train_ridge_reg_model = Ridge(alpha=0.1).fit(X_train, y_train)\n",
    "train_rf_reg_model = RandomForestRegressor(random_state=282).fit(X_train, y_train)\n",
    "y_pred = train_lin_reg.predict(X_test)\n",
    "print_and_save_prediction_errors(y_test, y_pred, \"LinearRegression (Train)\")\n",
    "y_pred = train_decision_tree_reg_model.predict(X_test)\n",
    "print_and_save_prediction_errors(y_test, y_pred, \"DecisionTreeRegressor (Train)\")\n",
    "y_pred = train_lasso_reg_model.predict(X_test)\n",
    "print_and_save_prediction_errors(y_test, y_pred, \"Lasso (Train)\")\n",
    "y_pred = train_ridge_reg_model.predict(X_test)\n",
    "print_and_save_prediction_errors(y_test, y_pred, \"Ridge (Train)\")\n",
    "y_pred = train_rf_reg_model.predict(X_test)\n",
    "print_and_save_prediction_errors(y_test, y_pred, \"RandomForestRegressor (Train)\")"
   ]
  },
  {
   "cell_type": "markdown",
   "metadata": {},
   "source": [
    "## Linear Regression with KFold=10\n",
    "\n",
    "Try the CSV with the Linear Regression Model. Similar to Decision Regressor, redo sclaing at fold level."
   ]
  },
  {
   "cell_type": "code",
   "execution_count": 28,
   "metadata": {},
   "outputs": [],
   "source": [
    "full_pipeline = ca_housing_data_transformer(\n",
    "    numerical_cols, categorical_col, ocean_categories)"
   ]
  },
  {
   "cell_type": "code",
   "execution_count": 29,
   "metadata": {},
   "outputs": [
    {
     "name": "stdout",
     "output_type": "stream",
     "text": [
      "Linear Regression:\n",
      "  Scores: [67412.25 72405.2  69473.72 67928.43 70615.03 68135.37 65248.21 66927.72\n",
      " 70833.26 66222.36]\n",
      "  Mean: $ 68,520.15   Std Dev: $ 2,144.50\n"
     ]
    }
   ],
   "source": [
    "lr_cv_pipeline = Pipeline([\n",
    "    ('preprocessing', full_pipeline),\n",
    "    ('model', LinearRegression())\n",
    "])\n",
    "scores = cross_val_score(lr_cv_pipeline, df, housing_labels,\n",
    "                         scoring='neg_mean_squared_error', cv=kfold)\n",
    "print_and_save_cv_scores(scores, \"Linear Regression\")"
   ]
  },
  {
   "cell_type": "markdown",
   "metadata": {},
   "source": [
    "## Decision Tree Resgression with KFold = 10\n",
    "__Remark:__ The error on training on training on whole data by DecisionRegression model is ZERO. Clearly model is overfitting. Let us test that by running k-fold test. \n",
    "\n",
    "The scaling parameters above are being computed on the entire dataset. This can lead to inconsistent scaling across folds. We create a new pipeline, rerun it with original data so scaling is done at the fold level."
   ]
  },
  {
   "cell_type": "code",
   "execution_count": 30,
   "metadata": {},
   "outputs": [
    {
     "name": "stdout",
     "output_type": "stream",
     "text": [
      "Decision Tree:\n",
      "  Scores: [71011.64 67096.2  69693.79 68124.9  69224.73 70414.68 70504.01 63205.04\n",
      " 71813.11 68111.53]\n",
      "  Mean: $ 68,919.96   Std Dev: $ 2,354.84\n"
     ]
    }
   ],
   "source": [
    "# Create the complete pipeline including the model,\n",
    "tree_cv_pipeline = Pipeline([\n",
    "    ('preprocessing', full_pipeline),\n",
    "    ('model', DecisionTreeRegressor())\n",
    "])\n",
    "scores = cross_val_score(tree_cv_pipeline, df, housing_labels,\n",
    "                         scoring='neg_mean_squared_error', cv=kfold)\n",
    "print_and_save_cv_scores(scores, \"Decision Tree\")"
   ]
  },
  {
   "cell_type": "markdown",
   "metadata": {},
   "source": [
    "## Lasso Model with KFold=10"
   ]
  },
  {
   "cell_type": "code",
   "execution_count": 31,
   "metadata": {},
   "outputs": [
    {
     "name": "stdout",
     "output_type": "stream",
     "text": [
      "Lasso:\n",
      "  Scores: [67412.23 72404.99 69473.74 67928.42 70614.6  68135.44 65248.66 66927.97\n",
      " 70833.23 66222.01]\n",
      "  Mean: $ 68,520.13   Std Dev: $ 2,144.37\n"
     ]
    }
   ],
   "source": [
    "lasso_cv_pipeline = Pipeline([\n",
    "    ('preprocessing', full_pipeline),\n",
    "    ('model', Lasso(alpha=0.1, max_iter=100_000, random_state=282))\n",
    "])\n",
    "# Apply k-fold cross-validation to the lasso model\n",
    "scores = cross_val_score(lasso_cv_pipeline, df, housing_labels,\n",
    "                         scoring='neg_mean_squared_error', cv=kfold)\n",
    "print_and_save_cv_scores(scores, \"Lasso\")"
   ]
  },
  {
   "cell_type": "markdown",
   "metadata": {},
   "source": [
    "## Ridge Model with KFold=10"
   ]
  },
  {
   "cell_type": "code",
   "execution_count": 32,
   "metadata": {},
   "outputs": [
    {
     "name": "stdout",
     "output_type": "stream",
     "text": [
      "Ridge:\n",
      "  Scores: [67412.27 72404.6  69473.81 67928.36 70611.56 68135.49 65250.82 66929.36\n",
      " 70833.22 66219.95]\n",
      "  Mean: $ 68,519.94   Std Dev: $ 2,143.79\n"
     ]
    }
   ],
   "source": [
    "# Ridge Model with KFold = 10\n",
    "ridge_cv_pipeline = Pipeline([\n",
    "    ('preprocessing', full_pipeline),\n",
    "    ('model', Ridge(alpha=0.1))\n",
    "])\n",
    "# Apply k-fold cross-validation to the ridge model\n",
    "scores = cross_val_score(ridge_cv_pipeline, df, housing_labels,\n",
    "                         scoring='neg_mean_squared_error', cv=kfold)\n",
    "print_and_save_cv_scores(scores, \"Ridge\")"
   ]
  },
  {
   "cell_type": "markdown",
   "metadata": {},
   "source": [
    "## Random Forest with KFold=10"
   ]
  },
  {
   "cell_type": "code",
   "execution_count": 33,
   "metadata": {},
   "outputs": [
    {
     "name": "stdout",
     "output_type": "stream",
     "text": [
      "Random Forest:\n",
      "  Scores: [49811.77 49954.   48951.7  48730.74 48203.56 50185.09 48987.87 47547.37\n",
      " 52497.51 47724.7 ]\n",
      "  Mean: $ 49,259.43   Std Dev: $ 1,377.64\n"
     ]
    }
   ],
   "source": [
    "\n",
    "# Run the Random Forest on all the data.\n",
    "rf_cv_pipeline = Pipeline([\n",
    "    ('preprocessing', full_pipeline),\n",
    "    ('model', RandomForestRegressor())\n",
    "])\n",
    "scores = cross_val_score(rf_cv_pipeline, df, housing_labels,\n",
    "                         scoring='neg_mean_squared_error', cv=kfold)\n",
    "print_and_save_cv_scores(scores, \"Random Forest\")"
   ]
  },
  {
   "cell_type": "markdown",
   "metadata": {},
   "source": [
    "## Compare Results\n",
    "The results of different approaches are:"
   ]
  },
  {
   "cell_type": "code",
   "execution_count": 34,
   "metadata": {},
   "outputs": [
    {
     "name": "stdout",
     "output_type": "stream",
     "text": [
      "Prediction Results:\n",
      "+----------------------------------+-----------+------+------------------+\n",
      "| model_name                       |      rmse |   r2 |              mse |\n",
      "+==================================+===========+======+==================+\n",
      "| DecisionTreeRegressor (All Data) |      0.00 | 1.00 |             0.00 |\n",
      "+----------------------------------+-----------+------+------------------+\n",
      "| DecisionTreeRegressor (Train)    | 70,783.66 | 0.60 | 5,010,326,628.82 |\n",
      "+----------------------------------+-----------+------+------------------+\n",
      "| Lasso (All Data)                 | 67,221.93 | 0.64 | 4,518,787,305.01 |\n",
      "+----------------------------------+-----------+------+------------------+\n",
      "| Lasso (Train)                    | 67,341.90 | 0.64 | 4,534,931,254.53 |\n",
      "+----------------------------------+-----------+------+------------------+\n",
      "| LinearRegression (All Data)      | 67,221.92 | 0.64 | 4,518,787,119.35 |\n",
      "+----------------------------------+-----------+------+------------------+\n",
      "| LinearRegression (Train)         | 67,341.91 | 0.64 | 4,534,933,182.52 |\n",
      "+----------------------------------+-----------+------+------------------+\n",
      "| RandomForestRegressor (All Data) | 18,089.07 | 0.97 |   327,214,542.00 |\n",
      "+----------------------------------+-----------+------+------------------+\n",
      "| RandomForestRegressor (Train)    | 49,373.95 | 0.81 | 2,437,787,059.41 |\n",
      "+----------------------------------+-----------+------+------------------+\n",
      "| Ridge (All Data)                 | 67,221.96 | 0.64 | 4,518,792,169.70 |\n",
      "+----------------------------------+-----------+------+------------------+\n",
      "| Ridge (Train)                    | 67,341.93 | 0.64 | 4,534,935,149.64 |\n",
      "+----------------------------------+-----------+------+------------------+\n"
     ]
    }
   ],
   "source": [
    "from tabulate import tabulate\n",
    "# Print the results\n",
    "print(\"Prediction Results:\")\n",
    "prediction_results_sorted = sorted(prediction_results, key=lambda x: x['model_name'])\n",
    "print(tabulate(prediction_results_sorted,\n",
    "      headers='keys', tablefmt='grid', floatfmt=\",.2f\"))"
   ]
  },
  {
   "cell_type": "code",
   "execution_count": 35,
   "metadata": {},
   "outputs": [
    {
     "name": "stdout",
     "output_type": "stream",
     "text": [
      "\n",
      "CV Scores:\n",
      "+-------------------+-----------+----------+\n",
      "| model_name        |      mean |      std |\n",
      "+===================+===========+==========+\n",
      "| Decision Tree     | 68,919.96 | 2,354.84 |\n",
      "+-------------------+-----------+----------+\n",
      "| Lasso             | 68,520.13 | 2,144.37 |\n",
      "+-------------------+-----------+----------+\n",
      "| Linear Regression | 68,520.15 | 2,144.50 |\n",
      "+-------------------+-----------+----------+\n",
      "| Random Forest     | 49,259.43 | 1,377.64 |\n",
      "+-------------------+-----------+----------+\n",
      "| Ridge             | 68,519.94 | 2,143.79 |\n",
      "+-------------------+-----------+----------+\n"
     ]
    }
   ],
   "source": [
    "print(\"\\nCV Scores:\")\n",
    "cv_scores_sorted = sorted(cv_scores, key=lambda x: x['model_name'])\n",
    "print(tabulate(cv_scores_sorted, headers='keys', tablefmt='grid', floatfmt=\",.2f\"))"
   ]
  }
 ],
 "metadata": {
  "kernelspec": {
   "display_name": ".venv",
   "language": "python",
   "name": "python3"
  },
  "language_info": {
   "codemirror_mode": {
    "name": "ipython",
    "version": 3
   },
   "file_extension": ".py",
   "mimetype": "text/x-python",
   "name": "python",
   "nbconvert_exporter": "python",
   "pygments_lexer": "ipython3",
   "version": "3.12.10"
  }
 },
 "nbformat": 4,
 "nbformat_minor": 2
}
