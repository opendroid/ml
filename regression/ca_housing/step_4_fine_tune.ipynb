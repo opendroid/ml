{
 "cells": [
  {
   "cell_type": "markdown",
   "metadata": {},
   "source": [
    "# Finetune the model\n",
    "\n",
    "We settled on Random Forest Regressor model. Let us fintune the hyper-parameters if it."
   ]
  },
  {
   "cell_type": "code",
   "execution_count": 1,
   "metadata": {},
   "outputs": [],
   "source": [
    "# Read the data\n",
    "import pandas as pd\n",
    "import numpy as np\n",
    "\n",
    "housing_features = pd.read_parquet(\"../../data/housing-geron-processed.parquet\")\n",
    "housing_labels = np.load(\"../../data/median_house_value_labels.npy\")"
   ]
  },
  {
   "cell_type": "code",
   "execution_count": 2,
   "metadata": {},
   "outputs": [],
   "source": [
    "from sklearn.model_selection import GridSearchCV, RandomizedSearchCV\n",
    "from sklearn.ensemble import RandomForestRegressor\n",
    "from scipy.stats import randint\n",
    "from ca_housing_pipeline import create_transformer\n",
    "import pandas as pd\n",
    "\n",
    "# For GridSearchCV\n",
    "param_grid = [\n",
    "    # try 3 x 4 = 12 combinations of hyperparameters\n",
    "    # (3, 2), (3, 4), (3, 6), (3, 8), ...\n",
    "    {'n_estimators': [3, 10, 30], 'max_features': [2, 4, 6, 8]},\n",
    "    # Then try 2 x 3 = 6 combinations with bootstrap set to False\n",
    "    # (3, 2), (3, 3), (3, 4), (10, 2), (10, 3), (10, 4)\n",
    "    {'bootstrap': [False], 'n_estimators': [3, 10], 'max_features': [2, 3, 4]}\n",
    "]\n",
    "\n",
    "# For RandomizedSearchCV\n",
    "param_distribs = {\n",
    "    'n_estimators': randint(low=1, high=200),\n",
    "    'max_features': randint(low=1, high=8),\n",
    "}"
   ]
  },
  {
   "cell_type": "code",
   "execution_count": 3,
   "metadata": {},
   "outputs": [],
   "source": [
    "def print_results(search_results):\n",
    "    \"\"\"Print the results of the search.\"\"\"\n",
    "    print(f\"Best score: {search_results.best_score_:,.2f}\")\n",
    "    print(f\"Best parameters: {search_results.best_params_}\")\n",
    "    print(f\"Best estimator: {search_results.best_estimator_}\")\n",
    "    cv_results = search_results.cv_results_\n",
    "    for mean_score, params in zip(cv_results[\"mean_test_score\"], cv_results[\"params\"]):\n",
    "        print(np.sqrt(-mean_score), params)"
   ]
  },
  {
   "cell_type": "code",
   "execution_count": 4,
   "metadata": {},
   "outputs": [],
   "source": [
    "def print_feature_rank(feature_importances):\n",
    "    \"\"\"Print the feature rank.\"\"\"\n",
    "    feature_rank = sorted(\n",
    "        zip(feature_importances, housing_features.columns), reverse=True)\n",
    "    print(\"Feature rank:\")\n",
    "    for rank, (importance, feature) in enumerate(feature_rank):\n",
    "        print(f\"  {rank + 1:02d}. {feature}: {importance:,.3f}\")"
   ]
  },
  {
   "cell_type": "code",
   "execution_count": 13,
   "metadata": {},
   "outputs": [
    {
     "data": {
      "text/html": [
       "<div>\n",
       "<style scoped>\n",
       "    .dataframe tbody tr th:only-of-type {\n",
       "        vertical-align: middle;\n",
       "    }\n",
       "\n",
       "    .dataframe tbody tr th {\n",
       "        vertical-align: top;\n",
       "    }\n",
       "\n",
       "    .dataframe thead th {\n",
       "        text-align: right;\n",
       "    }\n",
       "</style>\n",
       "<table border=\"1\" class=\"dataframe\">\n",
       "  <thead>\n",
       "    <tr style=\"text-align: right;\">\n",
       "      <th></th>\n",
       "      <th>longitude</th>\n",
       "      <th>latitude</th>\n",
       "      <th>housing_median_age</th>\n",
       "      <th>total_rooms</th>\n",
       "      <th>total_bedrooms</th>\n",
       "      <th>population</th>\n",
       "      <th>households</th>\n",
       "      <th>median_income</th>\n",
       "      <th>median_house_value</th>\n",
       "      <th>ocean_proximity</th>\n",
       "    </tr>\n",
       "  </thead>\n",
       "  <tbody>\n",
       "    <tr>\n",
       "      <th>0</th>\n",
       "      <td>-122.23</td>\n",
       "      <td>37.88</td>\n",
       "      <td>41.0</td>\n",
       "      <td>880.0</td>\n",
       "      <td>129.0</td>\n",
       "      <td>322.0</td>\n",
       "      <td>126.0</td>\n",
       "      <td>8.3252</td>\n",
       "      <td>452600.0</td>\n",
       "      <td>NEAR BAY</td>\n",
       "    </tr>\n",
       "    <tr>\n",
       "      <th>1</th>\n",
       "      <td>-122.22</td>\n",
       "      <td>37.86</td>\n",
       "      <td>21.0</td>\n",
       "      <td>7099.0</td>\n",
       "      <td>1106.0</td>\n",
       "      <td>2401.0</td>\n",
       "      <td>1138.0</td>\n",
       "      <td>8.3014</td>\n",
       "      <td>358500.0</td>\n",
       "      <td>NEAR BAY</td>\n",
       "    </tr>\n",
       "  </tbody>\n",
       "</table>\n",
       "</div>"
      ],
      "text/plain": [
       "   longitude  latitude  housing_median_age  total_rooms  total_bedrooms  \\\n",
       "0    -122.23     37.88                41.0        880.0           129.0   \n",
       "1    -122.22     37.86                21.0       7099.0          1106.0   \n",
       "\n",
       "   population  households  median_income  median_house_value ocean_proximity  \n",
       "0       322.0       126.0         8.3252            452600.0        NEAR BAY  \n",
       "1      2401.0      1138.0         8.3014            358500.0        NEAR BAY  "
      ]
     },
     "execution_count": 13,
     "metadata": {},
     "output_type": "execute_result"
    }
   ],
   "source": [
    "# Read saved data\n",
    "df = pd.read_csv(\"../../data/housing-geron.csv\")\n",
    "df.head(2)"
   ]
  },
  {
   "cell_type": "code",
   "execution_count": null,
   "metadata": {},
   "outputs": [],
   "source": [
    "numerical_cols = df.drop(columns=['ocean_proximity']).columns.tolist()\n",
    "categorical_col = ['ocean_proximity']\n",
    "ocean_categories = df['ocean_proximity'].unique().tolist()\n",
    "output_labels = df[\"median_house_value\"]\n"
   ]
  },
  {
   "cell_type": "code",
   "execution_count": 15,
   "metadata": {},
   "outputs": [
    {
     "data": {
      "text/html": [
       "<div>\n",
       "<style scoped>\n",
       "    .dataframe tbody tr th:only-of-type {\n",
       "        vertical-align: middle;\n",
       "    }\n",
       "\n",
       "    .dataframe tbody tr th {\n",
       "        vertical-align: top;\n",
       "    }\n",
       "\n",
       "    .dataframe thead th {\n",
       "        text-align: right;\n",
       "    }\n",
       "</style>\n",
       "<table border=\"1\" class=\"dataframe\">\n",
       "  <thead>\n",
       "    <tr style=\"text-align: right;\">\n",
       "      <th></th>\n",
       "      <th>longitude</th>\n",
       "      <th>latitude</th>\n",
       "      <th>housing_median_age</th>\n",
       "      <th>total_rooms</th>\n",
       "      <th>total_bedrooms</th>\n",
       "      <th>population</th>\n",
       "      <th>households</th>\n",
       "      <th>median_income</th>\n",
       "      <th>rooms_per_household</th>\n",
       "      <th>population_per_household</th>\n",
       "      <th>bedrooms_per_room</th>\n",
       "      <th>NEAR BAY</th>\n",
       "      <th>&lt;1H OCEAN</th>\n",
       "      <th>INLAND</th>\n",
       "      <th>NEAR OCEAN</th>\n",
       "      <th>ISLAND</th>\n",
       "    </tr>\n",
       "  </thead>\n",
       "  <tbody>\n",
       "    <tr>\n",
       "      <th>0</th>\n",
       "      <td>-1.327835</td>\n",
       "      <td>1.052548</td>\n",
       "      <td>0.982143</td>\n",
       "      <td>-0.804819</td>\n",
       "      <td>-0.972476</td>\n",
       "      <td>-0.974429</td>\n",
       "      <td>-0.977033</td>\n",
       "      <td>2.344766</td>\n",
       "      <td>0.628559</td>\n",
       "      <td>-0.049597</td>\n",
       "      <td>-1.029988</td>\n",
       "      <td>1.0</td>\n",
       "      <td>0.0</td>\n",
       "      <td>0.0</td>\n",
       "      <td>0.0</td>\n",
       "      <td>0.0</td>\n",
       "    </tr>\n",
       "    <tr>\n",
       "      <th>1</th>\n",
       "      <td>-1.322844</td>\n",
       "      <td>1.043185</td>\n",
       "      <td>-0.607019</td>\n",
       "      <td>2.045890</td>\n",
       "      <td>1.357143</td>\n",
       "      <td>0.861439</td>\n",
       "      <td>1.669961</td>\n",
       "      <td>2.332238</td>\n",
       "      <td>0.327041</td>\n",
       "      <td>-0.092512</td>\n",
       "      <td>-0.888897</td>\n",
       "      <td>1.0</td>\n",
       "      <td>0.0</td>\n",
       "      <td>0.0</td>\n",
       "      <td>0.0</td>\n",
       "      <td>0.0</td>\n",
       "    </tr>\n",
       "  </tbody>\n",
       "</table>\n",
       "</div>"
      ],
      "text/plain": [
       "   longitude  latitude  housing_median_age  total_rooms  total_bedrooms  \\\n",
       "0  -1.327835  1.052548            0.982143    -0.804819       -0.972476   \n",
       "1  -1.322844  1.043185           -0.607019     2.045890        1.357143   \n",
       "\n",
       "   population  households  median_income  rooms_per_household  \\\n",
       "0   -0.974429   -0.977033       2.344766             0.628559   \n",
       "1    0.861439    1.669961       2.332238             0.327041   \n",
       "\n",
       "   population_per_household  bedrooms_per_room  NEAR BAY  <1H OCEAN  INLAND  \\\n",
       "0                 -0.049597          -1.029988       1.0        0.0     0.0   \n",
       "1                 -0.092512          -0.888897       1.0        0.0     0.0   \n",
       "\n",
       "   NEAR OCEAN  ISLAND  \n",
       "0         0.0     0.0  \n",
       "1         0.0     0.0  "
      ]
     },
     "execution_count": 15,
     "metadata": {},
     "output_type": "execute_result"
    }
   ],
   "source": [
    "data = pd.read_parquet(\"../../data/housing-geron-processed.parquet\")\n",
    "data.head(2)"
   ]
  },
  {
   "cell_type": "markdown",
   "metadata": {},
   "source": [
    "## Random Forest Grid Search"
   ]
  },
  {
   "cell_type": "code",
   "execution_count": null,
   "metadata": {},
   "outputs": [],
   "source": [
    "full_pipeline = create_transformer()"
   ]
  },
  {
   "cell_type": "code",
   "execution_count": 5,
   "metadata": {},
   "outputs": [],
   "source": [
    "forest_reg_model = RandomForestRegressor(random_state=282)\n",
    "# Run the Random Forest on all the data.\n",
    "rf_cv_pipeline = Pipeline([\n",
    "    ('preprocessing', full_pipeline),\n",
    "    ('model', RandomForestRegressor())\n",
    "])\n",
    "\n",
    ")\n",
    "# 5 folds, for each combination of hyperparameters, 5 x 12 = 60 models\n",
    "grid_search = GridSearchCV(\n",
    "    forest_reg_model, param_grid, cv=5,\n",
    "    scoring=\"neg_mean_squared_error\", return_train_score=True\n",
    ")\n",
    "grid_search = grid_search.fit(housing_features, housing_labels)"
   ]
  },
  {
   "cell_type": "code",
   "execution_count": 6,
   "metadata": {},
   "outputs": [
    {
     "name": "stdout",
     "output_type": "stream",
     "text": [
      "Best score: -4,650,221,700.71\n",
      "Best parameters: {'max_features': 6, 'n_estimators': 30}\n",
      "Best estimator: RandomForestRegressor(max_features=6, n_estimators=30, random_state=282)\n",
      "81594.60307904065 {'max_features': 2, 'n_estimators': 3}\n",
      "72669.71704093461 {'max_features': 2, 'n_estimators': 10}\n",
      "70440.82698055601 {'max_features': 2, 'n_estimators': 30}\n",
      "84191.63776255821 {'max_features': 4, 'n_estimators': 3}\n",
      "72155.19308475297 {'max_features': 4, 'n_estimators': 10}\n",
      "70123.78634884022 {'max_features': 4, 'n_estimators': 30}\n",
      "77614.81704160845 {'max_features': 6, 'n_estimators': 3}\n",
      "71616.64050185456 {'max_features': 6, 'n_estimators': 10}\n",
      "68192.53405403158 {'max_features': 6, 'n_estimators': 30}\n",
      "78149.82646783875 {'max_features': 8, 'n_estimators': 3}\n",
      "70415.53669365369 {'max_features': 8, 'n_estimators': 10}\n",
      "68778.65033802336 {'max_features': 8, 'n_estimators': 30}\n",
      "82449.09102279652 {'bootstrap': False, 'max_features': 2, 'n_estimators': 3}\n",
      "71915.01700679847 {'bootstrap': False, 'max_features': 2, 'n_estimators': 10}\n",
      "77483.84025883378 {'bootstrap': False, 'max_features': 3, 'n_estimators': 3}\n",
      "70481.64092669256 {'bootstrap': False, 'max_features': 3, 'n_estimators': 10}\n",
      "77855.46662437687 {'bootstrap': False, 'max_features': 4, 'n_estimators': 3}\n",
      "71061.71866920366 {'bootstrap': False, 'max_features': 4, 'n_estimators': 10}\n"
     ]
    }
   ],
   "source": [
    "print_results(grid_search)"
   ]
  },
  {
   "cell_type": "code",
   "execution_count": 7,
   "metadata": {},
   "outputs": [
    {
     "name": "stdout",
     "output_type": "stream",
     "text": [
      "Feature rank:\n",
      "  01. median_income: 0.289\n",
      "  02. INLAND: 0.151\n",
      "  03. population_per_household: 0.108\n",
      "  04. bedrooms_per_room: 0.083\n",
      "  05. rooms_per_household: 0.083\n",
      "  06. longitude: 0.079\n",
      "  07. latitude: 0.077\n",
      "  08. housing_median_age: 0.041\n",
      "  09. total_rooms: 0.017\n",
      "  10. population: 0.017\n",
      "  11. total_bedrooms: 0.017\n",
      "  12. households: 0.015\n",
      "  13. <1H OCEAN: 0.010\n",
      "  14. NEAR OCEAN: 0.008\n",
      "  15. NEAR BAY: 0.005\n",
      "  16. ISLAND: 0.000\n"
     ]
    }
   ],
   "source": [
    "print_feature_rank(grid_search.best_estimator_.feature_importances_)"
   ]
  },
  {
   "cell_type": "markdown",
   "metadata": {},
   "source": [
    "## Random Forest Random Search"
   ]
  },
  {
   "cell_type": "code",
   "execution_count": 8,
   "metadata": {},
   "outputs": [],
   "source": [
    "forest_model_2 = RandomForestRegressor(random_state=282)\n",
    "random_search = RandomizedSearchCV(forest_model_2,\n",
    "                                   param_distributions=param_distribs,\n",
    "                                   n_iter=10, cv=5,\n",
    "                                   scoring='neg_mean_squared_error',\n",
    "                                   random_state=282)\n",
    "random_search = random_search.fit(housing_features, housing_labels)"
   ]
  },
  {
   "cell_type": "code",
   "execution_count": 9,
   "metadata": {},
   "outputs": [
    {
     "name": "stdout",
     "output_type": "stream",
     "text": [
      "Best score: -4,580,667,183.15\n",
      "Best parameters: {'max_features': 6, 'n_estimators': 74}\n",
      "Best estimator: RandomForestRegressor(max_features=6, n_estimators=74, random_state=282)\n",
      "68505.33574773646 {'max_features': 2, 'n_estimators': 179}\n",
      "67680.62635017048 {'max_features': 6, 'n_estimators': 74}\n",
      "68236.36325050067 {'max_features': 6, 'n_estimators': 38}\n",
      "70582.21609073247 {'max_features': 1, 'n_estimators': 118}\n",
      "68309.45470238202 {'max_features': 7, 'n_estimators': 81}\n",
      "68056.83108845436 {'max_features': 4, 'n_estimators': 171}\n",
      "68475.65900155467 {'max_features': 2, 'n_estimators': 175}\n",
      "67909.34272356473 {'max_features': 5, 'n_estimators': 85}\n",
      "70585.24316035214 {'max_features': 1, 'n_estimators': 154}\n",
      "67749.7562581322 {'max_features': 5, 'n_estimators': 145}\n"
     ]
    }
   ],
   "source": [
    "print_results(random_search)"
   ]
  },
  {
   "cell_type": "code",
   "execution_count": 10,
   "metadata": {},
   "outputs": [
    {
     "name": "stdout",
     "output_type": "stream",
     "text": [
      "Feature rank:\n",
      "  01. median_income: 0.306\n",
      "  02. INLAND: 0.156\n",
      "  03. population_per_household: 0.108\n",
      "  04. bedrooms_per_room: 0.083\n",
      "  05. longitude: 0.079\n",
      "  06. latitude: 0.074\n",
      "  07. rooms_per_household: 0.067\n",
      "  08. housing_median_age: 0.042\n",
      "  09. total_rooms: 0.017\n",
      "  10. population: 0.017\n",
      "  11. total_bedrooms: 0.016\n",
      "  12. households: 0.015\n",
      "  13. <1H OCEAN: 0.010\n",
      "  14. NEAR OCEAN: 0.006\n",
      "  15. NEAR BAY: 0.004\n",
      "  16. ISLAND: 0.000\n"
     ]
    }
   ],
   "source": [
    "print_feature_rank(random_search.best_estimator_.feature_importances_)"
   ]
  },
  {
   "cell_type": "markdown",
   "metadata": {},
   "source": [
    "# Save Model\n",
    "\n",
    "## Model Confidence\n",
    "\n",
    "Compute the confidence range. \n",
    "We are 95% confident that the model true RMSE of the model is between these two numbers."
   ]
  },
  {
   "cell_type": "code",
   "execution_count": null,
   "metadata": {},
   "outputs": [],
   "source": [
    "from ca_housing_pipeline import create_transformer\n",
    "\n",
    "# Get original data and prep it for the model\n",
    "df = pd.read_parquet(\"../../data/housing-geron.parquet\")\n",
    "income_categories_col = df['income_cat']\n",
    "median_house_value_labels = df['median_house_value']  # Series\n",
    "df = df.drop(columns=['income_cat', 'median_house_value'])\n",
    "\n",
    "numerical_cols = df.drop(columns=['ocean_proximity']).columns.tolist()\n",
    "categorical_col = ['ocean_proximity']\n",
    "ocean_categories = df['ocean_proximity'].unique().tolist()\n",
    "\n",
    "# Prepare the data for the model\n",
    "data_prepared_2 = create_transformer(numerical_cols, categorical_col, ocean_categories)\n",
    "data_prepared_2 = data_prepared_2.fit_transform(df)"
   ]
  },
  {
   "cell_type": "code",
   "execution_count": 11,
   "metadata": {},
   "outputs": [],
   "source": [
    "final_model = random_search.best_estimator_\n"
   ]
  },
  {
   "cell_type": "code",
   "execution_count": null,
   "metadata": {},
   "outputs": [],
   "source": [
    "# Save the model\n",
    "import joblib\n",
    "joblib.dump(final_model, \"../../models/random_forest_regressor.pkl\")\n"
   ]
  }
 ],
 "metadata": {
  "kernelspec": {
   "display_name": ".venv",
   "language": "python",
   "name": "python3"
  },
  "language_info": {
   "codemirror_mode": {
    "name": "ipython",
    "version": 3
   },
   "file_extension": ".py",
   "mimetype": "text/x-python",
   "name": "python",
   "nbconvert_exporter": "python",
   "pygments_lexer": "ipython3",
   "version": "3.12.10"
  }
 },
 "nbformat": 4,
 "nbformat_minor": 2
}
