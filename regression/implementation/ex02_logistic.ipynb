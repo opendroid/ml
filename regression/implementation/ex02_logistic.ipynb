{
 "cells": [
  {
   "cell_type": "markdown",
   "metadata": {},
   "source": [
    "# Test Logistic Regression\n"
   ]
  },
  {
   "cell_type": "code",
   "execution_count": 1,
   "metadata": {},
   "outputs": [],
   "source": [
    "import pandas as pd\n",
    "import numpy as np\n",
    "import matplotlib.pyplot as plt\n",
    "import seaborn as sns\n",
    "import pickle\n",
    "from sklearn.datasets import load_iris\n",
    "from sklearn.model_selection import train_test_split\n",
    "from sklearn.linear_model import LogisticRegression\n",
    "from sklearn.metrics import accuracy_score\n",
    "from sklearn.pipeline import Pipeline\n",
    "from sklearn.preprocessing import StandardScaler, LabelEncoder\n",
    "from unified_regression import LogisticRegression as MyLogisticRegression"
   ]
  },
  {
   "cell_type": "code",
   "execution_count": 2,
   "metadata": {},
   "outputs": [],
   "source": [
    "# Load the iris dataset and put it in a pandas dataframe\n",
    "iris = load_iris()\n",
    "X = iris.data\n",
    "y = iris.target\n",
    "df_features = pd.DataFrame(X, columns=iris.feature_names)\n",
    "df_labels = pd.DataFrame(y, columns=[\"species\"])"
   ]
  },
  {
   "cell_type": "markdown",
   "metadata": {},
   "source": [
    "## Understand the Data\n",
    "\n",
    "Look at both the features and labels. There are 150 observations in the dataset. Some point to note are:\n",
    "1. High correlation between: \n",
    "   - petal width and sepal length\n",
    "   - petal width and petal length\n",
    "   - petal length and sepal length\n",
    "2. Feature distribution are not uniform\n",
    "3. Descriptive characterstics are:\n",
    "   - sepal length (cm): (4.3-7.9), mean=5.84, std=0.83\n",
    "   - sepal width (cm): (2.0-4.4), mean=3.06, std=0.44\n",
    "   - petal length (cm): (1.0-6.9), mean=3.76, std=1.77\n",
    "   - petal width (cm): (0.1-2.5), mean=1.20, std=0.76\n",
    "4. All values are positive and small range\n",
    "\n",
    "What it means:\n",
    " - Apply standard scaler, to get a data distribution around 0 (better for logistic)\n",
    " - It will be hard to get stochastic distution equally likely.\n",
    "\n",
    "**Labels:**\n",
    "1. There are three label classes: 0: Setosa, 1:Versicolor, 2: Virginica) all 50 samples each"
   ]
  },
  {
   "cell_type": "code",
   "execution_count": 3,
   "metadata": {},
   "outputs": [
    {
     "name": "stdout",
     "output_type": "stream",
     "text": [
      "<class 'pandas.core.frame.DataFrame'>\n",
      "RangeIndex: 150 entries, 0 to 149\n",
      "Data columns (total 4 columns):\n",
      " #   Column             Non-Null Count  Dtype  \n",
      "---  ------             --------------  -----  \n",
      " 0   sepal length (cm)  150 non-null    float64\n",
      " 1   sepal width (cm)   150 non-null    float64\n",
      " 2   petal length (cm)  150 non-null    float64\n",
      " 3   petal width (cm)   150 non-null    float64\n",
      "dtypes: float64(4)\n",
      "memory usage: 4.8 KB\n"
     ]
    }
   ],
   "source": [
    "df_features.info()"
   ]
  },
  {
   "cell_type": "code",
   "execution_count": 4,
   "metadata": {},
   "outputs": [
    {
     "data": {
      "text/html": [
       "<div>\n",
       "<style scoped>\n",
       "    .dataframe tbody tr th:only-of-type {\n",
       "        vertical-align: middle;\n",
       "    }\n",
       "\n",
       "    .dataframe tbody tr th {\n",
       "        vertical-align: top;\n",
       "    }\n",
       "\n",
       "    .dataframe thead th {\n",
       "        text-align: right;\n",
       "    }\n",
       "</style>\n",
       "<table border=\"1\" class=\"dataframe\">\n",
       "  <thead>\n",
       "    <tr style=\"text-align: right;\">\n",
       "      <th></th>\n",
       "      <th>sepal length (cm)</th>\n",
       "      <th>sepal width (cm)</th>\n",
       "      <th>petal length (cm)</th>\n",
       "      <th>petal width (cm)</th>\n",
       "    </tr>\n",
       "  </thead>\n",
       "  <tbody>\n",
       "    <tr>\n",
       "      <th>20</th>\n",
       "      <td>5.4</td>\n",
       "      <td>3.4</td>\n",
       "      <td>1.7</td>\n",
       "      <td>0.2</td>\n",
       "    </tr>\n",
       "    <tr>\n",
       "      <th>12</th>\n",
       "      <td>4.8</td>\n",
       "      <td>3.0</td>\n",
       "      <td>1.4</td>\n",
       "      <td>0.1</td>\n",
       "    </tr>\n",
       "    <tr>\n",
       "      <th>145</th>\n",
       "      <td>6.7</td>\n",
       "      <td>3.0</td>\n",
       "      <td>5.2</td>\n",
       "      <td>2.3</td>\n",
       "    </tr>\n",
       "    <tr>\n",
       "      <th>69</th>\n",
       "      <td>5.6</td>\n",
       "      <td>2.5</td>\n",
       "      <td>3.9</td>\n",
       "      <td>1.1</td>\n",
       "    </tr>\n",
       "    <tr>\n",
       "      <th>32</th>\n",
       "      <td>5.2</td>\n",
       "      <td>4.1</td>\n",
       "      <td>1.5</td>\n",
       "      <td>0.1</td>\n",
       "    </tr>\n",
       "  </tbody>\n",
       "</table>\n",
       "</div>"
      ],
      "text/plain": [
       "     sepal length (cm)  sepal width (cm)  petal length (cm)  petal width (cm)\n",
       "20                 5.4               3.4                1.7               0.2\n",
       "12                 4.8               3.0                1.4               0.1\n",
       "145                6.7               3.0                5.2               2.3\n",
       "69                 5.6               2.5                3.9               1.1\n",
       "32                 5.2               4.1                1.5               0.1"
      ]
     },
     "execution_count": 4,
     "metadata": {},
     "output_type": "execute_result"
    }
   ],
   "source": [
    "df_features.sample(5, random_state=310)"
   ]
  },
  {
   "cell_type": "code",
   "execution_count": 5,
   "metadata": {},
   "outputs": [
    {
     "data": {
      "text/html": [
       "<div>\n",
       "<style scoped>\n",
       "    .dataframe tbody tr th:only-of-type {\n",
       "        vertical-align: middle;\n",
       "    }\n",
       "\n",
       "    .dataframe tbody tr th {\n",
       "        vertical-align: top;\n",
       "    }\n",
       "\n",
       "    .dataframe thead th {\n",
       "        text-align: right;\n",
       "    }\n",
       "</style>\n",
       "<table border=\"1\" class=\"dataframe\">\n",
       "  <thead>\n",
       "    <tr style=\"text-align: right;\">\n",
       "      <th></th>\n",
       "      <th>species</th>\n",
       "    </tr>\n",
       "  </thead>\n",
       "  <tbody>\n",
       "    <tr>\n",
       "      <th>20</th>\n",
       "      <td>0</td>\n",
       "    </tr>\n",
       "    <tr>\n",
       "      <th>12</th>\n",
       "      <td>0</td>\n",
       "    </tr>\n",
       "    <tr>\n",
       "      <th>145</th>\n",
       "      <td>2</td>\n",
       "    </tr>\n",
       "    <tr>\n",
       "      <th>69</th>\n",
       "      <td>1</td>\n",
       "    </tr>\n",
       "    <tr>\n",
       "      <th>32</th>\n",
       "      <td>0</td>\n",
       "    </tr>\n",
       "  </tbody>\n",
       "</table>\n",
       "</div>"
      ],
      "text/plain": [
       "     species\n",
       "20         0\n",
       "12         0\n",
       "145        2\n",
       "69         1\n",
       "32         0"
      ]
     },
     "execution_count": 5,
     "metadata": {},
     "output_type": "execute_result"
    }
   ],
   "source": [
    "df_labels.sample(5, random_state=310)"
   ]
  },
  {
   "cell_type": "code",
   "execution_count": 6,
   "metadata": {},
   "outputs": [
    {
     "data": {
      "image/png": "[encoded data removed]",
      "text/plain": [
       "<Figure size 640x480 with 2 Axes>"
      ]
     },
     "metadata": {},
     "output_type": "display_data"
    }
   ],
   "source": [
    "# Plot correlation matrix\n",
    "corr_matrix = df_features.corr()\n",
    "sns.heatmap(corr_matrix, annot=True, cmap=\"coolwarm\")\n",
    "plt.show()"
   ]
  },
  {
   "cell_type": "code",
   "execution_count": 7,
   "metadata": {},
   "outputs": [
    {
     "data": {
      "image/png": "[encoded data removed]",
      "text/plain": [
       "<Figure size 1200x800 with 4 Axes>"
      ]
     },
     "metadata": {},
     "output_type": "display_data"
    }
   ],
   "source": [
    "# Plot histograms of the features\n",
    "df_features.hist(figsize=(12, 8))\n",
    "plt.show()"
   ]
  },
  {
   "cell_type": "code",
   "execution_count": 8,
   "metadata": {},
   "outputs": [
    {
     "name": "stdout",
     "output_type": "stream",
     "text": [
      "       sepal length (cm)  sepal width (cm)  petal length (cm)  \\\n",
      "count         150.000000        150.000000         150.000000   \n",
      "mean            5.843333          3.057333           3.758000   \n",
      "std             0.828066          0.435866           1.765298   \n",
      "min             4.300000          2.000000           1.000000   \n",
      "25%             5.100000          2.800000           1.600000   \n",
      "50%             5.800000          3.000000           4.350000   \n",
      "75%             6.400000          3.300000           5.100000   \n",
      "max             7.900000          4.400000           6.900000   \n",
      "\n",
      "       petal width (cm)  \n",
      "count        150.000000  \n",
      "mean           1.199333  \n",
      "std            0.762238  \n",
      "min            0.100000  \n",
      "25%            0.300000  \n",
      "50%            1.300000  \n",
      "75%            1.800000  \n",
      "max            2.500000  \n"
     ]
    }
   ],
   "source": [
    "description = df_features.describe()\n",
    "print(description)"
   ]
  },
  {
   "cell_type": "code",
   "execution_count": 9,
   "metadata": {},
   "outputs": [
    {
     "name": "stdout",
     "output_type": "stream",
     "text": [
      "sepal length (cm): (4.3-7.9), mean=5.84, std=0.83\n",
      "sepal width (cm): (2.0-4.4), mean=3.06, std=0.44\n",
      "petal length (cm): (1.0-6.9), mean=3.76, std=1.77\n",
      "petal width (cm): (0.1-2.5), mean=1.20, std=0.76\n"
     ]
    }
   ],
   "source": [
    "for column in df_features.columns:\n",
    "    data = description[[column]]\n",
    "    mean = data.loc['mean'].values[0]\n",
    "    std = data.loc['std'].values[0]\n",
    "    min = data.loc['min'].values[0]\n",
    "    max = data.loc['max'].values[0]\n",
    "    print(f\"{column}: ({min}-{max}), mean={mean:.2f}, std={std:.2f}\")"
   ]
  },
  {
   "cell_type": "code",
   "execution_count": 10,
   "metadata": {},
   "outputs": [
    {
     "data": {
      "text/plain": [
       "species\n",
       "0          50\n",
       "1          50\n",
       "2          50\n",
       "Name: count, dtype: int64"
      ]
     },
     "execution_count": 10,
     "metadata": {},
     "output_type": "execute_result"
    }
   ],
   "source": [
    "# Understanding Labels\n",
    "df_labels.value_counts()"
   ]
  },
  {
   "cell_type": "markdown",
   "metadata": {},
   "source": [
    "## Binary Classification.\n",
    "\n",
    "Let us first do a binary classification model for detecting if a observation belong to class-0 i.e. Setosa. We need to adjust the labels to be:\n",
    " - set to 1 if it is Setosa\n",
    " - set to 0 If it NOT setoa\n",
    "\n",
    " ### Prepare datasets\n",
    " Convert a column to Setosa (1) and not-setosa (0)"
   ]
  },
  {
   "cell_type": "code",
   "execution_count": 11,
   "metadata": {},
   "outputs": [
    {
     "data": {
      "text/html": [
       "<div>\n",
       "<style scoped>\n",
       "    .dataframe tbody tr th:only-of-type {\n",
       "        vertical-align: middle;\n",
       "    }\n",
       "\n",
       "    .dataframe tbody tr th {\n",
       "        vertical-align: top;\n",
       "    }\n",
       "\n",
       "    .dataframe thead th {\n",
       "        text-align: right;\n",
       "    }\n",
       "</style>\n",
       "<table border=\"1\" class=\"dataframe\">\n",
       "  <thead>\n",
       "    <tr style=\"text-align: right;\">\n",
       "      <th></th>\n",
       "      <th>species</th>\n",
       "      <th>binary_species</th>\n",
       "    </tr>\n",
       "  </thead>\n",
       "  <tbody>\n",
       "    <tr>\n",
       "      <th>20</th>\n",
       "      <td>0</td>\n",
       "      <td>1</td>\n",
       "    </tr>\n",
       "    <tr>\n",
       "      <th>12</th>\n",
       "      <td>0</td>\n",
       "      <td>1</td>\n",
       "    </tr>\n",
       "    <tr>\n",
       "      <th>145</th>\n",
       "      <td>2</td>\n",
       "      <td>0</td>\n",
       "    </tr>\n",
       "    <tr>\n",
       "      <th>69</th>\n",
       "      <td>1</td>\n",
       "      <td>0</td>\n",
       "    </tr>\n",
       "    <tr>\n",
       "      <th>32</th>\n",
       "      <td>0</td>\n",
       "      <td>1</td>\n",
       "    </tr>\n",
       "  </tbody>\n",
       "</table>\n",
       "</div>"
      ],
      "text/plain": [
       "     species  binary_species\n",
       "20         0               1\n",
       "12         0               1\n",
       "145        2               0\n",
       "69         1               0\n",
       "32         0               1"
      ]
     },
     "execution_count": 11,
     "metadata": {},
     "output_type": "execute_result"
    }
   ],
   "source": [
    "y_binary = (y == 0).astype(int) # 1 is setosa else 0\n",
    "df_labels['binary_species'] = (df_labels['species'] == 0).astype(int)\n",
    "test = df_labels['species'] == 0\n",
    "\n",
    "df_labels.sample(5, random_state=310)"
   ]
  },
  {
   "cell_type": "code",
   "execution_count": 12,
   "metadata": {},
   "outputs": [
    {
     "data": {
      "text/plain": [
       "True"
      ]
     },
     "execution_count": 12,
     "metadata": {},
     "output_type": "execute_result"
    }
   ],
   "source": [
    "# Check oif the y_label is same as df_labels['binary_species']\n",
    "np.array_equal(y_binary, df_labels['binary_species'].values)"
   ]
  },
  {
   "cell_type": "code",
   "execution_count": 13,
   "metadata": {},
   "outputs": [
    {
     "data": {
      "text/plain": [
       "True"
      ]
     },
     "execution_count": 13,
     "metadata": {},
     "output_type": "execute_result"
    }
   ],
   "source": [
    "# Apply label encoder (in this case will only do housekeeping)\n",
    "# Registers the mapping: 0 → 0, 1 → 1 and use inverse_transform\n",
    "# for consistency\n",
    "label_encoder = LabelEncoder()\n",
    "y_encoded = label_encoder.fit_transform(y_binary)\n",
    "np.array_equal(y_encoded, y_binary)"
   ]
  },
  {
   "cell_type": "code",
   "execution_count": 14,
   "metadata": {},
   "outputs": [],
   "source": [
    "# Get test and train data\n",
    "X_train, X_test, y_train, y_test = train_test_split(\n",
    "    X, y_encoded, test_size=0.2, random_state=282, stratify=y_encoded)"
   ]
  },
  {
   "cell_type": "markdown",
   "metadata": {},
   "source": [
    "# Sklearn Logistic Regression"
   ]
  },
  {
   "cell_type": "code",
   "execution_count": 15,
   "metadata": {},
   "outputs": [],
   "source": [
    "skl_pipeline = Pipeline([\n",
    "    (\"scaler\", StandardScaler()),\n",
    "    (\"clf\", LogisticRegression(solver='lbfgs', max_iter=10_000, tol=0.000001))\n",
    "]).fit(X_train, y_train)"
   ]
  },
  {
   "cell_type": "code",
   "execution_count": 16,
   "metadata": {},
   "outputs": [
    {
     "data": {
      "text/plain": [
       "1.0"
      ]
     },
     "execution_count": 16,
     "metadata": {},
     "output_type": "execute_result"
    }
   ],
   "source": [
    "y_pred_skl = skl_pipeline.predict(X_test)\n",
    "accuracy_score(y_test, y_pred_skl)"
   ]
  },
  {
   "cell_type": "code",
   "execution_count": 17,
   "metadata": {},
   "outputs": [],
   "source": [
    "y_skl_pred_prob = skl_pipeline.predict_proba(X_test)"
   ]
  },
  {
   "cell_type": "code",
   "execution_count": 18,
   "metadata": {},
   "outputs": [
    {
     "name": "stdout",
     "output_type": "stream",
     "text": [
      "Coef = [[-1.0118868   1.17937704 -1.68765346 -1.57912217]], intercept=[-2.39328471]\n",
      "iterations = [13]\n"
     ]
    }
   ],
   "source": [
    "# Print model characterstics\n",
    "model = skl_pipeline['clf']\n",
    "print(f\"Coef = {model.coef_}, intercept={model.intercept_}\")\n",
    "print(f\"iterations = {model.n_iter_}\")"
   ]
  },
  {
   "cell_type": "markdown",
   "metadata": {},
   "source": [
    "## MyLogisticRegression\n"
   ]
  },
  {
   "cell_type": "code",
   "execution_count": 19,
   "metadata": {},
   "outputs": [],
   "source": [
    "my_pipeline = Pipeline([\n",
    "    (\"scalar\", StandardScaler()),\n",
    "    (\"clf\", MyLogisticRegression(alpha=0.01, max_iter=10_000_000, tol=0.0000001))\n",
    "]).fit(X_train, y_train)"
   ]
  },
  {
   "cell_type": "code",
   "execution_count": 20,
   "metadata": {},
   "outputs": [
    {
     "name": "stdout",
     "output_type": "stream",
     "text": [
      "Coef = [-2.34825266  4.43418014 -7.11840122 -6.80932102], intercept=-7.302685138554038\n",
      "tolerance = 0.00000017\n",
      "iterations=10000000\n"
     ]
    }
   ],
   "source": [
    "# Print model characterstics\n",
    "model = my_pipeline['clf']\n",
    "print(f\"Coef = {model.coef_[1:]}, intercept={model.intercept_}\")\n",
    "print(f\"tolerance = {model.training_tolerance:.8f}\")\n",
    "print(f\"iterations={model.training_iter}\")"
   ]
  },
  {
   "cell_type": "code",
   "execution_count": 21,
   "metadata": {},
   "outputs": [],
   "source": [
    "y_pred = my_pipeline.predict(X_test)"
   ]
  },
  {
   "cell_type": "code",
   "execution_count": 22,
   "metadata": {},
   "outputs": [
    {
     "data": {
      "text/plain": [
       "array([[9.88636691e-01, 1.13633092e-02],\n",
       "       [1.86731412e-02, 9.81326859e-01],\n",
       "       [9.77919832e-01, 2.20801680e-02],\n",
       "       [9.71871391e-01, 2.81286091e-02],\n",
       "       [1.49701780e-02, 9.85029822e-01],\n",
       "       [9.99154733e-01, 8.45266568e-04],\n",
       "       [6.83903860e-02, 9.31609614e-01],\n",
       "       [9.86212457e-01, 1.37875432e-02],\n",
       "       [1.65911613e-02, 9.83408839e-01],\n",
       "       [9.98217019e-01, 1.78298060e-03],\n",
       "       [4.88610869e-03, 9.95113891e-01],\n",
       "       [9.86568153e-01, 1.34318469e-02],\n",
       "       [9.99817873e-01, 1.82126704e-04],\n",
       "       [4.17626024e-03, 9.95823740e-01],\n",
       "       [9.98844234e-01, 1.15576622e-03],\n",
       "       [9.98412305e-01, 1.58769456e-03],\n",
       "       [9.99473230e-01, 5.26770463e-04],\n",
       "       [9.97981254e-01, 2.01874643e-03],\n",
       "       [9.96905811e-01, 3.09418877e-03],\n",
       "       [9.77474167e-01, 2.25258332e-02],\n",
       "       [9.62102352e-01, 3.78976475e-02],\n",
       "       [9.99151037e-01, 8.48962735e-04],\n",
       "       [1.64143320e-02, 9.83585668e-01],\n",
       "       [9.97694478e-01, 2.30552245e-03],\n",
       "       [1.49392949e-02, 9.85060705e-01],\n",
       "       [9.88201757e-01, 1.17982432e-02],\n",
       "       [2.07974178e-02, 9.79202582e-01],\n",
       "       [9.39760075e-01, 6.02399252e-02],\n",
       "       [2.81753818e-02, 9.71824618e-01],\n",
       "       [9.88434538e-01, 1.15654624e-02]])"
      ]
     },
     "execution_count": 22,
     "metadata": {},
     "output_type": "execute_result"
    }
   ],
   "source": [
    "y_skl_pred_prob"
   ]
  },
  {
   "cell_type": "code",
   "execution_count": 23,
   "metadata": {},
   "outputs": [
    {
     "name": "stdout",
     "output_type": "stream",
     "text": [
      "SKL: 1.0000, MYM: 1.0000, match: 1.0000\n"
     ]
    }
   ],
   "source": [
    "match_skl_my = accuracy_score(y_pred_skl, y_pred)\n",
    "acc_skl = accuracy_score(y_test, y_pred_skl)\n",
    "acc_my = accuracy_score(y_test, y_pred)\n",
    "print(f\"SKL: {acc_skl:.4f}, MYM: {acc_my:.4f}, match: {match_skl_my:.4f}\")"
   ]
  }
 ],
 "metadata": {
  "kernelspec": {
   "display_name": ".venv",
   "language": "python",
   "name": "python3"
  },
  "language_info": {
   "codemirror_mode": {
    "name": "ipython",
    "version": 3
   },
   "file_extension": ".py",
   "mimetype": "text/x-python",
   "name": "python",
   "nbconvert_exporter": "python",
   "pygments_lexer": "ipython3",
   "version": "3.12.10"
  }
 },
 "nbformat": 4,
 "nbformat_minor": 2
}
