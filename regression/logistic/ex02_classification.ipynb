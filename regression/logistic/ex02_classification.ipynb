{
 "cells": [
  {
   "cell_type": "markdown",
   "metadata": {
    "id": "SLU58L6lN1Iz"
   },
   "source": [
    "# __Supervised Learning: Classification__"
   ]
  },
  {
   "cell_type": "markdown",
   "metadata": {
    "id": "ZNqIaKrqN96V"
   },
   "source": [
    "## **Agenda**\n",
    "- Classification\n",
    "- Applications of Classification\n",
    "- Types of Classification\n",
    "- Binary Classification\n",
    "  * Logistic Regression\n",
    "    * Mathematical Concept of Logistic Regression\n",
    "    * Example with Breast Cancer Dataset\n",
    "  * Performance Metrics Used in Classification\n",
    "    * Significance of the Confusion Matrix\n",
    "  * Naive Bayes Classifier\n",
    "    * Mathematical Concept of Naive Bayes\n",
    "    * Applying Naive Bayes Algorithm on Breast Cancer Dataset\n",
    "  * K-Nearest Neighbors (KNN)\n",
    "    * Applying K-Nearest Neighbors on Breast Cancer Dataset\n",
    "    * Hyperparameter Tuning in KNN\n",
    "  * Decision Tree\n",
    "    * How Decision Trees Work\n",
    "    * Metrics for Splitting\n",
    "    * Pruning\n",
    "    * Applying Decision Tree on Breast Cancer Dataset\n",
    "    * Hyperparameter Tuning in Decision Tree\n",
    "  * Support Vector Machine (SVM)\n",
    "    * Applying SVM on Breast Cancer Dataset\n",
    "    * Hyperparameter Tuning\n",
    "\n",
    "\n",
    "\n",
    "\n",
    "\n",
    "\n",
    "\n",
    "\n",
    "\n",
    "\n"
   ]
  },
  {
   "cell_type": "markdown",
   "metadata": {
    "id": "9lnu0TqyN-GC"
   },
   "source": [
    "## __1. Classification__\n",
    "Classification is a supervised machine learning technique where the model is trained to predict the class label of a given input data. It looks for the decision boundary, which divides the dataset into different classes.\n"
   ]
  },
  {
   "cell_type": "markdown",
   "metadata": {
    "id": "hTps1qOL5WqY"
   },
   "source": [
    "Classification algorithms categorize data into distinct classes or categories, as illustrated by the separation of Class A and Class B in the graph."
   ]
  },
  {
   "cell_type": "markdown",
   "metadata": {
    "id": "D-85DzFmzhv1"
   },
   "source": [
    "![link text](https://labcontent.simplicdn.net/data-content/content-assets/Data_and_AI/ML/updated/Lesson_05/Classification.png)"
   ]
  },
  {
   "cell_type": "markdown",
   "metadata": {
    "id": "s5T_Jv96N-QP"
   },
   "source": [
    "## __2. Applications of Classification__\n",
    "**1.Healthcare:** Classification models diagnose diseases, assess patient risk, and identify medical conditions from diagnostic tests or imaging data. These tasks involve categorizing patients or medical conditions into predefined classes.\n"
   ]
  },
  {
   "cell_type": "markdown",
   "metadata": {
    "id": "SpxbtrBIdG8C"
   },
   "source": [
    "**2.Finance:** Banks and financial institutions use classification algorithms for credit scoring and fraud detection. These applications involve classifying individuals into categories such as \"high risk\" or \"low risk\" for credit scoring, and \"fraudulent\" or \"non-fraudulent\" for fraud detection.\n",
    "\n"
   ]
  },
  {
   "cell_type": "markdown",
   "metadata": {
    "id": "DHYEucmcdG_J"
   },
   "source": [
    "**3.Marketing:** Classification aids in customer segmentation and target marketing. It helps businesses identify potential customers and tailor marketing strategies by categorizing customers based on their behavior, preferences, and demographics.\n",
    "\n",
    "\n",
    "\n",
    "\n"
   ]
  },
  {
   "cell_type": "markdown",
   "metadata": {
    "id": "Yjx-5HCCdHCt"
   },
   "source": [
    "**4.Retail:** In retail, classification algorithms are crucial for managing inventory, forecasting demand, and personalizing product recommendations. By classifying products and customer preferences, these algorithms optimize stock levels and provide custom recommendations to the customers.\n"
   ]
  },
  {
   "cell_type": "markdown",
   "metadata": {
    "id": "OFGRNR5ZdHTq"
   },
   "source": [
    "\n",
    "**5.Manufacturing:** Classification is essential for quality control and fault detection in manufacturing. It identifies product defects, classifies items as faulty or non-faulty, and optimizes production processes to minimize downtime.\n"
   ]
  },
  {
   "cell_type": "markdown",
   "metadata": {
    "id": "xHtr3R1AwPKe"
   },
   "source": [
    "## __3. Types of Classification__"
   ]
  },
  {
   "cell_type": "markdown",
   "metadata": {
    "id": "e0AQO2Bs7CyL"
   },
   "source": [
    "![link text](https://labcontent.simplicdn.net/data-content/content-assets/Data_and_AI/ML/Classification_Part_1/image_1.jpg)"
   ]
  },
  {
   "cell_type": "markdown",
   "metadata": {
    "id": "tHGga-Hx7C1A"
   },
   "source": [
    "## __4. Binary Classification__"
   ]
  },
  {
   "cell_type": "markdown",
   "metadata": {
    "id": "gL2qxA8b7C3u"
   },
   "source": [
    "Binary classification is the most simple type of classification, where the model predicts one of two possible outcomes. For example, yes or no, true or false, spam or not spam."
   ]
  },
  {
   "cell_type": "markdown",
   "metadata": {
    "id": "N0bfHaxbZ9x9"
   },
   "source": [
    "Example:\n"
   ]
  },
  {
   "cell_type": "markdown",
   "metadata": {
    "id": "8vTD4WBDDaKY"
   },
   "source": [
    "![link text](https://labcontent.simplicdn.net/data-content/content-assets/Data_and_AI/ML/updated/Lesson_05/Machine_learning.png)"
   ]
  },
  {
   "cell_type": "markdown",
   "metadata": {
    "id": "Y_UGrZdrU7pW"
   },
   "source": [
    "Some popular algorithms used for binary classification are:\n",
    "\n",
    "- Logistic Regression\n",
    "- Naïve Bayes\n",
    "- K-Nearest Neighbors (KNN)\n",
    "- Decision Trees\n",
    "- Support Vector Machines (SVM)\n",
    "\n",
    "While these methods excel in binary settings, they are equally capable of handling multi-class classification tasks. This versatility allows them to be used in a wider range of applications, such as recognizing multiple categories of objects in images or predicting several types of customer behavior.\n",
    "\n",
    "In our upcoming lessons, we will dive deeper into how these algorithms can be extended beyond binary classification to tackle more complex multi-class problems."
   ]
  },
  {
   "cell_type": "markdown",
   "metadata": {
    "id": "K1H59quJJejd"
   },
   "source": [
    "## __4.1 Logistic Regression:__\n"
   ]
  },
  {
   "cell_type": "markdown",
   "metadata": {
    "id": "9f5KY1MQ0-Iz"
   },
   "source": [
    "**Logistic regression** is a supervised machine learning technique primarily used for binary classification. In this method, we apply the sigmoid function to the linear combination of independent variables/predictors (features). This produces a probability value between 0 and 1. This probability represents the likelihood of a datapoint belonging to a specific class (e.g., positive or negative outcome).\n",
    "\n",
    "\n",
    "If the estimated probability is\n",
    "greater than 0.5, then the model predicts that the instance belongs to a positive class labeled “1” or else it predicts that it does not (i.e., it\n",
    "belongs to the negative class, labeled “0”). This makes it a binary classifier."
   ]
  },
  {
   "cell_type": "markdown",
   "metadata": {
    "id": "RdJPea1Z7N8z"
   },
   "source": [
    "### **4.1.1 Mathematical Concept of Logistic Regression:**\n",
    "\n",
    "**1. Logistic Function (Sigmoid Function):**\n",
    "The core of logistic regression is the logistic function, also known as the sigmoid function (denoted by $\\sigma(z)$), which maps any real-valued number into the range (0, 1).\n",
    "\n",
    "$$\n",
    "\\sigma(z) = \\frac{1}{1 + e^{-z}}\n",
    "$$\n",
    "\n",
    "\n",
    "Where,\n",
    " `z` is a linear combination of the input features. This function outputs the probability of the input belonging to the positive class (class 1).\n",
    "\n",
    "**2. Linear Combination of Inputs:**\n",
    "The input features 𝑋 are combined linearly using the parameters $\\theta $ composed of weights 𝑤 and a bias term 𝑏, i.e. $\\theta = (w,b)$:\n",
    "\n",
    "$$\n",
    "z = w \\cdot X + b\n",
    "$$\n",
    "\n",
    "**3. Prediction:**\n",
    "The logistic regression model predicts the probability of the class being positive or negative (class 1 or class 0) as:\n",
    "\n",
    "$$\n",
    "F(X,\\theta ) = \\sigma(z) = \\frac{1}{1 + e^{-(w \\cdot X + b)}}\n",
    "$$\n",
    "\n",
    "\n",
    "To make a final binary decision, a threshold (usually 0.5) is applied to this probability. If 𝜎(𝑧)≥0.5, the prediction is class 1; otherwise, it's class 0.\n",
    "\n",
    "**4. Cost Function:**\n",
    "The cost function used in logistic regression is the __binary cross-entropy (log loss)__, which measures the discrepancy between the predicted probabilities and the actual class labels:\n",
    "\n",
    "$$\n",
    "J(w, b) = -\\frac{1}{m} \\sum_{i=1}^m \\left[ y_{(i)} \\log(\\hat{y}_{(i)}) + (1 - y_{(i)}) \\log(1 - \\hat{y}_{(i)}) \\right]\n",
    "$$\n",
    "\n",
    "\n",
    "Where\n",
    "𝑚 is the number of training examples, $y_{(i)}$ is the true label, and $\\hat{y}_{(i)}$ is the predicted probability for the 𝑖-th example.\n",
    "\n",
    "**5. Optimization:**\n",
    "The goal is to find the weights 𝑤 and bias 𝑏 that minimize the cost function. This is typically done using gradient descent."
   ]
  },
  {
   "cell_type": "markdown",
   "metadata": {
    "id": "0mZSzhm-QfrU"
   },
   "source": [
    "### **4.1.2 Example with Breast Cancer Dataset**\n",
    "\n",
    "### **Dataset Description:**\n",
    " The Breast Cancer Wisconsin (Diagnostic) dataset is a widely used dataset in the field of machine learning, particularly in classification problems related to medical diagnosis.This dataset consists of breast cancer cases derived from a group of patients who underwent surgery and had their breast mass tissue sampled.\n",
    "\n",
    "**Number of Instances:** It contains 569 instances, each representing an individual sample of breast tissue.\n",
    "\n",
    "**Number of Attributes:** There are 30 numeric attributes computed from digitized images of the tissue samples. These attributes are measurements of the cell nuclei present in the images.\n",
    "\n",
    "**The attributes include:**\n",
    "\n",
    "- Radius (mean of distances from center to points on the perimeter)\n",
    "- Texture (standard deviation of gray-scale values)\n",
    "- Perimeter\n",
    "- Area\n",
    "- Smoothness (local variation in radius lengths)\n",
    "- Compactness (perimeter^2 / area - 1.0)\n",
    "- Concavity (severity of concave portions of the contour)\n",
    "- Concave points (number of concave portions of the contour)\n",
    "- Symmetry\n",
    "- Fractal dimension (\"coastline approximation\" - 1)\n",
    "- The target variable, `diagnosis`, indicates the cancer type, which can be \"M\" (Malignant) or \"B\" (Benign). The objective is to predict whether the tissue sample is benign or malignant\n",
    "\n",
    "\n",
    "**Note:** We will use this dataset to explore and compare various binary classification algorithms, examining how their performance varies depending on the type and implementation of each algorithm, accompanied by their mathematical explanations.\n",
    "\n",
    "\n"
   ]
  },
  {
   "cell_type": "markdown",
   "metadata": {
    "id": "xya_Z1r31u55"
   },
   "source": [
    "Let's first start with the implementation of **logistic regression**, but make sure to conduct proper data preprocessing to make it suitable for modeling. This step may include handling missing values, scaling features, and encoding categorical variables, all of which we have covered in the data science course."
   ]
  },
  {
   "cell_type": "code",
   "execution_count": 1,
   "metadata": {
    "id": "r47qULhOPOWM"
   },
   "outputs": [],
   "source": [
    "# Import the necessary libraries\n",
    "import pandas as pd\n",
    "import numpy as np\n",
    "import seaborn as sns\n",
    "import matplotlib.pyplot as plt\n",
    "from sklearn.model_selection import train_test_split\n",
    "from sklearn.preprocessing import StandardScaler\n",
    "from sklearn.pipeline import Pipeline\n",
    "from sklearn.linear_model import LogisticRegression\n",
    "from sklearn.metrics import accuracy_score"
   ]
  },
  {
   "cell_type": "code",
   "execution_count": 2,
   "metadata": {
    "executionInfo": {
     "elapsed": 209,
     "status": "ok",
     "timestamp": 1726685737485,
     "user": {
      "displayName": "Fabien Marpeau",
      "userId": "15210978490258687001"
     },
     "user_tz": 300
    },
    "id": "WzxPNTSeXkcS"
   },
   "outputs": [
    {
     "data": {
      "text/html": [
       "<div>\n",
       "<style scoped>\n",
       "    .dataframe tbody tr th:only-of-type {\n",
       "        vertical-align: middle;\n",
       "    }\n",
       "\n",
       "    .dataframe tbody tr th {\n",
       "        vertical-align: top;\n",
       "    }\n",
       "\n",
       "    .dataframe thead th {\n",
       "        text-align: right;\n",
       "    }\n",
       "</style>\n",
       "<table border=\"1\" class=\"dataframe\">\n",
       "  <thead>\n",
       "    <tr style=\"text-align: right;\">\n",
       "      <th></th>\n",
       "      <th>id</th>\n",
       "      <th>diagnosis</th>\n",
       "      <th>radius_mean</th>\n",
       "      <th>texture_mean</th>\n",
       "      <th>perimeter_mean</th>\n",
       "      <th>area_mean</th>\n",
       "      <th>smoothness_mean</th>\n",
       "      <th>compactness_mean</th>\n",
       "      <th>concavity_mean</th>\n",
       "      <th>concave points_mean</th>\n",
       "      <th>...</th>\n",
       "      <th>texture_worst</th>\n",
       "      <th>perimeter_worst</th>\n",
       "      <th>area_worst</th>\n",
       "      <th>smoothness_worst</th>\n",
       "      <th>compactness_worst</th>\n",
       "      <th>concavity_worst</th>\n",
       "      <th>concave points_worst</th>\n",
       "      <th>symmetry_worst</th>\n",
       "      <th>fractal_dimension_worst</th>\n",
       "      <th>Unnamed: 32</th>\n",
       "    </tr>\n",
       "  </thead>\n",
       "  <tbody>\n",
       "    <tr>\n",
       "      <th>0</th>\n",
       "      <td>842302</td>\n",
       "      <td>M</td>\n",
       "      <td>17.99</td>\n",
       "      <td>10.38</td>\n",
       "      <td>122.80</td>\n",
       "      <td>1001.0</td>\n",
       "      <td>0.11840</td>\n",
       "      <td>0.27760</td>\n",
       "      <td>0.3001</td>\n",
       "      <td>0.14710</td>\n",
       "      <td>...</td>\n",
       "      <td>17.33</td>\n",
       "      <td>184.60</td>\n",
       "      <td>2019.0</td>\n",
       "      <td>0.1622</td>\n",
       "      <td>0.6656</td>\n",
       "      <td>0.7119</td>\n",
       "      <td>0.2654</td>\n",
       "      <td>0.4601</td>\n",
       "      <td>0.11890</td>\n",
       "      <td>NaN</td>\n",
       "    </tr>\n",
       "    <tr>\n",
       "      <th>1</th>\n",
       "      <td>842517</td>\n",
       "      <td>M</td>\n",
       "      <td>20.57</td>\n",
       "      <td>17.77</td>\n",
       "      <td>132.90</td>\n",
       "      <td>1326.0</td>\n",
       "      <td>0.08474</td>\n",
       "      <td>0.07864</td>\n",
       "      <td>0.0869</td>\n",
       "      <td>0.07017</td>\n",
       "      <td>...</td>\n",
       "      <td>23.41</td>\n",
       "      <td>158.80</td>\n",
       "      <td>1956.0</td>\n",
       "      <td>0.1238</td>\n",
       "      <td>0.1866</td>\n",
       "      <td>0.2416</td>\n",
       "      <td>0.1860</td>\n",
       "      <td>0.2750</td>\n",
       "      <td>0.08902</td>\n",
       "      <td>NaN</td>\n",
       "    </tr>\n",
       "    <tr>\n",
       "      <th>2</th>\n",
       "      <td>84300903</td>\n",
       "      <td>M</td>\n",
       "      <td>19.69</td>\n",
       "      <td>21.25</td>\n",
       "      <td>130.00</td>\n",
       "      <td>1203.0</td>\n",
       "      <td>0.10960</td>\n",
       "      <td>0.15990</td>\n",
       "      <td>0.1974</td>\n",
       "      <td>0.12790</td>\n",
       "      <td>...</td>\n",
       "      <td>25.53</td>\n",
       "      <td>152.50</td>\n",
       "      <td>1709.0</td>\n",
       "      <td>0.1444</td>\n",
       "      <td>0.4245</td>\n",
       "      <td>0.4504</td>\n",
       "      <td>0.2430</td>\n",
       "      <td>0.3613</td>\n",
       "      <td>0.08758</td>\n",
       "      <td>NaN</td>\n",
       "    </tr>\n",
       "    <tr>\n",
       "      <th>3</th>\n",
       "      <td>84348301</td>\n",
       "      <td>M</td>\n",
       "      <td>11.42</td>\n",
       "      <td>20.38</td>\n",
       "      <td>77.58</td>\n",
       "      <td>386.1</td>\n",
       "      <td>0.14250</td>\n",
       "      <td>0.28390</td>\n",
       "      <td>0.2414</td>\n",
       "      <td>0.10520</td>\n",
       "      <td>...</td>\n",
       "      <td>26.50</td>\n",
       "      <td>98.87</td>\n",
       "      <td>567.7</td>\n",
       "      <td>0.2098</td>\n",
       "      <td>0.8663</td>\n",
       "      <td>0.6869</td>\n",
       "      <td>0.2575</td>\n",
       "      <td>0.6638</td>\n",
       "      <td>0.17300</td>\n",
       "      <td>NaN</td>\n",
       "    </tr>\n",
       "    <tr>\n",
       "      <th>4</th>\n",
       "      <td>84358402</td>\n",
       "      <td>M</td>\n",
       "      <td>20.29</td>\n",
       "      <td>14.34</td>\n",
       "      <td>135.10</td>\n",
       "      <td>1297.0</td>\n",
       "      <td>0.10030</td>\n",
       "      <td>0.13280</td>\n",
       "      <td>0.1980</td>\n",
       "      <td>0.10430</td>\n",
       "      <td>...</td>\n",
       "      <td>16.67</td>\n",
       "      <td>152.20</td>\n",
       "      <td>1575.0</td>\n",
       "      <td>0.1374</td>\n",
       "      <td>0.2050</td>\n",
       "      <td>0.4000</td>\n",
       "      <td>0.1625</td>\n",
       "      <td>0.2364</td>\n",
       "      <td>0.07678</td>\n",
       "      <td>NaN</td>\n",
       "    </tr>\n",
       "  </tbody>\n",
       "</table>\n",
       "<p>5 rows × 33 columns</p>\n",
       "</div>"
      ],
      "text/plain": [
       "         id diagnosis  radius_mean  texture_mean  perimeter_mean  area_mean  \\\n",
       "0    842302         M        17.99         10.38          122.80     1001.0   \n",
       "1    842517         M        20.57         17.77          132.90     1326.0   \n",
       "2  84300903         M        19.69         21.25          130.00     1203.0   \n",
       "3  84348301         M        11.42         20.38           77.58      386.1   \n",
       "4  84358402         M        20.29         14.34          135.10     1297.0   \n",
       "\n",
       "   smoothness_mean  compactness_mean  concavity_mean  concave points_mean  \\\n",
       "0          0.11840           0.27760          0.3001              0.14710   \n",
       "1          0.08474           0.07864          0.0869              0.07017   \n",
       "2          0.10960           0.15990          0.1974              0.12790   \n",
       "3          0.14250           0.28390          0.2414              0.10520   \n",
       "4          0.10030           0.13280          0.1980              0.10430   \n",
       "\n",
       "   ...  texture_worst  perimeter_worst  area_worst  smoothness_worst  \\\n",
       "0  ...          17.33           184.60      2019.0            0.1622   \n",
       "1  ...          23.41           158.80      1956.0            0.1238   \n",
       "2  ...          25.53           152.50      1709.0            0.1444   \n",
       "3  ...          26.50            98.87       567.7            0.2098   \n",
       "4  ...          16.67           152.20      1575.0            0.1374   \n",
       "\n",
       "   compactness_worst  concavity_worst  concave points_worst  symmetry_worst  \\\n",
       "0             0.6656           0.7119                0.2654          0.4601   \n",
       "1             0.1866           0.2416                0.1860          0.2750   \n",
       "2             0.4245           0.4504                0.2430          0.3613   \n",
       "3             0.8663           0.6869                0.2575          0.6638   \n",
       "4             0.2050           0.4000                0.1625          0.2364   \n",
       "\n",
       "   fractal_dimension_worst  Unnamed: 32  \n",
       "0                  0.11890          NaN  \n",
       "1                  0.08902          NaN  \n",
       "2                  0.08758          NaN  \n",
       "3                  0.17300          NaN  \n",
       "4                  0.07678          NaN  \n",
       "\n",
       "[5 rows x 33 columns]"
      ]
     },
     "execution_count": 2,
     "metadata": {},
     "output_type": "execute_result"
    }
   ],
   "source": [
    "# Load the Breast Cancer dataset\n",
    "df = pd.read_csv('./data/breast_cancer.csv')\n",
    "# Display the first few rows of the dataset\n",
    "df.head()"
   ]
  },
  {
   "cell_type": "code",
   "execution_count": 3,
   "metadata": {
    "executionInfo": {
     "elapsed": 3,
     "status": "ok",
     "timestamp": 1726685737660,
     "user": {
      "displayName": "Fabien Marpeau",
      "userId": "15210978490258687001"
     },
     "user_tz": 300
    },
    "id": "Ux0uEPGHe7EY"
   },
   "outputs": [
    {
     "name": "stdout",
     "output_type": "stream",
     "text": [
      "<class 'pandas.core.frame.DataFrame'>\n",
      "RangeIndex: 569 entries, 0 to 568\n",
      "Data columns (total 33 columns):\n",
      " #   Column                   Non-Null Count  Dtype  \n",
      "---  ------                   --------------  -----  \n",
      " 0   id                       569 non-null    int64  \n",
      " 1   diagnosis                569 non-null    object \n",
      " 2   radius_mean              569 non-null    float64\n",
      " 3   texture_mean             569 non-null    float64\n",
      " 4   perimeter_mean           569 non-null    float64\n",
      " 5   area_mean                569 non-null    float64\n",
      " 6   smoothness_mean          569 non-null    float64\n",
      " 7   compactness_mean         569 non-null    float64\n",
      " 8   concavity_mean           569 non-null    float64\n",
      " 9   concave points_mean      569 non-null    float64\n",
      " 10  symmetry_mean            569 non-null    float64\n",
      " 11  fractal_dimension_mean   569 non-null    float64\n",
      " 12  radius_se                569 non-null    float64\n",
      " 13  texture_se               569 non-null    float64\n",
      " 14  perimeter_se             569 non-null    float64\n",
      " 15  area_se                  569 non-null    float64\n",
      " 16  smoothness_se            569 non-null    float64\n",
      " 17  compactness_se           569 non-null    float64\n",
      " 18  concavity_se             569 non-null    float64\n",
      " 19  concave points_se        569 non-null    float64\n",
      " 20  symmetry_se              569 non-null    float64\n",
      " 21  fractal_dimension_se     569 non-null    float64\n",
      " 22  radius_worst             569 non-null    float64\n",
      " 23  texture_worst            569 non-null    float64\n",
      " 24  perimeter_worst          569 non-null    float64\n",
      " 25  area_worst               569 non-null    float64\n",
      " 26  smoothness_worst         569 non-null    float64\n",
      " 27  compactness_worst        569 non-null    float64\n",
      " 28  concavity_worst          569 non-null    float64\n",
      " 29  concave points_worst     569 non-null    float64\n",
      " 30  symmetry_worst           569 non-null    float64\n",
      " 31  fractal_dimension_worst  569 non-null    float64\n",
      " 32  Unnamed: 32              0 non-null      float64\n",
      "dtypes: float64(31), int64(1), object(1)\n",
      "memory usage: 146.8+ KB\n"
     ]
    }
   ],
   "source": [
    "df.info()"
   ]
  },
  {
   "cell_type": "code",
   "execution_count": 4,
   "metadata": {},
   "outputs": [
    {
     "name": "stdout",
     "output_type": "stream",
     "text": [
      "Floats columns: ['radius_mean', 'texture_mean', 'perimeter_mean', 'area_mean', 'smoothness_mean', 'compactness_mean', 'concavity_mean', 'concave points_mean', 'symmetry_mean', 'fractal_dimension_mean', 'radius_se', 'texture_se', 'perimeter_se', 'area_se', 'smoothness_se', 'compactness_se', 'concavity_se', 'concave points_se', 'symmetry_se', 'fractal_dimension_se', 'radius_worst', 'texture_worst', 'perimeter_worst', 'area_worst', 'smoothness_worst', 'compactness_worst', 'concavity_worst', 'concave points_worst', 'symmetry_worst', 'fractal_dimension_worst', 'Unnamed: 32']\n",
      "Ints columns: ['id']\n",
      "Objects columns: ['diagnosis']\n"
     ]
    }
   ],
   "source": [
    "# Display various dtypes\n",
    "floats_cols = [col for col in df.columns if df[col].dtype == \"float64\"]\n",
    "ints_cols = [col for col in df.columns if df[col].dtype == \"int64\"]\n",
    "objects_cols = [col for col in df.columns if df[col].dtype == \"object\"]\n",
    "print(f\"Floats columns: {floats_cols}\")\n",
    "print(f\"Ints columns: {ints_cols}\")\n",
    "print(f\"Objects columns: {objects_cols}\")\n"
   ]
  },
  {
   "cell_type": "code",
   "execution_count": 5,
   "metadata": {},
   "outputs": [
    {
     "data": {
      "text/plain": [
       "diagnosis\n",
       "B    357\n",
       "M    212\n",
       "Name: count, dtype: int64"
      ]
     },
     "execution_count": 5,
     "metadata": {},
     "output_type": "execute_result"
    }
   ],
   "source": [
    "df['diagnosis'].value_counts()"
   ]
  },
  {
   "cell_type": "code",
   "execution_count": 6,
   "metadata": {
    "executionInfo": {
     "elapsed": 198,
     "status": "ok",
     "timestamp": 1726685746139,
     "user": {
      "displayName": "Fabien Marpeau",
      "userId": "15210978490258687001"
     },
     "user_tz": 300
    },
    "id": "XOwhNq41QTaz"
   },
   "outputs": [
    {
     "data": {
      "text/html": [
       "<div>\n",
       "<style scoped>\n",
       "    .dataframe tbody tr th:only-of-type {\n",
       "        vertical-align: middle;\n",
       "    }\n",
       "\n",
       "    .dataframe tbody tr th {\n",
       "        vertical-align: top;\n",
       "    }\n",
       "\n",
       "    .dataframe thead th {\n",
       "        text-align: right;\n",
       "    }\n",
       "</style>\n",
       "<table border=\"1\" class=\"dataframe\">\n",
       "  <thead>\n",
       "    <tr style=\"text-align: right;\">\n",
       "      <th></th>\n",
       "      <th>id</th>\n",
       "      <th>radius_mean</th>\n",
       "      <th>texture_mean</th>\n",
       "      <th>perimeter_mean</th>\n",
       "      <th>area_mean</th>\n",
       "      <th>smoothness_mean</th>\n",
       "      <th>compactness_mean</th>\n",
       "      <th>concavity_mean</th>\n",
       "      <th>concave points_mean</th>\n",
       "      <th>symmetry_mean</th>\n",
       "      <th>...</th>\n",
       "      <th>texture_worst</th>\n",
       "      <th>perimeter_worst</th>\n",
       "      <th>area_worst</th>\n",
       "      <th>smoothness_worst</th>\n",
       "      <th>compactness_worst</th>\n",
       "      <th>concavity_worst</th>\n",
       "      <th>concave points_worst</th>\n",
       "      <th>symmetry_worst</th>\n",
       "      <th>fractal_dimension_worst</th>\n",
       "      <th>Unnamed: 32</th>\n",
       "    </tr>\n",
       "  </thead>\n",
       "  <tbody>\n",
       "    <tr>\n",
       "      <th>count</th>\n",
       "      <td>5.690000e+02</td>\n",
       "      <td>569.000000</td>\n",
       "      <td>569.000000</td>\n",
       "      <td>569.000000</td>\n",
       "      <td>569.000000</td>\n",
       "      <td>569.000000</td>\n",
       "      <td>569.000000</td>\n",
       "      <td>569.000000</td>\n",
       "      <td>569.000000</td>\n",
       "      <td>569.000000</td>\n",
       "      <td>...</td>\n",
       "      <td>569.000000</td>\n",
       "      <td>569.000000</td>\n",
       "      <td>569.000000</td>\n",
       "      <td>569.000000</td>\n",
       "      <td>569.000000</td>\n",
       "      <td>569.000000</td>\n",
       "      <td>569.000000</td>\n",
       "      <td>569.000000</td>\n",
       "      <td>569.000000</td>\n",
       "      <td>0.0</td>\n",
       "    </tr>\n",
       "    <tr>\n",
       "      <th>mean</th>\n",
       "      <td>3.037183e+07</td>\n",
       "      <td>14.127292</td>\n",
       "      <td>19.289649</td>\n",
       "      <td>91.969033</td>\n",
       "      <td>654.889104</td>\n",
       "      <td>0.096360</td>\n",
       "      <td>0.104341</td>\n",
       "      <td>0.088799</td>\n",
       "      <td>0.048919</td>\n",
       "      <td>0.181162</td>\n",
       "      <td>...</td>\n",
       "      <td>25.677223</td>\n",
       "      <td>107.261213</td>\n",
       "      <td>880.583128</td>\n",
       "      <td>0.132369</td>\n",
       "      <td>0.254265</td>\n",
       "      <td>0.272188</td>\n",
       "      <td>0.114606</td>\n",
       "      <td>0.290076</td>\n",
       "      <td>0.083946</td>\n",
       "      <td>NaN</td>\n",
       "    </tr>\n",
       "    <tr>\n",
       "      <th>std</th>\n",
       "      <td>1.250206e+08</td>\n",
       "      <td>3.524049</td>\n",
       "      <td>4.301036</td>\n",
       "      <td>24.298981</td>\n",
       "      <td>351.914129</td>\n",
       "      <td>0.014064</td>\n",
       "      <td>0.052813</td>\n",
       "      <td>0.079720</td>\n",
       "      <td>0.038803</td>\n",
       "      <td>0.027414</td>\n",
       "      <td>...</td>\n",
       "      <td>6.146258</td>\n",
       "      <td>33.602542</td>\n",
       "      <td>569.356993</td>\n",
       "      <td>0.022832</td>\n",
       "      <td>0.157336</td>\n",
       "      <td>0.208624</td>\n",
       "      <td>0.065732</td>\n",
       "      <td>0.061867</td>\n",
       "      <td>0.018061</td>\n",
       "      <td>NaN</td>\n",
       "    </tr>\n",
       "    <tr>\n",
       "      <th>min</th>\n",
       "      <td>8.670000e+03</td>\n",
       "      <td>6.981000</td>\n",
       "      <td>9.710000</td>\n",
       "      <td>43.790000</td>\n",
       "      <td>143.500000</td>\n",
       "      <td>0.052630</td>\n",
       "      <td>0.019380</td>\n",
       "      <td>0.000000</td>\n",
       "      <td>0.000000</td>\n",
       "      <td>0.106000</td>\n",
       "      <td>...</td>\n",
       "      <td>12.020000</td>\n",
       "      <td>50.410000</td>\n",
       "      <td>185.200000</td>\n",
       "      <td>0.071170</td>\n",
       "      <td>0.027290</td>\n",
       "      <td>0.000000</td>\n",
       "      <td>0.000000</td>\n",
       "      <td>0.156500</td>\n",
       "      <td>0.055040</td>\n",
       "      <td>NaN</td>\n",
       "    </tr>\n",
       "    <tr>\n",
       "      <th>25%</th>\n",
       "      <td>8.692180e+05</td>\n",
       "      <td>11.700000</td>\n",
       "      <td>16.170000</td>\n",
       "      <td>75.170000</td>\n",
       "      <td>420.300000</td>\n",
       "      <td>0.086370</td>\n",
       "      <td>0.064920</td>\n",
       "      <td>0.029560</td>\n",
       "      <td>0.020310</td>\n",
       "      <td>0.161900</td>\n",
       "      <td>...</td>\n",
       "      <td>21.080000</td>\n",
       "      <td>84.110000</td>\n",
       "      <td>515.300000</td>\n",
       "      <td>0.116600</td>\n",
       "      <td>0.147200</td>\n",
       "      <td>0.114500</td>\n",
       "      <td>0.064930</td>\n",
       "      <td>0.250400</td>\n",
       "      <td>0.071460</td>\n",
       "      <td>NaN</td>\n",
       "    </tr>\n",
       "    <tr>\n",
       "      <th>50%</th>\n",
       "      <td>9.060240e+05</td>\n",
       "      <td>13.370000</td>\n",
       "      <td>18.840000</td>\n",
       "      <td>86.240000</td>\n",
       "      <td>551.100000</td>\n",
       "      <td>0.095870</td>\n",
       "      <td>0.092630</td>\n",
       "      <td>0.061540</td>\n",
       "      <td>0.033500</td>\n",
       "      <td>0.179200</td>\n",
       "      <td>...</td>\n",
       "      <td>25.410000</td>\n",
       "      <td>97.660000</td>\n",
       "      <td>686.500000</td>\n",
       "      <td>0.131300</td>\n",
       "      <td>0.211900</td>\n",
       "      <td>0.226700</td>\n",
       "      <td>0.099930</td>\n",
       "      <td>0.282200</td>\n",
       "      <td>0.080040</td>\n",
       "      <td>NaN</td>\n",
       "    </tr>\n",
       "    <tr>\n",
       "      <th>75%</th>\n",
       "      <td>8.813129e+06</td>\n",
       "      <td>15.780000</td>\n",
       "      <td>21.800000</td>\n",
       "      <td>104.100000</td>\n",
       "      <td>782.700000</td>\n",
       "      <td>0.105300</td>\n",
       "      <td>0.130400</td>\n",
       "      <td>0.130700</td>\n",
       "      <td>0.074000</td>\n",
       "      <td>0.195700</td>\n",
       "      <td>...</td>\n",
       "      <td>29.720000</td>\n",
       "      <td>125.400000</td>\n",
       "      <td>1084.000000</td>\n",
       "      <td>0.146000</td>\n",
       "      <td>0.339100</td>\n",
       "      <td>0.382900</td>\n",
       "      <td>0.161400</td>\n",
       "      <td>0.317900</td>\n",
       "      <td>0.092080</td>\n",
       "      <td>NaN</td>\n",
       "    </tr>\n",
       "    <tr>\n",
       "      <th>max</th>\n",
       "      <td>9.113205e+08</td>\n",
       "      <td>28.110000</td>\n",
       "      <td>39.280000</td>\n",
       "      <td>188.500000</td>\n",
       "      <td>2501.000000</td>\n",
       "      <td>0.163400</td>\n",
       "      <td>0.345400</td>\n",
       "      <td>0.426800</td>\n",
       "      <td>0.201200</td>\n",
       "      <td>0.304000</td>\n",
       "      <td>...</td>\n",
       "      <td>49.540000</td>\n",
       "      <td>251.200000</td>\n",
       "      <td>4254.000000</td>\n",
       "      <td>0.222600</td>\n",
       "      <td>1.058000</td>\n",
       "      <td>1.252000</td>\n",
       "      <td>0.291000</td>\n",
       "      <td>0.663800</td>\n",
       "      <td>0.207500</td>\n",
       "      <td>NaN</td>\n",
       "    </tr>\n",
       "  </tbody>\n",
       "</table>\n",
       "<p>8 rows × 32 columns</p>\n",
       "</div>"
      ],
      "text/plain": [
       "                 id  radius_mean  texture_mean  perimeter_mean    area_mean  \\\n",
       "count  5.690000e+02   569.000000    569.000000      569.000000   569.000000   \n",
       "mean   3.037183e+07    14.127292     19.289649       91.969033   654.889104   \n",
       "std    1.250206e+08     3.524049      4.301036       24.298981   351.914129   \n",
       "min    8.670000e+03     6.981000      9.710000       43.790000   143.500000   \n",
       "25%    8.692180e+05    11.700000     16.170000       75.170000   420.300000   \n",
       "50%    9.060240e+05    13.370000     18.840000       86.240000   551.100000   \n",
       "75%    8.813129e+06    15.780000     21.800000      104.100000   782.700000   \n",
       "max    9.113205e+08    28.110000     39.280000      188.500000  2501.000000   \n",
       "\n",
       "       smoothness_mean  compactness_mean  concavity_mean  concave points_mean  \\\n",
       "count       569.000000        569.000000      569.000000           569.000000   \n",
       "mean          0.096360          0.104341        0.088799             0.048919   \n",
       "std           0.014064          0.052813        0.079720             0.038803   \n",
       "min           0.052630          0.019380        0.000000             0.000000   \n",
       "25%           0.086370          0.064920        0.029560             0.020310   \n",
       "50%           0.095870          0.092630        0.061540             0.033500   \n",
       "75%           0.105300          0.130400        0.130700             0.074000   \n",
       "max           0.163400          0.345400        0.426800             0.201200   \n",
       "\n",
       "       symmetry_mean  ...  texture_worst  perimeter_worst   area_worst  \\\n",
       "count     569.000000  ...     569.000000       569.000000   569.000000   \n",
       "mean        0.181162  ...      25.677223       107.261213   880.583128   \n",
       "std         0.027414  ...       6.146258        33.602542   569.356993   \n",
       "min         0.106000  ...      12.020000        50.410000   185.200000   \n",
       "25%         0.161900  ...      21.080000        84.110000   515.300000   \n",
       "50%         0.179200  ...      25.410000        97.660000   686.500000   \n",
       "75%         0.195700  ...      29.720000       125.400000  1084.000000   \n",
       "max         0.304000  ...      49.540000       251.200000  4254.000000   \n",
       "\n",
       "       smoothness_worst  compactness_worst  concavity_worst  \\\n",
       "count        569.000000         569.000000       569.000000   \n",
       "mean           0.132369           0.254265         0.272188   \n",
       "std            0.022832           0.157336         0.208624   \n",
       "min            0.071170           0.027290         0.000000   \n",
       "25%            0.116600           0.147200         0.114500   \n",
       "50%            0.131300           0.211900         0.226700   \n",
       "75%            0.146000           0.339100         0.382900   \n",
       "max            0.222600           1.058000         1.252000   \n",
       "\n",
       "       concave points_worst  symmetry_worst  fractal_dimension_worst  \\\n",
       "count            569.000000      569.000000               569.000000   \n",
       "mean               0.114606        0.290076                 0.083946   \n",
       "std                0.065732        0.061867                 0.018061   \n",
       "min                0.000000        0.156500                 0.055040   \n",
       "25%                0.064930        0.250400                 0.071460   \n",
       "50%                0.099930        0.282200                 0.080040   \n",
       "75%                0.161400        0.317900                 0.092080   \n",
       "max                0.291000        0.663800                 0.207500   \n",
       "\n",
       "       Unnamed: 32  \n",
       "count          0.0  \n",
       "mean           NaN  \n",
       "std            NaN  \n",
       "min            NaN  \n",
       "25%            NaN  \n",
       "50%            NaN  \n",
       "75%            NaN  \n",
       "max            NaN  \n",
       "\n",
       "[8 rows x 32 columns]"
      ]
     },
     "execution_count": 6,
     "metadata": {},
     "output_type": "execute_result"
    }
   ],
   "source": [
    "# Summary statistics\n",
    "df.describe()"
   ]
  },
  {
   "cell_type": "code",
   "execution_count": 7,
   "metadata": {
    "executionInfo": {
     "elapsed": 230,
     "status": "ok",
     "timestamp": 1726685754168,
     "user": {
      "displayName": "Fabien Marpeau",
      "userId": "15210978490258687001"
     },
     "user_tz": 300
    },
    "id": "pydz7YCWQTXp"
   },
   "outputs": [
    {
     "data": {
      "text/plain": [
       "id                           0\n",
       "diagnosis                    0\n",
       "radius_mean                  0\n",
       "texture_mean                 0\n",
       "perimeter_mean               0\n",
       "area_mean                    0\n",
       "smoothness_mean              0\n",
       "compactness_mean             0\n",
       "concavity_mean               0\n",
       "concave points_mean          0\n",
       "symmetry_mean                0\n",
       "fractal_dimension_mean       0\n",
       "radius_se                    0\n",
       "texture_se                   0\n",
       "perimeter_se                 0\n",
       "area_se                      0\n",
       "smoothness_se                0\n",
       "compactness_se               0\n",
       "concavity_se                 0\n",
       "concave points_se            0\n",
       "symmetry_se                  0\n",
       "fractal_dimension_se         0\n",
       "radius_worst                 0\n",
       "texture_worst                0\n",
       "perimeter_worst              0\n",
       "area_worst                   0\n",
       "smoothness_worst             0\n",
       "compactness_worst            0\n",
       "concavity_worst              0\n",
       "concave points_worst         0\n",
       "symmetry_worst               0\n",
       "fractal_dimension_worst      0\n",
       "Unnamed: 32                569\n",
       "dtype: int64"
      ]
     },
     "execution_count": 7,
     "metadata": {},
     "output_type": "execute_result"
    }
   ],
   "source": [
    "# Check for missing values\n",
    "df.isnull().sum()"
   ]
  },
  {
   "cell_type": "markdown",
   "metadata": {
    "id": "ri5rJr4ZqQOq"
   },
   "source": [
    "- There are no null/missing values in the dataset"
   ]
  },
  {
   "cell_type": "code",
   "execution_count": 8,
   "metadata": {
    "executionInfo": {
     "elapsed": 188,
     "status": "ok",
     "timestamp": 1726685764320,
     "user": {
      "displayName": "Fabien Marpeau",
      "userId": "15210978490258687001"
     },
     "user_tz": 300
    },
    "id": "borGbql3QTUx"
   },
   "outputs": [
    {
     "data": {
      "image/png": "[encoded data removed]",
      "text/plain": [
       "<Figure size 640x480 with 1 Axes>"
      ]
     },
     "metadata": {},
     "output_type": "display_data"
    }
   ],
   "source": [
    "# Distribution of the target variable\n",
    "sns.countplot(x=\"diagnosis\",data=df)\n",
    "plt.title(\"Distribution of diagnosis\",fontsize=17,c=\"k\")\n",
    "plt.xlabel(\"Diagnosis\",fontsize=12)\n",
    "plt.ylabel(\"Count of diagnosis\",fontsize=12)\n",
    "plt.xticks([0, 1], ['Benign', 'Malignant'], fontsize=12)\n",
    "plt.show()"
   ]
  },
  {
   "cell_type": "markdown",
   "metadata": {
    "id": "A1A7VXrBiazy"
   },
   "source": [
    "### __Observation:__\n",
    "- The plot shows the distribution of the target variable `diagnosis`, highlighting the count of benign and malignant cases."
   ]
  },
  {
   "cell_type": "code",
   "execution_count": 9,
   "metadata": {
    "executionInfo": {
     "elapsed": 188,
     "status": "ok",
     "timestamp": 1726685771257,
     "user": {
      "displayName": "Fabien Marpeau",
      "userId": "15210978490258687001"
     },
     "user_tz": 300
    },
    "id": "aPikHR1uHBwX"
   },
   "outputs": [
    {
     "data": {
      "text/plain": [
       "diagnosis\n",
       "B    357\n",
       "M    212\n",
       "Name: count, dtype: int64"
      ]
     },
     "execution_count": 9,
     "metadata": {},
     "output_type": "execute_result"
    }
   ],
   "source": [
    "df[\"diagnosis\"].value_counts()"
   ]
  },
  {
   "cell_type": "markdown",
   "metadata": {
    "id": "gv55BZCf9_qV"
   },
   "source": [
    "Remove unwanted columns like `Unnamed: 32` and `id`"
   ]
  },
  {
   "cell_type": "code",
   "execution_count": 10,
   "metadata": {
    "executionInfo": {
     "elapsed": 148,
     "status": "ok",
     "timestamp": 1726685778064,
     "user": {
      "displayName": "Fabien Marpeau",
      "userId": "15210978490258687001"
     },
     "user_tz": 300
    },
    "id": "NYBJfpWSjAOp"
   },
   "outputs": [
    {
     "data": {
      "text/html": [
       "<div>\n",
       "<style scoped>\n",
       "    .dataframe tbody tr th:only-of-type {\n",
       "        vertical-align: middle;\n",
       "    }\n",
       "\n",
       "    .dataframe tbody tr th {\n",
       "        vertical-align: top;\n",
       "    }\n",
       "\n",
       "    .dataframe thead th {\n",
       "        text-align: right;\n",
       "    }\n",
       "</style>\n",
       "<table border=\"1\" class=\"dataframe\">\n",
       "  <thead>\n",
       "    <tr style=\"text-align: right;\">\n",
       "      <th></th>\n",
       "      <th>diagnosis</th>\n",
       "      <th>radius_mean</th>\n",
       "      <th>texture_mean</th>\n",
       "      <th>perimeter_mean</th>\n",
       "      <th>area_mean</th>\n",
       "      <th>smoothness_mean</th>\n",
       "      <th>compactness_mean</th>\n",
       "      <th>concavity_mean</th>\n",
       "      <th>concave points_mean</th>\n",
       "      <th>symmetry_mean</th>\n",
       "      <th>...</th>\n",
       "      <th>radius_worst</th>\n",
       "      <th>texture_worst</th>\n",
       "      <th>perimeter_worst</th>\n",
       "      <th>area_worst</th>\n",
       "      <th>smoothness_worst</th>\n",
       "      <th>compactness_worst</th>\n",
       "      <th>concavity_worst</th>\n",
       "      <th>concave points_worst</th>\n",
       "      <th>symmetry_worst</th>\n",
       "      <th>fractal_dimension_worst</th>\n",
       "    </tr>\n",
       "  </thead>\n",
       "  <tbody>\n",
       "    <tr>\n",
       "      <th>0</th>\n",
       "      <td>M</td>\n",
       "      <td>17.99</td>\n",
       "      <td>10.38</td>\n",
       "      <td>122.80</td>\n",
       "      <td>1001.0</td>\n",
       "      <td>0.11840</td>\n",
       "      <td>0.27760</td>\n",
       "      <td>0.30010</td>\n",
       "      <td>0.14710</td>\n",
       "      <td>0.2419</td>\n",
       "      <td>...</td>\n",
       "      <td>25.380</td>\n",
       "      <td>17.33</td>\n",
       "      <td>184.60</td>\n",
       "      <td>2019.0</td>\n",
       "      <td>0.16220</td>\n",
       "      <td>0.66560</td>\n",
       "      <td>0.7119</td>\n",
       "      <td>0.2654</td>\n",
       "      <td>0.4601</td>\n",
       "      <td>0.11890</td>\n",
       "    </tr>\n",
       "    <tr>\n",
       "      <th>1</th>\n",
       "      <td>M</td>\n",
       "      <td>20.57</td>\n",
       "      <td>17.77</td>\n",
       "      <td>132.90</td>\n",
       "      <td>1326.0</td>\n",
       "      <td>0.08474</td>\n",
       "      <td>0.07864</td>\n",
       "      <td>0.08690</td>\n",
       "      <td>0.07017</td>\n",
       "      <td>0.1812</td>\n",
       "      <td>...</td>\n",
       "      <td>24.990</td>\n",
       "      <td>23.41</td>\n",
       "      <td>158.80</td>\n",
       "      <td>1956.0</td>\n",
       "      <td>0.12380</td>\n",
       "      <td>0.18660</td>\n",
       "      <td>0.2416</td>\n",
       "      <td>0.1860</td>\n",
       "      <td>0.2750</td>\n",
       "      <td>0.08902</td>\n",
       "    </tr>\n",
       "    <tr>\n",
       "      <th>2</th>\n",
       "      <td>M</td>\n",
       "      <td>19.69</td>\n",
       "      <td>21.25</td>\n",
       "      <td>130.00</td>\n",
       "      <td>1203.0</td>\n",
       "      <td>0.10960</td>\n",
       "      <td>0.15990</td>\n",
       "      <td>0.19740</td>\n",
       "      <td>0.12790</td>\n",
       "      <td>0.2069</td>\n",
       "      <td>...</td>\n",
       "      <td>23.570</td>\n",
       "      <td>25.53</td>\n",
       "      <td>152.50</td>\n",
       "      <td>1709.0</td>\n",
       "      <td>0.14440</td>\n",
       "      <td>0.42450</td>\n",
       "      <td>0.4504</td>\n",
       "      <td>0.2430</td>\n",
       "      <td>0.3613</td>\n",
       "      <td>0.08758</td>\n",
       "    </tr>\n",
       "    <tr>\n",
       "      <th>3</th>\n",
       "      <td>M</td>\n",
       "      <td>11.42</td>\n",
       "      <td>20.38</td>\n",
       "      <td>77.58</td>\n",
       "      <td>386.1</td>\n",
       "      <td>0.14250</td>\n",
       "      <td>0.28390</td>\n",
       "      <td>0.24140</td>\n",
       "      <td>0.10520</td>\n",
       "      <td>0.2597</td>\n",
       "      <td>...</td>\n",
       "      <td>14.910</td>\n",
       "      <td>26.50</td>\n",
       "      <td>98.87</td>\n",
       "      <td>567.7</td>\n",
       "      <td>0.20980</td>\n",
       "      <td>0.86630</td>\n",
       "      <td>0.6869</td>\n",
       "      <td>0.2575</td>\n",
       "      <td>0.6638</td>\n",
       "      <td>0.17300</td>\n",
       "    </tr>\n",
       "    <tr>\n",
       "      <th>4</th>\n",
       "      <td>M</td>\n",
       "      <td>20.29</td>\n",
       "      <td>14.34</td>\n",
       "      <td>135.10</td>\n",
       "      <td>1297.0</td>\n",
       "      <td>0.10030</td>\n",
       "      <td>0.13280</td>\n",
       "      <td>0.19800</td>\n",
       "      <td>0.10430</td>\n",
       "      <td>0.1809</td>\n",
       "      <td>...</td>\n",
       "      <td>22.540</td>\n",
       "      <td>16.67</td>\n",
       "      <td>152.20</td>\n",
       "      <td>1575.0</td>\n",
       "      <td>0.13740</td>\n",
       "      <td>0.20500</td>\n",
       "      <td>0.4000</td>\n",
       "      <td>0.1625</td>\n",
       "      <td>0.2364</td>\n",
       "      <td>0.07678</td>\n",
       "    </tr>\n",
       "    <tr>\n",
       "      <th>...</th>\n",
       "      <td>...</td>\n",
       "      <td>...</td>\n",
       "      <td>...</td>\n",
       "      <td>...</td>\n",
       "      <td>...</td>\n",
       "      <td>...</td>\n",
       "      <td>...</td>\n",
       "      <td>...</td>\n",
       "      <td>...</td>\n",
       "      <td>...</td>\n",
       "      <td>...</td>\n",
       "      <td>...</td>\n",
       "      <td>...</td>\n",
       "      <td>...</td>\n",
       "      <td>...</td>\n",
       "      <td>...</td>\n",
       "      <td>...</td>\n",
       "      <td>...</td>\n",
       "      <td>...</td>\n",
       "      <td>...</td>\n",
       "      <td>...</td>\n",
       "    </tr>\n",
       "    <tr>\n",
       "      <th>564</th>\n",
       "      <td>M</td>\n",
       "      <td>21.56</td>\n",
       "      <td>22.39</td>\n",
       "      <td>142.00</td>\n",
       "      <td>1479.0</td>\n",
       "      <td>0.11100</td>\n",
       "      <td>0.11590</td>\n",
       "      <td>0.24390</td>\n",
       "      <td>0.13890</td>\n",
       "      <td>0.1726</td>\n",
       "      <td>...</td>\n",
       "      <td>25.450</td>\n",
       "      <td>26.40</td>\n",
       "      <td>166.10</td>\n",
       "      <td>2027.0</td>\n",
       "      <td>0.14100</td>\n",
       "      <td>0.21130</td>\n",
       "      <td>0.4107</td>\n",
       "      <td>0.2216</td>\n",
       "      <td>0.2060</td>\n",
       "      <td>0.07115</td>\n",
       "    </tr>\n",
       "    <tr>\n",
       "      <th>565</th>\n",
       "      <td>M</td>\n",
       "      <td>20.13</td>\n",
       "      <td>28.25</td>\n",
       "      <td>131.20</td>\n",
       "      <td>1261.0</td>\n",
       "      <td>0.09780</td>\n",
       "      <td>0.10340</td>\n",
       "      <td>0.14400</td>\n",
       "      <td>0.09791</td>\n",
       "      <td>0.1752</td>\n",
       "      <td>...</td>\n",
       "      <td>23.690</td>\n",
       "      <td>38.25</td>\n",
       "      <td>155.00</td>\n",
       "      <td>1731.0</td>\n",
       "      <td>0.11660</td>\n",
       "      <td>0.19220</td>\n",
       "      <td>0.3215</td>\n",
       "      <td>0.1628</td>\n",
       "      <td>0.2572</td>\n",
       "      <td>0.06637</td>\n",
       "    </tr>\n",
       "    <tr>\n",
       "      <th>566</th>\n",
       "      <td>M</td>\n",
       "      <td>16.60</td>\n",
       "      <td>28.08</td>\n",
       "      <td>108.30</td>\n",
       "      <td>858.1</td>\n",
       "      <td>0.08455</td>\n",
       "      <td>0.10230</td>\n",
       "      <td>0.09251</td>\n",
       "      <td>0.05302</td>\n",
       "      <td>0.1590</td>\n",
       "      <td>...</td>\n",
       "      <td>18.980</td>\n",
       "      <td>34.12</td>\n",
       "      <td>126.70</td>\n",
       "      <td>1124.0</td>\n",
       "      <td>0.11390</td>\n",
       "      <td>0.30940</td>\n",
       "      <td>0.3403</td>\n",
       "      <td>0.1418</td>\n",
       "      <td>0.2218</td>\n",
       "      <td>0.07820</td>\n",
       "    </tr>\n",
       "    <tr>\n",
       "      <th>567</th>\n",
       "      <td>M</td>\n",
       "      <td>20.60</td>\n",
       "      <td>29.33</td>\n",
       "      <td>140.10</td>\n",
       "      <td>1265.0</td>\n",
       "      <td>0.11780</td>\n",
       "      <td>0.27700</td>\n",
       "      <td>0.35140</td>\n",
       "      <td>0.15200</td>\n",
       "      <td>0.2397</td>\n",
       "      <td>...</td>\n",
       "      <td>25.740</td>\n",
       "      <td>39.42</td>\n",
       "      <td>184.60</td>\n",
       "      <td>1821.0</td>\n",
       "      <td>0.16500</td>\n",
       "      <td>0.86810</td>\n",
       "      <td>0.9387</td>\n",
       "      <td>0.2650</td>\n",
       "      <td>0.4087</td>\n",
       "      <td>0.12400</td>\n",
       "    </tr>\n",
       "    <tr>\n",
       "      <th>568</th>\n",
       "      <td>B</td>\n",
       "      <td>7.76</td>\n",
       "      <td>24.54</td>\n",
       "      <td>47.92</td>\n",
       "      <td>181.0</td>\n",
       "      <td>0.05263</td>\n",
       "      <td>0.04362</td>\n",
       "      <td>0.00000</td>\n",
       "      <td>0.00000</td>\n",
       "      <td>0.1587</td>\n",
       "      <td>...</td>\n",
       "      <td>9.456</td>\n",
       "      <td>30.37</td>\n",
       "      <td>59.16</td>\n",
       "      <td>268.6</td>\n",
       "      <td>0.08996</td>\n",
       "      <td>0.06444</td>\n",
       "      <td>0.0000</td>\n",
       "      <td>0.0000</td>\n",
       "      <td>0.2871</td>\n",
       "      <td>0.07039</td>\n",
       "    </tr>\n",
       "  </tbody>\n",
       "</table>\n",
       "<p>569 rows × 31 columns</p>\n",
       "</div>"
      ],
      "text/plain": [
       "    diagnosis  radius_mean  texture_mean  perimeter_mean  area_mean  \\\n",
       "0           M        17.99         10.38          122.80     1001.0   \n",
       "1           M        20.57         17.77          132.90     1326.0   \n",
       "2           M        19.69         21.25          130.00     1203.0   \n",
       "3           M        11.42         20.38           77.58      386.1   \n",
       "4           M        20.29         14.34          135.10     1297.0   \n",
       "..        ...          ...           ...             ...        ...   \n",
       "564         M        21.56         22.39          142.00     1479.0   \n",
       "565         M        20.13         28.25          131.20     1261.0   \n",
       "566         M        16.60         28.08          108.30      858.1   \n",
       "567         M        20.60         29.33          140.10     1265.0   \n",
       "568         B         7.76         24.54           47.92      181.0   \n",
       "\n",
       "     smoothness_mean  compactness_mean  concavity_mean  concave points_mean  \\\n",
       "0            0.11840           0.27760         0.30010              0.14710   \n",
       "1            0.08474           0.07864         0.08690              0.07017   \n",
       "2            0.10960           0.15990         0.19740              0.12790   \n",
       "3            0.14250           0.28390         0.24140              0.10520   \n",
       "4            0.10030           0.13280         0.19800              0.10430   \n",
       "..               ...               ...             ...                  ...   \n",
       "564          0.11100           0.11590         0.24390              0.13890   \n",
       "565          0.09780           0.10340         0.14400              0.09791   \n",
       "566          0.08455           0.10230         0.09251              0.05302   \n",
       "567          0.11780           0.27700         0.35140              0.15200   \n",
       "568          0.05263           0.04362         0.00000              0.00000   \n",
       "\n",
       "     symmetry_mean  ...  radius_worst  texture_worst  perimeter_worst  \\\n",
       "0           0.2419  ...        25.380          17.33           184.60   \n",
       "1           0.1812  ...        24.990          23.41           158.80   \n",
       "2           0.2069  ...        23.570          25.53           152.50   \n",
       "3           0.2597  ...        14.910          26.50            98.87   \n",
       "4           0.1809  ...        22.540          16.67           152.20   \n",
       "..             ...  ...           ...            ...              ...   \n",
       "564         0.1726  ...        25.450          26.40           166.10   \n",
       "565         0.1752  ...        23.690          38.25           155.00   \n",
       "566         0.1590  ...        18.980          34.12           126.70   \n",
       "567         0.2397  ...        25.740          39.42           184.60   \n",
       "568         0.1587  ...         9.456          30.37            59.16   \n",
       "\n",
       "     area_worst  smoothness_worst  compactness_worst  concavity_worst  \\\n",
       "0        2019.0           0.16220            0.66560           0.7119   \n",
       "1        1956.0           0.12380            0.18660           0.2416   \n",
       "2        1709.0           0.14440            0.42450           0.4504   \n",
       "3         567.7           0.20980            0.86630           0.6869   \n",
       "4        1575.0           0.13740            0.20500           0.4000   \n",
       "..          ...               ...                ...              ...   \n",
       "564      2027.0           0.14100            0.21130           0.4107   \n",
       "565      1731.0           0.11660            0.19220           0.3215   \n",
       "566      1124.0           0.11390            0.30940           0.3403   \n",
       "567      1821.0           0.16500            0.86810           0.9387   \n",
       "568       268.6           0.08996            0.06444           0.0000   \n",
       "\n",
       "     concave points_worst  symmetry_worst  fractal_dimension_worst  \n",
       "0                  0.2654          0.4601                  0.11890  \n",
       "1                  0.1860          0.2750                  0.08902  \n",
       "2                  0.2430          0.3613                  0.08758  \n",
       "3                  0.2575          0.6638                  0.17300  \n",
       "4                  0.1625          0.2364                  0.07678  \n",
       "..                    ...             ...                      ...  \n",
       "564                0.2216          0.2060                  0.07115  \n",
       "565                0.1628          0.2572                  0.06637  \n",
       "566                0.1418          0.2218                  0.07820  \n",
       "567                0.2650          0.4087                  0.12400  \n",
       "568                0.0000          0.2871                  0.07039  \n",
       "\n",
       "[569 rows x 31 columns]"
      ]
     },
     "execution_count": 10,
     "metadata": {},
     "output_type": "execute_result"
    }
   ],
   "source": [
    "# Remove unwanted columns from the dataset\n",
    "df=df.drop([\"Unnamed: 32\", \"id\"],axis=1)\n",
    "df"
   ]
  },
  {
   "cell_type": "markdown",
   "metadata": {
    "id": "LPSxvhLCBn1w"
   },
   "source": [
    " Plot a correlation heatmap to understand the relationship between features\n",
    "\n",
    " - The heatmap visualizes the correlation between different features in the dataset, helping identify highly correlated pairs."
   ]
  },
  {
   "cell_type": "code",
   "execution_count": 11,
   "metadata": {
    "executionInfo": {
     "elapsed": 166,
     "status": "ok",
     "timestamp": 1726685785250,
     "user": {
      "displayName": "Fabien Marpeau",
      "userId": "15210978490258687001"
     },
     "user_tz": 300
    },
    "id": "b7rvc67CQTRe"
   },
   "outputs": [
    {
     "data": {
      "image/png": "[encoded data removed]",
      "text/plain": [
       "<Figure size 1200x800 with 2 Axes>"
      ]
     },
     "metadata": {},
     "output_type": "display_data"
    }
   ],
   "source": [
    "# Correlation heatmap\n",
    "plt.figure(figsize=(12,8))\n",
    "c=df.corr(numeric_only=True)\n",
    "sns.heatmap(c,annot=True,fmt=\".1f\")\n",
    "plt.title(\"Correlation between dataset\",fontsize=17,c=\"k\")\n",
    "plt.show()"
   ]
  },
  {
   "cell_type": "markdown",
   "metadata": {
    "id": "SGkNhv1WjrKi"
   },
   "source": [
    "### __Observation:__\n",
    "\n",
    "- High Correlations: Several pairs of features exhibit strong positive correlations.\n",
    "For example, `radius_mean`, `perimeter_mean`, and `area_mean` are highly correlated with each other. This is expected as these are all measures of size and dimensions of the detected tumors.\n",
    "\n",
    "- Feature Groups: Features related to the \"worst\" (largest value of these features for each image), \"mean\", and \"error\" (standard error) calculations are grouped together, indicating that similar types of measurements are highly correlated. For example, `radius_worst`, `perimeter_worst`, and `area_worst` also show very high positive correlations.\n",
    "\n",
    "- Clinical Relevance: High correlations between features like `concavity_mean` and `concave points_mean` suggest that more concave portions of the tumor outline correspond to more frequent concave points, which are relevant characteristics for diagnosing malignancy of the sample."
   ]
  },
  {
   "cell_type": "markdown",
   "metadata": {
    "id": "qjqynNyq-Wdo"
   },
   "source": [
    "Convert Categorical variable `diagnosis` into one-hot encoded numerical variable with benign instances assigned 0 and malignant 1"
   ]
  },
  {
   "cell_type": "code",
   "execution_count": 12,
   "metadata": {
    "executionInfo": {
     "elapsed": 215,
     "status": "ok",
     "timestamp": 1726685795405,
     "user": {
      "displayName": "Fabien Marpeau",
      "userId": "15210978490258687001"
     },
     "user_tz": 300
    },
    "id": "Rh6pmbbxQTJF"
   },
   "outputs": [
    {
     "data": {
      "text/plain": [
       "0      1\n",
       "1      1\n",
       "2      1\n",
       "3      1\n",
       "4      1\n",
       "      ..\n",
       "564    1\n",
       "565    1\n",
       "566    1\n",
       "567    1\n",
       "568    0\n",
       "Name: diagnosis, Length: 569, dtype: int64"
      ]
     },
     "execution_count": 12,
     "metadata": {},
     "output_type": "execute_result"
    }
   ],
   "source": [
    "# Transform diagnosis column into numeric\n",
    "from sklearn.preprocessing import LabelEncoder\n",
    "Encoder=LabelEncoder()\n",
    "df[\"diagnosis\"]=Encoder.fit_transform(df[\"diagnosis\"])\n",
    "df[\"diagnosis\"]"
   ]
  },
  {
   "cell_type": "code",
   "execution_count": 13,
   "metadata": {
    "executionInfo": {
     "elapsed": 170,
     "status": "ok",
     "timestamp": 1726685801256,
     "user": {
      "displayName": "Fabien Marpeau",
      "userId": "15210978490258687001"
     },
     "user_tz": 300
    },
    "id": "JNeS4gCROBi9"
   },
   "outputs": [
    {
     "data": {
      "text/html": [
       "<div>\n",
       "<style scoped>\n",
       "    .dataframe tbody tr th:only-of-type {\n",
       "        vertical-align: middle;\n",
       "    }\n",
       "\n",
       "    .dataframe tbody tr th {\n",
       "        vertical-align: top;\n",
       "    }\n",
       "\n",
       "    .dataframe thead th {\n",
       "        text-align: right;\n",
       "    }\n",
       "</style>\n",
       "<table border=\"1\" class=\"dataframe\">\n",
       "  <thead>\n",
       "    <tr style=\"text-align: right;\">\n",
       "      <th></th>\n",
       "      <th>diagnosis</th>\n",
       "      <th>radius_mean</th>\n",
       "      <th>texture_mean</th>\n",
       "      <th>perimeter_mean</th>\n",
       "      <th>area_mean</th>\n",
       "      <th>smoothness_mean</th>\n",
       "      <th>compactness_mean</th>\n",
       "      <th>concavity_mean</th>\n",
       "      <th>concave points_mean</th>\n",
       "      <th>symmetry_mean</th>\n",
       "      <th>...</th>\n",
       "      <th>radius_worst</th>\n",
       "      <th>texture_worst</th>\n",
       "      <th>perimeter_worst</th>\n",
       "      <th>area_worst</th>\n",
       "      <th>smoothness_worst</th>\n",
       "      <th>compactness_worst</th>\n",
       "      <th>concavity_worst</th>\n",
       "      <th>concave points_worst</th>\n",
       "      <th>symmetry_worst</th>\n",
       "      <th>fractal_dimension_worst</th>\n",
       "    </tr>\n",
       "  </thead>\n",
       "  <tbody>\n",
       "    <tr>\n",
       "      <th>0</th>\n",
       "      <td>1</td>\n",
       "      <td>17.99</td>\n",
       "      <td>10.38</td>\n",
       "      <td>122.80</td>\n",
       "      <td>1001.0</td>\n",
       "      <td>0.11840</td>\n",
       "      <td>0.27760</td>\n",
       "      <td>0.3001</td>\n",
       "      <td>0.14710</td>\n",
       "      <td>0.2419</td>\n",
       "      <td>...</td>\n",
       "      <td>25.38</td>\n",
       "      <td>17.33</td>\n",
       "      <td>184.60</td>\n",
       "      <td>2019.0</td>\n",
       "      <td>0.1622</td>\n",
       "      <td>0.6656</td>\n",
       "      <td>0.7119</td>\n",
       "      <td>0.2654</td>\n",
       "      <td>0.4601</td>\n",
       "      <td>0.11890</td>\n",
       "    </tr>\n",
       "    <tr>\n",
       "      <th>1</th>\n",
       "      <td>1</td>\n",
       "      <td>20.57</td>\n",
       "      <td>17.77</td>\n",
       "      <td>132.90</td>\n",
       "      <td>1326.0</td>\n",
       "      <td>0.08474</td>\n",
       "      <td>0.07864</td>\n",
       "      <td>0.0869</td>\n",
       "      <td>0.07017</td>\n",
       "      <td>0.1812</td>\n",
       "      <td>...</td>\n",
       "      <td>24.99</td>\n",
       "      <td>23.41</td>\n",
       "      <td>158.80</td>\n",
       "      <td>1956.0</td>\n",
       "      <td>0.1238</td>\n",
       "      <td>0.1866</td>\n",
       "      <td>0.2416</td>\n",
       "      <td>0.1860</td>\n",
       "      <td>0.2750</td>\n",
       "      <td>0.08902</td>\n",
       "    </tr>\n",
       "    <tr>\n",
       "      <th>2</th>\n",
       "      <td>1</td>\n",
       "      <td>19.69</td>\n",
       "      <td>21.25</td>\n",
       "      <td>130.00</td>\n",
       "      <td>1203.0</td>\n",
       "      <td>0.10960</td>\n",
       "      <td>0.15990</td>\n",
       "      <td>0.1974</td>\n",
       "      <td>0.12790</td>\n",
       "      <td>0.2069</td>\n",
       "      <td>...</td>\n",
       "      <td>23.57</td>\n",
       "      <td>25.53</td>\n",
       "      <td>152.50</td>\n",
       "      <td>1709.0</td>\n",
       "      <td>0.1444</td>\n",
       "      <td>0.4245</td>\n",
       "      <td>0.4504</td>\n",
       "      <td>0.2430</td>\n",
       "      <td>0.3613</td>\n",
       "      <td>0.08758</td>\n",
       "    </tr>\n",
       "    <tr>\n",
       "      <th>3</th>\n",
       "      <td>1</td>\n",
       "      <td>11.42</td>\n",
       "      <td>20.38</td>\n",
       "      <td>77.58</td>\n",
       "      <td>386.1</td>\n",
       "      <td>0.14250</td>\n",
       "      <td>0.28390</td>\n",
       "      <td>0.2414</td>\n",
       "      <td>0.10520</td>\n",
       "      <td>0.2597</td>\n",
       "      <td>...</td>\n",
       "      <td>14.91</td>\n",
       "      <td>26.50</td>\n",
       "      <td>98.87</td>\n",
       "      <td>567.7</td>\n",
       "      <td>0.2098</td>\n",
       "      <td>0.8663</td>\n",
       "      <td>0.6869</td>\n",
       "      <td>0.2575</td>\n",
       "      <td>0.6638</td>\n",
       "      <td>0.17300</td>\n",
       "    </tr>\n",
       "    <tr>\n",
       "      <th>4</th>\n",
       "      <td>1</td>\n",
       "      <td>20.29</td>\n",
       "      <td>14.34</td>\n",
       "      <td>135.10</td>\n",
       "      <td>1297.0</td>\n",
       "      <td>0.10030</td>\n",
       "      <td>0.13280</td>\n",
       "      <td>0.1980</td>\n",
       "      <td>0.10430</td>\n",
       "      <td>0.1809</td>\n",
       "      <td>...</td>\n",
       "      <td>22.54</td>\n",
       "      <td>16.67</td>\n",
       "      <td>152.20</td>\n",
       "      <td>1575.0</td>\n",
       "      <td>0.1374</td>\n",
       "      <td>0.2050</td>\n",
       "      <td>0.4000</td>\n",
       "      <td>0.1625</td>\n",
       "      <td>0.2364</td>\n",
       "      <td>0.07678</td>\n",
       "    </tr>\n",
       "  </tbody>\n",
       "</table>\n",
       "<p>5 rows × 31 columns</p>\n",
       "</div>"
      ],
      "text/plain": [
       "   diagnosis  radius_mean  texture_mean  perimeter_mean  area_mean  \\\n",
       "0          1        17.99         10.38          122.80     1001.0   \n",
       "1          1        20.57         17.77          132.90     1326.0   \n",
       "2          1        19.69         21.25          130.00     1203.0   \n",
       "3          1        11.42         20.38           77.58      386.1   \n",
       "4          1        20.29         14.34          135.10     1297.0   \n",
       "\n",
       "   smoothness_mean  compactness_mean  concavity_mean  concave points_mean  \\\n",
       "0          0.11840           0.27760          0.3001              0.14710   \n",
       "1          0.08474           0.07864          0.0869              0.07017   \n",
       "2          0.10960           0.15990          0.1974              0.12790   \n",
       "3          0.14250           0.28390          0.2414              0.10520   \n",
       "4          0.10030           0.13280          0.1980              0.10430   \n",
       "\n",
       "   symmetry_mean  ...  radius_worst  texture_worst  perimeter_worst  \\\n",
       "0         0.2419  ...         25.38          17.33           184.60   \n",
       "1         0.1812  ...         24.99          23.41           158.80   \n",
       "2         0.2069  ...         23.57          25.53           152.50   \n",
       "3         0.2597  ...         14.91          26.50            98.87   \n",
       "4         0.1809  ...         22.54          16.67           152.20   \n",
       "\n",
       "   area_worst  smoothness_worst  compactness_worst  concavity_worst  \\\n",
       "0      2019.0            0.1622             0.6656           0.7119   \n",
       "1      1956.0            0.1238             0.1866           0.2416   \n",
       "2      1709.0            0.1444             0.4245           0.4504   \n",
       "3       567.7            0.2098             0.8663           0.6869   \n",
       "4      1575.0            0.1374             0.2050           0.4000   \n",
       "\n",
       "   concave points_worst  symmetry_worst  fractal_dimension_worst  \n",
       "0                0.2654          0.4601                  0.11890  \n",
       "1                0.1860          0.2750                  0.08902  \n",
       "2                0.2430          0.3613                  0.08758  \n",
       "3                0.2575          0.6638                  0.17300  \n",
       "4                0.1625          0.2364                  0.07678  \n",
       "\n",
       "[5 rows x 31 columns]"
      ]
     },
     "execution_count": 13,
     "metadata": {},
     "output_type": "execute_result"
    }
   ],
   "source": [
    "df.head()"
   ]
  },
  {
   "cell_type": "markdown",
   "metadata": {
    "id": "ADlZVMAPPFbY"
   },
   "source": [
    "Now, if you want to explore the data further, you can use other EDA techniques discussed in the Applied Data Science course to gain more insights.\n",
    "\n",
    "Next, let's move on to modeling. Follow the steps mentioned below to build a Logistic regression model.\n",
    "\n",
    "- The data is split into training and testing sets with an 80-20 split."
   ]
  },
  {
   "cell_type": "code",
   "execution_count": 14,
   "metadata": {
    "id": "ecK-JI6LYANU"
   },
   "outputs": [
    {
     "name": "stdout",
     "output_type": "stream",
     "text": [
      "Train set: (455, 30), (455,)\n",
      "Test set: (114, 30), (114,)\n",
      "Ratio of malignant in train set: diagnosis\n",
      "0    0.626374\n",
      "1    0.373626\n",
      "Name: count, dtype: float64\n",
      "Ratio of malignant in test set: diagnosis\n",
      "0    0.631579\n",
      "1    0.368421\n",
      "Name: count, dtype: float64\n",
      "Ratio of malignant in dataset: diagnosis\n",
      "0    0.627417\n",
      "1    0.372583\n",
      "Name: count, dtype: float64\n"
     ]
    }
   ],
   "source": [
    "## Split data into feature(x) and target(y)\n",
    "x = df.drop(\"diagnosis\",axis=1)\n",
    "y = df[\"diagnosis\"]\n",
    "\n",
    "# Split the dataset into training and testing sets\n",
    "x_train, x_test, y_train, y_test = train_test_split(x, y, test_size=0.2, random_state=42, stratify=y)\n",
    "print(f\"Train set: {x_train.shape}, {y_train.shape}\")\n",
    "print(f\"Test set: {x_test.shape}, {y_test.shape}\")\n",
    "print(f\"Ratio of malignant in train set: {y_train.value_counts() / len(y_train)}\")\n",
    "print(f\"Ratio of malignant in test set: {y_test.value_counts() / len(y_test)}\")\n",
    "print(f\"Ratio of malignant in dataset: {y.value_counts() / len(y)}\")"
   ]
  },
  {
   "cell_type": "markdown",
   "metadata": {
    "id": "QTI9STzDDNqT"
   },
   "source": [
    "Use `sklearn.pipeline` to streamline the preprocessing and training process\n",
    "   - The features in the training and testing sets are standardized to have a mean of 0 and standard deviation of 1.\n",
    "   - A logistic regression model is trained using the standardized training data."
   ]
  },
  {
   "cell_type": "code",
   "execution_count": 15,
   "metadata": {
    "executionInfo": {
     "elapsed": 159,
     "status": "ok",
     "timestamp": 1726685809363,
     "user": {
      "displayName": "Fabien Marpeau",
      "userId": "15210978490258687001"
     },
     "user_tz": 300
    },
    "id": "7eGQjcNTHqTT"
   },
   "outputs": [],
   "source": [
    "# Define the pipeline\n",
    "clf = Pipeline([\n",
    "    ('scaler', StandardScaler()),\n",
    "    ('logistic_regression', LogisticRegression(solver='liblinear', max_iter=100_000))\n",
    "]).fit(x_train, y_train)"
   ]
  },
  {
   "cell_type": "code",
   "execution_count": 16,
   "metadata": {
    "id": "bu4ExTK8C6kU"
   },
   "outputs": [],
   "source": [
    "# Predict on the training and testing set\n",
    "y_pred_train_log_reg = clf.predict(x_train) # Did traing go well?\n",
    "y_pred_test_log_reg = clf.predict(x_test) # Did testing go well?"
   ]
  },
  {
   "cell_type": "code",
   "execution_count": 17,
   "metadata": {
    "id": "qxx4IhvXgoz3"
   },
   "outputs": [],
   "source": [
    "# Predict probabilities on the testing set\n",
    "y_pred_test_prob_log_reg = clf.predict_proba(x_test)[:, 1]"
   ]
  },
  {
   "cell_type": "markdown",
   "metadata": {
    "id": "HacPrd7RKg_E"
   },
   "source": [
    "Create a DataFrame with actual labels, predicted scores, and predicted probabilities, for test data\n",
    "\n",
    "- The probabilities of the positive class (malignant) for the testing set are obtained, useful for further evaluation metrics like ROC-AUC.\n"
   ]
  },
  {
   "cell_type": "code",
   "execution_count": 18,
   "metadata": {
    "executionInfo": {
     "elapsed": 179,
     "status": "ok",
     "timestamp": 1726685821987,
     "user": {
      "displayName": "Fabien Marpeau",
      "userId": "15210978490258687001"
     },
     "user_tz": 300
    },
    "id": "yWUqXixTC6QF"
   },
   "outputs": [
    {
     "data": {
      "text/html": [
       "<div>\n",
       "<style scoped>\n",
       "    .dataframe tbody tr th:only-of-type {\n",
       "        vertical-align: middle;\n",
       "    }\n",
       "\n",
       "    .dataframe tbody tr th {\n",
       "        vertical-align: top;\n",
       "    }\n",
       "\n",
       "    .dataframe thead th {\n",
       "        text-align: right;\n",
       "    }\n",
       "</style>\n",
       "<table border=\"1\" class=\"dataframe\">\n",
       "  <thead>\n",
       "    <tr style=\"text-align: right;\">\n",
       "      <th></th>\n",
       "      <th>Actual Label</th>\n",
       "      <th>Predicted Label</th>\n",
       "      <th>Predicted Probability</th>\n",
       "    </tr>\n",
       "  </thead>\n",
       "  <tbody>\n",
       "    <tr>\n",
       "      <th>120</th>\n",
       "      <td>0</td>\n",
       "      <td>0</td>\n",
       "      <td>0.000375</td>\n",
       "    </tr>\n",
       "    <tr>\n",
       "      <th>250</th>\n",
       "      <td>1</td>\n",
       "      <td>1</td>\n",
       "      <td>1.000000</td>\n",
       "    </tr>\n",
       "    <tr>\n",
       "      <th>375</th>\n",
       "      <td>0</td>\n",
       "      <td>0</td>\n",
       "      <td>0.043002</td>\n",
       "    </tr>\n",
       "    <tr>\n",
       "      <th>99</th>\n",
       "      <td>1</td>\n",
       "      <td>1</td>\n",
       "      <td>0.579926</td>\n",
       "    </tr>\n",
       "    <tr>\n",
       "      <th>455</th>\n",
       "      <td>0</td>\n",
       "      <td>1</td>\n",
       "      <td>0.511326</td>\n",
       "    </tr>\n",
       "  </tbody>\n",
       "</table>\n",
       "</div>"
      ],
      "text/plain": [
       "     Actual Label  Predicted Label  Predicted Probability\n",
       "120             0                0               0.000375\n",
       "250             1                1               1.000000\n",
       "375             0                0               0.043002\n",
       "99              1                1               0.579926\n",
       "455             0                1               0.511326"
      ]
     },
     "execution_count": 18,
     "metadata": {},
     "output_type": "execute_result"
    }
   ],
   "source": [
    "results_df = pd.DataFrame({\n",
    "    'Actual Label': y_test,\n",
    "    'Predicted Label': y_pred_test_log_reg,\n",
    "    'Predicted Probability': y_pred_test_prob_log_reg\n",
    "})\n",
    "\n",
    "# Display the first 5 instances in the result dataframe\n",
    "results_df.head()"
   ]
  },
  {
   "cell_type": "code",
   "execution_count": 19,
   "metadata": {
    "executionInfo": {
     "elapsed": 186,
     "status": "ok",
     "timestamp": 1726685831433,
     "user": {
      "displayName": "Fabien Marpeau",
      "userId": "15210978490258687001"
     },
     "user_tz": 300
    },
    "id": "qrf4eI4fMFca"
   },
   "outputs": [
    {
     "name": "stdout",
     "output_type": "stream",
     "text": [
      "Logistic Regression\n",
      "Training Accuracy: 0.989010989010989\n",
      "Testing Accuracy: 0.9736842105263158\n"
     ]
    }
   ],
   "source": [
    "# Calculate the training and testing accuracy\n",
    "training_accuracy = accuracy_score(y_train, y_pred_train_log_reg)\n",
    "testing_accuracy = accuracy_score(y_test, y_pred_test_log_reg)\n",
    "\n",
    "print(\"Logistic Regression\")\n",
    "print(f\"Training Accuracy: {training_accuracy}\")\n",
    "print(f\"Testing Accuracy: {testing_accuracy}\")"
   ]
  },
  {
   "cell_type": "markdown",
   "metadata": {
    "id": "avzsDdKiNKcA"
   },
   "source": [
    "### __Observation:__\n",
    "\n",
    "- **Training Accuracy (98.68%):**\n",
    "\n",
    "  Indicates that the logistic regression model correctly classifies 98.68% of the training instances.\n",
    "  A high training accuracy suggests that the model has learned the patterns present in the training data well.\n",
    "\n",
    "- **Testing Accuracy (97.37%):**\n",
    "\n",
    "  This indicates that the model correctly classifies 97.37% of the instances in the test set, which was not seen during training.\n",
    "  High testing accuracy suggests that the model generalizes well to new, unseen data.\n",
    "\n",
    "- **Model Performance:**\n",
    "\n",
    "  Both training and testing accuracies are high, indicating good overall performance of the logistic regression model.\n",
    "  The slight drop from training to testing accuracy (from 98.68% to 97.37%) is expected and acceptable, showing that the model generalizes well without overfitting.\n",
    "\n",
    "- **Check for Overfitting:**\n",
    "\n",
    "  If the training accuracy were significantly higher than the testing accuracy, it would suggest overfitting. However, in this case, the difference is small, indicating that the model is not overfitting."
   ]
  },
  {
   "cell_type": "markdown",
   "metadata": {
    "id": "w60TqAhDLF9X"
   },
   "source": [
    " **Note:** Accuracy is a good starting point for evaluating a model, but it's important to understand that it doesn't tell the whole story. Let's introduce various other evaluation metrics that provide more detailed insights into the model's performance."
   ]
  },
  {
   "cell_type": "markdown",
   "metadata": {
    "id": "mzuA9HZecUzC"
   },
   "source": [
    "## __4.2 Performance Metrics Used in Classification__"
   ]
  },
  {
   "cell_type": "markdown",
   "metadata": {
    "id": "su3Xx9FHcU1i"
   },
   "source": [
    "A performance evaluation matrix, often referred to as a confusion matrix in the context of classification problems, is a tool used to assess the performance of a predictive model by comparing the actual outcomes with the predicted outcomes.\n",
    "\n",
    "- It is a tabular representation that allows you to visualize the accuracy and errors of the model in detail."
   ]
  },
  {
   "cell_type": "markdown",
   "metadata": {
    "id": "jC3siygWcU37"
   },
   "source": [
    "A confusion matrix is typically a 2x2 matrix as shown below:"
   ]
  },
  {
   "cell_type": "markdown",
   "metadata": {
    "id": "_9Xf2o2Hgk_I"
   },
   "source": [
    "![link text](https://cdn.prod.website-files.com/660ef16a9e0687d9cc27474a/662c42677529a0f4e97e4f96_644aea65cefe35380f198a5a_class_guide_cm08.png)"
   ]
  },
  {
   "cell_type": "markdown",
   "metadata": {
    "id": "DhL9YwwFj3wt"
   },
   "source": [
    "The matrix includes the following components:\n",
    "- **True Positive (TP):** The number of instances where the model correctly predicted the positive class.\n",
    "- **True Negative (TN):** The number of instances where the model correctly predicted the negative class.\n",
    "- **False Positive (FP):** The number of instances where the model incorrectly predicted the positive class (Type I error).\n",
    "- **False Negative (FN):** The number of instances where the model incorrectly predicted the negative class (Type II error)"
   ]
  },
  {
   "cell_type": "markdown",
   "metadata": {
    "id": "7V86O2BJg0wI"
   },
   "source": [
    "**Example:** Consider the example of testing a patient for the COVID-19 virus.\n"
   ]
  },
  {
   "cell_type": "markdown",
   "metadata": {
    "id": "-Nfz5jlAg0y7"
   },
   "source": [
    "![link text](https://cdn.prod.website-files.com/660ef16a9e0687d9cc27474a/662c42677529a0f4e97e4f96_644aea65cefe35380f198a5a_class_guide_cm08.png)"
   ]
  },
  {
   "cell_type": "markdown",
   "metadata": {
    "id": "A8jRu_7zg01h"
   },
   "source": [
    "The provided confusion matrix provides a summary of the effectiveness of COVID-19 tests that identify individuals with the virus and those without it.\n"
   ]
  },
  {
   "cell_type": "markdown",
   "metadata": {
    "id": "VrqHk7KLg043"
   },
   "source": [
    "Let us compare the patient’s test result to the terms used in the confusion matrix.\n"
   ]
  },
  {
   "cell_type": "markdown",
   "metadata": {
    "id": "m5lXzsS4g08x"
   },
   "source": [
    "- **True Positive (TP):** The case is correctly classified as positive. (The test result and the patient's condition match.)\n",
    "\n",
    "  eg. The model predicts that a patient has COVID and the test result confirms that the patient has the disease, it's a true positive.\n",
    "\n",
    "\n",
    "- **True Negative (TN):** The case is correctly classified as negative. (The test result and the patient's condition match.)\n",
    "\n",
    "  eg. The model predicts that a patient does not have COVID and the test result confirms that the patient does not have the disease, it's a true negative.\n",
    "\n",
    "\n",
    "- **False Positive (FP):** The case is actually negative but is falsely classified as positive. (The result from the test and the patient's condition do not match.)\n",
    "\n",
    "  eg. The model predicts that a patient has COVID but the test results confirm that patient does not have the disease, it's a false positive.\n",
    "\n",
    "\n",
    "- **False Negative (FN):** The case is actually positive but is falsely classified as negative.\n",
    "\n",
    "  eg. The model predicts that a patient does not have COVID but the test results confirm that patient actually has the disease, it's a false negative.\n",
    "\n",
    "\n",
    "\n"
   ]
  },
  {
   "cell_type": "markdown",
   "metadata": {
    "id": "Sw8UxSmHoDRD"
   },
   "source": [
    "### __4.2.1 Significance of the Confusion Matrix__"
   ]
  },
  {
   "cell_type": "markdown",
   "metadata": {
    "id": "GZpxB98Lg1AN"
   },
   "source": [
    "The confusion matrix provides the foundation for various evaluation metrics, which are crucial for understanding different aspects of model performance. These metrics include:\n",
    "\n",
    "- Accuracy\n",
    "- Precision\n",
    "- Recall(Sensitivity or True Positive Rate)\n",
    "- F1 Score\n",
    "- Specificity(True Negative Rate)"
   ]
  },
  {
   "cell_type": "markdown",
   "metadata": {
    "id": "jwYIHm5RiTjH"
   },
   "source": [
    "### __Accuracy__"
   ]
  },
  {
   "cell_type": "markdown",
   "metadata": {
    "id": "l62S0aGPiTlq"
   },
   "source": [
    "The ratio of correctly predicted instances (both positive and negative) to the total instances.\n"
   ]
  },
  {
   "cell_type": "markdown",
   "metadata": {
    "id": "7NtO-q42iToC"
   },
   "source": [
    "  $$\n",
    "   \\text{Accuracy} = \\frac{TP + TN}{TP + TN + FP + FN}\n",
    "  $$\n",
    "\n",
    "\n",
    "Where:\n",
    "   - \\(TP\\) = True Positives\n",
    "   - \\(TN\\) = True Negatives\n",
    "   - \\(FP\\) = False Positives\n",
    "   - \\(FN\\) = False Negatives"
   ]
  },
  {
   "cell_type": "markdown",
   "metadata": {
    "id": "u2-v8efLjp-4"
   },
   "source": [
    "### __Precision__"
   ]
  },
  {
   "cell_type": "markdown",
   "metadata": {
    "id": "-hKwERttjqBe"
   },
   "source": [
    "The ratio of correctly predicted positive instances to the total predicted positive instances.\n",
    "- It indicates the quality of positive predictions.\n",
    "- It is a performance metric used for pattern recognition and classification in machine learning.\n",
    "- It is a good metric when the cost of a false positive is high.\n",
    "- Probability that randomly selected individual is positive give that individual tests positive\n"
   ]
  },
  {
   "cell_type": "markdown",
   "metadata": {
    "id": "9LJsX3hijqHZ"
   },
   "source": [
    "   $$\n",
    "   \\text{Precision} = \\frac{TP}{TP + FP}\n",
    "   $$"
   ]
  },
  {
   "cell_type": "markdown",
   "metadata": {
    "id": "e3-kvsUijqMM"
   },
   "source": [
    "### __Recall (Sensitivity or True Positive Rate)__\n"
   ]
  },
  {
   "cell_type": "markdown",
   "metadata": {
    "id": "AP0-8OIRjqPT"
   },
   "source": [
    "The ratio of correctly predicted positive instances to all actual positive instances.\n",
    "\n",
    "- It measures the model's ability to detect positive samples. The higher the recall, the more positive samples it detects.\n",
    "- It is a very useful metric when the cost of a false negative is high.\n",
    "- Probability tha a individual is correctly predicted postive among actual positive individual\n"
   ]
  },
  {
   "cell_type": "markdown",
   "metadata": {
    "id": "iGHWLYAWkzbl"
   },
   "source": [
    "   $$\n",
    "   \\text{Recall} = \\frac{TP}{TP + FN}\n",
    "   $$"
   ]
  },
  {
   "cell_type": "markdown",
   "metadata": {
    "id": "Mk20rH7bxGr7"
   },
   "source": [
    "### __F1 Score__\n",
    "\n",
    "The harmonic mean of precision and recall. It provides a single metric that balances the trade-off between precision and recall.\n",
    "\n",
    "$$\n",
    "\\text{F1 Score} = 2 \\times \\frac{\\text{Precision} \\times \\text{Recall}}{\\text{Precision} + \\text{Recall}}\n",
    "$$"
   ]
  },
  {
   "cell_type": "markdown",
   "metadata": {
    "id": "SdN7-DtVkzhH"
   },
   "source": [
    "### __Specificity (True Negative Rate)__\n",
    "\n",
    "The ratio of correctly predicted negative instances to all actual negative instances.\n",
    "- It indicates how well the model can identify negative instances."
   ]
  },
  {
   "cell_type": "markdown",
   "metadata": {
    "id": "lfdPTG_7kzm0"
   },
   "source": [
    "   $$\n",
    "   \\text{Specificity} = \\frac{TN}{TN + FP}\n",
    "   $$"
   ]
  },
  {
   "cell_type": "code",
   "execution_count": 25,
   "metadata": {},
   "outputs": [
    {
     "data": {
      "text/plain": [
       "<sklearn.metrics._plot.confusion_matrix.ConfusionMatrixDisplay at 0x12461cb00>"
      ]
     },
     "execution_count": 25,
     "metadata": {},
     "output_type": "execute_result"
    },
    {
     "data": {
      "image/png": "[encoded data removed]",
      "text/plain": [
       "<Figure size 640x480 with 2 Axes>"
      ]
     },
     "metadata": {},
     "output_type": "display_data"
    }
   ],
   "source": [
    "# Compute scores for the test set\n",
    "from sklearn import metrics\n",
    "\n",
    "# Plot the confusion matrix\n",
    "confusion = metrics.confusion_matrix(y_test, y_pred_test_log_reg)\n",
    "cm_display = metrics.ConfusionMatrixDisplay(confusion,\n",
    "                                            display_labels=[\"Benign\", \"Malignment\"])\n",
    "cm_display.plot()"
   ]
  },
  {
   "cell_type": "code",
   "execution_count": 27,
   "metadata": {
    "id": "aKFquUAxf4tN"
   },
   "outputs": [
    {
     "name": "stdout",
     "output_type": "stream",
     "text": [
      "Accuracy score: 0.9736842105263158\n",
      "Precision score: 0.975609756097561\n",
      "Recall score: 0.9523809523809523\n",
      "F1 score: 0.963855421686747\n"
     ]
    }
   ],
   "source": [
    "\n",
    "accuracy = metrics.accuracy_score(y_test, y_pred_test_log_reg)\n",
    "print(\"Accuracy score:\", accuracy)\n",
    "precision = metrics.precision_score(y_test, y_pred_test_log_reg)\n",
    "print(\"Precision score:\",precision)\n",
    "recall = metrics.recall_score(y_test, y_pred_test_log_reg)\n",
    "print(\"Recall score:\",recall)\n",
    "f1 = metrics.f1_score(y_test, y_pred_test_log_reg)\n",
    "print(\"F1 score:\",f1)"
   ]
  },
  {
   "cell_type": "code",
   "execution_count": 28,
   "metadata": {},
   "outputs": [
    {
     "name": "stdout",
     "output_type": "stream",
     "text": [
      "              precision    recall  f1-score   support\n",
      "\n",
      "      Benign       0.97      0.99      0.98        72\n",
      "  Malignment       0.98      0.95      0.96        42\n",
      "\n",
      "    accuracy                           0.97       114\n",
      "   macro avg       0.97      0.97      0.97       114\n",
      "weighted avg       0.97      0.97      0.97       114\n",
      "\n"
     ]
    }
   ],
   "source": [
    "print(metrics.classification_report(y_test, y_pred_test_log_reg,\n",
    "                                    target_names=[\"Benign\", \"Malignment\"]))"
   ]
  },
  {
   "cell_type": "markdown",
   "metadata": {
    "id": "-zRBGiVWAnBv"
   },
   "source": [
    "###__ROC Curve__"
   ]
  },
  {
   "cell_type": "markdown",
   "metadata": {
    "id": "C6dVYKiL_ecs"
   },
   "source": [
    "An ROC curve is a graphical representation of a classification model’s performance across different classification thresholds. It plots the True Positive Rate (Recall) against the False Positive Rate (FPR) at various threshold settings.\n",
    "\n",
    "True Positive Rate (TPR) or Recall:\n",
    "$$ \\text{TPR} = \\frac{TP}{TP + FN} $$\n",
    "\n",
    "\n",
    "False Positive Rate (FPR):\n",
    "\n",
    "$$\\text{FPR} = \\frac{\\text{FP}}{\\text{FP} + \\text{TN}}$$\n",
    "\n",
    "\n",
    "**Finding the Optimal Threshold:**\n",
    "\n",
    "The default threshold for many classification algorithms is 0.5, meaning if the predicted probability is greater than 0.5, the instance is classified as positive. However, this threshold may not always be optimal, especially in cases with skewed class distributions or when the costs of false positives and false negatives are unequal.\n",
    "\n",
    "**Methods to Find the Optimal Threshold:**\n",
    "\n",
    "1. *Maximizing Youden’s J Statistic*:\n",
    "\n",
    "  Youden's J statistic is defined as\n",
    "  $J=TPR−FPR$. The optimal threshold is where this statistic is maximized. This method balances the TPR and FPR, aiming to maximize the true positives while minimizing the false positives.\n",
    "\n",
    "2. *Closest Point to (0, 1)*:\n",
    "\n",
    "  Another method is to find the point on the ROC curve that is closest to the top-left corner (0, 1), representing the ideal classifier with TPR = 1 and FPR = 0.\n",
    "\n",
    "\n"
   ]
  },
  {
   "cell_type": "markdown",
   "metadata": {
    "id": "uEQk83tFC69s"
   },
   "source": [
    "### __AUC (Area Under the ROC Curve)__"
   ]
  },
  {
   "cell_type": "markdown",
   "metadata": {
    "id": "7b-MDMU6CfYH"
   },
   "source": [
    "The AUC is a single scalar value that summarizes the overall performance of a classifier.\n",
    "\n",
    "AUC Value:\n",
    "- An AUC of 0.5 suggests no discrimination, meaning the model performs no better than random chance.\n",
    "- An AUC of 1.0 indicates perfect discrimination, meaning the model perfectly distinguishes between positive and negative classes."
   ]
  },
  {
   "cell_type": "markdown",
   "metadata": {
    "id": "oG_PdhxND1iQ"
   },
   "source": [
    "Lets derive the confusion matrix and ROC-AUC for the Logistic regression and understand more about the performance of the model:"
   ]
  },
  {
   "cell_type": "code",
   "execution_count": 29,
   "metadata": {
    "executionInfo": {
     "elapsed": 154,
     "status": "ok",
     "timestamp": 1726685933869,
     "user": {
      "displayName": "Fabien Marpeau",
      "userId": "15210978490258687001"
     },
     "user_tz": 300
    },
    "id": "T65_a7dFEf7I"
   },
   "outputs": [
    {
     "name": "stdout",
     "output_type": "stream",
     "text": [
      "Confusion Matrix:\n",
      "[[71  1]\n",
      " [ 2 40]]\n"
     ]
    },
    {
     "data": {
      "image/png": "[encoded data removed]",
      "text/plain": [
       "<Figure size 640x480 with 2 Axes>"
      ]
     },
     "metadata": {},
     "output_type": "display_data"
    }
   ],
   "source": [
    "# Print confusion matrix\n",
    "from sklearn.metrics import classification_report, confusion_matrix, roc_curve, auc\n",
    "from sklearn.metrics import ConfusionMatrixDisplay\n",
    "\n",
    "conf_matrix = confusion_matrix(y_test, y_pred_test_log_reg)\n",
    "print(\"Confusion Matrix:\")\n",
    "print(conf_matrix)\n",
    "\n",
    "# Heatmap visualization for confusion matrix\n",
    "cm_display = ConfusionMatrixDisplay(confusion_matrix = conf_matrix, display_labels = [\"benign\", \"malignant\"])\n",
    "\n",
    "# display matrix\n",
    "cm_display.plot()\n",
    "plt.show()\n"
   ]
  },
  {
   "cell_type": "markdown",
   "metadata": {
    "id": "G0sd1LgBaV-l"
   },
   "source": [
    "### __Observation__\n",
    "\n",
    "**True Positives (TP):** The model correctly predicted 41 instances as \"malignant\" when they were indeed malignant. This indicates that there were 41 true positive predictions.\n",
    "\n",
    "**True Negatives (TN):** The model correctly predicted 70 instances as \"benign\" when they were indeed benign. This shows 70 true negative predictions.\n",
    "\n",
    "**False Positives (FP):** The model incorrectly predicted 1 instance as \"malignant\" when it was actually benign. This is a false positive, also known as a Type I error.\n",
    "\n",
    "**False Negatives (FN):** The model incorrectly predicted 2 instances as \"benign\" when they were actually malignant. This is a false negative, also known as a Type II error."
   ]
  },
  {
   "cell_type": "markdown",
   "metadata": {
    "id": "QNke5vZzZysE"
   },
   "source": [
    "The classification report provides detailed metrics such as `precision`, `recall`, `F1-score`, and `support` for each class"
   ]
  },
  {
   "cell_type": "code",
   "execution_count": 30,
   "metadata": {
    "executionInfo": {
     "elapsed": 151,
     "status": "ok",
     "timestamp": 1726685950023,
     "user": {
      "displayName": "Fabien Marpeau",
      "userId": "15210978490258687001"
     },
     "user_tz": 300
    },
    "id": "-p0MP0wtYoqo"
   },
   "outputs": [
    {
     "name": "stdout",
     "output_type": "stream",
     "text": [
      "\t\tLogistic Regression Classification Report:\n",
      "\t\t-----------------------------------------\n",
      "              precision    recall  f1-score   support\n",
      "\n",
      "           0       0.97      0.99      0.98        72\n",
      "           1       0.98      0.95      0.96        42\n",
      "\n",
      "    accuracy                           0.97       114\n",
      "   macro avg       0.97      0.97      0.97       114\n",
      "weighted avg       0.97      0.97      0.97       114\n",
      "\n"
     ]
    }
   ],
   "source": [
    "# Print classification report\n",
    "print(\"\\t\\tLogistic Regression Classification Report:\")\n",
    "print(\"\\t\\t-----------------------------------------\")\n",
    "print(classification_report(y_test, y_pred_test_log_reg))"
   ]
  },
  {
   "cell_type": "markdown",
   "metadata": {
    "id": "iGFg2l-tiBP1"
   },
   "source": [
    "**Logistic Regression Classification Report**\n",
    "\n",
    "**Class 0 (Negative Class)**\n",
    "\n",
    "- **Precision: 0.97**\n",
    "\n",
    "  97% of the instances predicted as class 0 are actually class 0.\n",
    "\n",
    "- **Recall: 0.99**\n",
    "\n",
    "  99% of the actual class 0 instances are correctly predicted as class 0.\n",
    "\n",
    "- **F1-Score: 0.98**\n",
    "\n",
    "  The F1-score is the harmonic mean of precision and recall, providing a balance between the two metrics. Here, the F1-score is 0.98, indicating excellent performance.\n",
    "\n",
    "- **Support: 71**\n",
    "\n",
    "  There are 71 actual instances of class 0 in the test set.\n",
    "\n",
    "**Class 1 (Positive Class)**\n",
    "\n",
    "- **Precision: 0.98**\n",
    "\n",
    "  98% of the instances predicted as class 1 are actually class 1.\n",
    "\n",
    "- **Recall: 0.95**\n",
    "\n",
    "  95% of the actual class 1 instances are correctly predicted as class 1.\n",
    "\n",
    "- **F1-Score: 0.96**\n",
    "\n",
    "  The F1-score for class 1 is 0.96, indicating very good performance.\n",
    "\n",
    "- **Support: 43**\n",
    "\n",
    "  There are 43 actual instances of class 1 in the test set.\n",
    "\n",
    "**Overall Metrics**\n",
    "\n",
    "- **Accuracy: 0.97**\n",
    "\n",
    "  The overall accuracy of the model, indicating that 97% of the total instances are correctly classified.\n",
    "\n",
    "- **Macro Average**\n",
    "\n",
    "  Macro average calculates the metric independently for each class and then takes the average, treating all classes equally. It is useful when you have imbalanced classes.\n",
    "\n",
    "  **Precision: 0.97**  \n",
    "  **Recall: 0.97**  \n",
    "  **F1-Score: 0.97**\n",
    "\n",
    "- **Weighted Average**\n",
    "\n",
    "  Weighted average takes into account the support (the number of true instances for each class) to calculate the average. It is more representative of the performance on imbalanced datasets.\n",
    "\n",
    "  **Precision: 0.97**  \n",
    "  **Recall: 0.97**  \n",
    "  **F1-Score: 0.97**\n"
   ]
  },
  {
   "cell_type": "markdown",
   "metadata": {
    "id": "yo7x-cmEd0CL"
   },
   "source": [
    "**Plot the ROC curve**\n",
    "- The ROC curve shows the trade-off between true positive rate and false positive rate at various threshold settings. The AUC value indicates the model's ability to discriminate between positive and negative classes.\n",
    "\n",
    "**Parameters used in plotting the ROC curve:**\n",
    "\n",
    "`plt.figure(figsize=(8, 6))`: Creates a new figure of size 8x6 inches.\n",
    "\n",
    "`plt.plot(fpr, tpr, ...)`: Plots the ROC curve with FPR on the x-axis and TPR on the y-axis. The curve is blue with a line width of 2.\n",
    "\n",
    "`plt.plot([0, 1], [0, 1], ...)`: Plots a grey dashed diagonal line as a reference, representing a random classifier with no discrimination capability (AUC = 0.5).\n",
    "\n",
    "`plt.xlim([0.0, 1.0])` and `plt.ylim([0.0, 1.05])`: Sets the limits for the x and y axes.\n",
    "\n",
    "`plt.xlabel('False Positive Rate')` and `plt.ylabel('True Positive Rate')`: Labels the axes.\n",
    "\n",
    "`plt.title('Receiver Operating Characteristic (ROC) Curve')`: Sets the plot title.\n",
    "\n",
    "`plt.legend(loc='lower right')`: Adds a legend to the plot at the lower right corner, displaying the AUC value.\n",
    "\n",
    "`plt.show()`: Displays the plot."
   ]
  },
  {
   "cell_type": "code",
   "execution_count": 38,
   "metadata": {
    "executionInfo": {
     "elapsed": 174,
     "status": "ok",
     "timestamp": 1726686004430,
     "user": {
      "displayName": "Fabien Marpeau",
      "userId": "15210978490258687001"
     },
     "user_tz": 300
    },
    "id": "O3H4WTPfdptN"
   },
   "outputs": [
    {
     "name": "stdout",
     "output_type": "stream",
     "text": [
      "Optimal Threshold: 0.3206\n"
     ]
    },
    {
     "data": {
      "image/png": "[encoded data removed]",
      "text/plain": [
       "<Figure size 800x600 with 1 Axes>"
      ]
     },
     "metadata": {},
     "output_type": "display_data"
    }
   ],
   "source": [
    "# Compute the false positive rate (fpr), true positive rate (tpr), and thresholds for different thresholds\n",
    "fpr, tpr, thresholds = roc_curve(y_test, y_pred_test_prob_log_reg, drop_intermediate=False)\n",
    "\n",
    "# Compute the Area Under the Curve (AUC) for the ROC curve\n",
    "roc_auc = auc(fpr, tpr)\n",
    "\n",
    "# Compute Youden's J statistic for each threshold\n",
    "youden_j = tpr - fpr\n",
    "optimal_threshold_index = np.argmax(youden_j)\n",
    "optimal_threshold = thresholds[optimal_threshold_index]\n",
    "\n",
    "print(f\"Optimal Threshold: {optimal_threshold:.4f}\")\n",
    "\n",
    "# Plot the ROC curve with the optimal threshold marked\n",
    "plt.figure(figsize=(8, 6))\n",
    "plt.plot(fpr, tpr, color='blue', lw=2, label=f'ROC curve (area = {roc_auc:.2f})')\n",
    "plt.scatter(fpr[optimal_threshold_index], tpr[optimal_threshold_index], color='red', marker='o', label=f'Optimal Threshold = {optimal_threshold:.4f}')\n",
    "plt.plot([0, 1], [0, 1], color='grey', lw=2, linestyle='--')\n",
    "plt.xlim([0.0, 1.0])\n",
    "plt.ylim([0.0, 1.05])\n",
    "plt.xlabel('False Positive Rate')\n",
    "plt.ylabel('True Positive Rate')\n",
    "plt.title('Receiver Operating Characteristic (ROC) Curve')\n",
    "plt.legend(loc='lower right')\n",
    "plt.show()"
   ]
  },
  {
   "cell_type": "markdown",
   "metadata": {
    "id": "4kQKY0Chm7a9"
   },
   "source": [
    "### __Observation:__\n",
    "\n",
    "- The ROC curve in the image reaches the top-left corner (TPR = 1, FPR = 0), which indicates a perfect classification performance. The model perfectly distinguishes between the positive and negative classes at various threshold settings.\n",
    "\n",
    "- The ROC curve for the logistic regression model has AUC of 1.00. This indicates that the model has perfect discriminatory power. An AUC of 1 means the model correctly classifies all positive and negative instances without error.\n",
    "\n",
    "- The Optimal threshold of 0.4867 defines the decision boundary for the classifier. Probabilities above this value indicate a stronger belief that an instance belongs to the positive class, whereas probabilities below this value indicate a stronger belief that an instance belongs to the negative class."
   ]
  },
  {
   "cell_type": "code",
   "execution_count": 54,
   "metadata": {},
   "outputs": [
    {
     "data": {
      "image/png": "[encoded data removed]",
      "text/plain": [
       "<Figure size 800x600 with 1 Axes>"
      ]
     },
     "metadata": {},
     "output_type": "display_data"
    }
   ],
   "source": [
    "# Plot the precision-recall cuver for it\n",
    "precision, recall, thresholds = metrics.precision_recall_curve(\n",
    "    y_test, y_pred_test_prob_log_reg)\n",
    "plt.figure(figsize=(8,6))\n",
    "plt.plot(thresholds, precision[1:], c=\"b\", label=\"precision\")\n",
    "plt.plot(thresholds, recall[1:], c=\"r\", label=\"recall\")\n",
    "plt.legend(loc=\"right\")\n",
    "plt.xlabel(\"Threshold\")\n",
    "plt.ylabel(\"precision\")\n",
    "plt.grid(True)"
   ]
  },
  {
   "cell_type": "code",
   "execution_count": 55,
   "metadata": {},
   "outputs": [
    {
     "data": {
      "image/png": "[encoded data removed]",
      "text/plain": [
       "<Figure size 800x600 with 1 Axes>"
      ]
     },
     "metadata": {},
     "output_type": "display_data"
    }
   ],
   "source": [
    "# Plot precision-recall curve\n",
    "plt.figure(figsize=(8,6))\n",
    "plt.plot(recall, precision, c=\"b\", label=\"precision-recall curve\")\n",
    "plt.xlabel(\"recall\")\n",
    "plt.ylabel(\"precision\")\n",
    "plt.legend(loc=\"right\")\n",
    "plt.grid(True)"
   ]
  },
  {
   "cell_type": "markdown",
   "metadata": {
    "id": "j40wMUaPFcRe"
   },
   "source": [
    "## __4.3 Naive Bayes Classifier__"
   ]
  },
  {
   "cell_type": "markdown",
   "metadata": {
    "id": "qLQfGuLvFcRm"
   },
   "source": [
    "- Naive Bayes is a probabilistic classifier based on Bayes' Theorem. Naive Bayes is called naive because it assumes that the input variables are independent of each other. This is a strong assumption and unrealistic for real data.\n",
    "\n",
    "- It is particularly suited for large datasets and is widely used for binary and multi-class classification tasks.\n",
    "\n",
    "- It is widely used for text classification, sentiment analysis, etc."
   ]
  },
  {
   "cell_type": "markdown",
   "metadata": {
    "id": "H7BoicyzFcRn"
   },
   "source": [
    "### **4.3.1 Mathematical Concept of Naive Bayes:**"
   ]
  },
  {
   "cell_type": "markdown",
   "metadata": {
    "id": "ei8r-zQnFcRn"
   },
   "source": [
    "**1. Bayes' Theorem:**\n",
    "Naive Bayes relies on Bayes' Theorem, which states"
   ]
  },
  {
   "cell_type": "markdown",
   "metadata": {
    "id": "kdux9oYAFcRn"
   },
   "source": [
    "$$ P(A|B) = \\frac{P(B|A) \\times P(A)}{P(B)} $$\n"
   ]
  },
  {
   "cell_type": "markdown",
   "metadata": {
    "id": "FVEdFoFCFcRn"
   },
   "source": [
    "P(A), P(B) are the independent probabilities of A and B\n",
    "\n",
    "P(B|A) is the probability of B given A\n",
    "\n",
    "P(A|B) is the probability of A given B\n",
    "\n"
   ]
  },
  {
   "cell_type": "markdown",
   "metadata": {
    "id": "06zRPulpFcRo"
   },
   "source": [
    "\n",
    "**Bayes' theorem:** It calculates the probability of an event occurring, given that another event has already taken place."
   ]
  },
  {
   "cell_type": "markdown",
   "metadata": {
    "id": "GbAvC_L-FcRo"
   },
   "source": [
    "### __4.3.2 Applying Naive Bayes Algorithm on Breast Cancer Dataset__\n",
    "\n"
   ]
  },
  {
   "cell_type": "markdown",
   "metadata": {
    "id": "C7RmF1gp1p2k"
   },
   "source": [
    "`x_train`, `y_train`, `x_test` and `y_test` are taken from the previous data split done on Breast cancer dataset"
   ]
  },
  {
   "cell_type": "markdown",
   "metadata": {
    "id": "0K5fUqi24lYX"
   },
   "source": [
    "Use `sklearn.pipeline` to perform preprocessing and training on the data"
   ]
  },
  {
   "cell_type": "code",
   "execution_count": 58,
   "metadata": {},
   "outputs": [
    {
     "data": {
      "text/html": [
       "<div>\n",
       "<style scoped>\n",
       "    .dataframe tbody tr th:only-of-type {\n",
       "        vertical-align: middle;\n",
       "    }\n",
       "\n",
       "    .dataframe tbody tr th {\n",
       "        vertical-align: top;\n",
       "    }\n",
       "\n",
       "    .dataframe thead th {\n",
       "        text-align: right;\n",
       "    }\n",
       "</style>\n",
       "<table border=\"1\" class=\"dataframe\">\n",
       "  <thead>\n",
       "    <tr style=\"text-align: right;\">\n",
       "      <th></th>\n",
       "      <th>radius_mean</th>\n",
       "      <th>texture_mean</th>\n",
       "      <th>perimeter_mean</th>\n",
       "      <th>area_mean</th>\n",
       "      <th>smoothness_mean</th>\n",
       "      <th>compactness_mean</th>\n",
       "      <th>concavity_mean</th>\n",
       "      <th>concave points_mean</th>\n",
       "      <th>symmetry_mean</th>\n",
       "      <th>fractal_dimension_mean</th>\n",
       "      <th>...</th>\n",
       "      <th>radius_worst</th>\n",
       "      <th>texture_worst</th>\n",
       "      <th>perimeter_worst</th>\n",
       "      <th>area_worst</th>\n",
       "      <th>smoothness_worst</th>\n",
       "      <th>compactness_worst</th>\n",
       "      <th>concavity_worst</th>\n",
       "      <th>concave points_worst</th>\n",
       "      <th>symmetry_worst</th>\n",
       "      <th>fractal_dimension_worst</th>\n",
       "    </tr>\n",
       "  </thead>\n",
       "  <tbody>\n",
       "    <tr>\n",
       "      <th>10</th>\n",
       "      <td>16.02</td>\n",
       "      <td>23.24</td>\n",
       "      <td>102.70</td>\n",
       "      <td>797.8</td>\n",
       "      <td>0.08206</td>\n",
       "      <td>0.06669</td>\n",
       "      <td>0.03299</td>\n",
       "      <td>0.03323</td>\n",
       "      <td>0.1528</td>\n",
       "      <td>0.05697</td>\n",
       "      <td>...</td>\n",
       "      <td>19.19</td>\n",
       "      <td>33.88</td>\n",
       "      <td>123.80</td>\n",
       "      <td>1150.0</td>\n",
       "      <td>0.11810</td>\n",
       "      <td>0.1551</td>\n",
       "      <td>0.1459</td>\n",
       "      <td>0.09975</td>\n",
       "      <td>0.2948</td>\n",
       "      <td>0.08452</td>\n",
       "    </tr>\n",
       "    <tr>\n",
       "      <th>170</th>\n",
       "      <td>12.32</td>\n",
       "      <td>12.39</td>\n",
       "      <td>78.85</td>\n",
       "      <td>464.1</td>\n",
       "      <td>0.10280</td>\n",
       "      <td>0.06981</td>\n",
       "      <td>0.03987</td>\n",
       "      <td>0.03700</td>\n",
       "      <td>0.1959</td>\n",
       "      <td>0.05955</td>\n",
       "      <td>...</td>\n",
       "      <td>13.50</td>\n",
       "      <td>15.64</td>\n",
       "      <td>86.97</td>\n",
       "      <td>549.1</td>\n",
       "      <td>0.13850</td>\n",
       "      <td>0.1266</td>\n",
       "      <td>0.1242</td>\n",
       "      <td>0.09391</td>\n",
       "      <td>0.2827</td>\n",
       "      <td>0.06771</td>\n",
       "    </tr>\n",
       "    <tr>\n",
       "      <th>407</th>\n",
       "      <td>12.85</td>\n",
       "      <td>21.37</td>\n",
       "      <td>82.63</td>\n",
       "      <td>514.5</td>\n",
       "      <td>0.07551</td>\n",
       "      <td>0.08316</td>\n",
       "      <td>0.06126</td>\n",
       "      <td>0.01867</td>\n",
       "      <td>0.1580</td>\n",
       "      <td>0.06114</td>\n",
       "      <td>...</td>\n",
       "      <td>14.40</td>\n",
       "      <td>27.01</td>\n",
       "      <td>91.63</td>\n",
       "      <td>645.8</td>\n",
       "      <td>0.09402</td>\n",
       "      <td>0.1936</td>\n",
       "      <td>0.1838</td>\n",
       "      <td>0.05601</td>\n",
       "      <td>0.2488</td>\n",
       "      <td>0.08151</td>\n",
       "    </tr>\n",
       "    <tr>\n",
       "      <th>430</th>\n",
       "      <td>14.90</td>\n",
       "      <td>22.53</td>\n",
       "      <td>102.10</td>\n",
       "      <td>685.0</td>\n",
       "      <td>0.09947</td>\n",
       "      <td>0.22250</td>\n",
       "      <td>0.27330</td>\n",
       "      <td>0.09711</td>\n",
       "      <td>0.2041</td>\n",
       "      <td>0.06898</td>\n",
       "      <td>...</td>\n",
       "      <td>16.35</td>\n",
       "      <td>27.57</td>\n",
       "      <td>125.40</td>\n",
       "      <td>832.7</td>\n",
       "      <td>0.14190</td>\n",
       "      <td>0.7090</td>\n",
       "      <td>0.9019</td>\n",
       "      <td>0.24750</td>\n",
       "      <td>0.2866</td>\n",
       "      <td>0.11550</td>\n",
       "    </tr>\n",
       "    <tr>\n",
       "      <th>27</th>\n",
       "      <td>18.61</td>\n",
       "      <td>20.25</td>\n",
       "      <td>122.10</td>\n",
       "      <td>1094.0</td>\n",
       "      <td>0.09440</td>\n",
       "      <td>0.10660</td>\n",
       "      <td>0.14900</td>\n",
       "      <td>0.07731</td>\n",
       "      <td>0.1697</td>\n",
       "      <td>0.05699</td>\n",
       "      <td>...</td>\n",
       "      <td>21.31</td>\n",
       "      <td>27.26</td>\n",
       "      <td>139.90</td>\n",
       "      <td>1403.0</td>\n",
       "      <td>0.13380</td>\n",
       "      <td>0.2117</td>\n",
       "      <td>0.3446</td>\n",
       "      <td>0.14900</td>\n",
       "      <td>0.2341</td>\n",
       "      <td>0.07421</td>\n",
       "    </tr>\n",
       "  </tbody>\n",
       "</table>\n",
       "<p>5 rows × 30 columns</p>\n",
       "</div>"
      ],
      "text/plain": [
       "     radius_mean  texture_mean  perimeter_mean  area_mean  smoothness_mean  \\\n",
       "10         16.02         23.24          102.70      797.8          0.08206   \n",
       "170        12.32         12.39           78.85      464.1          0.10280   \n",
       "407        12.85         21.37           82.63      514.5          0.07551   \n",
       "430        14.90         22.53          102.10      685.0          0.09947   \n",
       "27         18.61         20.25          122.10     1094.0          0.09440   \n",
       "\n",
       "     compactness_mean  concavity_mean  concave points_mean  symmetry_mean  \\\n",
       "10            0.06669         0.03299              0.03323         0.1528   \n",
       "170           0.06981         0.03987              0.03700         0.1959   \n",
       "407           0.08316         0.06126              0.01867         0.1580   \n",
       "430           0.22250         0.27330              0.09711         0.2041   \n",
       "27            0.10660         0.14900              0.07731         0.1697   \n",
       "\n",
       "     fractal_dimension_mean  ...  radius_worst  texture_worst  \\\n",
       "10                  0.05697  ...         19.19          33.88   \n",
       "170                 0.05955  ...         13.50          15.64   \n",
       "407                 0.06114  ...         14.40          27.01   \n",
       "430                 0.06898  ...         16.35          27.57   \n",
       "27                  0.05699  ...         21.31          27.26   \n",
       "\n",
       "     perimeter_worst  area_worst  smoothness_worst  compactness_worst  \\\n",
       "10            123.80      1150.0           0.11810             0.1551   \n",
       "170            86.97       549.1           0.13850             0.1266   \n",
       "407            91.63       645.8           0.09402             0.1936   \n",
       "430           125.40       832.7           0.14190             0.7090   \n",
       "27            139.90      1403.0           0.13380             0.2117   \n",
       "\n",
       "     concavity_worst  concave points_worst  symmetry_worst  \\\n",
       "10            0.1459               0.09975          0.2948   \n",
       "170           0.1242               0.09391          0.2827   \n",
       "407           0.1838               0.05601          0.2488   \n",
       "430           0.9019               0.24750          0.2866   \n",
       "27            0.3446               0.14900          0.2341   \n",
       "\n",
       "     fractal_dimension_worst  \n",
       "10                   0.08452  \n",
       "170                  0.06771  \n",
       "407                  0.08151  \n",
       "430                  0.11550  \n",
       "27                   0.07421  \n",
       "\n",
       "[5 rows x 30 columns]"
      ]
     },
     "execution_count": 58,
     "metadata": {},
     "output_type": "execute_result"
    }
   ],
   "source": [
    "x_train[:5]"
   ]
  },
  {
   "cell_type": "code",
   "execution_count": 59,
   "metadata": {},
   "outputs": [
    {
     "data": {
      "text/plain": [
       "10     1\n",
       "170    0\n",
       "407    0\n",
       "430    1\n",
       "27     1\n",
       "Name: diagnosis, dtype: int64"
      ]
     },
     "execution_count": 59,
     "metadata": {},
     "output_type": "execute_result"
    }
   ],
   "source": [
    "y_train[:5]"
   ]
  },
  {
   "cell_type": "code",
   "execution_count": 56,
   "metadata": {
    "executionInfo": {
     "elapsed": 218,
     "status": "ok",
     "timestamp": 1726686013452,
     "user": {
      "displayName": "Fabien Marpeau",
      "userId": "15210978490258687001"
     },
     "user_tz": 300
    },
    "id": "JENJiLrS28k_"
   },
   "outputs": [],
   "source": [
    "# Import Required Libraries and apply Naive Bayes algorithm\n",
    "from sklearn.naive_bayes import GaussianNB\n",
    "# Define the pipeline\n",
    "pipeline = Pipeline([\n",
    "    (\"scaler\", StandardScaler()),\n",
    "    (\"naive_bayes\", GaussianNB())\n",
    "]).fit(x_train, y_train)"
   ]
  },
  {
   "cell_type": "code",
   "execution_count": 57,
   "metadata": {
    "executionInfo": {
     "elapsed": 217,
     "status": "ok",
     "timestamp": 1726686161303,
     "user": {
      "displayName": "Fabien Marpeau",
      "userId": "15210978490258687001"
     },
     "user_tz": 300
    },
    "id": "R0zrQvZ7FcRo"
   },
   "outputs": [
    {
     "name": "stdout",
     "output_type": "stream",
     "text": [
      "\n",
      "Naïve Bayes:\n",
      "Training Accuracy: 0.945054945054945\n",
      "Testing Accuracy: 0.9210526315789473\n"
     ]
    }
   ],
   "source": [
    "#Predict on the training and testing set\n",
    "y_pred_train_nb = pipeline.predict(x_train)\n",
    "y_pred_test_nb = pipeline.predict(x_test)\n",
    "\n",
    "# Calculate the training and testing accuracy\n",
    "training_accuracy = accuracy_score(y_train, y_pred_train_nb)\n",
    "testing_accuracy = accuracy_score(y_test, y_pred_test_nb)\n",
    "print(\"\\nNaïve Bayes:\")\n",
    "print(f\"Training Accuracy: {training_accuracy}\")\n",
    "print(f\"Testing Accuracy: {testing_accuracy}\")\n",
    "\n",
    "y_pred_prob_nb = pipeline.predict_proba(x_test)[:, 1]"
   ]
  },
  {
   "cell_type": "markdown",
   "metadata": {
    "id": "CPJTFQ77DYzy"
   },
   "source": [
    "#### __Observation__\n",
    "\n",
    "The training accuracy (93.63%) and testing accuracy (96.49%) are relatively close to each other. This suggests that the model is not overfitting to the training data, as the performance on the testing set is slightly better or comparable to the training set."
   ]
  },
  {
   "cell_type": "code",
   "execution_count": 60,
   "metadata": {
    "executionInfo": {
     "elapsed": 255,
     "status": "ok",
     "timestamp": 1726686167620,
     "user": {
      "displayName": "Fabien Marpeau",
      "userId": "15210978490258687001"
     },
     "user_tz": 300
    },
    "id": "wpTN8k4G6KSS"
   },
   "outputs": [
    {
     "data": {
      "text/html": [
       "<div>\n",
       "<style scoped>\n",
       "    .dataframe tbody tr th:only-of-type {\n",
       "        vertical-align: middle;\n",
       "    }\n",
       "\n",
       "    .dataframe tbody tr th {\n",
       "        vertical-align: top;\n",
       "    }\n",
       "\n",
       "    .dataframe thead th {\n",
       "        text-align: right;\n",
       "    }\n",
       "</style>\n",
       "<table border=\"1\" class=\"dataframe\">\n",
       "  <thead>\n",
       "    <tr style=\"text-align: right;\">\n",
       "      <th></th>\n",
       "      <th>Actual Label</th>\n",
       "      <th>Predicted Label</th>\n",
       "      <th>Predicted Probability</th>\n",
       "    </tr>\n",
       "  </thead>\n",
       "  <tbody>\n",
       "    <tr>\n",
       "      <th>120</th>\n",
       "      <td>0</td>\n",
       "      <td>0</td>\n",
       "      <td>2.604688e-16</td>\n",
       "    </tr>\n",
       "    <tr>\n",
       "      <th>250</th>\n",
       "      <td>1</td>\n",
       "      <td>1</td>\n",
       "      <td>1.000000e+00</td>\n",
       "    </tr>\n",
       "    <tr>\n",
       "      <th>375</th>\n",
       "      <td>0</td>\n",
       "      <td>0</td>\n",
       "      <td>2.786427e-02</td>\n",
       "    </tr>\n",
       "    <tr>\n",
       "      <th>99</th>\n",
       "      <td>1</td>\n",
       "      <td>0</td>\n",
       "      <td>2.364457e-02</td>\n",
       "    </tr>\n",
       "    <tr>\n",
       "      <th>455</th>\n",
       "      <td>0</td>\n",
       "      <td>0</td>\n",
       "      <td>9.812227e-12</td>\n",
       "    </tr>\n",
       "  </tbody>\n",
       "</table>\n",
       "</div>"
      ],
      "text/plain": [
       "     Actual Label  Predicted Label  Predicted Probability\n",
       "120             0                0           2.604688e-16\n",
       "250             1                1           1.000000e+00\n",
       "375             0                0           2.786427e-02\n",
       "99              1                0           2.364457e-02\n",
       "455             0                0           9.812227e-12"
      ]
     },
     "execution_count": 60,
     "metadata": {},
     "output_type": "execute_result"
    }
   ],
   "source": [
    "results_df = pd.DataFrame({\n",
    "    'Actual Label': y_test,\n",
    "    'Predicted Label': y_pred_test_nb,\n",
    "    'Predicted Probability': y_pred_prob_nb\n",
    "})\n",
    "\n",
    "results_df.head()"
   ]
  },
  {
   "cell_type": "markdown",
   "metadata": {
    "id": "v84WEN1l75vj"
   },
   "source": [
    "#### __Observation__\n",
    "\n",
    "- The Naive Bayes classifier computes the probability of a class given the input features by multiplying the individual conditional probabilities of each feature.\n",
    "\n",
    "- Internally, many Naive Bayes implementations use logarithms to prevent numerical underflow when multiplying many small probabilities. The extreme values observed might be a result of the conversion back from logarithmic space to probability space.\n"
   ]
  },
  {
   "cell_type": "code",
   "execution_count": null,
   "metadata": {
    "id": "kU9pXJycgVPv"
   },
   "outputs": [],
   "source": [
    "# Compute scores for the test set\n",
    "from sklearn import metrics\n",
    "accuracy = metrics.accuracy_score(y_test, y_pred_test)\n",
    "print(\"Accuracy score:\",accuracy)\n",
    "precision = metrics.precision_score(y_test, y_pred_test)\n",
    "print(\"Precision score:\",precision)\n",
    "recall = metrics.recall_score(y_test, y_pred_test)\n",
    "print(\"Recall score:\",recall)\n",
    "f1 = metrics.f1_score(y_test, y_pred_test)\n",
    "print(\"F1 score:\",f1)"
   ]
  },
  {
   "cell_type": "code",
   "execution_count": 2,
   "metadata": {
    "executionInfo": {
     "elapsed": 194,
     "status": "ok",
     "timestamp": 1726686174321,
     "user": {
      "displayName": "Fabien Marpeau",
      "userId": "15210978490258687001"
     },
     "user_tz": 300
    },
    "id": "ZRMFVvskIH2D"
   },
   "outputs": [],
   "source": [
    "# Print confusion matrix\n",
    "conf_matrix_nb = confusion_matrix(y_test, y_pred_test_nb)\n",
    "print(\"Confusion Matrix:\")\n",
    "print(conf_matrix_nb)\n",
    "\n",
    "# Heatmap visualization for confusion matrix\n",
    "cm_display = ConfusionMatrixDisplay(confusion_matrix = conf_matrix_nb, display_labels = [\"benign\", \"malignant\"])\n",
    "# display matrix\n",
    "cm_display.plot()\n",
    "plt.show()"
   ]
  },
  {
   "cell_type": "markdown",
   "metadata": {
    "id": "c33KFofC9nfL"
   },
   "source": [
    "**True Positives (TP)**: The model correctly predicted 40 instances as malignant when they were indeed malignant.\n",
    "\n",
    "**True Negatives (TN)**: The model correctly predicted 70 instances as benign when they were indeed benign.\n",
    "\n",
    "**False Positives (FP)**: The model incorrectly predicted 1 instance as malignant when it was actually benign. This is also known as a Type I error.\n",
    "\n",
    "**False Negatives (FN)**: The model incorrectly predicted 3 instances as benign when they were actually malignant. This is also known as a Type II error.\n"
   ]
  },
  {
   "cell_type": "code",
   "execution_count": 2,
   "metadata": {
    "executionInfo": {
     "elapsed": 185,
     "status": "ok",
     "timestamp": 1726686182508,
     "user": {
      "displayName": "Fabien Marpeau",
      "userId": "15210978490258687001"
     },
     "user_tz": 300
    },
    "id": "hnFqJaXy853C"
   },
   "outputs": [],
   "source": [
    "# Print classification report\n",
    "print(\"\\t\\tNaïve Bayes Classification Report:\")\n",
    "print(\"\\t\\t-----------------------------------\")\n",
    "print(classification_report(y_test, y_pred_test_nb))"
   ]
  },
  {
   "cell_type": "markdown",
   "metadata": {
    "id": "m2juD22vEced"
   },
   "source": [
    "#### __Observation__\n",
    "\n",
    "**Class 0 (Negative Class)**\n",
    "\n",
    "- **Precision: 0.96**\n",
    "\n",
    "  96% of the instances predicted as class 0 are actually class 0.\n",
    "\n",
    "- **Recall: 0.99**\n",
    "\n",
    "  99% of the actual class 0 instances are correctly predicted as class 0.\n",
    "\n",
    "- **F1-Score: 0.97**\n",
    "\n",
    "  The F1-score is the harmonic mean of precision and recall, providing a balance between the two metrics. Here, the F1-score is 0.97, indicating excellent performance.\n",
    "\n",
    "- **Support: 71**\n",
    "\n",
    "  There are 71 actual instances of class 0 in the test set.\n",
    "\n",
    "**Class 1 (Positive Class)**\n",
    "\n",
    "- **Precision: 0.98**\n",
    "\n",
    "  98% of the instances predicted as class 1 are actually class 1.\n",
    "\n",
    "- **Recall: 0.93**\n",
    "\n",
    "  93% of the actual class 1 instances are correctly predicted as class 1.\n",
    "\n",
    "- **F1-Score: 0.95**\n",
    "\n",
    "  The F1-score for class 1 is 0.95, indicating very good performance, although slightly lower than class 0.\n",
    "\n",
    "- **Support: 43**\n",
    "\n",
    "  There are 43 actual instances of class 1 in the test set.\n",
    "\n",
    "**Overall Metrics**\n",
    "\n",
    "- **Accuracy: 0.96**\n",
    "\n",
    "  The overall accuracy of the model, indicating that 96% of the total instances are correctly classified.\n",
    "\n",
    "- **Macro Average**\n",
    "\n",
    "  Macro average calculates the metric independently for each class and then takes the average, treating all classes equally. It is useful when you have imbalanced classes.\n",
    "  - **Precision: 0.97**\n",
    "  - **Recall: 0.96**\n",
    "  - **F1-Score: 0.96**\n",
    "\n",
    "- **Weighted Average**\n",
    "\n",
    "  Weighted average takes into account the support (the number of true instances for each class) to calculate the average. It is more representative of the performance on imbalanced datasets.\n",
    "  - **Precision: 0.97**\n",
    "  - **Recall: 0.96**\n",
    "  - **F1-Score: 0.96**"
   ]
  },
  {
   "cell_type": "code",
   "execution_count": 2,
   "metadata": {
    "executionInfo": {
     "elapsed": 161,
     "status": "ok",
     "timestamp": 1726686195608,
     "user": {
      "displayName": "Fabien Marpeau",
      "userId": "15210978490258687001"
     },
     "user_tz": 300
    },
    "id": "dKV7-gD5gbmX"
   },
   "outputs": [],
   "source": [
    "fpr, tpr, thresholds = roc_curve(y_test, y_pred_prob_nb)\n",
    "\n",
    "# Compute the Area Under the Curve (AUC) for the ROC curve\n",
    "roc_auc = auc(fpr, tpr)\n",
    "\n",
    "# Compute Youden's J statistic for each threshold\n",
    "youden_j = tpr - fpr\n",
    "optimal_threshold_index = np.argmax(youden_j)\n",
    "optimal_threshold = thresholds[optimal_threshold_index]\n",
    "\n",
    "print(f\"Optimal Threshold: {optimal_threshold:.4f}\")\n",
    "\n",
    "# Plot the ROC curve with the optimal threshold marked\n",
    "plt.figure(figsize=(8, 6))\n",
    "plt.plot(fpr, tpr, color='blue', lw=2, label=f'ROC curve (area = {roc_auc:.2f})')\n",
    "plt.scatter(fpr[optimal_threshold_index], tpr[optimal_threshold_index], color='red', marker='o', label=f'Optimal Threshold = {optimal_threshold:.4f}')\n",
    "plt.plot([0, 1], [0, 1], color='grey', lw=2, linestyle='--')\n",
    "plt.xlim([0.0, 1.0])\n",
    "plt.ylim([0.0, 1.05])\n",
    "plt.xlabel('False Positive Rate')\n",
    "plt.ylabel('True Positive Rate')\n",
    "plt.title('Receiver Operating Characteristic (ROC) Curve')\n",
    "plt.legend(loc='lower right')\n",
    "plt.show()"
   ]
  },
  {
   "cell_type": "markdown",
   "metadata": {
    "id": "dWO_1iuW-JN6"
   },
   "source": [
    "#### __Observation__\n",
    "\n",
    "- The ROC curve for the Naive Bayes classifier demonstrates outstanding performance, with an AUC of 1.00 indicating perfect classification ability on the breast cancer dataset.\n",
    "\n",
    "- This implies that the model is highly effective in distinguishing between benign and malignant cases with no errors.\n",
    "\n",
    "- Optimal threshold is 0.0126. Some models, such as Naive Bayes, often produce uncalibrated probabilities that tend to be extreme (close to 0 or 1). This can result in needing a very low threshold to balance sensitivity and specificity effectively."
   ]
  },
  {
   "cell_type": "markdown",
   "metadata": {
    "id": "Jvw6i05GI2wd"
   },
   "source": [
    "## __4.4 K-Nearest Neighbors (KNN)__"
   ]
  },
  {
   "cell_type": "markdown",
   "metadata": {
    "id": "_oDn7j9_I2we"
   },
   "source": [
    "The K-Nearest Neighbor (KNN) algorithm is a popular machine learning technique used for classification and regression tasks. It relies on the idea that similar data points tend to have similar labels or values."
   ]
  },
  {
   "cell_type": "markdown",
   "metadata": {
    "id": "SlJisqHzI2we"
   },
   "source": [
    "\n",
    "- During the training phase, the KNN algorithm retains the entire training dataset as a reference. For predictions, it computes the distance between the input data point and all training examples using a selected distance metric, such as Euclidean distance, as illustrated in the diagram below:"
   ]
  },
  {
   "cell_type": "markdown",
   "metadata": {
    "id": "ynZWytNSI2we"
   },
   "source": [
    "![link text](https://labcontent.simplicdn.net/data-content/content-assets/Data_and_AI/ML/updated/Lesson_05/KNN.png)"
   ]
  },
  {
   "cell_type": "markdown",
   "metadata": {
    "id": "9YMupsvsI2we"
   },
   "source": [
    "**The following is a step-by-step approach to KNN algorithm:**\n"
   ]
  },
  {
   "cell_type": "markdown",
   "metadata": {
    "id": "4gDb_3jMICcy"
   },
   "source": [
    "**Step 1:** Load the training and test data.\n",
    "\n",
    "**Step 2:** Choose the value of K, which represents the number of nearest neighbors to consider. (K can be any positive integer)\n",
    "\n",
    "**Note:** The optimal value for K will depend on the specific dataset and the problem being solved. It's often determined through cross-validation.\n",
    "\n",
    "**Step 3:** For every point in the test data, do the following:\n",
    "\n",
    "- Calculate the distance between the test data point and each point in the training dataset using a distance metric such as Euclidean, Manhattan, or Hamming distance.\n",
    "- Sort the calculated distances in ascending order.\n",
    "- Select the top K closest data points (smallest distances) from the sorted list.\n",
    "- Assign the most frequent class (mode) among these K nearest neighbors to the test data point."
   ]
  },
  {
   "cell_type": "markdown",
   "metadata": {
    "id": "zLjy6bFNI2wg"
   },
   "source": [
    "## __4.4.1 Applying K-Nearest Neighbors on Breast Cancer Dataset__\n"
   ]
  },
  {
   "cell_type": "code",
   "execution_count": null,
   "metadata": {
    "id": "dVuB-fmHMJtL"
   },
   "outputs": [],
   "source": [
    "# Import Required Libraries and apply K-Nearest Neighbors\n",
    "from sklearn.neighbors import KNeighborsClassifier\n",
    "from sklearn.metrics import classification_report, confusion_matrix, roc_curve, auc\n",
    "from sklearn.metrics import ConfusionMatrixDisplay"
   ]
  },
  {
   "cell_type": "code",
   "execution_count": null,
   "metadata": {
    "id": "8iZLdXx4hKws"
   },
   "outputs": [],
   "source": [
    "# Declare\n",
    "pipeline_knn = # CODE HERE"
   ]
  },
  {
   "cell_type": "code",
   "execution_count": null,
   "metadata": {
    "id": "v3Qf3tkehMaO"
   },
   "outputs": [],
   "source": [
    "# Fit\n",
    "pipeline_knn.fit(x_train, y_train)"
   ]
  },
  {
   "cell_type": "code",
   "execution_count": null,
   "metadata": {
    "id": "ivJHGBC2hbIz"
   },
   "outputs": [],
   "source": [
    "# Predict on the training and testing set\n",
    "y_pred_train_knn = pipeline_knn.predict(x_train)\n",
    "y_pred_test_knn = pipeline_knn.predict(x_test)"
   ]
  },
  {
   "cell_type": "code",
   "execution_count": 2,
   "metadata": {
    "executionInfo": {
     "elapsed": 314,
     "status": "ok",
     "timestamp": 1726686290717,
     "user": {
      "displayName": "Fabien Marpeau",
      "userId": "15210978490258687001"
     },
     "user_tz": 300
    },
    "id": "3l1Fza3bI-jr"
   },
   "outputs": [],
   "source": [
    "# Calculate training and testing accuracy\n",
    "training_accuracy = accuracy_score(y_train, y_pred_train_knn)\n",
    "testing_accuracy = accuracy_score(y_test, y_pred_test_knn)\n",
    "print(\"\\nK-Nearest Neighbors (KNN)\")\n",
    "print(f\"Training Accuracy: {training_accuracy}\")\n",
    "print(f\"Testing Accuracy: {testing_accuracy}\")\n",
    "\n",
    "y_pred_prob_knn = pipeline_knn.predict_proba(x_test)[:, 1]\n"
   ]
  },
  {
   "cell_type": "code",
   "execution_count": 2,
   "metadata": {
    "executionInfo": {
     "elapsed": 267,
     "status": "ok",
     "timestamp": 1726686296848,
     "user": {
      "displayName": "Fabien Marpeau",
      "userId": "15210978490258687001"
     },
     "user_tz": 300
    },
    "id": "88hledQ2NYxG"
   },
   "outputs": [],
   "source": [
    "results_df = pd.DataFrame({\n",
    "    'Actual Label': y_test,\n",
    "    'Predicted Label': y_pred_test_knn,\n",
    "    'Predicted Probability': y_pred_prob_knn\n",
    "})\n",
    "\n",
    "results_df.head()"
   ]
  },
  {
   "cell_type": "code",
   "execution_count": 2,
   "metadata": {
    "executionInfo": {
     "elapsed": 160,
     "status": "ok",
     "timestamp": 1726686301879,
     "user": {
      "displayName": "Fabien Marpeau",
      "userId": "15210978490258687001"
     },
     "user_tz": 300
    },
    "id": "rd3rErKxOoMZ"
   },
   "outputs": [],
   "source": [
    "len(results_df[(results_df[\"Actual Label\"] == 1) & (results_df[\"Predicted Label\"] == 1)])"
   ]
  },
  {
   "cell_type": "code",
   "execution_count": 2,
   "metadata": {
    "executionInfo": {
     "elapsed": 274,
     "status": "ok",
     "timestamp": 1726686306171,
     "user": {
      "displayName": "Fabien Marpeau",
      "userId": "15210978490258687001"
     },
     "user_tz": 300
    },
    "id": "qFerpsMkQVj1"
   },
   "outputs": [],
   "source": [
    "# Print confusion matrix\n",
    "conf_matrix_knn = confusion_matrix(y_test, y_pred_test_knn)\n",
    "print(\"Confusion Matrix:\")\n",
    "print(conf_matrix_knn)\n",
    "\n",
    "# Heatmap visualization for confusion matrix\n",
    "cm_display = ConfusionMatrixDisplay(confusion_matrix = conf_matrix_knn, display_labels = [\"benign\", \"malignant\"])\n",
    "# display matrix\n",
    "cm_display.plot()\n",
    "plt.show()"
   ]
  },
  {
   "cell_type": "markdown",
   "metadata": {
    "id": "4lOsiqamOFI5"
   },
   "source": [
    "### __Observation__\n",
    "\n",
    "**True Positives (TP):** The model correctly predicted 40 instances as \"malignant\" (positive class) when they were indeed malignant.\n",
    "\n",
    "**True Negatives (TN):** The model correctly predicted 68 instances as \"benign\" (negative class) when they were indeed benign.\n",
    "\n",
    "**False Positives (FP):** The model incorrectly predicted 3 instances as \"malignant\" (positive class) when they were actually benign. This is a type I error.\n",
    "\n",
    "**False Negatives (FN):** The model incorrectly predicted 3 instances as \"benign\" (negative class) when they were actually malignant. This is a type II error.\n",
    "True Positives (TP):\n",
    "\n"
   ]
  },
  {
   "cell_type": "code",
   "execution_count": 2,
   "metadata": {
    "executionInfo": {
     "elapsed": 165,
     "status": "ok",
     "timestamp": 1726686315439,
     "user": {
      "displayName": "Fabien Marpeau",
      "userId": "15210978490258687001"
     },
     "user_tz": 300
    },
    "id": "ucSehLP1MN9y"
   },
   "outputs": [],
   "source": [
    "# Print classification report\n",
    "print(\"\\t\\tK-Nearest Neighbors Classification Report:\")\n",
    "print(\"\\t\\t-----------------------------------\")\n",
    "print(classification_report(y_test, y_pred_test_knn))"
   ]
  },
  {
   "cell_type": "markdown",
   "metadata": {
    "id": "pMSPD80NJB5F"
   },
   "source": [
    "#### __Observation__\n",
    "\n",
    "**Metrics for Each Class:**\n",
    "\n",
    "**Class 0 (Benign):**\n",
    "- **Precision: 0.96**\n",
    "  - **Meaning**: Of all the instances predicted as class 0, 96% were correctly classified. Precision measures the accuracy of the positive predictions.\n",
    "- **Recall: 0.96**\n",
    "  - **Meaning**: Of all the actual instances of class 0, 96% were correctly identified by the model. Recall measures the model's ability to find all the relevant cases within a class.\n",
    "- **F1-Score: 0.96**\n",
    "  - **Meaning**: The F1-score is the harmonic mean of precision and recall. An F1-score of 0.96 indicates a good balance between precision and recall for class 0.\n",
    "- **Support: 71**\n",
    "  - **Meaning**: There are 71 instances of class 0 in the test dataset.\n",
    "\n",
    "**Class 1 (Malignant):**\n",
    "- **Precision: 0.93**\n",
    "  - **Meaning**: Of all the instances predicted as class 1, 93% were correctly classified.\n",
    "- **Recall: 0.93**\n",
    "  - **Meaning**: Of all the actual instances of class 1, 93% were correctly identified by the model.\n",
    "- **F1-Score: 0.93**\n",
    "  - **Meaning**: An F1-score of 0.93 indicates a good balance between precision and recall for class 1.\n",
    "- **Support: 43**\n",
    "  - **Meaning**: There are 43 instances of class 1 in the test dataset.\n",
    "\n",
    "**Overall Metrics:**\n",
    "\n",
    "- **Accuracy: 0.95**\n",
    "  - **Meaning**: The overall accuracy of the model is 95%, indicating that 95% of the total instances in the test dataset were correctly classified by the model.\n",
    "\n",
    "- **Macro Average:**\n",
    "  - **Precision: 0.94**\n",
    "  - **Recall: 0.94**\n",
    "  - **F1-Score: 0.94**\n",
    "    \n",
    "\n",
    "- **Weighted Average:**\n",
    "  - **Precision: 0.95**\n",
    "  - **Recall: 0.95**\n",
    "  - **F1-Score: 0.95**\n",
    "    \n"
   ]
  },
  {
   "cell_type": "code",
   "execution_count": 2,
   "metadata": {
    "executionInfo": {
     "elapsed": 169,
     "status": "ok",
     "timestamp": 1726686325073,
     "user": {
      "displayName": "Fabien Marpeau",
      "userId": "15210978490258687001"
     },
     "user_tz": 300
    },
    "id": "iATWyipSWLvK"
   },
   "outputs": [],
   "source": [
    "fpr, tpr, thresholds = roc_curve(y_test, y_pred_prob_knn)\n",
    "roc_auc = auc(fpr, tpr)\n",
    "\n",
    "# Find the optimal threshold by maximizing Youden's J statistic\n",
    "youden_j = tpr - fpr\n",
    "optimal_threshold_index = np.argmax(youden_j)\n",
    "optimal_threshold = thresholds[optimal_threshold_index]\n",
    "\n",
    "print(f\"Optimal Threshold: {optimal_threshold:.4f}\")\n",
    "\n",
    "# Plot ROC curve with the optimal threshold marked\n",
    "plt.figure(figsize=(8, 6))\n",
    "plt.plot(fpr, tpr, color='blue', lw=2, label=f'ROC curve (area = {roc_auc:.2f})')\n",
    "plt.scatter(fpr[optimal_threshold_index], tpr[optimal_threshold_index], color='red', marker='o', label=f'Optimal Threshold = {optimal_threshold:.4f}')\n",
    "plt.plot([0, 1], [0, 1], color='grey', lw=2, linestyle='--')\n",
    "plt.xlim([0.0, 1.0])\n",
    "plt.ylim([0.0, 1.05])\n",
    "plt.xlabel('False Positive Rate')\n",
    "plt.ylabel('True Positive Rate')\n",
    "plt.title('Receiver Operating Characteristic (ROC) Curve')\n",
    "plt.legend(loc='lower right')\n",
    "plt.show()"
   ]
  },
  {
   "cell_type": "markdown",
   "metadata": {
    "id": "k1rjk-9HJpxi"
   },
   "source": [
    "#### __Observation__\n",
    "\n",
    "- The ROC curve has a steep ascent to a high True Positive Rate with a low False Positive Rate, indicating that the classifier is effective at distinguishing between the positive and negative classes.\n",
    "\n",
    "- The AUC value is 0.98, which is very close to 1.0. An AUC of 0.98 indicates excellent discriminatory ability, meaning the classifier is highly capable of distinguishing between the positive and negative classes.\n",
    "\n",
    "- The optimal threshold for the KNN classifier, determined using Youden's J statistic, is 0.33.\n",
    "\n",
    "\n",
    "\n",
    "\n",
    "\n",
    "\n"
   ]
  },
  {
   "cell_type": "markdown",
   "metadata": {
    "id": "79GupC4TkKKH"
   },
   "source": [
    "### __4.4.2 Hyperparameter Tuning in KNN:__\n",
    "\n",
    "\n",
    "The Number of Neighbors (k) is a crucial hyperparameter in the K-Nearest Neighbors (KNN) algorithm. It specifies how many nearest neighbors the algorithm should consider when making predictions. The selection of 𝑘 impacts the model's ability to generalize effectively: a smaller 𝑘 can make the model sensitive to noise in the data, potentially leading to overfitting, while a larger 𝑘 might include less relevant neighbors, possibly causing underfitting. Therefore, choosing the right 𝑘 value is essential for balancing bias and variance in the model."
   ]
  },
  {
   "cell_type": "markdown",
   "metadata": {
    "id": "aVk6sl7z0DLR"
   },
   "source": [
    "### __Using GridSearchCV with Cross-Validation to find optimal 'k':__"
   ]
  },
  {
   "cell_type": "code",
   "execution_count": 3,
   "metadata": {
    "executionInfo": {
     "elapsed": 200,
     "status": "ok",
     "timestamp": 1726686357115,
     "user": {
      "displayName": "Fabien Marpeau",
      "userId": "15210978490258687001"
     },
     "user_tz": 300
    },
    "id": "FBF0WfKBj91f"
   },
   "outputs": [],
   "source": [
    "from sklearn.model_selection import GridSearchCV\n",
    "\n",
    "# Define the parameter grid\n",
    "param_grid = {'knn__n_neighbors': np.arange(1, 21)}"
   ]
  },
  {
   "cell_type": "code",
   "execution_count": null,
   "metadata": {
    "id": "RIFTRGXNhyNP"
   },
   "outputs": [],
   "source": [
    "# Create a pipeline with a scaler and KNN classifier\n",
    "pipeline = Pipeline([\n",
    "    ('scaler', StandardScaler()),    # Standardize the data\n",
    "    ('knn', KNeighborsClassifier())  # KNN classifier\n",
    "])"
   ]
  },
  {
   "cell_type": "code",
   "execution_count": null,
   "metadata": {
    "id": "hypHtyKAhyP6"
   },
   "outputs": [],
   "source": [
    "# Initialize GridSearchCV\n",
    "grid_search = GridSearchCV(pipeline, param_grid, cv=10, scoring='accuracy')"
   ]
  },
  {
   "cell_type": "code",
   "execution_count": null,
   "metadata": {
    "id": "KN_VpDL1hyTC"
   },
   "outputs": [],
   "source": [
    "# Fit GridSearchCV to the data\n",
    "grid_search.fit(x_train, y_train)"
   ]
  },
  {
   "cell_type": "code",
   "execution_count": null,
   "metadata": {
    "id": "vGtG6Debh3ly"
   },
   "outputs": [],
   "source": [
    "# Get the best k value\n",
    "optimal_k = grid_search.best_params_['knn__n_neighbors']\n",
    "print(f\"The optimal number of neighbors is {optimal_k}\")"
   ]
  },
  {
   "cell_type": "code",
   "execution_count": null,
   "metadata": {
    "id": "7Qyc41kqh3of"
   },
   "outputs": [],
   "source": [
    "# Get the best score\n",
    "best_score = grid_search.best_score_\n",
    "print(f\"The best cross-validated accuracy is {best_score}\")"
   ]
  },
  {
   "cell_type": "code",
   "execution_count": null,
   "metadata": {
    "id": "a7ISRIdJiDHZ"
   },
   "outputs": [],
   "source": [
    "# Get the cross-validation results\n",
    "cv_results = grid_search.cv_results_"
   ]
  },
  {
   "cell_type": "code",
   "execution_count": null,
   "metadata": {
    "id": "43PyQUpNiDKC"
   },
   "outputs": [],
   "source": [
    "# Plot the cross-validation accuracy for different k values\n",
    "plt.figure(figsize=(10, 6))\n",
    "plt.plot(param_grid['knn__n_neighbors'], cv_results['mean_test_score'], marker='o')\n",
    "plt.xlabel('Number of Neighbors K')\n",
    "plt.ylabel('Cross-Validation Accuracy')\n",
    "plt.title('KNN Cross-Validation Accuracy for Different K Values')\n",
    "plt.show()"
   ]
  },
  {
   "cell_type": "markdown",
   "metadata": {
    "id": "oAeAdkFZmB6-"
   },
   "source": [
    "**Note**: Ideally, you can use the optimal `k=7` to run knn to check if the results have improved or not"
   ]
  },
  {
   "cell_type": "markdown",
   "metadata": {
    "id": "xlRBtWXB0Uf3"
   },
   "source": [
    "## __4.5 Decision Tree__"
   ]
  },
  {
   "cell_type": "markdown",
   "metadata": {
    "id": "sJC2jTpZ0Ujj"
   },
   "source": [
    "A decision tree is a non-parametric supervised learning algorithm for classification and regression tasks.\n",
    "- It has a hierarchical tree structure consisting of a root node, branches, internal nodes, and leaf nodes.\n",
    "- Decision trees are used for classification and regression tasks, providing easy-to-understand models."
   ]
  },
  {
   "cell_type": "markdown",
   "metadata": {
    "id": "eGa1FgE9rz_N"
   },
   "source": [
    "The following diagram demonstrates the different parts of a decision tree:\n"
   ]
  },
  {
   "cell_type": "markdown",
   "metadata": {
    "id": "ed5RgWKjsL_B"
   },
   "source": [
    "![link text](https://labcontent.simplicdn.net/data-content/content-assets/Data_and_AI/ML/updated/Lesson_05/5.02node.png)"
   ]
  },
  {
   "cell_type": "markdown",
   "metadata": {
    "id": "rqQgEMWvzaBM"
   },
   "source": [
    "The tree-like structure consists of nodes, branches, and leaves.\n",
    "\n",
    "A node represents a place where a question is asked or an attribute is selected.\n",
    "\n",
    "The leaves represent the output or class label.\n",
    "\n"
   ]
  },
  {
   "cell_type": "markdown",
   "metadata": {
    "id": "bLiBQoCwzaDn"
   },
   "source": [
    "**Root Node:** This is the top node of the tree, from which the decision-making process begins. It represents the entire dataset and is split into two or more child nodes based on the feature that provides the best split."
   ]
  },
  {
   "cell_type": "markdown",
   "metadata": {
    "id": "WVbUJe4fzaF4"
   },
   "source": [
    "**Decision Node:** These are intermediate nodes in the tree that represent a decision based on a feature's value. Each decision node splits the dataset into smaller subsets based on a specific feature and its value."
   ]
  },
  {
   "cell_type": "markdown",
   "metadata": {
    "id": "fe8_l__pzaH9"
   },
   "source": [
    "**Leaf Node:** These are the endpoints of the decision tree branches. They represent the final decision or outcome. A leaf node does not split further and contains the predicted outcome or class label."
   ]
  },
  {
   "cell_type": "markdown",
   "metadata": {
    "id": "lRHZ5TMHzaKE"
   },
   "source": [
    "Example: The following decision tree diagram represents the criteria for buying a car based on its color, model year, and mileage.\n"
   ]
  },
  {
   "cell_type": "markdown",
   "metadata": {
    "id": "Y-ZKMNlptfcD"
   },
   "source": [
    "![link text](https://labcontent.simplicdn.net/data-content/content-assets/Data_and_AI/ML/updated/Lesson_05/DT.png)"
   ]
  },
  {
   "cell_type": "markdown",
   "metadata": {
    "id": "JtAXZqAyPlhC"
   },
   "source": [
    "## __4.5.1 How Decision Trees Work__"
   ]
  },
  {
   "cell_type": "markdown",
   "metadata": {
    "id": "h2B6Yo6YPVoD"
   },
   "source": [
    "Creating a decision tree involves a series of steps aimed at systematically breaking down the dataset based on its features to achieve the best possible classification or prediction. Here's an overview of the process:\n",
    "\n",
    "- **Selecting the Best Attribute:** The first step is to choose the attribute that best splits the data using metrics such as *Gini impurity, entropy*, and *information gain*.\n",
    "\n",
    "- **Splitting the Dataset:** The dataset is then divided into subsets based on the values of the selected attribute.\n",
    "\n",
    "- **Repeating the Process:** This process is repeated recursively for each subset, creating new internal nodes or leaf nodes until a stopping criterion is met. This criterion can be that all instances in a node belong to the same class, or a predefined depth of the tree is reached."
   ]
  },
  {
   "cell_type": "markdown",
   "metadata": {
    "id": "86Gh_dxCP66e"
   },
   "source": [
    "## __4.5.2 Metrics for Splitting__"
   ]
  },
  {
   "cell_type": "markdown",
   "metadata": {
    "id": "7r9MQYgTQASA"
   },
   "source": [
    "- **Gini Impurity:** Gini impurity is a measure of the impurity or disorder in a set of elements, commonly used in decision tree algorithms. This metric measures the likelihood of incorrectly classifying a randomly chosen element if it was labeled according to the class distribution in the dataset.\n",
    "\n",
    "  It ranges from 0 (perfect purity) to 0.5 (maximum impurity in a binary classification problem). The formula is:\n",
    "\n",
    "\n",
    "$$ \\text{Gini} = 1 - \\sum_{i=1}^{n} (p_i)^2 $$\n",
    "\n",
    "\n",
    "  where 𝑝𝑖 is the probability of an instance being classified into class 𝑖\n",
    "\n",
    "\n",
    "- **Entropy:** Entropy quantifies the amount of uncertainty or impurity in the dataset. It is calculated as:\n",
    "\n",
    "$$\\text{Entropy} = - \\sum_{i=1}^{n} p_i \\log_2(p_i)$$\n",
    "\n",
    "\n",
    "  where 𝑝𝑖 is the probability of an instance being classified into class 𝑖\n",
    "\n",
    "\n",
    "- **Information Gain:** This metric measures the reduction in entropy or Gini impurity after the dataset is split on an attribute. It is given by:\n",
    "\n",
    "$$\n",
    "\\text{Information Gain} = \\text{Entropy(parent)} - \\sum_{i=1}^{n} \\left( \\frac{|D_i|}{|D|} \\times \\text{Entropy}(D_i) \\right)\n",
    "$$\n",
    "\n",
    "  where 𝐷𝑖 is the subset of 𝐷, after being split by an attribute"
   ]
  },
  {
   "cell_type": "markdown",
   "metadata": {
    "id": "XstBJzvWtf1d"
   },
   "source": [
    "###__Advantages of Decision Tree__###"
   ]
  },
  {
   "cell_type": "markdown",
   "metadata": {
    "id": "QQ5IH3SQtf3F"
   },
   "source": [
    "- **Simplicity and Interpretability:** Decision trees are straightforward to understand and interpret. Their visual representation is intuitive and closely mimics human decision-making processes.\n",
    "- **Versatility:** They can be applied to both classification and regression tasks, making them highly versatile.\n",
    "- **No Need for Feature Scaling:** Decision trees inherently handle data without requiring normalization or scaling.\n",
    "- **Handles Non-linear Relationships:** They are capable of capturing and modeling complex non-linear relationships between features and the target variable."
   ]
  },
  {
   "cell_type": "markdown",
   "metadata": {
    "id": "xcKj_3dt0GJ2"
   },
   "source": [
    "###__Disadvantages of Decision Tree__"
   ]
  },
  {
   "cell_type": "markdown",
   "metadata": {
    "id": "xAVRmUegtf4q"
   },
   "source": [
    "- **Overfitting:** Decision trees can easily overfit the training data, particularly if they grow very deep with many nodes.\n",
    "- **Instability:** Small changes in the training data can result in significant differences in the structure of the tree, leading to instability.\n",
    "- **Bias towards Features with More Levels:** Attributes with a greater number of levels can disproportionately influence the tree structure, potentially leading to biased results."
   ]
  },
  {
   "cell_type": "markdown",
   "metadata": {
    "id": "49pNBvUf9ODc"
   },
   "source": [
    "## __4.5.3 Pruning__\n",
    "To address the issue of overfitting, decision trees can be pruned. Pruning involves removing parts of the tree that do not provide significant power in classifying instances. This can be done in two main ways:\n",
    "\n",
    "- **Pre-pruning (Early Stopping):** Halts the growth of the tree early based on a stopping criterion such as maximum depth or minimum number of samples required to split a node.\n",
    "\n",
    "- **Post-pruning:** First grows the full tree and then removes nodes that add little predictive power to reduce complexity and improve generalization."
   ]
  },
  {
   "cell_type": "markdown",
   "metadata": {
    "id": "6VYp08v8QR3R"
   },
   "source": [
    "## __4.5.4 Applying Decision Tree on Breast Cancer Dataset__\n"
   ]
  },
  {
   "cell_type": "code",
   "execution_count": null,
   "metadata": {
    "colab": {
     "base_uri": "https://localhost:8080/"
    },
    "executionInfo": {
     "elapsed": 28,
     "status": "ok",
     "timestamp": 1718714544210,
     "user": {
      "displayName": "Vikas Singh",
      "userId": "04375885343580620832"
     },
     "user_tz": -330
    },
    "id": "UTbQ3KI9QYqi",
    "outputId": "0e55130c-7020-464d-8c6e-18fc071158d9"
   },
   "outputs": [],
   "source": [
    "#Import Required Libraries and apply decision tree\n",
    "from sklearn.tree import DecisionTreeClassifier\n",
    "\n",
    "pipeline = Pipeline([\n",
    "    ('scaler', StandardScaler()),   # Standardize the data\n",
    "    ('dt', DecisionTreeClassifier()) # Decision Tree classifier\n",
    "])\n",
    "pipeline.fit(x_train, y_train)\n",
    "\n",
    "# Predict on the training and testing set\n",
    "y_pred_train_dt = pipeline.predict(x_train)\n",
    "y_pred_test_dt = pipeline.predict(x_test)\n",
    "\n",
    "# Calculate training and testing accuracy\n",
    "training_accuracy = accuracy_score(y_train, y_pred_train_dt)\n",
    "testing_accuracy = accuracy_score(y_test, y_pred_test_dt)\n",
    "print(\"\\nDecision Trees\")\n",
    "print(f\"Training Accuracy: {training_accuracy}\")\n",
    "print(f\"Testing Accuracy: {testing_accuracy}\")\n",
    "\n",
    "y_pred_prob_dt = pipeline.predict_proba(x_test)[:, 1]\n"
   ]
  },
  {
   "cell_type": "code",
   "execution_count": null,
   "metadata": {
    "colab": {
     "base_uri": "https://localhost:8080/",
     "height": 206
    },
    "executionInfo": {
     "elapsed": 25,
     "status": "ok",
     "timestamp": 1718714544210,
     "user": {
      "displayName": "Vikas Singh",
      "userId": "04375885343580620832"
     },
     "user_tz": -330
    },
    "id": "vNNQAwpdb6VL",
    "outputId": "9eabfcd3-01f0-48a2-9436-899a4decd426"
   },
   "outputs": [],
   "source": [
    "results_df = pd.DataFrame({\n",
    "    'Actual Label': y_test,\n",
    "    'Predicted Label': y_pred_test_dt,\n",
    "    'Predicted Probability': y_pred_prob_dt\n",
    "})\n",
    "\n",
    "results_df.head()"
   ]
  },
  {
   "cell_type": "markdown",
   "metadata": {
    "id": "4GaD3xrAqusZ"
   },
   "source": [
    "### __Observation:__\n",
    "- Training accuracy indicates that the decision tree model perfectly classifies the training data. This is a strong indicator of overfitting, where the model is too complex and captures noise in the training data, resulting in perfect accuracy.\n",
    "- The testing accuracy, while still high, is lower than the training accuracy. This difference indicates that the model does not generalize as well to unseen data as it does to the training data, reinforcing the possibility of overfitting."
   ]
  },
  {
   "cell_type": "markdown",
   "metadata": {
    "id": "UyGqAr8WrWZK"
   },
   "source": [
    "When there is a significant difference between training and testing accuracy (as seen with training accuracy at 1.0 and testing accuracy at 92%), it suggests that the model might be overfitting to the training data. Cross-validation helps confirm this by showing how the model performs on different subsets of the data.\n",
    "\n",
    "- The primary goal of cross-validation is to assess how well the model generalizes to independent datasets. A model that performs well on cross-validation is more likely to generalize well to new, unseen data.\n",
    "\n",
    "- Cross-validation helps in understanding the stability of the model’s performance. If the cross-validation scores vary significantly, it indicates that the model's performance is inconsistent and may depend heavily on the specific train-test split."
   ]
  },
  {
   "cell_type": "markdown",
   "metadata": {
    "id": "hXN_sq4zfH--"
   },
   "source": [
    "**Using cross_val_score with the pipeline and training data**\n",
    "\n",
    "When using a pipeline, `cross_val_score` ensures that all steps in the pipeline (like scaling and model fitting) are applied consistently during each fold of the cross-validation process."
   ]
  },
  {
   "cell_type": "code",
   "execution_count": null,
   "metadata": {
    "colab": {
     "base_uri": "https://localhost:8080/"
    },
    "executionInfo": {
     "elapsed": 24,
     "status": "ok",
     "timestamp": 1718714544210,
     "user": {
      "displayName": "Vikas Singh",
      "userId": "04375885343580620832"
     },
     "user_tz": -330
    },
    "id": "Mc6iTDbDKcQs",
    "outputId": "39b84166-7961-46dc-e857-5930eee325ce"
   },
   "outputs": [],
   "source": [
    "from sklearn.model_selection import cross_val_score\n",
    "cv_scores = cross_val_score(pipeline, x_train, y_train, cv=5)\n",
    "print(f\"Cross-Validation Scores: {cv_scores}\")\n",
    "print(f\"Mean CV Score: {cv_scores.mean()}\")"
   ]
  },
  {
   "cell_type": "markdown",
   "metadata": {
    "id": "ODJBv5YosIgW"
   },
   "source": [
    "-  The cross-validation scores are relatively consistent, with accuracies ranging from approximately 91.21% to 94.51%. This consistency indicates that the model is robust and performs well across different subsets of the data.\n",
    "\n",
    "- The mean cross-validation score of approximately 92.31% suggests that the model generalizes well to unseen data, providing a reliable measure of its performance.\n",
    "\n",
    "- Using cross-validation helps ensure that the performance estimate is not overly optimistic or pessimistic, giving a balanced view of the model's effectiveness."
   ]
  },
  {
   "cell_type": "code",
   "execution_count": null,
   "metadata": {
    "colab": {
     "base_uri": "https://localhost:8080/",
     "height": 504
    },
    "executionInfo": {
     "elapsed": 1273,
     "status": "ok",
     "timestamp": 1718714545461,
     "user": {
      "displayName": "Vikas Singh",
      "userId": "04375885343580620832"
     },
     "user_tz": -330
    },
    "id": "QDSBupA1SFg2",
    "outputId": "e845fe34-c7a5-4f30-8f1d-4d0bbce59ad7"
   },
   "outputs": [],
   "source": [
    "from sklearn.metrics import classification_report, confusion_matrix, roc_curve, auc\n",
    "from sklearn.metrics import ConfusionMatrixDisplay\n",
    "\n",
    "# Print confusion matrix\n",
    "conf_matrix_dt = confusion_matrix(y_test, y_pred_test_dt)\n",
    "print(\"Confusion Matrix:\")\n",
    "print(conf_matrix_dt)\n",
    "\n",
    "cm_display = ConfusionMatrixDisplay(confusion_matrix = conf_matrix_dt, display_labels = [\"benign\", \"malignant\"])\n",
    "# display matrix\n",
    "cm_display.plot()\n",
    "plt.show()\n"
   ]
  },
  {
   "cell_type": "markdown",
   "metadata": {
    "id": "SoQK9AdChlfQ"
   },
   "source": [
    "**True Positives (TP)**: The model correctly predicted 39 instances as malignant when they were indeed malignant.\n",
    "\n",
    "**True Negatives (TN)**: The model correctly predicted 67 instances as benign when they were indeed benign.\n",
    "\n",
    "**False Positives (FP)**: The model incorrectly predicted 4 instances as malignant when they were actually benign. This is a type I error.\n",
    "\n",
    "**False Negatives (FN)**: The model incorrectly predicted 4 instances as benign when they were actually malignant. This is a type II error.\n"
   ]
  },
  {
   "cell_type": "code",
   "execution_count": null,
   "metadata": {
    "colab": {
     "base_uri": "https://localhost:8080/"
    },
    "executionInfo": {
     "elapsed": 28,
     "status": "ok",
     "timestamp": 1718714545462,
     "user": {
      "displayName": "Vikas Singh",
      "userId": "04375885343580620832"
     },
     "user_tz": -330
    },
    "id": "m1pgu1I8hX1x",
    "outputId": "969d8089-2866-486b-8ada-26fec884add5"
   },
   "outputs": [],
   "source": [
    "# Print classification report\n",
    "print(\"Decision Trees Classification Report:\")\n",
    "print(classification_report(y_test, y_pred_test_dt))"
   ]
  },
  {
   "cell_type": "markdown",
   "metadata": {
    "id": "Y1VEGezuiKmb"
   },
   "source": [
    "#### __Observation__\n",
    "\n",
    "**Decision Trees Classification Report**\n",
    "\n",
    "The classification report provides a detailed performance evaluation of the Decision Tree classifier on the test dataset. It includes various metrics: precision, recall, F1-score, and support for each class, along with overall metrics such as accuracy, macro average, and weighted average.\n",
    "\n",
    "**Metrics for Each Class:**\n",
    "\n",
    "**Class 0 (Benign):**\n",
    "- **Precision: 0.94**\n",
    "  - **Meaning**: Of all the instances predicted as class 0, 94% were correctly classified. Precision measures the accuracy of the positive predictions.\n",
    "- **Recall: 0.94**\n",
    "  - **Meaning**: Of all the actual instances of class 0, 94% were correctly identified by the model. Recall measures the model's ability to find all the relevant cases within a class.\n",
    "- **F1-Score: 0.94**\n",
    "  - **Meaning**: The F1-score is the harmonic mean of precision and recall. An F1-score of 0.94 indicates a good balance between precision and recall for class 0.\n",
    "- **Support: 71**\n",
    "  - **Meaning**: There are 71 instances of class 0 in the test dataset.\n",
    "\n",
    "**Class 1 (Malignant):**\n",
    "- **Precision: 0.91**\n",
    "  - **Meaning**: Of all the instances predicted as class 1, 91% were correctly classified.\n",
    "- **Recall: 0.91**\n",
    "  - **Meaning**: Of all the actual instances of class 1, 91% were correctly identified by the model.\n",
    "- **F1-Score: 0.91**\n",
    "  - **Meaning**: An F1-score of 0.91 indicates a good balance between precision and recall for class 1.\n",
    "- **Support: 43**\n",
    "  - **Meaning**: There are 43 instances of class 1 in the test dataset.\n",
    "\n",
    "**Overall Metrics:**\n",
    "\n",
    "- **Accuracy: 0.93**\n",
    "  - **Meaning**: The overall accuracy of the model is 93%, indicating that 93% of the total instances in the test dataset were correctly classified by the model.\n",
    "\n",
    "**Macro Average:**\n",
    "- **Precision: 0.93**\n",
    "- **Recall: 0.93**\n",
    "- **F1-Score: 0.93**\n",
    "  \n",
    "\n",
    "**Weighted Average:**\n",
    "- **Precision: 0.93**\n",
    "- **Recall: 0.93**\n",
    "- **F1-Score: 0.93**\n",
    "  \n"
   ]
  },
  {
   "cell_type": "code",
   "execution_count": null,
   "metadata": {
    "colab": {
     "base_uri": "https://localhost:8080/",
     "height": 582
    },
    "executionInfo": {
     "elapsed": 25,
     "status": "ok",
     "timestamp": 1718714545462,
     "user": {
      "displayName": "Vikas Singh",
      "userId": "04375885343580620832"
     },
     "user_tz": -330
    },
    "id": "VUruXTLKkFe-",
    "outputId": "9244dff9-17d3-4390-b3b6-0d67120d6153"
   },
   "outputs": [],
   "source": [
    "# Compute ROC curve and AUC\n",
    "fpr, tpr, thresholds = roc_curve(y_test, y_pred_prob_dt)\n",
    "roc_auc = auc(fpr, tpr)\n",
    "\n",
    "# Compute Youden's J statistic for each threshold\n",
    "youden_j = tpr - fpr\n",
    "optimal_threshold_index = np.argmax(youden_j)\n",
    "optimal_threshold = thresholds[optimal_threshold_index]\n",
    "\n",
    "print(f\"Optimal Threshold: {optimal_threshold:.4f}\")\n",
    "\n",
    "# Plot ROC curve with the optimal threshold marked\n",
    "plt.figure(figsize=(8, 6))\n",
    "plt.plot(fpr, tpr, color='blue', lw=2, label=f'ROC curve (area = {roc_auc:.2f})')\n",
    "plt.scatter(fpr[optimal_threshold_index], tpr[optimal_threshold_index], color='red', marker='o', label=f'Optimal Threshold = {optimal_threshold:.4f}')\n",
    "plt.plot([0, 1], [0, 1], color='grey', lw=2, linestyle='--')\n",
    "plt.xlim([0.0, 1.0])\n",
    "plt.ylim([0.0, 1.05])\n",
    "plt.xlabel('False Positive Rate')\n",
    "plt.ylabel('True Positive Rate')\n",
    "plt.title('Receiver Operating Characteristic (ROC) Curve')\n",
    "plt.legend(loc='lower right')\n",
    "plt.show()"
   ]
  },
  {
   "cell_type": "markdown",
   "metadata": {
    "id": "HWR2hv-LkYY1"
   },
   "source": [
    "#### __Observation__\n",
    "\n",
    "- High AUC: The AUC of 0.93 demonstrates that the Decision Tree model has a strong ability to differentiate between the positive and negative classes.\n",
    "\n",
    "- Optimal Threshold: The optimal threshold of 1.0000 is identified as the point that maximizes the model's effectiveness in distinguishing between classes, balancing the trade-offs between TPR and FPR."
   ]
  },
  {
   "cell_type": "markdown",
   "metadata": {
    "id": "2CnTAwYyuNrM"
   },
   "source": [
    "### __Pruning of Decision tree:__\n",
    "\n",
    " - By pruning a decision tree, we aim to improve the generalization of the model, thereby avoiding overfitting.\n",
    "\n",
    "- Let's apply pruning to the decision tree and then evaluate the model's performance:"
   ]
  },
  {
   "cell_type": "markdown",
   "metadata": {
    "id": "fR1SSOe2mcB2"
   },
   "source": [
    "- `ccp_alpha` in `DecisionTreeClassifier` is the complexity parameter used for Minimal Cost-Complexity Pruning.\n",
    "- This parameter controls the amount of pruning applied. Higher values of ccp_alpha result in more pruning."
   ]
  },
  {
   "cell_type": "code",
   "execution_count": null,
   "metadata": {
    "colab": {
     "base_uri": "https://localhost:8080/"
    },
    "executionInfo": {
     "elapsed": 22,
     "status": "ok",
     "timestamp": 1718714545463,
     "user": {
      "displayName": "Vikas Singh",
      "userId": "04375885343580620832"
     },
     "user_tz": -330
    },
    "id": "H2B9mWTQmVw2",
    "outputId": "6f9f88e4-a9a8-4ec2-945d-52a54c6eaa26"
   },
   "outputs": [],
   "source": [
    "# Create a pipeline with a standard scaler and a pruned decision tree classifier\n",
    "pipeline_pruned = Pipeline([\n",
    "    ('scaler', StandardScaler()),  # Standardize the data\n",
    "    ('dt', DecisionTreeClassifier(ccp_alpha=0.01, random_state=42))  # Pruned Decision Tree classifier\n",
    "])\n",
    "\n",
    "# Perform cross-validation\n",
    "cv_scores_pruned = cross_val_score(pipeline_pruned, x_train, y_train, cv=5)  # 5-fold cross-validation\n",
    "print(f\"Cross-Validation Scores (Pruned): {cv_scores_pruned}\")\n",
    "print(f\"Mean CV Score (Pruned): {cv_scores_pruned.mean()}\")\n",
    "\n",
    "# Train the pruned pipeline on the training data\n",
    "pipeline_pruned.fit(x_train, y_train)\n",
    "\n",
    "# Predict on the training and testing set\n",
    "y_pred_train_dt_pruned = pipeline_pruned.predict(x_train)\n",
    "y_pred_test_dt_pruned = pipeline_pruned.predict(x_test)\n",
    "\n",
    "# Calculate training and testing accuracy for the pruned model\n",
    "training_accuracy_pruned = accuracy_score(y_train, y_pred_train_dt_pruned)\n",
    "testing_accuracy_pruned = accuracy_score(y_test, y_pred_test_dt_pruned)\n",
    "print(\"\\nPruned Decision Trees\")\n",
    "print(f\"Training Accuracy: {training_accuracy_pruned}\")\n",
    "print(f\"Testing Accuracy: {testing_accuracy_pruned}\")"
   ]
  },
  {
   "cell_type": "code",
   "execution_count": null,
   "metadata": {
    "id": "hqugN2kNnE2D"
   },
   "outputs": [],
   "source": [
    "# Predict probabilities for ROC-AUC calculation\n",
    "y_pred_prob_dt_pruned = pipeline_pruned.predict_proba(x_test)[:, 1]"
   ]
  },
  {
   "cell_type": "code",
   "execution_count": null,
   "metadata": {
    "colab": {
     "base_uri": "https://localhost:8080/"
    },
    "executionInfo": {
     "elapsed": 18,
     "status": "ok",
     "timestamp": 1718714545463,
     "user": {
      "displayName": "Vikas Singh",
      "userId": "04375885343580620832"
     },
     "user_tz": -330
    },
    "id": "dBK65b_onMrL",
    "outputId": "3509fadd-9866-4c5d-fa59-4e26f03775e6"
   },
   "outputs": [],
   "source": [
    "# Print confusion matrix and classification report\n",
    "conf_matrix_pruned = confusion_matrix(y_test, y_pred_test_dt_pruned)\n",
    "print(\"Confusion Matrix (Pruned):\")\n",
    "print(conf_matrix_pruned)\n",
    "\n",
    "print(\"Pruned Decision Trees Classification Report:\")\n",
    "print(classification_report(y_test, y_pred_test_dt_pruned))"
   ]
  },
  {
   "cell_type": "code",
   "execution_count": null,
   "metadata": {
    "colab": {
     "base_uri": "https://localhost:8080/",
     "height": 582
    },
    "executionInfo": {
     "elapsed": 16,
     "status": "ok",
     "timestamp": 1718714545463,
     "user": {
      "displayName": "Vikas Singh",
      "userId": "04375885343580620832"
     },
     "user_tz": -330
    },
    "id": "waE0y5CMnYLC",
    "outputId": "f6fa5940-260a-4249-e6e3-37444eb98390"
   },
   "outputs": [],
   "source": [
    "fpr_pruned, tpr_pruned, thresholds_pruned = roc_curve(y_test, y_pred_prob_dt_pruned)\n",
    "roc_auc_pruned = auc(fpr_pruned, tpr_pruned)\n",
    "\n",
    "# Compute Youden's J statistic for each threshold\n",
    "youden_j_pruned = tpr_pruned - fpr_pruned\n",
    "optimal_threshold_index_pruned = np.argmax(youden_j_pruned)\n",
    "optimal_threshold_pruned = thresholds_pruned[optimal_threshold_index_pruned]\n",
    "\n",
    "print(f\"Optimal Threshold (Pruned): {optimal_threshold_pruned:.4f}\")\n",
    "\n",
    "# Plot ROC curve with the optimal threshold marked for the pruned model\n",
    "plt.figure(figsize=(8, 6))\n",
    "plt.plot(fpr_pruned, tpr_pruned, color='blue', lw=2, label=f'ROC curve (area = {roc_auc_pruned:.2f})')\n",
    "plt.scatter(fpr_pruned[optimal_threshold_index_pruned], tpr_pruned[optimal_threshold_index_pruned], color='red', marker='o', label=f'Optimal Threshold = {optimal_threshold_pruned:.4f}')\n",
    "plt.plot([0, 1], [0, 1], color='grey', lw=2, linestyle='--')\n",
    "plt.xlim([0.0, 1.0])\n",
    "plt.ylim([0.0, 1.05])\n",
    "plt.xlabel('False Positive Rate')\n",
    "plt.ylabel('True Positive Rate')\n",
    "plt.title('Receiver Operating Characteristic (ROC) Curve (Pruned)')\n",
    "plt.legend(loc='lower right')\n",
    "plt.show()"
   ]
  },
  {
   "cell_type": "markdown",
   "metadata": {
    "id": "du3eACWAvFuu"
   },
   "source": [
    "### __Observation:__\n",
    "\n",
    "- Pruning the decision tree has successfully reduced overfitting, as indicated by the reduced training accuracy and improved testing accuracy.\n",
    "- The pruned model shows more consistent cross-validation performance, indicating better stability and generalization.\n",
    "- The overall classification metrics remain high, demonstrating that the pruned model maintains strong performance while avoiding the pitfalls of overfitting."
   ]
  },
  {
   "cell_type": "markdown",
   "metadata": {
    "id": "hRTV0MzcqUGq"
   },
   "source": [
    "### __4.5.5 Hyperparameter Tuning in Decision Tree__:\n",
    "\n",
    "Hyperparameter tuning is a critical step in optimizing the performance of a Decision Tree model. The process involves selecting the best set of hyperparameters that maximize the model's performance. Here’s an overview of key hyperparameters in a Decision Tree, their impact, and common tuning techniques:\n",
    "\n",
    "**Key Hyperparameters:**\n",
    "\n",
    "1. **max_depth:**\n",
    "The maximum depth of the tree. It controls the maximum number of splits from the root to a leaf.\n",
    "\n",
    "  Impact: Limiting the depth can prevent overfitting (by reducing the model complexity) and underfitting (by ensuring the tree is deep enough to capture the data patterns).\n",
    "\n",
    "2. **min_samples_split:**\n",
    "The minimum number of samples required to split an internal node.\n",
    "\n",
    "  Impact: Higher values prevent the model from learning overly specific patterns (overfitting) by requiring a minimum number of samples to make a split.\n",
    "\n",
    "3. **min_samples_leaf:**\n",
    "The minimum number of samples required to be at a leaf node.\n",
    "\n",
    "  Impact: Setting this parameter can ensure that leaf nodes have enough samples to represent meaningful data patterns.\n",
    "\n",
    "4. **max_features:**\n",
    "The number of features to consider when looking for the best split.\n",
    "\n",
    "  Impact: Reducing the number of features considered can reduce overfitting and computation time, but too few features might miss important information.\n",
    "\n",
    "5. **ccp_alpha:**\n",
    "Complexity parameter used for Minimal Cost-Complexity Pruning. It controls the amount of pruning applied.\n",
    "\n",
    "  Impact: Higher values of ccp_alpha result in more pruning, which can simplify the model and reduce overfitting.\n",
    "\n",
    "6. **criterion:**\n",
    "The function to measure the quality of a split (e.g., \"gini\" for Gini impurity and \"entropy\" for Information Gain).\n",
    "\n",
    "  Impact: The choice of criterion can influence the tree structure and performance"
   ]
  },
  {
   "cell_type": "markdown",
   "metadata": {
    "id": "9Vn567K9rbOM"
   },
   "source": [
    "**Hyperparameter Tuning Techniques:**\n",
    "\n",
    "1. **Grid Search:** An exhaustive search over a specified parameter grid.\n",
    "\n",
    "  **Implementation:** Using GridSearchCV in scikit-learn to evaluate all combinations of hyperparameter values.\n",
    "\n",
    "\n",
    "2. **Random Search:** A random search over a specified parameter grid.\n",
    "\n",
    "  **Implementation:** Using RandomizedSearchCV in scikit-learn to sample a fixed number of parameter settings from the specified grid."
   ]
  },
  {
   "cell_type": "markdown",
   "metadata": {
    "id": "9rNrqT8WDAoP"
   },
   "source": [
    "#### __Implementation of hyperparameter tuning using Grid Search Technique:__"
   ]
  },
  {
   "cell_type": "markdown",
   "metadata": {
    "id": "NHYmVrXnAiLt"
   },
   "source": [
    "**Explanation of `param_grid` for performing GridSearchcv:**\n",
    "\n",
    "- **'dt__max_depth'**:\n",
    "  - **Values**: `[None, 10, 20, 30]`\n",
    "  - **Meaning**: The maximum depth of the decision tree. If `None`, the nodes are expanded until all leaves are pure or until all leaves contain less than `min_samples_split` samples. Specific values (10, 20, 30) limit the depth of the tree to control its complexity and prevent overfitting.\n",
    "\n",
    "- **'dt__min_samples_split'**:\n",
    "  - **Values**: `[2, 5, 10]`\n",
    "  - **Meaning**: The minimum number of samples required to split an internal node. Higher values prevent the model from learning overly specific patterns by requiring more samples for a split.\n",
    "\n",
    "- **'dt__min_samples_leaf'**:\n",
    "  - **Values**: `[1, 2, 4]`\n",
    "  - **Meaning**: The minimum number of samples required to be at a leaf node. This parameter ensures that leaf nodes have a minimum number of samples, which helps prevent overfitting.\n",
    "\n",
    "- **'dt__max_features'**:\n",
    "  - **Values**: `[None, 'sqrt', 'log2']`\n",
    "  - **Meaning**: The number of features to consider when looking for the best split:\n",
    "    - `None`: Consider all features.\n",
    "    - `'sqrt'`: Consider the square root of the total number of features.\n",
    "    - `'log2'`: Consider the base-2 logarithm of the total number of features.\n",
    "  - This parameter helps to reduce overfitting by considering fewer features.\n",
    "\n",
    "- **'dt__ccp_alpha'**:\n",
    "  - **Values**: `[0.0, 0.01, 0.1]`\n",
    "  - **Meaning**: Complexity parameter used for Minimal Cost-Complexity Pruning. It controls the amount of pruning applied:\n",
    "    - `0.0`: No pruning.\n",
    "    - `0.01` and `0.1`: Apply pruning with increasing intensity, potentially reducing model complexity and preventing overfitting.\n",
    "\n",
    "**Purpose:**\n",
    "\n",
    "The `param_grid` dictionary is used by `GridSearchCV` to perform an exhaustive search over these hyperparameter values. `GridSearchCV` will train the model for each combination of the specified hyperparameters and evaluate their performance using cross-validation."
   ]
  },
  {
   "cell_type": "code",
   "execution_count": null,
   "metadata": {
    "colab": {
     "base_uri": "https://localhost:8080/"
    },
    "executionInfo": {
     "elapsed": 17048,
     "status": "ok",
     "timestamp": 1718714562499,
     "user": {
      "displayName": "Vikas Singh",
      "userId": "04375885343580620832"
     },
     "user_tz": -330
    },
    "id": "CW5TGQONAAm_",
    "outputId": "4087a22b-810e-4b13-ee8c-e364e58ce179"
   },
   "outputs": [],
   "source": [
    "from sklearn.model_selection import GridSearchCV\n",
    "\n",
    "pipeline = Pipeline([\n",
    "    ('scaler', StandardScaler()),  # Standardize the data\n",
    "    ('dt', DecisionTreeClassifier(random_state=42))  # Decision Tree classifier\n",
    "])\n",
    "\n",
    "# Define the parameter grid for GridSearchCV\n",
    "param_grid = {\n",
    "    'dt__max_depth': [None, 10, 20, 30],\n",
    "    'dt__min_samples_split': [2, 5, 10],\n",
    "    'dt__min_samples_leaf': [1, 2, 4],\n",
    "    'dt__max_features': [None, 'sqrt', 'log2'],\n",
    "    'dt__ccp_alpha': [0.0, 0.01, 0.1]\n",
    "}\n",
    "\n",
    "# Initialize GridSearchCV\n",
    "grid_search = GridSearchCV(pipeline, param_grid, cv=5, scoring='accuracy')\n",
    "\n",
    "# Perform Grid Search\n",
    "grid_search.fit(x_train, y_train)\n",
    "\n",
    "# Print the best parameters and the corresponding score\n",
    "print(f\"Best Parameters: {grid_search.best_params_}\")\n",
    "print(f\"Best Cross-Validation Score: {grid_search.best_score_}\")\n",
    "\n",
    "# Predict on the testing set with the best estimator\n",
    "y_pred = grid_search.best_estimator_.predict(x_test)\n",
    "\n",
    "# Calculate and print the testing accuracy\n",
    "testing_accuracy = accuracy_score(y_test, y_pred)\n",
    "print(f\"Testing Accuracy: {testing_accuracy}\")"
   ]
  },
  {
   "cell_type": "markdown",
   "metadata": {
    "id": "fcqygBLFHD7M"
   },
   "source": [
    "##__4.6 Support Vector Machine (SVM)__##\n"
   ]
  },
  {
   "cell_type": "markdown",
   "metadata": {
    "id": "3b6Ujv3aJjB7"
   },
   "source": [
    "It is a supervised machine-learning algorithm used for both classification and regression challenges. It is mainly utilized for classification-related problems.\n",
    "\n"
   ]
  },
  {
   "cell_type": "markdown",
   "metadata": {
    "id": "gqEhSRoLJjPB"
   },
   "source": [
    "* In support vector machine, the required straight line to fit the data is called the hyperplane.\n",
    "* The goal of the Support Vector Machine algorithm is to find a hyperplane in an n-dimensional space that distinctly classifies the data points.\n",
    "* The closest data points to the hyperplane on either side are called Support Vectors.\n",
    "* These support vectors influence the position and orientation of the hyperplane, aiding in the construction of the SVM.\n"
   ]
  },
  {
   "cell_type": "markdown",
   "metadata": {
    "id": "-CzU0WLcLc91"
   },
   "source": [
    "![link text](https://labcontent.simplicdn.net/data-content/content-assets/Data_and_AI/ML/updated/Lesson_05/SVM.png)"
   ]
  },
  {
   "cell_type": "markdown",
   "metadata": {
    "id": "cIJzTwN3LyEh"
   },
   "source": [
    "**There are two types of support vector machines:**\n",
    "\n",
    "- **Linear SVM** separates the data in a linear format.\n",
    "If the data set is separated into two using a straight line, the data is linearly separable.\n"
   ]
  },
  {
   "cell_type": "markdown",
   "metadata": {
    "id": "EGRhB0X2LyId"
   },
   "source": [
    "- **Nonlinear SVM** is used when data is nonlinearly separated. If the dataset cannot be separated into two using a straight line, the data is nonlinear.\n"
   ]
  },
  {
   "cell_type": "markdown",
   "metadata": {
    "id": "ssulpegMHD9i"
   },
   "source": [
    "## __4.6.1 Applying SVM on Breast Cancer Dataset__"
   ]
  },
  {
   "cell_type": "code",
   "execution_count": null,
   "metadata": {
    "colab": {
     "base_uri": "https://localhost:8080/"
    },
    "executionInfo": {
     "elapsed": 32,
     "status": "ok",
     "timestamp": 1718714562499,
     "user": {
      "displayName": "Vikas Singh",
      "userId": "04375885343580620832"
     },
     "user_tz": -330
    },
    "id": "aWMi1uQsE7t7",
    "outputId": "11f653fb-e136-4014-b2f9-6f8d4d13005a"
   },
   "outputs": [],
   "source": [
    "# Import necessary libraries\n",
    "from sklearn.svm import SVC\n",
    "\n",
    "# Create a pipeline with a standard scaler and an SVM classifier\n",
    "pipeline_svm = Pipeline([\n",
    "    ('scaler', StandardScaler()),  # Standardize the data\n",
    "    ('svm', SVC(probability=True, random_state=42))  # SVM classifier with probability estimates\n",
    "])\n",
    "\n",
    "# Train the pipeline on the training data\n",
    "pipeline_svm.fit(x_train, y_train)\n",
    "\n",
    "# Predict on the training and testing set\n",
    "y_pred_train_svm = pipeline_svm.predict(x_train)\n",
    "y_pred_test_svm = pipeline_svm.predict(x_test)\n",
    "\n",
    "# Calculate training and testing accuracy\n",
    "training_accuracy = accuracy_score(y_train, y_pred_train_svm)\n",
    "testing_accuracy = accuracy_score(y_test, y_pred_test_svm)\n",
    "print(\"\\nSupport Vector Machines (SVM)\")\n",
    "print(f\"Training Accuracy: {training_accuracy}\")\n",
    "print(f\"Testing Accuracy: {testing_accuracy}\")\n",
    "\n",
    "# Predict probabilities for the test set\n",
    "y_pred_prob_svm = pipeline_svm.predict_proba(x_test)[:, 1]\n"
   ]
  },
  {
   "cell_type": "code",
   "execution_count": null,
   "metadata": {
    "colab": {
     "base_uri": "https://localhost:8080/",
     "height": 206
    },
    "executionInfo": {
     "elapsed": 29,
     "status": "ok",
     "timestamp": 1718714562499,
     "user": {
      "displayName": "Vikas Singh",
      "userId": "04375885343580620832"
     },
     "user_tz": -330
    },
    "id": "sQSDD9RQFr6m",
    "outputId": "545f8803-a152-4c8f-9de6-560998dd03f5"
   },
   "outputs": [],
   "source": [
    "results_df = pd.DataFrame({\n",
    "    'Actual Label': y_test,\n",
    "    'Predicted Label': y_pred_test_svm,\n",
    "    'Predicted Probability': y_pred_prob_svm\n",
    "})\n",
    "\n",
    "results_df.head()"
   ]
  },
  {
   "cell_type": "code",
   "execution_count": null,
   "metadata": {
    "colab": {
     "base_uri": "https://localhost:8080/",
     "height": 505
    },
    "executionInfo": {
     "elapsed": 1288,
     "status": "ok",
     "timestamp": 1718714563761,
     "user": {
      "displayName": "Vikas Singh",
      "userId": "04375885343580620832"
     },
     "user_tz": -330
    },
    "id": "KRwq4Mq-U7Og",
    "outputId": "a92947c7-f6bf-424e-8705-0d73292cebdd"
   },
   "outputs": [],
   "source": [
    "# Print confusion matrix\n",
    "conf_matrix_svm = confusion_matrix(y_test, y_pred_test_svm)\n",
    "print(\"Confusion Matrix:\")\n",
    "print(conf_matrix_svm)\n",
    "\n",
    "cm_display = ConfusionMatrixDisplay(confusion_matrix = conf_matrix_svm, display_labels = [\"benign\", \"malignant\"])\n",
    "# display matrix\n",
    "cm_display.plot()\n",
    "plt.show()\n"
   ]
  },
  {
   "cell_type": "code",
   "execution_count": null,
   "metadata": {
    "colab": {
     "base_uri": "https://localhost:8080/"
    },
    "executionInfo": {
     "elapsed": 23,
     "status": "ok",
     "timestamp": 1718714563763,
     "user": {
      "displayName": "Vikas Singh",
      "userId": "04375885343580620832"
     },
     "user_tz": -330
    },
    "id": "oMt6cqJnGfry",
    "outputId": "08637ced-5da8-462f-9249-0e75ab43120d"
   },
   "outputs": [],
   "source": [
    "# Print classification report\n",
    "print(\"\\t\\tSupport Vector Machines Classification Report:\")\n",
    "print(\"\\t\\t------------------------------------------\")\n",
    "print(classification_report(y_test, y_pred_test_svm))"
   ]
  },
  {
   "cell_type": "markdown",
   "metadata": {
    "id": "TFrK4DdsGuCC"
   },
   "source": [
    "**Note: Encourage the learners to deduce results from the Classification report and ROC curve**"
   ]
  },
  {
   "cell_type": "code",
   "execution_count": null,
   "metadata": {
    "colab": {
     "base_uri": "https://localhost:8080/",
     "height": 582
    },
    "executionInfo": {
     "elapsed": 19,
     "status": "ok",
     "timestamp": 1718714563763,
     "user": {
      "displayName": "Vikas Singh",
      "userId": "04375885343580620832"
     },
     "user_tz": -330
    },
    "id": "3dS7MKSpHALk",
    "outputId": "65bd3afa-1ab3-48ed-c179-648f3c1a802f"
   },
   "outputs": [],
   "source": [
    "# Plot ROC and AUC\n",
    "fpr, tpr, thresholds = roc_curve(y_test, y_pred_prob_svm)\n",
    "roc_auc = auc(fpr, tpr)\n",
    "\n",
    "# Compute Youden's J statistic for each threshold\n",
    "youden_j = tpr - fpr\n",
    "optimal_threshold_index = np.argmax(youden_j)\n",
    "optimal_threshold = thresholds[optimal_threshold_index]\n",
    "\n",
    "print(f\"Optimal Threshold: {optimal_threshold:.4f}\")\n",
    "\n",
    "# Plot ROC curve with the optimal threshold marked\n",
    "plt.figure(figsize=(8, 6))\n",
    "plt.plot(fpr, tpr, color='blue', lw=2, label=f'ROC curve (area = {roc_auc:.2f})')\n",
    "plt.scatter(fpr[optimal_threshold_index], tpr[optimal_threshold_index], color='red', marker='o', label=f'Optimal Threshold = {optimal_threshold:.4f}')\n",
    "plt.plot([0, 1], [0, 1], color='grey', lw=2, linestyle='--')\n",
    "plt.xlim([0.0, 1.0])\n",
    "plt.ylim([0.0, 1.05])\n",
    "plt.xlabel('False Positive Rate')\n",
    "plt.ylabel('True Positive Rate')\n",
    "plt.title('Receiver Operating Characteristic (ROC) Curve')\n",
    "plt.legend(loc='lower right')\n",
    "plt.show()"
   ]
  },
  {
   "cell_type": "markdown",
   "metadata": {
    "id": "Z78S8IqK3C1n"
   },
   "source": [
    "### __4.6.2 Hyperparameter Tuning:__\n",
    "\n",
    "In Support Vector Machines (SVM), hyperparameters play a crucial role in determining the model's performance. Here are some key hyperparameters typically adjusted in SVM:\n",
    "\n",
    "- **Kernel Type:** The kernel function transforms the input data into a higher-dimensional space where a hyperplane can be used to separate classes that are not linearly separable in the original space. Common kernels include:\n",
    "\n",
    "  * Linear: No transformation is done; suitable for linearly separable data.\n",
    "  * Polynomial: Transforms data by considering polynomial combinations of the features.\n",
    "  * Radial Basis Function (RBF): Exploits the distance between the feature vectors in a radial basis.\n",
    "\n",
    "Sigmoid: Uses a sigmoid function to transform data.\n",
    "\n",
    "- **C (Regularization Parameter):** This parameter trades off correct classification of training examples against maximization of the decision function’s margin. A higher C tries to classify all training examples correctly (low bias but high variance), while a lower C allows more misclassifications but pushes for a larger margin (high bias but low variance).\n",
    "\n",
    "- **Gamma (γ):** This hyperparameter is used with certain types of kernels like the RBF, where it defines how far the influence of a single training example reaches. Low values mean 'far' and high values mean 'close'. The gamma parameter can be crucial in avoiding overfitting or underfitting in the SVM model."
   ]
  },
  {
   "cell_type": "markdown",
   "metadata": {
    "id": "DgsxaZ9a4Dbv"
   },
   "source": [
    "**Note:** You have seen hyperparameter tuning for KNN and decision trees. Now, using that approach, take one hyperparameter and tune it as practice for SVM."
   ]
  },
  {
   "cell_type": "markdown",
   "metadata": {
    "id": "Hn_Diygt-eCR"
   },
   "source": [
    "## __Conclusion:__\n",
    "\n",
    "Classification is a vital technique in supervised machine learning that focuses on identifying categorical outcomes based on given inputs. In this series of lessons, you have engaged with the core principles of classification, including its various types and applications across different sectors such as healthcare, finance, and retail.\n",
    "\n",
    "You have been introduced to several key classification algorithms including Logistic Regression, Naive Bayes, K-Nearest Neighbors, Decision Trees, and Support Vector Machines. Each method was explored through theoretical discussions and practical examples, particularly using the Breast Cancer dataset to illustrate real-world application.\n",
    "\n",
    "Furthermore, you have learned to assess the effectiveness of these classification models using performance metrics such as accuracy, precision, recall, and the F1-score, alongside more comprehensive evaluations like ROC curves and confusion matrices. Issues like overfitting and model tuning were addressed, enhancing your understanding of how to optimize model performance through hyperparameter adjustments."
   ]
  },
  {
   "cell_type": "markdown",
   "metadata": {
    "id": "xNo10_46XgFE"
   },
   "source": [
    "# APPENDIX"
   ]
  },
  {
   "cell_type": "markdown",
   "metadata": {
    "id": "kj2pYuJoXkVt"
   },
   "source": [
    "## Naive Bayes' classifier"
   ]
  },
  {
   "cell_type": "markdown",
   "metadata": {
    "id": "D_DgHYBKXq9x"
   },
   "source": [
    "* As a first step toward prediction using Naive Baye's theorem, you will have to estimate the frequency of each and every attribute.\n",
    "\n",
    "  ![NB2](https://labcontent.simplicdn.net/data-content/content-assets/Data_and_AI/Applied_Machine_Learning/Images/0.7_Supervised_Learning_-_Regression_and_Classification/Trainer_PPT_and_IPYNB/0.4_Classification/NB2.JPG)"
   ]
  },
  {
   "cell_type": "markdown",
   "metadata": {
    "id": "KSvOH3jdXztj"
   },
   "source": [
    "* Calculating the likelihood of each attribute:\n",
    "\n",
    "  ![NB3](https://labcontent.simplicdn.net/data-content/content-assets/Data_and_AI/Applied_Machine_Learning/Images/0.7_Supervised_Learning_-_Regression_and_Classification/Trainer_PPT_and_IPYNB/0.4_Classification/NB3.JPG)\n",
    "  <br><br><br>\n",
    "\n",
    "  ![NB4](https://labcontent.simplicdn.net/data-content/content-assets/Data_and_AI/Applied_Machine_Learning/Images/0.7_Supervised_Learning_-_Regression_and_Classification/Trainer_PPT_and_IPYNB/0.4_Classification/NB4.JPG)"
   ]
  },
  {
   "cell_type": "markdown",
   "metadata": {
    "id": "m9uEQ8-DX0q0"
   },
   "source": [
    "* Let us find the probability of playing golf under the following conditions:\n",
    "\t* Outlook \t\t=\tRain\n",
    "\t* Humidity \t\t=\tHigh\n",
    "\t* Windy\t\t\t=\tFalse\n",
    "\t* Play\t\t\t=\t?"
   ]
  },
  {
   "cell_type": "markdown",
   "metadata": {
    "id": "1JEebNoZX8Ee"
   },
   "source": [
    "__Solution__ <br>\n",
    "We compute <br>\n",
    "P(YES / (Outlook=Rain and Humidity=High and Windy=False))<br>\n",
    "and<br>\n",
    "P(NO / (Outlook=Rain and Humidity=High and Windy=False))<br>\n",
    "\n",
    "and classify as \"YES\" or \"NO\", according to which probability is higher.<br>\n",
    "\n",
    "$\n",
    "\\textrm{P(YES | Outlook=Rain, Humidity=High, Wind=Weak)} = \\frac{\\textrm{P(Outlook=Rain, Humidity=High, Wind=False | YES)} \\times \\textrm{P(YES)}}{\\textrm{P(Outlook=Rain, Humidity=High, Wind=False)}}\n",
    "$\n",
    "\n",
    "OR\n",
    "\n",
    "$\n",
    "\\textrm{P(NO | Outlook=Rain, Humidity=High, Wind=Weak)} = \\frac{\\textrm{P(Outlook=Rain, Humidity=High, Wind=False | NO)} \\times \\textrm{P(NO)}}{\\textrm{P(Outlook=Rain, Humidity=High, Wind=False)}}\n",
    "$\n"
   ]
  },
  {
   "cell_type": "markdown",
   "metadata": {
    "id": "9-X7jtClX-9J"
   },
   "source": [
    "Remark: To compare the 2 probabilities, since the 2 formulas have the same denominator, it is enough to compute the numerators.<br>"
   ]
  },
  {
   "cell_type": "markdown",
   "metadata": {
    "id": "z4eq1D05YBPg"
   },
   "source": [
    "Assuming that all the features are independent (WHICH IS A HUGE ASSUMPTION),\n",
    "\n",
    "$\n",
    "\\textrm{P}\\left( \\textrm{(Outlook=Rain and Humidity=High and Windy=False) / YES)}\\right) \\times \\textrm{P(YES)} = \\\\\n",
    "$\n",
    "\n",
    "$\n",
    "\\textrm{P(Outlook=Rain / YES)}\\times \\textrm{P(Humidity=High / YES)}\\times \\textrm{P(Windy=False / YES )}\\times \\textrm{P(YES)} =\n",
    "$\n",
    "\n",
    "$\n",
    "\\frac{2}{9} \\times \\frac{3}{9} \\times \\frac{6}{9} \\times \\frac{9}{14} \\approx  0.03175\n",
    "$\n",
    "\n",
    "and\n",
    "\n",
    "$\n",
    "\\textrm{P}\\left( \\textrm{(Outlook=Rain and Humidity=High and Windy=False) / NO)}\\right) \\times \\textrm{P(NO)} =\n",
    "$\n",
    "\n",
    "$ \\textrm{P(Outlook=Rain / NO)}\\times \\textrm{P(Humidity=High / NO)}\\times \\textrm{P(Windy=False / NO )}\\times \\textrm{P(NO)} = $\n",
    "\n",
    "\n",
    "$\n",
    "\\frac{3}{5} \\times \\frac{4}{5} \\times \\frac{2}{5} \\times \\frac{5}{14} \\approx  0.06857\n",
    "$"
   ]
  },
  {
   "cell_type": "markdown",
   "metadata": {
    "id": "mOxkvwiLYE6p"
   },
   "source": [
    "__Conclusion:__ <br>\n",
    "The classification is NO. <br>"
   ]
  },
  {
   "cell_type": "markdown",
   "metadata": {
    "id": "cTZGO2IVYIQs"
   },
   "source": [
    "__Remark__\n",
    "If we want to compute the actual probabilities $\\textrm{P(YES / (Outlook=Rain and Humidity=High and Wind=Weak))}$ and $\\textrm{P(YES / (Outlook=Rain and Humidity=High and Wind=Weak))}$, we can normalize so that the sum of the 2 is equal to 1. The reason why we need to normalize, if we want these probabilities, is because we neglected computing the denominator above. <br>\n",
    "\n",
    "$\\textrm{P(YES / (Outlook=Rain and Humidity=High and Wind=Weak))} = \\frac{0.03175}{0.03175+0.06857} \\approx 0.32\\ ,$\n",
    "\n",
    "$\\textrm{P(YES / (Outlook=Rain and Humidity=High and Wind=Weak))} = \\frac{0.06857}{0.03175+0.06857} \\approx 0.68\\ .$"
   ]
  },
  {
   "cell_type": "markdown",
   "metadata": {
    "id": "_zMCJ515a-_1"
   },
   "source": [
    "##"
   ]
  },
  {
   "cell_type": "markdown",
   "metadata": {
    "id": "2btjLv9ga24g"
   },
   "source": [
    "## Decision tree"
   ]
  },
  {
   "cell_type": "markdown",
   "metadata": {
    "id": "2VfQjH5XbAzX"
   },
   "source": [
    "#### **Example:**\n",
    "\n",
    "Form a decision tree to check if the match will be played or not based on climatic conditions\n",
    "\n",
    "<br>\n",
    "\n",
    "![DT2](https://labcontent.simplicdn.net/data-content/content-assets/Data_and_AI/Applied_Machine_Learning/Images/0.8_Decision_Trees_and_Random_Forest/Trainer_PPT_and_IPYNB/DT2.JPG)"
   ]
  },
  {
   "cell_type": "markdown",
   "metadata": {
    "id": "vwsjwpaZbDJa"
   },
   "source": [
    "![DT3](https://labcontent.simplicdn.net/data-content/content-assets/Data_and_AI/Applied_Machine_Learning/Images/0.8_Decision_Trees_and_Random_Forest/Trainer_PPT_and_IPYNB/DT3.JPG)"
   ]
  },
  {
   "cell_type": "markdown",
   "metadata": {
    "id": "BF9GLdf2bGv9"
   },
   "source": [
    "* Remember the following datasets.\n",
    "\n",
    "  ![NB2](https://labcontent.simplicdn.net/data-content/content-assets/Data_and_AI/Applied_Machine_Learning/Images/0.7_Supervised_Learning_-_Regression_and_Classification/Trainer_PPT_and_IPYNB/0.4_Classification/NB2.JPG)"
   ]
  },
  {
   "cell_type": "markdown",
   "metadata": {
    "id": "q4E7KwTxbKWk"
   },
   "source": [
    "* Calculating the likelihood of each attribute:\n",
    "\n",
    "  ![NB3](https://labcontent.simplicdn.net/data-content/content-assets/Data_and_AI/Applied_Machine_Learning/Images/0.7_Supervised_Learning_-_Regression_and_Classification/Trainer_PPT_and_IPYNB/0.4_Classification/NB3.JPG)\n",
    "  <br><br><br>\n",
    "\n",
    "  ![NB4](https://labcontent.simplicdn.net/data-content/content-assets/Data_and_AI/Applied_Machine_Learning/Images/0.7_Supervised_Learning_-_Regression_and_Classification/Trainer_PPT_and_IPYNB/0.4_Classification/NB4.JPG)"
   ]
  },
  {
   "cell_type": "markdown",
   "metadata": {
    "id": "GWsC_c59bMnX"
   },
   "source": [
    "Let us consider an example where:\n",
    "* Sample for humidity = [High, Normal] = [9+, 5-]\n",
    "\n",
    "* Sample for wind = [Weak, Strong] = [9+,5-]\n",
    "<br><br>\n",
    "\n",
    "#### **1. Method for selecting a node: Gain**\n",
    "\n",
    "  ![DT4](https://labcontent.simplicdn.net/data-content/content-assets/Data_and_AI/Applied_Machine_Learning/Images/0.8_Decision_Trees_and_Random_Forest/Trainer_PPT_and_IPYNB/DT4.JPG)"
   ]
  },
  {
   "cell_type": "markdown",
   "metadata": {
    "id": "B6sdJEptbPmi"
   },
   "source": [
    "Explanation: Starting for the whole dataset, we want to compare using \"Humidity\" as a aplitting feature and using \"Windy\" as a splitting feature.<br>\n",
    "In the full dataset, we have 14 elements, including 9 \"YES\" and 5 \"NO\". The entropy is\n",
    "$$E = - P(\\textrm{YES})\\times \\textrm{log} _2 (P(\\textrm{YES})) - P(\\textrm({NO})\\times \\textrm{log} _2 (P(\\textrm{NO})) = -\\frac{9}{14}\\times \\textrm{log} _2\\left( \\frac{9}{14}\\right) - \\frac{5}{14}\\times \\textrm{log} _2\\left( \\frac{5}{14}\\right) \\approx 0.94$$\n",
    "$$ $$\n",
    "If we split for \"Humidity\", the resulting entropy for \"High\" is\n",
    "$$E_1 = - P(\\textrm{YES / Humidity=\"High\"})\\times \\textrm{log} _2 (P(\\textrm{YES / Humidity=\"High\"})) - P(\\textrm{NO / Humidity=\"High\"})\\times \\textrm{log} _2 (P(\\textrm{NO / Humidity=\"High\"})) = -\\frac{3}{7}\\times \\textrm{log} _2\\left( \\frac{3}{7}\\right) - \\frac{4}{7}\\times \\textrm{log} _2\\left( \\frac{4}{7}\\right) \\approx 0.985\\ ,$$\n",
    "$$ $$\n",
    "and the resulting entropy for \"Normal\" is\n",
    "$$E2 = - P(\\textrm{YES / Humidity=\"Normal\"})\\times \\textrm{log} _2 (P(\\textrm{YES / Humidity=\"Normal\"})) - P(\\textrm{NO / Humidity=\"Normal\"})\\times \\textrm{log} _2 (P(\\textrm{NO / Humidity=\"Normal\"})) = -\\frac{6}{7}\\times \\textrm{log} _2\\left( \\frac{6}{7}\\right) - \\frac{1}{7}\\times \\textrm{log} _2\\left( \\frac{1}{7}\\right) \\approx 0.592\\ .$$\n",
    "$$ $$\n",
    "$$ $$\n",
    "If we split for \"Humidity\",, the gain is then\n",
    "$$\\textrm{Gain}_{\\textrm{Humidity}} = E - E_1\\times P(\\textrm{Humidity = \"High\"})- E_2 \\times P(\\textrm{Humidity = \"Normal\"}) \\approx 0.94 - 0.985 \\times \\frac{7}{14} -  0.592 \\times \\frac{7}{14} \\approx 0.151\\ .$$\n",
    "$$ $$\n",
    "\n",
    "Repeating the same process for the feature \"Windy\", we get\n",
    "$$\\textrm{Gain}_{\\textrm{Windy}} \\approx 0.048\\ .$$\n",
    "\n",
    "Then, we repeat the same process for the other features and we decide to split for the feature for which the Gain is MAXIMUM."
   ]
  },
  {
   "cell_type": "markdown",
   "metadata": {
    "id": "h9L_FJCAbVZc"
   },
   "source": [
    "**b. Select highest gain:**\n",
    "\n",
    "  ![DT5](https://labcontent.simplicdn.net/data-content/content-assets/Data_and_AI/Applied_Machine_Learning/Images/0.8_Decision_Trees_and_Random_Forest/Trainer_PPT_and_IPYNB/DT5.JPG)\n",
    "\n",
    "**c. Inference:**\n",
    "\n",
    "* Humidity provides the best prediction for the target\n",
    "* For each possible value of Humidity, you can add a successor to the tree"
   ]
  },
  {
   "cell_type": "markdown",
   "metadata": {
    "id": "s9lkPJI3bmV4"
   },
   "source": [
    "<br>\n",
    "\n",
    "#### **2. Other method for selecting a node: Gini Index**"
   ]
  },
  {
   "cell_type": "markdown",
   "metadata": {
    "id": "Gmfsa4tabrAQ"
   },
   "source": [
    "The Gini Index is a metric that measures the likelihood that a randomly chosen element will be incorrectly identified. It means an attribute with a low Gini index should be preferred. The decision tree algorithm aims to achieve partitions in the terminal nodes as pure as possible. The Gini index is one method used to achieve this.\n",
    "* It is calculated by subtracting the sum of the squared probabilities of each class from one.\n",
    "\n",
    "\n",
    " ##### **Formula:**\n",
    "$$Gini(D)=1-\\sum_{i=1}^{C}\\ (p_i)^2$$\n",
    "\n",
    "  Where, $p_i$ is the probability that a tuple in $D$ belongs to class $C_i$."
   ]
  },
  {
   "cell_type": "markdown",
   "metadata": {
    "id": "JUrMFrgXburq"
   },
   "source": [
    "* It uses a binary split for every variable where, weighted sum of the impurity of each partition is computed in splitting.\n",
    "  \n",
    "  ##### **Example:**\n",
    "  \n",
    "  Binary split on variable A partitions data D into D1 and D2.\n",
    "\n",
    "  What is the Gini index of D?\n",
    "\n",
    "  $$Gini_A(D)= \\frac{|D_1|}{|D|}\\ Gini(D_1)\\ + \\frac{|D_2|}{|D|}\\ Gini(D_2)$$"
   ]
  },
  {
   "cell_type": "markdown",
   "metadata": {
    "id": "dSq8E1tqby2p"
   },
   "source": [
    "* In case of a discrete-valued attribute, the subset that gives the minimum gini index is selected as a splitting attribute. In the case of continuous-valued attributes, the strategy is to select each pair of adjacent values as a possible split-point and point with smaller gini index chosen as the splitting point."
   ]
  },
  {
   "cell_type": "markdown",
   "metadata": {
    "id": "aX3o7Cd9b1rB"
   },
   "source": [
    "__Example above__\n",
    "\n",
    "We set $D = \\textrm{initial set before any split}$ and consider splitting for the feature Humidity. <br>\n",
    "We set $D_1 = \\textrm{Humidity=\"High\"}$ and $D_2 = \\textrm{Humidity=\"Normal\"}$.\n",
    "\n",
    "Then,\n",
    "$$ \\textrm{Gini}_{D_1} = 1 - P(\\textrm{YES / Humidity=\"High\"})^2 - P(\\textrm{NO / Humidity=\"High\"})^2 = 1 - (3/7)^2 - (4/7)^2 \\approx 0.490\\ ,$$\n",
    "\n",
    "$$ \\textrm{Gini}_{D_2} = 1 - P(\\textrm{YES / Humidity=\"Normal\"})^2 - P(\\textrm{NO / Humidity=\"Normal\"})^2 = 1 - (6/7)^2 - (1/7)^2 \\approx 0.245 \\ ,$$\n",
    "\n",
    "and the Gini score for teh humidity split is then\n",
    "$$\\textrm{Gini}_{\\textrm{Humidity}} = \\textrm{Gini}_{D_1} * P(\\textrm{Humidity=\"High\"}) + \\textrm{Gini}_{D_2} * P(\\textrm{Humidity=\"Normal\"}) \\approx 0.490\\times \\frac{7}{14} + 0.245\\times \\frac{7}{14} \\approx 0.3675\\ .$$\n",
    "\n",
    "Then, we repeat the same process for the other features and we decide to split for the feature for which the Gini index is MINIMUM."
   ]
  },
  {
   "cell_type": "markdown",
   "metadata": {
    "id": "hwTIwA7Ub37X"
   },
   "source": [
    "##### **Features:**\n",
    "\n",
    "* Gini index favors larger partitions.\n",
    "* It uses the squared proportion of the classes.\n",
    "* Gini index is perfectly classified when it is zero."
   ]
  },
  {
   "cell_type": "markdown",
   "metadata": {
    "id": "w-J6v3M7cA8w"
   },
   "source": [
    "##### **Overfitting:**\n",
    "\n",
    "Overfitting refers to the unwanted behavior of a machine learning algorithm. It occurs when a model's performance on the training dataset improves at the expense of poor performance on non-training data, such as a holdout test dataset or new data. By testing a machine learning model on both the training dataset and a hold-out dataset, we can determine whether a machine learning model is overfitted. If the performance of the model on the training dataset is significantly better than the performance on the test dataset, then the model may have overfitted the training dataset.\n",
    "\n",
    "---\n",
    "  ![DT6](https://labcontent.simplicdn.net/data-content/content-assets/Data_and_AI/Applied_Machine_Learning/Images/0.8_Decision_Trees_and_Random_Forest/Trainer_PPT_and_IPYNB/DT6.JPG)\n",
    "\n",
    "\n",
    "##### **Pruning:**\n",
    "\n",
    "* The removal of the sub-tree at a node is called pruning.\n",
    "* It is performed iteratively until the tree shows maximum accuracy.\n",
    "* There are two ways to perform pruning:\n",
    "  * Stop the development of the tree at an early stage, i.e., before perfect classification\n",
    "\n",
    "  * Allow overfitting and later prune the tree\n",
    "\n",
    "  ![DT7](https://labcontent.simplicdn.net/data-content/content-assets/Data_and_AI/Applied_Machine_Learning/Images/0.8_Decision_Trees_and_Random_Forest/Trainer_PPT_and_IPYNB/DT7.JPG)"
   ]
  },
  {
   "cell_type": "markdown",
   "metadata": {
    "id": "oFauF4OndAQT"
   },
   "source": [
    "##"
   ]
  },
  {
   "cell_type": "markdown",
   "metadata": {
    "id": "kLF77NUmdBPr"
   },
   "source": [
    "## Support Vector Machines"
   ]
  },
  {
   "cell_type": "code",
   "execution_count": null,
   "metadata": {
    "id": "gUlWBgi2dBrH"
   },
   "outputs": [],
   "source": [
    "Let us understand the following basics before moving on to the mathematics behind SVM:\n",
    "* Linear Separators\n",
    "* Optimal Separation\n",
    "* Classification Margin"
   ]
  },
  {
   "cell_type": "markdown",
   "metadata": {
    "id": "StWRIX6KdJSG"
   },
   "source": [
    "**1. Linear Separators:**\n",
    "\n",
    "Consider a binary separation which can be viewed as the task of separating classes in the feature space.\n",
    "\n",
    "![SVM1](https://labcontent.simplicdn.net/data-content/content-assets/Data_and_AI/Applied_Machine_Learning/Images/0.7_Supervised_Learning_-_Regression_and_Classification/Trainer_PPT_and_IPYNB/0.4_Classification/SVM1.JPG)"
   ]
  },
  {
   "cell_type": "markdown",
   "metadata": {
    "id": "UL8plVMydLhV"
   },
   "source": [
    "**2. Optimal Separation:**\n",
    "\n",
    "Classification becomes difficult in the presence of multiple separators. Therefore, it is important to have an optimal separator.\n",
    "\n",
    "\n",
    "![SVM2](https://labcontent.simplicdn.net/data-content/content-assets/Data_and_AI/Applied_Machine_Learning/Images/0.7_Supervised_Learning_-_Regression_and_Classification/Trainer_PPT_and_IPYNB/0.4_Classification/SVM2.JPG)"
   ]
  },
  {
   "cell_type": "markdown",
   "metadata": {
    "id": "ICF0sHbkdOGe"
   },
   "source": [
    "**3. Classification margin:**\n",
    "\n",
    "* Concept of classification margin:\n",
    "Let's use the diagram below, to understand a separator and classification margin in a better manner.\n",
    "\n",
    "![SVM3](https://labcontent.simplicdn.net/data-content/content-assets/Data_and_AI/Applied_Machine_Learning/Images/0.7_Supervised_Learning_-_Regression_and_Classification/Trainer_PPT_and_IPYNB/0.4_Classification/SVM3.JPG)\n",
    "\n",
    "* Need for maximizing the classification margin:\n",
    "  * It generalizes the predictions and performs better on the test data by not overfitting the model to the training data.\n",
    "  * It takes care of the support vectors, ignoring other training examples.\n",
    "\n",
    "![SVM4](https://labcontent.simplicdn.net/data-content/content-assets/Data_and_AI/Applied_Machine_Learning/Images/0.7_Supervised_Learning_-_Regression_and_Classification/Trainer_PPT_and_IPYNB/0.4_Classification/SVM4.JPG)"
   ]
  },
  {
   "cell_type": "markdown",
   "metadata": {
    "id": "6SFIQzTOdQXa"
   },
   "source": [
    "* Formulate the quadratic optimization problem:\n",
    "\n",
    "  ![SVM6](https://labcontent.simplicdn.net/data-content/content-assets/Data_and_AI/Applied_Machine_Learning/Images/0.7_Supervised_Learning_-_Regression_and_Classification/Trainer_PPT_and_IPYNB/0.4_Classification/SVM6.JPG)\n",
    "\n",
    "\n",
    "* Reformulate the problem as:\n",
    "\n",
    "  ![SVM7](https://labcontent.simplicdn.net/data-content/content-assets/Data_and_AI/Applied_Machine_Learning/Images/0.7_Supervised_Learning_-_Regression_and_Classification/Trainer_PPT_and_IPYNB/0.4_Classification/SVM7.JPG)"
   ]
  },
  {
   "cell_type": "markdown",
   "metadata": {
    "id": "VdHa404IdVV6"
   },
   "source": [
    "###### **4. Nonlinear SVM**"
   ]
  },
  {
   "cell_type": "markdown",
   "metadata": {
    "id": "TLMLGgdVdXvm"
   },
   "source": [
    "![SVM8](https://labcontent.simplicdn.net/data-content/content-assets/Data_and_AI/Applied_Machine_Learning/Images/0.7_Supervised_Learning_-_Regression_and_Classification/Trainer_PPT_and_IPYNB/0.4_Classification/SVM8.JPG)"
   ]
  },
  {
   "cell_type": "markdown",
   "metadata": {
    "id": "S5Ep1zvtdZ5C"
   },
   "source": [
    "**Feature Spaces:**\n",
    "\n",
    "  ![SVM9](https://labcontent.simplicdn.net/data-content/content-assets/Data_and_AI/Applied_Machine_Learning/Images/0.7_Supervised_Learning_-_Regression_and_Classification/Trainer_PPT_and_IPYNB/0.4_Classification/SVM9.JPG)\n",
    "\n",
    "\n",
    "The original feature space can always be mapped to some higher-dimensional feature space where the training set is separable."
   ]
  },
  {
   "cell_type": "markdown",
   "metadata": {
    "id": "1jBAm5CMdctt"
   },
   "source": [
    "###### **Kernel Trick**"
   ]
  },
  {
   "cell_type": "markdown",
   "metadata": {
    "id": "OyaLRe84dfi6"
   },
   "source": [
    "* The linear classifier relies on inner product between vectors K(xi,xj)=xiTxj.\n",
    "\n",
    "* If every datapoint is mapped into high-dimensional space via some transformation **Φ:  x → φ(x)**, the inner product becomes<br>\n",
    "\n",
    "    **K(xi,xj)= φ(xi) Tφ(xj)**\n",
    "    <br>\n",
    "\n",
    "* A **kernel function** is a function that is equivalent to an inner product in a feature space.\n",
    "<br>\n",
    "\n",
    "* **Example:**\n",
    "\n",
    "  ![SVM10](https://labcontent.simplicdn.net/data-content/content-assets/Data_and_AI/Applied_Machine_Learning/Images/0.7_Supervised_Learning_-_Regression_and_Classification/Trainer_PPT_and_IPYNB/0.4_Classification/SVM10.JPG)\n",
    "\n",
    "* Thus, a kernel function implicitly maps data to a high-dimensional space (without the need to compute each φ(x) explicitly)."
   ]
  },
  {
   "cell_type": "markdown",
   "metadata": {
    "id": "Vg8EyL7Adh76"
   },
   "source": []
  }
 ],
 "metadata": {
  "colab": {
   "provenance": []
  },
  "kernelspec": {
   "display_name": ".venv",
   "language": "python",
   "name": "python3"
  },
  "language_info": {
   "codemirror_mode": {
    "name": "ipython",
    "version": 3
   },
   "file_extension": ".py",
   "mimetype": "text/x-python",
   "name": "python",
   "nbconvert_exporter": "python",
   "pygments_lexer": "ipython3",
   "version": "3.12.10"
  }
 },
 "nbformat": 4,
 "nbformat_minor": 0
}
