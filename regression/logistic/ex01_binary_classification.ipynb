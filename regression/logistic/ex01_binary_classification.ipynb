{
 "cells": [
  {
   "cell_type": "markdown",
   "id": "cd0c454d-758c-4504-b4a8-f875ff050413",
   "metadata": {
    "id": "cd0c454d-758c-4504-b4a8-f875ff050413"
   },
   "source": [
    "### <b>**Binary classification using logistic regression** </b>"
   ]
  },
  {
   "cell_type": "markdown",
   "id": "f1457401-faf2-4dbb-a944-6943818ed3f0",
   "metadata": {
    "id": "f1457401-faf2-4dbb-a944-6943818ed3f0"
   },
   "source": [
    "Assuming that the loan approval for a certain amount depends only on income, we are wondering an individual with an income of \\$47000 will qualify for the loan.<br>\n",
    "We want given the following data from other customers."
   ]
  },
  {
   "cell_type": "markdown",
   "id": "d2f3e3c7-5c0f-408f-8695-b91d6645942d",
   "metadata": {
    "id": "d2f3e3c7-5c0f-408f-8695-b91d6645942d"
   },
   "source": [
    "<br> __Remark: we are not splitting datasets into train/test for this simple example. But in real life examples we always do.__\n",
    "\n",
    "  <br>"
   ]
  },
  {
   "cell_type": "code",
   "execution_count": 1,
   "id": "6eab11ad-470e-40ad-a278-65d482e69e03",
   "metadata": {
    "id": "6eab11ad-470e-40ad-a278-65d482e69e03"
   },
   "outputs": [],
   "source": [
    "import numpy as np\n",
    "import pandas as pd\n",
    "import matplotlib.pyplot as plt, seaborn as sns\n",
    "%matplotlib inline\n",
    "import sklearn\n",
    "from sklearn.linear_model import LinearRegression, LogisticRegression\n",
    "from sklearn.preprocessing import StandardScaler\n",
    "import tabulate"
   ]
  },
  {
   "cell_type": "code",
   "execution_count": 2,
   "id": "3e381671-15fa-4d6a-9922-8710b693a28b",
   "metadata": {
    "id": "3e381671-15fa-4d6a-9922-8710b693a28b"
   },
   "outputs": [],
   "source": [
    "income = np.array([1000, 5000, 10000, 11000, 12000, 10000, 10000, 1000, 15000, 20000, 20000, 25000, 27000, 30000, 31000, 32000, 35000,\n",
    "                  40000, 50000, 55000, 63000, 70000, 75000, 80000, 90000, 85000, 90000, 100000, 110000, 111000, 100000, 120000, 130000, 150000, 200000])\n",
    "loan_status = np.array(['Not approved', 'Not approved','Not approved','Not approved','Not approved','Not approved','Not approved','Not approved','Not approved','Not approved','Not approved','Not approved','Not approved','Not approved','Not approved','Not approved','Not approved','Not approved','Not approved','Not approved','Approved','Approved','Approved','Approved','Approved','Approved','Approved','Approved','Approved','Approved','Approved','Approved','Approved','Approved','Approved'])\n"
   ]
  },
  {
   "cell_type": "code",
   "execution_count": 3,
   "id": "72c530b7-a967-4cef-beb6-6d6859ee73c0",
   "metadata": {
    "id": "72c530b7-a967-4cef-beb6-6d6859ee73c0"
   },
   "outputs": [
    {
     "data": {
      "text/html": [
       "<div>\n",
       "<style scoped>\n",
       "    .dataframe tbody tr th:only-of-type {\n",
       "        vertical-align: middle;\n",
       "    }\n",
       "\n",
       "    .dataframe tbody tr th {\n",
       "        vertical-align: top;\n",
       "    }\n",
       "\n",
       "    .dataframe thead th {\n",
       "        text-align: right;\n",
       "    }\n",
       "</style>\n",
       "<table border=\"1\" class=\"dataframe\">\n",
       "  <thead>\n",
       "    <tr style=\"text-align: right;\">\n",
       "      <th></th>\n",
       "      <th>Income</th>\n",
       "      <th>Loan status</th>\n",
       "    </tr>\n",
       "  </thead>\n",
       "  <tbody>\n",
       "    <tr>\n",
       "      <th>13</th>\n",
       "      <td>30000</td>\n",
       "      <td>Not approved</td>\n",
       "    </tr>\n",
       "    <tr>\n",
       "      <th>28</th>\n",
       "      <td>110000</td>\n",
       "      <td>Approved</td>\n",
       "    </tr>\n",
       "  </tbody>\n",
       "</table>\n",
       "</div>"
      ],
      "text/plain": [
       "    Income   Loan status\n",
       "13   30000  Not approved\n",
       "28  110000      Approved"
      ]
     },
     "execution_count": 3,
     "metadata": {},
     "output_type": "execute_result"
    }
   ],
   "source": [
    "df = pd.DataFrame({'Income':income,'Loan status':loan_status})\n",
    "df.sample(2)"
   ]
  },
  {
   "cell_type": "code",
   "execution_count": 4,
   "id": "66aa9749",
   "metadata": {},
   "outputs": [],
   "source": [
    "# Scale the income using STandardScaler\n",
    "scaler = StandardScaler()\n",
    "\n",
    "def sigmoid(income):\n",
    "    return 1 / (1 + np.exp(-income))"
   ]
  },
  {
   "cell_type": "markdown",
   "id": "90f4d974-3561-4a99-9fc0-f74ab7431cbc",
   "metadata": {
    "id": "90f4d974-3561-4a99-9fc0-f74ab7431cbc"
   },
   "source": [
    "<br> __Map \"Approved\" to 1 and \"Not approved\" to 0.__"
   ]
  },
  {
   "cell_type": "code",
   "execution_count": 5,
   "id": "38abc62e-2f63-4782-8fcc-5a7744011b2f",
   "metadata": {
    "id": "38abc62e-2f63-4782-8fcc-5a7744011b2f"
   },
   "outputs": [
    {
     "data": {
      "text/html": [
       "<div>\n",
       "<style scoped>\n",
       "    .dataframe tbody tr th:only-of-type {\n",
       "        vertical-align: middle;\n",
       "    }\n",
       "\n",
       "    .dataframe tbody tr th {\n",
       "        vertical-align: top;\n",
       "    }\n",
       "\n",
       "    .dataframe thead th {\n",
       "        text-align: right;\n",
       "    }\n",
       "</style>\n",
       "<table border=\"1\" class=\"dataframe\">\n",
       "  <thead>\n",
       "    <tr style=\"text-align: right;\">\n",
       "      <th></th>\n",
       "      <th>Income</th>\n",
       "      <th>Loan status</th>\n",
       "    </tr>\n",
       "  </thead>\n",
       "  <tbody>\n",
       "    <tr>\n",
       "      <th>0</th>\n",
       "      <td>1000</td>\n",
       "      <td>0</td>\n",
       "    </tr>\n",
       "    <tr>\n",
       "      <th>1</th>\n",
       "      <td>5000</td>\n",
       "      <td>0</td>\n",
       "    </tr>\n",
       "  </tbody>\n",
       "</table>\n",
       "</div>"
      ],
      "text/plain": [
       "   Income  Loan status\n",
       "0    1000            0\n",
       "1    5000            0"
      ]
     },
     "execution_count": 5,
     "metadata": {},
     "output_type": "execute_result"
    }
   ],
   "source": [
    "df['Loan status']=df['Loan status'].map({'Approved':1,'Not approved': 0})\n",
    "df.head(2)"
   ]
  },
  {
   "cell_type": "code",
   "execution_count": 6,
   "id": "bdd376b5",
   "metadata": {},
   "outputs": [],
   "source": [
    "scaled_income = scaler.fit_transform(df['Income'].values.reshape(-1, 1))\n",
    "scaled_income_sigmoid = sigmoid(scaled_income)"
   ]
  },
  {
   "cell_type": "code",
   "execution_count": 7,
   "id": "2c8a1aa4",
   "metadata": {},
   "outputs": [
    {
     "data": {
      "text/plain": [
       "(np.float64(-1.1764112672276685), np.float64(2.9639143902966927))"
      ]
     },
     "execution_count": 7,
     "metadata": {},
     "output_type": "execute_result"
    }
   ],
   "source": [
    "scaled_income.min(),scaled_income.max()"
   ]
  },
  {
   "cell_type": "code",
   "execution_count": 8,
   "id": "26f58d98-5dc9-4bd6-a3bd-aeb4b76e73e6",
   "metadata": {
    "id": "26f58d98-5dc9-4bd6-a3bd-aeb4b76e73e6"
   },
   "outputs": [
    {
     "data": {
      "image/png": "[encoded data removed]",
      "text/plain": [
       "<Figure size 900x600 with 1 Axes>"
      ]
     },
     "metadata": {},
     "output_type": "display_data"
    }
   ],
   "source": [
    "plt.figure(figsize=(9,6))\n",
    "plt.scatter(x=df['Income'],y=df['Loan status'])\n",
    "plt.vlines(x=47000,ymax=1,ymin=0,colors='r',linestyles='--')\n",
    "plt.hlines(y=0.5,xmin=0,xmax=200_000,colors='g',linestyles='--')\n",
    "# PLot a sigmoid curve\n",
    "plt.plot(income, scaled_income_sigmoid, label='Sigmoid Curve', color='blue')\n",
    "plt.xlim(0,200_000)\n",
    "plt.xlabel('Income')\n",
    "plt.xlabel('Loan status')\n",
    "plt.grid(True)\n",
    "plt.show()"
   ]
  },
  {
   "cell_type": "markdown",
   "id": "f21660e5-3090-4b7a-bdfa-2d588f6a88b6",
   "metadata": {
    "id": "f21660e5-3090-4b7a-bdfa-2d588f6a88b6"
   },
   "source": [
    "<br> __Run linear regression__"
   ]
  },
  {
   "cell_type": "code",
   "execution_count": 9,
   "id": "8870a076-dcc1-4084-907e-7720b4368238",
   "metadata": {
    "id": "8870a076-dcc1-4084-907e-7720b4368238"
   },
   "outputs": [],
   "source": [
    "X = df[['Income']]\n",
    "Y = df['Loan status']"
   ]
  },
  {
   "cell_type": "code",
   "execution_count": 10,
   "id": "8b8ad7bd",
   "metadata": {},
   "outputs": [
    {
     "data": {
      "text/plain": [
       "0    0\n",
       "1    0\n",
       "2    0\n",
       "Name: Loan status, dtype: int64"
      ]
     },
     "execution_count": 10,
     "metadata": {},
     "output_type": "execute_result"
    }
   ],
   "source": [
    "Y[:3]"
   ]
  },
  {
   "cell_type": "code",
   "execution_count": 11,
   "id": "fa96253c-7196-4baf-a5ee-4fe9bb5eda6c",
   "metadata": {
    "id": "fa96253c-7196-4baf-a5ee-4fe9bb5eda6c"
   },
   "outputs": [],
   "source": [
    "myreg = LinearRegression().fit(X,Y)"
   ]
  },
  {
   "cell_type": "code",
   "execution_count": 12,
   "id": "6b3bdd73-ac36-49fc-a1f0-0930742609b4",
   "metadata": {
    "id": "6b3bdd73-ac36-49fc-a1f0-0930742609b4"
   },
   "outputs": [
    {
     "name": "stdout",
     "output_type": "stream",
     "text": [
      "-0.07733309210103229 8.791786605529359e-06\n"
     ]
    }
   ],
   "source": [
    "print(myreg.intercept_,myreg.coef_[0])"
   ]
  },
  {
   "cell_type": "code",
   "execution_count": 13,
   "id": "77284ed1-1b5c-4159-a802-4c7a37da0068",
   "metadata": {
    "id": "77284ed1-1b5c-4159-a802-4c7a37da0068"
   },
   "outputs": [
    {
     "data": {
      "image/png": "[encoded data removed]",
      "text/plain": [
       "<Figure size 900x600 with 1 Axes>"
      ]
     },
     "metadata": {},
     "output_type": "display_data"
    }
   ],
   "source": [
    "plt.figure(figsize=(9,6))\n",
    "plt.scatter(x=df['Income'],y=df['Loan status'])\n",
    "xcoord = np.linspace(0,110000,num=2)\n",
    "plt.plot(xcoord,myreg.intercept_+myreg.coef_[0]*xcoord,color='r')\n",
    "plt.xlabel('Income')\n",
    "plt.xlabel('Loan status')\n",
    "plt.show()"
   ]
  },
  {
   "cell_type": "markdown",
   "id": "176db417-a130-4f16-bbf4-2b9e4dcfed22",
   "metadata": {
    "id": "176db417-a130-4f16-bbf4-2b9e4dcfed22"
   },
   "source": [
    "__Not good!__"
   ]
  },
  {
   "cell_type": "markdown",
   "id": "381c2c54-d49a-41fb-9554-3b2ea82a7c5b",
   "metadata": {
    "id": "381c2c54-d49a-41fb-9554-3b2ea82a7c5b"
   },
   "source": [
    "Instead of linear fit $y = \\theta_1x + \\theta_0$, we use a logistic fit, $y = f(\\theta_1x + \\theta_0)$, where $f$ is the logistic function:\n",
    "<div align=\"left\">\n",
    "\n",
    "$$f(z) = \\frac{1}{1+e^{-z}}$$\n",
    "\n",
    "So we seek $\\theta_0$ and $\\theta_1$ such that the following graph best fits our data points:\n",
    "$$ y = \\frac{1}{1+e^{-(\\theta_1x + \\theta_0)}}\\ .$$\n",
    "\n",
    "\n",
    "__Simple logistic regression:__ <br>\n",
    "Defining $n$ as the number of samples and the error as\n",
    "$$e_i = y_i - \\frac{1}{1+e^{-(\\theta_1x_i + \\theta_0)}}\\ ,$$\n",
    "we seek $\\theta_0$ and $\\theta_1$ such that $SSE = \\sum_{i=1}^{n}e_i^2$ is minimum.<br>\n",
    "\n",
    "$SSE = \\sum_{i=1}^{n}e_i^2$ is called the cost function."
   ]
  },
  {
   "cell_type": "code",
   "execution_count": 14,
   "id": "5948172b-1d9d-4e19-9bb6-1b9f43f54987",
   "metadata": {
    "id": "5948172b-1d9d-4e19-9bb6-1b9f43f54987"
   },
   "outputs": [
    {
     "data": {
      "image/png": "[encoded data removed]",
      "text/plain": [
       "<Figure size 640x480 with 1 Axes>"
      ]
     },
     "metadata": {},
     "output_type": "display_data"
    }
   ],
   "source": [
    "xcoord2 = np.linspace(-20, 20, 100)\n",
    "plt.plot(xcoord2, sigmoid(xcoord2),color='r')\n",
    "plt.grid(True)\n",
    "plt.show()\n"
   ]
  },
  {
   "cell_type": "code",
   "execution_count": 15,
   "id": "37b9d9aa-516e-4b8b-87c9-3b32af08f51b",
   "metadata": {
    "id": "37b9d9aa-516e-4b8b-87c9-3b32af08f51b"
   },
   "outputs": [
    {
     "data": {
      "text/plain": [
       "(array([-0.25612452]), array([[2.57475533]]))"
      ]
     },
     "execution_count": 15,
     "metadata": {},
     "output_type": "execute_result"
    }
   ],
   "source": [
    "my_logistic = LogisticRegression().fit(scaled_income, df['Loan status'])\n",
    "my_logistic.intercept_,my_logistic.coef_"
   ]
  },
  {
   "cell_type": "code",
   "execution_count": 16,
   "id": "e7a7b67c-1528-4409-b4a4-f92dc1c95d1d",
   "metadata": {
    "id": "e7a7b67c-1528-4409-b4a4-f92dc1c95d1d"
   },
   "outputs": [
    {
     "data": {
      "text/plain": [
       "array([0, 0, 0, 0, 0, 0, 0, 0, 0, 0, 0, 0, 0, 0, 0, 0, 0, 0, 0, 0, 1, 1,\n",
       "       1, 1, 1, 1, 1, 1, 1, 1, 1, 1, 1, 1, 1])"
      ]
     },
     "execution_count": 16,
     "metadata": {},
     "output_type": "execute_result"
    }
   ],
   "source": [
    "predictions = my_logistic.predict(scaled_income)\n",
    "predictions"
   ]
  },
  {
   "cell_type": "code",
   "execution_count": 17,
   "id": "fc9bc070-e438-40b6-beb1-e3b330e98d4f",
   "metadata": {
    "id": "fc9bc070-e438-40b6-beb1-e3b330e98d4f"
   },
   "outputs": [
    {
     "data": {
      "text/plain": [
       "np.int64(35)"
      ]
     },
     "execution_count": 17,
     "metadata": {},
     "output_type": "execute_result"
    }
   ],
   "source": [
    "(predictions == df['Loan status']).sum()"
   ]
  },
  {
   "cell_type": "code",
   "execution_count": 18,
   "id": "11ee2333-e284-4da2-8af2-97490bba6089",
   "metadata": {
    "id": "11ee2333-e284-4da2-8af2-97490bba6089"
   },
   "outputs": [
    {
     "data": {
      "image/png": "[encoded data removed]",
      "text/plain": [
       "<Figure size 900x600 with 1 Axes>"
      ]
     },
     "metadata": {},
     "output_type": "display_data"
    }
   ],
   "source": [
    "plt.figure(figsize=(9,6))\n",
    "plt.scatter(x=scaled_income, y=df['Loan status'])\n",
    "xcoord = np.linspace(-3,3,num=200)\n",
    "plt.plot(xcoord, sigmoid(my_logistic.intercept_ +\n",
    "         my_logistic.coef_[0]*xcoord), color='r')\n",
    "plt.vlines(x=0,ymax=1,ymin=0,colors='g',linestyles='--')\n",
    "plt.xlabel('Income')\n",
    "plt.xlabel('Loan status')\n",
    "plt.grid(True)\n",
    "plt.show()"
   ]
  },
  {
   "cell_type": "markdown",
   "id": "640771ec-7e24-4fa8-a8c3-ae747b6081ae",
   "metadata": {
    "id": "640771ec-7e24-4fa8-a8c3-ae747b6081ae"
   },
   "source": [
    "For prediction, compute the value on the curve and choose a criterion: if vluae<0.5, \"not approved. If value >= 0.5, \"Approved\"."
   ]
  },
  {
   "cell_type": "code",
   "execution_count": 19,
   "id": "564d1013-f0f6-4526-9be5-ff63d90a701b",
   "metadata": {
    "id": "564d1013-f0f6-4526-9be5-ff63d90a701b"
   },
   "outputs": [],
   "source": [
    "X_test = [[10000]]\n",
    "X_test_scaled = scaler.transform(X_test)\n"
   ]
  },
  {
   "cell_type": "code",
   "execution_count": 20,
   "id": "96474c0f-33e1-40d6-80b9-37674b8d0f42",
   "metadata": {
    "id": "96474c0f-33e1-40d6-80b9-37674b8d0f42"
   },
   "outputs": [
    {
     "name": "stdout",
     "output_type": "stream",
     "text": [
      "Prediction:  [0]\n",
      "Probability:  [[0.94283613 0.05716387]]\n"
     ]
    }
   ],
   "source": [
    "print(\"Prediction: \", my_logistic.predict(X_test_scaled))\n",
    "print(\"Probability: \", my_logistic.predict_proba(X_test_scaled))"
   ]
  },
  {
   "cell_type": "code",
   "execution_count": 21,
   "id": "d0c397fe-5571-4140-9a41-6653f838c5f4",
   "metadata": {
    "id": "d0c397fe-5571-4140-9a41-6653f838c5f4"
   },
   "outputs": [
    {
     "name": "stdout",
     "output_type": "stream",
     "text": [
      "Prediction:  [0 0 0 1 1 1]\n",
      "+----+------------+-----------+---------+----------+\n",
      "|    |    class-0 |   class-1 |   total |   Income |\n",
      "+====+============+===========+=========+==========+\n",
      "|  0 | 0.942836   | 0.0571639 |       1 |    10000 |\n",
      "+----+------------+-----------+---------+----------+\n",
      "|  1 | 0.90613    | 0.0938697 |       1 |    20000 |\n",
      "+----+------------+-----------+---------+----------+\n",
      "|  2 | 0.659303   | 0.340697  |       1 |    50000 |\n",
      "+----+------------+-----------+---------+----------+\n",
      "|  3 | 0.117297   | 0.882703  |       1 |   100000 |\n",
      "+----+------------+-----------+---------+----------+\n",
      "|  4 | 0.00904232 | 0.990958  |       1 |   150000 |\n",
      "+----+------------+-----------+---------+----------+\n",
      "|  5 | 0.00062619 | 0.999374  |       1 |   200000 |\n",
      "+----+------------+-----------+---------+----------+\n"
     ]
    }
   ],
   "source": [
    "# Creates an array with [1-value of the curve, value of the curve]\n",
    "# ie: [Probability that loan_status = 0, Probability that loan_status = 1]\n",
    "test_data = np.array([[10_000, 20_000, 50_000, 100_000, 150_000, 200_000]]).reshape(-1, 1)\n",
    "test_data_scaled = scaler.transform(test_data)\n",
    "print(\"Prediction: \", my_logistic.predict(test_data_scaled))\n",
    "probabilities = my_logistic.predict_proba(test_data_scaled)\n",
    "probabilities_df = pd.DataFrame(probabilities, columns=[\"class-0\", \"class-1\"])\n",
    "probabilities_df[\"class-0\"] = probabilities[:, 0]\n",
    "probabilities_df[\"class-1\"] = probabilities[:, 1]\n",
    "probabilities_df[\"total\"] = probabilities_df[\"class-0\"] + probabilities_df[\"class-1\"]\n",
    "probabilities_df[\"Income\"] = test_data.flatten()\n",
    "print(tabulate.tabulate(probabilities_df, headers=[\"class-0\", \"class-1\", \"total\", \"Income\"], tablefmt=\"grid\"))"
   ]
  },
  {
   "cell_type": "markdown",
   "id": "zsidA1B7YYX5",
   "metadata": {
    "id": "zsidA1B7YYX5"
   },
   "source": [
    "# Logictic regression with multiple features"
   ]
  },
  {
   "cell_type": "markdown",
   "id": "6b22e4f3-2512-4659-8341-ec5ea3142197",
   "metadata": {
    "id": "6b22e4f3-2512-4659-8341-ec5ea3142197"
   },
   "source": [
    "__Multiple logistic regression:__\n",
    "\n",
    "Defining $n$ as the number of samples and \"p\" as the number of features, we seek $p$ parameters $\\theta_0,\\theta^1,...,\\theta^p$ such that the following graph best fits our data points:\n",
    "$$ y = \\frac{1}{1+e^{-(\\theta^0 + \\theta_1x^1 + \\theta_2x^2 + ... + \\theta_px^p)}}\\ .$$"
   ]
  },
  {
   "cell_type": "markdown",
   "id": "edcb4c59-76bf-46de-9d50-6fe3926221d2",
   "metadata": {
    "id": "edcb4c59-76bf-46de-9d50-6fe3926221d2"
   },
   "source": [
    "__Simple logistic regression:__ <br>\n",
    "Defining $n$ as the number of samples, \"p\" as the number of features and the error as\n",
    "$$e_i = y_i - \\frac{1}{1+e^{-(\\theta^0 + \\theta_1x_i^1 + \\theta_2x_i^2 + ... + \\theta_px_i^p)}}\\ ,$$\n",
    "\n",
    "we seek $p$ parameters $\\theta^0,\\theta^1,...,\\theta^p$ such that $SSE = \\sum_{i=1}^{n}e_i^2$ is minimum.<br>\n",
    "<br>\n",
    "$SSE = \\sum_{i=1}^{n}e_i^2$ is called the cost function. Note that there are other types of cost functions, such as the logloss."
   ]
  },
  {
   "cell_type": "code",
   "execution_count": 22,
   "id": "mufrBsC3XQr-",
   "metadata": {
    "id": "mufrBsC3XQr-"
   },
   "outputs": [
    {
     "data": {
      "text/html": [
       "<div>\n",
       "<style scoped>\n",
       "    .dataframe tbody tr th:only-of-type {\n",
       "        vertical-align: middle;\n",
       "    }\n",
       "\n",
       "    .dataframe tbody tr th {\n",
       "        vertical-align: top;\n",
       "    }\n",
       "\n",
       "    .dataframe thead th {\n",
       "        text-align: right;\n",
       "    }\n",
       "</style>\n",
       "<table border=\"1\" class=\"dataframe\">\n",
       "  <thead>\n",
       "    <tr style=\"text-align: right;\">\n",
       "      <th></th>\n",
       "      <th>sepal length (cm)</th>\n",
       "      <th>sepal width (cm)</th>\n",
       "      <th>petal length (cm)</th>\n",
       "      <th>petal width (cm)</th>\n",
       "      <th>species</th>\n",
       "    </tr>\n",
       "  </thead>\n",
       "  <tbody>\n",
       "    <tr>\n",
       "      <th>50</th>\n",
       "      <td>7.0</td>\n",
       "      <td>3.2</td>\n",
       "      <td>4.7</td>\n",
       "      <td>1.4</td>\n",
       "      <td>1</td>\n",
       "    </tr>\n",
       "    <tr>\n",
       "      <th>51</th>\n",
       "      <td>6.4</td>\n",
       "      <td>3.2</td>\n",
       "      <td>4.5</td>\n",
       "      <td>1.5</td>\n",
       "      <td>1</td>\n",
       "    </tr>\n",
       "    <tr>\n",
       "      <th>52</th>\n",
       "      <td>6.9</td>\n",
       "      <td>3.1</td>\n",
       "      <td>4.9</td>\n",
       "      <td>1.5</td>\n",
       "      <td>1</td>\n",
       "    </tr>\n",
       "    <tr>\n",
       "      <th>53</th>\n",
       "      <td>5.5</td>\n",
       "      <td>2.3</td>\n",
       "      <td>4.0</td>\n",
       "      <td>1.3</td>\n",
       "      <td>1</td>\n",
       "    </tr>\n",
       "    <tr>\n",
       "      <th>54</th>\n",
       "      <td>6.5</td>\n",
       "      <td>2.8</td>\n",
       "      <td>4.6</td>\n",
       "      <td>1.5</td>\n",
       "      <td>1</td>\n",
       "    </tr>\n",
       "  </tbody>\n",
       "</table>\n",
       "</div>"
      ],
      "text/plain": [
       "    sepal length (cm)  sepal width (cm)  petal length (cm)  petal width (cm)  \\\n",
       "50                7.0               3.2                4.7               1.4   \n",
       "51                6.4               3.2                4.5               1.5   \n",
       "52                6.9               3.1                4.9               1.5   \n",
       "53                5.5               2.3                4.0               1.3   \n",
       "54                6.5               2.8                4.6               1.5   \n",
       "\n",
       "    species  \n",
       "50        1  \n",
       "51        1  \n",
       "52        1  \n",
       "53        1  \n",
       "54        1  "
      ]
     },
     "execution_count": 22,
     "metadata": {},
     "output_type": "execute_result"
    }
   ],
   "source": [
    "from sklearn.datasets import load_iris\n",
    "\n",
    "# Load the iris dataset\n",
    "iris = load_iris()\n",
    "df=pd.DataFrame(iris.data,columns=iris.feature_names)\n",
    "df[\"species\"] = iris.target\n",
    "df = df[df[\"species\"]>0]\n",
    "df.head()"
   ]
  },
  {
   "cell_type": "code",
   "execution_count": 23,
   "id": "suq1vdPYXQ37",
   "metadata": {
    "id": "suq1vdPYXQ37"
   },
   "outputs": [
    {
     "name": "stdout",
     "output_type": "stream",
     "text": [
      "Possible classes:  [1 2]\n"
     ]
    }
   ],
   "source": [
    "species_unique = df[\"species\"].unique()\n",
    "print(\"Possible classes: \", species_unique)"
   ]
  },
  {
   "cell_type": "code",
   "execution_count": 24,
   "id": "YzcOugSTXnVW",
   "metadata": {
    "id": "YzcOugSTXnVW"
   },
   "outputs": [
    {
     "data": {
      "text/plain": [
       "(100, 5)"
      ]
     },
     "execution_count": 24,
     "metadata": {},
     "output_type": "execute_result"
    }
   ],
   "source": [
    "df.shape"
   ]
  },
  {
   "cell_type": "code",
   "execution_count": 25,
   "id": "UhVbYrM1XnYC",
   "metadata": {
    "id": "UhVbYrM1XnYC"
   },
   "outputs": [],
   "source": [
    "X=df.drop(columns=[\"species\"])\n",
    "Y=df[\"species\"]"
   ]
  },
  {
   "cell_type": "code",
   "execution_count": 26,
   "id": "FHokmOkfXnap",
   "metadata": {
    "id": "FHokmOkfXnap"
   },
   "outputs": [
    {
     "data": {
      "text/html": [
       "<div>\n",
       "<style scoped>\n",
       "    .dataframe tbody tr th:only-of-type {\n",
       "        vertical-align: middle;\n",
       "    }\n",
       "\n",
       "    .dataframe tbody tr th {\n",
       "        vertical-align: top;\n",
       "    }\n",
       "\n",
       "    .dataframe thead th {\n",
       "        text-align: right;\n",
       "    }\n",
       "</style>\n",
       "<table border=\"1\" class=\"dataframe\">\n",
       "  <thead>\n",
       "    <tr style=\"text-align: right;\">\n",
       "      <th></th>\n",
       "      <th>sepal length (cm)</th>\n",
       "      <th>sepal width (cm)</th>\n",
       "      <th>petal length (cm)</th>\n",
       "      <th>petal width (cm)</th>\n",
       "    </tr>\n",
       "  </thead>\n",
       "  <tbody>\n",
       "    <tr>\n",
       "      <th>50</th>\n",
       "      <td>7.0</td>\n",
       "      <td>3.2</td>\n",
       "      <td>4.7</td>\n",
       "      <td>1.4</td>\n",
       "    </tr>\n",
       "    <tr>\n",
       "      <th>51</th>\n",
       "      <td>6.4</td>\n",
       "      <td>3.2</td>\n",
       "      <td>4.5</td>\n",
       "      <td>1.5</td>\n",
       "    </tr>\n",
       "    <tr>\n",
       "      <th>52</th>\n",
       "      <td>6.9</td>\n",
       "      <td>3.1</td>\n",
       "      <td>4.9</td>\n",
       "      <td>1.5</td>\n",
       "    </tr>\n",
       "    <tr>\n",
       "      <th>53</th>\n",
       "      <td>5.5</td>\n",
       "      <td>2.3</td>\n",
       "      <td>4.0</td>\n",
       "      <td>1.3</td>\n",
       "    </tr>\n",
       "    <tr>\n",
       "      <th>54</th>\n",
       "      <td>6.5</td>\n",
       "      <td>2.8</td>\n",
       "      <td>4.6</td>\n",
       "      <td>1.5</td>\n",
       "    </tr>\n",
       "  </tbody>\n",
       "</table>\n",
       "</div>"
      ],
      "text/plain": [
       "    sepal length (cm)  sepal width (cm)  petal length (cm)  petal width (cm)\n",
       "50                7.0               3.2                4.7               1.4\n",
       "51                6.4               3.2                4.5               1.5\n",
       "52                6.9               3.1                4.9               1.5\n",
       "53                5.5               2.3                4.0               1.3\n",
       "54                6.5               2.8                4.6               1.5"
      ]
     },
     "execution_count": 26,
     "metadata": {},
     "output_type": "execute_result"
    }
   ],
   "source": [
    "X.head()"
   ]
  },
  {
   "cell_type": "code",
   "execution_count": 27,
   "id": "-2AbKynwXnda",
   "metadata": {
    "id": "-2AbKynwXnda"
   },
   "outputs": [
    {
     "data": {
      "text/plain": [
       "50    1\n",
       "51    1\n",
       "52    1\n",
       "53    1\n",
       "54    1\n",
       "Name: species, dtype: int64"
      ]
     },
     "execution_count": 27,
     "metadata": {},
     "output_type": "execute_result"
    }
   ],
   "source": [
    "Y.head()"
   ]
  },
  {
   "cell_type": "code",
   "execution_count": 28,
   "id": "9w1Q6gMJXnf0",
   "metadata": {
    "id": "9w1Q6gMJXnf0"
   },
   "outputs": [],
   "source": [
    "# Standardize X\n",
    "from sklearn.preprocessing import StandardScaler\n",
    "sc = StandardScaler()\n",
    "Xsc = sc.fit_transform(X)"
   ]
  },
  {
   "cell_type": "code",
   "execution_count": 29,
   "id": "D3toid-CXQ6t",
   "metadata": {
    "id": "D3toid-CXQ6t"
   },
   "outputs": [],
   "source": [
    "from sklearn.model_selection import train_test_split\n",
    "X_train, X_test, Y_train, Y_test = train_test_split(Xsc, Y, test_size=0.3, random_state=42)"
   ]
  },
  {
   "cell_type": "code",
   "execution_count": 30,
   "id": "YpqLmS0qXQ9a",
   "metadata": {
    "id": "YpqLmS0qXQ9a"
   },
   "outputs": [
    {
     "data": {
      "text/plain": [
       "array([[-0.54889074,  0.38660992, -0.8594661 , -0.41643072],\n",
       "       [-0.09400891,  0.08457092, -0.73772869, -0.88964745]])"
      ]
     },
     "execution_count": 30,
     "metadata": {},
     "output_type": "execute_result"
    }
   ],
   "source": [
    "X_train[:2]"
   ]
  },
  {
   "cell_type": "code",
   "execution_count": 31,
   "id": "c2N8AU_8X25z",
   "metadata": {
    "id": "c2N8AU_8X25z"
   },
   "outputs": [],
   "source": [
    "# Declare logistic regression, Fit the model in train and test data\n",
    "lr= LogisticRegression().fit(X_train,Y_train)"
   ]
  },
  {
   "cell_type": "code",
   "execution_count": 32,
   "id": "326f48cf",
   "metadata": {},
   "outputs": [
    {
     "name": "stdout",
     "output_type": "stream",
     "text": [
      "Test accuracy: 0.90, Train accuracy: 0.99\n",
      "Intercept: [0.04455178], Coefficients: [[-0.14 -0.76  2.1   2.1 ]]\n"
     ]
    }
   ],
   "source": [
    "# lr.score calls `predict` and then applies `score`\n",
    "test_score = lr.score(X_test, Y_test)\n",
    "train_score = lr.score(X_train, Y_train)\n",
    "print(f\"Test accuracy: {test_score:.2f}, Train accuracy: {train_score:.2f}\")\n",
    "print(f\"Intercept: {lr.intercept_}, Coefficients: {lr.coef_.round(2)}\")"
   ]
  },
  {
   "cell_type": "markdown",
   "id": "724c120e",
   "metadata": {},
   "source": [
    "__Remark:__ There are 27 out of 30 predictions accurate, The accuracy is $$ 27/30 = 90\\%$$"
   ]
  },
  {
   "cell_type": "code",
   "execution_count": 33,
   "id": "31920966",
   "metadata": {},
   "outputs": [
    {
     "name": "stdout",
     "output_type": "stream",
     "text": [
      "Intercept: [0.04455178], Coefficients: [[-0.14178799 -0.76300506  2.09629087  2.09562986]]\n"
     ]
    }
   ],
   "source": [
    "print(f\"Intercept: {lr.intercept_}, Coefficients: {lr.coef_}\")"
   ]
  }
 ],
 "metadata": {
  "colab": {
   "provenance": []
  },
  "kernelspec": {
   "display_name": ".venv",
   "language": "python",
   "name": "python3"
  },
  "language_info": {
   "codemirror_mode": {
    "name": "ipython",
    "version": 3
   },
   "file_extension": ".py",
   "mimetype": "text/x-python",
   "name": "python",
   "nbconvert_exporter": "python",
   "pygments_lexer": "ipython3",
   "version": "3.12.10"
  }
 },
 "nbformat": 4,
 "nbformat_minor": 5
}
